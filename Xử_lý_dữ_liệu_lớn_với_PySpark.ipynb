{
  "nbformat": 4,
  "nbformat_minor": 0,
  "metadata": {
    "colab": {
      "name": "Xử lý dữ liệu lớn với PySpark.ipynb",
      "version": "0.3.2",
      "provenance": [],
      "include_colab_link": true
    },
    "kernelspec": {
      "name": "python3",
      "display_name": "Python 3"
    }
  },
  "cells": [
    {
      "cell_type": "markdown",
      "metadata": {
        "id": "view-in-github",
        "colab_type": "text"
      },
      "source": [
        "<a href=\"https://colab.research.google.com/github/vuduclyunitn/learning_python/blob/master/X%E1%BB%AD_l%C3%BD_d%E1%BB%AF_li%E1%BB%87u_l%E1%BB%9Bn_v%E1%BB%9Bi_PySpark.ipynb\" target=\"_parent\"><img src=\"https://colab.research.google.com/assets/colab-badge.svg\" alt=\"Open In Colab\"/></a>"
      ]
    },
    {
      "cell_type": "code",
      "metadata": {
        "id": "eBWmuhDcuTAd",
        "colab_type": "code",
        "colab": {}
      },
      "source": [
        ""
      ],
      "execution_count": 0,
      "outputs": []
    },
    {
      "cell_type": "markdown",
      "metadata": {
        "id": "rNvnoKSMuZRa",
        "colab_type": "text"
      },
      "source": [
        "# Dịch và bổ sung từ https://realpython.com/pyspark-intro/"
      ]
    },
    {
      "cell_type": "code",
      "metadata": {
        "id": "D5IyXda3uczK",
        "colab_type": "code",
        "colab": {}
      },
      "source": [
        ""
      ],
      "execution_count": 0,
      "outputs": []
    }
  ]
}