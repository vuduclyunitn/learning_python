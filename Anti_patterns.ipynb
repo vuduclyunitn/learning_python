{
  "nbformat": 4,
  "nbformat_minor": 0,
  "metadata": {
    "colab": {
      "name": "Anti-patterns.ipynb",
      "version": "0.3.2",
      "provenance": [],
      "include_colab_link": true
    },
    "kernelspec": {
      "name": "python3",
      "display_name": "Python 3"
    }
  },
  "cells": [
    {
      "cell_type": "markdown",
      "metadata": {
        "id": "view-in-github",
        "colab_type": "text"
      },
      "source": [
        "<a href=\"https://colab.research.google.com/github/vuduclyunitn/learning_python/blob/master/Anti_patterns.ipynb\" target=\"_parent\"><img src=\"https://colab.research.google.com/assets/colab-badge.svg\" alt=\"Open In Colab\"/></a>"
      ]
    },
    {
      "cell_type": "markdown",
      "metadata": {
        "id": "Rwl5sSRG0kHj",
        "colab_type": "text"
      },
      "source": [
        "#Dịch lại từ https://docs.quantifiedcode.com/python-anti-patterns/index.html"
      ]
    },
    {
      "cell_type": "markdown",
      "metadata": {
        "id": "7dDAALIkyxg5",
        "colab_type": "text"
      },
      "source": [
        "# 1. Truy cập vào phần tử được bảo vệ của một lớp từ bên ngoài"
      ]
    },
    {
      "cell_type": "code",
      "metadata": {
        "id": "Tw_4q0KYzGBE",
        "colab_type": "code",
        "outputId": "f2e57a12-0214-4d46-a83d-eb5d6c4fc883",
        "colab": {
          "base_uri": "https://localhost:8080/",
          "height": 34
        }
      },
      "source": [
        "class Rectangle(object):\n",
        "  def __init__(self, width, height):\n",
        "    self._width = width\n",
        "    self._height = height\n",
        "\n",
        "r = Rectangle(5, 6)\n",
        "# Truy cập trực tiếp vào phần tử được bảo vệ\n",
        "print(\"Width: {:d}\".format(r._width))"
      ],
      "execution_count": 0,
      "outputs": [
        {
          "output_type": "stream",
          "text": [
            "Width: 5\n"
          ],
          "name": "stdout"
        }
      ]
    },
    {
      "cell_type": "markdown",
      "metadata": {
        "id": "pyPaOwPFyvCs",
        "colab_type": "text"
      },
      "source": [
        "## Cách thực hiện tốt nhất đó là:\n",
        "Nếu bạn chắc chắn bạn cần truy cập tới một phần tử được bảo vệ của một lớp\n",
        "\n",
        "*   Chắc chắn rằng việc truy cập phần tử đó từ bên ngoài lớp bên ngoài này sẽ không gây ra các tác dụng phụ không mong muốn\n",
        "*   Tối ưu lớp này tốt hơn thông qua việc tạo ra các giao tiếp chung/công cộng để phía bên ngoài có thể truy cập vào được.\n",
        "\n"
      ]
    },
    {
      "cell_type": "markdown",
      "metadata": {
        "id": "KoMEIlbZ0p__",
        "colab_type": "text"
      },
      "source": [
        "#2. Gán một biểu diễn lambda cho một biến\n",
        "Lợi điểm của `lambda` so với `def` đó là lambda có thể được nhúm một cách ẩn danh trong một biểu diễn lớn hơn. Nếu bạn dự định gán một \"tên\" (name) cho một lambda, tốt hơn hết là bạn nên định nghĩa nó với `def`."
      ]
    },
    {
      "cell_type": "code",
      "metadata": {
        "id": "XRL1g74V055Q",
        "colab_type": "code",
        "colab": {
          "base_uri": "https://localhost:8080/",
          "height": 34
        },
        "outputId": "66d0d308-1c98-4187-8a98-35c1e287d0df"
      },
      "source": [
        "def f(x): return 2*x\n",
        "f"
      ],
      "execution_count": 7,
      "outputs": [
        {
          "output_type": "execute_result",
          "data": {
            "text/plain": [
              "<function __main__.f>"
            ]
          },
          "metadata": {
            "tags": []
          },
          "execution_count": 7
        }
      ]
    },
    {
      "cell_type": "code",
      "metadata": {
        "id": "QpadEbzj2kNR",
        "colab_type": "code",
        "colab": {
          "base_uri": "https://localhost:8080/",
          "height": 34
        },
        "outputId": "42306b76-b016-47ea-b697-b5fe58aabcee"
      },
      "source": [
        "f = lambda x: 2*x\n",
        "f"
      ],
      "execution_count": 8,
      "outputs": [
        {
          "output_type": "execute_result",
          "data": {
            "text/plain": [
              "<function __main__.<lambda>>"
            ]
          },
          "metadata": {
            "tags": []
          },
          "execution_count": 8
        }
      ]
    },
    {
      "cell_type": "markdown",
      "metadata": {
        "id": "u3RvDLg82y1_",
        "colab_type": "text"
      },
      "source": [
        "Ở ví dụ trên ta thấy tên của hàm là *f* thay vì là *lambda*. Điều này hữu ích khi ta muốn truy tìm lỗi trong khi debug và các biểu diễn chuỗi nói chung. Việc sử dụng phép gán cho lambda cũng loại bỏ đi lợi thế của nó so với def (ví dụ như nó có thể được gán nhúng trong một biểu diễn lớn hơn)\n"
      ]
    },
    {
      "cell_type": "markdown",
      "metadata": {
        "id": "8TTyjuqp3s6o",
        "colab_type": "text"
      },
      "source": [
        "## Cách thực hiện tốt nhât\n",
        "Cấu trúc lại biểu diễn lamda có tên sử dụng def"
      ]
    },
    {
      "cell_type": "markdown",
      "metadata": {
        "id": "-a80X8ma4Mmb",
        "colab_type": "text"
      },
      "source": [
        "#3. Gán cho một hàm có sẵn (built-in)\n",
        "Python có rất nhiều hàm có sẵn, luôn luôn có thể truy cập được từ trình thông dịch (interpreter). Nếu bạn không có lý do nào đặc biệt, đừng bao giờ nên viết đè (overwrite) hay gán một giá trị lên một biến có tên giống với các hàm có sẵn này. Ghi đè lên một hàm có sẵn có thể tạo ra các tác dụng phụ không mong muốn hoặc các lỗi runtime. Các lập trình viên Python thường sử dụng hàm có sẵn, nếu cư xử của các hàm này thay đổi sẽ gây khó khăn cho việc tìm ra lỗi thực sự."
      ]
    },
    {
      "cell_type": "markdown",
      "metadata": {
        "id": "zaGzzSy05mcz",
        "colab_type": "text"
      },
      "source": [
        "## Code không nên viết\n",
        "Trong đoạn code dưới đây hàm có sẵn \n",
        "```list```  bị ghi đè lên. Điều này làm cho ta không thể sử dụng hàm ```list``` để khởi tạo một danh sách mới nữa. Đoạn code dưới đây chỉ có 2 dòng nên ta có thể thấy và sửa nhưng khi chương trình viết lớn hơn sẽ khó để phát hiện các lỗi này.\n",
        "\n",
        "\n"
      ]
    },
    {
      "cell_type": "code",
      "metadata": {
        "id": "CzrpZUHD5l3B",
        "colab_type": "code",
        "colab": {}
      },
      "source": [
        "# Ghi đè lên hàm có sẵn list thông qua việc gán các giá trị tới một biến gọi là list\n",
        "list = [1, 2, 3]\n"
      ],
      "execution_count": 0,
      "outputs": []
    },
    {
      "cell_type": "code",
      "metadata": {
        "id": "bEpouFl53rkZ",
        "colab_type": "code",
        "colab": {
          "base_uri": "https://localhost:8080/",
          "height": 162
        },
        "outputId": "259d5920-42c9-4683-cecc-7bbbe539ad0c"
      },
      "source": [
        "# Lỗi đối tượng 'list' không thể gọi được\n",
        "a = list()"
      ],
      "execution_count": 12,
      "outputs": [
        {
          "output_type": "error",
          "ename": "TypeError",
          "evalue": "ignored",
          "traceback": [
            "\u001b[0;31m---------------------------------------------------------------------------\u001b[0m",
            "\u001b[0;31mTypeError\u001b[0m                                 Traceback (most recent call last)",
            "\u001b[0;32m<ipython-input-12-8b49cb3ef928>\u001b[0m in \u001b[0;36m<module>\u001b[0;34m()\u001b[0m\n\u001b[0;32m----> 1\u001b[0;31m \u001b[0ma\u001b[0m \u001b[0;34m=\u001b[0m \u001b[0mlist\u001b[0m\u001b[0;34m(\u001b[0m\u001b[0;34m)\u001b[0m\u001b[0;34m\u001b[0m\u001b[0;34m\u001b[0m\u001b[0m\n\u001b[0m",
            "\u001b[0;31mTypeError\u001b[0m: 'list' object is not callable"
          ]
        }
      ]
    },
    {
      "cell_type": "markdown",
      "metadata": {
        "id": "MPl1_kRg6-fG",
        "colab_type": "text"
      },
      "source": [
        "## Cách thực hành tốt nhất\n",
        "Nếu bạn không có một lý do nào đặc biệt tránh đặt tên cho các biến trùng với tên các hàm có sẵn."
      ]
    },
    {
      "cell_type": "code",
      "metadata": {
        "id": "LrEgi93t7QKR",
        "colab_type": "code",
        "colab": {}
      },
      "source": [
        "numbers = [1, 2, 3]\n",
        "cars = list()"
      ],
      "execution_count": 0,
      "outputs": []
    }
  ]
}