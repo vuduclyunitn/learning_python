{
  "nbformat": 4,
  "nbformat_minor": 0,
  "metadata": {
    "colab": {
      "name": "Anti-patterns.ipynb",
      "version": "0.3.2",
      "provenance": [],
      "include_colab_link": true
    },
    "kernelspec": {
      "name": "python3",
      "display_name": "Python 3"
    }
  },
  "cells": [
    {
      "cell_type": "markdown",
      "metadata": {
        "id": "view-in-github",
        "colab_type": "text"
      },
      "source": [
        "<a href=\"https://colab.research.google.com/github/vuduclyunitn/learning_python/blob/master/Anti_patterns.ipynb\" target=\"_parent\"><img src=\"https://colab.research.google.com/assets/colab-badge.svg\" alt=\"Open In Colab\"/></a>"
      ]
    },
    {
      "cell_type": "markdown",
      "metadata": {
        "id": "Rwl5sSRG0kHj",
        "colab_type": "text"
      },
      "source": [
        "#Dịch lại từ https://docs.quantifiedcode.com/python-anti-patterns/index.html"
      ]
    },
    {
      "cell_type": "markdown",
      "metadata": {
        "id": "7dDAALIkyxg5",
        "colab_type": "text"
      },
      "source": [
        "# 1. Truy cập vào phần tử được bảo vệ của một lớp từ bên ngoài"
      ]
    },
    {
      "cell_type": "code",
      "metadata": {
        "id": "Tw_4q0KYzGBE",
        "colab_type": "code",
        "outputId": "f2e57a12-0214-4d46-a83d-eb5d6c4fc883",
        "colab": {
          "base_uri": "https://localhost:8080/",
          "height": 34
        }
      },
      "source": [
        "class Rectangle(object):\n",
        "  def __init__(self, width, height):\n",
        "    self._width = width\n",
        "    self._height = height\n",
        "\n",
        "r = Rectangle(5, 6)\n",
        "# Truy cập trực tiếp vào phần tử được bảo vệ\n",
        "print(\"Width: {:d}\".format(r._width))"
      ],
      "execution_count": 0,
      "outputs": [
        {
          "output_type": "stream",
          "text": [
            "Width: 5\n"
          ],
          "name": "stdout"
        }
      ]
    },
    {
      "cell_type": "markdown",
      "metadata": {
        "id": "pyPaOwPFyvCs",
        "colab_type": "text"
      },
      "source": [
        "## Cách thực hiện tốt nhất đó là:\n",
        "Nếu bạn chắc chắn bạn cần truy cập tới một phần tử được bảo vệ của một lớp\n",
        "\n",
        "*   Chắc chắn rằng việc truy cập phần tử đó từ bên ngoài lớp bên ngoài này sẽ không gây ra các tác dụng phụ không mong muốn\n",
        "*   Tối ưu lớp này tốt hơn thông qua việc tạo ra các giao tiếp chung/công cộng để phía bên ngoài có thể truy cập vào được.\n",
        "\n"
      ]
    },
    {
      "cell_type": "markdown",
      "metadata": {
        "id": "KoMEIlbZ0p__",
        "colab_type": "text"
      },
      "source": [
        "#2. Gán một biểu diễn lambda cho một biến\n",
        "Lợi điểm của `lambda` so với `def` đó là lambda có thể được nhúm một cách ẩn danh trong một biểu diễn lớn hơn. Nếu bạn dự định gán một \"tên\" (name) cho một lambda, tốt hơn hết là bạn nên định nghĩa nó với `def`."
      ]
    },
    {
      "cell_type": "code",
      "metadata": {
        "id": "XRL1g74V055Q",
        "colab_type": "code",
        "outputId": "66d0d308-1c98-4187-8a98-35c1e287d0df",
        "colab": {
          "base_uri": "https://localhost:8080/",
          "height": 34
        }
      },
      "source": [
        "def f(x): return 2*x\n",
        "f"
      ],
      "execution_count": 0,
      "outputs": [
        {
          "output_type": "execute_result",
          "data": {
            "text/plain": [
              "<function __main__.f>"
            ]
          },
          "metadata": {
            "tags": []
          },
          "execution_count": 7
        }
      ]
    },
    {
      "cell_type": "code",
      "metadata": {
        "id": "QpadEbzj2kNR",
        "colab_type": "code",
        "outputId": "42306b76-b016-47ea-b697-b5fe58aabcee",
        "colab": {
          "base_uri": "https://localhost:8080/",
          "height": 34
        }
      },
      "source": [
        "f = lambda x: 2*x\n",
        "f"
      ],
      "execution_count": 0,
      "outputs": [
        {
          "output_type": "execute_result",
          "data": {
            "text/plain": [
              "<function __main__.<lambda>>"
            ]
          },
          "metadata": {
            "tags": []
          },
          "execution_count": 8
        }
      ]
    },
    {
      "cell_type": "markdown",
      "metadata": {
        "id": "u3RvDLg82y1_",
        "colab_type": "text"
      },
      "source": [
        "Ở ví dụ trên ta thấy tên của hàm là *f* thay vì là *lambda*. Điều này hữu ích khi ta muốn truy tìm lỗi trong khi debug và các biểu diễn chuỗi nói chung. Việc sử dụng phép gán cho lambda cũng loại bỏ đi lợi thế của nó so với def (ví dụ như nó có thể được gán nhúng trong một biểu diễn lớn hơn)\n"
      ]
    },
    {
      "cell_type": "markdown",
      "metadata": {
        "id": "8TTyjuqp3s6o",
        "colab_type": "text"
      },
      "source": [
        "## Cách thực hiện tốt nhât\n",
        "Cấu trúc lại biểu diễn lamda có tên sử dụng def"
      ]
    },
    {
      "cell_type": "markdown",
      "metadata": {
        "id": "-a80X8ma4Mmb",
        "colab_type": "text"
      },
      "source": [
        "#3. Gán cho một hàm có sẵn (built-in)\n",
        "Python có rất nhiều hàm có sẵn, luôn luôn có thể truy cập được từ trình thông dịch (interpreter). Nếu bạn không có lý do nào đặc biệt, đừng bao giờ nên viết đè (overwrite) hay gán một giá trị lên một biến có tên giống với các hàm có sẵn này. Ghi đè lên một hàm có sẵn có thể tạo ra các tác dụng phụ không mong muốn hoặc các lỗi runtime. Các lập trình viên Python thường sử dụng hàm có sẵn, nếu cư xử của các hàm này thay đổi sẽ gây khó khăn cho việc tìm ra lỗi thực sự."
      ]
    },
    {
      "cell_type": "markdown",
      "metadata": {
        "id": "zaGzzSy05mcz",
        "colab_type": "text"
      },
      "source": [
        "## Code không nên viết\n",
        "Trong đoạn code dưới đây hàm có sẵn \n",
        "```list```  bị ghi đè lên. Điều này làm cho ta không thể sử dụng hàm ```list``` để khởi tạo một danh sách mới nữa. Đoạn code dưới đây chỉ có 2 dòng nên ta có thể thấy và sửa nhưng khi chương trình viết lớn hơn sẽ khó để phát hiện các lỗi này.\n",
        "\n",
        "\n"
      ]
    },
    {
      "cell_type": "code",
      "metadata": {
        "id": "CzrpZUHD5l3B",
        "colab_type": "code",
        "colab": {}
      },
      "source": [
        "# Ghi đè lên hàm có sẵn list thông qua việc gán các giá trị tới một biến gọi là list\n",
        "list = [1, 2, 3]\n"
      ],
      "execution_count": 0,
      "outputs": []
    },
    {
      "cell_type": "code",
      "metadata": {
        "id": "bEpouFl53rkZ",
        "colab_type": "code",
        "outputId": "259d5920-42c9-4683-cecc-7bbbe539ad0c",
        "colab": {
          "base_uri": "https://localhost:8080/",
          "height": 162
        }
      },
      "source": [
        "# Lỗi đối tượng 'list' không thể gọi được\n",
        "a = list()"
      ],
      "execution_count": 0,
      "outputs": [
        {
          "output_type": "error",
          "ename": "TypeError",
          "evalue": "ignored",
          "traceback": [
            "\u001b[0;31m---------------------------------------------------------------------------\u001b[0m",
            "\u001b[0;31mTypeError\u001b[0m                                 Traceback (most recent call last)",
            "\u001b[0;32m<ipython-input-12-8b49cb3ef928>\u001b[0m in \u001b[0;36m<module>\u001b[0;34m()\u001b[0m\n\u001b[0;32m----> 1\u001b[0;31m \u001b[0ma\u001b[0m \u001b[0;34m=\u001b[0m \u001b[0mlist\u001b[0m\u001b[0;34m(\u001b[0m\u001b[0;34m)\u001b[0m\u001b[0;34m\u001b[0m\u001b[0;34m\u001b[0m\u001b[0m\n\u001b[0m",
            "\u001b[0;31mTypeError\u001b[0m: 'list' object is not callable"
          ]
        }
      ]
    },
    {
      "cell_type": "markdown",
      "metadata": {
        "id": "MPl1_kRg6-fG",
        "colab_type": "text"
      },
      "source": [
        "## Cách thực hành tốt nhất\n",
        "Nếu bạn không có một lý do nào đặc biệt tránh đặt tên cho các biến trùng với tên các hàm có sẵn."
      ]
    },
    {
      "cell_type": "code",
      "metadata": {
        "id": "LrEgi93t7QKR",
        "colab_type": "code",
        "colab": {}
      },
      "source": [
        "numbers = [1, 2, 3]\n",
        "cars = list()"
      ],
      "execution_count": 0,
      "outputs": []
    },
    {
      "cell_type": "markdown",
      "metadata": {
        "id": "OKGqPyWA1aGd",
        "colab_type": "text"
      },
      "source": [
        "#4. Thứ tự câu ngoại lệ không tốt\n",
        "\n",
        "Khi một ngoại lệ xảy ra trong chương trình, Python sẽ tìm kiếm câu ngoại lệ đầu tiên khớp với kiểu ngoại lệ xảy ra. Không quan trọng là câu ngoại lệ này có khớp **chính xác** với kiểu ngoại lệ xảy ra hay không. Nếu câu ngoại lệ ở trên biểu diễn một lớp cơ sở (lớp mà các lớp khác dựa trên hay mở rộng trên đó) của ngoại lệ xảy ra, khi đó Python sẽ xem như câu ngoại lệ đó trùng khớp. Ví dụ nếu một ngoại lệ \n",
        "\n",
        "```ZeroDivisionError``` (ngoại lệ xảy ra khi ta chia một số cho số 0) xảy ra và câu ngoại lệ đầu tiên đó là \n",
        "\n",
        "```Exception```, khi đó câu ngoại lệ ```Exception``` sẽ được thực thi bởi vì ```ZeroDivisionError``` là một lớp con (sub class) của ```Exception``. Vì thế đối với các lớp con, các câu ngoại lệ cụ thể hơn cho chúng nên được **đặt trước** các câu ngoại lệ dành cho các lớp cơ sở để đảm bảo việc xử lý ngoại lệ có tính chi tiết và hữu ích nhất có thể\n",
        "\n",
        "\n",
        "\n",
        "\n"
      ]
    },
    {
      "cell_type": "markdown",
      "metadata": {
        "id": "nNNa38L739-7",
        "colab_type": "text"
      },
      "source": [
        "## Code không nên viết\n",
        "Đoạn code phía đây chia một số cho 0 và gây ra một lỗi ```ZeroDivisionError```. Phía dưới có một câu ngoại lệ cho kiểu lỗi này, nó giúp ta tìm ra nguyên nhân thực sự của vấn đề. Tuy nhiên, câu ngoại lệ ```ZeroDivisionError``` không thể nào được thực thi bởi vì có câu ngoại lệ  \n",
        "\n",
        "```Exception``` đặt phía trước nó. Khi Python gặp một ngoại lệ, nó sẽ kiểm tra một cách tuyến tính (tuần tự) và thực thi câu ngoại lệ đầu mà khớp với ngoại lệ được sinh ra. Việc so khớp này không nhất thiết phải là giống 100%. Miễn là ngoại lệ được sinh ra là một lớp con của câu ngoại lệ được liệt kê, Python sẽ thực thi câu ngoại lệ đó và sẽ bỏ qua tất cả các ngoại lệ khác. Điều này không tuân thủ theo mục tiêu của các câu ngoại lệ, nơi ta dùng nó để nhận diện và xử lý các ngoại lệ với sự chính xác nhất có thể.\n",
        "\n",
        "\n"
      ]
    },
    {
      "cell_type": "code",
      "metadata": {
        "id": "Uw0OHs3Q1ZWB",
        "colab_type": "code",
        "outputId": "9112ac3c-c10f-4c5c-b0b7-ec61a4aea9f1",
        "colab": {
          "base_uri": "https://localhost:8080/",
          "height": 34
        }
      },
      "source": [
        "try:\n",
        "  5/0\n",
        "except Exception as e:\n",
        "  print(\"Exception\")\n",
        "# Code không bao giờ được thực thi (unreachable code)\n",
        "except ZeroDivisionError as e:\n",
        "  print(\"Zero Division Error\")"
      ],
      "execution_count": 0,
      "outputs": [
        {
          "output_type": "stream",
          "text": [
            "Exception\n"
          ],
          "name": "stdout"
        }
      ]
    },
    {
      "cell_type": "markdown",
      "metadata": {
        "id": "NdoOGmXe6OXV",
        "colab_type": "text"
      },
      "source": [
        "## Cách thực hiện tốt hơn\n",
        "Chuyển mệnh đề ngoại lệ của lớp con lên trước mệnh đề ngoại lệ của lớp cơ sở. Đoạn code dưới đây đặt mệnh đề ngoại lệ ```ZeroDivisionError``` lên trước mệnh đề ngoại lệ cơ sở  ```Exception```. Khi có một lỗi xảy ra khi chia một số cho số 0 ngoại lệ ```ZeroDivisionError``` sẽ thực thi, giúp cho đoạn mã tối ưu hơn bởi vì nó đưa ra kết quả cụ thể hơn"
      ]
    },
    {
      "cell_type": "code",
      "metadata": {
        "id": "Zb81VxW4_NH7",
        "colab_type": "code",
        "outputId": "8058fbe3-2eb6-4ba4-e0a4-dbddb3ec949b",
        "colab": {
          "base_uri": "https://localhost:8080/",
          "height": 34
        }
      },
      "source": [
        "try:\n",
        "  5/0\n",
        "except ZeroDivisionError as e:\n",
        "  print(\"ZeroDivisionError\")\n",
        "except Exception as e:\n",
        "  print(\"Exception\")"
      ],
      "execution_count": 0,
      "outputs": [
        {
          "output_type": "stream",
          "text": [
            "ZeroDivisionError\n"
          ],
          "name": "stdout"
        }
      ]
    },
    {
      "cell_type": "markdown",
      "metadata": {
        "id": "-nBXjzt5AsiC",
        "colab_type": "text"
      },
      "source": [
        "#5. Truyền một tham số không tốt vào phương thức ```super()```\n",
        "\n",
        "Phương thức ```super()``` cho phép ta truy cập tới các phương thức (methods) và các thành viên (members) của một lớp cha mà không phải chỉ tới lớp cha qua tên gọi. Trong trường hợp thừa kế đơn tham số đầu tiên truyền vào phương thức ```super()``` nên là tên của lớp con hiện tại, lớp gọi phương thức ```super()```, và tham số thứ hai nên là ```self``` (đây là một tham chiếu tới đối tượng hiện hành gọi ```super()```)\n",
        "\n",
        "**Chú ý**: Anti-pattern này chỉ áp dụng đối với các phiên bản Python 2.x, đối với Python 3.x hãy xem ở phần cuối trang để biết cách gọi phương thức ```super()``` đúng trong Python 3.x"
      ]
    },
    {
      "cell_type": "markdown",
      "metadata": {
        "id": "tnbnB9WKChft",
        "colab_type": "text"
      },
      "source": [
        "## Anti-pattern\n",
        "Python khởi lên một lỗi ```TypeError``` khi cố gắng thực thi một lời gọi tới phương thức ```super()``` dưới đây. Tham số đầu tiên nên là tên của lớp con, lớp đang gọi ```super()```. Trong đoạn code dưới đây, tác giả đã sai khi cho ```self``` là tham số đầu tiên"
      ]
    },
    {
      "cell_type": "code",
      "metadata": {
        "id": "u-h0_gQ5Cgm6",
        "colab_type": "code",
        "outputId": "a5bdb33c-e896-4c0b-87f2-4884112b57d3",
        "colab": {
          "base_uri": "https://localhost:8080/",
          "height": 330
        }
      },
      "source": [
        "class Rectangle(object):\n",
        "  def __init__(self, width, height):\n",
        "    self.width = width\n",
        "    self.height = height\n",
        "    self.area = width * height\n",
        "    \n",
        "class Square(Rectangle):\n",
        "  def __init__(self, length):\n",
        "    # Tham số đầu không tốt được truyền vào super()\n",
        "    super(self, Square).__init__(length, length)\n",
        "    \n",
        "s = Square(5)\n",
        "print(s.area) # dòng code này không được thực thi"
      ],
      "execution_count": 0,
      "outputs": [
        {
          "output_type": "error",
          "ename": "TypeError",
          "evalue": "ignored",
          "traceback": [
            "\u001b[0;31m---------------------------------------------------------------------------\u001b[0m",
            "\u001b[0;31mTypeError\u001b[0m                                 Traceback (most recent call last)",
            "\u001b[0;32m<ipython-input-2-ff3e7805813c>\u001b[0m in \u001b[0;36m<module>\u001b[0;34m()\u001b[0m\n\u001b[1;32m     10\u001b[0m     \u001b[0msuper\u001b[0m\u001b[0;34m(\u001b[0m\u001b[0mself\u001b[0m\u001b[0;34m,\u001b[0m \u001b[0mSquare\u001b[0m\u001b[0;34m)\u001b[0m\u001b[0;34m.\u001b[0m\u001b[0m__init__\u001b[0m\u001b[0;34m(\u001b[0m\u001b[0mlength\u001b[0m\u001b[0;34m,\u001b[0m \u001b[0mlength\u001b[0m\u001b[0;34m)\u001b[0m\u001b[0;34m\u001b[0m\u001b[0;34m\u001b[0m\u001b[0m\n\u001b[1;32m     11\u001b[0m \u001b[0;34m\u001b[0m\u001b[0m\n\u001b[0;32m---> 12\u001b[0;31m \u001b[0ms\u001b[0m \u001b[0;34m=\u001b[0m \u001b[0mSquare\u001b[0m\u001b[0;34m(\u001b[0m\u001b[0;36m5\u001b[0m\u001b[0;34m)\u001b[0m\u001b[0;34m\u001b[0m\u001b[0;34m\u001b[0m\u001b[0m\n\u001b[0m\u001b[1;32m     13\u001b[0m \u001b[0mprint\u001b[0m\u001b[0;34m(\u001b[0m\u001b[0ms\u001b[0m\u001b[0;34m.\u001b[0m\u001b[0marea\u001b[0m\u001b[0;34m)\u001b[0m \u001b[0;31m# dòng code này không được thực thi\u001b[0m\u001b[0;34m\u001b[0m\u001b[0;34m\u001b[0m\u001b[0m\n",
            "\u001b[0;32m<ipython-input-2-ff3e7805813c>\u001b[0m in \u001b[0;36m__init__\u001b[0;34m(self, length)\u001b[0m\n\u001b[1;32m      8\u001b[0m   \u001b[0;32mdef\u001b[0m \u001b[0m__init__\u001b[0m\u001b[0;34m(\u001b[0m\u001b[0mself\u001b[0m\u001b[0;34m,\u001b[0m \u001b[0mlength\u001b[0m\u001b[0;34m)\u001b[0m\u001b[0;34m:\u001b[0m\u001b[0;34m\u001b[0m\u001b[0;34m\u001b[0m\u001b[0m\n\u001b[1;32m      9\u001b[0m     \u001b[0;31m# Tham số đầu không tốt được truyền vào super()\u001b[0m\u001b[0;34m\u001b[0m\u001b[0;34m\u001b[0m\u001b[0;34m\u001b[0m\u001b[0m\n\u001b[0;32m---> 10\u001b[0;31m     \u001b[0msuper\u001b[0m\u001b[0;34m(\u001b[0m\u001b[0mself\u001b[0m\u001b[0;34m,\u001b[0m \u001b[0mSquare\u001b[0m\u001b[0;34m)\u001b[0m\u001b[0;34m.\u001b[0m\u001b[0m__init__\u001b[0m\u001b[0;34m(\u001b[0m\u001b[0mlength\u001b[0m\u001b[0;34m,\u001b[0m \u001b[0mlength\u001b[0m\u001b[0;34m)\u001b[0m\u001b[0;34m\u001b[0m\u001b[0;34m\u001b[0m\u001b[0m\n\u001b[0m\u001b[1;32m     11\u001b[0m \u001b[0;34m\u001b[0m\u001b[0m\n\u001b[1;32m     12\u001b[0m \u001b[0ms\u001b[0m \u001b[0;34m=\u001b[0m \u001b[0mSquare\u001b[0m\u001b[0;34m(\u001b[0m\u001b[0;36m5\u001b[0m\u001b[0;34m)\u001b[0m\u001b[0;34m\u001b[0m\u001b[0;34m\u001b[0m\u001b[0m\n",
            "\u001b[0;31mTypeError\u001b[0m: super() argument 1 must be type, not Square"
          ]
        }
      ]
    },
    {
      "cell_type": "markdown",
      "metadata": {
        "id": "y4APpgKuEuWt",
        "colab_type": "text"
      },
      "source": [
        "## Cách thực hiện đúng\n",
        "Trong đoạn code tác giả sửa lại thứ tự các tham số truyền vào ```super()```. Tham số đầu tiên là tên của lớp con (lớp gọi ```super()```), tham số thứ 2 là ```self```"
      ]
    },
    {
      "cell_type": "code",
      "metadata": {
        "id": "z4FHXXfEEWbX",
        "colab_type": "code",
        "outputId": "288bd6fe-ff80-4d35-c58f-8502e7636423",
        "colab": {
          "base_uri": "https://localhost:8080/",
          "height": 34
        }
      },
      "source": [
        "class Rectangle(object):\n",
        "    def __init__(self, width, height):\n",
        "        self.width = width\n",
        "        self.height = height\n",
        "        self.area = width * height\n",
        "\n",
        "class Square(Rectangle):\n",
        "    def __init__(self, length):\n",
        "        # super() thực thi đúng khi thay đổi thứ tự tham số\n",
        "        super(Square, self).__init__(length, length)\n",
        "\n",
        "s = Square(5)\n",
        "print(s.area)  # 25"
      ],
      "execution_count": 0,
      "outputs": [
        {
          "output_type": "stream",
          "text": [
            "25\n"
          ],
          "name": "stdout"
        }
      ]
    },
    {
      "cell_type": "markdown",
      "metadata": {
        "id": "mc1QLvSTFWMJ",
        "colab_type": "text"
      },
      "source": [
        "## ```super()``` trong Python 3\n",
        "Trong Python 3.x ta không cần phải truyền vào bất cứ tham số nào cho hàm ```super()```. Đoạn code dưới đây miêu tả cách gọi đúng"
      ]
    },
    {
      "cell_type": "code",
      "metadata": {
        "id": "pXmKmJGAFohJ",
        "colab_type": "code",
        "outputId": "ff27b673-0bef-4162-d6b6-72d76cbffae2",
        "colab": {
          "base_uri": "https://localhost:8080/",
          "height": 34
        }
      },
      "source": [
        "class Rectangle(object):\n",
        "  def __init__(self, width, height):\n",
        "    self.width = width\n",
        "    self.height = height\n",
        "    self.area = width*height\n",
        "\n",
        "class Square(Rectangle):\n",
        "  def __init__(self, length):\n",
        "    # Đoạn code này tương tự với super(Square, self).__init__(length, lenght)\n",
        "    super().__init__(length, length)\n",
        "    \n",
        "s = Square(5)\n",
        "print(s.area)"
      ],
      "execution_count": 0,
      "outputs": [
        {
          "output_type": "stream",
          "text": [
            "25\n"
          ],
          "name": "stdout"
        }
      ]
    },
    {
      "cell_type": "markdown",
      "metadata": {
        "id": "QsFP66p7D1WL",
        "colab_type": "text"
      },
      "source": [
        "##6. Mệnh đề ```else``` nằm dưới một vòng lặp mà không có lệnh ```break```\n",
        "Mệnh đề ```else``` của một vòng lặp được thực thi khi chuỗi lặp trống rỗng. Khi trong vòng lặp không chỉ định một lệnh ```break```, mệnh đề ```else``` sẽ luôn được thực thi, bởi lý do chuỗi lặp sẽ luôn luôn trống rỗng. Thỉnh thoảng đó là một hành vi như ta mong đợi, bạn có thể lờ đi lỗi đó. Nhưng hầu hết nó là một hành vi không được mong chờ, do đó bạn nên đánh giá lại đoạn mã của mình."
      ]
    },
    {
      "cell_type": "markdown",
      "metadata": {
        "id": "x_MoPOMa_xYg",
        "colab_type": "text"
      },
      "source": [
        "### Code không nên viết\n",
        "Đoạn mã dưới đây cho ta thấy một hành vi có thể không được như mong đợi, đoạn code có một vòng lặp và một mệnh đề  ```else``` phía dưới, vòng lặp sẽ lặp qua một danh sách các số và so sánh với số ```magic_number```, ta muốn in ra thông điệp \"This list contains the magic number\" nếu ta tìm được một số giống với số magic, nếu không tìm được sau khi đã kiểm tra tất cả các phần tử của danh sách thì ta in ra \"This list does not contain the magic number\". \n",
        "\n",
        "Khi gọi hàm ```contains_magic_number``` với danh sách từ 1 đến 10 là một tham số, và số magic là 5, ta muốn nhận được kết quả chỉ là \"This list contains the magic number\"  nhưng vì không có lệnh ```break``` ở trong vòng lặp nên cả 2 thông điệp đều được đưa ra. Đó là bởi vì ```range(10)``` sẽ trở nên trống rỗng và mệnh đề ```else``` cuối cùng sẽ được thực hiện. "
      ]
    },
    {
      "cell_type": "code",
      "metadata": {
        "id": "YHMCRC_0ADGz",
        "colab_type": "code",
        "outputId": "9cc122ed-ee45-49d6-9a8a-82c9064f29e8",
        "colab": {
          "base_uri": "https://localhost:8080/",
          "height": 50
        }
      },
      "source": [
        "def contains_magic_number(list_, magic_number):\n",
        "  for i in list_:\n",
        "    if i == magic_number:\n",
        "      print(\"This list contains the magic number\")\n",
        "  else:\n",
        "    print(\"This list does not contain the magic number\")\n",
        "    \n",
        "contains_magic_number(range(10), 5)"
      ],
      "execution_count": 0,
      "outputs": [
        {
          "output_type": "stream",
          "text": [
            "This list contains the magic number\n",
            "This list does not contain the magic number\n"
          ],
          "name": "stdout"
        }
      ]
    },
    {
      "cell_type": "markdown",
      "metadata": {
        "id": "mJEajEt6C7TC",
        "colab_type": "text"
      },
      "source": [
        "## Cách thực hiện tốt nhất\n",
        "Nếu cần phải sử dụng mệnh đề ```else``` phía dưới vòng lặp, ta cần thêm vào lệnh ```break``` vào trong vòng lặp."
      ]
    },
    {
      "cell_type": "code",
      "metadata": {
        "id": "DCgs2b1X_wWW",
        "colab_type": "code",
        "outputId": "29e062c4-59bd-4a10-cc42-e7a1bd4a5beb",
        "colab": {
          "base_uri": "https://localhost:8080/",
          "height": 34
        }
      },
      "source": [
        "def contains_magic_number(list_, magic_number):\n",
        "  for i in list_:\n",
        "    if i == magic_number:\n",
        "      print(\"This list contains the magic number\")\n",
        "      # Thêm vào lệnh break, vì thế mệnh đề else phía dưới được bỏ qua\n",
        "      break\n",
        "  else:\n",
        "    print(\"This list does not contain the magic number\")\n",
        "    \n",
        "contains_magic_number(range(10), 5)"
      ],
      "execution_count": 0,
      "outputs": [
        {
          "output_type": "stream",
          "text": [
            "This list contains the magic number\n"
          ],
          "name": "stdout"
        }
      ]
    },
    {
      "cell_type": "markdown",
      "metadata": {
        "id": "x4Q16IQRD3EL",
        "colab_type": "text"
      },
      "source": [
        "##7. Sử dụng ```key in list``` để kiểm tra xem một (chìa) khoá có nằm trong một danh sách hay không\n",
        "\n",
        "Sử dụng ```key in list``` để lặp qua một danh sách để tìm một chìa khoá sẽ mất ```n``` lần lặp, ```n``` là số lượng các phần tử trong danh sách. Nếu được bạn nên thay đổi danh sách thành một tập (set) hay từ điển (dictionary), bởi vì Python có thể tìm kiếm các phần tử trong một tập hay từ điển bằng cách truy cập trực tiếp vào các khoá đó mà không phải lặp qua. "
      ]
    },
    {
      "cell_type": "markdown",
      "metadata": {
        "id": "ONKjERq2E_uz",
        "colab_type": "text"
      },
      "source": [
        "## Code không nên viết\n",
        "Đoạn code dưới đây định nghĩa một danh sách ```l``` để kiểm tra xem số 3 có nằm trong danh sách này hay không. Cách làm này không hiệu năng. Python lặp qua danh sách cho đến khi nó tìm thấy phần tử nó cần tìm hoặc khi tới cuối của danh sách."
      ]
    },
    {
      "cell_type": "code",
      "metadata": {
        "id": "1AIyFGOyFEUv",
        "colab_type": "code",
        "outputId": "86fe2281-dc4e-4ecb-fe46-308367ec6a1f",
        "colab": {
          "base_uri": "https://localhost:8080/",
          "height": 50
        }
      },
      "source": [
        "import time\n",
        "start_time = time.time()\n",
        "l = [1, 2, 3, 4]\n",
        "\n",
        "# lặp qua 3 phần tử trong một danh sách\n",
        "if 3 in l:\n",
        "  print(\"The number 3 is in the list\")\n",
        "else:\n",
        "  print(\"The number 3 is NOT in the list\")\n",
        "end_time = time.time()\n",
        "print(f\"Runtime: {end_time - start_time}\")"
      ],
      "execution_count": 0,
      "outputs": [
        {
          "output_type": "stream",
          "text": [
            "The number 3 is in the list\n",
            "Runtime: 0.0005900859832763672\n"
          ],
          "name": "stdout"
        }
      ]
    },
    {
      "cell_type": "markdown",
      "metadata": {
        "id": "GEUfo3s2F5mr",
        "colab_type": "text"
      },
      "source": [
        "## Cách thực hiện tốt hơn: Sử dụng một tập hay từ điển thay cho danh sách\n",
        "Trong đoạn code dưới đây thay vì dùng danh sách, ta dùng tệp hoặc từ điển. Cách làm này hiệu năng hơn rất nhiều bởi vì Python có thể truy cập trực tiếp tới con số mục tiêu trong danh sách thay vì việc phải lặp qua danh sách và so sánh mỗi phần tử trong danh sách với số mục tiêu.\n"
      ]
    },
    {
      "cell_type": "code",
      "metadata": {
        "id": "NZztwJIIDaCj",
        "colab_type": "code",
        "outputId": "4799a304-6085-497e-dcdb-a6085fb50e85",
        "colab": {
          "base_uri": "https://localhost:8080/",
          "height": 50
        }
      },
      "source": [
        "import time\n",
        "start_time = time.time()\n",
        "s = set([1, 2, 3, 4])\n",
        "\n",
        "# lặp qua 3 phần tử trong một danh sách\n",
        "if 3 in s:\n",
        "  print(\"The number 3 is in the list\")\n",
        "else:\n",
        "  print(\"The number 3 is NOT in the list\")\n",
        "end_time = time.time()\n",
        "print(f\"Runtime: {end_time - start_time}\")"
      ],
      "execution_count": 0,
      "outputs": [
        {
          "output_type": "stream",
          "text": [
            "The number 3 is in the list\n",
            "Runtime: 0.0004961490631103516\n"
          ],
          "name": "stdout"
        }
      ]
    },
    {
      "cell_type": "markdown",
      "metadata": {
        "id": "pLnFfP9NGhiV",
        "colab_type": "text"
      },
      "source": [
        "## Hãy thử với một danh sách lớn hơn để thấy sự khác biệt"
      ]
    },
    {
      "cell_type": "code",
      "metadata": {
        "id": "-VNLD5FfG8DC",
        "colab_type": "code",
        "colab": {}
      },
      "source": [
        "import random\n",
        "# Tạo một danh số gồm một triệu số nguyên ngẫu nhiên\n",
        "rand_list = random.sample(range(0, 1000000), 1000000)"
      ],
      "execution_count": 0,
      "outputs": []
    },
    {
      "cell_type": "code",
      "metadata": {
        "id": "rQEq04HRHyGU",
        "colab_type": "code",
        "outputId": "843fe9e1-6cff-47d8-f3f9-252d28a4256d",
        "colab": {
          "base_uri": "https://localhost:8080/",
          "height": 50
        }
      },
      "source": [
        "# Tìm số 3 trong danh sách này, sử dụng danh sách\n",
        "import time\n",
        "start_time = time.time()\n",
        "# lặp qua 3 phần tử trong một danh sách\n",
        "if 3 in rand_list:\n",
        "  print(\"The number 3 is in the list\")\n",
        "else:\n",
        "  print(\"The number 3 is NOT in the list\")\n",
        "end_time = time.time()\n",
        "print(f\"Runtime: {end_time - start_time}\")"
      ],
      "execution_count": 0,
      "outputs": [
        {
          "output_type": "stream",
          "text": [
            "The number 3 is in the list\n",
            "Runtime: 0.061206817626953125\n"
          ],
          "name": "stdout"
        }
      ]
    },
    {
      "cell_type": "code",
      "metadata": {
        "id": "0Bq_h9-vINaU",
        "colab_type": "code",
        "outputId": "6f18d735-b6ad-4099-eb5e-ba89c5f83fb6",
        "colab": {
          "base_uri": "https://localhost:8080/",
          "height": 50
        }
      },
      "source": [
        "# Tìm số 3 trong danh sách, sử dụng tập\n",
        "import time\n",
        "s = set(rand_list)\n",
        "start_time = time.time()\n",
        "\n",
        "# lặp qua 3 phần tử trong một danh sách\n",
        "if 3 in s:\n",
        "  print(\"The number 3 is in the list\")\n",
        "else:\n",
        "  print(\"The number 3 is NOT in the list\")\n",
        "end_time = time.time()\n",
        "print(f\"Runtime: {end_time - start_time}\")"
      ],
      "execution_count": 0,
      "outputs": [
        {
          "output_type": "stream",
          "text": [
            "The number 3 is in the list\n",
            "Runtime: 0.0009315013885498047\n"
          ],
          "name": "stdout"
        }
      ]
    },
    {
      "cell_type": "markdown",
      "metadata": {
        "id": "ez1jpOaANUPQ",
        "colab_type": "text"
      },
      "source": [
        "So sánh kết quả từ hai đoạn code phía trên ta thấy khi tìm kiếm trong một tập thì hiệu năng sẽ cải thiện hơn rất nhiều. Nhưng nếu ta đã có sẵn một danh sách rồi thì ta nên tìm kiếm trên chính danh sách đó chứ không nên chuyển qua tập rồi tìm kiếm điều đó sẽ làm việc tìm kiếm thậm chí còn lâu hơn."
      ]
    },
    {
      "cell_type": "code",
      "metadata": {
        "id": "fA8aV2U-N1dl",
        "colab_type": "code",
        "outputId": "df5eca91-adb2-4b00-eed3-4331d2de210a",
        "colab": {
          "base_uri": "https://localhost:8080/",
          "height": 50
        }
      },
      "source": [
        "# Tìm số 3 trong danh sách, sử dụng tập\n",
        "import time\n",
        "start_time = time.time()\n",
        "s = set(rand_list)\n",
        "# lặp qua 3 phần tử trong một danh sách\n",
        "if 3 in s:\n",
        "  print(\"The number 3 is in the list\")\n",
        "else:\n",
        "  print(\"The number 3 is NOT in the list\")\n",
        "end_time = time.time()\n",
        "print(f\"Runtime: {end_time - start_time}\")"
      ],
      "execution_count": 0,
      "outputs": [
        {
          "output_type": "stream",
          "text": [
            "The number 3 is in the list\n",
            "Runtime: 0.2518002986907959\n"
          ],
          "name": "stdout"
        }
      ]
    },
    {
      "cell_type": "markdown",
      "metadata": {
        "id": "rTpminpTi3a0",
        "colab_type": "text"
      },
      "source": [
        "##8. Dùng câu lệnh ```return``` trong phương thức khởi tạo ```__init__```\n",
        "```__init__``` là một phương thức đặc biệt trong Python, nó được gọi một cách tự động khi bộ nhớ được cấp phát cho một đối tượng mới. Vai trò chính của ```__init__``` là khởi tạo các giá trị của các thành viên của một hiện diện mới (instance members). Sử dụng ```__init__``` cho việc trả về một giá trị nào đó làm sai lệch đi mục đích chính là khởi tạo một đối tượng. Việc trả về giá trị nên được áp dụng cho các phương thức khác, sau phương thức khởi tạo\n"
      ]
    },
    {
      "cell_type": "markdown",
      "metadata": {
        "id": "aHvtIjUOkAhy",
        "colab_type": "text"
      },
      "source": [
        "### Code không nên viết\n",
        "Phương thức ```__init__``` của lớp ```Rectangle```  dưới đây cố gắng trả về giá trị của một thành viên của lớp. Thực hiện điều này vi phạm luật khi sử dụng phương thức ```__init__``` đó là chỉ dùng để khởi tạo. "
      ]
    },
    {
      "cell_type": "code",
      "metadata": {
        "id": "DhlK8eBKkGpY",
        "colab_type": "code",
        "colab": {}
      },
      "source": [
        "class Rectangle:\n",
        "  def __init__(self, width, height):\n",
        "    self.width = width\n",
        "    self.height = height\n",
        "    self.area = width * height\n",
        "    # Trả về một giá trị trong hàm khởi tạo __init__\n",
        "    return self.area"
      ],
      "execution_count": 0,
      "outputs": []
    },
    {
      "cell_type": "code",
      "metadata": {
        "id": "e7o5uMsmmeHC",
        "colab_type": "code",
        "outputId": "13d71f21-d529-40ad-befe-c12a7bed9572",
        "colab": {
          "base_uri": "https://localhost:8080/",
          "height": 162
        }
      },
      "source": [
        "rectange = Rectangle(3, 2)"
      ],
      "execution_count": 0,
      "outputs": [
        {
          "output_type": "error",
          "ename": "TypeError",
          "evalue": "ignored",
          "traceback": [
            "\u001b[0;31m---------------------------------------------------------------------------\u001b[0m",
            "\u001b[0;31mTypeError\u001b[0m                                 Traceback (most recent call last)",
            "\u001b[0;32m<ipython-input-7-3ce86035c863>\u001b[0m in \u001b[0;36m<module>\u001b[0;34m()\u001b[0m\n\u001b[0;32m----> 1\u001b[0;31m \u001b[0mrectange\u001b[0m \u001b[0;34m=\u001b[0m \u001b[0mRectangle\u001b[0m\u001b[0;34m(\u001b[0m\u001b[0;36m3\u001b[0m\u001b[0;34m,\u001b[0m \u001b[0;36m2\u001b[0m\u001b[0;34m)\u001b[0m\u001b[0;34m\u001b[0m\u001b[0;34m\u001b[0m\u001b[0m\n\u001b[0m",
            "\u001b[0;31mTypeError\u001b[0m: __init__() should return None, not 'int'"
          ]
        }
      ]
    },
    {
      "cell_type": "markdown",
      "metadata": {
        "id": "XQqM1DHgmjxt",
        "colab_type": "text"
      },
      "source": [
        "Với kết quả trên ta thấy rằng Python sẽ báo lỗi khi ta sử dụng câu lệnh ```return``` trong hàm khởi tạo."
      ]
    },
    {
      "cell_type": "markdown",
      "metadata": {
        "id": "pTbAlGV_kyda",
        "colab_type": "text"
      },
      "source": [
        "### Cách thực hiện tốt hơn\n",
        "Loại bỏ câu lệnh trả về một giá trị khỏi hàm khởi tạo ```__init__```. "
      ]
    },
    {
      "cell_type": "code",
      "metadata": {
        "id": "Mb-i-5LGj_ad",
        "colab_type": "code",
        "colab": {}
      },
      "source": [
        "class Rectangle:\n",
        "  def __init__(self, width, height):\n",
        "    self.width = width\n",
        "    self.height = height\n",
        "    self.area = width * height\n",
        "    "
      ],
      "execution_count": 0,
      "outputs": []
    },
    {
      "cell_type": "code",
      "metadata": {
        "id": "PhI1F-jem3nP",
        "colab_type": "code",
        "outputId": "49b707d3-a841-46eb-e8aa-7a077d46d3e8",
        "colab": {
          "base_uri": "https://localhost:8080/",
          "height": 34
        }
      },
      "source": [
        "rectangle = Rectangle(3, 2)\n",
        "rectangle.area"
      ],
      "execution_count": 0,
      "outputs": [
        {
          "output_type": "execute_result",
          "data": {
            "text/plain": [
              "6"
            ]
          },
          "metadata": {
            "tags": []
          },
          "execution_count": 18
        }
      ]
    },
    {
      "cell_type": "markdown",
      "metadata": {
        "id": "xrF6zppvm9DZ",
        "colab_type": "text"
      },
      "source": [
        "Ta thấy rằng sau khi loại bỏ dòng ```return``` ra khỏi phương thức khởi tạo, ta\n",
        "không bị lỗi như ở phía trên nữa. Tuy nhiên nếu ta thực sự muốn lấy giá trị của một thành viên,"
      ]
    },
    {
      "cell_type": "markdown",
      "metadata": {
        "id": "k2WC5bjilIFS",
        "colab_type": "text"
      },
      "source": [
        "### Di chuyển tính năng trả về giá trị sang một phương thức khác của lớp\n",
        "Khi mới khởi tạo, không có lý do gì mà ta phải trả về giá trị của một thành viên ngay lập tức cả. Nếu ta muốn trả về giá trị của một thành viên nào đó, ta có thể thực hiện việc này trong một phương thức riêng biệt với phương thức khởi tạo của lớp ```Rectangle```. Phương thức này thường được thực thi sau khi đối tượng được khởi tạo. "
      ]
    },
    {
      "cell_type": "code",
      "metadata": {
        "id": "2b0bfDJ8lHPW",
        "colab_type": "code",
        "colab": {}
      },
      "source": [
        "class Rectange(object):\n",
        "  def __init__(self, width, height):\n",
        "    self.width = width\n",
        "    self.height = height\n",
        "    # Dấu gạch chân \"_\" ở trước tên một biến ám chỉ rằng biến đó nên được sử dụng\n",
        "    # trong nội bộ lớp, không nên được truy cập trực tiếp từ hiện thực.\n",
        "    self._area = width * height\n",
        "    \n",
        "  @property\n",
        "  # Di chuyển dòng lệnh trả về giá trị sang một phương thức khác\n",
        "  def area(self):\n",
        "    print(\"Calculating area\")\n",
        "    return self._area"
      ],
      "execution_count": 0,
      "outputs": []
    },
    {
      "cell_type": "code",
      "metadata": {
        "id": "hHwztaDimaG5",
        "colab_type": "code",
        "outputId": "f1fc386a-50be-4051-be4f-15a0b0ff0741",
        "colab": {
          "base_uri": "https://localhost:8080/",
          "height": 34
        }
      },
      "source": [
        "rectangle = Rectangle(3, 2)\n",
        "rectangle.area"
      ],
      "execution_count": 0,
      "outputs": [
        {
          "output_type": "execute_result",
          "data": {
            "text/plain": [
              "6"
            ]
          },
          "metadata": {
            "tags": []
          },
          "execution_count": 24
        }
      ]
    },
    {
      "cell_type": "markdown",
      "metadata": {
        "id": "EpISjbnhpG6Z",
        "colab_type": "text"
      },
      "source": [
        "Chú ý rằng lớp phía trên phải thừa hưởng từ ```object``` bởi vì bộ trang trí (decorator) có tên ```property``` chỉ hoạt động được với các lớp mới."
      ]
    },
    {
      "cell_type": "markdown",
      "metadata": {
        "id": "EGc2Dd3Y250A",
        "colab_type": "text"
      },
      "source": [
        "##9. Xin phép thay vì tha thứ\n",
        "Cộng đồng Python sử dụng kiểu lập trình EAFP (Easier to ask for forgiveness than permission) hiểu nôm na là trong cuộc sống việc xin tha thứ dễ dàng hơn là việc xin phép. Phong cách lập trình này giải định rằng tất cả các biến cần thiết, các files cần thiết, vân vân đều tồn tại cho bạn sử dụng. Bất cứ vấn đề nào xảy ra được bắt lại như là các ngoại lệ. Điều này nói chung tạo ra nên một phong cách lập trình chính xác và gọn chứa rất nhiều câu ```try``` và ```except```"
      ]
    },
    {
      "cell_type": "markdown",
      "metadata": {
        "id": "M5JlDC9HC9_B",
        "colab_type": "text"
      },
      "source": [
        "### Code không nên viết"
      ]
    },
    {
      "cell_type": "code",
      "metadata": {
        "id": "47hjlNGNngj9",
        "colab_type": "code",
        "colab": {}
      },
      "source": [
        "import os\n",
        "\n",
        "# Vi phạm phong cách lập trình EAFP\n",
        "if os.path.exists(\"file.txt\"):\n",
        "  os.unlink(\"file.txt\")\n",
        " "
      ],
      "execution_count": 0,
      "outputs": []
    },
    {
      "cell_type": "markdown",
      "metadata": {
        "id": "HHPRcgujJuSr",
        "colab_type": "text"
      },
      "source": [
        "### Cách thực hiện tốt nhất\n",
        "#### Giả định rằng file ta cần mở đã tồn tại và bắt lại các vấn đề như là các ngoại lệ\n",
        "\n",
        "Đoạn code được cập nhật phía dưới cho ta hình dung về phong cách EAFP. Không giống như đoạn mã phía trên, đoạn mã dưới giả định rằng file \"file.txt\" đã tồn tại trên hệ thống, và đoạn mã sẽ bắt lại các vấn đề như là các ngoại lệ. Ví dụ, nếu file không tồn tại, một ngoại lệ ```OSError``` sẽ bị bắt lại."
      ]
    },
    {
      "cell_type": "code",
      "metadata": {
        "id": "1wDWAbtYKEwD",
        "colab_type": "code",
        "outputId": "08d66f5b-6501-4ebd-d79e-ca33bfbb4bfb",
        "colab": {
          "base_uri": "https://localhost:8080/",
          "height": 230
        }
      },
      "source": [
        "import os\n",
        "\n",
        "try:\n",
        "  os.unlink(\"file.txt\")\n",
        "# Khởi lên ngoại lệ nếu file không tồn tại\n",
        "except OSError:\n",
        "  raise"
      ],
      "execution_count": 0,
      "outputs": [
        {
          "output_type": "error",
          "ename": "FileNotFoundError",
          "evalue": "ignored",
          "traceback": [
            "\u001b[0;31m---------------------------------------------------------------------------\u001b[0m",
            "\u001b[0;31mFileNotFoundError\u001b[0m                         Traceback (most recent call last)",
            "\u001b[0;32m<ipython-input-5-5d0374c9855e>\u001b[0m in \u001b[0;36m<module>\u001b[0;34m()\u001b[0m\n\u001b[1;32m      2\u001b[0m \u001b[0;34m\u001b[0m\u001b[0m\n\u001b[1;32m      3\u001b[0m \u001b[0;32mtry\u001b[0m\u001b[0;34m:\u001b[0m\u001b[0;34m\u001b[0m\u001b[0;34m\u001b[0m\u001b[0m\n\u001b[0;32m----> 4\u001b[0;31m   \u001b[0mos\u001b[0m\u001b[0;34m.\u001b[0m\u001b[0munlink\u001b[0m\u001b[0;34m(\u001b[0m\u001b[0;34m\"file.txt\"\u001b[0m\u001b[0;34m)\u001b[0m\u001b[0;34m\u001b[0m\u001b[0;34m\u001b[0m\u001b[0m\n\u001b[0m\u001b[1;32m      5\u001b[0m \u001b[0;31m# Khởi lên ngoại lệ nếu file không tồn tại\u001b[0m\u001b[0;34m\u001b[0m\u001b[0;34m\u001b[0m\u001b[0;34m\u001b[0m\u001b[0m\n\u001b[1;32m      6\u001b[0m \u001b[0;32mexcept\u001b[0m \u001b[0mOSError\u001b[0m\u001b[0;34m:\u001b[0m\u001b[0;34m\u001b[0m\u001b[0;34m\u001b[0m\u001b[0m\n",
            "\u001b[0;31mFileNotFoundError\u001b[0m: [Errno 2] No such file or directory: 'file.txt'"
          ]
        }
      ]
    },
    {
      "cell_type": "markdown",
      "metadata": {
        "id": "UfFlYYD_LxiB",
        "colab_type": "text"
      },
      "source": [
        "##9. So sánh các giá trị với ```None``` sai cách\n",
        "\n",
        "Theo hướng dướng PEP 8, cách để so sánh một thứ gì đó với ```None``` thì nên dùng biểu thức điều kiện sau ```if cond is None```. Vì đây chỉ là một hướng dẫn, bạn có thể lờ đi trong trường hợp cần. Mục đích chính của hướng dẫn này nè cải thiện khả năng đọc của code. "
      ]
    },
    {
      "cell_type": "markdown",
      "metadata": {
        "id": "YcnjmWQRMqdD",
        "colab_type": "text"
      },
      "source": [
        "### Code không nên viết \n",
        "Đoạn code phía dưới sử dụng toán tử bằng ```=``` để so sánh một biến với ```None```. Như đã nói ở trên đây không phải là một cách tốt để thực hiện việc so sánh này."
      ]
    },
    {
      "cell_type": "code",
      "metadata": {
        "id": "LUX33aYNMxWs",
        "colab_type": "code",
        "outputId": "56ab416a-f9c7-4fc7-ab37-dae9dfb320eb",
        "colab": {
          "base_uri": "https://localhost:8080/",
          "height": 34
        }
      },
      "source": [
        "number = None\n",
        "\n",
        "if number == None:\n",
        "  print(\"This works, but it is not the preferred PEP 8 pattern\")\n",
        "  "
      ],
      "execution_count": 0,
      "outputs": [
        {
          "output_type": "stream",
          "text": [
            "This works, but it is not the preferred PEP 8 pattern\n"
          ],
          "name": "stdout"
        }
      ]
    },
    {
      "cell_type": "markdown",
      "metadata": {
        "id": "aTZaCLE4NVkW",
        "colab_type": "text"
      },
      "source": [
        "### Cách tốt hơn\n",
        "So sánh các giá trị với ```None``` sử dụng mẫu ```if condition is None```\n"
      ]
    },
    {
      "cell_type": "code",
      "metadata": {
        "id": "Illtl-3PKXMs",
        "colab_type": "code",
        "outputId": "be5a379f-c90e-4b15-cf11-043007b25186",
        "colab": {
          "base_uri": "https://localhost:8080/",
          "height": 34
        }
      },
      "source": [
        "number = None\n",
        "\n",
        "if number is None:\n",
        "  print(\"PEP 8 Style Guide prefers this pattern\")"
      ],
      "execution_count": 0,
      "outputs": [
        {
          "output_type": "stream",
          "text": [
            "PEP 8 Style Guide prefers this pattern\n"
          ],
          "name": "stdout"
        }
      ]
    },
    {
      "cell_type": "markdown",
      "metadata": {
        "id": "fgRkIMN9Nub2",
        "colab_type": "text"
      },
      "source": [
        "Ở ví dụ trên toán tử ```is``` được sử dụng. Toán tử này sẽ kiểm tra xem ```number``` có giống như (identical) ```None``` hay không. ```is``` sẽ trả về ```True``` nếu hai biến này trỏ tới cùng một đối tượng. Hãy kiểm tra xem"
      ]
    },
    {
      "cell_type": "code",
      "metadata": {
        "id": "nx9neoM7NtSb",
        "colab_type": "code",
        "outputId": "867b68ba-c417-4326-98b5-d8ce0e3cbaa6",
        "colab": {
          "base_uri": "https://localhost:8080/",
          "height": 67
        }
      },
      "source": [
        "number = None\n",
        "\n",
        "if number is None:\n",
        "  print(f\"number object: {id(number)}\")\n",
        "  print(f\"None object: {id(None)}\")\n",
        "  print(\"PEP 8 Style Guide prefers this pattern\")"
      ],
      "execution_count": 0,
      "outputs": [
        {
          "output_type": "stream",
          "text": [
            "number object: 10422432\n",
            "None object: 10422432\n",
            "PEP 8 Style Guide prefers this pattern\n"
          ],
          "name": "stdout"
        }
      ]
    },
    {
      "cell_type": "markdown",
      "metadata": {
        "id": "0xfbziqpOMx9",
        "colab_type": "text"
      },
      "source": [
        "Ta thấy được rằng có ```number``` và ```None``` đều trỏ tới một địa chỉ là ```10422432```. "
      ]
    },
    {
      "cell_type": "markdown",
      "metadata": {
        "id": "K4sG8favQKvw",
        "colab_type": "text"
      },
      "source": [
        "## 10. So sánh các giá trị với ```True``` sai cách\n",
        "\n",
        "Theo PEP8 có hai cách ta có thể dùng để so sánh với ```True```, đó là ```if cond is True``` và ```if condition:```. Mặc dù đó chỉ là hướng dẫn, các bạn có thể bỏ qua nhưng nó giúp cho code dễ đọc hơn. "
      ]
    },
    {
      "cell_type": "markdown",
      "metadata": {
        "id": "hrztpJS5QqNp",
        "colab_type": "text"
      },
      "source": [
        "### Code không nên viết\n",
        "Đoạn code phía dưới sử dụng toán tử bằng ```=``` để so sánh một biến với ```True```. Chác chắn rằng đây không chỉ là một anti-pattern trong Python mà còn trong nhiều ngôn ngữ khác nữa\n"
      ]
    },
    {
      "cell_type": "code",
      "metadata": {
        "id": "32TU6865QtWV",
        "colab_type": "code",
        "outputId": "15df8231-a7d8-40af-a130-fef3a7cee34a",
        "colab": {
          "base_uri": "https://localhost:8080/",
          "height": 34
        }
      },
      "source": [
        "flag = True\n",
        "# Cách không được khuyến khích bởi PEP 8\n",
        "if flag == True:\n",
        "  print(\"This works, but is not the prefered PEP8 pattern\")"
      ],
      "execution_count": 0,
      "outputs": [
        {
          "output_type": "stream",
          "text": [
            "This works, but is not the prefered PEP8 pattern\n"
          ],
          "name": "stdout"
        }
      ]
    },
    {
      "cell_type": "markdown",
      "metadata": {
        "id": "gUWs-X4PRaIo",
        "colab_type": "text"
      },
      "source": [
        "### Cách thực hiện tốt hơn thứ nhất\n",
        "\n",
        "Đoạn code dưới đây sử dụng cách được khuyến khích bởi PEP 8 đó là dùng ```if condition:```. Nếu kiểu của ```condition``` là Boolean thì rõ ràng việc so sánh với ```True``` là thừa. Nhưng trong Python, mọi giá trị mà không phải là rỗng (non-empty) đều được xem như là *true* trong các phép kiểm tra điều kiện. Hãy xem tài liệu của Python dưới đây:\n",
        "\n",
        "        Trong ngữ cảnh các phép toán luận lý (boolean), và cũng như là các biểu diễn được sử dụng bởi các câu lệnh rẽ nhánh, các giá trị sau đây được xem như là *false*: ```False```, ```None```, giá trị số 0 của tất cả các kiểu, các chuỗi rỗng và các bộ chứa trống (bao gồm các chuỗi, các tuples, danh sách, từ điển, và các fronzensets). Ngoài ra tất cả các giá trị khác đều là *true*"
      ]
    },
    {
      "cell_type": "code",
      "metadata": {
        "id": "TnLjxE_xRZNa",
        "colab_type": "code",
        "outputId": "718dface-9805-46ce-8a00-acd30617ba1a",
        "colab": {
          "base_uri": "https://localhost:8080/",
          "height": 34
        }
      },
      "source": [
        "flag = True\n",
        "\n",
        "if flag:\n",
        "  print(\"PEP 8 Style Guide prefers this pattern\")"
      ],
      "execution_count": 0,
      "outputs": [
        {
          "output_type": "stream",
          "text": [
            "PEP 8 Style Guide prefers this pattern\n"
          ],
          "name": "stdout"
        }
      ]
    },
    {
      "cell_type": "markdown",
      "metadata": {
        "id": "WkMm-ToZTMZO",
        "colab_type": "text"
      },
      "source": [
        "### So sánh các giá trị với ```True``` sử dụng mẫu ```if cond is True```\n",
        "Đoạn mã dưới đây thường không được sử dụng nhiều. Cách sử dụng này hữu dụng khi bạn muốn tách biệt giá trị ```True``` và tất cả các giá trị khác có thể được xem như *true* ví dụ một số khác 0. Tương tự với ```if cond is False```. Câu biểu diễn này chỉ đúng khi ```cond``` có giá trị thực sự là ```False``` mà không phải là những thứ có thể được xem như ```False``` ví dụ một danh sách trống, một tuple trống, một tập trống. Hãy thử các ví dụ dưới đây"
      ]
    },
    {
      "cell_type": "code",
      "metadata": {
        "id": "FDJi7NhXOLul",
        "colab_type": "code",
        "outputId": "3333a755-3401-41d3-fcea-b2ebec736ea1",
        "colab": {
          "base_uri": "https://localhost:8080/",
          "height": 34
        }
      },
      "source": [
        "flag = True\n",
        "\n",
        "if flag is True:\n",
        "  print(\"PEP 8 Style Guide abhors this pattern\")"
      ],
      "execution_count": 0,
      "outputs": [
        {
          "output_type": "stream",
          "text": [
            "PEP 8 Style Guide abhors this pattern\n"
          ],
          "name": "stdout"
        }
      ]
    },
    {
      "cell_type": "code",
      "metadata": {
        "id": "TLm2J4PVUsIL",
        "colab_type": "code",
        "colab": {}
      },
      "source": [
        "flag = 1\n",
        "\n",
        "if flag is True:\n",
        "  print(\"PEP 8 Style Guide abhors this pattern\")"
      ],
      "execution_count": 0,
      "outputs": []
    },
    {
      "cell_type": "markdown",
      "metadata": {
        "id": "M8i54HV4U8fs",
        "colab_type": "text"
      },
      "source": [
        "Ở ví dụ phía ngay trên ta thấy dù ```flag``` có gía trị là 1 nhưng phần thân của câu ```if``` không được thực thi"
      ]
    },
    {
      "cell_type": "code",
      "metadata": {
        "id": "gE4UI9QQUzP6",
        "colab_type": "code",
        "outputId": "2dec2a8b-cebd-44c5-cc76-9564f545ae3b",
        "colab": {
          "base_uri": "https://localhost:8080/",
          "height": 34
        }
      },
      "source": [
        "flag = False\n",
        "\n",
        "if flag is False:\n",
        "  print(\"PEP 8 Style Guide abhors this pattern\")"
      ],
      "execution_count": 0,
      "outputs": [
        {
          "output_type": "stream",
          "text": [
            "PEP 8 Style Guide abhors this pattern\n"
          ],
          "name": "stdout"
        }
      ]
    },
    {
      "cell_type": "code",
      "metadata": {
        "id": "N6E7gPCvVKzo",
        "colab_type": "code",
        "colab": {}
      },
      "source": [
        "flag = []\n",
        "\n",
        "if flag is False:\n",
        "  print(\"PEP 8 Style Guide abhors this pattern\")"
      ],
      "execution_count": 0,
      "outputs": []
    },
    {
      "cell_type": "markdown",
      "metadata": {
        "id": "c50CZI9EVQGk",
        "colab_type": "text"
      },
      "source": [
        "Ở ví dụ trên ta thấy dù ```flag``` là một danh sách trống nhưng nó vẫn không là ```False```"
      ]
    },
    {
      "cell_type": "markdown",
      "metadata": {
        "id": "wTaSYz1BWxDw",
        "colab_type": "text"
      },
      "source": [
        "##11. Sử dụng type() để so sánh các kiểu\n",
        "Hàm ```isinstance()``` là hàm được trang bị tốt nhất để kiểm tra các kiểu bởi vì nó hỗ trợ thừa kế hay inheritance (ví dụ một hiện thực của một lớp được dẫn xuất cũng là một hiện thực của lớp cơ sở). Do đó ```isinstance()``` nên được sử dụng bất cứ khi nào ta cần so sánh kiểu\n"
      ]
    },
    {
      "cell_type": "markdown",
      "metadata": {
        "id": "BUo1z4GKXYrB",
        "colab_type": "text"
      },
      "source": [
        "## Code không nên viết\n"
      ]
    },
    {
      "cell_type": "code",
      "metadata": {
        "id": "d5n4r5IrXcir",
        "colab_type": "code",
        "outputId": "52278e1b-8284-467f-8312-9de24c01bb54",
        "colab": {
          "base_uri": "https://localhost:8080/",
          "height": 34
        }
      },
      "source": [
        "r = [1, 2, 3]\n",
        "# Cách làm dở\n",
        "if type(r) is list:\n",
        "  print(\"object r is a list\")"
      ],
      "execution_count": 0,
      "outputs": [
        {
          "output_type": "stream",
          "text": [
            "object r is a list\n"
          ],
          "name": "stdout"
        }
      ]
    },
    {
      "cell_type": "markdown",
      "metadata": {
        "id": "OE_Mb1-PYbg0",
        "colab_type": "text"
      },
      "source": [
        "## Code nên viết\n",
        "Sử dụng ```isinstance``` để so sánh các kiểu."
      ]
    },
    {
      "cell_type": "code",
      "metadata": {
        "id": "nytdUnRxYHzK",
        "colab_type": "code",
        "outputId": "a579863e-5999-4533-f3c3-f17773db7db2",
        "colab": {
          "base_uri": "https://localhost:8080/",
          "height": 34
        }
      },
      "source": [
        "\n",
        "\n",
        "r = [1, 2, 3]\n",
        "\n",
        "# good\n",
        "if isinstance(r, list):\n",
        "    print(\"object r is a list\")"
      ],
      "execution_count": 0,
      "outputs": [
        {
          "output_type": "stream",
          "text": [
            "object r is a list\n"
          ],
          "name": "stdout"
        }
      ]
    },
    {
      "cell_type": "markdown",
      "metadata": {
        "id": "EIZ8nP5NNhqd",
        "colab_type": "text"
      },
      "source": [
        "##12. Import mọi thứ từ một module (```from ... import *```)\n",
        "Khi ta import mọi thứ từ một module, các bộ kiểm tra của Python sẽ gặp khó khăn khi muốn phát hiện các tên (names) không được định nghĩa trong chương trình mà nhập vào module đó. Cách thức hiện tốt nhất là sử dụng câu lệnh import để import các thành phần cụ thể và cần thiết."
      ]
    },
    {
      "cell_type": "markdown",
      "metadata": {
        "id": "yUW6cpJUOHHd",
        "colab_type": "text"
      },
      "source": [
        "### Code không nên viết"
      ]
    },
    {
      "cell_type": "code",
      "metadata": {
        "id": "ltVbewAcYlTB",
        "colab_type": "code",
        "colab": {}
      },
      "source": [
        "# Sử dụng import mọi thứ (không tốt)\n",
        "from math import *"
      ],
      "execution_count": 0,
      "outputs": []
    },
    {
      "cell_type": "markdown",
      "metadata": {
        "id": "RlvZ_BYjO89f",
        "colab_type": "text"
      },
      "source": [
        "### Các cách thực tập tốt nhất\n",
        "\n",
        "#### Sử dụng câu lệnh ```import``` với một mục tiêu cụ thể\n",
        "Câu lệnh ```import``` nên được điều chỉnh để import các biến hay các hàm cụ thể từ một module cho sẵn. Đoạn code dưới đây thể hiện điều này, theo đó ta chỉ import hàm ```ceil``` là hàm ta cần"
      ]
    },
    {
      "cell_type": "code",
      "metadata": {
        "id": "8Qn0IrGZONGQ",
        "colab_type": "code",
        "colab": {}
      },
      "source": [
        "from math import ceil"
      ],
      "execution_count": 0,
      "outputs": []
    },
    {
      "cell_type": "markdown",
      "metadata": {
        "id": "QMF_jzwMPmIW",
        "colab_type": "text"
      },
      "source": [
        "#### Import toàn bộ module \n",
        "Có một vài trường hợp ở đó import các hàm hay biến cụ thể không phải là một giải pháp tốt:\n",
        "\n",
        "\n",
        "*   Khi việc duy trì một danh sách các đối tượng được import từ một module trở nên không thiết thực hay cồng kềnh quá.\n",
        "*   Khi ta import một thứ gì đó trực tiếp từ một module, nhưng nó lại gây ra việc xung đột về tên với một thứ khác (ví dụ khi sử dụng from asyncio import TimeoutError, TimeOutError trùng tên với một ngoại lệ)\n",
        "*   Module chứa đối tượng được import có thể cung cấp các thông tin về ngữ cảnh khi nó được gắn với tên của module. \n",
        "\n"
      ]
    },
    {
      "cell_type": "code",
      "metadata": {
        "id": "hcL_kyPePlgk",
        "colab_type": "code",
        "colab": {}
      },
      "source": [
        "# Import cả thư viện math\n",
        "import math\n",
        "x = math.ceil(3.2)\n",
        "\n",
        "# Nếu tên thư viện dài ta có thể dùng cách sau\n",
        "import multiprocessing as mp\n",
        "pool = mp.active_children()"
      ],
      "execution_count": 0,
      "outputs": []
    },
    {
      "cell_type": "code",
      "metadata": {
        "id": "SUiGUy-oREw0",
        "colab_type": "code",
        "colab": {}
      },
      "source": [
        ""
      ],
      "execution_count": 0,
      "outputs": []
    }
  ]
}