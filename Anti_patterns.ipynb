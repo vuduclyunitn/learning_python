{
  "nbformat": 4,
  "nbformat_minor": 0,
  "metadata": {
    "colab": {
      "name": "Anti-patterns.ipynb",
      "version": "0.3.2",
      "provenance": [],
      "include_colab_link": true
    },
    "kernelspec": {
      "name": "python3",
      "display_name": "Python 3"
    }
  },
  "cells": [
    {
      "cell_type": "markdown",
      "metadata": {
        "id": "view-in-github",
        "colab_type": "text"
      },
      "source": [
        "<a href=\"https://colab.research.google.com/github/vuduclyunitn/learning_python/blob/master/Anti_patterns.ipynb\" target=\"_parent\"><img src=\"https://colab.research.google.com/assets/colab-badge.svg\" alt=\"Open In Colab\"/></a>"
      ]
    },
    {
      "cell_type": "code",
      "metadata": {
        "id": "qAAdKUq5yr40",
        "colab_type": "code",
        "colab": {}
      },
      "source": [
        ""
      ],
      "execution_count": 0,
      "outputs": []
    },
    {
      "cell_type": "markdown",
      "metadata": {
        "id": "Rwl5sSRG0kHj",
        "colab_type": "text"
      },
      "source": [
        "#Dịch lại từ https://docs.quantifiedcode.com/python-anti-patterns/index.html"
      ]
    },
    {
      "cell_type": "markdown",
      "metadata": {
        "id": "7dDAALIkyxg5",
        "colab_type": "text"
      },
      "source": [
        "# 1. Truy cập vào phần tử được bảo vệ của một lớp từ bên ngoài"
      ]
    },
    {
      "cell_type": "code",
      "metadata": {
        "id": "Tw_4q0KYzGBE",
        "colab_type": "code",
        "colab": {
          "base_uri": "https://localhost:8080/",
          "height": 34
        },
        "outputId": "f2e57a12-0214-4d46-a83d-eb5d6c4fc883"
      },
      "source": [
        "class Rectangle(object):\n",
        "  def __init__(self, width, height):\n",
        "    self._width = width\n",
        "    self._height = height\n",
        "\n",
        "r = Rectangle(5, 6)\n",
        "# Truy cập trực tiếp vào phần tử được bảo vệ\n",
        "print(\"Width: {:d}\".format(r._width))"
      ],
      "execution_count": 2,
      "outputs": [
        {
          "output_type": "stream",
          "text": [
            "Width: 5\n"
          ],
          "name": "stdout"
        }
      ]
    },
    {
      "cell_type": "markdown",
      "metadata": {
        "id": "pyPaOwPFyvCs",
        "colab_type": "text"
      },
      "source": [
        "## Cách thực hiện tốt nhất đó là:\n",
        "Nếu bạn chắc chắn bạn cần truy cập tới một phần tử được bảo vệ của một lớp\n",
        "\n",
        "*   Chắc chắn rằng việc truy cập phần tử đó từ bên ngoài lớp bên ngoài này sẽ không gây ra các tác dụng phụ không mong muốn\n",
        "*   Tối ưu lớp này tốt hơn thông qua việc tạo ra các giao tiếp chung/công cộng để phía bên ngoài có thể truy cập vào được.\n",
        "\n"
      ]
    },
    {
      "cell_type": "markdown",
      "metadata": {
        "id": "KoMEIlbZ0p__",
        "colab_type": "text"
      },
      "source": [
        "#2. Gán một biểu diễn lambda cho một biến\n",
        "Lợi điểm của lambda so với *def* đó là lambda có thể được nhúm một cách ẩn danh trong một biểu diễn lớn hơn. Nếu bạn dự định gán một \"tên\" (name) cho một lambda, tốt hơn hết là bạn nên định nghĩa nó với def."
      ]
    },
    {
      "cell_type": "code",
      "metadata": {
        "id": "XRL1g74V055Q",
        "colab_type": "code",
        "colab": {}
      },
      "source": [
        ""
      ],
      "execution_count": 0,
      "outputs": []
    }
  ]
}