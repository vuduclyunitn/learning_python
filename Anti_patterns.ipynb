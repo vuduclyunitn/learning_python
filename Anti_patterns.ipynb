{
  "nbformat": 4,
  "nbformat_minor": 0,
  "metadata": {
    "colab": {
      "name": "Anti-patterns.ipynb",
      "version": "0.3.2",
      "provenance": [],
      "include_colab_link": true
    },
    "kernelspec": {
      "name": "python3",
      "display_name": "Python 3"
    }
  },
  "cells": [
    {
      "cell_type": "markdown",
      "metadata": {
        "id": "view-in-github",
        "colab_type": "text"
      },
      "source": [
        "<a href=\"https://colab.research.google.com/github/vuduclyunitn/learning_python/blob/master/Anti_patterns.ipynb\" target=\"_parent\"><img src=\"https://colab.research.google.com/assets/colab-badge.svg\" alt=\"Open In Colab\"/></a>"
      ]
    },
    {
      "cell_type": "markdown",
      "metadata": {
        "id": "Rwl5sSRG0kHj",
        "colab_type": "text"
      },
      "source": [
        "#Dịch lại từ https://docs.quantifiedcode.com/python-anti-patterns/index.html"
      ]
    },
    {
      "cell_type": "markdown",
      "metadata": {
        "id": "7dDAALIkyxg5",
        "colab_type": "text"
      },
      "source": [
        "# 1. Truy cập vào phần tử được bảo vệ của một lớp từ bên ngoài"
      ]
    },
    {
      "cell_type": "code",
      "metadata": {
        "id": "Tw_4q0KYzGBE",
        "colab_type": "code",
        "outputId": "f2e57a12-0214-4d46-a83d-eb5d6c4fc883",
        "colab": {
          "base_uri": "https://localhost:8080/",
          "height": 34
        }
      },
      "source": [
        "class Rectangle(object):\n",
        "  def __init__(self, width, height):\n",
        "    self._width = width\n",
        "    self._height = height\n",
        "\n",
        "r = Rectangle(5, 6)\n",
        "# Truy cập trực tiếp vào phần tử được bảo vệ\n",
        "print(\"Width: {:d}\".format(r._width))"
      ],
      "execution_count": 0,
      "outputs": [
        {
          "output_type": "stream",
          "text": [
            "Width: 5\n"
          ],
          "name": "stdout"
        }
      ]
    },
    {
      "cell_type": "markdown",
      "metadata": {
        "id": "pyPaOwPFyvCs",
        "colab_type": "text"
      },
      "source": [
        "## Cách thực hiện tốt nhất đó là:\n",
        "Nếu bạn chắc chắn bạn cần truy cập tới một phần tử được bảo vệ của một lớp\n",
        "\n",
        "*   Chắc chắn rằng việc truy cập phần tử đó từ bên ngoài lớp bên ngoài này sẽ không gây ra các tác dụng phụ không mong muốn\n",
        "*   Tối ưu lớp này tốt hơn thông qua việc tạo ra các giao tiếp chung/công cộng để phía bên ngoài có thể truy cập vào được.\n",
        "\n"
      ]
    },
    {
      "cell_type": "markdown",
      "metadata": {
        "id": "KoMEIlbZ0p__",
        "colab_type": "text"
      },
      "source": [
        "#2. Gán một biểu diễn lambda cho một biến\n",
        "Lợi điểm của `lambda` so với `def` đó là lambda có thể được nhúm một cách ẩn danh trong một biểu diễn lớn hơn. Nếu bạn dự định gán một \"tên\" (name) cho một lambda, tốt hơn hết là bạn nên định nghĩa nó với `def`."
      ]
    },
    {
      "cell_type": "code",
      "metadata": {
        "id": "XRL1g74V055Q",
        "colab_type": "code",
        "outputId": "66d0d308-1c98-4187-8a98-35c1e287d0df",
        "colab": {
          "base_uri": "https://localhost:8080/",
          "height": 34
        }
      },
      "source": [
        "def f(x): return 2*x\n",
        "f"
      ],
      "execution_count": 0,
      "outputs": [
        {
          "output_type": "execute_result",
          "data": {
            "text/plain": [
              "<function __main__.f>"
            ]
          },
          "metadata": {
            "tags": []
          },
          "execution_count": 7
        }
      ]
    },
    {
      "cell_type": "code",
      "metadata": {
        "id": "QpadEbzj2kNR",
        "colab_type": "code",
        "outputId": "42306b76-b016-47ea-b697-b5fe58aabcee",
        "colab": {
          "base_uri": "https://localhost:8080/",
          "height": 34
        }
      },
      "source": [
        "f = lambda x: 2*x\n",
        "f"
      ],
      "execution_count": 0,
      "outputs": [
        {
          "output_type": "execute_result",
          "data": {
            "text/plain": [
              "<function __main__.<lambda>>"
            ]
          },
          "metadata": {
            "tags": []
          },
          "execution_count": 8
        }
      ]
    },
    {
      "cell_type": "markdown",
      "metadata": {
        "id": "u3RvDLg82y1_",
        "colab_type": "text"
      },
      "source": [
        "Ở ví dụ trên ta thấy tên của hàm là *f* thay vì là *lambda*. Điều này hữu ích khi ta muốn truy tìm lỗi trong khi debug và các biểu diễn chuỗi nói chung. Việc sử dụng phép gán cho lambda cũng loại bỏ đi lợi thế của nó so với def (ví dụ như nó có thể được gán nhúng trong một biểu diễn lớn hơn)\n"
      ]
    },
    {
      "cell_type": "markdown",
      "metadata": {
        "id": "8TTyjuqp3s6o",
        "colab_type": "text"
      },
      "source": [
        "## Cách thực hiện tốt nhât\n",
        "Cấu trúc lại biểu diễn lamda có tên sử dụng def"
      ]
    },
    {
      "cell_type": "markdown",
      "metadata": {
        "id": "-a80X8ma4Mmb",
        "colab_type": "text"
      },
      "source": [
        "#3. Gán cho một hàm có sẵn (built-in)\n",
        "Python có rất nhiều hàm có sẵn, luôn luôn có thể truy cập được từ trình thông dịch (interpreter). Nếu bạn không có lý do nào đặc biệt, đừng bao giờ nên viết đè (overwrite) hay gán một giá trị lên một biến có tên giống với các hàm có sẵn này. Ghi đè lên một hàm có sẵn có thể tạo ra các tác dụng phụ không mong muốn hoặc các lỗi runtime. Các lập trình viên Python thường sử dụng hàm có sẵn, nếu cư xử của các hàm này thay đổi sẽ gây khó khăn cho việc tìm ra lỗi thực sự."
      ]
    },
    {
      "cell_type": "markdown",
      "metadata": {
        "id": "zaGzzSy05mcz",
        "colab_type": "text"
      },
      "source": [
        "## Code không nên viết\n",
        "Trong đoạn code dưới đây hàm có sẵn \n",
        "```list```  bị ghi đè lên. Điều này làm cho ta không thể sử dụng hàm ```list``` để khởi tạo một danh sách mới nữa. Đoạn code dưới đây chỉ có 2 dòng nên ta có thể thấy và sửa nhưng khi chương trình viết lớn hơn sẽ khó để phát hiện các lỗi này.\n",
        "\n",
        "\n"
      ]
    },
    {
      "cell_type": "code",
      "metadata": {
        "id": "CzrpZUHD5l3B",
        "colab_type": "code",
        "colab": {}
      },
      "source": [
        "# Ghi đè lên hàm có sẵn list thông qua việc gán các giá trị tới một biến gọi là list\n",
        "list = [1, 2, 3]\n"
      ],
      "execution_count": 0,
      "outputs": []
    },
    {
      "cell_type": "code",
      "metadata": {
        "id": "bEpouFl53rkZ",
        "colab_type": "code",
        "outputId": "259d5920-42c9-4683-cecc-7bbbe539ad0c",
        "colab": {
          "base_uri": "https://localhost:8080/",
          "height": 162
        }
      },
      "source": [
        "# Lỗi đối tượng 'list' không thể gọi được\n",
        "a = list()"
      ],
      "execution_count": 0,
      "outputs": [
        {
          "output_type": "error",
          "ename": "TypeError",
          "evalue": "ignored",
          "traceback": [
            "\u001b[0;31m---------------------------------------------------------------------------\u001b[0m",
            "\u001b[0;31mTypeError\u001b[0m                                 Traceback (most recent call last)",
            "\u001b[0;32m<ipython-input-12-8b49cb3ef928>\u001b[0m in \u001b[0;36m<module>\u001b[0;34m()\u001b[0m\n\u001b[0;32m----> 1\u001b[0;31m \u001b[0ma\u001b[0m \u001b[0;34m=\u001b[0m \u001b[0mlist\u001b[0m\u001b[0;34m(\u001b[0m\u001b[0;34m)\u001b[0m\u001b[0;34m\u001b[0m\u001b[0;34m\u001b[0m\u001b[0m\n\u001b[0m",
            "\u001b[0;31mTypeError\u001b[0m: 'list' object is not callable"
          ]
        }
      ]
    },
    {
      "cell_type": "markdown",
      "metadata": {
        "id": "MPl1_kRg6-fG",
        "colab_type": "text"
      },
      "source": [
        "## Cách thực hành tốt nhất\n",
        "Nếu bạn không có một lý do nào đặc biệt tránh đặt tên cho các biến trùng với tên các hàm có sẵn."
      ]
    },
    {
      "cell_type": "code",
      "metadata": {
        "id": "LrEgi93t7QKR",
        "colab_type": "code",
        "colab": {}
      },
      "source": [
        "numbers = [1, 2, 3]\n",
        "cars = list()"
      ],
      "execution_count": 0,
      "outputs": []
    },
    {
      "cell_type": "markdown",
      "metadata": {
        "id": "OKGqPyWA1aGd",
        "colab_type": "text"
      },
      "source": [
        "#4. Thứ tự câu ngoại lệ không tốt\n",
        "\n",
        "Khi một ngoại lệ xảy ra trong chương trình, Python sẽ tìm kiếm câu ngoại lệ đầu tiên khớp với kiểu ngoại lệ xảy ra. Không quan trọng là câu ngoại lệ này có khớp **chính xác** với kiểu ngoại lệ xảy ra hay không. Nếu câu ngoại lệ ở trên biểu diễn một lớp cơ sở (lớp mà các lớp khác dựa trên hay mở rộng trên đó) của ngoại lệ xảy ra, khi đó Python sẽ xem như câu ngoại lệ đó trùng khớp. Ví dụ nếu một ngoại lệ \n",
        "\n",
        "```ZeroDivisionError``` (ngoại lệ xảy ra khi ta chia một số cho số 0) xảy ra và câu ngoại lệ đầu tiên đó là \n",
        "\n",
        "```Exception```, khi đó câu ngoại lệ ```Exception``` sẽ được thực thi bởi vì ```ZeroDivisionError``` là một lớp con (sub class) của ```Exception``. Vì thế đối với các lớp con, các câu ngoại lệ cụ thể hơn cho chúng nên được **đặt trước** các câu ngoại lệ dành cho các lớp cơ sở để đảm bảo việc xử lý ngoại lệ có tính chi tiết và hữu ích nhất có thể\n",
        "\n",
        "\n",
        "\n",
        "\n"
      ]
    },
    {
      "cell_type": "markdown",
      "metadata": {
        "id": "nNNa38L739-7",
        "colab_type": "text"
      },
      "source": [
        "## Code không nên viết\n",
        "Đoạn code phía đây chia một số cho 0 và gây ra một lỗi ```ZeroDivisionError```. Phía dưới có một câu ngoại lệ cho kiểu lỗi này, nó giúp ta tìm ra nguyên nhân thực sự của vấn đề. Tuy nhiên, câu ngoại lệ ```ZeroDivisionError``` không thể nào được thực thi bởi vì có câu ngoại lệ  \n",
        "\n",
        "```Exception``` đặt phía trước nó. Khi Python gặp một ngoại lệ, nó sẽ kiểm tra một cách tuyến tính (tuần tự) và thực thi câu ngoại lệ đầu mà khớp với ngoại lệ được sinh ra. Việc so khớp này không nhất thiết phải là giống 100%. Miễn là ngoại lệ được sinh ra là một lớp con của câu ngoại lệ được liệt kê, Python sẽ thực thi câu ngoại lệ đó và sẽ bỏ qua tất cả các ngoại lệ khác. Điều này không tuân thủ theo mục tiêu của các câu ngoại lệ, nơi ta dùng nó để nhận diện và xử lý các ngoại lệ với sự chính xác nhất có thể.\n",
        "\n",
        "\n"
      ]
    },
    {
      "cell_type": "code",
      "metadata": {
        "id": "Uw0OHs3Q1ZWB",
        "colab_type": "code",
        "outputId": "9112ac3c-c10f-4c5c-b0b7-ec61a4aea9f1",
        "colab": {
          "base_uri": "https://localhost:8080/",
          "height": 34
        }
      },
      "source": [
        "try:\n",
        "  5/0\n",
        "except Exception as e:\n",
        "  print(\"Exception\")\n",
        "# Code không bao giờ được thực thi (unreachable code)\n",
        "except ZeroDivisionError as e:\n",
        "  print(\"Zero Division Error\")"
      ],
      "execution_count": 0,
      "outputs": [
        {
          "output_type": "stream",
          "text": [
            "Exception\n"
          ],
          "name": "stdout"
        }
      ]
    },
    {
      "cell_type": "markdown",
      "metadata": {
        "id": "NdoOGmXe6OXV",
        "colab_type": "text"
      },
      "source": [
        "## Cách thực hiện tốt hơn\n",
        "Chuyển mệnh đề ngoại lệ của lớp con lên trước mệnh đề ngoại lệ của lớp cơ sở. Đoạn code dưới đây đặt mệnh đề ngoại lệ ```ZeroDivisionError``` lên trước mệnh đề ngoại lệ cơ sở  ```Exception```. Khi có một lỗi xảy ra khi chia một số cho số 0 ngoại lệ ```ZeroDivisionError``` sẽ thực thi, giúp cho đoạn mã tối ưu hơn bởi vì nó đưa ra kết quả cụ thể hơn"
      ]
    },
    {
      "cell_type": "code",
      "metadata": {
        "id": "Zb81VxW4_NH7",
        "colab_type": "code",
        "outputId": "8058fbe3-2eb6-4ba4-e0a4-dbddb3ec949b",
        "colab": {
          "base_uri": "https://localhost:8080/",
          "height": 34
        }
      },
      "source": [
        "try:\n",
        "  5/0\n",
        "except ZeroDivisionError as e:\n",
        "  print(\"ZeroDivisionError\")\n",
        "except Exception as e:\n",
        "  print(\"Exception\")"
      ],
      "execution_count": 0,
      "outputs": [
        {
          "output_type": "stream",
          "text": [
            "ZeroDivisionError\n"
          ],
          "name": "stdout"
        }
      ]
    },
    {
      "cell_type": "markdown",
      "metadata": {
        "id": "-nBXjzt5AsiC",
        "colab_type": "text"
      },
      "source": [
        "#5. Truyền một tham số không tốt vào phương thức ```super()```\n",
        "\n",
        "Phương thức ```super()``` cho phép ta truy cập tới các phương thức (methods) và các thành viên (members) của một lớp cha mà không phải chỉ tới lớp cha qua tên gọi. Trong trường hợp thừa kế đơn tham số đầu tiên truyền vào phương thức ```super()``` nên là tên của lớp con hiện tại, lớp gọi phương thức ```super()```, và tham số thứ hai nên là ```self``` (đây là một tham chiếu tới đối tượng hiện hành gọi ```super()```)\n",
        "\n",
        "**Chú ý**: Anti-pattern này chỉ áp dụng đối với các phiên bản Python 2.x, đối với Python 3.x hãy xem ở phần cuối trang để biết cách gọi phương thức ```super()``` đúng trong Python 3.x"
      ]
    },
    {
      "cell_type": "markdown",
      "metadata": {
        "id": "tnbnB9WKChft",
        "colab_type": "text"
      },
      "source": [
        "## Anti-pattern\n",
        "Python khởi lên một lỗi ```TypeError``` khi cố gắng thực thi một lời gọi tới phương thức ```super()``` dưới đây. Tham số đầu tiên nên là tên của lớp con, lớp đang gọi ```super()```. Trong đoạn code dưới đây, tác giả đã sai khi cho ```self``` là tham số đầu tiên"
      ]
    },
    {
      "cell_type": "code",
      "metadata": {
        "id": "u-h0_gQ5Cgm6",
        "colab_type": "code",
        "outputId": "a5bdb33c-e896-4c0b-87f2-4884112b57d3",
        "colab": {
          "base_uri": "https://localhost:8080/",
          "height": 330
        }
      },
      "source": [
        "class Rectangle(object):\n",
        "  def __init__(self, width, height):\n",
        "    self.width = width\n",
        "    self.height = height\n",
        "    self.area = width * height\n",
        "    \n",
        "class Square(Rectangle):\n",
        "  def __init__(self, length):\n",
        "    # Tham số đầu không tốt được truyền vào super()\n",
        "    super(self, Square).__init__(length, length)\n",
        "    \n",
        "s = Square(5)\n",
        "print(s.area) # dòng code này không được thực thi"
      ],
      "execution_count": 0,
      "outputs": [
        {
          "output_type": "error",
          "ename": "TypeError",
          "evalue": "ignored",
          "traceback": [
            "\u001b[0;31m---------------------------------------------------------------------------\u001b[0m",
            "\u001b[0;31mTypeError\u001b[0m                                 Traceback (most recent call last)",
            "\u001b[0;32m<ipython-input-2-ff3e7805813c>\u001b[0m in \u001b[0;36m<module>\u001b[0;34m()\u001b[0m\n\u001b[1;32m     10\u001b[0m     \u001b[0msuper\u001b[0m\u001b[0;34m(\u001b[0m\u001b[0mself\u001b[0m\u001b[0;34m,\u001b[0m \u001b[0mSquare\u001b[0m\u001b[0;34m)\u001b[0m\u001b[0;34m.\u001b[0m\u001b[0m__init__\u001b[0m\u001b[0;34m(\u001b[0m\u001b[0mlength\u001b[0m\u001b[0;34m,\u001b[0m \u001b[0mlength\u001b[0m\u001b[0;34m)\u001b[0m\u001b[0;34m\u001b[0m\u001b[0;34m\u001b[0m\u001b[0m\n\u001b[1;32m     11\u001b[0m \u001b[0;34m\u001b[0m\u001b[0m\n\u001b[0;32m---> 12\u001b[0;31m \u001b[0ms\u001b[0m \u001b[0;34m=\u001b[0m \u001b[0mSquare\u001b[0m\u001b[0;34m(\u001b[0m\u001b[0;36m5\u001b[0m\u001b[0;34m)\u001b[0m\u001b[0;34m\u001b[0m\u001b[0;34m\u001b[0m\u001b[0m\n\u001b[0m\u001b[1;32m     13\u001b[0m \u001b[0mprint\u001b[0m\u001b[0;34m(\u001b[0m\u001b[0ms\u001b[0m\u001b[0;34m.\u001b[0m\u001b[0marea\u001b[0m\u001b[0;34m)\u001b[0m \u001b[0;31m# dòng code này không được thực thi\u001b[0m\u001b[0;34m\u001b[0m\u001b[0;34m\u001b[0m\u001b[0m\n",
            "\u001b[0;32m<ipython-input-2-ff3e7805813c>\u001b[0m in \u001b[0;36m__init__\u001b[0;34m(self, length)\u001b[0m\n\u001b[1;32m      8\u001b[0m   \u001b[0;32mdef\u001b[0m \u001b[0m__init__\u001b[0m\u001b[0;34m(\u001b[0m\u001b[0mself\u001b[0m\u001b[0;34m,\u001b[0m \u001b[0mlength\u001b[0m\u001b[0;34m)\u001b[0m\u001b[0;34m:\u001b[0m\u001b[0;34m\u001b[0m\u001b[0;34m\u001b[0m\u001b[0m\n\u001b[1;32m      9\u001b[0m     \u001b[0;31m# Tham số đầu không tốt được truyền vào super()\u001b[0m\u001b[0;34m\u001b[0m\u001b[0;34m\u001b[0m\u001b[0;34m\u001b[0m\u001b[0m\n\u001b[0;32m---> 10\u001b[0;31m     \u001b[0msuper\u001b[0m\u001b[0;34m(\u001b[0m\u001b[0mself\u001b[0m\u001b[0;34m,\u001b[0m \u001b[0mSquare\u001b[0m\u001b[0;34m)\u001b[0m\u001b[0;34m.\u001b[0m\u001b[0m__init__\u001b[0m\u001b[0;34m(\u001b[0m\u001b[0mlength\u001b[0m\u001b[0;34m,\u001b[0m \u001b[0mlength\u001b[0m\u001b[0;34m)\u001b[0m\u001b[0;34m\u001b[0m\u001b[0;34m\u001b[0m\u001b[0m\n\u001b[0m\u001b[1;32m     11\u001b[0m \u001b[0;34m\u001b[0m\u001b[0m\n\u001b[1;32m     12\u001b[0m \u001b[0ms\u001b[0m \u001b[0;34m=\u001b[0m \u001b[0mSquare\u001b[0m\u001b[0;34m(\u001b[0m\u001b[0;36m5\u001b[0m\u001b[0;34m)\u001b[0m\u001b[0;34m\u001b[0m\u001b[0;34m\u001b[0m\u001b[0m\n",
            "\u001b[0;31mTypeError\u001b[0m: super() argument 1 must be type, not Square"
          ]
        }
      ]
    },
    {
      "cell_type": "markdown",
      "metadata": {
        "id": "y4APpgKuEuWt",
        "colab_type": "text"
      },
      "source": [
        "## Cách thực hiện đúng\n",
        "Trong đoạn code tác giả sửa lại thứ tự các tham số truyền vào ```super()```. Tham số đầu tiên là tên của lớp con (lớp gọi ```super()```), tham số thứ 2 là ```self```"
      ]
    },
    {
      "cell_type": "code",
      "metadata": {
        "id": "z4FHXXfEEWbX",
        "colab_type": "code",
        "outputId": "288bd6fe-ff80-4d35-c58f-8502e7636423",
        "colab": {
          "base_uri": "https://localhost:8080/",
          "height": 34
        }
      },
      "source": [
        "class Rectangle(object):\n",
        "    def __init__(self, width, height):\n",
        "        self.width = width\n",
        "        self.height = height\n",
        "        self.area = width * height\n",
        "\n",
        "class Square(Rectangle):\n",
        "    def __init__(self, length):\n",
        "        # super() thực thi đúng khi thay đổi thứ tự tham số\n",
        "        super(Square, self).__init__(length, length)\n",
        "\n",
        "s = Square(5)\n",
        "print(s.area)  # 25"
      ],
      "execution_count": 0,
      "outputs": [
        {
          "output_type": "stream",
          "text": [
            "25\n"
          ],
          "name": "stdout"
        }
      ]
    },
    {
      "cell_type": "markdown",
      "metadata": {
        "id": "mc1QLvSTFWMJ",
        "colab_type": "text"
      },
      "source": [
        "## ```super()``` trong Python 3\n",
        "Trong Python 3.x ta không cần phải truyền vào bất cứ tham số nào cho hàm ```super()```. Đoạn code dưới đây miêu tả cách gọi đúng"
      ]
    },
    {
      "cell_type": "code",
      "metadata": {
        "id": "pXmKmJGAFohJ",
        "colab_type": "code",
        "outputId": "ff27b673-0bef-4162-d6b6-72d76cbffae2",
        "colab": {
          "base_uri": "https://localhost:8080/",
          "height": 34
        }
      },
      "source": [
        "class Rectangle(object):\n",
        "  def __init__(self, width, height):\n",
        "    self.width = width\n",
        "    self.height = height\n",
        "    self.area = width*height\n",
        "\n",
        "class Square(Rectangle):\n",
        "  def __init__(self, length):\n",
        "    # Đoạn code này tương tự với super(Square, self).__init__(length, lenght)\n",
        "    super().__init__(length, length)\n",
        "    \n",
        "s = Square(5)\n",
        "print(s.area)"
      ],
      "execution_count": 0,
      "outputs": [
        {
          "output_type": "stream",
          "text": [
            "25\n"
          ],
          "name": "stdout"
        }
      ]
    },
    {
      "cell_type": "markdown",
      "metadata": {
        "id": "QsFP66p7D1WL",
        "colab_type": "text"
      },
      "source": [
        "##6. Mệnh đề ```else``` nằm dưới một vòng lặp mà không có lệnh ```break```\n",
        "Mệnh đề ```else``` của một vòng lặp được thực thi khi chuỗi lặp trống rỗng. Khi trong vòng lặp không chỉ định một lệnh ```break```, mệnh đề ```else``` sẽ luôn được thực thi, bởi lý do chuỗi lặp sẽ luôn luôn trống rỗng. Thỉnh thoảng đó là một hành vi như ta mong đợi, bạn có thể lờ đi lỗi đó. Nhưng hầu hết nó là một hành vi không được mong chờ, do đó bạn nên đánh giá lại đoạn mã của mình."
      ]
    },
    {
      "cell_type": "markdown",
      "metadata": {
        "id": "x_MoPOMa_xYg",
        "colab_type": "text"
      },
      "source": [
        "### Code không nên viết\n",
        "Đoạn mã dưới đây cho ta thấy một hành vi có thể không được như mong đợi, đoạn code có một vòng lặp và một mệnh đề  ```else``` phía dưới, vòng lặp sẽ lặp qua một danh sách các số và so sánh với số ```magic_number```, ta muốn in ra thông điệp \"This list contains the magic number\" nếu ta tìm được một số giống với số magic, nếu không tìm được sau khi đã kiểm tra tất cả các phần tử của danh sách thì ta in ra \"This list does not contain the magic number\". \n",
        "\n",
        "Khi gọi hàm ```contains_magic_number``` với danh sách từ 1 đến 10 là một tham số, và số magic là 5, ta muốn nhận được kết quả chỉ là \"This list contains the magic number\"  nhưng vì không có lệnh ```break``` ở trong vòng lặp nên cả 2 thông điệp đều được đưa ra. Đó là bởi vì ```range(10)``` sẽ trở nên trống rỗng và mệnh đề ```else``` cuối cùng sẽ được thực hiện. "
      ]
    },
    {
      "cell_type": "code",
      "metadata": {
        "id": "YHMCRC_0ADGz",
        "colab_type": "code",
        "outputId": "9cc122ed-ee45-49d6-9a8a-82c9064f29e8",
        "colab": {
          "base_uri": "https://localhost:8080/",
          "height": 50
        }
      },
      "source": [
        "def contains_magic_number(list_, magic_number):\n",
        "  for i in list_:\n",
        "    if i == magic_number:\n",
        "      print(\"This list contains the magic number\")\n",
        "  else:\n",
        "    print(\"This list does not contain the magic number\")\n",
        "    \n",
        "contains_magic_number(range(10), 5)"
      ],
      "execution_count": 0,
      "outputs": [
        {
          "output_type": "stream",
          "text": [
            "This list contains the magic number\n",
            "This list does not contain the magic number\n"
          ],
          "name": "stdout"
        }
      ]
    },
    {
      "cell_type": "markdown",
      "metadata": {
        "id": "mJEajEt6C7TC",
        "colab_type": "text"
      },
      "source": [
        "## Cách thực hiện tốt nhất\n",
        "Nếu cần phải sử dụng mệnh đề ```else``` phía dưới vòng lặp, ta cần thêm vào lệnh ```break``` vào trong vòng lặp."
      ]
    },
    {
      "cell_type": "code",
      "metadata": {
        "id": "DCgs2b1X_wWW",
        "colab_type": "code",
        "outputId": "29e062c4-59bd-4a10-cc42-e7a1bd4a5beb",
        "colab": {
          "base_uri": "https://localhost:8080/",
          "height": 34
        }
      },
      "source": [
        "def contains_magic_number(list_, magic_number):\n",
        "  for i in list_:\n",
        "    if i == magic_number:\n",
        "      print(\"This list contains the magic number\")\n",
        "      # Thêm vào lệnh break, vì thế mệnh đề else phía dưới được bỏ qua\n",
        "      break\n",
        "  else:\n",
        "    print(\"This list does not contain the magic number\")\n",
        "    \n",
        "contains_magic_number(range(10), 5)"
      ],
      "execution_count": 0,
      "outputs": [
        {
          "output_type": "stream",
          "text": [
            "This list contains the magic number\n"
          ],
          "name": "stdout"
        }
      ]
    },
    {
      "cell_type": "markdown",
      "metadata": {
        "id": "x4Q16IQRD3EL",
        "colab_type": "text"
      },
      "source": [
        "##7. Sử dụng ```key in list``` để kiểm tra xem một (chìa) khoá có nằm trong một danh sách hay không\n",
        "\n",
        "Sử dụng ```key in list``` để lặp qua một danh sách để tìm một chìa khoá sẽ mất ```n``` lần lặp, ```n``` là số lượng các phần tử trong danh sách. Nếu được bạn nên thay đổi danh sách thành một tập (set) hay từ điển (dictionary), bởi vì Python có thể tìm kiếm các phần tử trong một tập hay từ điển bằng cách truy cập trực tiếp vào các khoá đó mà không phải lặp qua. "
      ]
    },
    {
      "cell_type": "markdown",
      "metadata": {
        "id": "ONKjERq2E_uz",
        "colab_type": "text"
      },
      "source": [
        "## Code không nên viết\n",
        "Đoạn code dưới đây định nghĩa một danh sách ```l``` để kiểm tra xem số 3 có nằm trong danh sách này hay không. Cách làm này không hiệu năng. Python lặp qua danh sách cho đến khi nó tìm thấy phần tử nó cần tìm hoặc khi tới cuối của danh sách."
      ]
    },
    {
      "cell_type": "code",
      "metadata": {
        "id": "1AIyFGOyFEUv",
        "colab_type": "code",
        "outputId": "86fe2281-dc4e-4ecb-fe46-308367ec6a1f",
        "colab": {
          "base_uri": "https://localhost:8080/",
          "height": 50
        }
      },
      "source": [
        "import time\n",
        "start_time = time.time()\n",
        "l = [1, 2, 3, 4]\n",
        "\n",
        "# lặp qua 3 phần tử trong một danh sách\n",
        "if 3 in l:\n",
        "  print(\"The number 3 is in the list\")\n",
        "else:\n",
        "  print(\"The number 3 is NOT in the list\")\n",
        "end_time = time.time()\n",
        "print(f\"Runtime: {end_time - start_time}\")"
      ],
      "execution_count": 0,
      "outputs": [
        {
          "output_type": "stream",
          "text": [
            "The number 3 is in the list\n",
            "Runtime: 0.0005900859832763672\n"
          ],
          "name": "stdout"
        }
      ]
    },
    {
      "cell_type": "markdown",
      "metadata": {
        "id": "GEUfo3s2F5mr",
        "colab_type": "text"
      },
      "source": [
        "## Cách thực hiện tốt hơn: Sử dụng một tập hay từ điển thay cho danh sách\n",
        "Trong đoạn code dưới đây thay vì dùng danh sách, ta dùng tệp hoặc từ điển. Cách làm này hiệu năng hơn rất nhiều bởi vì Python có thể truy cập trực tiếp tới con số mục tiêu trong danh sách thay vì việc phải lặp qua danh sách và so sánh mỗi phần tử trong danh sách với số mục tiêu.\n"
      ]
    },
    {
      "cell_type": "code",
      "metadata": {
        "id": "NZztwJIIDaCj",
        "colab_type": "code",
        "outputId": "4799a304-6085-497e-dcdb-a6085fb50e85",
        "colab": {
          "base_uri": "https://localhost:8080/",
          "height": 50
        }
      },
      "source": [
        "import time\n",
        "start_time = time.time()\n",
        "s = set([1, 2, 3, 4])\n",
        "\n",
        "# lặp qua 3 phần tử trong một danh sách\n",
        "if 3 in s:\n",
        "  print(\"The number 3 is in the list\")\n",
        "else:\n",
        "  print(\"The number 3 is NOT in the list\")\n",
        "end_time = time.time()\n",
        "print(f\"Runtime: {end_time - start_time}\")"
      ],
      "execution_count": 0,
      "outputs": [
        {
          "output_type": "stream",
          "text": [
            "The number 3 is in the list\n",
            "Runtime: 0.0004961490631103516\n"
          ],
          "name": "stdout"
        }
      ]
    },
    {
      "cell_type": "markdown",
      "metadata": {
        "id": "pLnFfP9NGhiV",
        "colab_type": "text"
      },
      "source": [
        "## Hãy thử với một danh sách lớn hơn để thấy sự khác biệt"
      ]
    },
    {
      "cell_type": "code",
      "metadata": {
        "id": "-VNLD5FfG8DC",
        "colab_type": "code",
        "colab": {}
      },
      "source": [
        "import random\n",
        "# Tạo một danh số gồm một triệu số nguyên ngẫu nhiên\n",
        "rand_list = random.sample(range(0, 1000000), 1000000)"
      ],
      "execution_count": 0,
      "outputs": []
    },
    {
      "cell_type": "code",
      "metadata": {
        "id": "rQEq04HRHyGU",
        "colab_type": "code",
        "outputId": "843fe9e1-6cff-47d8-f3f9-252d28a4256d",
        "colab": {
          "base_uri": "https://localhost:8080/",
          "height": 50
        }
      },
      "source": [
        "# Tìm số 3 trong danh sách này, sử dụng danh sách\n",
        "import time\n",
        "start_time = time.time()\n",
        "# lặp qua 3 phần tử trong một danh sách\n",
        "if 3 in rand_list:\n",
        "  print(\"The number 3 is in the list\")\n",
        "else:\n",
        "  print(\"The number 3 is NOT in the list\")\n",
        "end_time = time.time()\n",
        "print(f\"Runtime: {end_time - start_time}\")"
      ],
      "execution_count": 0,
      "outputs": [
        {
          "output_type": "stream",
          "text": [
            "The number 3 is in the list\n",
            "Runtime: 0.061206817626953125\n"
          ],
          "name": "stdout"
        }
      ]
    },
    {
      "cell_type": "code",
      "metadata": {
        "id": "0Bq_h9-vINaU",
        "colab_type": "code",
        "outputId": "6f18d735-b6ad-4099-eb5e-ba89c5f83fb6",
        "colab": {
          "base_uri": "https://localhost:8080/",
          "height": 50
        }
      },
      "source": [
        "# Tìm số 3 trong danh sách, sử dụng tập\n",
        "import time\n",
        "s = set(rand_list)\n",
        "start_time = time.time()\n",
        "\n",
        "# lặp qua 3 phần tử trong một danh sách\n",
        "if 3 in s:\n",
        "  print(\"The number 3 is in the list\")\n",
        "else:\n",
        "  print(\"The number 3 is NOT in the list\")\n",
        "end_time = time.time()\n",
        "print(f\"Runtime: {end_time - start_time}\")"
      ],
      "execution_count": 0,
      "outputs": [
        {
          "output_type": "stream",
          "text": [
            "The number 3 is in the list\n",
            "Runtime: 0.0009315013885498047\n"
          ],
          "name": "stdout"
        }
      ]
    },
    {
      "cell_type": "markdown",
      "metadata": {
        "id": "ez1jpOaANUPQ",
        "colab_type": "text"
      },
      "source": [
        "So sánh kết quả từ hai đoạn code phía trên ta thấy khi tìm kiếm trong một tập thì hiệu năng sẽ cải thiện hơn rất nhiều. Nhưng nếu ta đã có sẵn một danh sách rồi thì ta nên tìm kiếm trên chính danh sách đó chứ không nên chuyển qua tập rồi tìm kiếm điều đó sẽ làm việc tìm kiếm thậm chí còn lâu hơn."
      ]
    },
    {
      "cell_type": "code",
      "metadata": {
        "id": "fA8aV2U-N1dl",
        "colab_type": "code",
        "outputId": "df5eca91-adb2-4b00-eed3-4331d2de210a",
        "colab": {
          "base_uri": "https://localhost:8080/",
          "height": 50
        }
      },
      "source": [
        "# Tìm số 3 trong danh sách, sử dụng tập\n",
        "import time\n",
        "start_time = time.time()\n",
        "s = set(rand_list)\n",
        "# lặp qua 3 phần tử trong một danh sách\n",
        "if 3 in s:\n",
        "  print(\"The number 3 is in the list\")\n",
        "else:\n",
        "  print(\"The number 3 is NOT in the list\")\n",
        "end_time = time.time()\n",
        "print(f\"Runtime: {end_time - start_time}\")"
      ],
      "execution_count": 0,
      "outputs": [
        {
          "output_type": "stream",
          "text": [
            "The number 3 is in the list\n",
            "Runtime: 0.2518002986907959\n"
          ],
          "name": "stdout"
        }
      ]
    },
    {
      "cell_type": "markdown",
      "metadata": {
        "id": "rTpminpTi3a0",
        "colab_type": "text"
      },
      "source": [
        "##8. Dùng câu lệnh ```return``` trong phương thức khởi tạo ```__init__```\n",
        "```__init__``` là một phương thức đặc biệt trong Python, nó được gọi một cách tự động khi bộ nhớ được cấp phát cho một đối tượng mới. Vai trò chính của ```__init__``` là khởi tạo các giá trị của các thành viên của một hiện diện mới (instance members). Sử dụng ```__init__``` cho việc trả về một giá trị nào đó làm sai lệch đi mục đích chính là khởi tạo một đối tượng. Việc trả về giá trị nên được áp dụng cho các phương thức khác, sau phương thức khởi tạo\n"
      ]
    },
    {
      "cell_type": "markdown",
      "metadata": {
        "id": "aHvtIjUOkAhy",
        "colab_type": "text"
      },
      "source": [
        "### Code không nên viết\n",
        "Phương thức ```__init__``` của lớp ```Rectangle```  dưới đây cố gắng trả về giá trị của một thành viên của lớp. Thực hiện điều này vi phạm luật khi sử dụng phương thức ```__init__``` đó là chỉ dùng để khởi tạo. "
      ]
    },
    {
      "cell_type": "code",
      "metadata": {
        "id": "DhlK8eBKkGpY",
        "colab_type": "code",
        "colab": {}
      },
      "source": [
        "class Rectangle:\n",
        "  def __init__(self, width, height):\n",
        "    self.width = width\n",
        "    self.height = height\n",
        "    self.area = width * height\n",
        "    # Trả về một giá trị trong hàm khởi tạo __init__\n",
        "    return self.area"
      ],
      "execution_count": 0,
      "outputs": []
    },
    {
      "cell_type": "code",
      "metadata": {
        "id": "e7o5uMsmmeHC",
        "colab_type": "code",
        "outputId": "13d71f21-d529-40ad-befe-c12a7bed9572",
        "colab": {
          "base_uri": "https://localhost:8080/",
          "height": 162
        }
      },
      "source": [
        "rectange = Rectangle(3, 2)"
      ],
      "execution_count": 0,
      "outputs": [
        {
          "output_type": "error",
          "ename": "TypeError",
          "evalue": "ignored",
          "traceback": [
            "\u001b[0;31m---------------------------------------------------------------------------\u001b[0m",
            "\u001b[0;31mTypeError\u001b[0m                                 Traceback (most recent call last)",
            "\u001b[0;32m<ipython-input-7-3ce86035c863>\u001b[0m in \u001b[0;36m<module>\u001b[0;34m()\u001b[0m\n\u001b[0;32m----> 1\u001b[0;31m \u001b[0mrectange\u001b[0m \u001b[0;34m=\u001b[0m \u001b[0mRectangle\u001b[0m\u001b[0;34m(\u001b[0m\u001b[0;36m3\u001b[0m\u001b[0;34m,\u001b[0m \u001b[0;36m2\u001b[0m\u001b[0;34m)\u001b[0m\u001b[0;34m\u001b[0m\u001b[0;34m\u001b[0m\u001b[0m\n\u001b[0m",
            "\u001b[0;31mTypeError\u001b[0m: __init__() should return None, not 'int'"
          ]
        }
      ]
    },
    {
      "cell_type": "markdown",
      "metadata": {
        "id": "XQqM1DHgmjxt",
        "colab_type": "text"
      },
      "source": [
        "Với kết quả trên ta thấy rằng Python sẽ báo lỗi khi ta sử dụng câu lệnh ```return``` trong hàm khởi tạo."
      ]
    },
    {
      "cell_type": "markdown",
      "metadata": {
        "id": "pTbAlGV_kyda",
        "colab_type": "text"
      },
      "source": [
        "### Cách thực hiện tốt hơn\n",
        "Loại bỏ câu lệnh trả về một giá trị khỏi hàm khởi tạo ```__init__```. "
      ]
    },
    {
      "cell_type": "code",
      "metadata": {
        "id": "Mb-i-5LGj_ad",
        "colab_type": "code",
        "colab": {}
      },
      "source": [
        "class Rectangle:\n",
        "  def __init__(self, width, height):\n",
        "    self.width = width\n",
        "    self.height = height\n",
        "    self.area = width * height\n",
        "    "
      ],
      "execution_count": 0,
      "outputs": []
    },
    {
      "cell_type": "code",
      "metadata": {
        "id": "PhI1F-jem3nP",
        "colab_type": "code",
        "outputId": "49b707d3-a841-46eb-e8aa-7a077d46d3e8",
        "colab": {
          "base_uri": "https://localhost:8080/",
          "height": 34
        }
      },
      "source": [
        "rectangle = Rectangle(3, 2)\n",
        "rectangle.area"
      ],
      "execution_count": 0,
      "outputs": [
        {
          "output_type": "execute_result",
          "data": {
            "text/plain": [
              "6"
            ]
          },
          "metadata": {
            "tags": []
          },
          "execution_count": 18
        }
      ]
    },
    {
      "cell_type": "markdown",
      "metadata": {
        "id": "xrF6zppvm9DZ",
        "colab_type": "text"
      },
      "source": [
        "Ta thấy rằng sau khi loại bỏ dòng ```return``` ra khỏi phương thức khởi tạo, ta\n",
        "không bị lỗi như ở phía trên nữa. Tuy nhiên nếu ta thực sự muốn lấy giá trị của một thành viên,"
      ]
    },
    {
      "cell_type": "markdown",
      "metadata": {
        "id": "k2WC5bjilIFS",
        "colab_type": "text"
      },
      "source": [
        "### Di chuyển tính năng trả về giá trị sang một phương thức khác của lớp\n",
        "Khi mới khởi tạo, không có lý do gì mà ta phải trả về giá trị của một thành viên ngay lập tức cả. Nếu ta muốn trả về giá trị của một thành viên nào đó, ta có thể thực hiện việc này trong một phương thức riêng biệt với phương thức khởi tạo của lớp ```Rectangle```. Phương thức này thường được thực thi sau khi đối tượng được khởi tạo. "
      ]
    },
    {
      "cell_type": "code",
      "metadata": {
        "id": "2b0bfDJ8lHPW",
        "colab_type": "code",
        "colab": {}
      },
      "source": [
        "class Rectange(object):\n",
        "  def __init__(self, width, height):\n",
        "    self.width = width\n",
        "    self.height = height\n",
        "    # Dấu gạch chân \"_\" ở trước tên một biến ám chỉ rằng biến đó nên được sử dụng\n",
        "    # trong nội bộ lớp, không nên được truy cập trực tiếp từ hiện thực.\n",
        "    self._area = width * height\n",
        "    \n",
        "  @property\n",
        "  # Di chuyển dòng lệnh trả về giá trị sang một phương thức khác\n",
        "  def area(self):\n",
        "    print(\"Calculating area\")\n",
        "    return self._area"
      ],
      "execution_count": 0,
      "outputs": []
    },
    {
      "cell_type": "code",
      "metadata": {
        "id": "hHwztaDimaG5",
        "colab_type": "code",
        "outputId": "f1fc386a-50be-4051-be4f-15a0b0ff0741",
        "colab": {
          "base_uri": "https://localhost:8080/",
          "height": 34
        }
      },
      "source": [
        "rectangle = Rectangle(3, 2)\n",
        "rectangle.area"
      ],
      "execution_count": 0,
      "outputs": [
        {
          "output_type": "execute_result",
          "data": {
            "text/plain": [
              "6"
            ]
          },
          "metadata": {
            "tags": []
          },
          "execution_count": 24
        }
      ]
    },
    {
      "cell_type": "markdown",
      "metadata": {
        "id": "EpISjbnhpG6Z",
        "colab_type": "text"
      },
      "source": [
        "Chú ý rằng lớp phía trên phải thừa hưởng từ ```object``` bởi vì bộ trang trí (decorator) có tên ```property``` chỉ hoạt động được với các lớp mới."
      ]
    },
    {
      "cell_type": "markdown",
      "metadata": {
        "id": "EGc2Dd3Y250A",
        "colab_type": "text"
      },
      "source": [
        "##9. Xin phép thay vì tha thứ\n",
        "Cộng đồng Python sử dụng kiểu lập trình EAFP (Easier to ask for forgiveness than permission) hiểu nôm na là trong cuộc sống việc xin tha thứ dễ dàng hơn là việc xin phép. Phong cách lập trình này giải định rằng tất cả các biến cần thiết, các files cần thiết, vân vân đều tồn tại cho bạn sử dụng. Bất cứ vấn đề nào xảy ra được bắt lại như là các ngoại lệ. Điều này nói chung tạo ra nên một phong cách lập trình chính xác và gọn chứa rất nhiều câu ```try``` và ```except```"
      ]
    },
    {
      "cell_type": "markdown",
      "metadata": {
        "id": "M5JlDC9HC9_B",
        "colab_type": "text"
      },
      "source": [
        "### Code không nên viết"
      ]
    },
    {
      "cell_type": "code",
      "metadata": {
        "id": "47hjlNGNngj9",
        "colab_type": "code",
        "colab": {}
      },
      "source": [
        "import os\n",
        "\n",
        "# Vi phạm phong cách lập trình EAFP\n",
        "if os.path.exists(\"file.txt\"):\n",
        "  os.unlink(\"file.txt\")\n",
        " "
      ],
      "execution_count": 0,
      "outputs": []
    },
    {
      "cell_type": "markdown",
      "metadata": {
        "id": "HHPRcgujJuSr",
        "colab_type": "text"
      },
      "source": [
        "### Cách thực hiện tốt nhất\n",
        "#### Giả định rằng file ta cần mở đã tồn tại và bắt lại các vấn đề như là các ngoại lệ\n",
        "\n",
        "Đoạn code được cập nhật phía dưới cho ta hình dung về phong cách EAFP. Không giống như đoạn mã phía trên, đoạn mã dưới giả định rằng file \"file.txt\" đã tồn tại trên hệ thống, và đoạn mã sẽ bắt lại các vấn đề như là các ngoại lệ. Ví dụ, nếu file không tồn tại, một ngoại lệ ```OSError``` sẽ bị bắt lại."
      ]
    },
    {
      "cell_type": "code",
      "metadata": {
        "id": "1wDWAbtYKEwD",
        "colab_type": "code",
        "outputId": "08d66f5b-6501-4ebd-d79e-ca33bfbb4bfb",
        "colab": {
          "base_uri": "https://localhost:8080/",
          "height": 230
        }
      },
      "source": [
        "import os\n",
        "\n",
        "try:\n",
        "  os.unlink(\"file.txt\")\n",
        "# Khởi lên ngoại lệ nếu file không tồn tại\n",
        "except OSError:\n",
        "  raise"
      ],
      "execution_count": 0,
      "outputs": [
        {
          "output_type": "error",
          "ename": "FileNotFoundError",
          "evalue": "ignored",
          "traceback": [
            "\u001b[0;31m---------------------------------------------------------------------------\u001b[0m",
            "\u001b[0;31mFileNotFoundError\u001b[0m                         Traceback (most recent call last)",
            "\u001b[0;32m<ipython-input-5-5d0374c9855e>\u001b[0m in \u001b[0;36m<module>\u001b[0;34m()\u001b[0m\n\u001b[1;32m      2\u001b[0m \u001b[0;34m\u001b[0m\u001b[0m\n\u001b[1;32m      3\u001b[0m \u001b[0;32mtry\u001b[0m\u001b[0;34m:\u001b[0m\u001b[0;34m\u001b[0m\u001b[0;34m\u001b[0m\u001b[0m\n\u001b[0;32m----> 4\u001b[0;31m   \u001b[0mos\u001b[0m\u001b[0;34m.\u001b[0m\u001b[0munlink\u001b[0m\u001b[0;34m(\u001b[0m\u001b[0;34m\"file.txt\"\u001b[0m\u001b[0;34m)\u001b[0m\u001b[0;34m\u001b[0m\u001b[0;34m\u001b[0m\u001b[0m\n\u001b[0m\u001b[1;32m      5\u001b[0m \u001b[0;31m# Khởi lên ngoại lệ nếu file không tồn tại\u001b[0m\u001b[0;34m\u001b[0m\u001b[0;34m\u001b[0m\u001b[0;34m\u001b[0m\u001b[0m\n\u001b[1;32m      6\u001b[0m \u001b[0;32mexcept\u001b[0m \u001b[0mOSError\u001b[0m\u001b[0;34m:\u001b[0m\u001b[0;34m\u001b[0m\u001b[0;34m\u001b[0m\u001b[0m\n",
            "\u001b[0;31mFileNotFoundError\u001b[0m: [Errno 2] No such file or directory: 'file.txt'"
          ]
        }
      ]
    },
    {
      "cell_type": "markdown",
      "metadata": {
        "id": "UfFlYYD_LxiB",
        "colab_type": "text"
      },
      "source": [
        "##9. So sánh các giá trị với ```None``` sai cách\n",
        "\n",
        "Theo hướng dướng PEP 8, cách để so sánh một thứ gì đó với ```None``` thì nên dùng biểu thức điều kiện sau ```if cond is None```. Vì đây chỉ là một hướng dẫn, bạn có thể lờ đi trong trường hợp cần. Mục đích chính của hướng dẫn này nè cải thiện khả năng đọc của code. "
      ]
    },
    {
      "cell_type": "markdown",
      "metadata": {
        "id": "YcnjmWQRMqdD",
        "colab_type": "text"
      },
      "source": [
        "### Code không nên viết \n",
        "Đoạn code phía dưới sử dụng toán tử bằng ```=``` để so sánh một biến với ```None```. Như đã nói ở trên đây không phải là một cách tốt để thực hiện việc so sánh này."
      ]
    },
    {
      "cell_type": "code",
      "metadata": {
        "id": "LUX33aYNMxWs",
        "colab_type": "code",
        "outputId": "56ab416a-f9c7-4fc7-ab37-dae9dfb320eb",
        "colab": {
          "base_uri": "https://localhost:8080/",
          "height": 34
        }
      },
      "source": [
        "number = None\n",
        "\n",
        "if number == None:\n",
        "  print(\"This works, but it is not the preferred PEP 8 pattern\")\n",
        "  "
      ],
      "execution_count": 0,
      "outputs": [
        {
          "output_type": "stream",
          "text": [
            "This works, but it is not the preferred PEP 8 pattern\n"
          ],
          "name": "stdout"
        }
      ]
    },
    {
      "cell_type": "markdown",
      "metadata": {
        "id": "aTZaCLE4NVkW",
        "colab_type": "text"
      },
      "source": [
        "### Cách tốt hơn\n",
        "So sánh các giá trị với ```None``` sử dụng mẫu ```if condition is None```\n"
      ]
    },
    {
      "cell_type": "code",
      "metadata": {
        "id": "Illtl-3PKXMs",
        "colab_type": "code",
        "outputId": "be5a379f-c90e-4b15-cf11-043007b25186",
        "colab": {
          "base_uri": "https://localhost:8080/",
          "height": 34
        }
      },
      "source": [
        "number = None\n",
        "\n",
        "if number is None:\n",
        "  print(\"PEP 8 Style Guide prefers this pattern\")"
      ],
      "execution_count": 0,
      "outputs": [
        {
          "output_type": "stream",
          "text": [
            "PEP 8 Style Guide prefers this pattern\n"
          ],
          "name": "stdout"
        }
      ]
    },
    {
      "cell_type": "markdown",
      "metadata": {
        "id": "fgRkIMN9Nub2",
        "colab_type": "text"
      },
      "source": [
        "Ở ví dụ trên toán tử ```is``` được sử dụng. Toán tử này sẽ kiểm tra xem ```number``` có giống như (identical) ```None``` hay không. ```is``` sẽ trả về ```True``` nếu hai biến này trỏ tới cùng một đối tượng. Hãy kiểm tra xem"
      ]
    },
    {
      "cell_type": "code",
      "metadata": {
        "id": "nx9neoM7NtSb",
        "colab_type": "code",
        "outputId": "867b68ba-c417-4326-98b5-d8ce0e3cbaa6",
        "colab": {
          "base_uri": "https://localhost:8080/",
          "height": 67
        }
      },
      "source": [
        "number = None\n",
        "\n",
        "if number is None:\n",
        "  print(f\"number object: {id(number)}\")\n",
        "  print(f\"None object: {id(None)}\")\n",
        "  print(\"PEP 8 Style Guide prefers this pattern\")"
      ],
      "execution_count": 0,
      "outputs": [
        {
          "output_type": "stream",
          "text": [
            "number object: 10422432\n",
            "None object: 10422432\n",
            "PEP 8 Style Guide prefers this pattern\n"
          ],
          "name": "stdout"
        }
      ]
    },
    {
      "cell_type": "markdown",
      "metadata": {
        "id": "0xfbziqpOMx9",
        "colab_type": "text"
      },
      "source": [
        "Ta thấy được rằng có ```number``` và ```None``` đều trỏ tới một địa chỉ là ```10422432```. "
      ]
    },
    {
      "cell_type": "markdown",
      "metadata": {
        "id": "K4sG8favQKvw",
        "colab_type": "text"
      },
      "source": [
        "## 10. So sánh các giá trị với ```True``` sai cách\n",
        "\n",
        "Theo PEP8 có hai cách ta có thể dùng để so sánh với ```True```, đó là ```if cond is True``` và ```if condition:```. Mặc dù đó chỉ là hướng dẫn, các bạn có thể bỏ qua nhưng nó giúp cho code dễ đọc hơn. "
      ]
    },
    {
      "cell_type": "markdown",
      "metadata": {
        "id": "hrztpJS5QqNp",
        "colab_type": "text"
      },
      "source": [
        "### Code không nên viết\n",
        "Đoạn code phía dưới sử dụng toán tử bằng ```=``` để so sánh một biến với ```True```. Chác chắn rằng đây không chỉ là một anti-pattern trong Python mà còn trong nhiều ngôn ngữ khác nữa\n"
      ]
    },
    {
      "cell_type": "code",
      "metadata": {
        "id": "32TU6865QtWV",
        "colab_type": "code",
        "outputId": "15df8231-a7d8-40af-a130-fef3a7cee34a",
        "colab": {
          "base_uri": "https://localhost:8080/",
          "height": 34
        }
      },
      "source": [
        "flag = True\n",
        "# Cách không được khuyến khích bởi PEP 8\n",
        "if flag == True:\n",
        "  print(\"This works, but is not the prefered PEP8 pattern\")"
      ],
      "execution_count": 0,
      "outputs": [
        {
          "output_type": "stream",
          "text": [
            "This works, but is not the prefered PEP8 pattern\n"
          ],
          "name": "stdout"
        }
      ]
    },
    {
      "cell_type": "markdown",
      "metadata": {
        "id": "gUWs-X4PRaIo",
        "colab_type": "text"
      },
      "source": [
        "### Cách thực hiện tốt hơn thứ nhất\n",
        "\n",
        "Đoạn code dưới đây sử dụng cách được khuyến khích bởi PEP 8 đó là dùng ```if condition:```. Nếu kiểu của ```condition``` là Boolean thì rõ ràng việc so sánh với ```True``` là thừa. Nhưng trong Python, mọi giá trị mà không phải là rỗng (non-empty) đều được xem như là *true* trong các phép kiểm tra điều kiện. Hãy xem tài liệu của Python dưới đây:\n",
        "\n",
        "        Trong ngữ cảnh các phép toán luận lý (boolean), và cũng như là các biểu diễn được sử dụng bởi các câu lệnh rẽ nhánh, các giá trị sau đây được xem như là *false*: ```False```, ```None```, giá trị số 0 của tất cả các kiểu, các chuỗi rỗng và các bộ chứa trống (bao gồm các chuỗi, các tuples, danh sách, từ điển, và các fronzensets). Ngoài ra tất cả các giá trị khác đều là *true*"
      ]
    },
    {
      "cell_type": "code",
      "metadata": {
        "id": "TnLjxE_xRZNa",
        "colab_type": "code",
        "outputId": "718dface-9805-46ce-8a00-acd30617ba1a",
        "colab": {
          "base_uri": "https://localhost:8080/",
          "height": 34
        }
      },
      "source": [
        "flag = True\n",
        "\n",
        "if flag:\n",
        "  print(\"PEP 8 Style Guide prefers this pattern\")"
      ],
      "execution_count": 0,
      "outputs": [
        {
          "output_type": "stream",
          "text": [
            "PEP 8 Style Guide prefers this pattern\n"
          ],
          "name": "stdout"
        }
      ]
    },
    {
      "cell_type": "markdown",
      "metadata": {
        "id": "WkMm-ToZTMZO",
        "colab_type": "text"
      },
      "source": [
        "### So sánh các giá trị với ```True``` sử dụng mẫu ```if cond is True```\n",
        "Đoạn mã dưới đây thường không được sử dụng nhiều. Cách sử dụng này hữu dụng khi bạn muốn tách biệt giá trị ```True``` và tất cả các giá trị khác có thể được xem như *true* ví dụ một số khác 0. Tương tự với ```if cond is False```. Câu biểu diễn này chỉ đúng khi ```cond``` có giá trị thực sự là ```False``` mà không phải là những thứ có thể được xem như ```False``` ví dụ một danh sách trống, một tuple trống, một tập trống. Hãy thử các ví dụ dưới đây"
      ]
    },
    {
      "cell_type": "code",
      "metadata": {
        "id": "FDJi7NhXOLul",
        "colab_type": "code",
        "outputId": "3333a755-3401-41d3-fcea-b2ebec736ea1",
        "colab": {
          "base_uri": "https://localhost:8080/",
          "height": 34
        }
      },
      "source": [
        "flag = True\n",
        "\n",
        "if flag is True:\n",
        "  print(\"PEP 8 Style Guide abhors this pattern\")"
      ],
      "execution_count": 0,
      "outputs": [
        {
          "output_type": "stream",
          "text": [
            "PEP 8 Style Guide abhors this pattern\n"
          ],
          "name": "stdout"
        }
      ]
    },
    {
      "cell_type": "code",
      "metadata": {
        "id": "TLm2J4PVUsIL",
        "colab_type": "code",
        "colab": {}
      },
      "source": [
        "flag = 1\n",
        "\n",
        "if flag is True:\n",
        "  print(\"PEP 8 Style Guide abhors this pattern\")"
      ],
      "execution_count": 0,
      "outputs": []
    },
    {
      "cell_type": "markdown",
      "metadata": {
        "id": "M8i54HV4U8fs",
        "colab_type": "text"
      },
      "source": [
        "Ở ví dụ phía ngay trên ta thấy dù ```flag``` có gía trị là 1 nhưng phần thân của câu ```if``` không được thực thi"
      ]
    },
    {
      "cell_type": "code",
      "metadata": {
        "id": "gE4UI9QQUzP6",
        "colab_type": "code",
        "outputId": "2dec2a8b-cebd-44c5-cc76-9564f545ae3b",
        "colab": {
          "base_uri": "https://localhost:8080/",
          "height": 34
        }
      },
      "source": [
        "flag = False\n",
        "\n",
        "if flag is False:\n",
        "  print(\"PEP 8 Style Guide abhors this pattern\")"
      ],
      "execution_count": 0,
      "outputs": [
        {
          "output_type": "stream",
          "text": [
            "PEP 8 Style Guide abhors this pattern\n"
          ],
          "name": "stdout"
        }
      ]
    },
    {
      "cell_type": "code",
      "metadata": {
        "id": "N6E7gPCvVKzo",
        "colab_type": "code",
        "colab": {}
      },
      "source": [
        "flag = []\n",
        "\n",
        "if flag is False:\n",
        "  print(\"PEP 8 Style Guide abhors this pattern\")"
      ],
      "execution_count": 0,
      "outputs": []
    },
    {
      "cell_type": "markdown",
      "metadata": {
        "id": "c50CZI9EVQGk",
        "colab_type": "text"
      },
      "source": [
        "Ở ví dụ trên ta thấy dù ```flag``` là một danh sách trống nhưng nó vẫn không là ```False```"
      ]
    },
    {
      "cell_type": "markdown",
      "metadata": {
        "id": "wTaSYz1BWxDw",
        "colab_type": "text"
      },
      "source": [
        "##11. Sử dụng type() để so sánh các kiểu\n",
        "Hàm ```isinstance()``` là hàm được trang bị tốt nhất để kiểm tra các kiểu bởi vì nó hỗ trợ thừa kế hay inheritance (ví dụ một hiện thực của một lớp được dẫn xuất cũng là một hiện thực của lớp cơ sở). Do đó ```isinstance()``` nên được sử dụng bất cứ khi nào ta cần so sánh kiểu\n"
      ]
    },
    {
      "cell_type": "markdown",
      "metadata": {
        "id": "BUo1z4GKXYrB",
        "colab_type": "text"
      },
      "source": [
        "## Code không nên viết\n"
      ]
    },
    {
      "cell_type": "code",
      "metadata": {
        "id": "d5n4r5IrXcir",
        "colab_type": "code",
        "outputId": "52278e1b-8284-467f-8312-9de24c01bb54",
        "colab": {
          "base_uri": "https://localhost:8080/",
          "height": 34
        }
      },
      "source": [
        "r = [1, 2, 3]\n",
        "# Cách làm dở\n",
        "if type(r) is list:\n",
        "  print(\"object r is a list\")"
      ],
      "execution_count": 0,
      "outputs": [
        {
          "output_type": "stream",
          "text": [
            "object r is a list\n"
          ],
          "name": "stdout"
        }
      ]
    },
    {
      "cell_type": "markdown",
      "metadata": {
        "id": "OE_Mb1-PYbg0",
        "colab_type": "text"
      },
      "source": [
        "## Code nên viết\n",
        "Sử dụng ```isinstance``` để so sánh các kiểu."
      ]
    },
    {
      "cell_type": "code",
      "metadata": {
        "id": "nytdUnRxYHzK",
        "colab_type": "code",
        "outputId": "a579863e-5999-4533-f3c3-f17773db7db2",
        "colab": {
          "base_uri": "https://localhost:8080/",
          "height": 34
        }
      },
      "source": [
        "\n",
        "\n",
        "r = [1, 2, 3]\n",
        "\n",
        "# good\n",
        "if isinstance(r, list):\n",
        "    print(\"object r is a list\")"
      ],
      "execution_count": 0,
      "outputs": [
        {
          "output_type": "stream",
          "text": [
            "object r is a list\n"
          ],
          "name": "stdout"
        }
      ]
    },
    {
      "cell_type": "markdown",
      "metadata": {
        "id": "EIZ8nP5NNhqd",
        "colab_type": "text"
      },
      "source": [
        "##12. Import mọi thứ từ một module (```from ... import *```)\n",
        "Khi ta import mọi thứ từ một module, các bộ kiểm tra của Python sẽ gặp khó khăn khi muốn phát hiện các tên (names) không được định nghĩa trong chương trình mà nhập vào module đó. Cách thức hiện tốt nhất là sử dụng câu lệnh import để import các thành phần cụ thể và cần thiết."
      ]
    },
    {
      "cell_type": "markdown",
      "metadata": {
        "id": "yUW6cpJUOHHd",
        "colab_type": "text"
      },
      "source": [
        "### Code không nên viết"
      ]
    },
    {
      "cell_type": "code",
      "metadata": {
        "id": "ltVbewAcYlTB",
        "colab_type": "code",
        "colab": {}
      },
      "source": [
        "# Sử dụng import mọi thứ (không tốt)\n",
        "from math import *"
      ],
      "execution_count": 0,
      "outputs": []
    },
    {
      "cell_type": "markdown",
      "metadata": {
        "id": "RlvZ_BYjO89f",
        "colab_type": "text"
      },
      "source": [
        "### Các cách thực tập tốt nhất\n",
        "\n",
        "#### Sử dụng câu lệnh ```import``` với một mục tiêu cụ thể\n",
        "Câu lệnh ```import``` nên được điều chỉnh để import các biến hay các hàm cụ thể từ một module cho sẵn. Đoạn code dưới đây thể hiện điều này, theo đó ta chỉ import hàm ```ceil``` là hàm ta cần"
      ]
    },
    {
      "cell_type": "code",
      "metadata": {
        "id": "8Qn0IrGZONGQ",
        "colab_type": "code",
        "colab": {}
      },
      "source": [
        "from math import ceil"
      ],
      "execution_count": 0,
      "outputs": []
    },
    {
      "cell_type": "markdown",
      "metadata": {
        "id": "QMF_jzwMPmIW",
        "colab_type": "text"
      },
      "source": [
        "#### Import toàn bộ module \n",
        "Có một vài trường hợp ở đó import các hàm hay biến cụ thể không phải là một giải pháp tốt:\n",
        "\n",
        "\n",
        "*   Khi việc duy trì một danh sách các đối tượng được import từ một module trở nên không thiết thực hay cồng kềnh quá.\n",
        "*   Khi ta import một thứ gì đó trực tiếp từ một module, nhưng nó lại gây ra việc xung đột về tên với một thứ khác (ví dụ khi sử dụng from asyncio import TimeoutError, TimeOutError trùng tên với một ngoại lệ)\n",
        "*   Module chứa đối tượng được import có thể cung cấp các thông tin về ngữ cảnh khi nó được gắn với tên của module. \n",
        "\n"
      ]
    },
    {
      "cell_type": "code",
      "metadata": {
        "id": "hcL_kyPePlgk",
        "colab_type": "code",
        "colab": {}
      },
      "source": [
        "# Import cả thư viện math\n",
        "import math\n",
        "x = math.ceil(3.2)\n",
        "\n",
        "# Nếu tên thư viện dài ta có thể dùng cách sau\n",
        "import multiprocessing as mp\n",
        "pool = mp.active_children()"
      ],
      "execution_count": 0,
      "outputs": []
    },
    {
      "cell_type": "markdown",
      "metadata": {
        "id": "hZ5vQC78X43j",
        "colab_type": "text"
      },
      "source": [
        "##13. Dòng import ```__future__``` không phải là dòng đầu tiên trong docstring\n",
        "\n",
        "Module ```__future``` giúp cho một module sẽ dụng một tính năng sẽ trở thành bắt buộc trong các phiên bản trong tương lai của Python, có nghĩa là một nửa của module ta viết có thể sử dụng tính năng cũ của Python đối với với một đặc tính cho trước, một nửa còn lại (nửa phía sau câu import ```__future__```) có thể sử dụng tính năng mới của đặc tính này. Nhưng làm điều này có thể gây ra nhiều lỗi lạ và khó tìm, vì vậy Python không cho phép làm điều đó"
      ]
    },
    {
      "cell_type": "markdown",
      "metadata": {
        "id": "tzPGxg44ZFOl",
        "colab_type": "text"
      },
      "source": [
        "### Code không nên viết\n",
        "\n",
        "Đoạn code dưới đây đặt một câu import ```__future__``` ở giữa module. Khi Python gặp dòng ```from __future__ import division nó cảnh báo một lỗi ```SyntaxError``` và dừng việc thực thi. Tuy nhiên, nếu đoạn code trên được thi thi trong Python 2 câu lệnh in đầu tiên sẽ in ra giá trị ```1```, nhưng câu lệnh in thứ 2 sẽ hiển thị ra số thực, đó là cách trong Python 3 thực hiện phép tính chia. \n",
        "\n",
        "'>>> print(8 / 7)  # 1\n",
        "1\n",
        "\n",
        "\n",
        "'>>> from __future__ import division\n",
        "\n",
        "\n",
        "'>>> print(8 / 7)\n",
        "\n",
        "1.14285714286\n",
        "\n",
        "Như các bạn có thể thấy, điều này tạo ra những biểu hiện lạ, vì vậy Python không cho phép import ```__future__```` ở phần giữa. Module có thể lựa chọn một trong hai phiên bản của phép chia, chứ không thể sử dụng cả 2.\n",
        "\n",
        "Chú ý: đoạn code phía dưới chạy trên Python 3, Python không hề báo lỗi, nhưng bạn nên chọn chỉ sử dụng một trong hai phiên bản của phép chia\n"
      ]
    },
    {
      "cell_type": "code",
      "metadata": {
        "id": "SUiGUy-oREw0",
        "colab_type": "code",
        "outputId": "626e0606-5d9a-4f25-e8ac-6be937b9c19f",
        "colab": {
          "base_uri": "https://localhost:8080/",
          "height": 50
        }
      },
      "source": [
        "print(8 / 7)\n",
        "\n",
        "# Lỗi cú phép\n",
        "from __future__ import division\n",
        "\n",
        "# 1.1428571428571428\n",
        "print(8 / 7)"
      ],
      "execution_count": 0,
      "outputs": [
        {
          "output_type": "stream",
          "text": [
            "1.1428571428571428\n",
            "1.1428571428571428\n"
          ],
          "name": "stdout"
        }
      ]
    },
    {
      "cell_type": "markdown",
      "metadata": {
        "id": "J48rsBc-bipL",
        "colab_type": "text"
      },
      "source": [
        "### Cách thực hiện tốt nhất\n",
        "#### Loại bỏ câu import ```_future```\n",
        "\n",
        "Trong đoạn mã dưới đây, tác giả quyết định loại bỏ câu import ```_future__```, anh ta quyết định sử dụng tính năng chia trong phiên bản cũ. "
      ]
    },
    {
      "cell_type": "code",
      "metadata": {
        "id": "xbheMLv_b5A-",
        "colab_type": "code",
        "outputId": "f6d5a5f6-76a8-4163-8d05-a8163a9c8124",
        "colab": {
          "base_uri": "https://localhost:8080/",
          "height": 34
        }
      },
      "source": [
        "# Loại bỏ câu import __future__ \n",
        "print(8/7)"
      ],
      "execution_count": 0,
      "outputs": [
        {
          "output_type": "stream",
          "text": [
            "1.1428571428571428\n"
          ],
          "name": "stdout"
        }
      ]
    },
    {
      "cell_type": "markdown",
      "metadata": {
        "id": "mCw2NzhgX1Ue",
        "colab_type": "text"
      },
      "source": [
        "### Đặt câu import ```__future__``` trước tất cả các dòng code khác trong chương trình\n",
        "\n",
        "Trong đoạn mã được chỉnh sửa lại phía dưới, tác giả quyết định rằng anh ta cần tính năng mới của phép chia trong phiên bản Python mới. Giải pháp được sử dụng là đặt câu import này tại ngay dòng đầu của module"
      ]
    },
    {
      "cell_type": "code",
      "metadata": {
        "id": "C42V2XrIcUS_",
        "colab_type": "code",
        "colab": {}
      },
      "source": [
        "from __future__ import division\n",
        "\n",
        "# Dòng mã này khi chạy trong Python 2 sẽ sinh ra kết quả là số thực\n",
        "# Thay vì là số nguyên \n",
        "print(8/7)"
      ],
      "execution_count": 0,
      "outputs": []
    },
    {
      "cell_type": "markdown",
      "metadata": {
        "id": "ND4oTllLdG70",
        "colab_type": "text"
      },
      "source": [
        "##14. Sử dụng các getters và setters theo phong cách Java\n",
        "\n",
        "Python không phải là Java. Nếu bạn cần thiết lập hay lấy ra các thành viên của một lớp hay là một đối tượng, bạn chỉ cần đưa thành viên ra thành biến công cộng và truy cập nó trực tiếp. Nếu bạn cần thực hiện một vài việc tính toán trước khi lấy một thành viên hay thiết lập thành viên đó, hãy sử dụng decorator có sẵn là ```property```"
      ]
    },
    {
      "cell_type": "markdown",
      "metadata": {
        "id": "1_z-XM9zf6yu",
        "colab_type": "text"
      },
      "source": [
        "### Code không nên viết\n",
        "\n",
        "Lập trình viên viết đoạn mã dưới đây xuất phát điểm là một lập trình viên Java. Đối với mỗi thành viên của lớp ```Square``` mà anh ta muốn đưa ra công cộng, anh ta định nghĩa một phương thức ```get``` cho truy xuất và ```set``` cho việc thiết lập thành viên đó. Đây là cách thực hành phổ biến trong Java, nhưng trong Python nó bị xem như là cách làm tốn thời gian và tạo ra những đoạn mã dư thừa"
      ]
    },
    {
      "cell_type": "code",
      "metadata": {
        "id": "GPBoEGstf1BQ",
        "colab_type": "code",
        "colab": {}
      },
      "source": [
        "class Square(object):\n",
        "  def __init__(self, length):\n",
        "    self._length = length\n",
        "    \n",
        "  # Theo kiểu Java\n",
        "  def get_length(self):\n",
        "    return self._length\n",
        "  \n",
        "  # Theo kiểu Java\n",
        "  def set_length(self, length):\n",
        "    self._length = length\n",
        "    \n"
      ],
      "execution_count": 0,
      "outputs": []
    },
    {
      "cell_type": "code",
      "metadata": {
        "id": "DiabgYaTg5UE",
        "colab_type": "code",
        "colab": {}
      },
      "source": [
        "r = Square(5)"
      ],
      "execution_count": 0,
      "outputs": []
    },
    {
      "cell_type": "code",
      "metadata": {
        "id": "BwEwleQBg72t",
        "colab_type": "code",
        "outputId": "173eda38-9da4-4169-95c1-e1be19ebc1f4",
        "colab": {
          "base_uri": "https://localhost:8080/",
          "height": 34
        }
      },
      "source": [
        "r.get_length()\n"
      ],
      "execution_count": 0,
      "outputs": [
        {
          "output_type": "execute_result",
          "data": {
            "text/plain": [
              "5"
            ]
          },
          "metadata": {
            "tags": []
          },
          "execution_count": 5
        }
      ]
    },
    {
      "cell_type": "code",
      "metadata": {
        "id": "P9yrvhPDg9AU",
        "colab_type": "code",
        "colab": {}
      },
      "source": [
        "r.set_length(6)"
      ],
      "execution_count": 0,
      "outputs": []
    },
    {
      "cell_type": "markdown",
      "metadata": {
        "id": "S6ravf22g_i-",
        "colab_type": "text"
      },
      "source": [
        "### Cách thực hiện tốt nhất\n",
        "#### Truy cập trực tiếp vào các thành viên\n",
        "\n",
        "Trong Python việc truy cập trực tiếp vào các thành viên của một lớp hay đối tượng là điều có thể chấp nhận. Đoạn code được chỉnh sửa lại dứoi đây phơi ra  thành viên ```length``` như là một thành viên công cộng. Ta biết điều này vì biến này không bắt đầu bằng dấu gạch chân ```_```. Các phương thức ```get_length()``` và ```set_length()``` cũng không còn cần tới nữa nên bị xoá đi"
      ]
    },
    {
      "cell_type": "code",
      "metadata": {
        "id": "EdA6fqiug-ga",
        "colab_type": "code",
        "colab": {}
      },
      "source": [
        "class Square(object):\n",
        "  def __init__(self, length):\n",
        "    self.length = length\n",
        "   "
      ],
      "execution_count": 0,
      "outputs": []
    },
    {
      "cell_type": "code",
      "metadata": {
        "id": "vv4CNPxVh5L7",
        "colab_type": "code",
        "colab": {}
      },
      "source": [
        "r = Square(5)\n"
      ],
      "execution_count": 0,
      "outputs": []
    },
    {
      "cell_type": "code",
      "metadata": {
        "id": "-E9xy8ieh8SG",
        "colab_type": "code",
        "outputId": "64f0b543-f915-468f-8c99-fab10373f8cd",
        "colab": {
          "base_uri": "https://localhost:8080/",
          "height": 34
        }
      },
      "source": [
        "r.length"
      ],
      "execution_count": 0,
      "outputs": [
        {
          "output_type": "execute_result",
          "data": {
            "text/plain": [
              "5"
            ]
          },
          "metadata": {
            "tags": []
          },
          "execution_count": 9
        }
      ]
    },
    {
      "cell_type": "code",
      "metadata": {
        "id": "MqygSKsbh9KN",
        "colab_type": "code",
        "colab": {}
      },
      "source": [
        "r.length = 6"
      ],
      "execution_count": 0,
      "outputs": []
    },
    {
      "cell_type": "code",
      "metadata": {
        "id": "_cH-SoLRh_Dp",
        "colab_type": "code",
        "outputId": "548d4f92-99c5-4d04-c28e-fdc01b454584",
        "colab": {
          "base_uri": "https://localhost:8080/",
          "height": 34
        }
      },
      "source": [
        "r.length"
      ],
      "execution_count": 0,
      "outputs": [
        {
          "output_type": "execute_result",
          "data": {
            "text/plain": [
              "6"
            ]
          },
          "metadata": {
            "tags": []
          },
          "execution_count": 11
        }
      ]
    },
    {
      "cell_type": "markdown",
      "metadata": {
        "id": "xkJJoaCIiC69",
        "colab_type": "text"
      },
      "source": [
        "#### Sử dụng decorator có sẵn ```property```\n",
        "\n",
        "Khi một hành viên cần được bảo vệ và không nên đem nó ra làm thành viên công cộng, sử dụng decorator ```property``` để thực hiện các tính năng của getters và setters"
      ]
    },
    {
      "cell_type": "code",
      "metadata": {
        "id": "-Zc5DTSRiAC_",
        "colab_type": "code",
        "colab": {}
      },
      "source": [
        "class Square(object):\n",
        "  def __init__(self, length):\n",
        "    self._length = length\n",
        "    \n",
        "  @property\n",
        "  def length(self):\n",
        "    return self._length\n",
        "  \n",
        "  @length.setter\n",
        "  def length(self, value):\n",
        "    self._length = value\n",
        "    \n",
        "  @length.deleter\n",
        "  def length(self):\n",
        "    del self._length"
      ],
      "execution_count": 0,
      "outputs": []
    },
    {
      "cell_type": "code",
      "metadata": {
        "id": "gJrOk2oNix9L",
        "colab_type": "code",
        "colab": {}
      },
      "source": [
        "r = Square(5)"
      ],
      "execution_count": 0,
      "outputs": []
    },
    {
      "cell_type": "code",
      "metadata": {
        "id": "cb1wm3W3i0cv",
        "colab_type": "code",
        "outputId": "22d14033-dbc8-460e-a996-1067b693b0d4",
        "colab": {
          "base_uri": "https://localhost:8080/",
          "height": 34
        }
      },
      "source": [
        "# Lấy ra giá trị của thành viên length\n",
        "r.length"
      ],
      "execution_count": 0,
      "outputs": [
        {
          "output_type": "execute_result",
          "data": {
            "text/plain": [
              "5"
            ]
          },
          "metadata": {
            "tags": []
          },
          "execution_count": 14
        }
      ]
    },
    {
      "cell_type": "code",
      "metadata": {
        "id": "V73x2yPCi1l5",
        "colab_type": "code",
        "colab": {}
      },
      "source": [
        "# Gán giá trị cho thành viên length\n",
        "r.length = 6"
      ],
      "execution_count": 0,
      "outputs": []
    },
    {
      "cell_type": "code",
      "metadata": {
        "id": "f24aI2Kii4hm",
        "colab_type": "code",
        "outputId": "a41454fc-82e2-4090-d86d-8db82c21824b",
        "colab": {
          "base_uri": "https://localhost:8080/",
          "height": 34
        }
      },
      "source": [
        "r.length"
      ],
      "execution_count": 0,
      "outputs": [
        {
          "output_type": "execute_result",
          "data": {
            "text/plain": [
              "6"
            ]
          },
          "metadata": {
            "tags": []
          },
          "execution_count": 16
        }
      ]
    },
    {
      "cell_type": "code",
      "metadata": {
        "id": "jzy5DGawi5ZK",
        "colab_type": "code",
        "colab": {}
      },
      "source": [
        "# Xoá thành viên length\n",
        "del r.length"
      ],
      "execution_count": 0,
      "outputs": []
    },
    {
      "cell_type": "code",
      "metadata": {
        "id": "N3fYSJQyjG2s",
        "colab_type": "code",
        "outputId": "5f44ab30-0d8e-433e-9751-27bb3fa1d1ce",
        "colab": {
          "base_uri": "https://localhost:8080/",
          "height": 300
        }
      },
      "source": [
        "r.length"
      ],
      "execution_count": 0,
      "outputs": [
        {
          "output_type": "error",
          "ename": "AttributeError",
          "evalue": "ignored",
          "traceback": [
            "\u001b[0;31m---------------------------------------------------------------------------\u001b[0m",
            "\u001b[0;31mAttributeError\u001b[0m                            Traceback (most recent call last)",
            "\u001b[0;32m<ipython-input-18-1697af2cfc88>\u001b[0m in \u001b[0;36m<module>\u001b[0;34m()\u001b[0m\n\u001b[0;32m----> 1\u001b[0;31m \u001b[0mr\u001b[0m\u001b[0;34m.\u001b[0m\u001b[0mlength\u001b[0m\u001b[0;34m\u001b[0m\u001b[0;34m\u001b[0m\u001b[0m\n\u001b[0m",
            "\u001b[0;32m<ipython-input-12-3db276d2878b>\u001b[0m in \u001b[0;36mlength\u001b[0;34m(self)\u001b[0m\n\u001b[1;32m      5\u001b[0m   \u001b[0;34m@\u001b[0m\u001b[0mproperty\u001b[0m\u001b[0;34m\u001b[0m\u001b[0;34m\u001b[0m\u001b[0m\n\u001b[1;32m      6\u001b[0m   \u001b[0;32mdef\u001b[0m \u001b[0mlength\u001b[0m\u001b[0;34m(\u001b[0m\u001b[0mself\u001b[0m\u001b[0;34m)\u001b[0m\u001b[0;34m:\u001b[0m\u001b[0;34m\u001b[0m\u001b[0;34m\u001b[0m\u001b[0m\n\u001b[0;32m----> 7\u001b[0;31m     \u001b[0;32mreturn\u001b[0m \u001b[0mself\u001b[0m\u001b[0;34m.\u001b[0m\u001b[0m_length\u001b[0m\u001b[0;34m\u001b[0m\u001b[0;34m\u001b[0m\u001b[0m\n\u001b[0m\u001b[1;32m      8\u001b[0m \u001b[0;34m\u001b[0m\u001b[0m\n\u001b[1;32m      9\u001b[0m   \u001b[0;34m@\u001b[0m\u001b[0mlength\u001b[0m\u001b[0;34m.\u001b[0m\u001b[0msetter\u001b[0m\u001b[0;34m\u001b[0m\u001b[0;34m\u001b[0m\u001b[0m\n",
            "\u001b[0;31mAttributeError\u001b[0m: 'Square' object has no attribute '_length'"
          ]
        }
      ]
    },
    {
      "cell_type": "markdown",
      "metadata": {
        "id": "gmHf3PtnnGxM",
        "colab_type": "text"
      },
      "source": [
        "##15. Dùng dấu cách lẫn với tabs khi thụt dòng\n",
        "\n",
        "Theo kiểu PEP8, tất cả code Python nên được thụt vào 4 dấu cách (spaces), chứ không phải là tabs"
      ]
    },
    {
      "cell_type": "markdown",
      "metadata": {
        "id": "LLCxk_Nfnhw6",
        "colab_type": "text"
      },
      "source": [
        "### Code không nên viết\n",
        "Đoạn code dứoi đây dùng lẫn lộn các dấu cách và tabs khi thụt dòng. Dòng ```print(\"Hello, World!\")``` được thụt vào sử dụng một tab. Dòng ```print(\"Goodybye, World!\")``` thì được thụt vào với 4 dấu cách"
      ]
    },
    {
      "cell_type": "code",
      "metadata": {
        "id": "TTaISvB4jHuq",
        "colab_type": "code",
        "colab": {}
      },
      "source": [
        "def print_hello_world():\n",
        "# indented with tab\n",
        "    print(\"Hello, World!\")\n",
        "def print_goodbye_world():\n",
        "    # indented with 4 spaces\n",
        "    print(\"Goodbye, World!\")"
      ],
      "execution_count": 0,
      "outputs": []
    },
    {
      "cell_type": "markdown",
      "metadata": {
        "id": "DycGr0FqoIcv",
        "colab_type": "text"
      },
      "source": [
        "### Giải pháp\n",
        "\n",
        "Tất cả code viết trong Python nên được thụt vào 4 dấu cách\n",
        "\n"
      ]
    },
    {
      "cell_type": "code",
      "metadata": {
        "id": "l7ihmGhmoHre",
        "colab_type": "code",
        "colab": {}
      },
      "source": [
        "def print_hello_world():\n",
        "    print(\"Hello, World!\")  # indented with 4 spaces\n",
        "def print_goodbye_world():\n",
        "    print(\"Goodbye, World!\")  # indented with 4 spaces"
      ],
      "execution_count": 0,
      "outputs": []
    },
    {
      "cell_type": "markdown",
      "metadata": {
        "id": "92JvwMeeosuv",
        "colab_type": "text"
      },
      "source": [
        "##16. Phương thức (method) có thể là một hàm (function)\n",
        "\n",
        "Khi một phương thức không có các decorators ```@staticmethod``` hay ```@classmethod``` ở phía trước và không chứa các tham chiếu tới lớp hay hiện thực (thông qua các từ khoá như ```cls``` hoặc ```self```), Python sẽ đưa ra một lỗi ```Method could be a function```, nghĩa là phương thức được khai báo này có thể là một hàm đơn, không phụ thuộc vào lớp hay hiện thực chứa nó. Đây không phải là một lỗi nghiêm trọng, nhưng bạn nên kiểm tra lại mã mình viết để xác định xem có cần định nghĩa đoạn code này như là một phương thức của lớp đó hay không"
      ]
    },
    {
      "cell_type": "markdown",
      "metadata": {
        "id": "hVzlKdEiqSc5",
        "colab_type": "text"
      },
      "source": [
        "### Code không nên viết\n",
        "\n",
        "Ở đoạn code phía dưới phương thức ```area``` không tham chiếu ới hiện thực hay lớp nào cả, vì chúng không sử dụng các từ khoá ```self``` hay là ```cls```, ngoài ra nó cũng không có decorator ```@staticmethod``` nhiều chương trình rà lỗi sẽ đưa lỗi ```Method could be a function```. Tuy nhiên ở dưới đây khi ta chạy trong colab, nó không cảnh báo lỗi này. "
      ]
    },
    {
      "cell_type": "code",
      "metadata": {
        "id": "qL6xvDPKoru4",
        "colab_type": "code",
        "colab": {}
      },
      "source": [
        "class Rectangle:\n",
        "  def __init__(self, width, height):\n",
        "    self.width = width\n",
        "    self.height = height\n",
        "    self.area = width * height\n",
        "    \n",
        "  # Nên đặt @staticmethod trước phương thức này\n",
        "  def area(width, height):\n",
        "    return width * height"
      ],
      "execution_count": 0,
      "outputs": []
    },
    {
      "cell_type": "markdown",
      "metadata": {
        "id": "yDBnelSsrVPT",
        "colab_type": "text"
      },
      "source": [
        "### Phương thức của lớp mà không có ```@classmethod``` ở phía trước \n",
        "\n",
        "Trong lớp ```Rectangle``` phía dưới, phương thức ```print_class_name``` chỉ in ra tên của lớp. Một lần nữa, Python có thể cảnh báo lỗi ```Method could be a function``` bởi vì phương thức này không tham chiếu tới bất cứ thành viên hay phương thức nào cả và cũng không có decorator ```@classmethod``` ở phía trước. \n",
        "\n"
      ]
    },
    {
      "cell_type": "code",
      "metadata": {
        "id": "S0NbCqROrean",
        "colab_type": "code",
        "colab": {}
      },
      "source": [
        "class Rectangle:\n",
        "  def __init__(self, width, height):\n",
        "    self.width = width\n",
        "    self.height = height\n",
        "    self.area = width * height\n",
        "    \n",
        "  # Nên đặt @classmethod ở trước phương thức \n",
        "  # Thiếu đi tham số đầu tiên \"cls\"\n",
        "  def print_class_name():\n",
        "    print(\"class name: Rectangle\")"
      ],
      "execution_count": 0,
      "outputs": []
    },
    {
      "cell_type": "markdown",
      "metadata": {
        "id": "-6EbPeUNtGXx",
        "colab_type": "text"
      },
      "source": [
        "### Các cách thực hiện tốt hơn\n",
        "\n",
        "#### Thêm decorator ```@staticmethod``` trước phương thức tĩnh (static method)\n",
        "\n",
        "Tất cả các phương thức tĩnh phải có decorator ```@staticmethod``` đặt trước đó. Ví dụ"
      ]
    },
    {
      "cell_type": "code",
      "metadata": {
        "id": "eRaMCfD0tXPX",
        "colab_type": "code",
        "colab": {}
      },
      "source": [
        "class Rectangle:\n",
        "  def __init__(self, width, height):\n",
        "    self.width = width\n",
        "    self.height = height\n",
        "    self.area = width * height\n",
        "    \n",
        "  # Nói rõ đây là phương thức tĩnh và nó thuộc vào lớp này\n",
        "  @staticmethod\n",
        "  def area(width, height):\n",
        "    return width * height  "
      ],
      "execution_count": 0,
      "outputs": []
    },
    {
      "cell_type": "markdown",
      "metadata": {
        "id": "h7a5SMYVtkgn",
        "colab_type": "text"
      },
      "source": [
        "#### Thêm decorator @classmethod trước phương thức lớp\n",
        "\n",
        "Tất cả các phương thức liên quan tới lớp phải có decorator ```@classmethod``` đặt trước đó. Hơn nữa, ta cần thêm tham số đầu tiên là ```cls```, tham số này tham chiếu tới chính lớp đó. Ví dụ"
      ]
    },
    {
      "cell_type": "code",
      "metadata": {
        "id": "DXW0db7_sOlu",
        "colab_type": "code",
        "colab": {}
      },
      "source": [
        "class Rectangle:\n",
        "  def __init__(self, width, height):\n",
        "    self.width = width\n",
        "    self.height = height\n",
        "    self.area = width * height\n",
        "    \n",
        "  # Đặt @classmethod ở trước phương thức \n",
        "  # Thêm tham số đầu tiên \"cls\" để tham chiếu tới chính lớp đó\n",
        "  @classmethod\n",
        "  def print_class_name(cls):\n",
        "    print(f\"class name:  {cls.__name__}\" )"
      ],
      "execution_count": 0,
      "outputs": []
    },
    {
      "cell_type": "code",
      "metadata": {
        "id": "lFe9g5H-siB5",
        "colab_type": "code",
        "outputId": "1308d571-676c-4bc7-a5bd-b4b349611c97",
        "colab": {
          "base_uri": "https://localhost:8080/",
          "height": 34
        }
      },
      "source": [
        "r = Rectangle(3, 2)\n",
        "r.print_class_name()"
      ],
      "execution_count": 0,
      "outputs": [
        {
          "output_type": "stream",
          "text": [
            "class name:  Rectangle\n"
          ],
          "name": "stdout"
        }
      ]
    },
    {
      "cell_type": "markdown",
      "metadata": {
        "id": "b45gw8RKxD0L",
        "colab_type": "text"
      },
      "source": [
        "##17. Phương thức không có tham số\n",
        "\n",
        "Không giống như một số ngôn ngữ lập trình khác, Python không truyền các tham chiếu (references) tới các đối tượng hiện thực và lớp một cách tự động. Vì vậy chương trình phải truyền các tham chiếu này như là các tham số một cách rõ ràng bất cứ khi nào chương tình muốn truy cập tới bất cứ thành viên nào của hiện thực hay của lớp bên trong phương thức."
      ]
    },
    {
      "cell_type": "markdown",
      "metadata": {
        "id": "ZIpjGMnFxoS6",
        "colab_type": "text"
      },
      "source": [
        "### Code không nên viết\n",
        "\n",
        "Trong lớp ```Rectangle``` dưới đây, phương thức ```area``` cố gắng trả về giá trị của biến thành viên ```area```. Tuy nhiên, ```self.area``` chưa được nghĩa bởi lý do ta không gửi một tham chiếu tới đối tượng hiện thực một cách rõ ràng tới phương thức ```area```."
      ]
    },
    {
      "cell_type": "code",
      "metadata": {
        "id": "I7_Gt-SWxqcn",
        "colab_type": "code",
        "colab": {}
      },
      "source": [
        "class Rectangle:\n",
        "  def __init__(self, width, height):\n",
        "    self.width = width\n",
        "    self.height = height\n",
        "    self.area = width * height\n",
        "    \n",
        "  # Thiếu tham số \"self\"\n",
        "  def area():\n",
        "    # self không được định nghĩa trước khi truy cấp\n",
        "    return self.area"
      ],
      "execution_count": 0,
      "outputs": []
    },
    {
      "cell_type": "code",
      "metadata": {
        "id": "zJmupnl5smG-",
        "colab_type": "code",
        "outputId": "ec4ffaa8-5ebd-4639-90ce-563e76c79a9d",
        "colab": {
          "base_uri": "https://localhost:8080/",
          "height": 34
        }
      },
      "source": [
        "r = Rectangle(3, 2)\n",
        "r.area"
      ],
      "execution_count": 0,
      "outputs": [
        {
          "output_type": "execute_result",
          "data": {
            "text/plain": [
              "6"
            ]
          },
          "metadata": {
            "tags": []
          },
          "execution_count": 53
        }
      ]
    },
    {
      "cell_type": "markdown",
      "metadata": {
        "id": "QwpZJuHe1B6Q",
        "colab_type": "text"
      },
      "source": [
        "Trường hợp phía trên code vẫn chạy (?). Tuy nhiên ta nên chỉ định rõ ràng tham chiếu tới một đối tượng hiện thực như là tham số tới một phương thức."
      ]
    },
    {
      "cell_type": "markdown",
      "metadata": {
        "id": "Sv9reWlYyxFw",
        "colab_type": "text"
      },
      "source": [
        "### Phương thức lớp thiếu từ khoá ```cls```\n",
        "\n",
        "Phương thức ```print_class_name``` dưới đây cố gắng in ra tên của lớp. Tuy nhiên để truy cập tới tên của lớp, một phương thức cần có một tham chiếu tới đối tượng lớp. Việc này có thể thực hiện bằng cách truyền vào từ khoá ```cls``` với tư cách là tham số đầu tiên. Ở ví dụ dưới phương thức ```print_class_name``` không có được điều này, nên khi ta cố gắng truy cập ```cls``` trong phương thức sẽ gây ra lỗi"
      ]
    },
    {
      "cell_type": "code",
      "metadata": {
        "id": "dZaYFxlhy2TJ",
        "colab_type": "code",
        "colab": {}
      },
      "source": [
        "class Rectangle:\n",
        "  \n",
        "  def __init__(self, width, height):\n",
        "    self.width = width\n",
        "    self.height = height\n",
        "    self.area = width * height\n",
        "  @classmethod\n",
        "  # Thiếu thao số \"cls\"\n",
        "  def print_class_name():\n",
        "    # ở đây cls không được định nghĩa\n",
        "    print(\"Hello, I am {0}\".format(cls))"
      ],
      "execution_count": 0,
      "outputs": []
    },
    {
      "cell_type": "code",
      "metadata": {
        "id": "1uh4PSnfysPK",
        "colab_type": "code",
        "colab": {}
      },
      "source": [
        "r = Rectangle(3, 2)"
      ],
      "execution_count": 0,
      "outputs": []
    },
    {
      "cell_type": "code",
      "metadata": {
        "id": "QSIdaUD8zvK_",
        "colab_type": "code",
        "outputId": "ef1638e5-214c-453c-904c-bd6b2ad445d5",
        "colab": {
          "base_uri": "https://localhost:8080/",
          "height": 182
        }
      },
      "source": [
        "r.print_class_name()"
      ],
      "execution_count": 0,
      "outputs": [
        {
          "output_type": "error",
          "ename": "TypeError",
          "evalue": "ignored",
          "traceback": [
            "\u001b[0;31m---------------------------------------------------------------------------\u001b[0m",
            "\u001b[0;31mTypeError\u001b[0m                                 Traceback (most recent call last)",
            "\u001b[0;32m<ipython-input-56-ba534542cece>\u001b[0m in \u001b[0;36m<module>\u001b[0;34m()\u001b[0m\n\u001b[0;32m----> 1\u001b[0;31m \u001b[0mr\u001b[0m\u001b[0;34m.\u001b[0m\u001b[0mprint_class_name\u001b[0m\u001b[0;34m(\u001b[0m\u001b[0;34m)\u001b[0m\u001b[0;34m\u001b[0m\u001b[0;34m\u001b[0m\u001b[0m\n\u001b[0m",
            "\u001b[0;31mTypeError\u001b[0m: print_class_name() takes 0 positional arguments but 1 was given"
          ]
        }
      ]
    },
    {
      "cell_type": "markdown",
      "metadata": {
        "id": "ODXSy-TPz154",
        "colab_type": "text"
      },
      "source": [
        "### Cách thực hiện tốt hơn\n",
        "\n",
        "#### Thêm tham số ```self``` vào các phương thức của hiện thức (instance methods)\n",
        "\n",
        "Để truy cập tới biến thành viên ```area``` của một hiện thực ```Rectangle```, phương thức cần có tham số đầu tiên là một tham chiếu tới đối tượng hiện thực, sử dụng từ khoá ```self```"
      ]
    },
    {
      "cell_type": "code",
      "metadata": {
        "id": "2dulDiS1zxNK",
        "colab_type": "code",
        "colab": {}
      },
      "source": [
        "class Rectangle:\n",
        "  def __init__(self, width, height):\n",
        "    self.width = width\n",
        "    self.height = height\n",
        "    self.area = width * height\n",
        "    \n",
        "  # Thêm tham số \"self\"\n",
        "  def area(self):\n",
        "    # self không được định nghĩa trước khi truy cấp\n",
        "    return self.area"
      ],
      "execution_count": 0,
      "outputs": []
    },
    {
      "cell_type": "code",
      "metadata": {
        "id": "coToNp8W0YpP",
        "colab_type": "code",
        "outputId": "aea5c900-9909-41dd-b7e7-50c05ed7528b",
        "colab": {
          "base_uri": "https://localhost:8080/",
          "height": 34
        }
      },
      "source": [
        "r = Rectangle(3, 2)\n",
        "r.area"
      ],
      "execution_count": 0,
      "outputs": [
        {
          "output_type": "execute_result",
          "data": {
            "text/plain": [
              "6"
            ]
          },
          "metadata": {
            "tags": []
          },
          "execution_count": 45
        }
      ]
    },
    {
      "cell_type": "markdown",
      "metadata": {
        "id": "8EA6Ldz41hF-",
        "colab_type": "text"
      },
      "source": [
        "## Thêm từ khoá ```cls``` vào phương thức lớp\n",
        "\n",
        "Để truy cập tới tên của lớp từ thương thức ```print_class_name``` ta cần truyền vào nó một đối tượng lớp. Ta thực hiện điều này bằng cách thêm vào từ khoá ```cls``` trong vai trò là tham số đầu tiên của phương thức."
      ]
    },
    {
      "cell_type": "code",
      "metadata": {
        "id": "zq38PQX_0ZCE",
        "colab_type": "code",
        "colab": {}
      },
      "source": [
        "class Rectangle:\n",
        "  @classmethod\n",
        "  # Các thành viên của lớp có thể được lấy ra từ \"cls\"\n",
        "  def print_class_name(cls):\n",
        "    print(\"Hello, I am {0}\".format(cls))"
      ],
      "execution_count": 0,
      "outputs": []
    },
    {
      "cell_type": "code",
      "metadata": {
        "id": "C2kbj3n-2Dy8",
        "colab_type": "code",
        "colab": {}
      },
      "source": [
        "r = Rectangle()"
      ],
      "execution_count": 0,
      "outputs": []
    },
    {
      "cell_type": "code",
      "metadata": {
        "id": "saUFPUyH2G_b",
        "colab_type": "code",
        "outputId": "8adfe9cc-95be-4659-cf1d-5d8ba8ac2053",
        "colab": {
          "base_uri": "https://localhost:8080/",
          "height": 34
        }
      },
      "source": [
        "r.print_class_name()"
      ],
      "execution_count": 0,
      "outputs": [
        {
          "output_type": "stream",
          "text": [
            "Hello, I am <class '__main__.Rectangle'>\n"
          ],
          "name": "stdout"
        }
      ]
    },
    {
      "cell_type": "markdown",
      "metadata": {
        "id": "govi8py-3JTW",
        "colab_type": "text"
      },
      "source": [
        "##18. Truyền thiếu tham số cho hàm ```super()```\n",
        "\n",
        "```super()``` cho phép bạn truy cập tới các phương thức và các thành viên của một lớp cha mà không phải trỏ tới lớp cha đó bằng tên của nó. Trong trường hợp thừa hưởng đơn tham số đầu tiên truyền cho ```super()``` nên là tên của lớp con, lớp gọi ```super()```, tham số thứ 2 nên là ```self```, đây là biến trỏ tới đối tượng hiện hành gọi ```super()```\n",
        "\n",
        "Chú ý: Lỗi này chỉ bị khởi lên trong các phiên bản Python 2.x mà hỗ trợ các lớp kiểu mới.\n",
        "[link text](https://)"
      ]
    },
    {
      "cell_type": "markdown",
      "metadata": {
        "id": "1K4j1jar3_Vq",
        "colab_type": "text"
      },
      "source": [
        "### Code không nên viết\n",
        "\n",
        "Tác giả của đoạn mã dưới đây không cung cấp một tham số nào tới phương thức ```super()``` của lớp con. Python khởi lên một lỗi runtime ```TypeError``` bởi vì nó kì vọng ít nhất một tham số được truyền cho ```super()```"
      ]
    },
    {
      "cell_type": "code",
      "metadata": {
        "id": "OV5N5g5r2Ij2",
        "colab_type": "code",
        "colab": {}
      },
      "source": [
        "class Rectangle(object):\n",
        "  def __init__(self, width, height):\n",
        "    self.width = width\n",
        "    self.height = height\n",
        "    self.area = width * height\n",
        "    \n",
        "class Square(Rectangle):\n",
        "  def __init__(self, length):\n",
        "    # Không có tham số nào được truyền cho super()\n",
        "    super().__init__(length, length)"
      ],
      "execution_count": 0,
      "outputs": []
    },
    {
      "cell_type": "code",
      "metadata": {
        "id": "GsVazz6c5ERD",
        "colab_type": "code",
        "colab": {}
      },
      "source": [
        "s = Square(5)"
      ],
      "execution_count": 0,
      "outputs": []
    },
    {
      "cell_type": "code",
      "metadata": {
        "id": "M3MmoSUk5GOj",
        "colab_type": "code",
        "outputId": "1f293d37-10de-420a-b844-5cb244847b50",
        "colab": {
          "base_uri": "https://localhost:8080/",
          "height": 34
        }
      },
      "source": [
        "# Truy cập vào biến thành viên area của lớp cha Rectangle\n",
        "print(s.area)"
      ],
      "execution_count": 0,
      "outputs": [
        {
          "output_type": "stream",
          "text": [
            "25\n"
          ],
          "name": "stdout"
        }
      ]
    },
    {
      "cell_type": "markdown",
      "metadata": {
        "id": "tmR_b5XN5TIT",
        "colab_type": "text"
      },
      "source": [
        "### Cách thực hiện tốt nhất\n",
        "\n",
        "#### Truyền tên của lớp con vào ```super()``` như là tham số đầu tiên.\n",
        "\n",
        "Trong đoạn mã được chỉnh sửa lại phía dưới, tác giả truyền vào tên của lớp con (```Square```) , và biến tham chiếu tới đối tượng hiện hành (```self```)."
      ]
    },
    {
      "cell_type": "code",
      "metadata": {
        "id": "JNFlrXVq5IAt",
        "colab_type": "code",
        "colab": {}
      },
      "source": [
        "class Rectangle(object):\n",
        "  def __init__(self, width, height):\n",
        "    self.width = width\n",
        "    self.height = height\n",
        "    self.area = width * height\n",
        "    \n",
        "class Square(Rectangle):\n",
        "  def __init__(self, length):\n",
        "    # Không có tham số nào được truyền cho super()\n",
        "    super(Square, self).__init__(length, length)"
      ],
      "execution_count": 0,
      "outputs": []
    },
    {
      "cell_type": "code",
      "metadata": {
        "id": "7XvwWiNo6oYt",
        "colab_type": "code",
        "colab": {}
      },
      "source": [
        "s = Square(5)"
      ],
      "execution_count": 0,
      "outputs": []
    },
    {
      "cell_type": "code",
      "metadata": {
        "id": "JGahNwWv6p0R",
        "colab_type": "code",
        "outputId": "bd2e6b86-d15f-47b8-d3a2-a3dfd9092e9a",
        "colab": {
          "base_uri": "https://localhost:8080/",
          "height": 34
        }
      },
      "source": [
        "print(s.area)"
      ],
      "execution_count": 0,
      "outputs": [
        {
          "output_type": "stream",
          "text": [
            "25\n"
          ],
          "name": "stdout"
        }
      ]
    },
    {
      "cell_type": "markdown",
      "metadata": {
        "id": "WBjMcqcv-fR_",
        "colab_type": "text"
      },
      "source": [
        "##19. Sử dụng tham số kiểu mutable\n",
        "\n",
        "Truyền vào các dánh sách hay từ điển kiểu mutable (có thể thay đổi sau khi định nghĩa) cho một hàm có thể tạo ra những hậu quả không thể lường trước. Thông thường khi một lập trình viên sử dụng một danh sách hay từ điển trong vai trò là một tham số mặc định tới một hàm, người đó ý muốn chương trình tạo ra một danh sách hay từ điển mới mỗi lần hàm được gọi. Tuy nhiên, đây không phải là cách Python làm điều đó. Cách nó làm là, trong lần đầu hàm được gọi, Python tạo một đối tượng bền vững (persistent object) cho danh sách hay từ điển. Trong các lần gọi hàm tiếp theo , Python sử dụng đối tượng bền vững được tạo bởi lời gọi đầu tiên."
      ]
    },
    {
      "cell_type": "markdown",
      "metadata": {
        "id": "jDDhpDdf_10a",
        "colab_type": "text"
      },
      "source": [
        "### Code không nên viết\n",
        "Lập tình viên viết hàm ```append``` dưới đây giả định rằng hàm này trả về một danh sách mới mỗi lần gọi mà không cần truyền vào tham số thứ 2. Tham số thứ 2 là tham số khởi tạo một danh sách rỗng mỗi lần gọi hàm. Trong thực tế điều này không xảy ra, Python tạo một danh sách bền vững. Trong các lần gọi hàm sau, hàm ```append``` nối giá trị tham số vào danh sách bền vững này."
      ]
    },
    {
      "cell_type": "code",
      "metadata": {
        "id": "JpHwoSQV6rRR",
        "colab_type": "code",
        "colab": {}
      },
      "source": [
        "def append(number, number_list=[]):\n",
        "  number_list.append(number)\n",
        "  print(number_list)\n",
        "  return number_list"
      ],
      "execution_count": 0,
      "outputs": []
    },
    {
      "cell_type": "code",
      "metadata": {
        "id": "peeXbA_XA7e6",
        "colab_type": "code",
        "outputId": "4a188045-8077-4912-cdf9-39f176e5aba3",
        "colab": {
          "base_uri": "https://localhost:8080/",
          "height": 50
        }
      },
      "source": [
        "append(5)  # Kết quả mong đợi [5], kết quả sau khi chạy: [5]"
      ],
      "execution_count": 0,
      "outputs": [
        {
          "output_type": "stream",
          "text": [
            "[5]\n"
          ],
          "name": "stdout"
        },
        {
          "output_type": "execute_result",
          "data": {
            "text/plain": [
              "[5]"
            ]
          },
          "metadata": {
            "tags": []
          },
          "execution_count": 69
        }
      ]
    },
    {
      "cell_type": "code",
      "metadata": {
        "id": "wlyjMqyABCkM",
        "colab_type": "code",
        "outputId": "f007bf2e-3ad4-4e12-eb95-70f1ebec8d18",
        "colab": {
          "base_uri": "https://localhost:8080/",
          "height": 50
        }
      },
      "source": [
        "append(7) # Kết quả mong đợi: [7], kết quả thực sự: [5, 7]"
      ],
      "execution_count": 0,
      "outputs": [
        {
          "output_type": "stream",
          "text": [
            "[5, 7]\n"
          ],
          "name": "stdout"
        },
        {
          "output_type": "execute_result",
          "data": {
            "text/plain": [
              "[5, 7]"
            ]
          },
          "metadata": {
            "tags": []
          },
          "execution_count": 70
        }
      ]
    },
    {
      "cell_type": "code",
      "metadata": {
        "id": "CGiJWAWHBLOM",
        "colab_type": "code",
        "outputId": "adadaaf0-96a5-45b4-b5ed-bea56d1663e2",
        "colab": {
          "base_uri": "https://localhost:8080/",
          "height": 50
        }
      },
      "source": [
        "append(2) # Kết quả mong đợi: [2], kết quả thực sự [5, 7, 2]"
      ],
      "execution_count": 0,
      "outputs": [
        {
          "output_type": "stream",
          "text": [
            "[5, 7, 2]\n"
          ],
          "name": "stdout"
        },
        {
          "output_type": "execute_result",
          "data": {
            "text/plain": [
              "[5, 7, 2]"
            ]
          },
          "metadata": {
            "tags": []
          },
          "execution_count": 71
        }
      ]
    },
    {
      "cell_type": "markdown",
      "metadata": {
        "id": "REkfFsqhBSeo",
        "colab_type": "text"
      },
      "source": [
        "### Cách thực hiện tốt nhất\n",
        "\n",
        "Sử dụng một giá trị gác (sentinel value) để chỉ ra một danh sách hay từ điển rỗng\n",
        "\n",
        "Nếu bạn muốn thay đổi cư xử của hàm ```append``` trên theo đó nó sẽ trả về một danh sách mới mỗi lần được gọi, bạn có thể sử dụng một giá trị canh gác để biểu diễn cách bạn sử dụng nó, và sau đó thay đổi thân hàm để hỗ trợ cách bạn muốn làm. Khi hàm này nhận giá trị gác, nó biết rằng nó được viết để trả về một danh sách mới"
      ]
    },
    {
      "cell_type": "code",
      "metadata": {
        "id": "uFT7XFhqBRXc",
        "colab_type": "code",
        "colab": {}
      },
      "source": [
        "# Từ khoá None là giá trị gác biểu diễn một danh sách rỗng\n",
        "def append(number, number_list=None):\n",
        "  # Kiểm tra giá trị gác và thay đổi cư xử của phần thân code\n",
        "  if number_list is None:\n",
        "    number_list = []\n",
        "  number_list.append(number)\n",
        "  print(number_list)\n",
        "  return number_list"
      ],
      "execution_count": 0,
      "outputs": []
    },
    {
      "cell_type": "code",
      "metadata": {
        "id": "UlmNlKYEDBdV",
        "colab_type": "code",
        "outputId": "2bc4fc0d-03c9-4296-9f7c-d1243e8c40ac",
        "colab": {
          "base_uri": "https://localhost:8080/",
          "height": 50
        }
      },
      "source": [
        "append(5) # # Kết quả mong đợi [5], kết quả sau khi chạy: [5]"
      ],
      "execution_count": 0,
      "outputs": [
        {
          "output_type": "stream",
          "text": [
            "[5]\n"
          ],
          "name": "stdout"
        },
        {
          "output_type": "execute_result",
          "data": {
            "text/plain": [
              "[5]"
            ]
          },
          "metadata": {
            "tags": []
          },
          "execution_count": 73
        }
      ]
    },
    {
      "cell_type": "code",
      "metadata": {
        "id": "IHAjGLLzDE3X",
        "colab_type": "code",
        "outputId": "dbd5967c-c2b7-4554-b65a-4d0667db1b3f",
        "colab": {
          "base_uri": "https://localhost:8080/",
          "height": 50
        }
      },
      "source": [
        "append(7) # Kết quả mong đợi: [7], kết quả thực sự: [7]"
      ],
      "execution_count": 0,
      "outputs": [
        {
          "output_type": "stream",
          "text": [
            "[7]\n"
          ],
          "name": "stdout"
        },
        {
          "output_type": "execute_result",
          "data": {
            "text/plain": [
              "[7]"
            ]
          },
          "metadata": {
            "tags": []
          },
          "execution_count": 74
        }
      ]
    },
    {
      "cell_type": "code",
      "metadata": {
        "id": "jBJIiiF_DHoY",
        "colab_type": "code",
        "outputId": "717b8d89-3ee5-46da-d879-7eea05a07330",
        "colab": {
          "base_uri": "https://localhost:8080/",
          "height": 50
        }
      },
      "source": [
        "append(2) # Kết quả mong đợi: [2], kết quả thực sự [2]"
      ],
      "execution_count": 0,
      "outputs": [
        {
          "output_type": "stream",
          "text": [
            "[2]\n"
          ],
          "name": "stdout"
        },
        {
          "output_type": "execute_result",
          "data": {
            "text/plain": [
              "[2]"
            ]
          },
          "metadata": {
            "tags": []
          },
          "execution_count": 75
        }
      ]
    },
    {
      "cell_type": "markdown",
      "metadata": {
        "id": "JReBLJf-3y2h",
        "colab_type": "text"
      },
      "source": [
        "##20. Không chỉ định (các) kiểu ngoại lệ"
      ]
    },
    {
      "cell_type": "markdown",
      "metadata": {
        "id": "kU9Dt-NU39lg",
        "colab_type": "text"
      },
      "source": [
        "### Code không nên viết\n",
        "Hàm ```divide``` phía dưới thực hiện phép chia a cho b. Để tránh các phép tính toán không hợp lệ (ví dụ, phép chia cho số 0), một khối ```try-except``` được sử dụng. Việc này hợp lệ và đảm bảo rằng hàm sẽ luôn luôn trả về một kết quả. Tuy nhiên, trong khi ta bảo mật đoạn của mình với khối ```try```, thì đồng thời ta có thể ẩn đi các lỗi lập trình, ví dụ, bạn truyền vào một chuỗi văn bản hay một đối tượng , thay vì truyền vào một số. Khi bạn không chỉ định một kiểu ngoại lệ, bạn không chỉ ẩn đi lỗi này mà còn ẩn đi thông tin về lỗi đó."
      ]
    },
    {
      "cell_type": "code",
      "metadata": {
        "id": "_sQQq8IqDKUf",
        "colab_type": "code",
        "colab": {}
      },
      "source": [
        "def divide(a, b):\n",
        "  try:\n",
        "    result = a / b\n",
        "  except:\n",
        "    result = None\n",
        "  return result"
      ],
      "execution_count": 0,
      "outputs": []
    },
    {
      "cell_type": "code",
      "metadata": {
        "id": "iAMSPEL14_On",
        "colab_type": "code",
        "colab": {}
      },
      "source": [
        "# Ta sẽ không thấy thông tin rõ rệt nào về ngoại lệ sinh ra\n",
        "divide(3, \"123\")"
      ],
      "execution_count": 0,
      "outputs": []
    },
    {
      "cell_type": "markdown",
      "metadata": {
        "id": "HLfMtve15T-_",
        "colab_type": "text"
      },
      "source": [
        "### Cách thực hiện tốt nhất\n",
        "\n",
        "Xử lý các ngoại lệ với các kiểu [ngoại lệ có sẵn của Python](https://docs.python.org/2/library/exceptions.html) "
      ]
    },
    {
      "cell_type": "code",
      "metadata": {
        "id": "7HtJqJSt5BAY",
        "colab_type": "code",
        "colab": {}
      },
      "source": [
        "def divide_correct(a, b):\n",
        "  \n",
        "  result = None\n",
        "  \n",
        "  try:\n",
        "    result = a / b\n",
        "  except ZeroDivisionError:\n",
        "    print(\"Type error: division by 0 ABC.\")\n",
        "  except TypeError:\n",
        "    # Ví dụ, nếu b là một chuỗi\n",
        "    print(\"Type error: division by '{0}'\".format(b))\n",
        "  except Exception as e:\n",
        "    # Xử lý các ngoại lệ khác\n",
        "    print(\"Error '{0}' occured. Arguments {1}\".format(e.message, e.args))\n",
        "  else:\n",
        "    # Thực thi nếu không ngoại lệ xảy ra\n",
        "    print(\"No errors\")\n",
        "  finally:\n",
        "    # Luôn luôn thực thi\n",
        "    if result is None:\n",
        "      result = 0\n",
        "  return result"
      ],
      "execution_count": 0,
      "outputs": []
    },
    {
      "cell_type": "code",
      "metadata": {
        "id": "xkYrqQKr6Yta",
        "colab_type": "code",
        "outputId": "4f17ae72-a07b-40d6-cc5a-cb7d6038ddfe",
        "colab": {
          "base_uri": "https://localhost:8080/",
          "height": 50
        }
      },
      "source": [
        "# Thông tin ngoại lệ được đưa ra rõ ràng\n",
        "divide_correct(3, 0)"
      ],
      "execution_count": 0,
      "outputs": [
        {
          "output_type": "stream",
          "text": [
            "Type error: division by 0 ABC.\n"
          ],
          "name": "stdout"
        },
        {
          "output_type": "execute_result",
          "data": {
            "text/plain": [
              "0"
            ]
          },
          "metadata": {
            "tags": []
          },
          "execution_count": 21
        }
      ]
    },
    {
      "cell_type": "markdown",
      "metadata": {
        "id": "oE4MOE-X7QXG",
        "colab_type": "text"
      },
      "source": [
        "Với cách viết trên, bạn có thẻ xử lý các ngoại lệ dựa trên kiểu thực sự của nó. Kiểu ngoại lệ đầu tiên khớp với lỗi đầu tiên. Bạn được khuyến khích xử lý các kiểu ngoại lệ cụ thể trước (ví dụ kiểu ngoại lệ ```ZeroDivisionError```) và các kiểu lỗi phổ quá (ví dụ., ```Exception``` ) thường được đặt phía cuối khối try-except."
      ]
    },
    {
      "cell_type": "markdown",
      "metadata": {
        "id": "wjuXIux59CjL",
        "colab_type": "text"
      },
      "source": [
        "### Triển khai các lớp ngoại lệ tự định nghĩa\n",
        "\n",
        "Ngoài các ngoại lệ chuẩn Python cung cấp, bạn có thể triển khai các lớp ngoại lệ của riêng bạn"
      ]
    },
    {
      "cell_type": "code",
      "metadata": {
        "id": "9cj6d3wm_ACi",
        "colab_type": "code",
        "colab": {}
      },
      "source": [
        "class DivisorTooSmallError(Exception):\n",
        "    def __init__(self, arg):\n",
        "        self.args = arg\n",
        "\n",
        "def divide(a, b):\n",
        "    try:\n",
        "      raise DivisorTooSmallError(divide.__code__.co_varnames)\n",
        "    except DivisorTooSmallError as error:\n",
        "      print(error.args)"
      ],
      "execution_count": 0,
      "outputs": []
    },
    {
      "cell_type": "code",
      "metadata": {
        "id": "8Lz_K9UzBNt0",
        "colab_type": "code",
        "outputId": "be5eafe2-5608-477a-d3de-7cb34c9c7ad9",
        "colab": {
          "base_uri": "https://localhost:8080/",
          "height": 34
        }
      },
      "source": [
        "divide(1, 0)\n"
      ],
      "execution_count": 0,
      "outputs": [
        {
          "output_type": "stream",
          "text": [
            "('a', 'b', 'error')\n"
          ],
          "name": "stdout"
        }
      ]
    },
    {
      "cell_type": "code",
      "metadata": {
        "id": "uAoy_qB391f7",
        "colab_type": "code",
        "colab": {}
      },
      "source": [
        ""
      ],
      "execution_count": 0,
      "outputs": []
    },
    {
      "cell_type": "markdown",
      "metadata": {
        "id": "xHjZAi7ADBNo",
        "colab_type": "text"
      },
      "source": [
        "##21. Không sử dụng ```defaultdict()```\n",
        "\n",
        "Khi tạo một từ điển sử dụng ```defaultdict()```, giá trị cho mỗi chìa khoá trong từ điển sẽ được gán cho một giá trị mặc định được định nghĩa trong tham số đầu tiên của ```defaultdict()```. Cách này dài dòng và dễ gây lỗi bởi vì ta thiết lập giá trị cho mỗi từ khoá một cách thủ công."
      ]
    },
    {
      "cell_type": "markdown",
      "metadata": {
        "id": "duPeio7WFUF9",
        "colab_type": "text"
      },
      "source": [
        "### Code không nên viết\n",
        "Đoạn code phía dưới định nghĩa một từ điển rỗng và sau đó khởi tạo các chìa khoá của từ điển một cách thủ công. Mặc dù đoạn code này không sai, nhưng có một cách gọn và ít gây sai hơn sẽ được mô tả trong phần lời giải dưới đây"
      ]
    },
    {
      "cell_type": "code",
      "metadata": {
        "id": "4SWNIERiFTiX",
        "colab_type": "code",
        "outputId": "6f819b0e-f151-4181-95c7-93be2d45ce85",
        "colab": {
          "base_uri": "https://localhost:8080/",
          "height": 34
        }
      },
      "source": [
        "d = {}\n",
        "\n",
        "if \"k\" not in d:\n",
        "  d[\"k\"] = 6\n",
        "  \n",
        "d[\"k\"] += 1\n",
        "\n",
        "print(d[\"k\"])"
      ],
      "execution_count": 0,
      "outputs": [
        {
          "output_type": "stream",
          "text": [
            "7\n"
          ],
          "name": "stdout"
        }
      ]
    },
    {
      "cell_type": "markdown",
      "metadata": {
        "id": "vpfD9MP1FyMH",
        "colab_type": "text"
      },
      "source": [
        "### Cách thực hiện tốt hơn\n",
        "\n",
        "#### Sử dụng ```defaultdict()``` để khởi tạo chìa khoá của từ điển\n",
        "\n",
        "Đoạn code dưới đây sử dụng ```defaultdict``` để khởi tạo một từ điển. Bất cứ khi nào một chìa khoá mới được tạo, giá trị mặc định của từ khoá đó là 6. Đoạn code này tương đương với đoạn code trước đó, nhưng nó gọn hơn và ít gây sai hơn, bởi vì mọi chìa khoá được tự động khởi tạo với giá trị 6 mà không cần phải làm thêm gì cả."
      ]
    },
    {
      "cell_type": "code",
      "metadata": {
        "id": "5AZZyi5XFxKB",
        "colab_type": "code",
        "outputId": "881c5b47-e6bd-4c68-a137-ff97d2ae3d34",
        "colab": {
          "base_uri": "https://localhost:8080/",
          "height": 50
        }
      },
      "source": [
        "from collections import defaultdict\n",
        "\n",
        "d = defaultdict(lambda : 6)\n",
        "d[\"k\"] += 1\n",
        "\n",
        "print(d[\"k\"])\n",
        "\n",
        "d[\"h\"] += 1\n",
        "print(d[\"h\"])"
      ],
      "execution_count": 0,
      "outputs": [
        {
          "output_type": "stream",
          "text": [
            "7\n",
            "7\n"
          ],
          "name": "stdout"
        }
      ]
    },
    {
      "cell_type": "markdown",
      "metadata": {
        "id": "N8T0CwC2Hmwj",
        "colab_type": "text"
      },
      "source": [
        "##22. Không sử dụng ```else``` ở nơi thích hợp trong một vòng lặp\n",
        "\n",
        "Python có câu lệnh ```else`` được cung cấp sẵn, có thể sử dụng cho các vòng lặp ```for```. Nếu một vòng lặp ```for``` hoàn thành mà không sớm bị ngắt bởi các câu lệnh ```break``` hay ```return```, khi đó khối ```else``` trong vòng lặp sẽ được thực thi."
      ]
    },
    {
      "cell_type": "markdown",
      "metadata": {
        "id": "YZipzZBjIOjI",
        "colab_type": "text"
      },
      "source": [
        "### Code không nên viết\n",
        "\n",
        "Đoạn mã dưới đây tìm kiếm một số ma thuật (magic number) trong một danh sách. Nếu con số ma thuật nà được tìm thấy trong danh sách, chương trình sẽ in ra dòng ```Magic number found```. Ngược lại, nếu ta không tìm thấy số ma thuật, chương trình in ra dòng ```Magic number not found```.\n",
        "\n",
        "Đoạn mã dưới đây sử dụng một biến cờ (flag variable) gọi là ```found``` để theo dõi một số đã được tìm thấy trong danh sách hay chưa.\n",
        "\n",
        "Về logic thì đoạn code này hợp lệ; nó sẽ hoàn thành công việc của nó. Nhưng ngôn ngữ Python có một cách giải quyết vấn đề này gọn hơn, không cần tới các biến cờ để theo dõi trạng thái của đoạn mã"
      ]
    },
    {
      "cell_type": "code",
      "metadata": {
        "id": "q3IOGNyAISqP",
        "colab_type": "code",
        "outputId": "61b5b738-5ef3-4abe-f4bc-64f1a948a39c",
        "colab": {
          "base_uri": "https://localhost:8080/",
          "height": 34
        }
      },
      "source": [
        "l = [1, 2, 3]\n",
        "magic_number = 4\n",
        "found = False\n",
        "\n",
        "for n in l:\n",
        "  if n == magic_number:\n",
        "    found = True\n",
        "    print(\"Magic number found\")\n",
        "    break\n",
        "    \n",
        "if not found:\n",
        "  print(\"Magic number not found\")"
      ],
      "execution_count": 0,
      "outputs": [
        {
          "output_type": "stream",
          "text": [
            "Magic number not found\n"
          ],
          "name": "stdout"
        }
      ]
    },
    {
      "cell_type": "markdown",
      "metadata": {
        "id": "79pIsHDjJTJG",
        "colab_type": "text"
      },
      "source": [
        "### Cách thực hiện tốt hơn\n",
        "\n",
        "#### Sử dụng mệnh đề ```else``` cho vòng lặp ```for```\n",
        "\n",
        "Trong Python, bạn có thể khai báo một mệnh đề ```else``` nối tiếp với một vòng lặp ```for```. Nếu vòng lặp ```for``` kết thúc bình thường, không kết thúc bởi vì các lệnh ngắt như là ```break``` hay ```retur```, Python thực thi câu lệnh ```else``` của vòng lặp. \n",
        "\n",
        "Trong đoạn code được chỉnh sửa lại phía dưới, vòng lặp ```for``` sẽ lặp qua tất cả 3 phần tử trong danh sách. Bởi vì số ma thuật không có trong danh sách, câu lệnh ```if``` sẽ luôn đưa ra kết quả là ```False```, và do đó lệnh ```break``` sẽ không bao giờ được thực thi. Bởi vì Python không bao giờ có cơ hội thực thi câu ```break``` khi nó lặp qua danh sách, nó thực thi câu lệnh ```else```.\n",
        "\n",
        "Đoạn mã phía dưới tương đương với đoạn mã trước đó, nhưng đoạn code mới này gọn hơn và không yêu cầu bất cứ biến cờ nào để giám sát trạng thái của đoạn mã"
      ]
    },
    {
      "cell_type": "code",
      "metadata": {
        "id": "fxczC7FhGcH2",
        "colab_type": "code",
        "outputId": "f9b34739-ad3e-48e1-a6df-74792e221cda",
        "colab": {
          "base_uri": "https://localhost:8080/",
          "height": 34
        }
      },
      "source": [
        "l = [1, 2, 3]\n",
        "\n",
        "magic_number = 4\n",
        "\n",
        "for n in l:\n",
        "  if n == magic_number:\n",
        "    print(\"Magic number found\")\n",
        "    break\n",
        "else:\n",
        "  print(\"Magic number not found\")"
      ],
      "execution_count": 0,
      "outputs": [
        {
          "output_type": "stream",
          "text": [
            "Magic number not found\n"
          ],
          "name": "stdout"
        }
      ]
    },
    {
      "cell_type": "markdown",
      "metadata": {
        "id": "LK8CSsNmKvyp",
        "colab_type": "text"
      },
      "source": [
        "Chú ý rằng sử dụng ```else``` và vòng lặp ```for``` được nói rằng không trực quan và dễ gây sai, một vài lập trình viên có kinh nghiệm khuyên không nên xài tính năng này."
      ]
    },
    {
      "cell_type": "code",
      "metadata": {
        "id": "8B6vH4-NKDoZ",
        "colab_type": "code",
        "outputId": "6194bc96-bb06-4618-b896-37150a01a6a0",
        "colab": {
          "base_uri": "https://localhost:8080/",
          "height": 34
        }
      },
      "source": [
        "l = [1, 2, 3]\n",
        "\n",
        "magic_number = 4\n",
        "\n",
        "for n in l:\n",
        "  if n == magic_number:\n",
        "    print(\"Magic number found\")\n",
        "    break\n",
        "\n",
        "print(\"Magic number not found\")"
      ],
      "execution_count": 0,
      "outputs": [
        {
          "output_type": "stream",
          "text": [
            "Magic number not found\n"
          ],
          "name": "stdout"
        }
      ]
    },
    {
      "cell_type": "markdown",
      "metadata": {
        "id": "kTpyzls9LNQW",
        "colab_type": "text"
      },
      "source": [
        "##23. Không sử dụng cách phân rã (unpacking) rõ ràng\n",
        "\n",
        "Khi bạn thấy trường hợp có nhiều biến được định nghĩa thông qua phép gán từ một danh sách (ví dụ. ```elem0, elem1, elem2 = elems```, ở đó ```elem0```, ```elem1```, và ```elem2``` là các biến và ```elems``` là một danh sách), Python sẽ tự động lặp qua danh sách và gán ```elems[0]``` cho ```elem0```, ```elems[1]``` cho ```elem1```, và tương tự."
      ]
    },
    {
      "cell_type": "markdown",
      "metadata": {
        "id": "sb9ju1tOLzh1",
        "colab_type": "text"
      },
      "source": [
        "### Code không nên viết\n",
        "\n",
        "Đoạn mã dưới đây khởi tạo các biến một cách thủ công, lấy ra từ các phần tử của một danh sách. Đoạn mã này rất dễ sai, gây nhàm chán và dư thừa.\n"
      ]
    },
    {
      "cell_type": "code",
      "metadata": {
        "id": "C-M-UeIYLy0H",
        "colab_type": "code",
        "colab": {}
      },
      "source": [
        "elems = [4, 7, 18]\n",
        "\n",
        "elem0 = elems[0]\n",
        "elem1 = elems[1]\n",
        "elem2 = elems[2]"
      ],
      "execution_count": 0,
      "outputs": []
    },
    {
      "cell_type": "markdown",
      "metadata": {
        "id": "cDnHPGBeMKZF",
        "colab_type": "text"
      },
      "source": [
        "### Cách thực hiện tốt nhất\n",
        "\n",
        "#### Sử dụng cách phân rã\n",
        "\n",
        "Đoạn mã mới dưới đây tương đương với đoạn mã trước đó, nhưng gọn và ít gây lỗi hơn. "
      ]
    },
    {
      "cell_type": "code",
      "metadata": {
        "id": "CtAM9O6DMJow",
        "colab_type": "code",
        "colab": {}
      },
      "source": [
        "elems = [4, 7, 18]\n",
        "elem0, elem1, elem2 = elems"
      ],
      "execution_count": 0,
      "outputs": []
    },
    {
      "cell_type": "code",
      "metadata": {
        "id": "TWm3Yz_pMZOt",
        "colab_type": "code",
        "colab": {}
      },
      "source": [
        ""
      ],
      "execution_count": 0,
      "outputs": []
    },
    {
      "cell_type": "markdown",
      "metadata": {
        "id": "uhGoqi7GGk8V",
        "colab_type": "text"
      },
      "source": [
        "##24. Không sử dụng ```get()``` khi muốn trả về một giá trị mặc định từ một từ điển\n",
        "\n",
        "Bạn sẽ hay thấy đoạn mã tạo một biến, gán cho biến đó một giá trị mặc định, sau đó kiểm tra xem một từ điển có một chìa khoá nào đó hay không. Nếu chìa khoá đó tồn tại, khi đó giá trị của chía khoá đó được gán cho giá trị của biến. Cách làm như vậy không có gì sai, nhưng ta có thể làm cho nó ngắn gọn hơn bằng cách sử dụng phương thức có sẵn ```dict.get(key[, default])``` từ thư viện chuẩn Python. Tron g trường hợp này, nếu chìa khoá toán tại, thì giá trị của chìa khóa đó được trả về. Còn nếu từ khoá không tồn tại, khi đó giá trị mặc định được chỉ định trong tham số thứ hai của phương thức ```get()```. Chú ý rằng giá trị mặc định là ```None``` nếu tham số thứ 2 không được cung cấp"
      ]
    },
    {
      "cell_type": "markdown",
      "metadata": {
        "id": "LyoMC6bQHpm4",
        "colab_type": "text"
      },
      "source": [
        "### Code không nên viết\n",
        "\n",
        "Đoạn mã dưới đây khởi tạo một biến tên là ```data``` với giá trị là một chuỗi trống. Sau đó đoạn mã kiểm tra xem một chìa khoá có tên là ```message``` có tồn tại trong một từ điển có tên là ```dictionary``` hay không. Nếu từ khoá tồn tại, khi đó giá trị của từ khoá này sẽ được gán cho biến ```data```\n",
        "\n",
        "Đoạn mã trên mặc dù không có gì sai, nhưng nó rườm rà và thiếu hiệu quả bởi vì nó truy vấn từ điển tới hai lần. Giải pháp được mô tả sau đó cho phép ta thực hiện cùng một nhiệm vụ nhưng với một đoạn mã ngắn gọin hơn sử dụng ```dict.get(key[, default])"
      ]
    },
    {
      "cell_type": "code",
      "metadata": {
        "id": "Hcorecb1Ho5Y",
        "colab_type": "code",
        "colab": {
          "base_uri": "https://localhost:8080/",
          "height": 34
        },
        "outputId": "40870c44-835f-430a-8951-771967d95529"
      },
      "source": [
        "dictionary = {\"message\": \"Hello, World!\"}\n",
        "\n",
        "data = \"\"\n",
        "\n",
        "if \"message\" in dictionary:\n",
        "  data = dictionary[\"message\"]\n",
        "  \n",
        "print(data) # In ra \"Hello, World\""
      ],
      "execution_count": 1,
      "outputs": [
        {
          "output_type": "stream",
          "text": [
            "Hello, World!\n"
          ],
          "name": "stdout"
        }
      ]
    },
    {
      "cell_type": "markdown",
      "metadata": {
        "id": "F1Ci8l5TIktU",
        "colab_type": "text"
      },
      "source": [
        "### Cách thực hiện tốt hơn\n",
        "\n",
        "#### Sử dụng ```dict.get(key[, default]) để gán các giá trị mặc định\n",
        "\n",
        "Đoạn mã dưới đây tương đương với đoạn mã phía trên, nhưng giải pháp này ngắn gọn hơn nhiều\n",
        "\n",
        "Khi phương thức ```get()``` được gọi, Python kiểm tra xem nếu chìa khoá được cung cấp cho phương thức có tồn tại trong từ điển hay không. Nếu chìa khoá đó tồn tại, khi đó ```get()``` trả về giá trị của chìa khoá đó. Nếu chìa khoá không tồn tại, khi đó ```get()``` trả về giá trị được chỉ định trong tham số thứ 2 của ```get()```"
      ]
    },
    {
      "cell_type": "code",
      "metadata": {
        "id": "j3RqhhSOJm-d",
        "colab_type": "code",
        "colab": {}
      },
      "source": [
        "dictionary = {\"message\": \"Hello, World!\"}"
      ],
      "execution_count": 0,
      "outputs": []
    },
    {
      "cell_type": "code",
      "metadata": {
        "id": "bRMVRln4Jatm",
        "colab_type": "code",
        "colab": {
          "base_uri": "https://localhost:8080/",
          "height": 34
        },
        "outputId": "dd61657c-d6d5-4328-e0c9-61063fef7dd6"
      },
      "source": [
        "data = dictionary.get(\"message\", \"\")\n",
        "print(data) # in ra \"Hello world\""
      ],
      "execution_count": 4,
      "outputs": [
        {
          "output_type": "stream",
          "text": [
            "Hello, world!\n"
          ],
          "name": "stdout"
        }
      ]
    },
    {
      "cell_type": "code",
      "metadata": {
        "id": "bFS6IZoYJX70",
        "colab_type": "code",
        "colab": {
          "base_uri": "https://localhost:8080/",
          "height": 34
        },
        "outputId": "ea53e6ae-5b78-4383-9a3e-46fed59b26fd"
      },
      "source": [
        "\n",
        "\n",
        "data = dictionary.get(\"hello\", \"Not exist\")\n",
        "print(data) # In ra \"Not exist\""
      ],
      "execution_count": 5,
      "outputs": [
        {
          "output_type": "stream",
          "text": [
            "Not exist\n"
          ],
          "name": "stdout"
        }
      ]
    }
  ]
}