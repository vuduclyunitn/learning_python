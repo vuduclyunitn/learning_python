{
  "nbformat": 4,
  "nbformat_minor": 0,
  "metadata": {
    "colab": {
      "name": "Anti-patterns.ipynb",
      "version": "0.3.2",
      "provenance": [],
      "include_colab_link": true
    },
    "kernelspec": {
      "name": "python3",
      "display_name": "Python 3"
    }
  },
  "cells": [
    {
      "cell_type": "markdown",
      "metadata": {
        "id": "view-in-github",
        "colab_type": "text"
      },
      "source": [
        "<a href=\"https://colab.research.google.com/github/vuduclyunitn/learning_python/blob/master/Anti_patterns.ipynb\" target=\"_parent\"><img src=\"https://colab.research.google.com/assets/colab-badge.svg\" alt=\"Open In Colab\"/></a>"
      ]
    },
    {
      "cell_type": "markdown",
      "metadata": {
        "id": "Rwl5sSRG0kHj",
        "colab_type": "text"
      },
      "source": [
        "#Dịch lại từ https://docs.quantifiedcode.com/python-anti-patterns/index.html"
      ]
    },
    {
      "cell_type": "markdown",
      "metadata": {
        "id": "7dDAALIkyxg5",
        "colab_type": "text"
      },
      "source": [
        "# 1. Truy cập vào phần tử được bảo vệ của một lớp từ bên ngoài"
      ]
    },
    {
      "cell_type": "code",
      "metadata": {
        "id": "Tw_4q0KYzGBE",
        "colab_type": "code",
        "outputId": "f2e57a12-0214-4d46-a83d-eb5d6c4fc883",
        "colab": {
          "base_uri": "https://localhost:8080/",
          "height": 34
        }
      },
      "source": [
        "class Rectangle(object):\n",
        "  def __init__(self, width, height):\n",
        "    self._width = width\n",
        "    self._height = height\n",
        "\n",
        "r = Rectangle(5, 6)\n",
        "# Truy cập trực tiếp vào phần tử được bảo vệ\n",
        "print(\"Width: {:d}\".format(r._width))"
      ],
      "execution_count": 0,
      "outputs": [
        {
          "output_type": "stream",
          "text": [
            "Width: 5\n"
          ],
          "name": "stdout"
        }
      ]
    },
    {
      "cell_type": "markdown",
      "metadata": {
        "id": "pyPaOwPFyvCs",
        "colab_type": "text"
      },
      "source": [
        "## Cách thực hiện tốt nhất đó là:\n",
        "Nếu bạn chắc chắn bạn cần truy cập tới một phần tử được bảo vệ của một lớp\n",
        "\n",
        "*   Chắc chắn rằng việc truy cập phần tử đó từ bên ngoài lớp bên ngoài này sẽ không gây ra các tác dụng phụ không mong muốn\n",
        "*   Tối ưu lớp này tốt hơn thông qua việc tạo ra các giao tiếp chung/công cộng để phía bên ngoài có thể truy cập vào được.\n",
        "\n"
      ]
    },
    {
      "cell_type": "markdown",
      "metadata": {
        "id": "KoMEIlbZ0p__",
        "colab_type": "text"
      },
      "source": [
        "#2. Gán một biểu diễn lambda cho một biến\n",
        "Lợi điểm của `lambda` so với `def` đó là lambda có thể được nhúm một cách ẩn danh trong một biểu diễn lớn hơn. Nếu bạn dự định gán một \"tên\" (name) cho một lambda, tốt hơn hết là bạn nên định nghĩa nó với `def`."
      ]
    },
    {
      "cell_type": "code",
      "metadata": {
        "id": "XRL1g74V055Q",
        "colab_type": "code",
        "outputId": "66d0d308-1c98-4187-8a98-35c1e287d0df",
        "colab": {
          "base_uri": "https://localhost:8080/",
          "height": 34
        }
      },
      "source": [
        "def f(x): return 2*x\n",
        "f"
      ],
      "execution_count": 0,
      "outputs": [
        {
          "output_type": "execute_result",
          "data": {
            "text/plain": [
              "<function __main__.f>"
            ]
          },
          "metadata": {
            "tags": []
          },
          "execution_count": 7
        }
      ]
    },
    {
      "cell_type": "code",
      "metadata": {
        "id": "QpadEbzj2kNR",
        "colab_type": "code",
        "outputId": "42306b76-b016-47ea-b697-b5fe58aabcee",
        "colab": {
          "base_uri": "https://localhost:8080/",
          "height": 34
        }
      },
      "source": [
        "f = lambda x: 2*x\n",
        "f"
      ],
      "execution_count": 0,
      "outputs": [
        {
          "output_type": "execute_result",
          "data": {
            "text/plain": [
              "<function __main__.<lambda>>"
            ]
          },
          "metadata": {
            "tags": []
          },
          "execution_count": 8
        }
      ]
    },
    {
      "cell_type": "markdown",
      "metadata": {
        "id": "u3RvDLg82y1_",
        "colab_type": "text"
      },
      "source": [
        "Ở ví dụ trên ta thấy tên của hàm là *f* thay vì là *lambda*. Điều này hữu ích khi ta muốn truy tìm lỗi trong khi debug và các biểu diễn chuỗi nói chung. Việc sử dụng phép gán cho lambda cũng loại bỏ đi lợi thế của nó so với def (ví dụ như nó có thể được gán nhúng trong một biểu diễn lớn hơn)\n"
      ]
    },
    {
      "cell_type": "markdown",
      "metadata": {
        "id": "8TTyjuqp3s6o",
        "colab_type": "text"
      },
      "source": [
        "## Cách thực hiện tốt nhât\n",
        "Cấu trúc lại biểu diễn lamda có tên sử dụng def"
      ]
    },
    {
      "cell_type": "markdown",
      "metadata": {
        "id": "-a80X8ma4Mmb",
        "colab_type": "text"
      },
      "source": [
        "#3. Gán cho một hàm có sẵn (built-in)\n",
        "Python có rất nhiều hàm có sẵn, luôn luôn có thể truy cập được từ trình thông dịch (interpreter). Nếu bạn không có lý do nào đặc biệt, đừng bao giờ nên viết đè (overwrite) hay gán một giá trị lên một biến có tên giống với các hàm có sẵn này. Ghi đè lên một hàm có sẵn có thể tạo ra các tác dụng phụ không mong muốn hoặc các lỗi runtime. Các lập trình viên Python thường sử dụng hàm có sẵn, nếu cư xử của các hàm này thay đổi sẽ gây khó khăn cho việc tìm ra lỗi thực sự."
      ]
    },
    {
      "cell_type": "markdown",
      "metadata": {
        "id": "zaGzzSy05mcz",
        "colab_type": "text"
      },
      "source": [
        "## Code không nên viết\n",
        "Trong đoạn code dưới đây hàm có sẵn \n",
        "```list```  bị ghi đè lên. Điều này làm cho ta không thể sử dụng hàm ```list``` để khởi tạo một danh sách mới nữa. Đoạn code dưới đây chỉ có 2 dòng nên ta có thể thấy và sửa nhưng khi chương trình viết lớn hơn sẽ khó để phát hiện các lỗi này.\n",
        "\n",
        "\n"
      ]
    },
    {
      "cell_type": "code",
      "metadata": {
        "id": "CzrpZUHD5l3B",
        "colab_type": "code",
        "colab": {}
      },
      "source": [
        "# Ghi đè lên hàm có sẵn list thông qua việc gán các giá trị tới một biến gọi là list\n",
        "list = [1, 2, 3]\n"
      ],
      "execution_count": 0,
      "outputs": []
    },
    {
      "cell_type": "code",
      "metadata": {
        "id": "bEpouFl53rkZ",
        "colab_type": "code",
        "outputId": "259d5920-42c9-4683-cecc-7bbbe539ad0c",
        "colab": {
          "base_uri": "https://localhost:8080/",
          "height": 162
        }
      },
      "source": [
        "# Lỗi đối tượng 'list' không thể gọi được\n",
        "a = list()"
      ],
      "execution_count": 0,
      "outputs": [
        {
          "output_type": "error",
          "ename": "TypeError",
          "evalue": "ignored",
          "traceback": [
            "\u001b[0;31m---------------------------------------------------------------------------\u001b[0m",
            "\u001b[0;31mTypeError\u001b[0m                                 Traceback (most recent call last)",
            "\u001b[0;32m<ipython-input-12-8b49cb3ef928>\u001b[0m in \u001b[0;36m<module>\u001b[0;34m()\u001b[0m\n\u001b[0;32m----> 1\u001b[0;31m \u001b[0ma\u001b[0m \u001b[0;34m=\u001b[0m \u001b[0mlist\u001b[0m\u001b[0;34m(\u001b[0m\u001b[0;34m)\u001b[0m\u001b[0;34m\u001b[0m\u001b[0;34m\u001b[0m\u001b[0m\n\u001b[0m",
            "\u001b[0;31mTypeError\u001b[0m: 'list' object is not callable"
          ]
        }
      ]
    },
    {
      "cell_type": "markdown",
      "metadata": {
        "id": "MPl1_kRg6-fG",
        "colab_type": "text"
      },
      "source": [
        "## Cách thực hành tốt nhất\n",
        "Nếu bạn không có một lý do nào đặc biệt tránh đặt tên cho các biến trùng với tên các hàm có sẵn."
      ]
    },
    {
      "cell_type": "code",
      "metadata": {
        "id": "LrEgi93t7QKR",
        "colab_type": "code",
        "colab": {}
      },
      "source": [
        "numbers = [1, 2, 3]\n",
        "cars = list()"
      ],
      "execution_count": 0,
      "outputs": []
    },
    {
      "cell_type": "markdown",
      "metadata": {
        "id": "OKGqPyWA1aGd",
        "colab_type": "text"
      },
      "source": [
        "#4. Thứ tự câu ngoại lệ không tốt\n",
        "\n",
        "Khi một ngoại lệ xảy ra trong chương trình, Python sẽ tìm kiếm câu ngoại lệ đầu tiên khớp với kiểu ngoại lệ xảy ra. Không quan trọng là câu ngoại lệ này có khớp **chính xác** với kiểu ngoại lệ xảy ra hay không. Nếu câu ngoại lệ ở trên biểu diễn một lớp cơ sở (lớp mà các lớp khác dựa trên hay mở rộng trên đó) của ngoại lệ xảy ra, khi đó Python sẽ xem như câu ngoại lệ đó trùng khớp. Ví dụ nếu một ngoại lệ \n",
        "\n",
        "```ZeroDivisionError``` (ngoại lệ xảy ra khi ta chia một số cho số 0) xảy ra và câu ngoại lệ đầu tiên đó là \n",
        "\n",
        "```Exception```, khi đó câu ngoại lệ ```Exception``` sẽ được thực thi bởi vì ```ZeroDivisionError``` là một lớp con (sub class) của ```Exception``. Vì thế đối với các lớp con, các câu ngoại lệ cụ thể hơn cho chúng nên được **đặt trước** các câu ngoại lệ dành cho các lớp cơ sở để đảm bảo việc xử lý ngoại lệ có tính chi tiết và hữu ích nhất có thể\n",
        "\n",
        "\n",
        "\n",
        "\n"
      ]
    },
    {
      "cell_type": "markdown",
      "metadata": {
        "id": "nNNa38L739-7",
        "colab_type": "text"
      },
      "source": [
        "## Code không nên viết\n",
        "Đoạn code phía đây chia một số cho 0 và gây ra một lỗi ```ZeroDivisionError```. Phía dưới có một câu ngoại lệ cho kiểu lỗi này, nó giúp ta tìm ra nguyên nhân thực sự của vấn đề. Tuy nhiên, câu ngoại lệ ```ZeroDivisionError``` không thể nào được thực thi bởi vì có câu ngoại lệ  \n",
        "\n",
        "```Exception``` đặt phía trước nó. Khi Python gặp một ngoại lệ, nó sẽ kiểm tra một cách tuyến tính (tuần tự) và thực thi câu ngoại lệ đầu mà khớp với ngoại lệ được sinh ra. Việc so khớp này không nhất thiết phải là giống 100%. Miễn là ngoại lệ được sinh ra là một lớp con của câu ngoại lệ được liệt kê, Python sẽ thực thi câu ngoại lệ đó và sẽ bỏ qua tất cả các ngoại lệ khác. Điều này không tuân thủ theo mục tiêu của các câu ngoại lệ, nơi ta dùng nó để nhận diện và xử lý các ngoại lệ với sự chính xác nhất có thể.\n",
        "\n",
        "\n"
      ]
    },
    {
      "cell_type": "code",
      "metadata": {
        "id": "Uw0OHs3Q1ZWB",
        "colab_type": "code",
        "outputId": "9112ac3c-c10f-4c5c-b0b7-ec61a4aea9f1",
        "colab": {
          "base_uri": "https://localhost:8080/",
          "height": 34
        }
      },
      "source": [
        "try:\n",
        "  5/0\n",
        "except Exception as e:\n",
        "  print(\"Exception\")\n",
        "# Code không bao giờ được thực thi (unreachable code)\n",
        "except ZeroDivisionError as e:\n",
        "  print(\"Zero Division Error\")"
      ],
      "execution_count": 0,
      "outputs": [
        {
          "output_type": "stream",
          "text": [
            "Exception\n"
          ],
          "name": "stdout"
        }
      ]
    },
    {
      "cell_type": "markdown",
      "metadata": {
        "id": "NdoOGmXe6OXV",
        "colab_type": "text"
      },
      "source": [
        "## Cách thực hiện tốt hơn\n",
        "Chuyển mệnh đề ngoại lệ của lớp con lên trước mệnh đề ngoại lệ của lớp cơ sở. Đoạn code dưới đây đặt mệnh đề ngoại lệ ```ZeroDivisionError``` lên trước mệnh đề ngoại lệ cơ sở  ```Exception```. Khi có một lỗi xảy ra khi chia một số cho số 0 ngoại lệ ```ZeroDivisionError``` sẽ thực thi, giúp cho đoạn mã tối ưu hơn bởi vì nó đưa ra kết quả cụ thể hơn"
      ]
    },
    {
      "cell_type": "code",
      "metadata": {
        "id": "Zb81VxW4_NH7",
        "colab_type": "code",
        "outputId": "8058fbe3-2eb6-4ba4-e0a4-dbddb3ec949b",
        "colab": {
          "base_uri": "https://localhost:8080/",
          "height": 34
        }
      },
      "source": [
        "try:\n",
        "  5/0\n",
        "except ZeroDivisionError as e:\n",
        "  print(\"ZeroDivisionError\")\n",
        "except Exception as e:\n",
        "  print(\"Exception\")"
      ],
      "execution_count": 0,
      "outputs": [
        {
          "output_type": "stream",
          "text": [
            "ZeroDivisionError\n"
          ],
          "name": "stdout"
        }
      ]
    },
    {
      "cell_type": "markdown",
      "metadata": {
        "id": "-nBXjzt5AsiC",
        "colab_type": "text"
      },
      "source": [
        "#5. Truyền một tham số không tốt vào phương thức ```super()```\n",
        "\n",
        "Phương thức ```super()``` cho phép ta truy cập tới các phương thức (methods) và các thành viên (members) của một lớp cha mà không phải chỉ tới lớp cha qua tên gọi. Trong trường hợp thừa kế đơn tham số đầu tiên truyền vào phương thức ```super()``` nên là tên của lớp con hiện tại, lớp gọi phương thức ```super()```, và tham số thứ hai nên là ```self``` (đây là một tham chiếu tới đối tượng hiện hành gọi ```super()```)\n",
        "\n",
        "**Chú ý**: Anti-pattern này chỉ áp dụng đối với các phiên bản Python 2.x, đối với Python 3.x hãy xem ở phần cuối trang để biết cách gọi phương thức ```super()``` đúng trong Python 3.x"
      ]
    },
    {
      "cell_type": "markdown",
      "metadata": {
        "id": "tnbnB9WKChft",
        "colab_type": "text"
      },
      "source": [
        "## Anti-pattern\n",
        "Python khởi lên một lỗi ```TypeError``` khi cố gắng thực thi một lời gọi tới phương thức ```super()``` dưới đây. Tham số đầu tiên nên là tên của lớp con, lớp đang gọi ```super()```. Trong đoạn code dưới đây, tác giả đã sai khi cho ```self``` là tham số đầu tiên"
      ]
    },
    {
      "cell_type": "code",
      "metadata": {
        "id": "u-h0_gQ5Cgm6",
        "colab_type": "code",
        "colab": {
          "base_uri": "https://localhost:8080/",
          "height": 330
        },
        "outputId": "a5bdb33c-e896-4c0b-87f2-4884112b57d3"
      },
      "source": [
        "class Rectangle(object):\n",
        "  def __init__(self, width, height):\n",
        "    self.width = width\n",
        "    self.height = height\n",
        "    self.area = width * height\n",
        "    \n",
        "class Square(Rectangle):\n",
        "  def __init__(self, length):\n",
        "    # Tham số đầu không tốt được truyền vào super()\n",
        "    super(self, Square).__init__(length, length)\n",
        "    \n",
        "s = Square(5)\n",
        "print(s.area) # dòng code này không được thực thi"
      ],
      "execution_count": 2,
      "outputs": [
        {
          "output_type": "error",
          "ename": "TypeError",
          "evalue": "ignored",
          "traceback": [
            "\u001b[0;31m---------------------------------------------------------------------------\u001b[0m",
            "\u001b[0;31mTypeError\u001b[0m                                 Traceback (most recent call last)",
            "\u001b[0;32m<ipython-input-2-ff3e7805813c>\u001b[0m in \u001b[0;36m<module>\u001b[0;34m()\u001b[0m\n\u001b[1;32m     10\u001b[0m     \u001b[0msuper\u001b[0m\u001b[0;34m(\u001b[0m\u001b[0mself\u001b[0m\u001b[0;34m,\u001b[0m \u001b[0mSquare\u001b[0m\u001b[0;34m)\u001b[0m\u001b[0;34m.\u001b[0m\u001b[0m__init__\u001b[0m\u001b[0;34m(\u001b[0m\u001b[0mlength\u001b[0m\u001b[0;34m,\u001b[0m \u001b[0mlength\u001b[0m\u001b[0;34m)\u001b[0m\u001b[0;34m\u001b[0m\u001b[0;34m\u001b[0m\u001b[0m\n\u001b[1;32m     11\u001b[0m \u001b[0;34m\u001b[0m\u001b[0m\n\u001b[0;32m---> 12\u001b[0;31m \u001b[0ms\u001b[0m \u001b[0;34m=\u001b[0m \u001b[0mSquare\u001b[0m\u001b[0;34m(\u001b[0m\u001b[0;36m5\u001b[0m\u001b[0;34m)\u001b[0m\u001b[0;34m\u001b[0m\u001b[0;34m\u001b[0m\u001b[0m\n\u001b[0m\u001b[1;32m     13\u001b[0m \u001b[0mprint\u001b[0m\u001b[0;34m(\u001b[0m\u001b[0ms\u001b[0m\u001b[0;34m.\u001b[0m\u001b[0marea\u001b[0m\u001b[0;34m)\u001b[0m \u001b[0;31m# dòng code này không được thực thi\u001b[0m\u001b[0;34m\u001b[0m\u001b[0;34m\u001b[0m\u001b[0m\n",
            "\u001b[0;32m<ipython-input-2-ff3e7805813c>\u001b[0m in \u001b[0;36m__init__\u001b[0;34m(self, length)\u001b[0m\n\u001b[1;32m      8\u001b[0m   \u001b[0;32mdef\u001b[0m \u001b[0m__init__\u001b[0m\u001b[0;34m(\u001b[0m\u001b[0mself\u001b[0m\u001b[0;34m,\u001b[0m \u001b[0mlength\u001b[0m\u001b[0;34m)\u001b[0m\u001b[0;34m:\u001b[0m\u001b[0;34m\u001b[0m\u001b[0;34m\u001b[0m\u001b[0m\n\u001b[1;32m      9\u001b[0m     \u001b[0;31m# Tham số đầu không tốt được truyền vào super()\u001b[0m\u001b[0;34m\u001b[0m\u001b[0;34m\u001b[0m\u001b[0;34m\u001b[0m\u001b[0m\n\u001b[0;32m---> 10\u001b[0;31m     \u001b[0msuper\u001b[0m\u001b[0;34m(\u001b[0m\u001b[0mself\u001b[0m\u001b[0;34m,\u001b[0m \u001b[0mSquare\u001b[0m\u001b[0;34m)\u001b[0m\u001b[0;34m.\u001b[0m\u001b[0m__init__\u001b[0m\u001b[0;34m(\u001b[0m\u001b[0mlength\u001b[0m\u001b[0;34m,\u001b[0m \u001b[0mlength\u001b[0m\u001b[0;34m)\u001b[0m\u001b[0;34m\u001b[0m\u001b[0;34m\u001b[0m\u001b[0m\n\u001b[0m\u001b[1;32m     11\u001b[0m \u001b[0;34m\u001b[0m\u001b[0m\n\u001b[1;32m     12\u001b[0m \u001b[0ms\u001b[0m \u001b[0;34m=\u001b[0m \u001b[0mSquare\u001b[0m\u001b[0;34m(\u001b[0m\u001b[0;36m5\u001b[0m\u001b[0;34m)\u001b[0m\u001b[0;34m\u001b[0m\u001b[0;34m\u001b[0m\u001b[0m\n",
            "\u001b[0;31mTypeError\u001b[0m: super() argument 1 must be type, not Square"
          ]
        }
      ]
    },
    {
      "cell_type": "markdown",
      "metadata": {
        "id": "y4APpgKuEuWt",
        "colab_type": "text"
      },
      "source": [
        "## Cách thực hiện đúng\n",
        "Trong đoạn code tác giả sửa lại thứ tự các tham số truyền vào ```super()```. Tham số đầu tiên là tên của lớp con (lớp gọi ```super()```), tham số thứ 2 là ```self```"
      ]
    },
    {
      "cell_type": "code",
      "metadata": {
        "id": "z4FHXXfEEWbX",
        "colab_type": "code",
        "colab": {
          "base_uri": "https://localhost:8080/",
          "height": 34
        },
        "outputId": "288bd6fe-ff80-4d35-c58f-8502e7636423"
      },
      "source": [
        "class Rectangle(object):\n",
        "    def __init__(self, width, height):\n",
        "        self.width = width\n",
        "        self.height = height\n",
        "        self.area = width * height\n",
        "\n",
        "class Square(Rectangle):\n",
        "    def __init__(self, length):\n",
        "        # super() thực thi đúng khi thay đổi thứ tự tham số\n",
        "        super(Square, self).__init__(length, length)\n",
        "\n",
        "s = Square(5)\n",
        "print(s.area)  # 25"
      ],
      "execution_count": 5,
      "outputs": [
        {
          "output_type": "stream",
          "text": [
            "25\n"
          ],
          "name": "stdout"
        }
      ]
    },
    {
      "cell_type": "markdown",
      "metadata": {
        "id": "mc1QLvSTFWMJ",
        "colab_type": "text"
      },
      "source": [
        "## ```super()``` trong Python 3\n",
        "Trong Python 3.x ta không cần phải truyền vào bất cứ tham số nào cho hàm ```super()```. Đoạn code dưới đây miêu tả cách gọi đúng"
      ]
    },
    {
      "cell_type": "code",
      "metadata": {
        "id": "pXmKmJGAFohJ",
        "colab_type": "code",
        "colab": {
          "base_uri": "https://localhost:8080/",
          "height": 34
        },
        "outputId": "ff27b673-0bef-4162-d6b6-72d76cbffae2"
      },
      "source": [
        "class Rectangle(object):\n",
        "  def __init__(self, width, height):\n",
        "    self.width = width\n",
        "    self.height = height\n",
        "    self.area = width*height\n",
        "\n",
        "class Square(Rectangle):\n",
        "  def __init__(self, length):\n",
        "    # Đoạn code này tương tự với super(Square, self).__init__(length, lenght)\n",
        "    super().__init__(length, length)\n",
        "    \n",
        "s = Square(5)\n",
        "print(s.area)"
      ],
      "execution_count": 6,
      "outputs": [
        {
          "output_type": "stream",
          "text": [
            "25\n"
          ],
          "name": "stdout"
        }
      ]
    },
    {
      "cell_type": "markdown",
      "metadata": {
        "id": "QsFP66p7D1WL",
        "colab_type": "text"
      },
      "source": [
        ""
      ]
    }
  ]
}