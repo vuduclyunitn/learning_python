{
  "nbformat": 4,
  "nbformat_minor": 0,
  "metadata": {
    "colab": {
      "name": "5 lỗi phổ biến nhất người mới lập trình Python gặp phải.ipynb",
      "version": "0.3.2",
      "provenance": [],
      "include_colab_link": true
    },
    "kernelspec": {
      "name": "python3",
      "display_name": "Python 3"
    }
  },
  "cells": [
    {
      "cell_type": "markdown",
      "metadata": {
        "id": "view-in-github",
        "colab_type": "text"
      },
      "source": [
        "<a href=\"https://colab.research.google.com/github/vuduclyunitn/learning_python/blob/master/5_l%E1%BB%97i_ph%E1%BB%95_bi%E1%BA%BFn_nh%E1%BA%A5t_ng%C6%B0%E1%BB%9Di_m%E1%BB%9Bi_l%E1%BA%ADp_tr%C3%ACnh_Python_g%E1%BA%B7p_ph%E1%BA%A3i.ipynb\" target=\"_parent\"><img src=\"https://colab.research.google.com/assets/colab-badge.svg\" alt=\"Open In Colab\"/></a>"
      ]
    },
    {
      "cell_type": "code",
      "metadata": {
        "id": "3Y0jbEeJNnWw",
        "colab_type": "code",
        "colab": {}
      },
      "source": [
        ""
      ],
      "execution_count": 0,
      "outputs": []
    },
    {
      "cell_type": "markdown",
      "metadata": {
        "id": "0AKaj9DeNoUR",
        "colab_type": "text"
      },
      "source": [
        "# Dịch từ https://deepsource.io/blog/python-common-mistakes/"
      ]
    },
    {
      "cell_type": "markdown",
      "metadata": {
        "id": "AxkmIsbyNxP5",
        "colab_type": "text"
      },
      "source": [
        "Python là một ngôn ngữ lập trình bậc cao, nổi tiếng vì dễ sử dụng. Điều đó làm cho nó trở thành ngôn ngữ phổ biến nhất trong những năm gần đây. Việc dễ sử dụng tuy nhiên cũng đi kèm với việc sử dụng sai (misuse). Ta hãy cùng xem 5 lỗi phổ biến mà người mới lập trình thường phạm phải"
      ]
    },
    {
      "cell_type": "markdown",
      "metadata": {
        "id": "EyidfjhaOO4B",
        "colab_type": "text"
      },
      "source": [
        "##1. Sử dụng các biểu diễn lambda không cần thiết\n",
        "\n",
        "Hàm là các công dân hạng nhất trong Python. Điều đó có nghĩa là bạn có thể gán nó cho một biến, sử dụng nó như là một tham số đưa vào một hàm khác, và tương tự như thế. Điều này gây ra các sự trái ngược đối với những lập trình viên từ các ngôn ngữ khác. \n",
        "\n",
        "Một mẫu code phổ biến như dưới đây:"
      ]
    },
    {
      "cell_type": "code",
      "metadata": {
        "id": "zOk7QPzDNwdi",
        "colab_type": "code",
        "colab": {}
      },
      "source": [
        "def request(self, method, **kwargs):\n",
        "  # ...\n",
        "  if method not in (\"get\", \"post\"):\n",
        "    req.get_method = lambda: method.upper()\n",
        "    \n",
        "  # ..."
      ],
      "execution_count": 0,
      "outputs": []
    },
    {
      "cell_type": "markdown",
      "metadata": {
        "id": "UurSXoriPQmX",
        "colab_type": "text"
      },
      "source": [
        "Ở ví dụ trên việc sử dụng ```lambda``` là dư thừa, ta có thể viết tốt hơn theo cách sau"
      ]
    },
    {
      "cell_type": "code",
      "metadata": {
        "id": "iomaYDMBPLHh",
        "colab_type": "code",
        "colab": {}
      },
      "source": [
        "def request(self, method, **kwargs):\n",
        "  # ...\n",
        "  if method not in (\"get\", \"post\"):\n",
        "    req.get_method = method.upper"
      ],
      "execution_count": 0,
      "outputs": []
    },
    {
      "cell_type": "markdown",
      "metadata": {
        "id": "xsJLDUiWPhks",
        "colab_type": "text"
      },
      "source": [
        "##2. Khởi lên ngoại lệ ```NotImplemented```\n",
        "\n",
        "Đây là một trong các ví dụ ở đó các tên tương tự nhau gây nhầm lẫn. ```NotImplementedError``` là một lớp ngoại lệ nên được khởi lên khi các lớp dẫn xuất được yêu cầu ghi đè một phương thức. ```NotImplemented``` là một constant được sử dụng để thực hiện các phép tính binary. Khi bạn khởi ```NotImplemented```, một ngoại lệ ```TypeError``` sẽ được khởi lên. \n",
        "\n",
        "Đoạn mã dưới đây sai"
      ]
    },
    {
      "cell_type": "code",
      "metadata": {
        "id": "x0SxDwmdQUH6",
        "colab_type": "code",
        "colab": {}
      },
      "source": [
        "class SitesManager(object):\n",
        "  def get_image_tracking_code(self):\n",
        "    raise NotImplemented"
      ],
      "execution_count": 0,
      "outputs": []
    },
    {
      "cell_type": "markdown",
      "metadata": {
        "id": "jvf4GPe7Qgjr",
        "colab_type": "text"
      },
      "source": [
        "Đoạn mã dưới đây đúng"
      ]
    },
    {
      "cell_type": "code",
      "metadata": {
        "id": "fF5b-ypmQeRu",
        "colab_type": "code",
        "colab": {}
      },
      "source": [
        "class SitesManager(object):\n",
        "  def get_image_tracking_code(self):\n",
        "    raise NotImplementedError"
      ],
      "execution_count": 0,
      "outputs": []
    },
    {
      "cell_type": "markdown",
      "metadata": {
        "id": "6-GSpbJkRBsY",
        "colab_type": "text"
      },
      "source": [
        "##3. Tham số mặc định kiểu mutable\n",
        "Các tham số mặc định trong Python được đánh giá hay tính toán chỉ một lần khi định nghĩa hàm được thực thi. Điều này có nghĩa là biểu diễn này chỉ được đánh giá một lần khi hàm được định nghĩa và cùng một giá trị này được sử dụng cho các lời gọi tiếp sau. Vì vậy nếu bạn đang thay đổi giá trị tham số mặc định kiểu mutable, ví dụ như danh sách, từ điển, vân vân, nó sẽ bị thay đổi trong các lời gọi trong tương lai.\n",
        "\n",
        "Ví dụ dưới đây sai"
      ]
    },
    {
      "cell_type": "code",
      "metadata": {
        "id": "4VFpO_HlQoFC",
        "colab_type": "code",
        "colab": {}
      },
      "source": [
        "def add_item(new_item, items=[]):\n",
        "  items.append(new_item)\n",
        "  return items"
      ],
      "execution_count": 0,
      "outputs": []
    },
    {
      "cell_type": "markdown",
      "metadata": {
        "id": "dxCQ20-SSNI5",
        "colab_type": "text"
      },
      "source": [
        "Ở ví dụ trên danh sách ```items``` sẽ được thêm vào mỗi lần ta gọi hàm ```add_item```. Ví dụ"
      ]
    },
    {
      "cell_type": "code",
      "metadata": {
        "id": "08hx9nuTSZSX",
        "colab_type": "code",
        "colab": {
          "base_uri": "https://localhost:8080/",
          "height": 34
        },
        "outputId": "200736e1-d9cc-4b97-da78-6dffe8518e85"
      },
      "source": [
        "print(add_item(3))"
      ],
      "execution_count": 9,
      "outputs": [
        {
          "output_type": "stream",
          "text": [
            "[3]\n"
          ],
          "name": "stdout"
        }
      ]
    },
    {
      "cell_type": "code",
      "metadata": {
        "id": "ptqY7RC_SgHx",
        "colab_type": "code",
        "colab": {
          "base_uri": "https://localhost:8080/",
          "height": 34
        },
        "outputId": "a007be31-eded-47f0-ae8a-4a97ca6d0eb0"
      },
      "source": [
        "print(add_item(4))"
      ],
      "execution_count": 10,
      "outputs": [
        {
          "output_type": "stream",
          "text": [
            "[3, 4]\n"
          ],
          "name": "stdout"
        }
      ]
    },
    {
      "cell_type": "markdown",
      "metadata": {
        "id": "tv-u6LnOSqRF",
        "colab_type": "text"
      },
      "source": [
        "Ta mong đợi kết quả của ```add_item(4)``` là [4], nhưng ở đây ```items``` là kiểu mutable và nó chỉ được thực thi một lần các lời gọi sau sẽ sử dụng lại ```items```"
      ]
    },
    {
      "cell_type": "markdown",
      "metadata": {
        "id": "ixH4DdF7S8A2",
        "colab_type": "text"
      },
      "source": [
        "Cách thực hiện đúng"
      ]
    },
    {
      "cell_type": "code",
      "metadata": {
        "id": "hs5jylCOSo_B",
        "colab_type": "code",
        "colab": {}
      },
      "source": [
        "def add_item(new_item, items=None):\n",
        "  if items is None:\n",
        "    items = []\n",
        "  items.append(new_item)\n",
        "  return items"
      ],
      "execution_count": 0,
      "outputs": []
    },
    {
      "cell_type": "code",
      "metadata": {
        "id": "HJaugqb5TH4k",
        "colab_type": "code",
        "colab": {
          "base_uri": "https://localhost:8080/",
          "height": 34
        },
        "outputId": "1af730d2-c1e3-45cf-e116-599816973a07"
      },
      "source": [
        "print(add_item(4))"
      ],
      "execution_count": 13,
      "outputs": [
        {
          "output_type": "stream",
          "text": [
            "[4]\n"
          ],
          "name": "stdout"
        }
      ]
    },
    {
      "cell_type": "code",
      "metadata": {
        "id": "RrDJ4IB_TLtW",
        "colab_type": "code",
        "colab": {
          "base_uri": "https://localhost:8080/",
          "height": 34
        },
        "outputId": "30fce99e-b95b-480f-bc58-893a92bb316b"
      },
      "source": [
        "print(add_item(3))"
      ],
      "execution_count": 14,
      "outputs": [
        {
          "output_type": "stream",
          "text": [
            "[3]\n"
          ],
          "name": "stdout"
        }
      ]
    },
    {
      "cell_type": "markdown",
      "metadata": {
        "id": "Vf-nBNYyTOVm",
        "colab_type": "text"
      },
      "source": [
        "Ở ví dụ trên ta kiểm tra xem ```items``` truyền vào hàm là một danh sách có sẵn ta muốn thêm một giá trị vào đó như ví dụ dưới đây"
      ]
    },
    {
      "cell_type": "code",
      "metadata": {
        "id": "D7mgscsUTNda",
        "colab_type": "code",
        "colab": {
          "base_uri": "https://localhost:8080/",
          "height": 34
        },
        "outputId": "8dbbc2f8-7f3e-42ef-c55c-874c24f44ddf"
      },
      "source": [
        "print(add_item(4, [1, 2, 3]))"
      ],
      "execution_count": 15,
      "outputs": [
        {
          "output_type": "stream",
          "text": [
            "[1, 2, 3, 4]\n"
          ],
          "name": "stdout"
        }
      ]
    },
    {
      "cell_type": "markdown",
      "metadata": {
        "id": "fOKWD6GdTcwf",
        "colab_type": "text"
      },
      "source": [
        "Hay ta muốn khởi tạo một danh sách mới và thêm vào ```new_item```"
      ]
    },
    {
      "cell_type": "code",
      "metadata": {
        "id": "83Ntsm9NTZJI",
        "colab_type": "code",
        "colab": {
          "base_uri": "https://localhost:8080/",
          "height": 34
        },
        "outputId": "78c70e20-12f6-4b82-e46b-eba683972bad"
      },
      "source": [
        "print(add_item(4))"
      ],
      "execution_count": 16,
      "outputs": [
        {
          "output_type": "stream",
          "text": [
            "[4]\n"
          ],
          "name": "stdout"
        }
      ]
    },
    {
      "cell_type": "code",
      "metadata": {
        "id": "56uoeOEATkYv",
        "colab_type": "code",
        "colab": {
          "base_uri": "https://localhost:8080/",
          "height": 34
        },
        "outputId": "38a005e5-4fd4-41e8-8502-eda90ad9e8f5"
      },
      "source": [
        "print(add_item(3))"
      ],
      "execution_count": 17,
      "outputs": [
        {
          "output_type": "stream",
          "text": [
            "[3]\n"
          ],
          "name": "stdout"
        }
      ]
    },
    {
      "cell_type": "markdown",
      "metadata": {
        "id": "OkonhX4cTmjZ",
        "colab_type": "text"
      },
      "source": [
        "Bạn để ý rằng ta sử dụng ```None``` là là giá trị canh gác, nó sẽ kiểm tra xem có một danh sách truyền vào hay không, nếu có thì nó sẽ nối vào danh sách truyền vào đó giá trị mới, còn nếu không nó sẽ khởi tạo một danh sách mới, thêm giá trị mới vào và trả về danh sách mới được thêm phần tử."
      ]
    },
    {
      "cell_type": "markdown",
      "metadata": {
        "id": "PHcHaxLsUAJO",
        "colab_type": "text"
      },
      "source": [
        "##4. Sử dụng câu ```assert``` như là điều kiện bảo vệ\n",
        "\n",
        "Bởi vì ```assert``` cho phép ta kiểm tra điều kiện và thực thi bị thất bại dễ dàng, các lập trình viên thường sử dụng nó để kiểm tra tính hợp lệ của một thứ gì đó. Nhưng khi sử dụng cờ tối ưu trong Python ```-O```, các câu lệnh ```assert``` bị xoá khỏi bytecode. Vì vậy, nếu các câu lệnh ```assert``` được sử dụng cho việc kiểm tra tính hợp lệ với người dùng trong mã viết trong sản phẩm, chúng sẽ không được thực thi và mở ra các lỗ hổng bảo mật. \n",
        "Ta nên chỉ sử dụng các câu ```assert``` trong mã kiểm tra. Cách viết sau đây sai:\n"
      ]
    },
    {
      "cell_type": "code",
      "metadata": {
        "id": "BPOE_K7rTlsJ",
        "colab_type": "code",
        "colab": {}
      },
      "source": [
        "assert re.match(VALID_ADDRESS_REGEXP, email) is not None"
      ],
      "execution_count": 0,
      "outputs": []
    },
    {
      "cell_type": "markdown",
      "metadata": {
        "id": "LaOqGS4RVP3I",
        "colab_type": "text"
      },
      "source": [
        "Cách viết đúng"
      ]
    },
    {
      "cell_type": "code",
      "metadata": {
        "id": "6PmUOIppVSY0",
        "colab_type": "code",
        "colab": {}
      },
      "source": [
        "if not re.match(VALID_ADDRESS_REGEXP, email):\n",
        "  raise AssertionError"
      ],
      "execution_count": 0,
      "outputs": []
    },
    {
      "cell_type": "markdown",
      "metadata": {
        "id": "uIuJoKBnVZ3P",
        "colab_type": "text"
      },
      "source": [
        "##5. Sử dụng ```isinstance``` thay vì ```type```\n",
        "\n",
        "```type``` hay ```isinstance``` đều có thể được sử dụng để kiểm tra kiểu của một đối tượng trong Python. Một sự khác biệt quan trọng là - ```isinstance``` kiểm tra cả sự thừa kế khi phân giải kiểu của đối tượng, trong khi ```type``` thì không như vậy. Vì vậy thỉnh thoảng sử dụng ```isinstance``` không đem lại kết quả như ta muốn. Nhìn vào ví dụ sau"
      ]
    },
    {
      "cell_type": "code",
      "metadata": {
        "id": "W9wr3Ud1WC5I",
        "colab_type": "code",
        "colab": {}
      },
      "source": [
        "def which_number_type(num):\n",
        "  if isinstance(num, int):\n",
        "    print('Integer')\n",
        "  else:\n",
        "    raise TypeError('Not an integer')"
      ],
      "execution_count": 0,
      "outputs": []
    },
    {
      "cell_type": "code",
      "metadata": {
        "id": "gAGFaIU0WQU_",
        "colab_type": "code",
        "colab": {
          "base_uri": "https://localhost:8080/",
          "height": 34
        },
        "outputId": "f41c4314-b542-4129-f97b-8a271d86c434"
      },
      "source": [
        "which_number_type(False) # In ra 'Integer', điều này sai"
      ],
      "execution_count": 19,
      "outputs": [
        {
          "output_type": "stream",
          "text": [
            "Integer\n"
          ],
          "name": "stdout"
        }
      ]
    },
    {
      "cell_type": "markdown",
      "metadata": {
        "id": "8IZx7UZKWawT",
        "colab_type": "text"
      },
      "source": [
        "Ở đây ```bool``` (kiểu của ```False```) là một lớp con của ```int``` trong  Python, nên ```isinstance(num, int)```  trả về kết quả là ```True```, điều này không được như ta mong đợi. Ta dùng ```type``` sẽ chính xác hơn trong trường hợp này."
      ]
    },
    {
      "cell_type": "code",
      "metadata": {
        "id": "HpeUSZBhWZZW",
        "colab_type": "code",
        "colab": {}
      },
      "source": [
        "def which_number_type(num):\n",
        "  if type(num) == int:\n",
        "    print('Integer')\n",
        "  else:\n",
        "    raise TypeError('Not an integer')"
      ],
      "execution_count": 0,
      "outputs": []
    },
    {
      "cell_type": "code",
      "metadata": {
        "id": "o0WxQwP8W4fl",
        "colab_type": "code",
        "colab": {
          "base_uri": "https://localhost:8080/",
          "height": 246
        },
        "outputId": "b83e8b9e-eb0e-4acb-86a3-a637486baa0d"
      },
      "source": [
        "which_number_type(False) # Đưa ra ngoại lệ với thông điệp 'Not an integer', điều này đúng."
      ],
      "execution_count": 21,
      "outputs": [
        {
          "output_type": "error",
          "ename": "TypeError",
          "evalue": "ignored",
          "traceback": [
            "\u001b[0;31m---------------------------------------------------------------------------\u001b[0m",
            "\u001b[0;31mTypeError\u001b[0m                                 Traceback (most recent call last)",
            "\u001b[0;32m<ipython-input-21-fade40935a94>\u001b[0m in \u001b[0;36m<module>\u001b[0;34m()\u001b[0m\n\u001b[0;32m----> 1\u001b[0;31m \u001b[0mwhich_number_type\u001b[0m\u001b[0;34m(\u001b[0m\u001b[0;32mFalse\u001b[0m\u001b[0;34m)\u001b[0m \u001b[0;31m# In ra 'Integer', điều này sai\u001b[0m\u001b[0;34m\u001b[0m\u001b[0;34m\u001b[0m\u001b[0m\n\u001b[0m",
            "\u001b[0;32m<ipython-input-20-1570183dbc77>\u001b[0m in \u001b[0;36mwhich_number_type\u001b[0;34m(num)\u001b[0m\n\u001b[1;32m      3\u001b[0m     \u001b[0mprint\u001b[0m\u001b[0;34m(\u001b[0m\u001b[0;34m'Integer'\u001b[0m\u001b[0;34m)\u001b[0m\u001b[0;34m\u001b[0m\u001b[0;34m\u001b[0m\u001b[0m\n\u001b[1;32m      4\u001b[0m   \u001b[0;32melse\u001b[0m\u001b[0;34m:\u001b[0m\u001b[0;34m\u001b[0m\u001b[0;34m\u001b[0m\u001b[0m\n\u001b[0;32m----> 5\u001b[0;31m     \u001b[0;32mraise\u001b[0m \u001b[0mTypeError\u001b[0m\u001b[0;34m(\u001b[0m\u001b[0;34m'Not an integer'\u001b[0m\u001b[0;34m)\u001b[0m\u001b[0;34m\u001b[0m\u001b[0;34m\u001b[0m\u001b[0m\n\u001b[0m",
            "\u001b[0;31mTypeError\u001b[0m: Not an integer"
          ]
        }
      ]
    },
    {
      "cell_type": "code",
      "metadata": {
        "id": "uM9DbJ6aW53b",
        "colab_type": "code",
        "colab": {}
      },
      "source": [
        ""
      ],
      "execution_count": 0,
      "outputs": []
    }
  ]
}