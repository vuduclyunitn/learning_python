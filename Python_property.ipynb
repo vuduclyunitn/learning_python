{
  "nbformat": 4,
  "nbformat_minor": 0,
  "metadata": {
    "colab": {
      "name": "Python @property.ipynb",
      "version": "0.3.2",
      "provenance": [],
      "include_colab_link": true
    },
    "kernelspec": {
      "name": "python3",
      "display_name": "Python 3"
    }
  },
  "cells": [
    {
      "cell_type": "markdown",
      "metadata": {
        "id": "view-in-github",
        "colab_type": "text"
      },
      "source": [
        "<a href=\"https://colab.research.google.com/github/vuduclyunitn/learning_python/blob/master/Python_property.ipynb\" target=\"_parent\"><img src=\"https://colab.research.google.com/assets/colab-badge.svg\" alt=\"Open In Colab\"/></a>"
      ]
    },
    {
      "cell_type": "code",
      "metadata": {
        "id": "UZSAXGkRrJIr",
        "colab_type": "code",
        "colab": {}
      },
      "source": [
        ""
      ],
      "execution_count": 0,
      "outputs": []
    },
    {
      "cell_type": "markdown",
      "metadata": {
        "id": "qUI8_04orOvB",
        "colab_type": "text"
      },
      "source": [
        "# Dịch và bổ sung từ: https://www.programiz.com/python-programming/property"
      ]
    },
    {
      "cell_type": "markdown",
      "metadata": {
        "id": "85wbDOUzrSot",
        "colab_type": "text"
      },
      "source": [
        "Python có một khái niệm rất hay được gọi là ```property```, đây là một decorator giúp cho việc lập trình hướng đối tượng trong Python trở nên dễ đi rất nhiều.\n",
        "\n",
        "Trước khi đi vào chi tiết, hãy bắt đầu với những ví dụ đơn giản để ta hình dung được những ngữ cảnh mà dùng ```property``` đem lại lợi ích rõ rệt."
      ]
    },
    {
      "cell_type": "markdown",
      "metadata": {
        "id": "zF-1K5tSxYRJ",
        "colab_type": "text"
      },
      "source": [
        "## Một ví dụ\n",
        "Giả định rằng bạn muốn tạo một lớp để lưu nhiệt độ C. Và trong lớp này ta tạo một phương thức để chuyển độ C sang độ F. Ví dụ dưới đây biểu diễn một cách"
      ]
    },
    {
      "cell_type": "code",
      "metadata": {
        "id": "Vt7-5jkCrRd9",
        "colab_type": "code",
        "colab": {}
      },
      "source": [
        "class Celsius:\n",
        "  def __init__(self, temperature=0):\n",
        "    self.temperature = temperature\n",
        "  \n",
        "  def to_fahrenheit(self):\n",
        "    return (self.temperature * 1.8) + 32"
      ],
      "execution_count": 0,
      "outputs": []
    },
    {
      "cell_type": "markdown",
      "metadata": {
        "id": "zghq629CycIe",
        "colab_type": "text"
      },
      "source": [
        "Ta có thể tạo các đối tượng của lớp trên và thao tác thuộc tính ```temperature``` nếu muốn. Hãy thử một số đoạn code dưới đây"
      ]
    },
    {
      "cell_type": "code",
      "metadata": {
        "id": "k1xI66vfyYQT",
        "colab_type": "code",
        "colab": {}
      },
      "source": [
        "# Tạo một đối tượng mới\n",
        "man = Celsius()"
      ],
      "execution_count": 0,
      "outputs": []
    },
    {
      "cell_type": "code",
      "metadata": {
        "id": "GHdO3o1qytm7",
        "colab_type": "code",
        "colab": {}
      },
      "source": [
        "# Thiết lập nhiệt độ\n",
        "man.temperature = 37"
      ],
      "execution_count": 0,
      "outputs": []
    },
    {
      "cell_type": "code",
      "metadata": {
        "id": "2Qsk8f_byxIx",
        "colab_type": "code",
        "colab": {
          "base_uri": "https://localhost:8080/",
          "height": 34
        },
        "outputId": "a3cfe69a-b188-402e-b057-57cfd55beadd"
      },
      "source": [
        "# Lấy thông tin nhiệt độ\n",
        "man.temperature"
      ],
      "execution_count": 5,
      "outputs": [
        {
          "output_type": "execute_result",
          "data": {
            "text/plain": [
              "37"
            ]
          },
          "metadata": {
            "tags": []
          },
          "execution_count": 5
        }
      ]
    },
    {
      "cell_type": "code",
      "metadata": {
        "id": "umJWCR8ny3qE",
        "colab_type": "code",
        "colab": {
          "base_uri": "https://localhost:8080/",
          "height": 34
        },
        "outputId": "5e1f6d1e-69fb-4e5e-e9c7-066e34cf6c50"
      },
      "source": [
        "# Chuyển từ độ C sang độ F\n",
        "man.to_fahrenheit()"
      ],
      "execution_count": 6,
      "outputs": [
        {
          "output_type": "execute_result",
          "data": {
            "text/plain": [
              "98.60000000000001"
            ]
          },
          "metadata": {
            "tags": []
          },
          "execution_count": 6
        }
      ]
    },
    {
      "cell_type": "markdown",
      "metadata": {
        "id": "d9uqsbBkzCbS",
        "colab_type": "text"
      },
      "source": [
        "Bất cứ khi nào ta gán cho một đối tượng một giá trị, hay lấy ra giá trị của đối tượng như là ```temperature```, Python tìm thuộc tính ta truy vấn trong từ điển ```__dict__``` của đối tượng"
      ]
    },
    {
      "cell_type": "code",
      "metadata": {
        "id": "TY3OwdSFy8wD",
        "colab_type": "code",
        "colab": {
          "base_uri": "https://localhost:8080/",
          "height": 34
        },
        "outputId": "6aa70223-8749-4811-a821-a7c5782e79c7"
      },
      "source": [
        "man.__dict__"
      ],
      "execution_count": 7,
      "outputs": [
        {
          "output_type": "execute_result",
          "data": {
            "text/plain": [
              "{'temperature': 37}"
            ]
          },
          "metadata": {
            "tags": []
          },
          "execution_count": 7
        }
      ]
    },
    {
      "cell_type": "markdown",
      "metadata": {
        "id": "0w041UfuzZ16",
        "colab_type": "text"
      },
      "source": [
        "Nào hãy giả định rằng lớp của bạn xây dựng được chia sẻ với nhiều khác hàng và họ bắt đầu dùng nó trong chương trình của mình. Họ làm tất các kiểu gán trong các đối tượng của họ.\n",
        "\n",
        "Vào một ngày định mệnh, một khách hàng thân quen của chúng ta đưa ra khuyến nghị rằng nhiệt độ không thể xuống thấp hơn âm 273 độ C. Anh ta yêu cầu thiết lập lên một ràng buộc cho nhiệt độ. Chúng ta cần làm việc này để thoả mãn yêu cầu của khách hàng của chúng ta. "
      ]
    },
    {
      "cell_type": "markdown",
      "metadata": {
        "id": "7eoIFig60d-U",
        "colab_type": "text"
      },
      "source": [
        "Sử dụng các bộ lấy (Getters) và bộ đặt (Setters)\n",
        "Một giải pháp ta có thể nghĩ tới ngay đó là ẩn đi thuộc tính ```temperature``` (làm cho nó riêng tư) và định nghĩa các bộ lấy và bộ đặt để thao tác trên thuộc tính đó. Dưới đây là đoạn mã hiện thực nó"
      ]
    },
    {
      "cell_type": "code",
      "metadata": {
        "id": "Uj8zQowAzWmR",
        "colab_type": "code",
        "colab": {}
      },
      "source": [
        "class Celsius:\n",
        "  def __init__(self, temperature=0):\n",
        "    self.set_temperature(temperature)\n",
        "  \n",
        "  def to_fahrenheit(self):\n",
        "    return (self.get_temperature() * 1.8) + 32\n",
        "  \n",
        "  # Code mới\n",
        "  def get_temperature(self):\n",
        "    return self._temperature\n",
        "  \n",
        "  def set_temperature(self, value):\n",
        "    if value < -273:\n",
        "      raise ValueError(\"Temperature below -273 is not possible\")\n",
        "    self._temperature = value\n",
        "   "
      ],
      "execution_count": 0,
      "outputs": []
    },
    {
      "cell_type": "markdown",
      "metadata": {
        "id": "E7Ox60df3IGI",
        "colab_type": "text"
      },
      "source": [
        "Bạn có thể thấy các phương thức mới ```get_temperature()``` và ```set_temperature()``` được định nghĩa trong lớp cùng với hai phương thức cũ, thuộc tính ```temperature``` được thay thế bởi ```_temperature```. Dấu gạch chân ```_``` đặt ở đầu của biến được sử dụng để chỉ ra đó là các biến riêng tư hay nội bộ trong lớp. Hãy thử sử dụng lớp mới này"
      ]
    },
    {
      "cell_type": "code",
      "metadata": {
        "id": "PsrUo6_E3F_i",
        "colab_type": "code",
        "colab": {
          "base_uri": "https://localhost:8080/",
          "height": 304
        },
        "outputId": "6b879f44-7cab-461f-bf01-d7cf566e06ec"
      },
      "source": [
        "c = Celsius(-277)"
      ],
      "execution_count": 9,
      "outputs": [
        {
          "output_type": "error",
          "ename": "ValueError",
          "evalue": "ignored",
          "traceback": [
            "\u001b[0;31m---------------------------------------------------------------------------\u001b[0m",
            "\u001b[0;31mValueError\u001b[0m                                Traceback (most recent call last)",
            "\u001b[0;32m<ipython-input-9-6a58b03f9b0f>\u001b[0m in \u001b[0;36m<module>\u001b[0;34m()\u001b[0m\n\u001b[0;32m----> 1\u001b[0;31m \u001b[0mc\u001b[0m \u001b[0;34m=\u001b[0m \u001b[0mCelsius\u001b[0m\u001b[0;34m(\u001b[0m\u001b[0;34m-\u001b[0m\u001b[0;36m277\u001b[0m\u001b[0;34m)\u001b[0m\u001b[0;34m\u001b[0m\u001b[0;34m\u001b[0m\u001b[0m\n\u001b[0m",
            "\u001b[0;32m<ipython-input-8-f2577d2fe536>\u001b[0m in \u001b[0;36m__init__\u001b[0;34m(self, temperature)\u001b[0m\n\u001b[1;32m      1\u001b[0m \u001b[0;32mclass\u001b[0m \u001b[0mCelsius\u001b[0m\u001b[0;34m:\u001b[0m\u001b[0;34m\u001b[0m\u001b[0;34m\u001b[0m\u001b[0m\n\u001b[1;32m      2\u001b[0m   \u001b[0;32mdef\u001b[0m \u001b[0m__init__\u001b[0m\u001b[0;34m(\u001b[0m\u001b[0mself\u001b[0m\u001b[0;34m,\u001b[0m \u001b[0mtemperature\u001b[0m\u001b[0;34m=\u001b[0m\u001b[0;36m0\u001b[0m\u001b[0;34m)\u001b[0m\u001b[0;34m:\u001b[0m\u001b[0;34m\u001b[0m\u001b[0;34m\u001b[0m\u001b[0m\n\u001b[0;32m----> 3\u001b[0;31m     \u001b[0mself\u001b[0m\u001b[0;34m.\u001b[0m\u001b[0mset_temperature\u001b[0m\u001b[0;34m(\u001b[0m\u001b[0mtemperature\u001b[0m\u001b[0;34m)\u001b[0m\u001b[0;34m\u001b[0m\u001b[0;34m\u001b[0m\u001b[0m\n\u001b[0m\u001b[1;32m      4\u001b[0m \u001b[0;34m\u001b[0m\u001b[0m\n\u001b[1;32m      5\u001b[0m   \u001b[0;32mdef\u001b[0m \u001b[0mto_fahrenheit\u001b[0m\u001b[0;34m(\u001b[0m\u001b[0mself\u001b[0m\u001b[0;34m)\u001b[0m\u001b[0;34m:\u001b[0m\u001b[0;34m\u001b[0m\u001b[0;34m\u001b[0m\u001b[0m\n",
            "\u001b[0;32m<ipython-input-8-f2577d2fe536>\u001b[0m in \u001b[0;36mset_temperature\u001b[0;34m(self, value)\u001b[0m\n\u001b[1;32m     12\u001b[0m   \u001b[0;32mdef\u001b[0m \u001b[0mset_temperature\u001b[0m\u001b[0;34m(\u001b[0m\u001b[0mself\u001b[0m\u001b[0;34m,\u001b[0m \u001b[0mvalue\u001b[0m\u001b[0;34m)\u001b[0m\u001b[0;34m:\u001b[0m\u001b[0;34m\u001b[0m\u001b[0;34m\u001b[0m\u001b[0m\n\u001b[1;32m     13\u001b[0m     \u001b[0;32mif\u001b[0m \u001b[0mvalue\u001b[0m \u001b[0;34m<\u001b[0m \u001b[0;34m-\u001b[0m\u001b[0;36m273\u001b[0m\u001b[0;34m:\u001b[0m\u001b[0;34m\u001b[0m\u001b[0;34m\u001b[0m\u001b[0m\n\u001b[0;32m---> 14\u001b[0;31m       \u001b[0;32mraise\u001b[0m \u001b[0mValueError\u001b[0m\u001b[0;34m(\u001b[0m\u001b[0;34m\"Temperature below -273 is not possible\"\u001b[0m\u001b[0;34m)\u001b[0m\u001b[0;34m\u001b[0m\u001b[0;34m\u001b[0m\u001b[0m\n\u001b[0m\u001b[1;32m     15\u001b[0m     \u001b[0mself\u001b[0m\u001b[0;34m.\u001b[0m\u001b[0m_temperature\u001b[0m \u001b[0;34m=\u001b[0m \u001b[0mvalue\u001b[0m\u001b[0;34m\u001b[0m\u001b[0;34m\u001b[0m\u001b[0m\n\u001b[1;32m     16\u001b[0m \u001b[0;34m\u001b[0m\u001b[0m\n",
            "\u001b[0;31mValueError\u001b[0m: Temperature below -273 is not possible"
          ]
        }
      ]
    },
    {
      "cell_type": "markdown",
      "metadata": {
        "id": "TUGSQe-i3yNb",
        "colab_type": "text"
      },
      "source": [
        "Ở ví dụ  trên khi ta cung cấp nhiệt độ -277 thì sẽ bị gặp ngoại lệ về giá trị. Sử dụng một giá trị hợp lý sẽ không bị lỗi"
      ]
    },
    {
      "cell_type": "code",
      "metadata": {
        "id": "iEzJdhqg3w-y",
        "colab_type": "code",
        "colab": {}
      },
      "source": [
        "c = Celsius(37)"
      ],
      "execution_count": 0,
      "outputs": []
    },
    {
      "cell_type": "code",
      "metadata": {
        "id": "g5lV0Wkk4IAu",
        "colab_type": "code",
        "colab": {
          "base_uri": "https://localhost:8080/",
          "height": 34
        },
        "outputId": "8e96ae32-2329-458d-db64-8dd766fb8093"
      },
      "source": [
        "# Lấy ra giá trị của thuộc tính thông qua phương thức\n",
        "c.get_temperature()"
      ],
      "execution_count": 12,
      "outputs": [
        {
          "output_type": "execute_result",
          "data": {
            "text/plain": [
              "37"
            ]
          },
          "metadata": {
            "tags": []
          },
          "execution_count": 12
        }
      ]
    },
    {
      "cell_type": "code",
      "metadata": {
        "id": "NCM8421n4TXF",
        "colab_type": "code",
        "colab": {}
      },
      "source": [
        "# Thiết lập giá trị cho một thuộc tính\n",
        "c.set_temperature(10)"
      ],
      "execution_count": 0,
      "outputs": []
    },
    {
      "cell_type": "code",
      "metadata": {
        "id": "ROuqCdeO4Y9f",
        "colab_type": "code",
        "colab": {
          "base_uri": "https://localhost:8080/",
          "height": 280
        },
        "outputId": "3700a285-a825-486a-835b-72d0daadc9ff"
      },
      "source": [
        "# Thiết lập một giá trị không hợp lệ sẽ gặp lỗi\n",
        "c.set_temperature(-300)"
      ],
      "execution_count": 14,
      "outputs": [
        {
          "output_type": "error",
          "ename": "ValueError",
          "evalue": "ignored",
          "traceback": [
            "\u001b[0;31m---------------------------------------------------------------------------\u001b[0m",
            "\u001b[0;31mValueError\u001b[0m                                Traceback (most recent call last)",
            "\u001b[0;32m<ipython-input-14-57c53727bdf8>\u001b[0m in \u001b[0;36m<module>\u001b[0;34m()\u001b[0m\n\u001b[0;32m----> 1\u001b[0;31m \u001b[0mc\u001b[0m\u001b[0;34m.\u001b[0m\u001b[0mset_temperature\u001b[0m\u001b[0;34m(\u001b[0m\u001b[0;34m-\u001b[0m\u001b[0;36m300\u001b[0m\u001b[0;34m)\u001b[0m\u001b[0;34m\u001b[0m\u001b[0;34m\u001b[0m\u001b[0m\n\u001b[0m",
            "\u001b[0;32m<ipython-input-8-f2577d2fe536>\u001b[0m in \u001b[0;36mset_temperature\u001b[0;34m(self, value)\u001b[0m\n\u001b[1;32m     12\u001b[0m   \u001b[0;32mdef\u001b[0m \u001b[0mset_temperature\u001b[0m\u001b[0;34m(\u001b[0m\u001b[0mself\u001b[0m\u001b[0;34m,\u001b[0m \u001b[0mvalue\u001b[0m\u001b[0;34m)\u001b[0m\u001b[0;34m:\u001b[0m\u001b[0;34m\u001b[0m\u001b[0;34m\u001b[0m\u001b[0m\n\u001b[1;32m     13\u001b[0m     \u001b[0;32mif\u001b[0m \u001b[0mvalue\u001b[0m \u001b[0;34m<\u001b[0m \u001b[0;34m-\u001b[0m\u001b[0;36m273\u001b[0m\u001b[0;34m:\u001b[0m\u001b[0;34m\u001b[0m\u001b[0;34m\u001b[0m\u001b[0m\n\u001b[0;32m---> 14\u001b[0;31m       \u001b[0;32mraise\u001b[0m \u001b[0mValueError\u001b[0m\u001b[0;34m(\u001b[0m\u001b[0;34m\"Temperature below -273 is not possible\"\u001b[0m\u001b[0;34m)\u001b[0m\u001b[0;34m\u001b[0m\u001b[0;34m\u001b[0m\u001b[0m\n\u001b[0m\u001b[1;32m     15\u001b[0m     \u001b[0mself\u001b[0m\u001b[0;34m.\u001b[0m\u001b[0m_temperature\u001b[0m \u001b[0;34m=\u001b[0m \u001b[0mvalue\u001b[0m\u001b[0;34m\u001b[0m\u001b[0;34m\u001b[0m\u001b[0m\n\u001b[1;32m     16\u001b[0m \u001b[0;34m\u001b[0m\u001b[0m\n",
            "\u001b[0;31mValueError\u001b[0m: Temperature below -273 is not possible"
          ]
        }
      ]
    },
    {
      "cell_type": "markdown",
      "metadata": {
        "id": "UjYSqmB24mbO",
        "colab_type": "text"
      },
      "source": [
        "Cách triển khai trên giúp ta giải quyết được vấn đề giới hạn nhiệt độ cho phép\n"
      ]
    },
    {
      "cell_type": "markdown",
      "metadata": {
        "id": "eiqmwgls4uLa",
        "colab_type": "text"
      },
      "source": [
        "Chú ý rằng các biến riêng tư không tồn tại trong Python. Chúng chỉ là các quy tắc người ta hay tuân theo trong Python. Ngôn ngữ Python không áp dụng các giới hạn này. Hãy thử truy cập trực tiếp tới thuộc tính riêng tư ```_temperature```"
      ]
    },
    {
      "cell_type": "code",
      "metadata": {
        "id": "tMcfbwtj4ffP",
        "colab_type": "code",
        "colab": {
          "base_uri": "https://localhost:8080/",
          "height": 34
        },
        "outputId": "ebdc26e5-3fcf-4c95-efac-62a98f785ca3"
      },
      "source": [
        "c._temperature = -300\n",
        "c.get_temperature()"
      ],
      "execution_count": 15,
      "outputs": [
        {
          "output_type": "execute_result",
          "data": {
            "text/plain": [
              "-300"
            ]
          },
          "metadata": {
            "tags": []
          },
          "execution_count": 15
        }
      ]
    },
    {
      "cell_type": "markdown",
      "metadata": {
        "id": "NiKW4XXn5a6Z",
        "colab_type": "text"
      },
      "source": [
        "Ở ví dụ trên ta có thể gán giá trị cho thuộc tính riêng tư và thông qua một phương thức để lấy giá trị của biến riêng tư này"
      ]
    },
    {
      "cell_type": "markdown",
      "metadata": {
        "id": "F5Zc0tMr5v7w",
        "colab_type": "text"
      },
      "source": [
        "Nhưng đó chưa phải là vấn đề gây đau đầu nhất. Vấn đề lớn ở đây là tất cả các khách hàng của ta phải thay đổi code của họ từ ```obj.temperature``` sang ```obj.get_temperature()``` để lấy ra giá trị của một thuộc tính, và các phép gán từ ```obj.temperature = val``` sang ```obj.set_temperature(val)```. Sự thay đổi này có thể gây ra hệ luỵ là ta phải thay đổi hàng ngàn dòng code nơi sử dụng phương thức cũ. "
      ]
    },
    {
      "cell_type": "markdown",
      "metadata": {
        "id": "P6MOCDFH6fIz",
        "colab_type": "text"
      },
      "source": [
        "## Sức mạnh của @property\n",
        "Một cách làm thuần python (pythonic) cho vấn đề trên là sử dụng property. Hãy nhìn ví dụ dưới đây"
      ]
    },
    {
      "cell_type": "code",
      "metadata": {
        "id": "ONTqb8Ae5XfS",
        "colab_type": "code",
        "colab": {}
      },
      "source": [
        "class Celsius:\n",
        "  def __init__(self, temperature=0):\n",
        "    self.temperature = temperature\n",
        "  \n",
        "  def to_fahrenheit(self):\n",
        "    return (self.temperature * 1.8) + 32\n",
        "  \n",
        "  def get_temperature(self):\n",
        "    print(\"Getting value\")\n",
        "    return self._temperature\n",
        "  \n",
        "  def set_temperature(self, value):\n",
        "    if value < -273: \n",
        "      raise ValueError(\"Temperature below -273 is not possible\")\n",
        "    print(\"Setting value\")\n",
        "    self._temperature = value\n",
        "    \n",
        "  temperature = property(get_temperature, set_temperature)"
      ],
      "execution_count": 0,
      "outputs": []
    },
    {
      "cell_type": "markdown",
      "metadata": {
        "id": "Z2-BWE-F7qhR",
        "colab_type": "text"
      },
      "source": [
        "Hãy thử gọi lớp mới trên"
      ]
    },
    {
      "cell_type": "code",
      "metadata": {
        "id": "6tugqJ5B7oGD",
        "colab_type": "code",
        "colab": {
          "base_uri": "https://localhost:8080/",
          "height": 34
        },
        "outputId": "e710d1cb-bd49-4ba2-fae0-015940d350d0"
      },
      "source": [
        "c = Celsius()"
      ],
      "execution_count": 17,
      "outputs": [
        {
          "output_type": "stream",
          "text": [
            "Setting value\n"
          ],
          "name": "stdout"
        }
      ]
    },
    {
      "cell_type": "markdown",
      "metadata": {
        "id": "Bc1BrAAd7yJH",
        "colab_type": "text"
      },
      "source": [
        "Chúng ta đã thêm câu lệnh in ```print()``` bên trong hai phương thức ```get_temperature()``` và ```set_temperature()``` để quan sát rõ hơn thực thi của chương trình"
      ]
    },
    {
      "cell_type": "markdown",
      "metadata": {
        "id": "Y7A8C7qT8Jct",
        "colab_type": "text"
      },
      "source": [
        "Dòng code cuối cùng tạo một đối tượng property là ```temperature```. property gắn một vài phần code (```get_temperature``` và ```set_temperature```) tới các truy cập vào thuộc tính thành viên (```temperature```). \n",
        "\n",
        "Bất cứ đoạn code nào muốn lấy giá trị của ```temperature``` sẽ tự động chuyển sang gọi ```get_temperature()``` thay việc truy cập vào từ điển như đã nhắc tới ở trên. Tương tự như vậy, code muốn gán một giá trị cho ```temperature``` sẽ tự động gọi ```set_temperature()```. Đó là một tính năng rất năng rất thú vị của Python. \n",
        "\n",
        "Bạn có thấy ở trên là phương thức ```set_temperature()``` được gọi khi tạo một đối tượng"
      ]
    },
    {
      "cell_type": "markdown",
      "metadata": {
        "id": "XOGfwFUD90yr",
        "colab_type": "text"
      },
      "source": [
        "### Bạn có biết nguyên nhân tại sao không?\n",
        "Lý do là khi một đối tượng được tạo thì phương thức ```__init__()``` được gọi. Phương thức này có chứa dòng sau ```self.temperature = temperature```. Phép gán này tự động gọi ```set_temperature()```. "
      ]
    },
    {
      "cell_type": "markdown",
      "metadata": {
        "id": "ie-TzhE6-VSO",
        "colab_type": "text"
      },
      "source": [
        "Tương tự như vậy khi ta truy cập trực tiếp tới thuộc tính ```temperature``` thì phương thức ```get_temperature()``` được gọi. Đó là nhưng gì property làm cho ta. Hãy thử một vài ví dụ"
      ]
    },
    {
      "cell_type": "code",
      "metadata": {
        "id": "Wh7D9cSb7wHq",
        "colab_type": "code",
        "colab": {
          "base_uri": "https://localhost:8080/",
          "height": 50
        },
        "outputId": "85700293-0fa0-4f61-9ba8-4b12a92ec7c3"
      },
      "source": [
        "# Truy cập trực tiếp tới thuộc tính\n",
        "c.temperature"
      ],
      "execution_count": 18,
      "outputs": [
        {
          "output_type": "stream",
          "text": [
            "Getting value\n"
          ],
          "name": "stdout"
        },
        {
          "output_type": "execute_result",
          "data": {
            "text/plain": [
              "0"
            ]
          },
          "metadata": {
            "tags": []
          },
          "execution_count": 18
        }
      ]
    },
    {
      "cell_type": "code",
      "metadata": {
        "id": "WjI9oOdW-x1K",
        "colab_type": "code",
        "colab": {
          "base_uri": "https://localhost:8080/",
          "height": 34
        },
        "outputId": "b9cecf29-071c-4e70-9447-7d18f02879c7"
      },
      "source": [
        "# Khi ta truy cập tới biến nội bộ _temperature thì ```get_temperature``` không được gọi\n",
        "c._temperature"
      ],
      "execution_count": 20,
      "outputs": [
        {
          "output_type": "execute_result",
          "data": {
            "text/plain": [
              "0"
            ]
          },
          "metadata": {
            "tags": []
          },
          "execution_count": 20
        }
      ]
    },
    {
      "cell_type": "code",
      "metadata": {
        "id": "iZqUQBo_-zoK",
        "colab_type": "code",
        "colab": {
          "base_uri": "https://localhost:8080/",
          "height": 34
        },
        "outputId": "ce738cec-d6ea-49b2-9641-661cf13ee533"
      },
      "source": [
        "c.temperature = 37"
      ],
      "execution_count": 21,
      "outputs": [
        {
          "output_type": "stream",
          "text": [
            "Setting value\n"
          ],
          "name": "stdout"
        }
      ]
    },
    {
      "cell_type": "code",
      "metadata": {
        "id": "oqwxBYVd_ClO",
        "colab_type": "code",
        "colab": {}
      },
      "source": [
        "c._temperature = 45"
      ],
      "execution_count": 0,
      "outputs": []
    },
    {
      "cell_type": "code",
      "metadata": {
        "id": "3u2s4_J3_EcE",
        "colab_type": "code",
        "colab": {
          "base_uri": "https://localhost:8080/",
          "height": 34
        },
        "outputId": "2979b09a-56ad-4db7-88c5-c951c570804b"
      },
      "source": [
        "c._temperature "
      ],
      "execution_count": 23,
      "outputs": [
        {
          "output_type": "execute_result",
          "data": {
            "text/plain": [
              "45"
            ]
          },
          "metadata": {
            "tags": []
          },
          "execution_count": 23
        }
      ]
    },
    {
      "cell_type": "code",
      "metadata": {
        "id": "9hcSZC7r_GU4",
        "colab_type": "code",
        "colab": {
          "base_uri": "https://localhost:8080/",
          "height": 50
        },
        "outputId": "e2d6f0b0-46bc-4bc6-cd7f-0688285daac9"
      },
      "source": [
        "c.temperature"
      ],
      "execution_count": 24,
      "outputs": [
        {
          "output_type": "stream",
          "text": [
            "Getting value\n"
          ],
          "name": "stdout"
        },
        {
          "output_type": "execute_result",
          "data": {
            "text/plain": [
              "45"
            ]
          },
          "metadata": {
            "tags": []
          },
          "execution_count": 24
        }
      ]
    },
    {
      "cell_type": "code",
      "metadata": {
        "id": "lqIJq6tG_Wjt",
        "colab_type": "code",
        "colab": {
          "base_uri": "https://localhost:8080/",
          "height": 67
        },
        "outputId": "ca4fe916-4f64-44bd-9139-ba0ac23fa525"
      },
      "source": [
        "c.temperature = 68\n",
        "c.temperature"
      ],
      "execution_count": 25,
      "outputs": [
        {
          "output_type": "stream",
          "text": [
            "Setting value\n",
            "Getting value\n"
          ],
          "name": "stdout"
        },
        {
          "output_type": "execute_result",
          "data": {
            "text/plain": [
              "68"
            ]
          },
          "metadata": {
            "tags": []
          },
          "execution_count": 25
        }
      ]
    },
    {
      "cell_type": "code",
      "metadata": {
        "id": "sBAcumEL_bh4",
        "colab_type": "code",
        "colab": {
          "base_uri": "https://localhost:8080/",
          "height": 34
        },
        "outputId": "bb411f24-bf6c-4793-f20f-96ea20ab126a"
      },
      "source": [
        "c._temperature"
      ],
      "execution_count": 26,
      "outputs": [
        {
          "output_type": "execute_result",
          "data": {
            "text/plain": [
              "68"
            ]
          },
          "metadata": {
            "tags": []
          },
          "execution_count": 26
        }
      ]
    },
    {
      "cell_type": "markdown",
      "metadata": {
        "id": "aV7GynEM_KKz",
        "colab_type": "text"
      },
      "source": [
        "Tương tự ở ví dụ trên nếu ta gán trực tiếp giá trị cho ```temperature``` thì hàm ```set_temperature()``` được gọi. Gán trực tiếp cho biến nội bộ ```_temperature``` sẽ không gọi ```set_temperature```. Cả hai cách này đều thay đổi chung một thuộc tính."
      ]
    },
    {
      "cell_type": "code",
      "metadata": {
        "id": "-ry5Tyuw_v3G",
        "colab_type": "code",
        "colab": {
          "base_uri": "https://localhost:8080/",
          "height": 50
        },
        "outputId": "2f24b4b5-c658-495b-f2be-cbec89892f8b"
      },
      "source": [
        "c.to_fahrenheit()"
      ],
      "execution_count": 27,
      "outputs": [
        {
          "output_type": "stream",
          "text": [
            "Getting value\n"
          ],
          "name": "stdout"
        },
        {
          "output_type": "execute_result",
          "data": {
            "text/plain": [
              "154.4"
            ]
          },
          "metadata": {
            "tags": []
          },
          "execution_count": 27
        }
      ]
    },
    {
      "cell_type": "markdown",
      "metadata": {
        "id": "2StHmhck_3jX",
        "colab_type": "text"
      },
      "source": [
        "Gọi phương thức ```to_fahrenheit()``` cũng làm cho Python gọi ```get_temperature``` bởi vì phương thức này có dùng ```self.temperature```. "
      ]
    },
    {
      "cell_type": "markdown",
      "metadata": {
        "id": "rveO7VWbAKHj",
        "colab_type": "text"
      },
      "source": [
        "Thông qua việc sử dụng property chúng ta chỉ cần thay đổi code từ phía người cung cấp mà không phải thay đổi code phía khách hàng. Nghĩa là cách thực này đảm bảo chương trình có tính tương thích. \n"
      ]
    },
    {
      "cell_type": "markdown",
      "metadata": {
        "id": "qSNiLPMtAa0T",
        "colab_type": "text"
      },
      "source": [
        "Chú ý cuối cùng: giá trị nhiệt độ được lưu trong biến nội bộ ```_tempearature```. Thuộc tính ```temperature``` là một đối tượng property cung cấp một giao tiếp cho biến nội bộ này."
      ]
    },
    {
      "cell_type": "code",
      "metadata": {
        "id": "uuWcsCPc_2fQ",
        "colab_type": "code",
        "colab": {}
      },
      "source": [
        ""
      ],
      "execution_count": 0,
      "outputs": []
    }
  ]
}