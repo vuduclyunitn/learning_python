{
  "nbformat": 4,
  "nbformat_minor": 0,
  "metadata": {
    "colab": {
      "name": "Python @property.ipynb",
      "version": "0.3.2",
      "provenance": [],
      "include_colab_link": true
    },
    "kernelspec": {
      "name": "python3",
      "display_name": "Python 3"
    }
  },
  "cells": [
    {
      "cell_type": "markdown",
      "metadata": {
        "id": "view-in-github",
        "colab_type": "text"
      },
      "source": [
        "<a href=\"https://colab.research.google.com/github/vuduclyunitn/learning_python/blob/master/Python_property.ipynb\" target=\"_parent\"><img src=\"https://colab.research.google.com/assets/colab-badge.svg\" alt=\"Open In Colab\"/></a>"
      ]
    },
    {
      "cell_type": "code",
      "metadata": {
        "id": "UZSAXGkRrJIr",
        "colab_type": "code",
        "colab": {}
      },
      "source": [
        ""
      ],
      "execution_count": 0,
      "outputs": []
    },
    {
      "cell_type": "markdown",
      "metadata": {
        "id": "qUI8_04orOvB",
        "colab_type": "text"
      },
      "source": [
        "# Dịch và bổ sung từ: https://www.programiz.com/python-programming/property"
      ]
    },
    {
      "cell_type": "markdown",
      "metadata": {
        "id": "85wbDOUzrSot",
        "colab_type": "text"
      },
      "source": [
        "Python có một khái niệm rất hay được gọi là ```property``` "
      ]
    },
    {
      "cell_type": "code",
      "metadata": {
        "id": "Vt7-5jkCrRd9",
        "colab_type": "code",
        "colab": {}
      },
      "source": [
        ""
      ],
      "execution_count": 0,
      "outputs": []
    }
  ]
}