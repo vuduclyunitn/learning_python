{
  "nbformat": 4,
  "nbformat_minor": 0,
  "metadata": {
    "colab": {
      "name": "Cách chạy các tiến trình song song.ipynb",
      "version": "0.3.2",
      "provenance": [],
      "include_colab_link": true
    },
    "kernelspec": {
      "name": "python3",
      "display_name": "Python 3"
    }
  },
  "cells": [
    {
      "cell_type": "markdown",
      "metadata": {
        "id": "view-in-github",
        "colab_type": "text"
      },
      "source": [
        "<a href=\"https://colab.research.google.com/github/vuduclyunitn/learning_python/blob/master/C%C3%A1ch_ch%E1%BA%A1y_c%C3%A1c_ti%E1%BA%BFn_tr%C3%ACnh_song_song.ipynb\" target=\"_parent\"><img src=\"https://colab.research.google.com/assets/colab-badge.svg\" alt=\"Open In Colab\"/></a>"
      ]
    },
    {
      "cell_type": "code",
      "metadata": {
        "id": "D2uLkA99fZTB",
        "colab_type": "code",
        "colab": {}
      },
      "source": [
        ""
      ],
      "execution_count": 0,
      "outputs": []
    },
    {
      "cell_type": "markdown",
      "metadata": {
        "id": "GZusv4dPfiu7",
        "colab_type": "text"
      },
      "source": [
        "# Dịch và bổ sung từ https://medium.com/@leportella/how-to-run-parallel-processes-8939dafae81e"
      ]
    },
    {
      "cell_type": "markdown",
      "metadata": {
        "id": "d0u3zUw7fm2w",
        "colab_type": "text"
      },
      "source": [
        "Đôi khi ta muốn chạy một vài scripts độc lập lẫn nhau. Các kết quả phân tích có thể được sử dụng cho một phân tích khác, phân tích sẽ được sau khi các scripts khác kết thúc.\n"
      ]
    },
    {
      "cell_type": "code",
      "metadata": {
        "id": "m-XqcqgzfmNI",
        "colab_type": "code",
        "colab": {
          "base_uri": "https://localhost:8080/",
          "height": 382
        },
        "outputId": "bc7d7b30-e2de-4268-bd88-0053a15860c3"
      },
      "source": [
        "from IPython.display import Image\n",
        "from IPython.core.display import HTML \n",
        "Image(url= \"https://miro.medium.com/max/486/1*bQL-xNNjpA1Wv58QY17_oQ.png\")"
      ],
      "execution_count": 2,
      "outputs": [
        {
          "output_type": "execute_result",
          "data": {
            "text/html": [
              "<img src=\"https://miro.medium.com/max/486/1*bQL-xNNjpA1Wv58QY17_oQ.png\"/>"
            ],
            "text/plain": [
              "<IPython.core.display.Image object>"
            ]
          },
          "metadata": {
            "tags": []
          },
          "execution_count": 2
        }
      ]
    },
    {
      "cell_type": "markdown",
      "metadata": {
        "id": "amoalmligiTu",
        "colab_type": "text"
      },
      "source": [
        "Như ở hình trên, ta có 3 tiến trình không phụ thuộc vào nhau và có thể chạy song song. Tiến trình thứ 3 là một script sử dụng kết quả từ 3 scripts một, hai và ba. "
      ]
    },
    {
      "cell_type": "markdown",
      "metadata": {
        "id": "d7FCympXgzh8",
        "colab_type": "text"
      },
      "source": [
        "Ta muốn làm những thứ sau:\n",
        "\n",
        "\n",
        "*   Một dòng chảy của các tiến trình: Tưởng tượng rằng 3 tiến trình trên hình trên biểu diễn một vài tiến trình nên được chạy độc lập và song song. Lại có thêm các scripts khác cần kết quả sinh ra từ các tiến trình độc lập trên (ta gọi các scripts này là các tiến trình phụ thuộc bởi vì chúng phụ thuộc vào kết quả của các scripts khác). \n",
        "*   Sử dụng tối ưu khả năng tính toán của hệ thống của ta.\n",
        "*   Đơn giản hóa cách gọi mỗi tiến trình (từ thủ công tới tự động)\n",
        "\n",
        "Để đạt những mục tiêu trên ta tạo một *maestro* script để gọi và hợp tác các script khác. Điều đó giúp cho quá trình thực thi của chương trình chúng ta trở nên dễ dàng và mạnh mẽ hơn\n",
        "\n"
      ]
    },
    {
      "cell_type": "markdown",
      "metadata": {
        "id": "5lHWjxTDirEY",
        "colab_type": "text"
      },
      "source": [
        "## Tình huống 1: Chạy 3 tiến trình song song\n",
        "\n",
        "Giả định rằng bạn có 3 scripts có tên là ***tiến trình 1***, ***tiến trình 2*** và ***tiến trình 3***. Tiến trình thứ nhất thì chậm và tiến trình hai là nhanh nhất."
      ]
    },
    {
      "cell_type": "code",
      "metadata": {
        "id": "x2fQh_VEgXur",
        "colab_type": "code",
        "colab": {
          "base_uri": "https://localhost:8080/",
          "height": 35
        },
        "outputId": "43de07ad-7ca6-4712-8f4b-17390a18fe28"
      },
      "source": [
        "# Tiến trình thứ nhất\n",
        "from time import sleep\n",
        "\n",
        "sleep(10)\n",
        "print('Kết thúc tiến trình 1')"
      ],
      "execution_count": 3,
      "outputs": [
        {
          "output_type": "stream",
          "text": [
            "Kết thúc tiến trình 1\n"
          ],
          "name": "stdout"
        }
      ]
    },
    {
      "cell_type": "markdown",
      "metadata": {
        "id": "NEJBDFhSjU9f",
        "colab_type": "text"
      },
      "source": [
        "Tiến trình thứ nhất mất 10 giây để in ra dòng thông điệp"
      ]
    },
    {
      "cell_type": "code",
      "metadata": {
        "id": "GrC8uSL3jYwP",
        "colab_type": "code",
        "colab": {
          "base_uri": "https://localhost:8080/",
          "height": 35
        },
        "outputId": "8bba9770-9caa-4ba6-99e9-f93ac815ac9f"
      },
      "source": [
        "# Tiến trình thứ 2\n",
        "print('Kết thúc tiến trình thứ 2')"
      ],
      "execution_count": 4,
      "outputs": [
        {
          "output_type": "stream",
          "text": [
            "Kết thúc tiến trình thứ 2\n"
          ],
          "name": "stdout"
        }
      ]
    },
    {
      "cell_type": "markdown",
      "metadata": {
        "id": "DyNlNFMLjhk0",
        "colab_type": "text"
      },
      "source": [
        "Tiến trình thứ 2 in ra thông điệp ngay lập tực"
      ]
    },
    {
      "cell_type": "code",
      "metadata": {
        "id": "t2J5CKdOjf_z",
        "colab_type": "code",
        "colab": {
          "base_uri": "https://localhost:8080/",
          "height": 35
        },
        "outputId": "8e68aa43-d282-485c-d7a3-3168169149d3"
      },
      "source": [
        "# Tiến trình thứ 3\n",
        "from time import sleep\n",
        "\n",
        "sleep(3)\n",
        "print('Kết thúc tiến trình thứ 3')"
      ],
      "execution_count": 5,
      "outputs": [
        {
          "output_type": "stream",
          "text": [
            "Kết thúc tiến trình thứ 3\n"
          ],
          "name": "stdout"
        }
      ]
    },
    {
      "cell_type": "markdown",
      "metadata": {
        "id": "7dfFHDhpjuPz",
        "colab_type": "text"
      },
      "source": [
        "Tiến trình thứ 3 mất 3 giây để in ra câu thông điệp"
      ]
    },
    {
      "cell_type": "markdown",
      "metadata": {
        "id": "UbTb7F0Yj1D4",
        "colab_type": "text"
      },
      "source": [
        "Đầu tiên ta tạo một tuple bao gồm tên của tất cả các scripts ta muốn chạy song song.\n"
      ]
    },
    {
      "cell_type": "markdown",
      "metadata": {
        "id": "-TcJ2KYvj9Nq",
        "colab_type": "text"
      },
      "source": [
        "Ta cũng cần một hàm để thực hiện một câu lệnh hệ thống. Trong trường hợp bạn dùng thư viện chuẩn ***os* ***  và phương thức ```.system```, chúng cho phép bạn chạy các câu lệnh trong hệ điều hành của bạn như thể là bạn chạy trong terminal. "
      ]
    },
    {
      "cell_type": "markdown",
      "metadata": {
        "id": "LY4H2InFkfn7",
        "colab_type": "text"
      },
      "source": [
        "Cuối cùng bạn sẽ cần khởi tạo một lớp *Pool* từ thư viện ***multiprocessing***. [Dựa theo tài liệu](https://docs.python.org/3/library/multiprocessing.html#multiprocessing.pool.Pool), một đối tượng tiến trình pool điều khiển một bể (pool) các tiến trình công việc (worker processes) thực hiện các công việc được đưa lên. Vì vậy bạn sẽ cần nói cho đối tượng này biến bao nhiêu *người làm* (workers) bạn muons sử dụng khi nó chạy các tiến trình của bạn. Trong trường hợp này, nó sẽ là 3 vì ta có 3 scripts."
      ]
    },
    {
      "cell_type": "markdown",
      "metadata": {
        "id": "HPdoeS32lKQc",
        "colab_type": "text"
      },
      "source": [
        "Sau đó, ta sẽ truyền hàm của ta vào và các tiến trình ta muốn song song hóa tới phương thức *map* của hiện thực Pool. Phương thức này sẽ đi qua mỗi tiến trình, truyền các tiến trình thông qua hàm và song song hóa nó tốt nhất có thể. Nó giống như là bạn gõ vào Python shell các câu lệnh sau:\n",
        "\n",
        "```>>> run_process('process1.py')```\n",
        "\n",
        "```>>> run_process('process2.py')```\n",
        "\n",
        "```>>> run_process('process3.py')```\n"
      ]
    },
    {
      "cell_type": "markdown",
      "metadata": {
        "id": "FnYRLqk6l-D9",
        "colab_type": "text"
      },
      "source": [
        "Tuy nhiên, thay vì thực hiện công việc như trên theo tuần tự, các *người làm* (workers) sẽ thực thi chúng tại cùng một thời điểm (mỗi script ứng với một *người làmàm"
      ]
    },
    {
      "cell_type": "code",
      "metadata": {
        "id": "tmzfQexIjszj",
        "colab_type": "code",
        "colab": {}
      },
      "source": [
        "import os\n",
        "from multiprocessing import Pool\n",
        "\n",
        "processes = ('')"
      ],
      "execution_count": 0,
      "outputs": []
    }
  ]
}