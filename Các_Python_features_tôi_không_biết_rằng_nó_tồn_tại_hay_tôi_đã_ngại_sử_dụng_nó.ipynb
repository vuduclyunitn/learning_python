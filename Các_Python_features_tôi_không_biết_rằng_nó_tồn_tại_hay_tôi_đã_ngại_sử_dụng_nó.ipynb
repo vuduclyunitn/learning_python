{
  "nbformat": 4,
  "nbformat_minor": 0,
  "metadata": {
    "colab": {
      "name": "Các Python features tôi không biết rằng nó tồn tại hay tôi đã ngại sử dụng nó.ipynb",
      "provenance": [],
      "collapsed_sections": [],
      "include_colab_link": true
    },
    "kernelspec": {
      "name": "python3",
      "display_name": "Python 3"
    }
  },
  "cells": [
    {
      "cell_type": "markdown",
      "metadata": {
        "id": "view-in-github",
        "colab_type": "text"
      },
      "source": [
        "<a href=\"https://colab.research.google.com/github/vuduclyunitn/learning_python/blob/master/C%C3%A1c_Python_features_t%C3%B4i_kh%C3%B4ng_bi%E1%BA%BFt_r%E1%BA%B1ng_n%C3%B3_t%E1%BB%93n_t%E1%BA%A1i_hay_t%C3%B4i_%C4%91%C3%A3_ng%E1%BA%A1i_s%E1%BB%AD_d%E1%BB%A5ng_n%C3%B3.ipynb\" target=\"_parent\"><img src=\"https://colab.research.google.com/assets/colab-badge.svg\" alt=\"Open In Colab\"/></a>"
      ]
    },
    {
      "cell_type": "code",
      "metadata": {
        "id": "QMgu5ce-AxRO",
        "colab_type": "code",
        "colab": {}
      },
      "source": [
        ""
      ],
      "execution_count": 0,
      "outputs": []
    },
    {
      "cell_type": "markdown",
      "metadata": {
        "id": "xhoa89l6A7qN",
        "colab_type": "text"
      },
      "source": [
        "Dịch từ https://github.com/chiphuyen/python-is-cool"
      ]
    },
    {
      "cell_type": "markdown",
      "metadata": {
        "id": "7cArFPmfBBUL",
        "colab_type": "text"
      },
      "source": [
        "## Lambda, map, filter, reduce\n",
        "\n",
        "Từ khoá lambda được sử dụng để tạo các hàm nội tuyến (inline functions). Hai hàm ```square_fn``` và ```square_ld``` là giống nhau"
      ]
    },
    {
      "cell_type": "code",
      "metadata": {
        "id": "d9OcURF7BfqG",
        "colab_type": "code",
        "colab": {}
      },
      "source": [
        "def square_fn(x):\n",
        "  return x * x\n",
        "\n",
        "square_ld = lambda x : x * x\n",
        "\n",
        "for i in range(10):\n",
        "  assert square_fn(i) == square_ld(i)"
      ],
      "execution_count": 0,
      "outputs": []
    },
    {
      "cell_type": "markdown",
      "metadata": {
        "id": "aeuRalXnBs_p",
        "colab_type": "text"
      },
      "source": [
        "Do các hàm ```lambda``` sử dụng các khai báo nhanh gọn, nó thích hợp cho các Gọi lại (callbacks), và khi ta muốn truyền các hàm như là các tham số cho các hàm khác. Các hàm ```lambda``` còn hữu dụng khi được sử dụng chung với các hàm như ```map```, ```filter```, và ```reduce```.\n",
        "\n",
        "```map(fn, iterable)``` áp dụng hàm ```fn``` lên tất cả các phần tử của ```iterable``` (như là danh sách, set, từ điển, tuple, string) và trả về một đối tượng map. "
      ]
    },
    {
      "cell_type": "code",
      "metadata": {
        "id": "T1zh9J4tBorW",
        "colab_type": "code",
        "outputId": "fd9877e7-f6db-449e-a1a2-510ae4102f33",
        "colab": {
          "base_uri": "https://localhost:8080/",
          "height": 54
        }
      },
      "source": [
        "nums = [1/3, 333/7, 2323/2230, 40/34, 2/3]\n",
        "nums_squared = [num * num for num in nums]\n",
        "print(nums_squared)"
      ],
      "execution_count": 0,
      "outputs": [
        {
          "output_type": "stream",
          "text": [
            "[0.1111111111111111, 2263.0408163265306, 1.0851472983570953, 1.384083044982699, 0.4444444444444444]\n"
          ],
          "name": "stdout"
        }
      ]
    },
    {
      "cell_type": "markdown",
      "metadata": {
        "id": "jT0oSjaTC8LY",
        "colab_type": "text"
      },
      "source": [
        "Đoạn mã trên giống với việc gọi ```map``` với một hàm callback"
      ]
    },
    {
      "cell_type": "code",
      "metadata": {
        "id": "mN2tN4nUC296",
        "colab_type": "code",
        "outputId": "d4cf242e-1abf-420d-a851-9727548d7f59",
        "colab": {
          "base_uri": "https://localhost:8080/",
          "height": 54
        }
      },
      "source": [
        "nums_squared_1 = map(square_fn, nums)\n",
        "print(list(nums_squared_1))"
      ],
      "execution_count": 0,
      "outputs": [
        {
          "output_type": "stream",
          "text": [
            "[0.1111111111111111, 2263.0408163265306, 1.0851472983570953, 1.384083044982699, 0.4444444444444444]\n"
          ],
          "name": "stdout"
        }
      ]
    },
    {
      "cell_type": "code",
      "metadata": {
        "id": "VzNopeg2DK1w",
        "colab_type": "code",
        "outputId": "4df1d66e-a4ec-4ac8-fd7f-0e6344b4ead8",
        "colab": {
          "base_uri": "https://localhost:8080/",
          "height": 54
        }
      },
      "source": [
        "nums_squared_2 = map(lambda x: x * x, nums)\n",
        "print(list(nums_squared_2))"
      ],
      "execution_count": 0,
      "outputs": [
        {
          "output_type": "stream",
          "text": [
            "[0.1111111111111111, 2263.0408163265306, 1.0851472983570953, 1.384083044982699, 0.4444444444444444]\n"
          ],
          "name": "stdout"
        }
      ]
    },
    {
      "cell_type": "markdown",
      "metadata": {
        "id": "g3eSPa1NDdPH",
        "colab_type": "text"
      },
      "source": [
        "Bạn cung có thể sử dụng ```map``` với nhiều hơn một iterable. Ví dụ, nếu bạn muốn tính lỗi bình phương trung bình (mean squared error) của một hàm tuyến tính ```f(x) = ax + b``` với một danh sách nhãn ```labels```, hai phương thức được liệt kê dưới đây là tương đương"
      ]
    },
    {
      "cell_type": "code",
      "metadata": {
        "id": "FQ9m9pNvDJQq",
        "colab_type": "code",
        "outputId": "bb13e05b-53b0-416f-d44c-b2746c8daa15",
        "colab": {
          "base_uri": "https://localhost:8080/",
          "height": 88
        }
      },
      "source": [
        "a, b = 3, -0.5\n",
        "xs = [2, 3, 4, 5]\n",
        "labels = [6.4, 8.9, 10.9, 15.3]\n",
        "\n",
        "# Phuơng thức thứ nhất: sử dụng một vòng lặp\n",
        "errors = []\n",
        "for i, x in enumerate(xs):\n",
        "  errors.append((a * x + b - labels[i]) ** 2)\n",
        "result1 = sum(errors) ** 0.5 / len(xs)\n",
        "\n",
        "# Phương thức thứ hai: sử dụng map \n",
        "diffs = map(lambda x, y: (a * x +  -y) ** 2, xs, labels)\n",
        "print(\"diffs before:\", list(diffs))\n",
        "result2 = sum(diffs) ** 0.5 / len(xs)\n",
        "print(result1, result2)\n",
        "print(\"diffs after:\", list(diffs))"
      ],
      "execution_count": 0,
      "outputs": [
        {
          "output_type": "stream",
          "text": [
            "diffs before: [0.16000000000000028, 0.009999999999999929, 1.2099999999999993, 0.09000000000000043]\n",
            "0.35089172119045514 0.0\n",
            "diffs after: []\n"
          ],
          "name": "stdout"
        }
      ]
    },
    {
      "cell_type": "markdown",
      "metadata": {
        "id": "2aVvSDssFyd1",
        "colab_type": "text"
      },
      "source": [
        "```diffs = map(lambda x, y: (a * x +  -y) ** 2, xs, labels)```. Hàm ```map``` nhận vào hai tham số x, y lần lượt nhận từng giá trị trong các danh sách ```xs``` là ```labels``` theo thứ tự tương ứng. Các đối tượng trả về bởi ```map``` và ```filter``` là các iterators, nghĩa là các giá trị của chúng không được lưu vào một biến, mà được sinh ra khi cần thiết. Sau khi bạn gọi hàm ```sum(diffs)```, ```diffs``` trở thành empty. Nếu bạn muốn giữ lại tất cả các phần tử trong ```diffs```, chuyển nó sang một danh sách sử dụng ```list(diffs)```.\n"
      ]
    },
    {
      "cell_type": "markdown",
      "metadata": {
        "id": "1G0cdjkl-pbq",
        "colab_type": "text"
      },
      "source": [
        "```filter(fn, iterable)``` hoạt động giống như ```map```, nhưng ```fn``` trả về một giá trị boolean và ```filter``` trả về một đối tượng ```filter``` bao gồm tất cả các phần tử của ```iterable``` mà hàm ```fn``` trả về ```True```"
      ]
    },
    {
      "cell_type": "code",
      "metadata": {
        "id": "o62s8Ax1_MlM",
        "colab_type": "code",
        "outputId": "ed9622f1-a04e-48d1-adfb-06e3b8d4b42d",
        "colab": {
          "base_uri": "https://localhost:8080/",
          "height": 71
        }
      },
      "source": [
        "print(\"Errors before filter:\", errors)\n",
        "bad_preds = filter(lambda x: x > 0.5, errors)\n",
        "print(\"Errors after filter: \", list(bad_preds))"
      ],
      "execution_count": 0,
      "outputs": [
        {
          "output_type": "stream",
          "text": [
            "Errors before filter: [0.8100000000000006, 0.16000000000000028, 0.3599999999999996, 0.6400000000000011]\n",
            "Errors after filter:  [0.8100000000000006, 0.6400000000000011]\n"
          ],
          "name": "stdout"
        }
      ]
    },
    {
      "cell_type": "markdown",
      "metadata": {
        "id": "ToXTUlvK_7eD",
        "colab_type": "text"
      },
      "source": [
        ""
      ]
    },
    {
      "cell_type": "code",
      "metadata": {
        "id": "20kv0CjI_uIO",
        "colab_type": "code",
        "outputId": "b7e38d94-82a2-4f2b-f1db-3f9f7c6d47ea",
        "colab": {
          "base_uri": "https://localhost:8080/",
          "height": 34
        }
      },
      "source": [
        "list(filter(lambda x: x > 0.5, errors))"
      ],
      "execution_count": 0,
      "outputs": [
        {
          "output_type": "execute_result",
          "data": {
            "text/plain": [
              "[0.8100000000000006, 0.6400000000000011]"
            ]
          },
          "metadata": {
            "tags": []
          },
          "execution_count": 5
        }
      ]
    },
    {
      "cell_type": "markdown",
      "metadata": {
        "id": "Gfa4kKaeFQZQ",
        "colab_type": "text"
      },
      "source": [
        "```reduce(fn, iterable, initializer)``` được sử dụng khi ta muốn áp dụng lặp di lặp lại một phép tính hay hành đọng lên tất cả các phần tử trong một danh sách. Ví dụ, nếu chúng ta muốn tính toán tích của tất cả các phần tử trong một danh sách: "
      ]
    },
    {
      "cell_type": "code",
      "metadata": {
        "id": "GdyASJXnE2bo",
        "colab_type": "code",
        "outputId": "e3bbcb15-2201-48a4-b04e-dee05838187d",
        "colab": {
          "base_uri": "https://localhost:8080/",
          "height": 34
        }
      },
      "source": [
        "nums = [1, 2, 3, 4, 5]\n",
        "product = 1\n",
        "for num in nums:\n",
        "  product *= num\n",
        "\n",
        "print(product) "
      ],
      "execution_count": 11,
      "outputs": [
        {
          "output_type": "stream",
          "text": [
            "120\n"
          ],
          "name": "stdout"
        }
      ]
    },
    {
      "cell_type": "markdown",
      "metadata": {
        "id": "KpbAVy9fFmAJ",
        "colab_type": "text"
      },
      "source": [
        "Dùng ```reduce``` đem lại kết quả tương đương"
      ]
    },
    {
      "cell_type": "code",
      "metadata": {
        "id": "BamEu5hPFm9X",
        "colab_type": "code",
        "outputId": "ab8de631-714b-42b5-aff2-4f70935be5a2",
        "colab": {
          "base_uri": "https://localhost:8080/",
          "height": 34
        }
      },
      "source": [
        "from functools import reduce\n",
        "product = reduce(lambda x, y: x * y, nums)\n",
        "print(product)"
      ],
      "execution_count": 12,
      "outputs": [
        {
          "output_type": "stream",
          "text": [
            "120\n"
          ],
          "name": "stdout"
        }
      ]
    },
    {
      "cell_type": "markdown",
      "metadata": {
        "id": "6vtSQDqHF-se",
        "colab_type": "text"
      },
      "source": [
        "Để hiểu hơn về đoạn mã trên ta cùng tìm hiểu cách hoạt động của reduce (tham khảo https://www.geeksforgeeks.org/reduce-in-python/)\n",
        "\n",
        "\n",
        "*   Đầu tiên, hai phần tử đầu của một iterable được lấy ra và được tính toán bởi hàm ```lambda``` để lấy ra kết quả\n",
        "*   Bước tiếp theo hàm ```lambda``` phía trên được áp dụng trên kết quả từ bước thứ nhất và phần tử thứ ba trong danh sách và kết quả được lưu lại.\n",
        "* Quá trình này tiếp tục cho đến khi không còn phần tử nào trong iterable. \n",
        "* Kết quả cuối cùng được trả về và in ra.\n",
        "\n",
        "Trong ví dụ trên, đầu tiên hàm ```lambda``` lấy 1 nhân với 2, sau đó lưu lại kết quả (2), tiếp theo nó lấy kết quả trước đó (2) nhân với phần tử thứ ba (3) ra kết quả là 6 và lưu lại. Và quá trình cứ như thế tiếp tục cho đến khi không còn phần tử nào trong danh sách ```nums``` nữa.\n",
        "\n",
        "Ta có thể thay đổi phép tính trong ```lambda```, ví dụ để tính tổng của các phần tử trong một danh sách\n",
        "\n"
      ]
    },
    {
      "cell_type": "code",
      "metadata": {
        "id": "C8Zwu4lEFqND",
        "colab_type": "code",
        "colab": {
          "base_uri": "https://localhost:8080/",
          "height": 34
        },
        "outputId": "d3eb028a-cb27-4e8c-86e7-7938e8e0c7c3"
      },
      "source": [
        "from functools import reduce\n",
        "sum_ = reduce(lambda x, y: x + y, nums)\n",
        "print(sum_)"
      ],
      "execution_count": 14,
      "outputs": [
        {
          "output_type": "stream",
          "text": [
            "15\n"
          ],
          "name": "stdout"
        }
      ]
    },
    {
      "cell_type": "markdown",
      "metadata": {
        "id": "kH6a6oM0Hmtx",
        "colab_type": "text"
      },
      "source": [
        "### Chú ý liên quan tới hiệu năng của các hàm lambda\n",
        "\n",
        "Các hàm lambda có nghĩa là sử dụng một lần. Mỗi lần ```lambda x: dosomething()``` được gọi, hàm này phải được tạo, điều này làm ảnh hưởng tới hiệu năng của chương trình nếu bạn gọi ```lambda x: dosomething(x)``` nhiều lần (ví dụ khi bạn truyền hàm ```lambda``` vào hàm ```reduce```)\n",
        "\n",
        "Khi bạn gán cho hàm ```lambda``` một cái tên, ví dụ như ```fn = lambda x: dosomething(x)```, hiệu năng của nó thấp hơn chút ít so với định nghĩa hàm sử dụng ```def```, nhưng sự khác biệt là không đáng kể. \n",
        "\n",
        "Mặc dù dùng lambdas thú vị, nhưng một cách cá nhân tôi khuyến khích sử dụng các hàm được đặt tên (sử dụng ```def```) khi bạn muốn hàm của bạn rõ ràng. "
      ]
    },
    {
      "cell_type": "markdown",
      "metadata": {
        "id": "hxXdlZppI0AK",
        "colab_type": "text"
      },
      "source": [
        "## Thao tác với danh sách\n",
        "\n",
        "Các danh sách (lists) trong Python rất thú vị"
      ]
    },
    {
      "cell_type": "markdown",
      "metadata": {
        "id": "FSuAUvrBJBBB",
        "colab_type": "text"
      },
      "source": [
        "### Giải nén (Unpacking)\n",
        "\n",
        "Bạn có thể giải nén một danh sách thành mỗi phần tử bên trong nó như sau:\n"
      ]
    },
    {
      "cell_type": "code",
      "metadata": {
        "id": "js12ZjYNHg99",
        "colab_type": "code",
        "colab": {
          "base_uri": "https://localhost:8080/",
          "height": 34
        },
        "outputId": "32281ac9-0ccc-4fbe-ec70-9c3a88972a17"
      },
      "source": [
        "elems = [1, 2, 3, 4]\n",
        "a, b, c, d = elems\n",
        "print(a, b, c, d)"
      ],
      "execution_count": 15,
      "outputs": [
        {
          "output_type": "stream",
          "text": [
            "1 2 3 4\n"
          ],
          "name": "stdout"
        }
      ]
    },
    {
      "cell_type": "markdown",
      "metadata": {
        "id": "eLV2yRsAJRPY",
        "colab_type": "text"
      },
      "source": [
        "Chú ý rằng các biến phía bên trái của một phép giải nén phải bằng số lượng các phần tử trong một danh sách, nếu không ta sẽ bị lỗi sau"
      ]
    },
    {
      "cell_type": "code",
      "metadata": {
        "id": "_9uszle7JPrn",
        "colab_type": "code",
        "colab": {
          "base_uri": "https://localhost:8080/",
          "height": 164
        },
        "outputId": "8183490d-b962-42c5-9f5a-f8e0792bfa78"
      },
      "source": [
        "a, b, c = elems"
      ],
      "execution_count": 16,
      "outputs": [
        {
          "output_type": "error",
          "ename": "ValueError",
          "evalue": "ignored",
          "traceback": [
            "\u001b[0;31m---------------------------------------------------------------------------\u001b[0m",
            "\u001b[0;31mValueError\u001b[0m                                Traceback (most recent call last)",
            "\u001b[0;32m<ipython-input-16-e2193cf4c050>\u001b[0m in \u001b[0;36m<module>\u001b[0;34m()\u001b[0m\n\u001b[0;32m----> 1\u001b[0;31m \u001b[0ma\u001b[0m\u001b[0;34m,\u001b[0m \u001b[0mb\u001b[0m\u001b[0;34m,\u001b[0m \u001b[0mc\u001b[0m \u001b[0;34m=\u001b[0m \u001b[0melems\u001b[0m\u001b[0;34m\u001b[0m\u001b[0;34m\u001b[0m\u001b[0m\n\u001b[0m",
            "\u001b[0;31mValueError\u001b[0m: too many values to unpack (expected 3)"
          ]
        }
      ]
    },
    {
      "cell_type": "markdown",
      "metadata": {
        "id": "db4bUbCvJlc1",
        "colab_type": "text"
      },
      "source": [
        "Nếu bạn muốn giải nén một danh sách thành các thành phần gồm phần tử đơn và danh sách con, ta có thể làm như sau"
      ]
    },
    {
      "cell_type": "code",
      "metadata": {
        "id": "3ImLyczAJb1O",
        "colab_type": "code",
        "colab": {
          "base_uri": "https://localhost:8080/",
          "height": 68
        },
        "outputId": "5bea5ec6-d506-4798-d002-e3ad7ad38746"
      },
      "source": [
        "a, *new_elems, d = elems\n",
        "print(a)\n",
        "print(new_elems)\n",
        "print(d)"
      ],
      "execution_count": 17,
      "outputs": [
        {
          "output_type": "stream",
          "text": [
            "1\n",
            "[2, 3]\n",
            "4\n"
          ],
          "name": "stdout"
        }
      ]
    },
    {
      "cell_type": "markdown",
      "metadata": {
        "id": "_rvfBWuhJ1U1",
        "colab_type": "text"
      },
      "source": [
        "Ở đây ta dùng dấu * đằng trước tên một biết để nói cho Python biết là ta muốn nhận một danh sách con nằm giữa phần tử đầu (```a```) và phần tử cuối (```d```)"
      ]
    },
    {
      "cell_type": "code",
      "metadata": {
        "id": "_mDlDX6MJ0Pr",
        "colab_type": "code",
        "colab": {}
      },
      "source": [
        ""
      ],
      "execution_count": 0,
      "outputs": []
    }
  ]
}