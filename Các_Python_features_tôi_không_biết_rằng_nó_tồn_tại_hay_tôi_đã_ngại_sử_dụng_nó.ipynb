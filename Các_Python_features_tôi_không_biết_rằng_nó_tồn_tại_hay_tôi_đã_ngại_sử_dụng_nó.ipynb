{
  "nbformat": 4,
  "nbformat_minor": 0,
  "metadata": {
    "colab": {
      "name": "Các Python features tôi không biết rằng nó tồn tại hay tôi đã ngại sử dụng nó.ipynb",
      "provenance": [],
      "collapsed_sections": [],
      "include_colab_link": true
    },
    "kernelspec": {
      "name": "python3",
      "display_name": "Python 3"
    }
  },
  "cells": [
    {
      "cell_type": "markdown",
      "metadata": {
        "id": "view-in-github",
        "colab_type": "text"
      },
      "source": [
        "<a href=\"https://colab.research.google.com/github/vuduclyunitn/learning_python/blob/master/C%C3%A1c_Python_features_t%C3%B4i_kh%C3%B4ng_bi%E1%BA%BFt_r%E1%BA%B1ng_n%C3%B3_t%E1%BB%93n_t%E1%BA%A1i_hay_t%C3%B4i_%C4%91%C3%A3_ng%E1%BA%A1i_s%E1%BB%AD_d%E1%BB%A5ng_n%C3%B3.ipynb\" target=\"_parent\"><img src=\"https://colab.research.google.com/assets/colab-badge.svg\" alt=\"Open In Colab\"/></a>"
      ]
    },
    {
      "cell_type": "code",
      "metadata": {
        "id": "QMgu5ce-AxRO",
        "colab_type": "code",
        "colab": {}
      },
      "source": [
        ""
      ],
      "execution_count": 0,
      "outputs": []
    },
    {
      "cell_type": "markdown",
      "metadata": {
        "id": "xhoa89l6A7qN",
        "colab_type": "text"
      },
      "source": [
        "Dịch từ https://github.com/chiphuyen/python-is-cool"
      ]
    },
    {
      "cell_type": "markdown",
      "metadata": {
        "id": "7cArFPmfBBUL",
        "colab_type": "text"
      },
      "source": [
        "## Lambda, map, filter, reduce\n",
        "\n",
        "Từ khoá lambda được sử dụng để tạo các hàm nội tuyến (inline functions). Hai hàm ```square_fn``` và ```square_ld``` là giống nhau"
      ]
    },
    {
      "cell_type": "code",
      "metadata": {
        "id": "d9OcURF7BfqG",
        "colab_type": "code",
        "colab": {}
      },
      "source": [
        "def square_fn(x):\n",
        "  return x * x\n",
        "\n",
        "square_ld = lambda x : x * x\n",
        "\n",
        "for i in range(10):\n",
        "  assert square_fn(i) == square_ld(i)"
      ],
      "execution_count": 0,
      "outputs": []
    },
    {
      "cell_type": "markdown",
      "metadata": {
        "id": "aeuRalXnBs_p",
        "colab_type": "text"
      },
      "source": [
        "Do các hàm ```lambda``` sử dụng các khai báo nhanh gọn, nó thích hợp cho các Gọi lại (callbacks), và khi ta muốn truyền các hàm như là các tham số cho các hàm khác. Các hàm ```lambda``` còn hữu dụng khi được sử dụng chung với các hàm như ```map```, ```filter```, và ```reduce```.\n",
        "\n",
        "```map(fn, iterable)``` áp dụng hàm ```fn``` lên tất cả các phần tử của ```iterable``` (như là danh sách, set, từ điển, tuple, string) và trả về một đối tượng map. "
      ]
    },
    {
      "cell_type": "code",
      "metadata": {
        "id": "T1zh9J4tBorW",
        "colab_type": "code",
        "colab": {
          "base_uri": "https://localhost:8080/",
          "height": 54
        },
        "outputId": "fd9877e7-f6db-449e-a1a2-510ae4102f33"
      },
      "source": [
        "nums = [1/3, 333/7, 2323/2230, 40/34, 2/3]\n",
        "nums_squared = [num * num for num in nums]\n",
        "print(nums_squared)"
      ],
      "execution_count": 2,
      "outputs": [
        {
          "output_type": "stream",
          "text": [
            "[0.1111111111111111, 2263.0408163265306, 1.0851472983570953, 1.384083044982699, 0.4444444444444444]\n"
          ],
          "name": "stdout"
        }
      ]
    },
    {
      "cell_type": "markdown",
      "metadata": {
        "id": "jT0oSjaTC8LY",
        "colab_type": "text"
      },
      "source": [
        "Đoạn mã trên giống với việc gọi ```map``` với một hàm callback"
      ]
    },
    {
      "cell_type": "code",
      "metadata": {
        "id": "mN2tN4nUC296",
        "colab_type": "code",
        "colab": {
          "base_uri": "https://localhost:8080/",
          "height": 54
        },
        "outputId": "d4cf242e-1abf-420d-a851-9727548d7f59"
      },
      "source": [
        "nums_squared_1 = map(square_fn, nums)\n",
        "print(list(nums_squared_1))"
      ],
      "execution_count": 3,
      "outputs": [
        {
          "output_type": "stream",
          "text": [
            "[0.1111111111111111, 2263.0408163265306, 1.0851472983570953, 1.384083044982699, 0.4444444444444444]\n"
          ],
          "name": "stdout"
        }
      ]
    },
    {
      "cell_type": "code",
      "metadata": {
        "id": "VzNopeg2DK1w",
        "colab_type": "code",
        "colab": {
          "base_uri": "https://localhost:8080/",
          "height": 54
        },
        "outputId": "4df1d66e-a4ec-4ac8-fd7f-0e6344b4ead8"
      },
      "source": [
        "nums_squared_2 = map(lambda x: x * x, nums)\n",
        "print(list(nums_squared_2))"
      ],
      "execution_count": 4,
      "outputs": [
        {
          "output_type": "stream",
          "text": [
            "[0.1111111111111111, 2263.0408163265306, 1.0851472983570953, 1.384083044982699, 0.4444444444444444]\n"
          ],
          "name": "stdout"
        }
      ]
    },
    {
      "cell_type": "markdown",
      "metadata": {
        "id": "g3eSPa1NDdPH",
        "colab_type": "text"
      },
      "source": [
        "Bạn cung có thể sử dụng ```map``` với nhiều hơn một iterable. Ví dụ, nếu bạn muốn tính lỗi bình phương trung bình (mean squared error) của một hàm tuyến tính ```f(x) = ax + b``` với một danh sách nhãn ```labels```, hai phương thức được liệt kê dưới đây là tương đương"
      ]
    },
    {
      "cell_type": "code",
      "metadata": {
        "id": "FQ9m9pNvDJQq",
        "colab_type": "code",
        "colab": {
          "base_uri": "https://localhost:8080/",
          "height": 88
        },
        "outputId": "ca9f6681-aa88-413c-b008-9e583f95c84b"
      },
      "source": [
        "a, b = 3, -0.5\n",
        "xs = [2, 3, 4, 5]\n",
        "labels = [6.4, 8.9, 10.9, 15.3]\n",
        "\n",
        "# Phuơng thức thứ nhất: sử dụng một vòng lặp\n",
        "errors = []\n",
        "for i, x in enumerate(xs):\n",
        "  errors.append((a * x + b - labels[i]) ** 2)\n",
        "result1 = sum(errors) ** 0.5 / len(xs)\n",
        "\n",
        "# Phương thức thứ hai: sử dụng map \n",
        "diffs = map(lambda x, y: (a * x +  -y) ** 2, xs, labels)\n",
        "print(\"diffs before:\", list(diffs))\n",
        "result2 = sum(diffs) ** 0.5 / len(xs)\n",
        "print(result1, result2)\n",
        "print(\"diffs after:\", list(diffs))"
      ],
      "execution_count": 21,
      "outputs": [
        {
          "output_type": "stream",
          "text": [
            "diffs before: [0.16000000000000028, 0.009999999999999929, 1.2099999999999993, 0.09000000000000043]\n",
            "0.35089172119045514 0.0\n",
            "diffs after: []\n"
          ],
          "name": "stdout"
        }
      ]
    },
    {
      "cell_type": "markdown",
      "metadata": {
        "id": "2aVvSDssFyd1",
        "colab_type": "text"
      },
      "source": [
        "```diffs = map(lambda x, y: (a * x +  -y) ** 2, xs, labels)```. Hàm ```map``` nhận vào hai tham số x, y lần lượt nhận từng giá trị trong các danh sách ```xs``` là ```labels``` theo thứ tự tương ứng. Các đối tượng trả về bởi ```map``` và ```filter``` là các iterators, nghĩa là các giá trị của chúng không được lưu vào một biến, mà được sinh ra khi cần thiết. Sau khi bạn gọi hàm ```sum(diffs)```, ```diffs``` trở thành empty. Nếu bạn muốn giữ lại tất cả các phần tử trong ```diffs```, chuyển nó sang một danh sách sử dụng ```list(diffs)```.\n"
      ]
    },
    {
      "cell_type": "code",
      "metadata": {
        "id": "SGRw-GPoErR0",
        "colab_type": "code",
        "colab": {}
      },
      "source": [
        "a = [1, 2, 3]\n",
        "b = [4, 5, 6]\n",
        "diffs = map(lambda x, y: (x + y), a, b)"
      ],
      "execution_count": 0,
      "outputs": []
    },
    {
      "cell_type": "code",
      "metadata": {
        "id": "GdyASJXnE2bo",
        "colab_type": "code",
        "colab": {
          "base_uri": "https://localhost:8080/",
          "height": 34
        },
        "outputId": "10cc68c8-c4c3-41b5-86c7-5c90e859ef43"
      },
      "source": [
        "diffs"
      ],
      "execution_count": 13,
      "outputs": [
        {
          "output_type": "execute_result",
          "data": {
            "text/plain": [
              "<map at 0x7fa99467c9e8>"
            ]
          },
          "metadata": {
            "tags": []
          },
          "execution_count": 13
        }
      ]
    },
    {
      "cell_type": "code",
      "metadata": {
        "id": "BamEu5hPFm9X",
        "colab_type": "code",
        "colab": {
          "base_uri": "https://localhost:8080/",
          "height": 34
        },
        "outputId": "597fbd92-f203-4933-e3b6-ffafe6106dad"
      },
      "source": [
        "list(diffs)"
      ],
      "execution_count": 14,
      "outputs": [
        {
          "output_type": "execute_result",
          "data": {
            "text/plain": [
              "[5, 7, 9]"
            ]
          },
          "metadata": {
            "tags": []
          },
          "execution_count": 14
        }
      ]
    },
    {
      "cell_type": "code",
      "metadata": {
        "id": "C8Zwu4lEFqND",
        "colab_type": "code",
        "colab": {}
      },
      "source": [
        ""
      ],
      "execution_count": 0,
      "outputs": []
    }
  ]
}