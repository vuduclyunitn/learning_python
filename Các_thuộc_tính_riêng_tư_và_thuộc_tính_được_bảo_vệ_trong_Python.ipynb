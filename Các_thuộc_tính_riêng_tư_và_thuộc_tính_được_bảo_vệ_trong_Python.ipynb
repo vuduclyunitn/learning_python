{
  "nbformat": 4,
  "nbformat_minor": 0,
  "metadata": {
    "colab": {
      "name": "Các thuộc tính riêng tư và thuộc tính được bảo vệ trong Python.ipynb",
      "version": "0.3.2",
      "provenance": [],
      "include_colab_link": true
    },
    "kernelspec": {
      "name": "python3",
      "display_name": "Python 3"
    }
  },
  "cells": [
    {
      "cell_type": "markdown",
      "metadata": {
        "id": "view-in-github",
        "colab_type": "text"
      },
      "source": [
        "<a href=\"https://colab.research.google.com/github/vuduclyunitn/learning_python/blob/master/C%C3%A1c_thu%E1%BB%99c_t%C3%ADnh_ri%C3%AAng_t%C6%B0_v%C3%A0_thu%E1%BB%99c_t%C3%ADnh_%C4%91%C6%B0%E1%BB%A3c_b%E1%BA%A3o_v%E1%BB%87_trong_Python.ipynb\" target=\"_parent\"><img src=\"https://colab.research.google.com/assets/colab-badge.svg\" alt=\"Open In Colab\"/></a>"
      ]
    },
    {
      "cell_type": "markdown",
      "metadata": {
        "id": "R7GONfIe7C-8",
        "colab_type": "text"
      },
      "source": [
        "# Dịch và bổ sung từ sách Fluent Python"
      ]
    },
    {
      "cell_type": "markdown",
      "metadata": {
        "id": "9psFffUY6ktQ",
        "colab_type": "text"
      },
      "source": [
        "Trong Python không có cách nào tạo ra các biến riêng tư theo cái nghĩa như các biến riêng tư trong Java. Ở Python ta có một một cơ chế đơn giản để ngăn cách hành động ghi đè lên một biến riêng tư trong một lớp con. \n",
        "\n",
        "Hãy xét trường hợp sau: người A viết một lớp tên là ```Dog```, lớp này có một thuộc tính của hiện thực (instance method) tên là ```mood``` và được sử dụng nội bộ, không bày ra bên ngoài. Bạn cần tạo một lớp con của ```Dog``` tên là ```Beagle```, và cũng tạo một thuộc tính là ```mood```. Ở đây bạn không biết là thuộc tính ```mood``` đã tồn tại ở ```Dog```. Điều này sẽ làm cho việc debug trở nên khó khăn. \n",
        "\n",
        "Để ngăn điều này, bạn đặt tên thuộc tính theo dạng có hai dấu gạch chân ở trước ```__``` và có thể không có hay một dấu gạch chân ở phía sau tên biến, Python lưu tên biến này trong ```_dict__``` của hiện thực với một dấu gạch chân ở trước, nối sau bởi tên lớp và tên thuộc tính. Vì vậy trong lớp ```Dog```, ```_mood``` trở thành ```_Dog__mood```, và trong ```Beagle``` ```_mood``` trở thành ```_Beagle_mood```. Tính năng này gọi là *xáo trộn tên*"
      ]
    },
    {
      "cell_type": "code",
      "metadata": {
        "id": "5bTJnKvM9jro",
        "colab_type": "code",
        "colab": {}
      },
      "source": [
        "class Dog:\n",
        "  def __init__(self):\n",
        "    self.__mood = \"Dog\" "
      ],
      "execution_count": 0,
      "outputs": []
    },
    {
      "cell_type": "code",
      "metadata": {
        "id": "H-hoWEUs_KXB",
        "colab_type": "code",
        "colab": {}
      },
      "source": [
        "d = Dog()"
      ],
      "execution_count": 0,
      "outputs": []
    },
    {
      "cell_type": "code",
      "metadata": {
        "id": "93FHVAUU_Q89",
        "colab_type": "code",
        "outputId": "725e05a1-376b-49ae-9f74-f699059b7d2f",
        "colab": {
          "base_uri": "https://localhost:8080/",
          "height": 470
        }
      },
      "source": [
        "dir(d)"
      ],
      "execution_count": 3,
      "outputs": [
        {
          "output_type": "execute_result",
          "data": {
            "text/plain": [
              "['_Dog__mood',\n",
              " '__class__',\n",
              " '__delattr__',\n",
              " '__dict__',\n",
              " '__dir__',\n",
              " '__doc__',\n",
              " '__eq__',\n",
              " '__format__',\n",
              " '__ge__',\n",
              " '__getattribute__',\n",
              " '__gt__',\n",
              " '__hash__',\n",
              " '__init__',\n",
              " '__init_subclass__',\n",
              " '__le__',\n",
              " '__lt__',\n",
              " '__module__',\n",
              " '__ne__',\n",
              " '__new__',\n",
              " '__reduce__',\n",
              " '__reduce_ex__',\n",
              " '__repr__',\n",
              " '__setattr__',\n",
              " '__sizeof__',\n",
              " '__str__',\n",
              " '__subclasshook__',\n",
              " '__weakref__']"
            ]
          },
          "metadata": {
            "tags": []
          },
          "execution_count": 3
        }
      ]
    },
    {
      "cell_type": "code",
      "metadata": {
        "id": "OSsVknkQABnQ",
        "colab_type": "code",
        "outputId": "4c486429-c514-4ece-dbb4-2e984e878c6d",
        "colab": {
          "base_uri": "https://localhost:8080/",
          "height": 34
        }
      },
      "source": [
        "d._Dog__mood"
      ],
      "execution_count": 4,
      "outputs": [
        {
          "output_type": "execute_result",
          "data": {
            "text/plain": [
              "'Dog'"
            ]
          },
          "metadata": {
            "tags": []
          },
          "execution_count": 4
        }
      ]
    },
    {
      "cell_type": "code",
      "metadata": {
        "id": "kyMGtMUh90D6",
        "colab_type": "code",
        "colab": {}
      },
      "source": [
        "class Beagle(Dog):\n",
        "  def __init__(self):\n",
        "    self.__mood = \"Beagle\""
      ],
      "execution_count": 0,
      "outputs": []
    },
    {
      "cell_type": "code",
      "metadata": {
        "id": "Uj32Ixw295ah",
        "colab_type": "code",
        "colab": {}
      },
      "source": [
        "beagle = Beagle()"
      ],
      "execution_count": 0,
      "outputs": []
    },
    {
      "cell_type": "code",
      "metadata": {
        "id": "keYR3I7y-DHJ",
        "colab_type": "code",
        "outputId": "ad808c46-1ff6-4dcf-a7a9-26c870b13127",
        "colab": {
          "base_uri": "https://localhost:8080/",
          "height": 470
        }
      },
      "source": [
        "dir(beagle)"
      ],
      "execution_count": 10,
      "outputs": [
        {
          "output_type": "execute_result",
          "data": {
            "text/plain": [
              "['_Beagle__mood',\n",
              " '__class__',\n",
              " '__delattr__',\n",
              " '__dict__',\n",
              " '__dir__',\n",
              " '__doc__',\n",
              " '__eq__',\n",
              " '__format__',\n",
              " '__ge__',\n",
              " '__getattribute__',\n",
              " '__gt__',\n",
              " '__hash__',\n",
              " '__init__',\n",
              " '__init_subclass__',\n",
              " '__le__',\n",
              " '__lt__',\n",
              " '__module__',\n",
              " '__ne__',\n",
              " '__new__',\n",
              " '__reduce__',\n",
              " '__reduce_ex__',\n",
              " '__repr__',\n",
              " '__setattr__',\n",
              " '__sizeof__',\n",
              " '__str__',\n",
              " '__subclasshook__',\n",
              " '__weakref__']"
            ]
          },
          "metadata": {
            "tags": []
          },
          "execution_count": 10
        }
      ]
    },
    {
      "cell_type": "code",
      "metadata": {
        "id": "RaJzLzNs-UEU",
        "colab_type": "code",
        "colab": {
          "base_uri": "https://localhost:8080/",
          "height": 34
        },
        "outputId": "f7364380-9861-495e-8488-c34989c27863"
      },
      "source": [
        "beagle._Beagle__mood"
      ],
      "execution_count": 11,
      "outputs": [
        {
          "output_type": "execute_result",
          "data": {
            "text/plain": [
              "'Beagle'"
            ]
          },
          "metadata": {
            "tags": []
          },
          "execution_count": 11
        }
      ]
    },
    {
      "cell_type": "markdown",
      "metadata": {
        "id": "mcVhGO7lBEUO",
        "colab_type": "text"
      },
      "source": [
        "Kĩ thuật xáo trộn tên chỉ nhằm mục đích đảm bảo an toàn, không phải mục đích bảo mật. Nó được thiết kế để ngăn chặn các truy cập mang tính tai nạn chứ nó không ngăn được việc sử dụng thuộc tính một cách độc hại. "
      ]
    },
    {
      "cell_type": "markdown",
      "metadata": {
        "id": "QbfWoOodBl09",
        "colab_type": "text"
      },
      "source": [
        "Bất cứ ai biết được cách các tên biến nội bộ được xáo trộn đều có thể đọc chúng một cách trực tiếp. Ta cũng có thể gán một giá trị cho biến bị xáo trộn, ví dụ:"
      ]
    },
    {
      "cell_type": "code",
      "metadata": {
        "id": "3sZDCYofAvQj",
        "colab_type": "code",
        "colab": {
          "base_uri": "https://localhost:8080/",
          "height": 34
        },
        "outputId": "725c9c23-7ea1-4703-c329-80d77c2e11de"
      },
      "source": [
        "beagle._Beagle__mood = \"Dog\"\n",
        "beagle._Beagle__mood"
      ],
      "execution_count": 12,
      "outputs": [
        {
          "output_type": "execute_result",
          "data": {
            "text/plain": [
              "'Dog'"
            ]
          },
          "metadata": {
            "tags": []
          },
          "execution_count": 12
        }
      ]
    },
    {
      "cell_type": "markdown",
      "metadata": {
        "id": "RA_9xHm2CLwr",
        "colab_type": "text"
      },
      "source": [
        "Việc sử dụng cách xáo trộn tên như trên không được các lập trình viên Python ưu thích, bởi vì nhìn tên biến bị xáo trộn bị nghiêng với 2 dấu gạch chân ví dụ như ```self.__x``` Một số lập trình viên thích chỉ sử dụng một dấu gạch chân ```self._x```.\n",
        "\n",
        "Việc sử dụng một dấu gạch chân đơn ```_``` không có một ý nghĩa đặc biệt nào khi Python diễn dịch chương trình nhưng nó là một quy ước trong cộng đồng lập trình Python, đó là bạn không nên truy cập tới thuộc tính này bên ngoài lớp. Giống như việc ta tôn trọng quy ước sử dụng tất cả các biến với định dạng viêt hoa toàn bộ ```ALL_CAPS``` là các gía trị constants. \n",
        "\n",
        "Việc bảo vệ các biến theo cách này (sử dụng một dấu gạch chân) rất phổ biến trong Python nhưng nó không thường được gọi là các thuộc tính \"được bảo vệ\" (protected) mà thường được gọi là các thuộc tính \"riêng tư\" (private)"
      ]
    },
    {
      "cell_type": "code",
      "metadata": {
        "id": "oeEZcPp3B7oE",
        "colab_type": "code",
        "colab": {}
      },
      "source": [
        ""
      ],
      "execution_count": 0,
      "outputs": []
    }
  ]
}