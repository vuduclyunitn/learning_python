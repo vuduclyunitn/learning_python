{
  "nbformat": 4,
  "nbformat_minor": 0,
  "metadata": {
    "colab": {
      "name": "Các thuộc tính riêng tư và thuộc tính được bảo vệ trong Python.ipynb",
      "version": "0.3.2",
      "provenance": [],
      "include_colab_link": true
    },
    "kernelspec": {
      "name": "python3",
      "display_name": "Python 3"
    }
  },
  "cells": [
    {
      "cell_type": "markdown",
      "metadata": {
        "id": "view-in-github",
        "colab_type": "text"
      },
      "source": [
        "<a href=\"https://colab.research.google.com/github/vuduclyunitn/learning_python/blob/master/C%C3%A1c_thu%E1%BB%99c_t%C3%ADnh_ri%C3%AAng_t%C6%B0_v%C3%A0_thu%E1%BB%99c_t%C3%ADnh_%C4%91%C6%B0%E1%BB%A3c_b%E1%BA%A3o_v%E1%BB%87_trong_Python.ipynb\" target=\"_parent\"><img src=\"https://colab.research.google.com/assets/colab-badge.svg\" alt=\"Open In Colab\"/></a>"
      ]
    },
    {
      "cell_type": "code",
      "metadata": {
        "id": "YTPAZxmM6c9-",
        "colab_type": "code",
        "colab": {}
      },
      "source": [
        ""
      ],
      "execution_count": 0,
      "outputs": []
    },
    {
      "cell_type": "markdown",
      "metadata": {
        "id": "R7GONfIe7C-8",
        "colab_type": "text"
      },
      "source": [
        "# Dịch và bổ sung từ sách Fluent Python"
      ]
    },
    {
      "cell_type": "markdown",
      "metadata": {
        "id": "9psFffUY6ktQ",
        "colab_type": "text"
      },
      "source": [
        "Trong Python không có cách nào tạo ra các biến riêng tư theo cái nghĩa như các biến riêng tư trong Java. Ở Python ta có một một cơ chế đơn giản để ngăn cách hành động ghi đè lên một biến riêng tư trong một lớp con. \n",
        "\n",
        "Hãy xét trường hợp sau: người A viết một lớp tên là ```Dog```, lớp này có một thuộc tính của hiện thực (instance method) tên là ```mood``` và được sử dụng nội bộ, không bày ra bên ngoài. Bạn cần tạo một lớp con của ```Dog``` tên là ```Beagle```, và cũng tạo một thuộc tính là ```mood```. Ở đây bạn không biết là thuộc tính ```mood``` đã tồn tại ở ```Dog```. Điều này sẽ làm cho việc debug trở nên khó khăn. \n",
        "\n",
        "Để ngăn điều này, bạn đặt tên thuộc tính theo dạng có hai dấu gạch chân ở trước ```__``` và có thể không có hay một dấu gạch chân ở phía sau tên biến, Python lưu tên biến này trong ```_dict__``` của hiện thực với một dấu gạch chân ở trước, nối sau bởi tên lớp và tên thuộc tính. Vì vậy trong lớp ```Dog```, ```_mood``` trở thành ```_Dog__mood```, và trong ```Beagle``` ```_mood``` trở thành ```_Beagle_mood```. Tính năng này gọi là *xáo trộn tên*"
      ]
    },
    {
      "cell_type": "code",
      "metadata": {
        "id": "5bTJnKvM9jro",
        "colab_type": "code",
        "colab": {}
      },
      "source": [
        "class Dog:\n",
        "  def __init__(self):\n",
        "    self.__mood = \"Dog\" "
      ],
      "execution_count": 0,
      "outputs": []
    },
    {
      "cell_type": "code",
      "metadata": {
        "id": "H-hoWEUs_KXB",
        "colab_type": "code",
        "colab": {}
      },
      "source": [
        "d = Dog()"
      ],
      "execution_count": 0,
      "outputs": []
    },
    {
      "cell_type": "code",
      "metadata": {
        "id": "93FHVAUU_Q89",
        "colab_type": "code",
        "colab": {
          "base_uri": "https://localhost:8080/",
          "height": 470
        },
        "outputId": "72e956fc-3a03-4fd6-ac23-da2acd97841e"
      },
      "source": [
        "dir(d)"
      ],
      "execution_count": 22,
      "outputs": [
        {
          "output_type": "execute_result",
          "data": {
            "text/plain": [
              "['_Dog__mood',\n",
              " '__class__',\n",
              " '__delattr__',\n",
              " '__dict__',\n",
              " '__dir__',\n",
              " '__doc__',\n",
              " '__eq__',\n",
              " '__format__',\n",
              " '__ge__',\n",
              " '__getattribute__',\n",
              " '__gt__',\n",
              " '__hash__',\n",
              " '__init__',\n",
              " '__init_subclass__',\n",
              " '__le__',\n",
              " '__lt__',\n",
              " '__module__',\n",
              " '__ne__',\n",
              " '__new__',\n",
              " '__reduce__',\n",
              " '__reduce_ex__',\n",
              " '__repr__',\n",
              " '__setattr__',\n",
              " '__sizeof__',\n",
              " '__str__',\n",
              " '__subclasshook__',\n",
              " '__weakref__']"
            ]
          },
          "metadata": {
            "tags": []
          },
          "execution_count": 22
        }
      ]
    },
    {
      "cell_type": "code",
      "metadata": {
        "id": "OSsVknkQABnQ",
        "colab_type": "code",
        "colab": {
          "base_uri": "https://localhost:8080/",
          "height": 34
        },
        "outputId": "a266b5e4-d609-4f48-d4ee-1090ac3b4505"
      },
      "source": [
        "d._Dog__mood"
      ],
      "execution_count": 24,
      "outputs": [
        {
          "output_type": "execute_result",
          "data": {
            "text/plain": [
              "'Dog'"
            ]
          },
          "metadata": {
            "tags": []
          },
          "execution_count": 24
        }
      ]
    },
    {
      "cell_type": "code",
      "metadata": {
        "id": "kyMGtMUh90D6",
        "colab_type": "code",
        "colab": {}
      },
      "source": [
        "class Beagle(Dog):\n",
        "  def __init__(self):\n",
        "    self._mood = \"Beagle\""
      ],
      "execution_count": 0,
      "outputs": []
    },
    {
      "cell_type": "code",
      "metadata": {
        "id": "Uj32Ixw295ah",
        "colab_type": "code",
        "colab": {
          "base_uri": "https://localhost:8080/",
          "height": 470
        },
        "outputId": "1d9f8572-151a-454d-dbbf-0698c8494c30"
      },
      "source": [
        "beagle = Be"
      ],
      "execution_count": 13,
      "outputs": [
        {
          "output_type": "execute_result",
          "data": {
            "text/plain": [
              "['__class__',\n",
              " '__delattr__',\n",
              " '__dict__',\n",
              " '__dir__',\n",
              " '__doc__',\n",
              " '__eq__',\n",
              " '__format__',\n",
              " '__ge__',\n",
              " '__getattribute__',\n",
              " '__gt__',\n",
              " '__hash__',\n",
              " '__init__',\n",
              " '__init_subclass__',\n",
              " '__le__',\n",
              " '__lt__',\n",
              " '__module__',\n",
              " '__ne__',\n",
              " '__new__',\n",
              " '__reduce__',\n",
              " '__reduce_ex__',\n",
              " '__repr__',\n",
              " '__setattr__',\n",
              " '__sizeof__',\n",
              " '__str__',\n",
              " '__subclasshook__',\n",
              " '__weakref__',\n",
              " '_mood']"
            ]
          },
          "metadata": {
            "tags": []
          },
          "execution_count": 13
        }
      ]
    },
    {
      "cell_type": "code",
      "metadata": {
        "id": "keYR3I7y-DHJ",
        "colab_type": "code",
        "colab": {
          "base_uri": "https://localhost:8080/",
          "height": 470
        },
        "outputId": "b17f618e-34ff-4271-8f42-db78a45a00f4"
      },
      "source": [
        "dir(Dog)"
      ],
      "execution_count": 10,
      "outputs": [
        {
          "output_type": "execute_result",
          "data": {
            "text/plain": [
              "['__class__',\n",
              " '__delattr__',\n",
              " '__dict__',\n",
              " '__dir__',\n",
              " '__doc__',\n",
              " '__eq__',\n",
              " '__format__',\n",
              " '__ge__',\n",
              " '__getattribute__',\n",
              " '__gt__',\n",
              " '__hash__',\n",
              " '__ini__',\n",
              " '__init__',\n",
              " '__init_subclass__',\n",
              " '__le__',\n",
              " '__lt__',\n",
              " '__module__',\n",
              " '__ne__',\n",
              " '__new__',\n",
              " '__reduce__',\n",
              " '__reduce_ex__',\n",
              " '__repr__',\n",
              " '__setattr__',\n",
              " '__sizeof__',\n",
              " '__str__',\n",
              " '__subclasshook__',\n",
              " '__weakref__']"
            ]
          },
          "metadata": {
            "tags": []
          },
          "execution_count": 10
        }
      ]
    },
    {
      "cell_type": "code",
      "metadata": {
        "id": "RaJzLzNs-UEU",
        "colab_type": "code",
        "colab": {}
      },
      "source": [
        ""
      ],
      "execution_count": 0,
      "outputs": []
    }
  ]
}