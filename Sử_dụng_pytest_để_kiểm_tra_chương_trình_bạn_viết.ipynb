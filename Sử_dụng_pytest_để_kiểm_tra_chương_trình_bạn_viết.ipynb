{
  "nbformat": 4,
  "nbformat_minor": 0,
  "metadata": {
    "colab": {
      "name": "Sử dụng pytest để kiểm tra chương trình bạn viết",
      "version": "0.3.2",
      "provenance": [],
      "toc_visible": true,
      "include_colab_link": true
    },
    "kernelspec": {
      "name": "python3",
      "display_name": "Python 3"
    }
  },
  "cells": [
    {
      "cell_type": "markdown",
      "metadata": {
        "id": "view-in-github",
        "colab_type": "text"
      },
      "source": [
        "<a href=\"https://colab.research.google.com/github/vuduclyunitn/learning_python/blob/master/S%E1%BB%AD_d%E1%BB%A5ng_pytest_%C4%91%E1%BB%83_ki%E1%BB%83m_tra_ch%C6%B0%C6%A1ng_tr%C3%ACnh_b%E1%BA%A1n_vi%E1%BA%BFt.ipynb\" target=\"_parent\"><img src=\"https://colab.research.google.com/assets/colab-badge.svg\" alt=\"Open In Colab\"/></a>"
      ]
    },
    {
      "cell_type": "markdown",
      "metadata": {
        "id": "RZ4Wb7iIrCmJ",
        "colab_type": "text"
      },
      "source": [
        "# Dịch và bổ sung từ https://docs.pytest.org/en/latest/contents.html"
      ]
    },
    {
      "cell_type": "markdown",
      "metadata": {
        "id": "8pszI4R1rQCZ",
        "colab_type": "text"
      },
      "source": [
        "pytest là một framework cho phép xây dựng các tests đơn giản và có thể mở rộng. Các tests tự thân có tính biểu diễn và có thể hiểu được, không có đoạn code boilerplate nghĩa là đoạn code được chèn ở nhiều nơi mà không thay đổi gì mấy. Bạn có thể sử dụng pytest để test ứng dụng và thư viện của bạn."
      ]
    },
    {
      "cell_type": "markdown",
      "metadata": {
        "id": "OCjkwTpVsPfL",
        "colab_type": "text"
      },
      "source": [
        "## Cài đặt pytest\n"
      ]
    },
    {
      "cell_type": "markdown",
      "metadata": {
        "id": "9mMdnzrWsr0s",
        "colab_type": "text"
      },
      "source": [
        "1. Sử dụng pip để cài đặt pytest"
      ]
    },
    {
      "cell_type": "code",
      "metadata": {
        "id": "7l-eXG_yrN4M",
        "colab_type": "code",
        "colab": {
          "base_uri": "https://localhost:8080/",
          "height": 446
        },
        "outputId": "f75bfc80-a68e-4bb0-d709-12eb9ed31283"
      },
      "source": [
        "!pip install -U pytest"
      ],
      "execution_count": 1,
      "outputs": [
        {
          "output_type": "stream",
          "text": [
            "Collecting pytest\n",
            "\u001b[?25l  Downloading https://files.pythonhosted.org/packages/69/1d/2430053122a3c6106f7fd1ff0bc68eb73e27db8f951db70fcd942da52c7b/pytest-5.0.1-py3-none-any.whl (221kB)\n",
            "\u001b[K     |████████████████████████████████| 225kB 4.8MB/s \n",
            "\u001b[?25hRequirement already satisfied, skipping upgrade: py>=1.5.0 in /usr/local/lib/python3.6/dist-packages (from pytest) (1.8.0)\n",
            "Requirement already satisfied, skipping upgrade: importlib-metadata>=0.12 in /usr/local/lib/python3.6/dist-packages (from pytest) (0.18)\n",
            "Requirement already satisfied, skipping upgrade: attrs>=17.4.0 in /usr/local/lib/python3.6/dist-packages (from pytest) (19.1.0)\n",
            "Requirement already satisfied, skipping upgrade: packaging in /usr/local/lib/python3.6/dist-packages (from pytest) (19.0)\n",
            "Requirement already satisfied, skipping upgrade: more-itertools>=4.0.0 in /usr/local/lib/python3.6/dist-packages (from pytest) (7.1.0)\n",
            "Requirement already satisfied, skipping upgrade: atomicwrites>=1.0 in /usr/local/lib/python3.6/dist-packages (from pytest) (1.3.0)\n",
            "Collecting pluggy<1.0,>=0.12 (from pytest)\n",
            "  Downloading https://files.pythonhosted.org/packages/06/ee/de89e0582276e3551df3110088bf20844de2b0e7df2748406876cc78e021/pluggy-0.12.0-py2.py3-none-any.whl\n",
            "Requirement already satisfied, skipping upgrade: wcwidth in /usr/local/lib/python3.6/dist-packages (from pytest) (0.1.7)\n",
            "Requirement already satisfied, skipping upgrade: zipp>=0.5 in /usr/local/lib/python3.6/dist-packages (from importlib-metadata>=0.12->pytest) (0.5.2)\n",
            "Requirement already satisfied, skipping upgrade: six in /usr/local/lib/python3.6/dist-packages (from packaging->pytest) (1.12.0)\n",
            "Requirement already satisfied, skipping upgrade: pyparsing>=2.0.2 in /usr/local/lib/python3.6/dist-packages (from packaging->pytest) (2.4.0)\n",
            "\u001b[31mERROR: datascience 0.10.6 has requirement folium==0.2.1, but you'll have folium 0.8.3 which is incompatible.\u001b[0m\n",
            "Installing collected packages: pluggy, pytest\n",
            "  Found existing installation: pluggy 0.7.1\n",
            "    Uninstalling pluggy-0.7.1:\n",
            "      Successfully uninstalled pluggy-0.7.1\n",
            "  Found existing installation: pytest 3.6.4\n",
            "    Uninstalling pytest-3.6.4:\n",
            "      Successfully uninstalled pytest-3.6.4\n",
            "Successfully installed pluggy-0.12.0 pytest-5.0.1\n"
          ],
          "name": "stdout"
        }
      ]
    },
    {
      "cell_type": "markdown",
      "metadata": {
        "id": "1RNuqgkGsxbd",
        "colab_type": "text"
      },
      "source": [
        "2. Kiểm tra xem bạn có cài đúng phiên bản pytest hay không"
      ]
    },
    {
      "cell_type": "code",
      "metadata": {
        "id": "8A8iQgmRs2wh",
        "colab_type": "code",
        "colab": {
          "base_uri": "https://localhost:8080/",
          "height": 35
        },
        "outputId": "3af63902-2afb-4e57-ca5b-7efeec2940bb"
      },
      "source": [
        "!pytest --version"
      ],
      "execution_count": 2,
      "outputs": [
        {
          "output_type": "stream",
          "text": [
            "This is pytest version 5.0.1, imported from /usr/local/lib/python3.6/dist-packages/pytest.py\n"
          ],
          "name": "stdout"
        }
      ]
    },
    {
      "cell_type": "markdown",
      "metadata": {
        "id": "V3YqL5PYs-qd",
        "colab_type": "text"
      },
      "source": [
        "## Tạo test đầu tiên của bạn\n",
        "Tạo một chương trình đơn giản với chỉ 4 dòng code. Ở đây bạn cần tạo một file đặt tên nó là \"test_sample.py\" sau đó đặt nó vào thư mục \"/content/sample_data/\" \n",
        "\n",
        "\n",
        "\n"
      ]
    },
    {
      "cell_type": "code",
      "metadata": {
        "id": "qg9_ItcbyvT5",
        "colab_type": "code",
        "colab": {}
      },
      "source": [
        "# content of test_sample.py\n",
        "def func(x):\n",
        "    return x + 1\n",
        "\n",
        "def test_answer():\n",
        "    assert func(3) == 5"
      ],
      "execution_count": 0,
      "outputs": []
    },
    {
      "cell_type": "code",
      "metadata": {
        "id": "ZYj2rzQWs5DE",
        "colab_type": "code",
        "colab": {
          "base_uri": "https://localhost:8080/",
          "height": 321
        },
        "outputId": "04713d3b-2de9-40bf-ef52-7d7a7be783ee"
      },
      "source": [
        "!pytest /content/sample_data/test_sample.py"
      ],
      "execution_count": 7,
      "outputs": [
        {
          "output_type": "stream",
          "text": [
            "\u001b[1m============================= test session starts ==============================\u001b[0m\n",
            "platform linux -- Python 3.6.8, pytest-5.0.1, py-1.8.0, pluggy-0.12.0\n",
            "rootdir: /content\n",
            "\u001b[1mcollecting ... \u001b[0m\u001b[1m\rcollected 1 item                                                               \u001b[0m\n",
            "\n",
            "sample_data/test_sample.py \u001b[31mF\u001b[0m\u001b[36m                                             [100%]\u001b[0m\n",
            "\n",
            "=================================== FAILURES ===================================\n",
            "\u001b[31m\u001b[1m_________________________________ test_answer __________________________________\u001b[0m\n",
            "\n",
            "\u001b[1m    def test_answer():\u001b[0m\n",
            "\u001b[1m>       assert func(3) == 5\u001b[0m\n",
            "\u001b[1m\u001b[31mE       assert 4 == 5\u001b[0m\n",
            "\u001b[1m\u001b[31mE        +  where 4 = func(3)\u001b[0m\n",
            "\n",
            "\u001b[1m\u001b[31msample_data/test_sample.py\u001b[0m:5: AssertionError\n",
            "\u001b[31m\u001b[1m=========================== 1 failed in 0.04 seconds ===========================\u001b[0m\n"
          ],
          "name": "stdout"
        }
      ]
    },
    {
      "cell_type": "markdown",
      "metadata": {
        "id": "I70ChjqmxuGF",
        "colab_type": "text"
      },
      "source": [
        "Kết quả của test trên thất bại nghĩa là chương trình của ta không vượt qua được vòng kiểm tra bởi vì ```func(3)``` không trả về 5."
      ]
    },
    {
      "cell_type": "markdown",
      "metadata": {
        "id": "z73MVHrFzMC4",
        "colab_type": "text"
      },
      "source": [
        "## Chạy nhiều tests đồng thời\n",
        "```pytest``` sẽ chạy tất cả các files với định dạng test_*.py hoặc *_test.py trong thư mục hiện hành và các thư mục con "
      ]
    },
    {
      "cell_type": "markdown",
      "metadata": {
        "id": "_wKFONFuz4sd",
        "colab_type": "text"
      },
      "source": [
        "## Xác nhận rằng một ngoại lệ cụ thể được khởi lên\n",
        "Sử dụng bộ trợ giúp ```raises``` để khẳng định một vài đoạn mã khởi lên một ngoại lệ. Ví dụ, tạo một file với nội dung dưới đây"
      ]
    },
    {
      "cell_type": "code",
      "metadata": {
        "id": "wN4HqlK8tZJJ",
        "colab_type": "code",
        "colab": {}
      },
      "source": [
        "import pytest\n",
        "def f():\n",
        "    raise SystemExit(1)\n",
        "\n",
        "def test_mytest():\n",
        "    with pytest.raises(SystemExit):\n",
        "        f()"
      ],
      "execution_count": 0,
      "outputs": []
    },
    {
      "cell_type": "code",
      "metadata": {
        "id": "2KSgTXxh01CZ",
        "colab_type": "code",
        "colab": {
          "base_uri": "https://localhost:8080/",
          "height": 160
        },
        "outputId": "02a2c7a4-8a6f-4a65-b23d-dc7d82b558b3"
      },
      "source": [
        "!pytest /content/sample_data/test_sysexit.py"
      ],
      "execution_count": 9,
      "outputs": [
        {
          "output_type": "stream",
          "text": [
            "\u001b[1m============================= test session starts ==============================\u001b[0m\n",
            "platform linux -- Python 3.6.8, pytest-5.0.1, py-1.8.0, pluggy-0.12.0\n",
            "rootdir: /content\n",
            "\u001b[1mcollecting ... \u001b[0m\u001b[1m\rcollected 1 item                                                               \u001b[0m\n",
            "\n",
            "sample_data/test_sysexit.py \u001b[32m.\u001b[0m\u001b[36m                                            [100%]\u001b[0m\n",
            "\n",
            "\u001b[32m\u001b[1m=========================== 1 passed in 0.02 seconds ===========================\u001b[0m\n"
          ],
          "name": "stdout"
        }
      ]
    },
    {
      "cell_type": "markdown",
      "metadata": {
        "id": "ZHorUo-j1Ti0",
        "colab_type": "text"
      },
      "source": [
        "Sử dụng tùy chọn \"-q\" nếu bạn muốn in ra kết quả ngắn gọn hơn."
      ]
    },
    {
      "cell_type": "code",
      "metadata": {
        "id": "RVHEddnd1POj",
        "colab_type": "code",
        "colab": {
          "base_uri": "https://localhost:8080/",
          "height": 53
        },
        "outputId": "be9a82f0-e6ef-437c-8a0f-28c0067c8839"
      },
      "source": [
        "!pytest -q /content/sample_data/test_sysexit.py"
      ],
      "execution_count": 10,
      "outputs": [
        {
          "output_type": "stream",
          "text": [
            "\u001b[32m.\u001b[0m\u001b[36m                                                                        [100%]\u001b[0m\n",
            "\u001b[32m\u001b[1m1 passed in 0.01 seconds\u001b[0m\n"
          ],
          "name": "stdout"
        }
      ]
    },
    {
      "cell_type": "markdown",
      "metadata": {
        "id": "_uBvOAeS1fii",
        "colab_type": "text"
      },
      "source": [
        "## Nhóm nhiều tests lại với nhau trong cùng một lớp\n",
        "Khi bạn viết được nhiều tests, bạn muốn nhóm nó vào một lớp. Pytest giúp ta làm việc đó dễ dàng bởi cho phép tạo một lớp chứa nhiều test. Ví dụ sau đây:"
      ]
    },
    {
      "cell_type": "code",
      "metadata": {
        "id": "Cf1oI0lo16cw",
        "colab_type": "code",
        "colab": {}
      },
      "source": [
        "# Nội dụng của test_class.py\n",
        "class TestClass(object):\n",
        "  def test_one(self):\n",
        "    x = \"this\"\n",
        "    assert \"h\" in x\n",
        "  def test_two(self):\n",
        "    x = \"hello\"\n",
        "    assert hasattr(x, \"check\")"
      ],
      "execution_count": 0,
      "outputs": []
    },
    {
      "cell_type": "markdown",
      "metadata": {
        "id": "XgqUbwJd2nYy",
        "colab_type": "text"
      },
      "source": [
        "Pytest tìm kiếm tất cả các tests dựa trên các quy tắc ở đây [test-discovery](https://docs.pytest.org/en/latest/goodpractices.html#test-discovery). Vì vậy bạn không cần phải tạo ra các lớp con của bất cứ thứ gì. Bạn chỉ cần đơn giản là chạy module pytest với tên file cần test."
      ]
    },
    {
      "cell_type": "code",
      "metadata": {
        "id": "6Wa__ze31R19",
        "colab_type": "code",
        "colab": {
          "base_uri": "https://localhost:8080/",
          "height": 374
        },
        "outputId": "67a8624f-1003-4e9f-f5ea-25ca826f32b8"
      },
      "source": [
        "!pytest /content/sample_data/test_class.py"
      ],
      "execution_count": 11,
      "outputs": [
        {
          "output_type": "stream",
          "text": [
            "\u001b[1m============================= test session starts ==============================\u001b[0m\n",
            "platform linux -- Python 3.6.8, pytest-5.0.1, py-1.8.0, pluggy-0.12.0\n",
            "rootdir: /content\n",
            "\u001b[1mcollecting ... \u001b[0m\u001b[1m\rcollected 2 items                                                              \u001b[0m\n",
            "\n",
            "sample_data/test_class.py \u001b[32m.\u001b[0m\u001b[31mF\u001b[0m\u001b[36m                                             [100%]\u001b[0m\n",
            "\n",
            "=================================== FAILURES ===================================\n",
            "\u001b[31m\u001b[1m______________________________ TestClass.test_two ______________________________\u001b[0m\n",
            "\n",
            "self = <test_class.TestClass object at 0x7fa377ff77f0>\n",
            "\n",
            "\u001b[1m    def test_two(self):\u001b[0m\n",
            "\u001b[1m      x = \"hello\"\u001b[0m\n",
            "\u001b[1m>     assert hasattr(x, \"check\")\u001b[0m\n",
            "\u001b[1m\u001b[31mE     AssertionError: assert False\u001b[0m\n",
            "\u001b[1m\u001b[31mE      +  where False = hasattr('hello', 'check')\u001b[0m\n",
            "\n",
            "\u001b[1m\u001b[31msample_data/test_class.py\u001b[0m:8: AssertionError\n",
            "\u001b[31m\u001b[1m====================== 1 failed, 1 passed in 0.04 seconds ======================\u001b[0m\n"
          ],
          "name": "stdout"
        }
      ]
    },
    {
      "cell_type": "markdown",
      "metadata": {
        "id": "SsdswKZL3wDH",
        "colab_type": "text"
      },
      "source": [
        "Ở ví dụ trên ta thấy ta vượt qua test đầu tiên nhưng bị thất bại ở test thứ 2. Bạn có thể thấy dễ dàng được các giá trị trả về bởi lệnh ```assert```, ở trong ví dụ này là ```False``` khi ta gọi hàm ```hasattr``` với 2 tham số \"hello\" và \"check\". Điều này giúp ta tìm ra nguyên nhân của lỗi dễ dàng hơn."
      ]
    },
    {
      "cell_type": "markdown",
      "metadata": {
        "id": "693-roKt4YV9",
        "colab_type": "text"
      },
      "source": [
        "## Yêu cầu một thư mục tạm cho các tests về chức năng\n",
        "```pytest``` cung cấp các tham số ở đây [pytest builtin methods](https://docs.pytest.org/en/latest/builtin.html) để giúp cho việc yêu cầu các tài nguyên tùy ý, ví dụ như một thư mục tạm."
      ]
    },
    {
      "cell_type": "code",
      "metadata": {
        "id": "lgKEEhOv4S_o",
        "colab_type": "code",
        "colab": {}
      },
      "source": [
        "# Nội dung của file test_tmpdir.py\n",
        "def test_needsfiles(tmpdir):\n",
        "  print(tmpdir)\n",
        "  assert 0\n",
        "  "
      ],
      "execution_count": 0,
      "outputs": []
    },
    {
      "cell_type": "code",
      "metadata": {
        "id": "lbsEver85k_L",
        "colab_type": "code",
        "colab": {
          "base_uri": "https://localhost:8080/",
          "height": 392
        },
        "outputId": "d0c106eb-8c67-4739-c044-76f9529c56f3"
      },
      "source": [
        "!pytest /content/sample_data/test_tmpdir.py"
      ],
      "execution_count": 12,
      "outputs": [
        {
          "output_type": "stream",
          "text": [
            "\u001b[1m============================= test session starts ==============================\u001b[0m\n",
            "platform linux -- Python 3.6.8, pytest-5.0.1, py-1.8.0, pluggy-0.12.0\n",
            "rootdir: /content\n",
            "\u001b[1mcollecting ... \u001b[0m\u001b[1m\rcollected 1 item                                                               \u001b[0m\n",
            "\n",
            "sample_data/test_tmpdir.py \u001b[31mF\u001b[0m\u001b[36m                                             [100%]\u001b[0m\n",
            "\n",
            "=================================== FAILURES ===================================\n",
            "\u001b[31m\u001b[1m_______________________________ test_needsfiles ________________________________\u001b[0m\n",
            "\n",
            "tmpdir = local('/tmp/pytest-of-root/pytest-0/test_needsfiles0')\n",
            "\n",
            "\u001b[1m    def test_needsfiles(tmpdir):\u001b[0m\n",
            "\u001b[1m      print(tmpdir)\u001b[0m\n",
            "\u001b[1m>     assert 0\u001b[0m\n",
            "\u001b[1m\u001b[31mE     assert 0\u001b[0m\n",
            "\n",
            "\u001b[1m\u001b[31msample_data/test_tmpdir.py\u001b[0m:4: AssertionError\n",
            "----------------------------- Captured stdout call -----------------------------\n",
            "/tmp/pytest-of-root/pytest-0/test_needsfiles0\n",
            "\u001b[31m\u001b[1m=========================== 1 failed in 0.04 seconds ===========================\u001b[0m\n"
          ],
          "name": "stdout"
        }
      ]
    },
    {
      "cell_type": "markdown",
      "metadata": {
        "id": "raI1HMh-53So",
        "colab_type": "text"
      },
      "source": [
        "Pytest liệt kê tên ```tmpdir``` trong chữ kí của hàm test và ```pytest``` sẽ gọi một \"xưởng cố định\"  (fixture factory) để tạo tài nguyên (trong trường hợp này là thư mục tạm) trước khi thực hiện lời gọi hàm test. Trước khi test chạy, pytest tạo một thư mục tạm"
      ]
    },
    {
      "cell_type": "markdown",
      "metadata": {
        "id": "GVct3IVl6xTx",
        "colab_type": "text"
      },
      "source": [
        "Để liệt kê các fixture có sẵn, thực hiện câu lệnh dưới đây:"
      ]
    },
    {
      "cell_type": "code",
      "metadata": {
        "id": "s5yXnnRr66xJ",
        "colab_type": "code",
        "colab": {
          "base_uri": "https://localhost:8080/",
          "height": 1000
        },
        "outputId": "d7de8450-bb72-4782-d66b-908ff4f2d4ed"
      },
      "source": [
        "!pytest --fixtures"
      ],
      "execution_count": 13,
      "outputs": [
        {
          "output_type": "stream",
          "text": [
            "\u001b[1m============================= test session starts ==============================\u001b[0m\n",
            "platform linux -- Python 3.6.8, pytest-5.0.1, py-1.8.0, pluggy-0.12.0\n",
            "rootdir: /content\n",
            "collected 5 items / 1 errors / 4 selected                                      \u001b[0m\n",
            "\u001b[32mcache\u001b[0m\n",
            "    Return a cache object that can persist state between testing sessions.\n",
            "    \n",
            "    cache.get(key, default)\n",
            "    cache.set(key, value)\n",
            "    \n",
            "    Keys must be a ``/`` separated value, where the first part is usually the\n",
            "    name of your plugin or application to avoid clashes with other cache users.\n",
            "    \n",
            "    Values can be any object handled by the json stdlib module.\n",
            "\n",
            "\u001b[32mcapsys\u001b[0m\n",
            "    Enable text capturing of writes to ``sys.stdout`` and ``sys.stderr``.\n",
            "    \n",
            "    The captured output is made available via ``capsys.readouterr()`` method\n",
            "    calls, which return a ``(out, err)`` namedtuple.\n",
            "    ``out`` and ``err`` will be ``text`` objects.\n",
            "\n",
            "\u001b[32mcapsysbinary\u001b[0m\n",
            "    Enable bytes capturing of writes to ``sys.stdout`` and ``sys.stderr``.\n",
            "    \n",
            "    The captured output is made available via ``capsysbinary.readouterr()``\n",
            "    method calls, which return a ``(out, err)`` namedtuple.\n",
            "    ``out`` and ``err`` will be ``bytes`` objects.\n",
            "\n",
            "\u001b[32mcapfd\u001b[0m\n",
            "    Enable text capturing of writes to file descriptors ``1`` and ``2``.\n",
            "    \n",
            "    The captured output is made available via ``capfd.readouterr()`` method\n",
            "    calls, which return a ``(out, err)`` namedtuple.\n",
            "    ``out`` and ``err`` will be ``text`` objects.\n",
            "\n",
            "\u001b[32mcapfdbinary\u001b[0m\n",
            "    Enable bytes capturing of writes to file descriptors ``1`` and ``2``.\n",
            "    \n",
            "    The captured output is made available via ``capfd.readouterr()`` method\n",
            "    calls, which return a ``(out, err)`` namedtuple.\n",
            "    ``out`` and ``err`` will be ``byte`` objects.\n",
            "\n",
            "\u001b[32mdoctest_namespace\u001b[0m\u001b[36m [session scope]\u001b[0m\n",
            "    Fixture that returns a :py:class:`dict` that will be injected into the namespace of doctests.\n",
            "\n",
            "\u001b[32mpytestconfig\u001b[0m\u001b[36m [session scope]\u001b[0m\n",
            "    Session-scoped fixture that returns the :class:`_pytest.config.Config` object.\n",
            "    \n",
            "    Example::\n",
            "    \n",
            "        def test_foo(pytestconfig):\n",
            "            if pytestconfig.getoption(\"verbose\") > 0:\n",
            "                ...\n",
            "\n",
            "\u001b[32mrecord_property\u001b[0m\n",
            "    Add an extra properties the calling test.\n",
            "    User properties become part of the test report and are available to the\n",
            "    configured reporters, like JUnit XML.\n",
            "    The fixture is callable with ``(name, value)``, with value being automatically\n",
            "    xml-encoded.\n",
            "    \n",
            "    Example::\n",
            "    \n",
            "        def test_function(record_property):\n",
            "            record_property(\"example_key\", 1)\n",
            "\n",
            "\u001b[32mrecord_xml_attribute\u001b[0m\n",
            "    Add extra xml attributes to the tag for the calling test.\n",
            "    The fixture is callable with ``(name, value)``, with value being\n",
            "    automatically xml-encoded\n",
            "\n",
            "\u001b[32mrecord_testsuite_property\u001b[0m\u001b[36m [session scope]\u001b[0m\n",
            "    Records a new ``<property>`` tag as child of the root ``<testsuite>``. This is suitable to\n",
            "    writing global information regarding the entire test suite, and is compatible with ``xunit2`` JUnit family.\n",
            "    \n",
            "    This is a ``session``-scoped fixture which is called with ``(name, value)``. Example:\n",
            "    \n",
            "    .. code-block:: python\n",
            "    \n",
            "        def test_foo(record_testsuite_property):\n",
            "            record_testsuite_property(\"ARCH\", \"PPC\")\n",
            "            record_testsuite_property(\"STORAGE_TYPE\", \"CEPH\")\n",
            "    \n",
            "    ``name`` must be a string, ``value`` will be converted to a string and properly xml-escaped.\n",
            "\n",
            "\u001b[32mcaplog\u001b[0m\n",
            "    Access and control log capturing.\n",
            "    \n",
            "    Captured logs are available through the following properties/methods::\n",
            "    \n",
            "    * caplog.text            -> string containing formatted log output\n",
            "    * caplog.records         -> list of logging.LogRecord instances\n",
            "    * caplog.record_tuples   -> list of (logger_name, level, message) tuples\n",
            "    * caplog.clear()         -> clear captured records and formatted log output string\n",
            "\n",
            "\u001b[32mmonkeypatch\u001b[0m\n",
            "    The returned ``monkeypatch`` fixture provides these\n",
            "    helper methods to modify objects, dictionaries or os.environ::\n",
            "    \n",
            "        monkeypatch.setattr(obj, name, value, raising=True)\n",
            "        monkeypatch.delattr(obj, name, raising=True)\n",
            "        monkeypatch.setitem(mapping, name, value)\n",
            "        monkeypatch.delitem(obj, name, raising=True)\n",
            "        monkeypatch.setenv(name, value, prepend=False)\n",
            "        monkeypatch.delenv(name, raising=True)\n",
            "        monkeypatch.syspath_prepend(path)\n",
            "        monkeypatch.chdir(path)\n",
            "    \n",
            "    All modifications will be undone after the requesting\n",
            "    test function or fixture has finished. The ``raising``\n",
            "    parameter determines if a KeyError or AttributeError\n",
            "    will be raised if the set/deletion operation has no target.\n",
            "\n",
            "\u001b[32mrecwarn\u001b[0m\n",
            "    Return a :class:`WarningsRecorder` instance that records all warnings emitted by test functions.\n",
            "    \n",
            "    See http://docs.python.org/library/warnings.html for information\n",
            "    on warning categories.\n",
            "\n",
            "\u001b[32mtmpdir_factory\u001b[0m\u001b[36m [session scope]\u001b[0m\n",
            "    Return a :class:`_pytest.tmpdir.TempdirFactory` instance for the test session.\n",
            "\n",
            "\u001b[32mtmp_path_factory\u001b[0m\u001b[36m [session scope]\u001b[0m\n",
            "    Return a :class:`_pytest.tmpdir.TempPathFactory` instance for the test session.\n",
            "\n",
            "\u001b[32mtmpdir\u001b[0m\n",
            "    Return a temporary directory path object\n",
            "    which is unique to each test function invocation,\n",
            "    created as a sub directory of the base temporary\n",
            "    directory.  The returned object is a `py.path.local`_\n",
            "    path object.\n",
            "    \n",
            "    .. _`py.path.local`: https://py.readthedocs.io/en/latest/path.html\n",
            "\n",
            "\u001b[32mtmp_path\u001b[0m\n",
            "    Return a temporary directory path object\n",
            "    which is unique to each test function invocation,\n",
            "    created as a sub directory of the base temporary\n",
            "    directory.  The returned object is a :class:`pathlib.Path`\n",
            "    object.\n",
            "    \n",
            "    .. note::\n",
            "    \n",
            "        in python < 3.6 this is a pathlib2.Path\n",
            "\n",
            "\n",
            "==================================== ERRORS ====================================\n",
            "\u001b[31m\u001b[1m_________________ ERROR collecting sample_data/test_sample.py __________________\u001b[0m\n",
            "\u001b[31mimport file mismatch:\n",
            "imported module 'test_sample' has this __file__ attribute:\n",
            "  /content/drive/My Drive/learning_python/test_sample.py\n",
            "which is not the same as the test file we want to collect:\n",
            "  /content/sample_data/test_sample.py\n",
            "HINT: remove __pycache__ / .pyc files and/or use a unique basename for your test file modules\u001b[0m\n",
            "\u001b[31m\u001b[1m=========================== 1 error in 0.57 seconds ============================\u001b[0m\n"
          ],
          "name": "stdout"
        }
      ]
    },
    {
      "cell_type": "code",
      "metadata": {
        "id": "mVLUGta46wae",
        "colab_type": "code",
        "colab": {}
      },
      "source": [
        ""
      ],
      "execution_count": 0,
      "outputs": []
    }
  ]
}