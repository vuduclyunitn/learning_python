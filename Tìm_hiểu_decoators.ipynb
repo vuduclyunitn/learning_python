{
  "nbformat": 4,
  "nbformat_minor": 0,
  "metadata": {
    "colab": {
      "name": "Tìm hiểu decoators.ipynb",
      "provenance": [],
      "collapsed_sections": [],
      "include_colab_link": true
    },
    "kernelspec": {
      "name": "python3",
      "display_name": "Python 3"
    }
  },
  "cells": [
    {
      "cell_type": "markdown",
      "metadata": {
        "id": "view-in-github",
        "colab_type": "text"
      },
      "source": [
        "<a href=\"https://colab.research.google.com/github/vuduclyunitn/learning_python/blob/master/T%C3%ACm_hi%E1%BB%83u_decoators.ipynb\" target=\"_parent\"><img src=\"https://colab.research.google.com/assets/colab-badge.svg\" alt=\"Open In Colab\"/></a>"
      ]
    },
    {
      "cell_type": "code",
      "metadata": {
        "id": "EgSCNwzPVPOH",
        "colab_type": "code",
        "colab": {}
      },
      "source": [
        ""
      ],
      "execution_count": 0,
      "outputs": []
    },
    {
      "cell_type": "markdown",
      "metadata": {
        "id": "Vq0dO0P-WVJE",
        "colab_type": "text"
      },
      "source": [
        "# Dịch từ sách Serious Python."
      ]
    },
    {
      "cell_type": "markdown",
      "metadata": {
        "id": "XDgtJJlSVTHB",
        "colab_type": "text"
      },
      "source": [
        "Python decorators là một cách hữu hiệu để thay đổi các hàm (functions). Decorators được giới thiệu lần đầu tiên ở phiên bản Python 2.2, với các decorators đầu tiên  ```classmethod()``` và ```staticmethod()```, sau này các decorators được mở rộng giúp cho chúng trở nên mềm dẻo và dễ đọc. Cùng với hai decorators ban đầu, hiện tại Python cung cấp một vài decorators khác và cho phép ta tạo các decorators tuỳ chỉnh. \n",
        "Tuy nhiên dường như hầu hết các developers không hiểu cách chúng hoạt động thực sự. \n",
        "\n",
        "Bài viết này mong muốn thay đổi điều đó - chúng tôi sẽ trình bài khái niệm decorator và cách sử dụng nó, cũng như là cách tạo các decorators của riêng bạn. Sau đó chúng ta sẽ xem cách sử dụng các decorators để tạo các phương thức tĩnh, lớp và các phương thức trừu tượng và tìm hiểu hàm ```super()```, hàm cho phép ta đặt đoạn mã có thể triển khai được (implementable code) bên trong một phương thức trừu tượng.\n",
        "\n"
      ]
    },
    {
      "cell_type": "markdown",
      "metadata": {
        "id": "jWKgqNV_XJUa",
        "colab_type": "text"
      },
      "source": [
        "## Decorators là gì và khi nào sử dụng chúng\n",
        "\n",
        "Một decorator là một hàm mà nhận một hàm khác như là một tham số và thay thế hàm này với một hàm mới đã được sửa đổi. Ta sử dụng decorator khi muốn bao các đoạn mã phổ biến khi chúng ta gọi chúng trước, sau, và xung quanh nhiều hàm. Nếu bạn đã từng viết mã Emacs Lisp, bạn có thể đã sử dụng decorator ```defadvice``` để cho phép bạn định nghĩa mã được gọi xung quanh một hàm. Nếu bạn đã sử dụng các kết hợp phương thức trong Common Lisp Object System (CLOS) thì Python decorators có các khái niệm tương tự. \n",
        "Chúng ta sẽ xem các định nghĩa đơn giản của decorator, và sau đó chúng ta sẽ phân tích các hoàn cảnh phổ biến ta cần sử dụng chúng"
      ]
    },
    {
      "cell_type": "markdown",
      "metadata": {
        "id": "X-nGzpPtYbwN",
        "colab_type": "text"
      },
      "source": [
        "### Tạo ra các Decorators\n",
        "Khả năng cao là bạn đã sử dụng các decorators để tạo ra các hàm bao của riêng bạn. Decorator đơn giản nhất đó là hàm ```identity```, hàm này không làm gì ngoài việc trả về hàm ban đầu. Dưới đây là định nghĩa của nó"
      ]
    },
    {
      "cell_type": "code",
      "metadata": {
        "id": "EDiBilQlXIzx",
        "colab_type": "code",
        "colab": {}
      },
      "source": [
        "def identity(f):\n",
        "  return f"
      ],
      "execution_count": 0,
      "outputs": []
    },
    {
      "cell_type": "markdown",
      "metadata": {
        "id": "eOgqcrXwZCAQ",
        "colab_type": "text"
      },
      "source": [
        "Bạn có thể sử dụng decorator trên như sau:"
      ]
    },
    {
      "cell_type": "code",
      "metadata": {
        "id": "F6W5GVusXHEd",
        "colab_type": "code",
        "colab": {}
      },
      "source": [
        "@identity\n",
        "def foo():\n",
        "  return 'bar'"
      ],
      "execution_count": 0,
      "outputs": []
    },
    {
      "cell_type": "markdown",
      "metadata": {
        "id": "xeumDfZzZOqN",
        "colab_type": "text"
      },
      "source": [
        "Bạn nhập tên của decorator sau kí tự @ và sau đó viết hàm bạn muốn sử dụng decorator. Cách viết trên giống với đoạn mã sau:"
      ]
    },
    {
      "cell_type": "code",
      "metadata": {
        "id": "to-0pe2XZMLZ",
        "colab_type": "code",
        "colab": {}
      },
      "source": [
        "def foo():\n",
        "  return 'bar'\n",
        "foo = identity(foo)"
      ],
      "execution_count": 0,
      "outputs": []
    },
    {
      "cell_type": "markdown",
      "metadata": {
        "id": "N-A1bdHpZudl",
        "colab_type": "text"
      },
      "source": [
        "Decorator trên không đem lại ích lợi gì, nhưng nó chạy được. Hãy nhìn vào một ví dụ khác"
      ]
    },
    {
      "cell_type": "code",
      "metadata": {
        "id": "5jZ7GSiaZkiO",
        "colab_type": "code",
        "colab": {}
      },
      "source": [
        "_functions = {}\n",
        "\n",
        "def register(f):\n",
        "  global _functions\n",
        "  _functions[f.__name__] = f\n",
        "  return f\n"
      ],
      "execution_count": 0,
      "outputs": []
    },
    {
      "cell_type": "code",
      "metadata": {
        "id": "LkdmOgAGaFOR",
        "colab_type": "code",
        "colab": {}
      },
      "source": [
        "@register\n",
        "def foo():\n",
        "  return 'bar'"
      ],
      "execution_count": 0,
      "outputs": []
    },
    {
      "cell_type": "code",
      "metadata": {
        "id": "zVK-LhGtaP6U",
        "colab_type": "code",
        "colab": {}
      },
      "source": [
        "@register\n",
        "def bar():\n",
        "  return 'foo'"
      ],
      "execution_count": 0,
      "outputs": []
    },
    {
      "cell_type": "code",
      "metadata": {
        "id": "wQZ6TaF6aI42",
        "colab_type": "code",
        "outputId": "be7c0c13-1e60-462f-89c9-56c339ae3266",
        "colab": {
          "base_uri": "https://localhost:8080/",
          "height": 34
        }
      },
      "source": [
        "foo()"
      ],
      "execution_count": 0,
      "outputs": [
        {
          "output_type": "execute_result",
          "data": {
            "text/plain": [
              "'bar'"
            ]
          },
          "metadata": {
            "tags": []
          },
          "execution_count": 9
        }
      ]
    },
    {
      "cell_type": "code",
      "metadata": {
        "id": "L51DN2QOaLdH",
        "colab_type": "code",
        "outputId": "ebbe1c32-56f6-4005-c1f4-3c771c5337d5",
        "colab": {
          "base_uri": "https://localhost:8080/",
          "height": 34
        }
      },
      "source": [
        "_functions['foo']"
      ],
      "execution_count": 0,
      "outputs": [
        {
          "output_type": "execute_result",
          "data": {
            "text/plain": [
              "<function __main__.foo>"
            ]
          },
          "metadata": {
            "tags": []
          },
          "execution_count": 15
        }
      ]
    },
    {
      "cell_type": "code",
      "metadata": {
        "id": "5nGlphaQaNPO",
        "colab_type": "code",
        "outputId": "bb1e2181-a186-4c5a-a75d-913c80975995",
        "colab": {
          "base_uri": "https://localhost:8080/",
          "height": 34
        }
      },
      "source": [
        "bar()"
      ],
      "execution_count": 0,
      "outputs": [
        {
          "output_type": "execute_result",
          "data": {
            "text/plain": [
              "'foo'"
            ]
          },
          "metadata": {
            "tags": []
          },
          "execution_count": 12
        }
      ]
    },
    {
      "cell_type": "code",
      "metadata": {
        "id": "nQpQ4ldlaV7R",
        "colab_type": "code",
        "outputId": "5d783da5-c408-4f19-e144-4598f3f4712f",
        "colab": {
          "base_uri": "https://localhost:8080/",
          "height": 34
        }
      },
      "source": [
        "_functions['bar']"
      ],
      "execution_count": 0,
      "outputs": [
        {
          "output_type": "execute_result",
          "data": {
            "text/plain": [
              "<function __main__.bar>"
            ]
          },
          "metadata": {
            "tags": []
          },
          "execution_count": 14
        }
      ]
    },
    {
      "cell_type": "markdown",
      "metadata": {
        "id": "y8mnbkbXaZYY",
        "colab_type": "text"
      },
      "source": [
        "Ở ví dụ trên ta sử dụng ```register``` decorator để lưu tên hàm được decorated vào một từ điển. Biến từ điển ```_functions``` có thể được sử dụng sau đó để truy cập tới tên các hàm đã được gọi thông qua cú pháp ```_functions[function name]``` ví dụ ```_functions['foo']``` trỏ tới hàm ```foo()```\n",
        "\n",
        "Trong phần sau, tôi sẽ giải thích cách viết các decorators cho riêng bạn. Sau đó tôi sẽ trình bày cách các decorators có sẵn được cung cấp bởi Python và giải thích cách (và khi nào) sử dụng chúng"
      ]
    },
    {
      "cell_type": "markdown",
      "metadata": {
        "id": "V0ZNQZmNbnd4",
        "colab_type": "text"
      },
      "source": [
        "### Viết các decorators\n",
        "Như đã nhắc tới trước đó, decorators thường được sử dụng khi refactoring các mã lặp lại xung quanh các hàm. Xem xét tập hợp các hàm kiểm tra tên người dùng nhập vào có phải là người quản trị hay khôgn, nếu người dùng không phải là quản trị viên, đưa ra một ngoại lệ."
      ]
    },
    {
      "cell_type": "code",
      "metadata": {
        "id": "DDvRt_IGaXHL",
        "colab_type": "code",
        "colab": {}
      },
      "source": [
        "class Store(object):\n",
        "  def get_food(self, username, food):\n",
        "    if username != 'admin':\n",
        "      raise Exception(\"This user is not allowed to get food\")\n",
        "    return self.storage.get(food)\n",
        "\n",
        "  def put_food(self, username, food):\n",
        "    if username != 'admin':\n",
        "      raise Exception(\"This user is not allowed to put food\")\n",
        "    self.storage.put(food)"
      ],
      "execution_count": 0,
      "outputs": []
    },
    {
      "cell_type": "markdown",
      "metadata": {
        "id": "L5OrJAdTco3F",
        "colab_type": "text"
      },
      "source": [
        "Bạn có thể thấy một vài đoạn mã bị lặp lại ở đây. Bước đầu tiên để làm cho đoạn mã này hiệu quả hơn đó là factor được mã kiểm tra trạng thái người quản trị."
      ]
    },
    {
      "cell_type": "code",
      "metadata": {
        "id": "HH6j_Sp0cffs",
        "colab_type": "code",
        "colab": {}
      },
      "source": [
        "def check_is_admin(username):\n",
        "  if username != 'admin':\n",
        "    raise Exception(\"This user is not allowed to get or put food\")\n",
        "\n",
        "class Storage(object):\n",
        "  def get_good(self, username, food):\n",
        "    check_is_admin(username)\n",
        "    return self.storage.get(food)\n",
        "  \n",
        "  def put_food(self, username, food):\n",
        "    check_is_admin(username)\n",
        "    self.storage.put(food)"
      ],
      "execution_count": 0,
      "outputs": []
    },
    {
      "cell_type": "markdown",
      "metadata": {
        "id": "B6Qkq__ddmec",
        "colab_type": "text"
      },
      "source": [
        "Chúng ta đã chuyển hàm kiểm tra người quản trị thành một hàm riêng. Đoạn mã của chúng ta bây giờ nhìn gọn hơn, nhưng chúng ta vẫn có thể làm tốt hơn nếu dùng một decorator"
      ]
    },
    {
      "cell_type": "code",
      "metadata": {
        "id": "rjeWN13cdSEI",
        "colab_type": "code",
        "colab": {}
      },
      "source": [
        "def check_is_admin(f):\n",
        "  def wrapper(*args, **kwargs):\n",
        "    if kwargs.get('username') != 'admin':\n",
        "      raise Exception(\"This user is not allowed to get or put food\")\n",
        "    return f(*args, **kwargs)\n",
        "  return wrapper\n"
      ],
      "execution_count": 0,
      "outputs": []
    },
    {
      "cell_type": "code",
      "metadata": {
        "id": "PP2UGlhe4vvC",
        "colab_type": "code",
        "colab": {}
      },
      "source": [
        "class Store(object):\n",
        "  @check_is_admin\n",
        "  def get_food(self, username, food):\n",
        "    return self.storage.get(food)\n",
        "  \n",
        "  @check_is_admin\n",
        "  def put_food(self, username, food):\n",
        "    self.storage.put(food)\n",
        "    "
      ],
      "execution_count": 0,
      "outputs": []
    },
    {
      "cell_type": "markdown",
      "metadata": {
        "id": "__8Uv6C95CM_",
        "colab_type": "text"
      },
      "source": [
        "Chúng ta định nghĩa một decorator ```check_is_admin``` và sau đó gọi nó bất cứ khi nào ta cần kiểm tra các quyền truy cập. Decorator này xem xét các tham số gửi vào hàm thông qua biến ```kwargs``` và lấy ra giá trị truyền vào ```username```, thông hiện việc kiểm tra trước khi gọi hàm thực sự. Sử dụng các decorators như trên giúp cho việc quản lý các hàm sử dụng chung trở nên dễ dàng hơn. Đối với những người có nhiều kinh ngiệm lập trình Python, điều này không có gì mới, nhưng điều bạn có thể không nhận ra là cách tiếp cận ngây thơ trên (hiện thực các decorators) có nhiều yếu điểm chính."
      ]
    },
    {
      "cell_type": "markdown",
      "metadata": {
        "id": "s0ngBqsY6Y_n",
        "colab_type": "text"
      },
      "source": [
        "### Chồng lên các Decorators\n",
        "Bạn có thể sử dụng một vài decorators cho một hàm hoặc phương thức"
      ]
    },
    {
      "cell_type": "code",
      "metadata": {
        "id": "6YdbxDMh6X6_",
        "colab_type": "code",
        "colab": {}
      },
      "source": [
        "def check_user_is_not(username):\n",
        "  def user_check_decorator(f):\n",
        "    def wrapper(*args, **kwargs):\n",
        "      if kwargs.get('username') == username:\n",
        "        raise Exception(\"This user is not allowed to get food\")\n",
        "      return f(*args, **kwargs)\n",
        "    return wrapper\n",
        "  return user_check_decorator\n",
        "\n",
        "  "
      ],
      "execution_count": 0,
      "outputs": []
    },
    {
      "cell_type": "code",
      "metadata": {
        "id": "1a_ft7s_7tnn",
        "colab_type": "code",
        "colab": {}
      },
      "source": [
        "class Store(object):\n",
        "  @check_user_is_not(\"admin\")\n",
        "  @check_user_is_not(\"user123\")\n",
        "\n",
        "  def get_food(self, username, food):\n",
        "    return self.storage.get(foodhehe)"
      ],
      "execution_count": 0,
      "outputs": []
    },
    {
      "cell_type": "markdown",
      "metadata": {
        "id": "lbeNEj5LjYK-",
        "colab_type": "text"
      },
      "source": [
        "Ở ví dụ trên ```check_user_is_not()``` là một hàm factory cho decorator của chúng ta ```user_check_decorator()```. Nó tạo ra một hàm decorator phụ thuộc vào biến ```username``` và trả về biến đó. Hàm ```user_check_decorator()``` sẽ phục vụ như là một hàm decorator cho ```get_food()```. \n",
        "\n",
        "Hàm ```get_food()``` được decorated hai lần sử dụng ```check_user_is_not()```. Câu hỏi ở đây là username nào được kiểm tra trước - ```admin``` hay là ```user123```. Câu trả lời nằm ở đoạn code dưới đây, tôi chuyển đoạn mã phía trên thành đoạn code tương ứng mà không dùng decorator"
      ]
    },
    {
      "cell_type": "code",
      "metadata": {
        "id": "9qCmmgLuk3ok",
        "colab_type": "code",
        "colab": {}
      },
      "source": [
        "class Store(object):\n",
        "  def get_food(self, username, food):\n",
        "    return self.storage.get(food)\n",
        "\n",
        "Store.get_food = check_user_is_not(\"user123\")(Store.get_food)\n",
        "Store.get_food = check_user_is_not(\"admin\")(Store.get_food)"
      ],
      "execution_count": 0,
      "outputs": []
    },
    {
      "cell_type": "markdown",
      "metadata": {
        "id": "X2BNu_LslNlX",
        "colab_type": "text"
      },
      "source": [
        "Danh sách decorator được áp dụng từ đỉnh tới đáy, vì vậy các decorators gần với keyword ```def``` nhất sẽ được áp dụng đầu tiên và thực thi cuối. Trong ví dụ trên, chương trình sẽ kiểm tra ```admin``` trước và sau đó là ```user123```"
      ]
    },
    {
      "cell_type": "markdown",
      "metadata": {
        "id": "YudW6G6Wnaod",
        "colab_type": "text"
      },
      "source": [
        "### Viết các Class Decorators\n",
        "Ta cũng có thể viết các class decorators, mặc dù việc này ít được thực hiện trong thực tế. *Class decorators* hoạt động giống với function decorators, nhưng chúng được sử dụng với class thay vì các hàm. Ví dụ dưới đây là một class decorator thiết lập các thuộc tính cho hai lớp:"
      ]
    },
    {
      "cell_type": "code",
      "metadata": {
        "id": "q_R7LdJYlHXP",
        "colab_type": "code",
        "colab": {}
      },
      "source": [
        "import uuid\n",
        "\n",
        "def set_class_name_and_id(klass):\n",
        "  klass.name = str(klass)\n",
        "  klass.random_id = uuid.uuid4()\n",
        "  return klass\n",
        "\n",
        "@set_class_name_and_id\n",
        "class SomeClass(object):\n",
        "  pass"
      ],
      "execution_count": 0,
      "outputs": []
    },
    {
      "cell_type": "markdown",
      "metadata": {
        "id": "QW-KjaTMoTzv",
        "colab_type": "text"
      },
      "source": [
        "Khi class được nạp và định nghĩa, nó sẽ thiết lập các thuộc tính, như sau"
      ]
    },
    {
      "cell_type": "code",
      "metadata": {
        "id": "xyl3Zp6ToS1a",
        "colab_type": "code",
        "outputId": "8fd3dc25-9194-4ca5-d8f1-228d695b5330",
        "colab": {
          "base_uri": "https://localhost:8080/",
          "height": 34
        }
      },
      "source": [
        "SomeClass.name"
      ],
      "execution_count": 0,
      "outputs": [
        {
          "output_type": "execute_result",
          "data": {
            "text/plain": [
              "\"<class '__main__.SomeClass'>\""
            ]
          },
          "metadata": {
            "tags": []
          },
          "execution_count": 29
        }
      ]
    },
    {
      "cell_type": "code",
      "metadata": {
        "id": "KmwBInatof7-",
        "colab_type": "code",
        "outputId": "dc6fbba9-a939-41d3-9178-24368775ec83",
        "colab": {
          "base_uri": "https://localhost:8080/",
          "height": 34
        }
      },
      "source": [
        "SomeClass.random_id"
      ],
      "execution_count": 0,
      "outputs": [
        {
          "output_type": "execute_result",
          "data": {
            "text/plain": [
              "UUID('e0f5c75a-89e5-4bfc-9a24-d1fde37343f9')"
            ]
          },
          "metadata": {
            "tags": []
          },
          "execution_count": 30
        }
      ]
    },
    {
      "cell_type": "markdown",
      "metadata": {
        "id": "-rpAzvbCopKA",
        "colab_type": "text"
      },
      "source": [
        "Như đối với các function decorators, sẽ có thể hữu ích nếu ta có thể bao các đoạn code chung chỉnh sửa các lớp.\n",
        "\n",
        "Ta cũng có thể các class decorators để bao một hàm hoặc lớp với các lớp khác. Ví dụ, class decorators thường được dùng được sử dụng để bao một hàm đang lưu một trạng thái. Ví dụ sau bao một hàm print() để kiểm tra xem nó được gọi bao nhiều "
      ]
    },
    {
      "cell_type": "code",
      "metadata": {
        "id": "Cyo72Xb7ohzb",
        "colab_type": "code",
        "colab": {}
      },
      "source": [
        "class CountCalls(object):\n",
        "  def __init__(self, f):\n",
        "    self.f = f\n",
        "    self.called = 0\n",
        "\n",
        "  def __call__(self, *args, **kwargs):\n",
        "    self.called += 1\n",
        "    return self.f(*args, **kwargs)"
      ],
      "execution_count": 0,
      "outputs": []
    },
    {
      "cell_type": "code",
      "metadata": {
        "id": "pzsP6RGSMrAd",
        "colab_type": "code",
        "colab": {}
      },
      "source": [
        "@CountCalls\n",
        "def print_hello():\n",
        "  print(\"hello\")"
      ],
      "execution_count": 0,
      "outputs": []
    },
    {
      "cell_type": "code",
      "metadata": {
        "id": "_JXc4eYANNx3",
        "colab_type": "code",
        "outputId": "2284f9e7-7e91-47d8-d2cd-870bfe4d0411",
        "colab": {
          "base_uri": "https://localhost:8080/",
          "height": 34
        }
      },
      "source": [
        "print_hello.called"
      ],
      "execution_count": 0,
      "outputs": [
        {
          "output_type": "execute_result",
          "data": {
            "text/plain": [
              "0"
            ]
          },
          "metadata": {
            "tags": []
          },
          "execution_count": 33
        }
      ]
    },
    {
      "cell_type": "code",
      "metadata": {
        "id": "u4B-N-AANQGa",
        "colab_type": "code",
        "outputId": "f7ea6086-c3b2-493d-c906-7326e6b8cf88",
        "colab": {
          "base_uri": "https://localhost:8080/",
          "height": 34
        }
      },
      "source": [
        "print_hello()"
      ],
      "execution_count": 0,
      "outputs": [
        {
          "output_type": "stream",
          "text": [
            "hello\n"
          ],
          "name": "stdout"
        }
      ]
    },
    {
      "cell_type": "code",
      "metadata": {
        "id": "VXJjtsftNSMb",
        "colab_type": "code",
        "outputId": "11aed368-1b97-42b1-c754-7ea220944eb8",
        "colab": {
          "base_uri": "https://localhost:8080/",
          "height": 34
        }
      },
      "source": [
        "print_hello.called"
      ],
      "execution_count": 0,
      "outputs": [
        {
          "output_type": "execute_result",
          "data": {
            "text/plain": [
              "1"
            ]
          },
          "metadata": {
            "tags": []
          },
          "execution_count": 35
        }
      ]
    },
    {
      "cell_type": "code",
      "metadata": {
        "id": "jralUrbWNTdb",
        "colab_type": "code",
        "outputId": "274107ff-0948-4157-ed5c-372fae6a9f5b",
        "colab": {
          "base_uri": "https://localhost:8080/",
          "height": 34
        }
      },
      "source": [
        "print_hello()"
      ],
      "execution_count": 0,
      "outputs": [
        {
          "output_type": "stream",
          "text": [
            "hello\n"
          ],
          "name": "stdout"
        }
      ]
    },
    {
      "cell_type": "code",
      "metadata": {
        "id": "lKsj7WP0NVwv",
        "colab_type": "code",
        "outputId": "a1968ede-1291-4e29-eb28-4560eda83b34",
        "colab": {
          "base_uri": "https://localhost:8080/",
          "height": 34
        }
      },
      "source": [
        "print_hello.called"
      ],
      "execution_count": 0,
      "outputs": [
        {
          "output_type": "execute_result",
          "data": {
            "text/plain": [
              "2"
            ]
          },
          "metadata": {
            "tags": []
          },
          "execution_count": 37
        }
      ]
    },
    {
      "cell_type": "markdown",
      "metadata": {
        "id": "m4Fdc8Z8Ngip",
        "colab_type": "text"
      },
      "source": [
        "### Thu thập các thuộc tính ban đầu với update_wrapper Decorator\n",
        "\n",
        "Như đã nhắc tới ở phần trước, một decorator thay thế hàm ban đầu với một hàm mới một cách nhanh chóng. Tuy nhiên, hàm mới thiếu đi rất nhiều thuộc tính của hàm ban đầu, ví dụ như docstring và tên của hàm. Đoạn code dưới đây cho ta thấy cách hàm ```foobar()``` mất đi thuộc tính docstring và tên của nó mỗi khi nó được decorated với ```is_admin``` decorator. "
      ]
    },
    {
      "cell_type": "code",
      "metadata": {
        "id": "z9zSmsk9NbOM",
        "colab_type": "code",
        "colab": {}
      },
      "source": [
        "def is_admin(f):\n",
        "  def wrapper(*args, **kwargs):\n",
        "    if kwargs.get('username') != 'admin':\n",
        "      raise Exception(\"This user is not allowed to get food\")\n",
        "    return f(*args, **kwargs)\n",
        "  return wrapper"
      ],
      "execution_count": 0,
      "outputs": []
    },
    {
      "cell_type": "code",
      "metadata": {
        "id": "JOj3gSCjPcVP",
        "colab_type": "code",
        "colab": {}
      },
      "source": [
        "def foobar(username=\"someone\"):\n",
        "  \"\"\"Do crazy stuff.\"\"\"\n",
        "  pass"
      ],
      "execution_count": 0,
      "outputs": []
    },
    {
      "cell_type": "code",
      "metadata": {
        "id": "P3CK0_i8PjKH",
        "colab_type": "code",
        "outputId": "edb8044e-c0f5-4a53-d67e-06e84f3f5c71",
        "colab": {
          "base_uri": "https://localhost:8080/",
          "height": 34
        }
      },
      "source": [
        "foobar.__doc__"
      ],
      "execution_count": 0,
      "outputs": [
        {
          "output_type": "execute_result",
          "data": {
            "text/plain": [
              "'Do crazy stuff.'"
            ]
          },
          "metadata": {
            "tags": []
          },
          "execution_count": 44
        }
      ]
    },
    {
      "cell_type": "code",
      "metadata": {
        "id": "l1co9S9OPlxX",
        "colab_type": "code",
        "outputId": "65047297-720a-4967-fab8-9bd4dfbd063f",
        "colab": {
          "base_uri": "https://localhost:8080/",
          "height": 34
        }
      },
      "source": [
        "foobar.__name__"
      ],
      "execution_count": 0,
      "outputs": [
        {
          "output_type": "execute_result",
          "data": {
            "text/plain": [
              "'foobar'"
            ]
          },
          "metadata": {
            "tags": []
          },
          "execution_count": 41
        }
      ]
    },
    {
      "cell_type": "code",
      "metadata": {
        "id": "Mk-8FVUYPv79",
        "colab_type": "code",
        "colab": {}
      },
      "source": [
        "@is_admin\n",
        "def foobar(username=\"someone\"):\n",
        "  \"\"\"Do crazy stuff.\"\"\"\n",
        "  pass"
      ],
      "execution_count": 0,
      "outputs": []
    },
    {
      "cell_type": "code",
      "metadata": {
        "id": "dv2nVK0jQAfu",
        "colab_type": "code",
        "colab": {}
      },
      "source": [
        "foobar.__doc__"
      ],
      "execution_count": 0,
      "outputs": []
    },
    {
      "cell_type": "code",
      "metadata": {
        "id": "0RSCKR4FQBuG",
        "colab_type": "code",
        "outputId": "96dc1837-92b4-4985-a2e7-cd0043db98b6",
        "colab": {
          "base_uri": "https://localhost:8080/",
          "height": 34
        }
      },
      "source": [
        "foobar.__name__"
      ],
      "execution_count": 0,
      "outputs": [
        {
          "output_type": "execute_result",
          "data": {
            "text/plain": [
              "'wrapper'"
            ]
          },
          "metadata": {
            "tags": []
          },
          "execution_count": 47
        }
      ]
    },
    {
      "cell_type": "markdown",
      "metadata": {
        "id": "XKkoKz7WQ0qP",
        "colab_type": "text"
      },
      "source": [
        "Không có thuộc tính docstring và tên hàm đúng có thể là một vấn đề trong nhiều hoàn cảnh, ví dụ như sinh ra tài liệu cho mã nguồn\n",
        "\n",
        "May mắn thay, module ```functools``` trong thư viện Python chuẩn giải quyết vấn đề này với hàm ```update_wrapper()``` cho phép sao chép các thuộc tính từ hàm ban đầu nhưng bị mất định bởi hàm bao. "
      ]
    },
    {
      "cell_type": "code",
      "metadata": {
        "id": "304rcdP9QDaq",
        "colab_type": "code",
        "outputId": "32556b6a-ff91-403e-98f4-747e8e9b595d",
        "colab": {
          "base_uri": "https://localhost:8080/",
          "height": 34
        }
      },
      "source": [
        "import functools\n",
        "\n",
        "def foobar(username=\"someone\"):\n",
        "  \"\"\"Do crazy stuff\"\"\"\n",
        "  pass\n",
        "\n",
        "foobar = functools.update_wrapper(is_admin, foobar)\n",
        "foobar.__name__"
      ],
      "execution_count": 0,
      "outputs": [
        {
          "output_type": "execute_result",
          "data": {
            "text/plain": [
              "'foobar'"
            ]
          },
          "metadata": {
            "tags": []
          },
          "execution_count": 48
        }
      ]
    },
    {
      "cell_type": "code",
      "metadata": {
        "id": "cK4r0PqrRpOV",
        "colab_type": "code",
        "outputId": "3d580c96-fd00-4bd1-9e5a-ae3276f5f8ad",
        "colab": {
          "base_uri": "https://localhost:8080/",
          "height": 34
        }
      },
      "source": [
        "foobar.__doc__"
      ],
      "execution_count": 0,
      "outputs": [
        {
          "output_type": "execute_result",
          "data": {
            "text/plain": [
              "'Do crazy stuff'"
            ]
          },
          "metadata": {
            "tags": []
          },
          "execution_count": 49
        }
      ]
    },
    {
      "cell_type": "markdown",
      "metadata": {
        "id": "OoiH5ojqRuQo",
        "colab_type": "text"
      },
      "source": [
        "Bay giờ thì hàm ```foobar()``` có tên và docstring đúng thậm chí khi nó được decorated với ```is_admin```."
      ]
    },
    {
      "cell_type": "markdown",
      "metadata": {
        "id": "JkiaFyveSAPL",
        "colab_type": "text"
      },
      "source": [
        "### Trích xuất thông tin liên quan với inspect\n",
        "\n",
        "Trong các ví dụ ta đã thấy qua ta giả định rằng hàm bị decorated sẽ luôn luôn có ```username``` được truyền vào nó thông qua tham số từ khoá (keyword argument), nhưng có nhiều trường hợp khác. Ta có thể nhận được nhiều thông tin mà ta dùng để trích xuất username. Với suy nghĩ đó, ta sẽ xây dựng một phiên bản thông minh hơn giúp ta nhìn vào các tham số của các hàm decorated và lấy ra những thứ ta cần.\n",
        "\n",
        "Để làm được điều đó, Python sử dụng module ```inspect```, module cho phép ta lấy ra chữ kí của hàm và xử lý nó."
      ]
    },
    {
      "cell_type": "code",
      "metadata": {
        "id": "93Ou3GRHRrvH",
        "colab_type": "code",
        "colab": {}
      },
      "source": [
        "import functools\n",
        "import inspect\n",
        "\n",
        "def check_is_admin(f):\n",
        "  @functools.wraps(f)\n",
        "  def wrapper(*args, **kwargs):\n",
        "    func_args = inspect.getcallargs(f, *args, **kwargs)\n",
        "    if func_args.get('username') != 'admin':\n",
        "      raise Exception(\"This user is not allowed to get food\")\n",
        "    return f(*args, **kwargs)\n",
        "  return wrapper\n",
        "\n",
        "@check_is_admin\n",
        "def get_food(username, type='chocolate'):\n",
        "  return type + \" nom nom nom!\""
      ],
      "execution_count": 0,
      "outputs": []
    },
    {
      "cell_type": "code",
      "metadata": {
        "id": "kH9N_nQDTjmJ",
        "colab_type": "code",
        "outputId": "b1504d14-46d6-4411-b54a-6108ec01c122",
        "colab": {
          "base_uri": "https://localhost:8080/",
          "height": 50
        }
      },
      "source": [
        "get_food(\"admin\")"
      ],
      "execution_count": 0,
      "outputs": [
        {
          "output_type": "stream",
          "text": [
            "chocolate\n"
          ],
          "name": "stdout"
        },
        {
          "output_type": "execute_result",
          "data": {
            "text/plain": [
              "'chocolate nom nom nom!'"
            ]
          },
          "metadata": {
            "tags": []
          },
          "execution_count": 55
        }
      ]
    },
    {
      "cell_type": "markdown",
      "metadata": {
        "id": "-OlsB0FxT5q5",
        "colab_type": "text"
      },
      "source": [
        "Hàm trên gọi ```inspect.getcallargs()``` nhận về một từ điển chứa tên và và các giá trị của các tham số như là các cặp key-value. Trong ví dụ của chúng ta, hàm này trả về ```{'username': 'admin', 'type': 'chocolate'}```. Có nghĩa rằng decorator của chúng ta không phải kiểm tra xem tham số ```username``` có phải là argument theo vị trí hay keyword hay không; tất cả những gì ta cần làm là tìm kiếm ```username``` trong từ điển của chúng ta. \n",
        "\n",
        "Sử dụng ```functools.wraps``` và module ```inspect```, bạn có thể viết bất cứ decorator tuỳ chỉnh nào mà bạn cần. Tuy nhiên, đừng lạm dụng module ```inspect``` quá: trong khi nó có thể đoán những thứ một hàm sẽ chấp nhận như là một argument, khả năng của ```inspect``` có thể mong manh, dễ vỡ khi chữ kí của hàm thay đổi. Decorators là một cách tuyệt vời để triển khai câu thần chú *Don't Repeat Yourself* vì vậy nó được yêu thích bởi các developers."
      ]
    },
    {
      "cell_type": "code",
      "metadata": {
        "id": "K_ehBweDTohR",
        "colab_type": "code",
        "colab": {}
      },
      "source": [
        ""
      ],
      "execution_count": 0,
      "outputs": []
    },
    {
      "cell_type": "markdown",
      "metadata": {
        "id": "8gZLcWZ7rgJk",
        "colab_type": "text"
      },
      "source": [
        "### Cách phương thức (methods) hoạt động trong Python\n",
        "\n",
        "Phương thức trong Python dễ hiểu và sử dụng, và bạn có thể thể sử dụng chúng đúng cách mà không cần phải đi sâu vào chi tiết của nó. Nhưng để hiểu hoạt động của một số decorators, bạn cần biết cách phương thức hoạt động đằng sau.\n",
        "\n",
        "Một ```method``` là một hàm được lưu như là một thuộc tính của class. Hãy cùng xem điều gì xảy ra khi chúng ta cố gắng truy cập thuộc tính như vậy trực tiếp:\n"
      ]
    },
    {
      "cell_type": "code",
      "metadata": {
        "id": "w3vevh_msPA3",
        "colab_type": "code",
        "colab": {}
      },
      "source": [
        "class Pizza(object):\n",
        "  def __init__(self, size):\n",
        "    self.size = size\n",
        "  \n",
        "  def get_size(self):\n",
        "    return self.size"
      ],
      "execution_count": 0,
      "outputs": []
    },
    {
      "cell_type": "code",
      "metadata": {
        "id": "qg1PxOSesXZV",
        "colab_type": "code",
        "colab": {
          "base_uri": "https://localhost:8080/",
          "height": 34
        },
        "outputId": "9afc9ec4-f45b-4bbd-c887-8d5a313324ca"
      },
      "source": [
        "Pizza.get_size"
      ],
      "execution_count": 2,
      "outputs": [
        {
          "output_type": "execute_result",
          "data": {
            "text/plain": [
              "<function __main__.Pizza.get_size>"
            ]
          },
          "metadata": {
            "tags": []
          },
          "execution_count": 2
        }
      ]
    },
    {
      "cell_type": "markdown",
      "metadata": {
        "id": "_OwX6JwdsdB4",
        "colab_type": "text"
      },
      "source": [
        "Ta biết được rằng ```get_size()``` là một hàm - nhưng tại sao lại là như vậy? Lý do là như sau, ở bước này ```get_size()``` chưa được gắn với bất cứ đối tượng cụ thể nào. Do đó, nó được xem như là một hàm bình thường. Python sẽ khởi lên một ngoại lệ báo lỗi nếu chúng ta cố gắng gọi hàm này trực tiếp, như sau:"
      ]
    },
    {
      "cell_type": "code",
      "metadata": {
        "id": "BdzN1SnjsbwV",
        "colab_type": "code",
        "colab": {
          "base_uri": "https://localhost:8080/",
          "height": 182
        },
        "outputId": "1f6560e9-ef80-4a3d-e0b2-66f966c90908"
      },
      "source": [
        "Pizza.get_size()"
      ],
      "execution_count": 3,
      "outputs": [
        {
          "output_type": "error",
          "ename": "TypeError",
          "evalue": "ignored",
          "traceback": [
            "\u001b[0;31m---------------------------------------------------------------------------\u001b[0m",
            "\u001b[0;31mTypeError\u001b[0m                                 Traceback (most recent call last)",
            "\u001b[0;32m<ipython-input-3-8f6eefb4f713>\u001b[0m in \u001b[0;36m<module>\u001b[0;34m()\u001b[0m\n\u001b[0;32m----> 1\u001b[0;31m \u001b[0mPizza\u001b[0m\u001b[0;34m.\u001b[0m\u001b[0mget_size\u001b[0m\u001b[0;34m(\u001b[0m\u001b[0;34m)\u001b[0m\u001b[0;34m\u001b[0m\u001b[0;34m\u001b[0m\u001b[0m\n\u001b[0m",
            "\u001b[0;31mTypeError\u001b[0m: get_size() missing 1 required positional argument: 'self'"
          ]
        }
      ]
    },
    {
      "cell_type": "markdown",
      "metadata": {
        "id": "wrGVfZGms5O6",
        "colab_type": "text"
      },
      "source": [
        "Python nói rằng ta không cung cấp argument ```self```. Như vậy, nó không được gán vào bất cứ đối tượng nào, argument ```self``` không thể được thiết lập một cách tự động. Tuy nhiên, chúng ta có thể sử dụng hàm ```get_size()``` không chỉ thông qua việc gửi truyền vào một hiện thực tuỳ ý của lớp tới phương thức nếu bạn muốn mà bạn thông qua truyền bất cứ đối tượng nào, miễn là nó có các thuộc tính mà phương thức mong đợi. Dưới đây là một ví dụ:"
      ]
    },
    {
      "cell_type": "code",
      "metadata": {
        "id": "nP9rr3xPs38c",
        "colab_type": "code",
        "colab": {
          "base_uri": "https://localhost:8080/",
          "height": 34
        },
        "outputId": "0805009b-7349-4d48-b4da-9861381d5ca7"
      },
      "source": [
        "Pizza.get_size(Pizza(42))"
      ],
      "execution_count": 4,
      "outputs": [
        {
          "output_type": "execute_result",
          "data": {
            "text/plain": [
              "42"
            ]
          },
          "metadata": {
            "tags": []
          },
          "execution_count": 4
        }
      ]
    },
    {
      "cell_type": "markdown",
      "metadata": {
        "id": "h3z2wYKwt0m8",
        "colab_type": "text"
      },
      "source": [
        "Dòng code phía trên chạy được nhưng nó không hiệu quả: chúng ta phải trỏ tới lớp mỗi lần chúng ta muốn gọi một trong các phương thức của nó.\n",
        "\n",
        "Vì vậy Python cho phép ta gán các phương thức của lớp tới các hiện thực của nó. Nói cách khác, bạn có thể truy cập tới ```get_size()``` từ bất cứ hiện thực ```Pizza``` nào, và hơn thế nữa, Python sẽ truyền chính đối tượng này tới tham số ```self``` của phương thức. Như sau"
      ]
    },
    {
      "cell_type": "code",
      "metadata": {
        "id": "w5NdwcWotsfU",
        "colab_type": "code",
        "colab": {
          "base_uri": "https://localhost:8080/",
          "height": 34
        },
        "outputId": "e9e94533-5164-45a7-c283-dd681858046c"
      },
      "source": [
        "Pizza.get_size"
      ],
      "execution_count": 5,
      "outputs": [
        {
          "output_type": "execute_result",
          "data": {
            "text/plain": [
              "<function __main__.Pizza.get_size>"
            ]
          },
          "metadata": {
            "tags": []
          },
          "execution_count": 5
        }
      ]
    },
    {
      "cell_type": "code",
      "metadata": {
        "id": "x0u1rX-sucz1",
        "colab_type": "code",
        "colab": {
          "base_uri": "https://localhost:8080/",
          "height": 54
        },
        "outputId": "a468b154-68a0-4630-fa45-3ea6a346f848"
      },
      "source": [
        "Pizza(42).get_size"
      ],
      "execution_count": 8,
      "outputs": [
        {
          "output_type": "execute_result",
          "data": {
            "text/plain": [
              "<bound method Pizza.get_size of <__main__.Pizza object at 0x7faaa47cc748>>"
            ]
          },
          "metadata": {
            "tags": []
          },
          "execution_count": 8
        }
      ]
    },
    {
      "cell_type": "code",
      "metadata": {
        "id": "cziC964juf7A",
        "colab_type": "code",
        "colab": {
          "base_uri": "https://localhost:8080/",
          "height": 34
        },
        "outputId": "81b5b0c8-1713-450e-e509-afe5ea4dcde5"
      },
      "source": [
        "Pizza(42).get_size()"
      ],
      "execution_count": 9,
      "outputs": [
        {
          "output_type": "execute_result",
          "data": {
            "text/plain": [
              "42"
            ]
          },
          "metadata": {
            "tags": []
          },
          "execution_count": 9
        }
      ]
    },
    {
      "cell_type": "markdown",
      "metadata": {
        "id": "taGc2qjqvo_N",
        "colab_type": "text"
      },
      "source": [
        "Đúng như mong đợi, chúng ta không phải cung cấp bất cứ argument cho ```get_size()``` bởi vì nó là một phương thức đã được gán (bound method): tham số ```self``` của nó tự động được thiết lập tới hiện thực ```Pizza```. Ví dụ dưới đây làm rõ ràng vấn đề này hơn nữa:"
      ]
    },
    {
      "cell_type": "code",
      "metadata": {
        "id": "ONvmw1jSvlzc",
        "colab_type": "code",
        "colab": {}
      },
      "source": [
        "m = Pizza(42).get_size"
      ],
      "execution_count": 0,
      "outputs": []
    },
    {
      "cell_type": "code",
      "metadata": {
        "id": "1IG0dc_LwBcM",
        "colab_type": "code",
        "colab": {
          "base_uri": "https://localhost:8080/",
          "height": 34
        },
        "outputId": "6625e133-c9b0-4b21-ccc2-3d8d9d155ebe"
      },
      "source": [
        "m()"
      ],
      "execution_count": 13,
      "outputs": [
        {
          "output_type": "execute_result",
          "data": {
            "text/plain": [
              "42"
            ]
          },
          "metadata": {
            "tags": []
          },
          "execution_count": 13
        }
      ]
    },
    {
      "cell_type": "markdown",
      "metadata": {
        "id": "k7CGo8QvwHfm",
        "colab_type": "text"
      },
      "source": [
        "Miễn là bạn có một tham chiếu tới phương thức được gán, bạn thậm chí không cần phải giữ một tham chiếu tới đối tượng ```Pizza``` của bạn. \u001dHơn nữa, nếu bạn có một tham chiếu tới một phương thức nhưng bạn muốn biết đối tượng nào nó được gán tới, bạn chỉ cần kiểm tra thuộc tính ```__self__```, như sau:"
      ]
    },
    {
      "cell_type": "code",
      "metadata": {
        "id": "9uApYQNZwCYt",
        "colab_type": "code",
        "colab": {}
      },
      "source": [
        "m = Pizza(42).get_size"
      ],
      "execution_count": 0,
      "outputs": []
    },
    {
      "cell_type": "code",
      "metadata": {
        "id": "EVsMcWzPwpnX",
        "colab_type": "code",
        "colab": {
          "base_uri": "https://localhost:8080/",
          "height": 34
        },
        "outputId": "5f664d25-1fb9-401b-b8da-31730015e054"
      },
      "source": [
        "m.__self__"
      ],
      "execution_count": 15,
      "outputs": [
        {
          "output_type": "execute_result",
          "data": {
            "text/plain": [
              "<__main__.Pizza at 0x7faaa47775c0>"
            ]
          },
          "metadata": {
            "tags": []
          },
          "execution_count": 15
        }
      ]
    },
    {
      "cell_type": "markdown",
      "metadata": {
        "id": "eEWlEM9Bwtef",
        "colab_type": "text"
      },
      "source": [
        "Rõ ràng là ta có một tham chiếu tới đối tượng của chúng ta, và bạn có thể tìm ra nó nếu bạn muốn"
      ]
    },
    {
      "cell_type": "markdown",
      "metadata": {
        "id": "rVgntq-jw1Ya",
        "colab_type": "text"
      },
      "source": [
        "### Các phương thức tĩnh\n",
        "\n",
        "Các phương thức tính (```static methods```) thuộc về một lớp (class), hơn là thuộc về hiện thực của một lớp, vì vậy chúng không hoạt động hay ảnh hưởng trên các hiện thực lớp. Thay vào đó, một phương thức tĩnh hoạt động trên các tham số nó lấy về. Các phương thức tính thường được sử dụng để tạo các hàm dịch vụ, bởi vì chúng không phụ thuộc vào trạng thái và các đối tượng của nó.\n",
        "\n",
        "Ví dụ, trong đoạn mã dưới đây, phương thức tĩnh ```mix_ingredients()``` thuộc về lớp ```Pizza``` nhưng có thể được sử dụng để trộn các thành phần của bất cứ món ăn khác"
      ]
    },
    {
      "cell_type": "code",
      "metadata": {
        "id": "gQsRN7PfwriZ",
        "colab_type": "code",
        "colab": {}
      },
      "source": [
        "class Pizza(object):\n",
        "  @staticmethod\n",
        "  def mix_ingredients(x, y):\n",
        "    return x + y \n",
        "  \n",
        "  def cook(self):\n",
        "    return self.mix_ingredients(self.cheese, self.vegetables)\n",
        "\n",
        "    "
      ],
      "execution_count": 0,
      "outputs": []
    },
    {
      "cell_type": "markdown",
      "metadata": {
        "id": "WZiyowIEyDa7",
        "colab_type": "text"
      },
      "source": [
        "Bạn có thể viết ```mix_ingredients()``` như là một phương thức không phải tĩnh nếu bạn muốn, nhưng nó sẽ lấy tham số ```self```, biến mà nó không bao giờ sử dụng. Sử dụng decorator ```@staticmethod``` giúp ta những điều sau.\n",
        "Điều đầu tiên là tốc độ: Python không phải khởi tạo một phương thức gán cho mỗi đối tượng ```Pizza``` chúng ta tạo. Các phương thức gán (bound methods) cũng là các đối tượng, tạo ra chúng sẽ tốn CPU và bộ nhớ - cho dù nó thấp. Sử dụng một phương thức tĩnh giúp ta tránh điều sau:"
      ]
    },
    {
      "cell_type": "code",
      "metadata": {
        "id": "mEMM2mePyCk4",
        "colab_type": "code",
        "colab": {
          "base_uri": "https://localhost:8080/",
          "height": 34
        },
        "outputId": "61283553-feac-4845-a4d0-f91317ad0290"
      },
      "source": [
        "Pizza().cook is Pizza().cook"
      ],
      "execution_count": 17,
      "outputs": [
        {
          "output_type": "execute_result",
          "data": {
            "text/plain": [
              "False"
            ]
          },
          "metadata": {
            "tags": []
          },
          "execution_count": 17
        }
      ]
    },
    {
      "cell_type": "code",
      "metadata": {
        "id": "6zWtVQSry5jn",
        "colab_type": "code",
        "colab": {
          "base_uri": "https://localhost:8080/",
          "height": 34
        },
        "outputId": "547f6a1f-5785-4852-ddca-f739a801ba3a"
      },
      "source": [
        "Pizza().mix_ingredients is Pizza.mix_ingredients"
      ],
      "execution_count": 19,
      "outputs": [
        {
          "output_type": "execute_result",
          "data": {
            "text/plain": [
              "True"
            ]
          },
          "metadata": {
            "tags": []
          },
          "execution_count": 19
        }
      ]
    },
    {
      "cell_type": "code",
      "metadata": {
        "id": "y7G5HYafzA9c",
        "colab_type": "code",
        "colab": {
          "base_uri": "https://localhost:8080/",
          "height": 34
        },
        "outputId": "30a5422d-c55c-442a-ca3d-12f4b6e5f0e1"
      },
      "source": [
        "Pizza().mix_ingredients is Pizza().mix_ingredients"
      ],
      "execution_count": 20,
      "outputs": [
        {
          "output_type": "execute_result",
          "data": {
            "text/plain": [
              "True"
            ]
          },
          "metadata": {
            "tags": []
          },
          "execution_count": 20
        }
      ]
    },
    {
      "cell_type": "markdown",
      "metadata": {
        "id": "RNMQCY8rzGBI",
        "colab_type": "text"
      },
      "source": [
        "Thứ hai, các phương thức tĩnh làm cho code dễ đọc hơn. Khi bạn thấy ```@staticmethod```, bạn biết rằng phương thức này không phụ thuộc vào trạng thái của đối tượng. \n",
        "\n",
        "Thứ ba, các phương thức tính có thể được ghi đè bởi các lớp con. Nếu thay vì một phương thức tĩnh, chúng ta sử dụng ,một hàm ```mix_ingredients()``` được định nghĩa ở module cấp cao nhất, một lớp thừa hưởng ```Pizza``` không thể thay đổi cách chúng ta trộn các nguyên liệu cho pizza của chúng ta mà không phải ghi đè phương thức ```cook()```. Với các phương thức tĩnh, các lớp con có thể ghi đè phương thức cho mục đích của chúng ta.\n",
        "\n",
        "Không may mắn thay, Python không luôn luôn phát hiện được một phương thức có phải là tĩnh hay không - Tôi gọi đó là một lỗi trong việc thiết kế ngôn ngữ. Một cách tiếp cận để giải quyết vấn đề này là thêm vào một đoạn mã phát hiện pattern như vậy và đưa ra một cảnh báo sử dụng ```flake8```"
      ]
    },
    {
      "cell_type": "code",
      "metadata": {
        "id": "IFPaO17-zFHq",
        "colab_type": "code",
        "colab": {}
      },
      "source": [
        ""
      ],
      "execution_count": 0,
      "outputs": []
    }
  ]
}