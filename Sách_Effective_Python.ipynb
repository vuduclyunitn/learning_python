{
  "nbformat": 4,
  "nbformat_minor": 0,
  "metadata": {
    "colab": {
      "name": "Sách Effective Python.ipynb",
      "provenance": [],
      "collapsed_sections": [],
      "include_colab_link": true
    },
    "kernelspec": {
      "name": "python3",
      "display_name": "Python 3"
    }
  },
  "cells": [
    {
      "cell_type": "markdown",
      "metadata": {
        "id": "view-in-github",
        "colab_type": "text"
      },
      "source": [
        "<a href=\"https://colab.research.google.com/github/vuduclyunitn/learning_python/blob/master/S%C3%A1ch_Effective_Python.ipynb\" target=\"_parent\"><img src=\"https://colab.research.google.com/assets/colab-badge.svg\" alt=\"Open In Colab\"/></a>"
      ]
    },
    {
      "cell_type": "code",
      "metadata": {
        "id": "0ub1wph_cYET",
        "colab_type": "code",
        "colab": {}
      },
      "source": [
        ""
      ],
      "execution_count": 0,
      "outputs": []
    },
    {
      "cell_type": "markdown",
      "metadata": {
        "id": "4gqVpYe6gVkh",
        "colab_type": "text"
      },
      "source": [
        "# Dịch từ sách Effective Python 59 specific ways to write better Python. Tác giả: Brett Slatkin"
      ]
    },
    {
      "cell_type": "markdown",
      "metadata": {
        "id": "us9tFZ-PcclL",
        "colab_type": "text"
      },
      "source": [
        "## Nên sử dụng ```enumerate``` thay vì ```range```\n",
        "\n",
        "Hàm có sẵn ```range``` hữu dụng cho các vòng lặp qua một tập hợp các số **nguyên**"
      ]
    },
    {
      "cell_type": "code",
      "metadata": {
        "id": "sq9qQq0AcxGq",
        "colab_type": "code",
        "colab": {
          "base_uri": "https://localhost:8080/",
          "height": 731
        },
        "outputId": "62d398eb-4af1-4f38-afea-169ab2c2b406"
      },
      "source": [
        "from random import randint\n",
        "random_bits = 0\n",
        "for i in range(64):\n",
        "  if randint(0, 1):\n",
        "    random_bits |= 1 << i\n",
        "    print(random_bits)"
      ],
      "execution_count": 4,
      "outputs": [
        {
          "output_type": "stream",
          "text": [
            "2\n",
            "6\n",
            "14\n",
            "30\n",
            "286\n",
            "798\n",
            "1822\n",
            "3870\n",
            "36638\n",
            "167710\n",
            "429854\n",
            "954142\n",
            "2002718\n",
            "4099870\n",
            "8294174\n",
            "25071390\n",
            "58625822\n",
            "192843550\n",
            "461279006\n",
            "998149918\n",
            "3145633566\n",
            "7440600862\n",
            "16030535454\n",
            "33210404638\n",
            "170649358110\n",
            "445527265054\n",
            "995283078942\n",
            "3194306334494\n",
            "11990399356702\n",
            "29582585401118\n",
            "64766957489950\n",
            "135135701667614\n",
            "416610678378270\n",
            "979560631799582\n",
            "2105460538642206\n",
            "11112659793383198\n",
            "29127058302865182\n",
            "317357434454576926\n",
            "1470278939061423902\n",
            "3776121948275117854\n",
            "8387807966702505758\n",
            "17611180003557281566\n"
          ],
          "name": "stdout"
        }
      ]
    },
    {
      "cell_type": "markdown",
      "metadata": {
        "id": "KktMUHjqeMAN",
        "colab_type": "text"
      },
      "source": [
        ""
      ]
    },
    {
      "cell_type": "markdown",
      "metadata": {
        "id": "dKCNXxu0c7jh",
        "colab_type": "text"
      },
      "source": [
        "Khi bạn cần lặp qua một cấu trúc dữ liệu như là danh sách của các chuỗi văn bản, bạn có thể lặp trực tiếp qua danh sách này."
      ]
    },
    {
      "cell_type": "code",
      "metadata": {
        "id": "1h8MRzUlc6T8",
        "colab_type": "code",
        "colab": {
          "base_uri": "https://localhost:8080/",
          "height": 85
        },
        "outputId": "cd9215f4-869c-46a4-ec3e-8b67892d60f7"
      },
      "source": [
        "flavor_list = [\"vanilla\", \"chocolate\", \"pecan\", \"strawberry\"]\n",
        "for flavor in flavor_list:\n",
        "  print(\"%s is delicious\" % flavor)"
      ],
      "execution_count": 5,
      "outputs": [
        {
          "output_type": "stream",
          "text": [
            "vanilla is delicious\n",
            "chocolate is delicious\n",
            "pecan is delicious\n",
            "strawberry is delicious\n"
          ],
          "name": "stdout"
        }
      ]
    },
    {
      "cell_type": "markdown",
      "metadata": {
        "id": "9ZnFYahGdfMT",
        "colab_type": "text"
      },
      "source": [
        "Thông thường, bạn muốn lặp qua một danh sách và bạn muốn biết được chỉ số (index) của phần tử hiện thời trong danh sách. Ví dụ, bạn muốn in ra xếp hạng của các món kem yêu thích của mình. Có một cách để làm điều này là sử dụng ```range```."
      ]
    },
    {
      "cell_type": "code",
      "metadata": {
        "id": "GsE7FvJcdd0p",
        "colab_type": "code",
        "colab": {
          "base_uri": "https://localhost:8080/",
          "height": 85
        },
        "outputId": "9ab06f3b-3662-4ca3-dc72-0b34743dddcc"
      },
      "source": [
        "for i in range(len(flavor_list)):\n",
        "  flavor = flavor_list[i]\n",
        "  print(\"%d: %s\" % (i+1, flavor))"
      ],
      "execution_count": 7,
      "outputs": [
        {
          "output_type": "stream",
          "text": [
            "1: vanilla\n",
            "2: chocolate\n",
            "3: pecan\n",
            "4: strawberry\n"
          ],
          "name": "stdout"
        }
      ]
    },
    {
      "cell_type": "markdown",
      "metadata": {
        "id": "2WjoV16oeM-0",
        "colab_type": "text"
      },
      "source": [
        "Đoạn mã trên nhìn không được gọn cho lắm, so với các vòng lặp được thực hiện trên ```flavor_list``` hay dùng ```range```. Bạn phải lấy ra kích thước của danh sách. Bạn phải dùng chỉ số để lấy ra phần tử. Điều này làm cho đoạn code khó đọc.\n"
      ]
    },
    {
      "cell_type": "markdown",
      "metadata": {
        "id": "WL7idFFGelan",
        "colab_type": "text"
      },
      "source": [
        "Python cung cấp một hàm có sẵn ```enumerate``` để giải quyết vấn đề này. ```enumerate``` bao bất cứ iterator nào với một generator. Generator này tạo ra các cặp chỉ số và giá trị từ iterator. Đoạn mã dưới đây nhìn sáng sủa hơn nhiều"
      ]
    },
    {
      "cell_type": "code",
      "metadata": {
        "id": "Eh3yIkeCeDsR",
        "colab_type": "code",
        "colab": {
          "base_uri": "https://localhost:8080/",
          "height": 85
        },
        "outputId": "74fd8878-b2e9-45b4-e1c8-1fd65d3ad282"
      },
      "source": [
        "for i, flavor in enumerate(flavor_list):\n",
        "  print(\"%d: %s\" % (i + 1, flavor))"
      ],
      "execution_count": 8,
      "outputs": [
        {
          "output_type": "stream",
          "text": [
            "1: vanilla\n",
            "2: chocolate\n",
            "3: pecan\n",
            "4: strawberry\n"
          ],
          "name": "stdout"
        }
      ]
    },
    {
      "cell_type": "markdown",
      "metadata": {
        "id": "KHQ-zoYIfJXP",
        "colab_type": "text"
      },
      "source": [
        "Bạn còn có thể làm cho đoạn code trên gọn hơn nữa khi chỉ định cho ```enumerate``` bắt đầu từ một giá trị nào đó (1 trong trường hợp dưới đây)"
      ]
    },
    {
      "cell_type": "code",
      "metadata": {
        "id": "Uf92ISRmfFW_",
        "colab_type": "code",
        "colab": {
          "base_uri": "https://localhost:8080/",
          "height": 85
        },
        "outputId": "8507980c-e86d-4ec2-aad8-f2b9e101a6c7"
      },
      "source": [
        "for i, flavor in enumerate(flavor_list, 1):\n",
        "  print(\"%d: %s\" % (i, flavor))"
      ],
      "execution_count": 11,
      "outputs": [
        {
          "output_type": "stream",
          "text": [
            "1: vanilla\n",
            "2: chocolate\n",
            "3: pecan\n",
            "4: strawberry\n"
          ],
          "name": "stdout"
        }
      ]
    },
    {
      "cell_type": "markdown",
      "metadata": {
        "id": "hBDjOci9fpGg",
        "colab_type": "text"
      },
      "source": [
        "### Nhứng điều cần nhớ\n",
        "\n",
        "\n",
        "*   \b```enumerate``` cung cấp một cú pháp tinh gọn giúp lặp qua một iterator và lấy ra chỉ số của mỗi phần tử tương ứng.\n",
        "*   Nên sử dụng ```enumerate``` thay vì lặp sử dụng ```range``` và dùng chỉ số để lấy phần tử.\n",
        "* Bạn có thể cung cấp một tham số thứ 2 chỉ định số bắt đầu được đếm cho chỉ số (mặc định là 0)\n",
        "\n"
      ]
    },
    {
      "cell_type": "markdown",
      "metadata": {
        "id": "lrNzEg04gnym",
        "colab_type": "text"
      },
      "source": [
        "## Sử dụng ```zip``` để xử lý các iterators song song\n",
        "\n",
        "Thông thường bạn làm việc với nhiều danh sách của các đối tượng liên quan. Sử dụng list comprehension cho phép ta nhận một danh sách nguồn và lấy về một danh sách đã qua xử lý. Như ví dụ dưới đây"
      ]
    },
    {
      "cell_type": "code",
      "metadata": {
        "id": "3XsHdMJMfmSD",
        "colab_type": "code",
        "colab": {}
      },
      "source": [
        "names = [\"Cecilia\", \"Lise\", \"Marie\"]\n",
        "letters = [len(n) for n in names]"
      ],
      "execution_count": 0,
      "outputs": []
    },
    {
      "cell_type": "markdown",
      "metadata": {
        "id": "EzKNY_y9hfyw",
        "colab_type": "text"
      },
      "source": [
        "Các phần tử trong danh sách mới có liên quan với các phần tử trong danh sách gốc thông qua các chỉ số của nó. Để lặp qua hai danh sách này song song, bạn có thể lặp qua chiều dài của danh sách gốc, lấy chiều dài của mỗi phần tử trong danh sách gốc thông qua danh sách mới với một chỉ số."
      ]
    },
    {
      "cell_type": "code",
      "metadata": {
        "id": "WOnq8Wxjhdgh",
        "colab_type": "code",
        "colab": {
          "base_uri": "https://localhost:8080/",
          "height": 34
        },
        "outputId": "5b98e521-61be-44db-d2b0-24533258a1da"
      },
      "source": [
        "longest_name = None\n",
        "max_letters = 0\n",
        "\n",
        "for i in range(len(names)):\n",
        "  count = letters[i]\n",
        "  if count > max_letters:\n",
        "    longest_name = names[i]\n",
        "    max_letters = count\n",
        "\n",
        "print(longest_name)"
      ],
      "execution_count": 13,
      "outputs": [
        {
          "output_type": "stream",
          "text": [
            "Cecilia\n"
          ],
          "name": "stdout"
        }
      ]
    },
    {
      "cell_type": "markdown",
      "metadata": {
        "id": "KfdWTRMXib0m",
        "colab_type": "text"
      },
      "source": [
        "Vấn đề ở đây đó là vòng lặp phía trên nhìn rối. Các chỉ số của ```names``` và ```letters``` làm cho code khó đọc. Ta dùng chỉ số ```i``` tới hai lần. Sử dụng ```enumerate``` có thể cải thiện vấn đề một chút, nhưng nó vẫn không phải là một giải pháp tốt."
      ]
    },
    {
      "cell_type": "code",
      "metadata": {
        "id": "61n2XnBqiGsi",
        "colab_type": "code",
        "colab": {}
      },
      "source": [
        "for i, name in enumerate(names):\n",
        "  count = letters[i]\n",
        "  if count > max_letters:\n",
        "    longest_name = name \n",
        "    max_letters = count"
      ],
      "execution_count": 0,
      "outputs": []
    },
    {
      "cell_type": "markdown",
      "metadata": {
        "id": "ApoENacUjGHK",
        "colab_type": "text"
      },
      "source": [
        "Để làm cho đoạn mã sáng sủa hơn, Python cung cấp hàm có sẵn ```zip```. Trong Python 3, ```zip``` bao hai hay nhiều iterators với một generator. ```zip``` sinh ra các tuples chứa giá trị tiếp theo từ mỗi iterator. Đoạn mã dưới đây nhìn gọn hơn rất nhiều so với việc dùng chỉ số với nhiều danh sách"
      ]
    },
    {
      "cell_type": "code",
      "metadata": {
        "id": "u0Hm1XyPjiw2",
        "colab_type": "code",
        "colab": {
          "base_uri": "https://localhost:8080/",
          "height": 34
        },
        "outputId": "aa2d6824-685c-4b16-85ae-17697139e86e"
      },
      "source": [
        "for name, count in zip(names, letters):\n",
        "  if count > max_letters:\n",
        "    longest_name = name\n",
        "    max_letters = count \n",
        "\n",
        "print(longest_name)"
      ],
      "execution_count": 15,
      "outputs": [
        {
          "output_type": "stream",
          "text": [
            "Cecilia\n"
          ],
          "name": "stdout"
        }
      ]
    },
    {
      "cell_type": "markdown",
      "metadata": {
        "id": "ohtsevNAjvxW",
        "colab_type": "text"
      },
      "source": [
        "Có hai vấn đề với hàm có sẵn ```zip```. Vấn đề đầu tiên đó là trong Python 2 ```zip``` không phải là một generator; nó sẽ chiếm hết các iterators được cung cấp và trả về một danh sách các tuples nó tạo. Điều này có thể làm cho nó sử dụng rất nhiều bộ nhớ và làm cho trương chình crash. Nếu bạn muốn ```zip``` các iterators rất lớn trong Python 2, bạn nên sử dụng ```izip``` từ module có sẵn ```itertools```  "
      ]
    },
    {
      "cell_type": "markdown",
      "metadata": {
        "id": "KZjw484HlGXB",
        "colab_type": "text"
      },
      "source": [
        "Vấn đề thứ hai đó là trong trường hợp các iterators đầu vào có chiều dài khác nhau ```zip``` cư xử một cách lạ lùng. Ví dụ, bạn thêm một tên khác vào danh sách phía trên nhưng quên cập nhật danh sách chứa kích số lượng các kí tự. Khi bạn chạy ```zip``` trên hai danh sách đầu vào này, kết quả sẽ không như mong đợi."
      ]
    },
    {
      "cell_type": "code",
      "metadata": {
        "id": "MY5Jhl3Djr81",
        "colab_type": "code",
        "colab": {
          "base_uri": "https://localhost:8080/",
          "height": 68
        },
        "outputId": "4d5eda2c-b138-4632-ab7d-013fc93b3716"
      },
      "source": [
        "names.append(\"Rosalind\")\n",
        "for name, count in zip(names, letters):\n",
        "  print(name)"
      ],
      "execution_count": 16,
      "outputs": [
        {
          "output_type": "stream",
          "text": [
            "Cecilia\n",
            "Lise\n",
            "Marie\n"
          ],
          "name": "stdout"
        }
      ]
    },
    {
      "cell_type": "markdown",
      "metadata": {
        "id": "oShaNTzHl1-b",
        "colab_type": "text"
      },
      "source": [
        "Phần tử mới thêm vào 'Rosalind' không được in ra. Đó là cách ```zip``` làm việc. Nó duy trì xuất ra các tuples cho đến khi iterator bên trong cạn kiệt. Cách tiếp cận này hoạt động tốt khi bạn biết rằng các iterators có cùng một chiều dài, điều thường thấy đối với các danh sách được tạo bởi list comprehensions. Trong nhiều trường hợp khác, cách cư xử thông qua việc cắt bớt các phần tử của ```zip``` gây ngạc nhiên và tệ. Nếu bạn không tự tin về chiều dài của các danh sách bạn muốn zip chúng, ví như không chắc rằng các danh sách này bằng nhau, hãy xem xét sử dụng hàm ```zip_longest``` từ thư viện ```itertools```"
      ]
    },
    {
      "cell_type": "code",
      "metadata": {
        "id": "5WpLCI5KlzK8",
        "colab_type": "code",
        "colab": {
          "base_uri": "https://localhost:8080/",
          "height": 119
        },
        "outputId": "2f1c52f2-5fe3-4b16-93ba-1825bedd3282"
      },
      "source": [
        "from itertools import zip_longest\n",
        "\n",
        "names.append(\"Rosalind\")\n",
        "for name, count in zip_longest(names, letters):\n",
        "  print(name, count)"
      ],
      "execution_count": 18,
      "outputs": [
        {
          "output_type": "stream",
          "text": [
            "Cecilia 7\n",
            "Lise 4\n",
            "Marie 5\n",
            "Rosalind None\n",
            "Rosalind None\n",
            "Rosalind None\n"
          ],
          "name": "stdout"
        }
      ]
    },
    {
      "cell_type": "markdown",
      "metadata": {
        "id": "SpIEleNGm8Qk",
        "colab_type": "text"
      },
      "source": [
        "Ở ví dụ trên ta thấy rằng các phần tử mới vẫn được in ra, nhưng nếu ta không cập nhật danh sách đếm số lượng kí tự thì giá trị đó sẽ là None. "
      ]
    },
    {
      "cell_type": "markdown",
      "metadata": {
        "id": "rcO19s8TnQnJ",
        "colab_type": "text"
      },
      "source": [
        "### Các thứ cần nhớ\n",
        "\n",
        "\n",
        "*   Hàm có sẵn ```zip``` có thể được sử dụng để lặp qua nhiều iterators song song.\n",
        "\n",
        "*   Trong Python 3, ```zip``` là một generator tạo ra các tuples. Trong Python 2, ```zip``` trả về một danh sách đầy đủ các tuples.\n",
        "\n",
        "* ```zip``` cắt bỏ kết quả một cách thầm lặng nếu bạn cung cấp các iterators với chiều dài khác nhau. \n",
        "\n",
        "* Hàm ```zip_longest``` từ module có sẵn ```itertools``` cho phép bạn lặp qua nhiều iterators khác nhau song song bất kể kích thước của chúng thế nào. \n",
        "\n"
      ]
    },
    {
      "cell_type": "code",
      "metadata": {
        "id": "UBCBYCqBm3GD",
        "colab_type": "code",
        "colab": {}
      },
      "source": [
        ""
      ],
      "execution_count": 0,
      "outputs": []
    }
  ]
}