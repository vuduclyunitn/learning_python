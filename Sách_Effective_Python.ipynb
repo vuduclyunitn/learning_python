{
  "nbformat": 4,
  "nbformat_minor": 0,
  "metadata": {
    "colab": {
      "name": "Sách Effective Python.ipynb",
      "provenance": [],
      "collapsed_sections": [],
      "include_colab_link": true
    },
    "kernelspec": {
      "name": "python3",
      "display_name": "Python 3"
    }
  },
  "cells": [
    {
      "cell_type": "markdown",
      "metadata": {
        "id": "view-in-github",
        "colab_type": "text"
      },
      "source": [
        "<a href=\"https://colab.research.google.com/github/vuduclyunitn/learning_python/blob/master/S%C3%A1ch_Effective_Python.ipynb\" target=\"_parent\"><img src=\"https://colab.research.google.com/assets/colab-badge.svg\" alt=\"Open In Colab\"/></a>"
      ]
    },
    {
      "cell_type": "code",
      "metadata": {
        "id": "0ub1wph_cYET",
        "colab_type": "code",
        "colab": {}
      },
      "source": [
        ""
      ],
      "execution_count": 0,
      "outputs": []
    },
    {
      "cell_type": "markdown",
      "metadata": {
        "id": "4gqVpYe6gVkh",
        "colab_type": "text"
      },
      "source": [
        "# Dịch từ sách Effective Python 59 specific ways to write better Python. Tác giả: Brett Slatkin"
      ]
    },
    {
      "cell_type": "markdown",
      "metadata": {
        "id": "us9tFZ-PcclL",
        "colab_type": "text"
      },
      "source": [
        "## Nên sử dụng ```enumerate``` thay vì ```range```\n",
        "\n",
        "Hàm có sẵn ```range``` hữu dụng cho các vòng lặp qua một tập hợp các số **nguyên**"
      ]
    },
    {
      "cell_type": "code",
      "metadata": {
        "id": "sq9qQq0AcxGq",
        "colab_type": "code",
        "colab": {
          "base_uri": "https://localhost:8080/",
          "height": 731
        },
        "outputId": "62d398eb-4af1-4f38-afea-169ab2c2b406"
      },
      "source": [
        "from random import randint\n",
        "random_bits = 0\n",
        "for i in range(64):\n",
        "  if randint(0, 1):\n",
        "    random_bits |= 1 << i\n",
        "    print(random_bits)"
      ],
      "execution_count": 4,
      "outputs": [
        {
          "output_type": "stream",
          "text": [
            "2\n",
            "6\n",
            "14\n",
            "30\n",
            "286\n",
            "798\n",
            "1822\n",
            "3870\n",
            "36638\n",
            "167710\n",
            "429854\n",
            "954142\n",
            "2002718\n",
            "4099870\n",
            "8294174\n",
            "25071390\n",
            "58625822\n",
            "192843550\n",
            "461279006\n",
            "998149918\n",
            "3145633566\n",
            "7440600862\n",
            "16030535454\n",
            "33210404638\n",
            "170649358110\n",
            "445527265054\n",
            "995283078942\n",
            "3194306334494\n",
            "11990399356702\n",
            "29582585401118\n",
            "64766957489950\n",
            "135135701667614\n",
            "416610678378270\n",
            "979560631799582\n",
            "2105460538642206\n",
            "11112659793383198\n",
            "29127058302865182\n",
            "317357434454576926\n",
            "1470278939061423902\n",
            "3776121948275117854\n",
            "8387807966702505758\n",
            "17611180003557281566\n"
          ],
          "name": "stdout"
        }
      ]
    },
    {
      "cell_type": "markdown",
      "metadata": {
        "id": "KktMUHjqeMAN",
        "colab_type": "text"
      },
      "source": [
        ""
      ]
    },
    {
      "cell_type": "markdown",
      "metadata": {
        "id": "dKCNXxu0c7jh",
        "colab_type": "text"
      },
      "source": [
        "Khi bạn cần lặp qua một cấu trúc dữ liệu như là danh sách của các chuỗi văn bản, bạn có thể lặp trực tiếp qua danh sách này."
      ]
    },
    {
      "cell_type": "code",
      "metadata": {
        "id": "1h8MRzUlc6T8",
        "colab_type": "code",
        "colab": {
          "base_uri": "https://localhost:8080/",
          "height": 85
        },
        "outputId": "cd9215f4-869c-46a4-ec3e-8b67892d60f7"
      },
      "source": [
        "flavor_list = [\"vanilla\", \"chocolate\", \"pecan\", \"strawberry\"]\n",
        "for flavor in flavor_list:\n",
        "  print(\"%s is delicious\" % flavor)"
      ],
      "execution_count": 5,
      "outputs": [
        {
          "output_type": "stream",
          "text": [
            "vanilla is delicious\n",
            "chocolate is delicious\n",
            "pecan is delicious\n",
            "strawberry is delicious\n"
          ],
          "name": "stdout"
        }
      ]
    },
    {
      "cell_type": "markdown",
      "metadata": {
        "id": "9ZnFYahGdfMT",
        "colab_type": "text"
      },
      "source": [
        "Thông thường, bạn muốn lặp qua một danh sách và bạn muốn biết được chỉ số (index) của phần tử hiện thời trong danh sách. Ví dụ, bạn muốn in ra xếp hạng của các món kem yêu thích của mình. Có một cách để làm điều này là sử dụng ```range```."
      ]
    },
    {
      "cell_type": "code",
      "metadata": {
        "id": "GsE7FvJcdd0p",
        "colab_type": "code",
        "colab": {
          "base_uri": "https://localhost:8080/",
          "height": 85
        },
        "outputId": "9ab06f3b-3662-4ca3-dc72-0b34743dddcc"
      },
      "source": [
        "for i in range(len(flavor_list)):\n",
        "  flavor = flavor_list[i]\n",
        "  print(\"%d: %s\" % (i+1, flavor))"
      ],
      "execution_count": 7,
      "outputs": [
        {
          "output_type": "stream",
          "text": [
            "1: vanilla\n",
            "2: chocolate\n",
            "3: pecan\n",
            "4: strawberry\n"
          ],
          "name": "stdout"
        }
      ]
    },
    {
      "cell_type": "markdown",
      "metadata": {
        "id": "2WjoV16oeM-0",
        "colab_type": "text"
      },
      "source": [
        "Đoạn mã trên nhìn không được gọn cho lắm, so với các vòng lặp được thực hiện trên ```flavor_list``` hay dùng ```range```. Bạn phải lấy ra kích thước của danh sách. Bạn phải dùng chỉ số để lấy ra phần tử. Điều này làm cho đoạn code khó đọc.\n"
      ]
    },
    {
      "cell_type": "markdown",
      "metadata": {
        "id": "WL7idFFGelan",
        "colab_type": "text"
      },
      "source": [
        "Python cung cấp một hàm có sẵn ```enumerate``` để giải quyết vấn đề này. ```enumerate``` bao bất cứ iterator nào với một generator. Generator này tạo ra các cặp chỉ số và giá trị từ iterator. Đoạn mã dưới đây nhìn sáng sủa hơn nhiều"
      ]
    },
    {
      "cell_type": "code",
      "metadata": {
        "id": "Eh3yIkeCeDsR",
        "colab_type": "code",
        "colab": {
          "base_uri": "https://localhost:8080/",
          "height": 85
        },
        "outputId": "74fd8878-b2e9-45b4-e1c8-1fd65d3ad282"
      },
      "source": [
        "for i, flavor in enumerate(flavor_list):\n",
        "  print(\"%d: %s\" % (i + 1, flavor))"
      ],
      "execution_count": 8,
      "outputs": [
        {
          "output_type": "stream",
          "text": [
            "1: vanilla\n",
            "2: chocolate\n",
            "3: pecan\n",
            "4: strawberry\n"
          ],
          "name": "stdout"
        }
      ]
    },
    {
      "cell_type": "markdown",
      "metadata": {
        "id": "KHQ-zoYIfJXP",
        "colab_type": "text"
      },
      "source": [
        "Bạn còn có thể làm cho đoạn code trên gọn hơn nữa khi chỉ định cho ```enumerate``` bắt đầu từ một giá trị nào đó (1 trong trường hợp dưới đây)"
      ]
    },
    {
      "cell_type": "code",
      "metadata": {
        "id": "Uf92ISRmfFW_",
        "colab_type": "code",
        "colab": {
          "base_uri": "https://localhost:8080/",
          "height": 85
        },
        "outputId": "8507980c-e86d-4ec2-aad8-f2b9e101a6c7"
      },
      "source": [
        "for i, flavor in enumerate(flavor_list, 1):\n",
        "  print(\"%d: %s\" % (i, flavor))"
      ],
      "execution_count": 11,
      "outputs": [
        {
          "output_type": "stream",
          "text": [
            "1: vanilla\n",
            "2: chocolate\n",
            "3: pecan\n",
            "4: strawberry\n"
          ],
          "name": "stdout"
        }
      ]
    },
    {
      "cell_type": "markdown",
      "metadata": {
        "id": "hBDjOci9fpGg",
        "colab_type": "text"
      },
      "source": [
        "### Nhứng điều cần nhớ\n",
        "\n",
        "\n",
        "*   \b```enumerate``` cung cấp một cú pháp tinh gọn giúp lặp qua một iterator và lấy ra chỉ số của mỗi phần tử tương ứng.\n",
        "*   Nên sử dụng ```enumerate``` thay vì lặp sử dụng ```range``` và dùng chỉ số để lấy phần tử.\n",
        "* Bạn có thể cung cấp một tham số thứ 2 chỉ định số bắt đầu được đếm cho chỉ số (mặc định là 0)\n",
        "\n"
      ]
    },
    {
      "cell_type": "markdown",
      "metadata": {
        "id": "lrNzEg04gnym",
        "colab_type": "text"
      },
      "source": [
        "## Sử dụng ```zip``` để xử lý các iterators song song\n",
        "\n",
        "Thông thường bạn làm việc với nhiều danh sách của các đối tượng liên quan. Sử dụng list comprehension cho phép ta nhận một danh sách nguồn và lấy về một danh sách đã qua xử lý. Như ví dụ dưới đây"
      ]
    },
    {
      "cell_type": "code",
      "metadata": {
        "id": "3XsHdMJMfmSD",
        "colab_type": "code",
        "colab": {}
      },
      "source": [
        "names = [\"Cecilia\", \"Lise\", \"Marie\"]\n",
        "letters = [len(n) for n in names]"
      ],
      "execution_count": 0,
      "outputs": []
    },
    {
      "cell_type": "markdown",
      "metadata": {
        "id": "EzKNY_y9hfyw",
        "colab_type": "text"
      },
      "source": [
        "Các phần tử trong danh sách mới có liên quan với các phần tử trong danh sách gốc thông qua các chỉ số của nó. Để lặp qua hai danh sách này song song, bạn có thể lặp qua chiều dài của danh sách gốc, lấy chiều dài của mỗi phần tử trong danh sách gốc thông qua danh sách mới với một chỉ số."
      ]
    },
    {
      "cell_type": "code",
      "metadata": {
        "id": "WOnq8Wxjhdgh",
        "colab_type": "code",
        "colab": {
          "base_uri": "https://localhost:8080/",
          "height": 34
        },
        "outputId": "5b98e521-61be-44db-d2b0-24533258a1da"
      },
      "source": [
        "longest_name = None\n",
        "max_letters = 0\n",
        "\n",
        "for i in range(len(names)):\n",
        "  count = letters[i]\n",
        "  if count > max_letters:\n",
        "    longest_name = names[i]\n",
        "    max_letters = count\n",
        "\n",
        "print(longest_name)"
      ],
      "execution_count": 13,
      "outputs": [
        {
          "output_type": "stream",
          "text": [
            "Cecilia\n"
          ],
          "name": "stdout"
        }
      ]
    },
    {
      "cell_type": "markdown",
      "metadata": {
        "id": "KfdWTRMXib0m",
        "colab_type": "text"
      },
      "source": [
        "Vấn đề ở đây đó là vòng lặp phía trên nhìn rối. Các chỉ số của ```names``` và ```letters``` làm cho code khó đọc. Ta dùng chỉ số ```i``` tới hai lần. Sử dụng ```enumerate``` có thể cải thiện vấn đề một chút, nhưng nó vẫn không phải là một giải pháp tốt."
      ]
    },
    {
      "cell_type": "code",
      "metadata": {
        "id": "61n2XnBqiGsi",
        "colab_type": "code",
        "colab": {}
      },
      "source": [
        "for i, name in enumerate(names):\n",
        "  count = letters[i]\n",
        "  if count > max_letters:\n",
        "    longest_name = name \n",
        "    max_letters = count"
      ],
      "execution_count": 0,
      "outputs": []
    },
    {
      "cell_type": "markdown",
      "metadata": {
        "id": "ApoENacUjGHK",
        "colab_type": "text"
      },
      "source": [
        "Để làm cho đoạn mã sáng sủa hơn, Python cung cấp hàm có sẵn ```zip```. Trong Python 3, ```zip``` bao hai hay nhiều iterators với một generator. ```zip``` sinh ra các tuples chứa giá trị tiếp theo từ mỗi iterator. Đoạn mã dưới đây nhìn gọn hơn rất nhiều so với việc dùng chỉ số với nhiều danh sách"
      ]
    },
    {
      "cell_type": "code",
      "metadata": {
        "id": "u0Hm1XyPjiw2",
        "colab_type": "code",
        "colab": {
          "base_uri": "https://localhost:8080/",
          "height": 34
        },
        "outputId": "aa2d6824-685c-4b16-85ae-17697139e86e"
      },
      "source": [
        "for name, count in zip(names, letters):\n",
        "  if count > max_letters:\n",
        "    longest_name = name\n",
        "    max_letters = count \n",
        "\n",
        "print(longest_name)"
      ],
      "execution_count": 15,
      "outputs": [
        {
          "output_type": "stream",
          "text": [
            "Cecilia\n"
          ],
          "name": "stdout"
        }
      ]
    },
    {
      "cell_type": "markdown",
      "metadata": {
        "id": "ohtsevNAjvxW",
        "colab_type": "text"
      },
      "source": [
        "Có hai vấn đề với hàm có sẵn ```zip```. Vấn đề đầu tiên đó là trong Python 2 ```zip``` không phải là một generator; nó sẽ chiếm hết các iterators được cung cấp và trả về một danh sách các tuples nó tạo. Điều này có thể làm cho nó sử dụng rất nhiều bộ nhớ và làm cho trương chình crash. Nếu bạn muốn ```zip``` các iterators rất lớn trong Python 2, bạn nên sử dụng ```izip``` từ module có sẵn ```itertools```  "
      ]
    },
    {
      "cell_type": "markdown",
      "metadata": {
        "id": "KZjw484HlGXB",
        "colab_type": "text"
      },
      "source": [
        "Vấn đề thứ hai đó là trong trường hợp các iterators đầu vào có chiều dài khác nhau ```zip``` cư xử một cách lạ lùng. Ví dụ, bạn thêm một tên khác vào danh sách phía trên nhưng quên cập nhật danh sách chứa kích số lượng các kí tự. Khi bạn chạy ```zip``` trên hai danh sách đầu vào này, kết quả sẽ không như mong đợi."
      ]
    },
    {
      "cell_type": "code",
      "metadata": {
        "id": "MY5Jhl3Djr81",
        "colab_type": "code",
        "colab": {
          "base_uri": "https://localhost:8080/",
          "height": 68
        },
        "outputId": "4d5eda2c-b138-4632-ab7d-013fc93b3716"
      },
      "source": [
        "names.append(\"Rosalind\")\n",
        "for name, count in zip(names, letters):\n",
        "  print(name)"
      ],
      "execution_count": 16,
      "outputs": [
        {
          "output_type": "stream",
          "text": [
            "Cecilia\n",
            "Lise\n",
            "Marie\n"
          ],
          "name": "stdout"
        }
      ]
    },
    {
      "cell_type": "markdown",
      "metadata": {
        "id": "oShaNTzHl1-b",
        "colab_type": "text"
      },
      "source": [
        "Phần tử mới thêm vào 'Rosalind' không được in ra. Đó là cách ```zip``` làm việc. Nó duy trì xuất ra các tuples cho đến khi iterator bên trong cạn kiệt. Cách tiếp cận này hoạt động tốt khi bạn biết rằng các iterators có cùng một chiều dài, điều thường thấy đối với các danh sách được tạo bởi list comprehensions. Trong nhiều trường hợp khác, cách cư xử thông qua việc cắt bớt các phần tử của ```zip``` gây ngạc nhiên và tệ. Nếu bạn không tự tin về chiều dài của các danh sách bạn muốn zip chúng, ví như không chắc rằng các danh sách này bằng nhau, hãy xem xét sử dụng hàm ```zip_longest``` từ thư viện ```itertools```"
      ]
    },
    {
      "cell_type": "code",
      "metadata": {
        "id": "5WpLCI5KlzK8",
        "colab_type": "code",
        "colab": {
          "base_uri": "https://localhost:8080/",
          "height": 119
        },
        "outputId": "2f1c52f2-5fe3-4b16-93ba-1825bedd3282"
      },
      "source": [
        "from itertools import zip_longest\n",
        "\n",
        "names.append(\"Rosalind\")\n",
        "for name, count in zip_longest(names, letters):\n",
        "  print(name, count)"
      ],
      "execution_count": 18,
      "outputs": [
        {
          "output_type": "stream",
          "text": [
            "Cecilia 7\n",
            "Lise 4\n",
            "Marie 5\n",
            "Rosalind None\n",
            "Rosalind None\n",
            "Rosalind None\n"
          ],
          "name": "stdout"
        }
      ]
    },
    {
      "cell_type": "markdown",
      "metadata": {
        "id": "SpIEleNGm8Qk",
        "colab_type": "text"
      },
      "source": [
        "Ở ví dụ trên ta thấy rằng các phần tử mới vẫn được in ra, nhưng nếu ta không cập nhật danh sách đếm số lượng kí tự thì giá trị đó sẽ là None. "
      ]
    },
    {
      "cell_type": "markdown",
      "metadata": {
        "id": "rcO19s8TnQnJ",
        "colab_type": "text"
      },
      "source": [
        "### Các thứ cần nhớ\n",
        "\n",
        "\n",
        "*   Hàm có sẵn ```zip``` có thể được sử dụng để lặp qua nhiều iterators song song.\n",
        "\n",
        "*   Trong Python 3, ```zip``` là một generator tạo ra các tuples. Trong Python 2, ```zip``` trả về một danh sách đầy đủ các tuples.\n",
        "\n",
        "* ```zip``` cắt bỏ kết quả một cách thầm lặng nếu bạn cung cấp các iterators với chiều dài khác nhau. \n",
        "\n",
        "* Hàm ```zip_longest``` từ module có sẵn ```itertools``` cho phép bạn lặp qua nhiều iterators khác nhau song song bất kể kích thước của chúng thế nào. \n",
        "\n"
      ]
    },
    {
      "cell_type": "markdown",
      "metadata": {
        "id": "AFofIX4zofY9",
        "colab_type": "text"
      },
      "source": [
        "## Biết cách cắt các sequences\n",
        "\n",
        "Python có các cú pháp cho việc cắt các sequences thành các mảnh. Việc cắt này giúp bạn truy cập vào một phần nhỏ các phần tử của sequence với một nỗ lực nhỏ. Cách sử dụng đơn giản nhất là đối với các kiểu có sẵn như là ```list```, ```str```, và ```bytes```. Phép cắt này có thể được mở rộng cho bất cứ lớp Python nào triển khai các phương thức đặc biệt ```__getitem__``` và ```__setitem__```. \n",
        "\n",
        "Dạng đơn giản nhất của cú pháp cắt là ```somelist[start:end]```, ở đó ```start``` được bao gồm và ```end``` được trừ ra. Ví dụ:"
      ]
    },
    {
      "cell_type": "code",
      "metadata": {
        "id": "UBCBYCqBm3GD",
        "colab_type": "code",
        "colab": {
          "base_uri": "https://localhost:8080/",
          "height": 68
        },
        "outputId": "1513d10c-d4a2-4a5c-bc5e-faf296522889"
      },
      "source": [
        "a = ['a', 'b', 'c', 'd', 'e', 'f', 'g', 'h']\n",
        "print('First four: ', a[:4])\n",
        "print('Last four: ', a[-4:])\n",
        "print('Middle two: ', a[3:-3])"
      ],
      "execution_count": 19,
      "outputs": [
        {
          "output_type": "stream",
          "text": [
            "First four:  ['a', 'b', 'c', 'd']\n",
            "Last four:  ['e', 'f', 'g', 'h']\n",
            "Middle two:  ['d', 'e']\n"
          ],
          "name": "stdout"
        }
      ]
    },
    {
      "cell_type": "markdown",
      "metadata": {
        "id": "9GHF7kd4p5Po",
        "colab_type": "text"
      },
      "source": [
        "Khi cắt từ đầu của một danh sách, bạn nên bỏ đi chỉ số 0 ban đầu để cho code nhìn sáng sủa hơn. Hai cách viết đều mang lại kết quả như nhau."
      ]
    },
    {
      "cell_type": "code",
      "metadata": {
        "id": "nTng6LZvp3Nt",
        "colab_type": "code",
        "colab": {}
      },
      "source": [
        "assert a[:5] == a[0:5]"
      ],
      "execution_count": 0,
      "outputs": []
    },
    {
      "cell_type": "markdown",
      "metadata": {
        "id": "y8MRKEjvqVLx",
        "colab_type": "text"
      },
      "source": [
        "Khi cắt từ cuối danh sách, bạn nên bỏ đi chỉ số cuối bởi vì nó dư thừa"
      ]
    },
    {
      "cell_type": "code",
      "metadata": {
        "id": "F5jIYpd6qMi8",
        "colab_type": "code",
        "colab": {}
      },
      "source": [
        "assert a[5:] == a[5:len(a)]"
      ],
      "execution_count": 0,
      "outputs": []
    },
    {
      "cell_type": "markdown",
      "metadata": {
        "id": "UZJZ8G-Aqkyt",
        "colab_type": "text"
      },
      "source": [
        "Sử dụng các số âm cho việc cắt trở nên hữu ích cho  các chỉ số tương đối với cuối của một danh sách. Tất cả các dạng cắt này trở nên rõ ràng với một người mới đọc mã của bạn. "
      ]
    },
    {
      "cell_type": "code",
      "metadata": {
        "id": "6stYkJGTqiYg",
        "colab_type": "code",
        "colab": {
          "base_uri": "https://localhost:8080/",
          "height": 34
        },
        "outputId": "b292a539-960f-46fc-a674-05e127ab555e"
      },
      "source": [
        "a[:]"
      ],
      "execution_count": 22,
      "outputs": [
        {
          "output_type": "execute_result",
          "data": {
            "text/plain": [
              "['a', 'b', 'c', 'd', 'e', 'f', 'g', 'h']"
            ]
          },
          "metadata": {
            "tags": []
          },
          "execution_count": 22
        }
      ]
    },
    {
      "cell_type": "code",
      "metadata": {
        "id": "KgrHURhMq5tG",
        "colab_type": "code",
        "colab": {
          "base_uri": "https://localhost:8080/",
          "height": 34
        },
        "outputId": "e7fcd7f6-3934-4dc9-9696-ef23d465b5ed"
      },
      "source": [
        "a[:5]"
      ],
      "execution_count": 23,
      "outputs": [
        {
          "output_type": "execute_result",
          "data": {
            "text/plain": [
              "['a', 'b', 'c', 'd', 'e']"
            ]
          },
          "metadata": {
            "tags": []
          },
          "execution_count": 23
        }
      ]
    },
    {
      "cell_type": "code",
      "metadata": {
        "id": "OawJreSDq7GV",
        "colab_type": "code",
        "colab": {
          "base_uri": "https://localhost:8080/",
          "height": 34
        },
        "outputId": "b33a2d54-cc6d-48fe-c4e2-f5cb7cdd6801"
      },
      "source": [
        "a[:-1]"
      ],
      "execution_count": 24,
      "outputs": [
        {
          "output_type": "execute_result",
          "data": {
            "text/plain": [
              "['a', 'b', 'c', 'd', 'e', 'f', 'g']"
            ]
          },
          "metadata": {
            "tags": []
          },
          "execution_count": 24
        }
      ]
    },
    {
      "cell_type": "code",
      "metadata": {
        "id": "-6esFbP6q-mv",
        "colab_type": "code",
        "colab": {
          "base_uri": "https://localhost:8080/",
          "height": 34
        },
        "outputId": "4624c699-0c79-46cc-849d-027aac923799"
      },
      "source": [
        "a[:-2]"
      ],
      "execution_count": 26,
      "outputs": [
        {
          "output_type": "execute_result",
          "data": {
            "text/plain": [
              "['a', 'b', 'c', 'd', 'e', 'f']"
            ]
          },
          "metadata": {
            "tags": []
          },
          "execution_count": 26
        }
      ]
    },
    {
      "cell_type": "markdown",
      "metadata": {
        "id": "71BLgKNX94wM",
        "colab_type": "text"
      },
      "source": [
        "Kĩ thuật cắt sử dụng các chỉ số ```start``` và ```end``` để kiểm soát truy cập các phần tử trong danh sách. Truy cập các phần tử có chỉ số nằm ngoài biên giới danh sách sẽ tạo ra lỗi."
      ]
    },
    {
      "cell_type": "code",
      "metadata": {
        "id": "zKpehy31rAyd",
        "colab_type": "code",
        "colab": {
          "base_uri": "https://localhost:8080/",
          "height": 184
        },
        "outputId": "525006be-3e56-488e-9f61-ad4f89879819"
      },
      "source": [
        "a[20]"
      ],
      "execution_count": 27,
      "outputs": [
        {
          "output_type": "error",
          "ename": "IndexError",
          "evalue": "ignored",
          "traceback": [
            "\u001b[0;31m---------------------------------------------------------------------------\u001b[0m",
            "\u001b[0;31mIndexError\u001b[0m                                Traceback (most recent call last)",
            "\u001b[0;32m<ipython-input-27-2ba6acdce15e>\u001b[0m in \u001b[0;36m<module>\u001b[0;34m()\u001b[0m\n\u001b[0;32m----> 1\u001b[0;31m \u001b[0ma\u001b[0m\u001b[0;34m[\u001b[0m\u001b[0;36m20\u001b[0m\u001b[0;34m]\u001b[0m\u001b[0;34m\u001b[0m\u001b[0;34m\u001b[0m\u001b[0m\n\u001b[0m",
            "\u001b[0;31mIndexError\u001b[0m: list index out of range"
          ]
        }
      ]
    },
    {
      "cell_type": "markdown",
      "metadata": {
        "id": "-rOTvYIE-iij",
        "colab_type": "text"
      },
      "source": [
        "**Chú ý** Nên biết rằng try cập vào danh sách sử dụng một chỉ số âm là một trong số các trường hợp gây ra các kết quả ngạc nhiên từ phép cắt. Ví dụ, ```somelist[-n:]``` sẽ hoạt động tốt khi ```n``` lớn hơn một (ví dụ, ```somelist[-3:]```). Tuy nhiên, khi ```n``` bằng 0, thì ```somelist[-0:]``` sẽ trả lại một bản sao của danh sách ban đầu. Danh sách sao này trỏ tới danh sách ban đầu. Thay đổi kết quả phép cắt sẽ không ảnh hưởng tới danh sách ban đầu. "
      ]
    },
    {
      "cell_type": "markdown",
      "metadata": {
        "id": "retzo8gs_Vuh",
        "colab_type": "text"
      },
      "source": [
        ""
      ]
    },
    {
      "cell_type": "code",
      "metadata": {
        "id": "JBbKBAhp_UHt",
        "colab_type": "code",
        "colab": {}
      },
      "source": [
        "b = a[-0:]"
      ],
      "execution_count": 0,
      "outputs": []
    },
    {
      "cell_type": "code",
      "metadata": {
        "id": "qe2UtFQm-hnA",
        "colab_type": "code",
        "colab": {
          "base_uri": "https://localhost:8080/",
          "height": 34
        },
        "outputId": "a7c9e278-0a76-405d-b42f-35d167c8ff4e"
      },
      "source": [
        "b"
      ],
      "execution_count": 29,
      "outputs": [
        {
          "output_type": "execute_result",
          "data": {
            "text/plain": [
              "['a', 'b', 'c', 'd', 'e', 'f', 'g', 'h']"
            ]
          },
          "metadata": {
            "tags": []
          },
          "execution_count": 29
        }
      ]
    },
    {
      "cell_type": "code",
      "metadata": {
        "id": "UGBjJNJ0_tPc",
        "colab_type": "code",
        "colab": {}
      },
      "source": [
        "b.append(\"i\")"
      ],
      "execution_count": 0,
      "outputs": []
    },
    {
      "cell_type": "code",
      "metadata": {
        "id": "X06v88PB_vij",
        "colab_type": "code",
        "colab": {
          "base_uri": "https://localhost:8080/",
          "height": 34
        },
        "outputId": "109640a2-ed3c-47be-cfde-7f3ec1ef8661"
      },
      "source": [
        "b"
      ],
      "execution_count": 31,
      "outputs": [
        {
          "output_type": "execute_result",
          "data": {
            "text/plain": [
              "['a', 'b', 'c', 'd', 'e', 'f', 'g', 'h', 'i']"
            ]
          },
          "metadata": {
            "tags": []
          },
          "execution_count": 31
        }
      ]
    },
    {
      "cell_type": "code",
      "metadata": {
        "id": "vZlGL_gh_wKr",
        "colab_type": "code",
        "colab": {
          "base_uri": "https://localhost:8080/",
          "height": 34
        },
        "outputId": "c488cad0-37bd-4abf-b97c-0c0a8144303b"
      },
      "source": [
        "a"
      ],
      "execution_count": 32,
      "outputs": [
        {
          "output_type": "execute_result",
          "data": {
            "text/plain": [
              "['a', 'b', 'c', 'd', 'e', 'f', 'g', 'h']"
            ]
          },
          "metadata": {
            "tags": []
          },
          "execution_count": 32
        }
      ]
    },
    {
      "cell_type": "code",
      "metadata": {
        "id": "K16hguOq_w3F",
        "colab_type": "code",
        "colab": {
          "base_uri": "https://localhost:8080/",
          "height": 68
        },
        "outputId": "c5aaec36-d91b-4781-84ea-2efca8ea9bc3"
      },
      "source": [
        "c = a[4:]\n",
        "print(\"Before: \", b)\n",
        "c[1] = 99\n",
        "print(\"After: \", b)\n",
        "print(\"No change: \", a)"
      ],
      "execution_count": 33,
      "outputs": [
        {
          "output_type": "stream",
          "text": [
            "Before:  ['a', 'b', 'c', 'd', 'e', 'f', 'g', 'h', 'i']\n",
            "After:  ['a', 'b', 'c', 'd', 'e', 'f', 'g', 'h', 'i']\n",
            "No change:  ['a', 'b', 'c', 'd', 'e', 'f', 'g', 'h']\n"
          ],
          "name": "stdout"
        }
      ]
    },
    {
      "cell_type": "markdown",
      "metadata": {
        "id": "bixjAnJpAEwp",
        "colab_type": "text"
      },
      "source": [
        "Khi được sử dụng trong các phép gán, các lát cắt sẽ thay thế dải được chỉ định trong danh sách ban đầu. Không \n",
        "\n",
        " như các phép gán tuple (như là ```a, b = c[:2]```), chiều dài của các phép gán không nhất thiết phải giống nhau. Các giá trị trước và sau lát cắt được gán sẽ được bảo tồn. Danh sách sẽ phình ra hay co lại để chứa các giá trị mới."
      ]
    },
    {
      "cell_type": "code",
      "metadata": {
        "id": "S-scDNys__s5",
        "colab_type": "code",
        "colab": {
          "base_uri": "https://localhost:8080/",
          "height": 51
        },
        "outputId": "e6539b53-4c27-4e01-a78e-0774f2b3898e"
      },
      "source": [
        "print('Before ', a)\n",
        "a[2:7] = [99, 22, 14]\n",
        "print('After ', a)"
      ],
      "execution_count": 34,
      "outputs": [
        {
          "output_type": "stream",
          "text": [
            "Before  ['a', 'b', 'c', 'd', 'e', 'f', 'g', 'h']\n",
            "After  ['a', 'b', 99, 22, 14, 'h']\n"
          ],
          "name": "stdout"
        }
      ]
    },
    {
      "cell_type": "code",
      "metadata": {
        "id": "qvzYyWa2CKzi",
        "colab_type": "code",
        "colab": {
          "base_uri": "https://localhost:8080/",
          "height": 51
        },
        "outputId": "a18cac05-21ce-4355-ed13-52e5a54022ea"
      },
      "source": [
        "print('Before ', a)\n",
        "a[2:4] = [1, 2, 3]\n",
        "print('After ', a)"
      ],
      "execution_count": 36,
      "outputs": [
        {
          "output_type": "stream",
          "text": [
            "Before  ['a', 'b', 99, 22, 14, 'h']\n",
            "After  ['a', 'b', 1, 2, 3, 14, 'h']\n"
          ],
          "name": "stdout"
        }
      ]
    },
    {
      "cell_type": "markdown",
      "metadata": {
        "id": "keSSBulZC4y7",
        "colab_type": "text"
      },
      "source": [
        "Nếu bạn để cả các chỉ số bắt đầu và kết thúc trống khi cắt, bạn sẽ có được một bản sao của danh sách ban đầu."
      ]
    },
    {
      "cell_type": "code",
      "metadata": {
        "id": "zZOEWiCTCNDz",
        "colab_type": "code",
        "colab": {}
      },
      "source": [
        "b = a[:]\n",
        "assert b == a and b is not a"
      ],
      "execution_count": 0,
      "outputs": []
    },
    {
      "cell_type": "markdown",
      "metadata": {
        "id": "OtMJ3XANDKzl",
        "colab_type": "text"
      },
      "source": [
        "Nếu bạn gán một lát cắt không có chỉ số bắt đầu và kết thúc, bạn sẽ thay thế toàn bộ nội dung của nó với một bản sao mà lát cắt đó tham chiếu tới (thay vì cấp phát một danh sách mới)"
      ]
    },
    {
      "cell_type": "code",
      "metadata": {
        "id": "RrYRf0v1DE-r",
        "colab_type": "code",
        "colab": {}
      },
      "source": [
        ""
      ],
      "execution_count": 0,
      "outputs": []
    },
    {
      "cell_type": "code",
      "metadata": {
        "id": "iVfLwrYEDakt",
        "colab_type": "code",
        "colab": {
          "base_uri": "https://localhost:8080/",
          "height": 51
        },
        "outputId": "0f1376cd-de4b-423f-a7bf-c317b2f3a4f2"
      },
      "source": [
        "b = a\n",
        "print('Before', a)\n",
        "a[:] = [4, 5, 6]\n",
        "assert a is b\n",
        "print('After', a)"
      ],
      "execution_count": 41,
      "outputs": [
        {
          "output_type": "stream",
          "text": [
            "Before [101, 102, 103]\n",
            "After [4, 5, 6]\n"
          ],
          "name": "stdout"
        }
      ]
    },
    {
      "cell_type": "markdown",
      "metadata": {
        "id": "tmk9jDt_D84_",
        "colab_type": "text"
      },
      "source": [
        "### Những thứ cần nhớ\n",
        "\n",
        "\n",
        "*   Tránh quá chi tiết: đừng sử dụng 0 như là chỉ số bắt đầu hoặc độ dài của sequence cho chỉ số kết thúc\n",
        "*   Phép cắt cho phép ta dễ dàng biểu diễn các phạm vi trước và sau của một sequence (như là ```a[:20]``` hay ```a[-20:]```)\n",
        "* Gán cho một dải trong một sequence một dải giá trị khác sẽ thay thế dải đó trong danh sách ban đầu với dải cung cấp ngay cả khi kích thước của các dải khác nhau.\n",
        "\n"
      ]
    },
    {
      "cell_type": "markdown",
      "metadata": {
        "id": "AaW_jVLhISg_",
        "colab_type": "text"
      },
      "source": [
        "## Tận dụng lợi thế của mỗi khối try/except/else/finally\n",
        "\n",
        "Khi lập trình đôi lúc bạn muốn xử lý các ngoại lệ xảy ra. Các ngoại lệ này được bắt lại trong các khối ```try```, ```except```, ```else```, và ```finally```. Mỗi khối đảm nhiệm mỗi nhiệm vụ riêng biệt, và có những sự kết hợp giữa các khối này trở nên hữu dụng."
      ]
    },
    {
      "cell_type": "markdown",
      "metadata": {
        "id": "Bq8btT2TIx7Q",
        "colab_type": "text"
      },
      "source": [
        "### Khối Finally\n",
        "Sử dụng ```try/finally``` khi bạn muốn các ngoại lệ được truyền rộng rãi đi, nhưng bạn cũng muốn chạy các mã dọn dẹp (cleanup code) ngay cả khi các ngoại lệ xảy ra. Một ứng dụng phổ biến của ```try/finally``` đó là đóng các file handles."
      ]
    },
    {
      "cell_type": "code",
      "metadata": {
        "id": "_MTIKD6GDgf8",
        "colab_type": "code",
        "colab": {}
      },
      "source": [
        "handle = open('random_data.txt') # Có thể gây ra ngoại lệ IOError\n",
        "try:\n",
        "  data = handle.read() # Có thể gây ra ngoại lệ UnicodeDecodeError\n",
        "finally:\n",
        "  handle.close()"
      ],
      "execution_count": 0,
      "outputs": []
    },
    {
      "cell_type": "markdown",
      "metadata": {
        "id": "j2IN-1N3KlXk",
        "colab_type": "text"
      },
      "source": [
        "Bất cứ ngoại lệ nào được gây ra bởi phương thức ```read``` sẽ được lan tới code gọi phương thức đó (calling code), phương thức ```close``` của handle được đảm bảo chạy trong khối ```finally```. Bạn phải gọi ```open``` trước khối ```try``` bởi vì các ngoại lệ thường xảy ra khi mở file (như ```IOError``` nếu file không tồn tại) nên bỏ qua khối ```finally```."
      ]
    },
    {
      "cell_type": "markdown",
      "metadata": {
        "id": "UpY-lD99Ls79",
        "colab_type": "text"
      },
      "source": [
        "### Khối Else\n",
        "\n",
        "Sử dụng ```try/except/else``` để làm cho rõ ràng ngoại lệ nào sẽ được xử lý bởi code của bạn và ngoại lệ nào sẽ lan truyền đi. Khi khối ```try``` không khởi lên một ngoại lệ, khối ```else``` sẽ chạy. Khối ```else``` giúp bạn tối thiểu hoá lượng code trong khối ```try``` và làm cho code dễ đọc hơn. Ví dụ, bạn muốn nạp (load) dữ liệu từ diển JSON và trả về giá trị của một key dựa trên một string được cung cấp. Nhìn vào ví dụ sau:"
      ]
    },
    {
      "cell_type": "code",
      "metadata": {
        "id": "VjPfWm7HKZks",
        "colab_type": "code",
        "colab": {}
      },
      "source": [
        "def load_json_key(data, key):\n",
        "  try:\n",
        "    result_dict = json.loads(data) # Có thể tạo ra ValueError\n",
        "  except ValueError as e:\n",
        "    raise KeyError from e \n",
        "  else:\n",
        "    return result_dict[key] # Có thể tạo ra KeyError"
      ],
      "execution_count": 0,
      "outputs": []
    },
    {
      "cell_type": "markdown",
      "metadata": {
        "id": "4rc98aGENR1p",
        "colab_type": "text"
      },
      "source": [
        "Nếu dữ liệu không phải là JSON hợp lệ, khi đó giải mã sử dụng ```json.loads``` sẽ tạo ra một ```ValueError```. Ngoại lệ này được bắt bởi khối ```except``` và được \bxử lý ở đó. Nếu việc giải mã thành công, khi đó chìa khoá được yêu cầu sẽ được trả về trong khối ```else```. Nếu việc dò chìa khoá tạo ra bất cứ ngoại lệ nào, chúng sẽ lan truyền tới code gọi bởi vì chúng nằm bên ngoài khối ```try```. Khối ```else``` đảm bảo rằng những gì đi theo sau ```try/except``` được tách biệt rõ ràng khỏi khối ```except```. Điều này làm cho việc lan toả ngoại lệ trở nên rõ ràng hơn. "
      ]
    },
    {
      "cell_type": "markdown",
      "metadata": {
        "id": "SyXH9nBwOOaZ",
        "colab_type": "text"
      },
      "source": [
        "### Mọi thứ cùng với nhau \n",
        "\n",
        "Sử dụng ```try/except/else/finally``` khi bạn muốn làm tất cả trong cùng một câu tổng hợp. Ví dụ, bạn muốn đọc mô tả công việc cần làm từ một file, xử lý nó, và sau đó cập nhật file này. Ở đây, khối ```try``` được sử dụng để đọc file và xử lý nó. Khối ```except``` được sử dụng để xử lý các ngoại lệ được mong đợi từ khối ```try```. Khối ```else``` được sử dụng để cập nhật file và cho phép các ngoại lệ liên quan được lan toả. Khối ```finally``` dọn dẹp file handle"
      ]
    },
    {
      "cell_type": "code",
      "metadata": {
        "id": "9h7328uKNQzW",
        "colab_type": "code",
        "colab": {}
      },
      "source": [
        "UNDEFINED = object()\n",
        "\n",
        "def divide_json(path):\n",
        "  handle = open(path, 'r+') # Có thể tạo ra lỗi IOError\n",
        "  try:\n",
        "    data = handle.read() # Có thể tạo ra lỗi UnicodeDecodeError \n",
        "    op = json.loads(data) # Có thể tạo ra lỗi ValueError \n",
        "    value = (op[\"numerator\"] / op[\"denominator\"])\n",
        "  except ZeroDivisionError as e:\n",
        "    return UNDEFINED\n",
        "  else:\n",
        "    op['result'] = value \n",
        "    result = json.dumps(op)\n",
        "    handle.seek(0)\n",
        "    handle.write(result) # Có thể tạo ra lỗi IOError \n",
        "    return value \n",
        "  finally:\n",
        "    handle.close() # Luôn luôn chạy "
      ],
      "execution_count": 0,
      "outputs": []
    },
    {
      "cell_type": "markdown",
      "metadata": {
        "id": "gDqJFtBvQFqr",
        "colab_type": "text"
      },
      "source": [
        "Cấu trúc trên đặc biệt hữu dụng bởi vì tất cả các khối cùng làm việc với nhau một cách hợp lý. Ví dụ, nếu một ngoại lệ xảy ra trong khối ```else``` trong khi ghi lại dữ liệu kết quả, khối ```finally``` sẽ vẫn chạy và đóng file handle."
      ]
    },
    {
      "cell_type": "markdown",
      "metadata": {
        "id": "0dbcpaLpQdX6",
        "colab_type": "text"
      },
      "source": [
        "### Những điều cần nhớ.\n",
        "\n",
        "\n",
        "*   Sử dụng ```try/finally``` giúp bạn chạy các khối code dọn dẹp bất kể các ngoại lệ xảy ra trong khối ```try```\n",
        "*   Khối ```else``` giúp bạn tối thiểu hoá lượng code trong các khối ```try``` và tách biệt trường hợp thành công từ các khối ```try/except```. \n",
        "* Khối ```else``` có thể được sử dụng để thực hiện các hành động bổ sung sau một khối ```try``` thành công nhưng trước khối ```finally``` được sử dụng để dọn dẹp.\n",
        "\n"
      ]
    },
    {
      "cell_type": "markdown",
      "metadata": {
        "id": "0Wmfn_K6fFeG",
        "colab_type": "text"
      },
      "source": [
        "## Nên dùng các ngoại lệ thay vì trả về None\n",
        "\n",
        "Khi viết các hàm tiện ích (utility functions), các lập trình viên thường đứng trước một lựa chọn cho việc trả về giá trị ```None``` có mang một ý nghĩa gì hay không trong một số trường hợp. Ví dụ, bạn muốn một hàm trợ giúp (helper function) cho việc chia một số cho một số khác. Trong trường hợp chia cho số 0, trả lại ```None``` dường như tự nhiên bởi vì kết quả chưa được định nghĩa."
      ]
    },
    {
      "cell_type": "code",
      "metadata": {
        "id": "YWG-B80DQcir",
        "colab_type": "code",
        "colab": {}
      },
      "source": [
        "def divide(a, b):\n",
        "  try:\n",
        "    return a/b\n",
        "  except ZeroDivisionError:\n",
        "    return None"
      ],
      "execution_count": 0,
      "outputs": []
    },
    {
      "cell_type": "markdown",
      "metadata": {
        "id": "UIfNhaAJycMv",
        "colab_type": "text"
      },
      "source": [
        "Cod sử dụng hàm này có thể diễn giải kết quả trả về tương ứng."
      ]
    },
    {
      "cell_type": "code",
      "metadata": {
        "id": "7rVWKXsuyaC3",
        "colab_type": "code",
        "colab": {
          "base_uri": "https://localhost:8080/",
          "height": 34
        },
        "outputId": "98925906-072a-426b-bb24-0c64bca39215"
      },
      "source": [
        "result = divide(3, 0)\n",
        "if result is None:\n",
        "  print(\"Invalid inputs\")"
      ],
      "execution_count": 47,
      "outputs": [
        {
          "output_type": "stream",
          "text": [
            "Invalid inputs\n"
          ],
          "name": "stdout"
        }
      ]
    },
    {
      "cell_type": "markdown",
      "metadata": {
        "id": "PTXrNZwRyskp",
        "colab_type": "text"
      },
      "source": [
        "Điều gì xảy ra khi số được chia hay tử số bằng 0? Thực hiện phép chia này sẽ tạo ra kết quả bằng 0 (nếu số bị chia hay mẫu số khác 0). Điều này có thể tạo ra các vấn đề khi bạn đánh giá kết quả trong một điều kiện như là câu lệnh ```if```. Bạn có thể tìm \bkiếm các giá trị ```False``` khi bạn nhắc tới các lỗi thay vì ```None```. "
      ]
    },
    {
      "cell_type": "code",
      "metadata": {
        "id": "v7hwQUv-ynf0",
        "colab_type": "code",
        "colab": {
          "base_uri": "https://localhost:8080/",
          "height": 34
        },
        "outputId": "e89d6ce4-793a-4a53-b5f8-04bd56e01569"
      },
      "source": [
        "x, y= 0, 5\n",
        "result = divide(x, y)\n",
        "\n",
        "if not result:\n",
        "  print(\"Invalid inputs\") # Điều này sai"
      ],
      "execution_count": 48,
      "outputs": [
        {
          "output_type": "stream",
          "text": [
            "Invalid inputs\n"
          ],
          "name": "stdout"
        }
      ]
    },
    {
      "cell_type": "markdown",
      "metadata": {
        "id": "TM0EuyQLzeYz",
        "colab_type": "text"
      },
      "source": [
        "Đây là một lỗi phổ biến khi ```None``` có ý nghĩa đặc biệt. Đó là lý do tại sao trả về ```None``` từ một hàm dễ sai. Có hai cách để giảm đi các lỗi như vậy.\n",
        "\n",
        "Cách đầu tiên là chia giá trị trả về thành một một tuple có hai phần tử. Phần đầu tiên của tuple chỉ ra rằng phép tính thành công hay thất bại. Phần thứ hai là kết quả thực sự được tính toán\n",
        "\n"
      ]
    },
    {
      "cell_type": "code",
      "metadata": {
        "id": "QeQpzxGZzbCB",
        "colab_type": "code",
        "colab": {}
      },
      "source": [
        "def divide(a, b):\n",
        "  try:\n",
        "    return True, a/b\n",
        "  except ZeroDivisionError:\n",
        "    return False, None"
      ],
      "execution_count": 0,
      "outputs": []
    },
    {
      "cell_type": "markdown",
      "metadata": {
        "id": "RQ7cZpCH0afT",
        "colab_type": "text"
      },
      "source": [
        "Các lời gọi tới hàm này phải rã tuple trả về. Điều này bắt họ (các hàm gọi) phải xem xét phần nào trong tuple là kết quả, và phần nào là trạng thái của phép tính. "
      ]
    },
    {
      "cell_type": "code",
      "metadata": {
        "id": "DW90VNk10ZDb",
        "colab_type": "code",
        "colab": {
          "base_uri": "https://localhost:8080/",
          "height": 34
        },
        "outputId": "1a8f06da-bb3c-474f-c2d8-000c1949d065"
      },
      "source": [
        "success, result = divide(4, 0)\n",
        "if not success:\n",
        "  print(\"Invalid inputs\")"
      ],
      "execution_count": 51,
      "outputs": [
        {
          "output_type": "stream",
          "text": [
            "Invalid inputs\n"
          ],
          "name": "stdout"
        }
      ]
    },
    {
      "cell_type": "markdown",
      "metadata": {
        "id": "z3_cwCxW06v3",
        "colab_type": "text"
      },
      "source": [
        "Vấn đề là ở chỗ các lời gọi hàm có thể dễ dàng lờ đi phần đầu của tuple trả về (sử dụng biến có hai dấu gạch châu ```__````, một quy ước của Python dành cho các biến không được sử dụng). Đoạn code sử dụng dưới đây nhìn không sai nếu chỉ xét thoáng qua. Nhưng nó trở nên tệ khi kết quả trả về là ```None```"
      ]
    },
    {
      "cell_type": "code",
      "metadata": {
        "id": "OtrfbkFp012z",
        "colab_type": "code",
        "colab": {
          "base_uri": "https://localhost:8080/",
          "height": 34
        },
        "outputId": "889e7a62-d2e8-44af-d4cf-ba363ba773af"
      },
      "source": [
        "_, result = divide(0, 3)\n",
        "\n",
        "if not result:\n",
        "  print(\"Invalid inputs\")"
      ],
      "execution_count": 55,
      "outputs": [
        {
          "output_type": "stream",
          "text": [
            "Invalid inputs\n"
          ],
          "name": "stdout"
        }
      ]
    },
    {
      "cell_type": "markdown",
      "metadata": {
        "id": "Z4Y231qJ1s5m",
        "colab_type": "text"
      },
      "source": [
        "Ở ví dụ trên, dù phép tính là hợp lệ nhưng đoạn mã vẫn in ra kết quả sai, bởi vì ta đã kiểm tra sai biến."
      ]
    },
    {
      "cell_type": "markdown",
      "metadata": {
        "id": "S6Ifr-a414Wo",
        "colab_type": "text"
      },
      "source": [
        "Cách thứ hai tốt hơn là không bao giờ trả về ```None```. Thay vào đó, khởi lên một ngoại lệ cho người gọi và để họ xử lý nó. Ở đây, tôi chuyển ```ZeroDivisionError``` sang ```ValueError``` để nói cho người gọi biết rằng giá trị nhập vào là tệ."
      ]
    },
    {
      "cell_type": "code",
      "metadata": {
        "id": "JWYYp6B71f_4",
        "colab_type": "code",
        "colab": {}
      },
      "source": [
        "def divide(a, b):\n",
        "  try:\n",
        "    return a / b\n",
        "  except ZeroDivisionError as e:\n",
        "    raise ValueError('Invalid inputs') from e"
      ],
      "execution_count": 0,
      "outputs": []
    },
    {
      "cell_type": "code",
      "metadata": {
        "id": "rNa7y7qB2lRE",
        "colab_type": "code",
        "colab": {
          "base_uri": "https://localhost:8080/",
          "height": 412
        },
        "outputId": "76ab4838-1eac-4809-f7bb-c0dc7d57feb3"
      },
      "source": [
        "divide(1, 0)"
      ],
      "execution_count": 57,
      "outputs": [
        {
          "output_type": "error",
          "ename": "ValueError",
          "evalue": "ignored",
          "traceback": [
            "\u001b[0;31m---------------------------------------------------------------------------\u001b[0m",
            "\u001b[0;31mZeroDivisionError\u001b[0m                         Traceback (most recent call last)",
            "\u001b[0;32m<ipython-input-56-9ddc92a75a83>\u001b[0m in \u001b[0;36mdivide\u001b[0;34m(a, b)\u001b[0m\n\u001b[1;32m      2\u001b[0m   \u001b[0;32mtry\u001b[0m\u001b[0;34m:\u001b[0m\u001b[0;34m\u001b[0m\u001b[0;34m\u001b[0m\u001b[0m\n\u001b[0;32m----> 3\u001b[0;31m     \u001b[0;32mreturn\u001b[0m \u001b[0ma\u001b[0m \u001b[0;34m/\u001b[0m \u001b[0mb\u001b[0m\u001b[0;34m\u001b[0m\u001b[0;34m\u001b[0m\u001b[0m\n\u001b[0m\u001b[1;32m      4\u001b[0m   \u001b[0;32mexcept\u001b[0m \u001b[0mZeroDivisionError\u001b[0m \u001b[0;32mas\u001b[0m \u001b[0me\u001b[0m\u001b[0;34m:\u001b[0m\u001b[0;34m\u001b[0m\u001b[0;34m\u001b[0m\u001b[0m\n",
            "\u001b[0;31mZeroDivisionError\u001b[0m: division by zero",
            "\nThe above exception was the direct cause of the following exception:\n",
            "\u001b[0;31mValueError\u001b[0m                                Traceback (most recent call last)",
            "\u001b[0;32m<ipython-input-57-b4d7e8b388b7>\u001b[0m in \u001b[0;36m<module>\u001b[0;34m()\u001b[0m\n\u001b[0;32m----> 1\u001b[0;31m \u001b[0mdivide\u001b[0m\u001b[0;34m(\u001b[0m\u001b[0;36m1\u001b[0m\u001b[0;34m,\u001b[0m \u001b[0;36m0\u001b[0m\u001b[0;34m)\u001b[0m\u001b[0;34m\u001b[0m\u001b[0;34m\u001b[0m\u001b[0m\n\u001b[0m",
            "\u001b[0;32m<ipython-input-56-9ddc92a75a83>\u001b[0m in \u001b[0;36mdivide\u001b[0;34m(a, b)\u001b[0m\n\u001b[1;32m      3\u001b[0m     \u001b[0;32mreturn\u001b[0m \u001b[0ma\u001b[0m \u001b[0;34m/\u001b[0m \u001b[0mb\u001b[0m\u001b[0;34m\u001b[0m\u001b[0;34m\u001b[0m\u001b[0m\n\u001b[1;32m      4\u001b[0m   \u001b[0;32mexcept\u001b[0m \u001b[0mZeroDivisionError\u001b[0m \u001b[0;32mas\u001b[0m \u001b[0me\u001b[0m\u001b[0;34m:\u001b[0m\u001b[0;34m\u001b[0m\u001b[0;34m\u001b[0m\u001b[0m\n\u001b[0;32m----> 5\u001b[0;31m     \u001b[0;32mraise\u001b[0m \u001b[0mValueError\u001b[0m\u001b[0;34m(\u001b[0m\u001b[0;34m'Invalid inputs'\u001b[0m\u001b[0;34m)\u001b[0m \u001b[0;32mfrom\u001b[0m \u001b[0me\u001b[0m\u001b[0;34m\u001b[0m\u001b[0;34m\u001b[0m\u001b[0m\n\u001b[0m",
            "\u001b[0;31mValueError\u001b[0m: Invalid inputs"
          ]
        }
      ]
    },
    {
      "cell_type": "markdown",
      "metadata": {
        "id": "bt_wzxsc2yx8",
        "colab_type": "text"
      },
      "source": [
        "Bây giờ người gọi nên xử lý ngoại lệ trong trường hợp input nhập vào không hợp lệ. NGười gọi không cần thiết phải yêu cầu một câu điều kiện trên giá trị trả về của một hàm. Nếu hàm này không gây ra một ngoại lệ, khi đó giá trị trả về phải là tốt. Kết quả của của việc xử lý ngoại lệ thật rõ ràng."
      ]
    },
    {
      "cell_type": "code",
      "metadata": {
        "id": "rL5GNMGZ2oqv",
        "colab_type": "code",
        "colab": {
          "base_uri": "https://localhost:8080/",
          "height": 34
        },
        "outputId": "059fd5cc-2d7c-4ebd-e280-b69a1213b3c2"
      },
      "source": [
        "x, y = 5, 2\n",
        "try:\n",
        "  result = divide(x, y)\n",
        "except ValueError:\n",
        "  print(\"Invalid inputs\")\n",
        "else:\n",
        "  print(\"Result is %.1f\" %result)"
      ],
      "execution_count": 58,
      "outputs": [
        {
          "output_type": "stream",
          "text": [
            "Result is 2.5\n"
          ],
          "name": "stdout"
        }
      ]
    },
    {
      "cell_type": "code",
      "metadata": {
        "id": "8OQqi3OM3Yp8",
        "colab_type": "code",
        "colab": {
          "base_uri": "https://localhost:8080/",
          "height": 34
        },
        "outputId": "22219710-9732-49d5-975a-f4397b97dabe"
      },
      "source": [
        "x, y = 5, 0\n",
        "try:\n",
        "  result = divide(x, y)\n",
        "except ValueError:\n",
        "  print(\"Invalid inputs\")\n",
        "else:\n",
        "  print(\"Result is %.1f\" %result)"
      ],
      "execution_count": 59,
      "outputs": [
        {
          "output_type": "stream",
          "text": [
            "Invalid inputs\n"
          ],
          "name": "stdout"
        }
      ]
    },
    {
      "cell_type": "markdown",
      "metadata": {
        "id": "lslEgOI23fxY",
        "colab_type": "text"
      },
      "source": [
        "### Những điều cần nhớ\n",
        "\n",
        "\n",
        "*   Các hàm trả về ```None``` để ám chỉ một ý nghĩa đặc biệt dễ bị sai bởi vì ```None``` và các giá trị khác (ví dụ như số 0, hoặc một chuỗi rỗng) đều được đánh giá là ```False``` trong các câu điều kiên\n",
        "*   Khởi lên các ngoại lệ để ám chỉ các tình huống đặc biệt thay vì trả về ```None```. Mong đợi code gọi xử lý các ngoại lệ hợp khi khi chúng được mô tả. \n",
        "\n"
      ]
    },
    {
      "cell_type": "code",
      "metadata": {
        "id": "rSK6DVbf3eKd",
        "colab_type": "code",
        "colab": {}
      },
      "source": [
        "a = None\n",
        "assert not a == False"
      ],
      "execution_count": 0,
      "outputs": []
    },
    {
      "cell_type": "markdown",
      "metadata": {
        "id": "2ISUurGX577y",
        "colab_type": "text"
      },
      "source": [
        "## Xem xét sử dụng các Generators thay vì trả về các danh sách \n",
        "\n",
        "Lựa chọn đơn giản nhất cho các hàm muốn trả về một chuỗi các kết quả là trả về một danh sách các phần tử. Ví dụ, bạn muốn tìm chỉ số của mỗi từ trong một chuỗi. Trường hợp này, tôi dồn các kết quả vào trong một danh sách sử dụng phương thức ```append``` và trả nó về vào cuối hàm.\n"
      ]
    },
    {
      "cell_type": "code",
      "metadata": {
        "id": "_yl2TqL54QJr",
        "colab_type": "code",
        "colab": {}
      },
      "source": [
        "def index_words(text):\n",
        "  result = []\n",
        "  if text:\n",
        "    result.append(0)\n",
        "  for index, letter in enumerate(text):\n",
        "    if letter == \" \":\n",
        "      result.append(index + 1)\n",
        "  return result "
      ],
      "execution_count": 0,
      "outputs": []
    },
    {
      "cell_type": "markdown",
      "metadata": {
        "id": "qr8GYv6c7eUN",
        "colab_type": "text"
      },
      "source": [
        "Đoạn mã hoạt động đối với một vài input"
      ]
    },
    {
      "cell_type": "code",
      "metadata": {
        "id": "rn-5efgZ7dYs",
        "colab_type": "code",
        "colab": {
          "base_uri": "https://localhost:8080/",
          "height": 34
        },
        "outputId": "b7c911fc-df5f-4881-b281-3869b764bf65"
      },
      "source": [
        "address = 'Four score and seven years ago...'\n",
        "result = index_words(address)\n",
        "print(result[:3])"
      ],
      "execution_count": 63,
      "outputs": [
        {
          "output_type": "stream",
          "text": [
            "[0, 5, 11]\n"
          ],
          "name": "stdout"
        }
      ]
    },
    {
      "cell_type": "markdown",
      "metadata": {
        "id": "A_lg-uO_7xeG",
        "colab_type": "text"
      },
      "source": [
        "Có hai vấn đề với hàm ```index_words```. \n",
        "\n",
        "Vấn đề thứ nhất là đoạn mã được biết nhìn hơi dày và rắc rối. Mỗi lần một kết quả mới được gọi, tôi gọi phương thức ```append```. Kích thước của lời gọi (```result.append```) làm giảm đi tầm quan trọng của giá trị được thêm vào trong danh sách (```index + 1```). Có một dòng để tạo danh sách kết quả và một dòng khác trả lại kết quả. Trong khi thân hàm chứa khoảng 130 kí tự (trừ ra khoảng trắng), chỉ có 75 kí tự là quan trọng.\n",
        "\n",
        "Có một cách tốt hơn để viết hàm này đó là sử dụng một *\bgenerator*. Các generators là những hàm sử dụng các câu lệnh ```yield```. Khi được gọi, các hàm generator không chạy gì cả mà thay vào đó nó trả về một iterator. Với mỗi lời gọi hàm ```next``` có sẵn trong python sẽ làm cho generator tiến tới câu lệnh ```yield``` tiếp theo. Mỗi giá trị được truyền tới ```yield``` bởi generator sẽ được trả về tới người gọi bởi iterator. \n",
        "\n",
        "Ở đây tôi định nghĩa một hàm generator tạo ra kết quả giống như cách làm sử dụng danh sách phía trên."
      ]
    },
    {
      "cell_type": "code",
      "metadata": {
        "id": "oGxzy59v7t8T",
        "colab_type": "code",
        "colab": {}
      },
      "source": [
        "def index_words_iter(text):\n",
        "  if text:\n",
        "    yield 0\n",
        "  for index, letter in enumerate(text):\n",
        "    if letter == \" \":\n",
        "      yield index + 1"
      ],
      "execution_count": 0,
      "outputs": []
    },
    {
      "cell_type": "markdown",
      "metadata": {
        "id": "JMy-uuJR97sr",
        "colab_type": "text"
      },
      "source": [
        "Đoạn code phía trên dễ đọc hơn rất nhiều bởi vì tất cả các tương tác với danh sách kết quả đều được loại bỏ. Thay vào đó các kết quả được đưa cho các biểu thức ```yield```. Iterator được trả về bởi lời gọi generator có thể dễ dàng được chuyển thành mọt danh sách bằng cách truyền nó cho hàm có sẵn ```list```. "
      ]
    },
    {
      "cell_type": "code",
      "metadata": {
        "id": "1Rt7T-_a94FS",
        "colab_type": "code",
        "colab": {}
      },
      "source": [
        "result = list(index_words_iter(address))"
      ],
      "execution_count": 0,
      "outputs": []
    },
    {
      "cell_type": "code",
      "metadata": {
        "id": "O8SwQTMD-j_4",
        "colab_type": "code",
        "colab": {
          "base_uri": "https://localhost:8080/",
          "height": 34
        },
        "outputId": "4497df5d-98cc-4279-aa82-673d0fa98afc"
      },
      "source": [
        "result"
      ],
      "execution_count": 66,
      "outputs": [
        {
          "output_type": "execute_result",
          "data": {
            "text/plain": [
              "[0, 5, 11, 15, 21, 27]"
            ]
          },
          "metadata": {
            "tags": []
          },
          "execution_count": 66
        }
      ]
    },
    {
      "cell_type": "markdown",
      "metadata": {
        "id": "U3YGSoaL-oQl",
        "colab_type": "text"
      },
      "source": [
        "Vấn đề thứ hai với ```index_words``` đó là hàm này yêu cầu tất cả các kết quả được lưu vào trong một danh sách trước khi được trả về. Đối với các inputs lớn, việc này có thể làm cho chương trình của bạn tiêu tốn hết bộ nhớ và crash. Ngược lại, một phiên bản generator của hàm này có thể dễ dàng được thích ứng để nhận các inputs với bất cứ chiều dài nào."
      ]
    },
    {
      "cell_type": "markdown",
      "metadata": {
        "id": "FT33FNai_LAe",
        "colab_type": "text"
      },
      "source": [
        "Ở đây tôi định nghĩa một generator lấy input từ một file, mỗi thời điểm một dòng và xuất ra các kết quả mỗi từ một lần. Bộ nhớ của hàm nà được giới hạn tới độ dài cực đại của mỗi dòng input đầu vào"
      ]
    },
    {
      "cell_type": "code",
      "metadata": {
        "id": "iXXFYy18-law",
        "colab_type": "code",
        "colab": {}
      },
      "source": [
        "def index_file(handle):\n",
        "  offset = 0\n",
        "  for line in handle:\n",
        "    if line:\n",
        "      yield offset\n",
        "    for letter in line:\n",
        "      offset += 1\n",
        "      if letter == ' ':\n",
        "        yield offset"
      ],
      "execution_count": 0,
      "outputs": []
    },
    {
      "cell_type": "markdown",
      "metadata": {
        "id": "xEXZtlX1_5AS",
        "colab_type": "text"
      },
      "source": [
        "Chạy generator phái trên cho ra cùng kết quả"
      ]
    },
    {
      "cell_type": "code",
      "metadata": {
        "id": "11RKWkqv_1Tr",
        "colab_type": "code",
        "colab": {
          "base_uri": "https://localhost:8080/",
          "height": 34
        },
        "outputId": "69af486b-14a2-4606-809b-40aadd38c476"
      },
      "source": [
        "from itertools import islice\n",
        "with open(\"address.txt\") as f:\n",
        "  it = index_file(f)\n",
        "  results = islice(it, 0, 3)\n",
        "  print(list(results))"
      ],
      "execution_count": 68,
      "outputs": [
        {
          "output_type": "stream",
          "text": [
            "[0, 2, 7]\n"
          ],
          "name": "stdout"
        }
      ]
    },
    {
      "cell_type": "markdown",
      "metadata": {
        "id": "x6jUl6UI__XJ",
        "colab_type": "text"
      },
      "source": [
        "Vấn đề của việc định nghĩa các generators như thế này đó là các lời gọi phải biết được rằng các iterators được trả về là stateful (nghĩa là máy tính sẽ lưu trữ trạng thái các tương tác) và không thể tái sử **dụng**"
      ]
    },
    {
      "cell_type": "markdown",
      "metadata": {
        "id": "3vz80QPxBmlh",
        "colab_type": "text"
      },
      "source": [
        "### Những điều cần nhớ\n",
        "\n",
        "\n",
        "*   Sử dụng generators có thể làm cho code sáng sủa hơn thay vì dùng các danh sách để lưu trữ các kết quả tích luỹ\n",
        "*   Iterator trả về bởi một generator tạo một tập các giá trị được gửi tới các biểu diễn ```yield``` bên trong thân hàm generator.\n",
        "* Các generators có thể tạo ra một chuỗi các kết quả cho các inputs lớn tuỳ ý bởi vì bộ nhớ hoạt động của chúng không bao gồm tất cả các inputs và outputs.\n",
        "\n"
      ]
    },
    {
      "cell_type": "code",
      "metadata": {
        "id": "jmFpEt-aBhdG",
        "colab_type": "code",
        "colab": {}
      },
      "source": [
        ""
      ],
      "execution_count": 0,
      "outputs": []
    }
  ]
}