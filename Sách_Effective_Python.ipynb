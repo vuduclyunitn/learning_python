{
  "nbformat": 4,
  "nbformat_minor": 0,
  "metadata": {
    "colab": {
      "name": "Sách Effective Python.ipynb",
      "provenance": [],
      "collapsed_sections": [],
      "include_colab_link": true
    },
    "kernelspec": {
      "name": "python3",
      "display_name": "Python 3"
    }
  },
  "cells": [
    {
      "cell_type": "markdown",
      "metadata": {
        "id": "view-in-github",
        "colab_type": "text"
      },
      "source": [
        "<a href=\"https://colab.research.google.com/github/vuduclyunitn/learning_python/blob/master/S%C3%A1ch_Effective_Python.ipynb\" target=\"_parent\"><img src=\"https://colab.research.google.com/assets/colab-badge.svg\" alt=\"Open In Colab\"/></a>"
      ]
    },
    {
      "cell_type": "code",
      "metadata": {
        "id": "0ub1wph_cYET",
        "colab_type": "code",
        "colab": {}
      },
      "source": [
        ""
      ],
      "execution_count": 0,
      "outputs": []
    },
    {
      "cell_type": "markdown",
      "metadata": {
        "id": "4gqVpYe6gVkh",
        "colab_type": "text"
      },
      "source": [
        "# Dịch từ sách Effective Python 59 specific ways to write better Python. Tác giả: Brett Slatkin"
      ]
    },
    {
      "cell_type": "markdown",
      "metadata": {
        "id": "us9tFZ-PcclL",
        "colab_type": "text"
      },
      "source": [
        "## Nên sử dụng ```enumerate``` thay vì ```range```\n",
        "\n",
        "Hàm có sẵn ```range``` hữu dụng cho các vòng lặp qua một tập hợp các số **nguyên**"
      ]
    },
    {
      "cell_type": "code",
      "metadata": {
        "id": "sq9qQq0AcxGq",
        "colab_type": "code",
        "outputId": "62d398eb-4af1-4f38-afea-169ab2c2b406",
        "colab": {
          "base_uri": "https://localhost:8080/",
          "height": 731
        }
      },
      "source": [
        "from random import randint\n",
        "random_bits = 0\n",
        "for i in range(64):\n",
        "  if randint(0, 1):\n",
        "    random_bits |= 1 << i\n",
        "    print(random_bits)"
      ],
      "execution_count": 0,
      "outputs": [
        {
          "output_type": "stream",
          "text": [
            "2\n",
            "6\n",
            "14\n",
            "30\n",
            "286\n",
            "798\n",
            "1822\n",
            "3870\n",
            "36638\n",
            "167710\n",
            "429854\n",
            "954142\n",
            "2002718\n",
            "4099870\n",
            "8294174\n",
            "25071390\n",
            "58625822\n",
            "192843550\n",
            "461279006\n",
            "998149918\n",
            "3145633566\n",
            "7440600862\n",
            "16030535454\n",
            "33210404638\n",
            "170649358110\n",
            "445527265054\n",
            "995283078942\n",
            "3194306334494\n",
            "11990399356702\n",
            "29582585401118\n",
            "64766957489950\n",
            "135135701667614\n",
            "416610678378270\n",
            "979560631799582\n",
            "2105460538642206\n",
            "11112659793383198\n",
            "29127058302865182\n",
            "317357434454576926\n",
            "1470278939061423902\n",
            "3776121948275117854\n",
            "8387807966702505758\n",
            "17611180003557281566\n"
          ],
          "name": "stdout"
        }
      ]
    },
    {
      "cell_type": "markdown",
      "metadata": {
        "id": "KktMUHjqeMAN",
        "colab_type": "text"
      },
      "source": [
        ""
      ]
    },
    {
      "cell_type": "markdown",
      "metadata": {
        "id": "dKCNXxu0c7jh",
        "colab_type": "text"
      },
      "source": [
        "Khi bạn cần lặp qua một cấu trúc dữ liệu như là danh sách của các chuỗi văn bản, bạn có thể lặp trực tiếp qua danh sách này."
      ]
    },
    {
      "cell_type": "code",
      "metadata": {
        "id": "1h8MRzUlc6T8",
        "colab_type": "code",
        "outputId": "cd9215f4-869c-46a4-ec3e-8b67892d60f7",
        "colab": {
          "base_uri": "https://localhost:8080/",
          "height": 85
        }
      },
      "source": [
        "flavor_list = [\"vanilla\", \"chocolate\", \"pecan\", \"strawberry\"]\n",
        "for flavor in flavor_list:\n",
        "  print(\"%s is delicious\" % flavor)"
      ],
      "execution_count": 0,
      "outputs": [
        {
          "output_type": "stream",
          "text": [
            "vanilla is delicious\n",
            "chocolate is delicious\n",
            "pecan is delicious\n",
            "strawberry is delicious\n"
          ],
          "name": "stdout"
        }
      ]
    },
    {
      "cell_type": "markdown",
      "metadata": {
        "id": "9ZnFYahGdfMT",
        "colab_type": "text"
      },
      "source": [
        "Thông thường, bạn muốn lặp qua một danh sách và bạn muốn biết được chỉ số (index) của phần tử hiện thời trong danh sách. Ví dụ, bạn muốn in ra xếp hạng của các món kem yêu thích của mình. Có một cách để làm điều này là sử dụng ```range```."
      ]
    },
    {
      "cell_type": "code",
      "metadata": {
        "id": "GsE7FvJcdd0p",
        "colab_type": "code",
        "outputId": "9ab06f3b-3662-4ca3-dc72-0b34743dddcc",
        "colab": {
          "base_uri": "https://localhost:8080/",
          "height": 85
        }
      },
      "source": [
        "for i in range(len(flavor_list)):\n",
        "  flavor = flavor_list[i]\n",
        "  print(\"%d: %s\" % (i+1, flavor))"
      ],
      "execution_count": 0,
      "outputs": [
        {
          "output_type": "stream",
          "text": [
            "1: vanilla\n",
            "2: chocolate\n",
            "3: pecan\n",
            "4: strawberry\n"
          ],
          "name": "stdout"
        }
      ]
    },
    {
      "cell_type": "markdown",
      "metadata": {
        "id": "2WjoV16oeM-0",
        "colab_type": "text"
      },
      "source": [
        "Đoạn mã trên nhìn không được gọn cho lắm, so với các vòng lặp được thực hiện trên ```flavor_list``` hay dùng ```range```. Bạn phải lấy ra kích thước của danh sách. Bạn phải dùng chỉ số để lấy ra phần tử. Điều này làm cho đoạn code khó đọc.\n"
      ]
    },
    {
      "cell_type": "markdown",
      "metadata": {
        "id": "WL7idFFGelan",
        "colab_type": "text"
      },
      "source": [
        "Python cung cấp một hàm có sẵn ```enumerate``` để giải quyết vấn đề này. ```enumerate``` bao bất cứ iterator nào với một generator. Generator này tạo ra các cặp chỉ số và giá trị từ iterator. Đoạn mã dưới đây nhìn sáng sủa hơn nhiều"
      ]
    },
    {
      "cell_type": "code",
      "metadata": {
        "id": "Eh3yIkeCeDsR",
        "colab_type": "code",
        "outputId": "74fd8878-b2e9-45b4-e1c8-1fd65d3ad282",
        "colab": {
          "base_uri": "https://localhost:8080/",
          "height": 85
        }
      },
      "source": [
        "for i, flavor in enumerate(flavor_list):\n",
        "  print(\"%d: %s\" % (i + 1, flavor))"
      ],
      "execution_count": 0,
      "outputs": [
        {
          "output_type": "stream",
          "text": [
            "1: vanilla\n",
            "2: chocolate\n",
            "3: pecan\n",
            "4: strawberry\n"
          ],
          "name": "stdout"
        }
      ]
    },
    {
      "cell_type": "markdown",
      "metadata": {
        "id": "KHQ-zoYIfJXP",
        "colab_type": "text"
      },
      "source": [
        "Bạn còn có thể làm cho đoạn code trên gọn hơn nữa khi chỉ định cho ```enumerate``` bắt đầu từ một giá trị nào đó (1 trong trường hợp dưới đây)"
      ]
    },
    {
      "cell_type": "code",
      "metadata": {
        "id": "Uf92ISRmfFW_",
        "colab_type": "code",
        "outputId": "8507980c-e86d-4ec2-aad8-f2b9e101a6c7",
        "colab": {
          "base_uri": "https://localhost:8080/",
          "height": 85
        }
      },
      "source": [
        "for i, flavor in enumerate(flavor_list, 1):\n",
        "  print(\"%d: %s\" % (i, flavor))"
      ],
      "execution_count": 0,
      "outputs": [
        {
          "output_type": "stream",
          "text": [
            "1: vanilla\n",
            "2: chocolate\n",
            "3: pecan\n",
            "4: strawberry\n"
          ],
          "name": "stdout"
        }
      ]
    },
    {
      "cell_type": "markdown",
      "metadata": {
        "id": "hBDjOci9fpGg",
        "colab_type": "text"
      },
      "source": [
        "### Nhứng điều cần nhớ\n",
        "\n",
        "\n",
        "*   \b```enumerate``` cung cấp một cú pháp tinh gọn giúp lặp qua một iterator và lấy ra chỉ số của mỗi phần tử tương ứng.\n",
        "*   Nên sử dụng ```enumerate``` thay vì lặp sử dụng ```range``` và dùng chỉ số để lấy phần tử.\n",
        "* Bạn có thể cung cấp một tham số thứ 2 chỉ định số bắt đầu được đếm cho chỉ số (mặc định là 0)\n",
        "\n"
      ]
    },
    {
      "cell_type": "markdown",
      "metadata": {
        "id": "lrNzEg04gnym",
        "colab_type": "text"
      },
      "source": [
        "## Sử dụng ```zip``` để xử lý các iterators song song\n",
        "\n",
        "Thông thường bạn làm việc với nhiều danh sách của các đối tượng liên quan. Sử dụng list comprehension cho phép ta nhận một danh sách nguồn và lấy về một danh sách đã qua xử lý. Như ví dụ dưới đây"
      ]
    },
    {
      "cell_type": "code",
      "metadata": {
        "id": "3XsHdMJMfmSD",
        "colab_type": "code",
        "colab": {}
      },
      "source": [
        "names = [\"Cecilia\", \"Lise\", \"Marie\"]\n",
        "letters = [len(n) for n in names]"
      ],
      "execution_count": 0,
      "outputs": []
    },
    {
      "cell_type": "markdown",
      "metadata": {
        "id": "EzKNY_y9hfyw",
        "colab_type": "text"
      },
      "source": [
        "Các phần tử trong danh sách mới có liên quan với các phần tử trong danh sách gốc thông qua các chỉ số của nó. Để lặp qua hai danh sách này song song, bạn có thể lặp qua chiều dài của danh sách gốc, lấy chiều dài của mỗi phần tử trong danh sách gốc thông qua danh sách mới với một chỉ số."
      ]
    },
    {
      "cell_type": "code",
      "metadata": {
        "id": "WOnq8Wxjhdgh",
        "colab_type": "code",
        "outputId": "5b98e521-61be-44db-d2b0-24533258a1da",
        "colab": {
          "base_uri": "https://localhost:8080/",
          "height": 34
        }
      },
      "source": [
        "longest_name = None\n",
        "max_letters = 0\n",
        "\n",
        "for i in range(len(names)):\n",
        "  count = letters[i]\n",
        "  if count > max_letters:\n",
        "    longest_name = names[i]\n",
        "    max_letters = count\n",
        "\n",
        "print(longest_name)"
      ],
      "execution_count": 0,
      "outputs": [
        {
          "output_type": "stream",
          "text": [
            "Cecilia\n"
          ],
          "name": "stdout"
        }
      ]
    },
    {
      "cell_type": "markdown",
      "metadata": {
        "id": "KfdWTRMXib0m",
        "colab_type": "text"
      },
      "source": [
        "Vấn đề ở đây đó là vòng lặp phía trên nhìn rối. Các chỉ số của ```names``` và ```letters``` làm cho code khó đọc. Ta dùng chỉ số ```i``` tới hai lần. Sử dụng ```enumerate``` có thể cải thiện vấn đề một chút, nhưng nó vẫn không phải là một giải pháp tốt."
      ]
    },
    {
      "cell_type": "code",
      "metadata": {
        "id": "61n2XnBqiGsi",
        "colab_type": "code",
        "colab": {}
      },
      "source": [
        "for i, name in enumerate(names):\n",
        "  count = letters[i]\n",
        "  if count > max_letters:\n",
        "    longest_name = name \n",
        "    max_letters = count"
      ],
      "execution_count": 0,
      "outputs": []
    },
    {
      "cell_type": "markdown",
      "metadata": {
        "id": "ApoENacUjGHK",
        "colab_type": "text"
      },
      "source": [
        "Để làm cho đoạn mã sáng sủa hơn, Python cung cấp hàm có sẵn ```zip```. Trong Python 3, ```zip``` bao hai hay nhiều iterators với một generator. ```zip``` sinh ra các tuples chứa giá trị tiếp theo từ mỗi iterator. Đoạn mã dưới đây nhìn gọn hơn rất nhiều so với việc dùng chỉ số với nhiều danh sách"
      ]
    },
    {
      "cell_type": "code",
      "metadata": {
        "id": "u0Hm1XyPjiw2",
        "colab_type": "code",
        "outputId": "aa2d6824-685c-4b16-85ae-17697139e86e",
        "colab": {
          "base_uri": "https://localhost:8080/",
          "height": 34
        }
      },
      "source": [
        "for name, count in zip(names, letters):\n",
        "  if count > max_letters:\n",
        "    longest_name = name\n",
        "    max_letters = count \n",
        "\n",
        "print(longest_name)"
      ],
      "execution_count": 0,
      "outputs": [
        {
          "output_type": "stream",
          "text": [
            "Cecilia\n"
          ],
          "name": "stdout"
        }
      ]
    },
    {
      "cell_type": "markdown",
      "metadata": {
        "id": "ohtsevNAjvxW",
        "colab_type": "text"
      },
      "source": [
        "Có hai vấn đề với hàm có sẵn ```zip```. Vấn đề đầu tiên đó là trong Python 2 ```zip``` không phải là một generator; nó sẽ chiếm hết các iterators được cung cấp và trả về một danh sách các tuples nó tạo. Điều này có thể làm cho nó sử dụng rất nhiều bộ nhớ và làm cho trương chình crash. Nếu bạn muốn ```zip``` các iterators rất lớn trong Python 2, bạn nên sử dụng ```izip``` từ module có sẵn ```itertools```  "
      ]
    },
    {
      "cell_type": "markdown",
      "metadata": {
        "id": "KZjw484HlGXB",
        "colab_type": "text"
      },
      "source": [
        "Vấn đề thứ hai đó là trong trường hợp các iterators đầu vào có chiều dài khác nhau ```zip``` cư xử một cách lạ lùng. Ví dụ, bạn thêm một tên khác vào danh sách phía trên nhưng quên cập nhật danh sách chứa kích số lượng các kí tự. Khi bạn chạy ```zip``` trên hai danh sách đầu vào này, kết quả sẽ không như mong đợi."
      ]
    },
    {
      "cell_type": "code",
      "metadata": {
        "id": "MY5Jhl3Djr81",
        "colab_type": "code",
        "outputId": "4d5eda2c-b138-4632-ab7d-013fc93b3716",
        "colab": {
          "base_uri": "https://localhost:8080/",
          "height": 68
        }
      },
      "source": [
        "names.append(\"Rosalind\")\n",
        "for name, count in zip(names, letters):\n",
        "  print(name)"
      ],
      "execution_count": 0,
      "outputs": [
        {
          "output_type": "stream",
          "text": [
            "Cecilia\n",
            "Lise\n",
            "Marie\n"
          ],
          "name": "stdout"
        }
      ]
    },
    {
      "cell_type": "markdown",
      "metadata": {
        "id": "oShaNTzHl1-b",
        "colab_type": "text"
      },
      "source": [
        "Phần tử mới thêm vào 'Rosalind' không được in ra. Đó là cách ```zip``` làm việc. Nó duy trì xuất ra các tuples cho đến khi iterator bên trong cạn kiệt. Cách tiếp cận này hoạt động tốt khi bạn biết rằng các iterators có cùng một chiều dài, điều thường thấy đối với các danh sách được tạo bởi list comprehensions. Trong nhiều trường hợp khác, cách cư xử thông qua việc cắt bớt các phần tử của ```zip``` gây ngạc nhiên và tệ. Nếu bạn không tự tin về chiều dài của các danh sách bạn muốn zip chúng, ví như không chắc rằng các danh sách này bằng nhau, hãy xem xét sử dụng hàm ```zip_longest``` từ thư viện ```itertools```"
      ]
    },
    {
      "cell_type": "code",
      "metadata": {
        "id": "5WpLCI5KlzK8",
        "colab_type": "code",
        "outputId": "2f1c52f2-5fe3-4b16-93ba-1825bedd3282",
        "colab": {
          "base_uri": "https://localhost:8080/",
          "height": 119
        }
      },
      "source": [
        "from itertools import zip_longest\n",
        "\n",
        "names.append(\"Rosalind\")\n",
        "for name, count in zip_longest(names, letters):\n",
        "  print(name, count)"
      ],
      "execution_count": 0,
      "outputs": [
        {
          "output_type": "stream",
          "text": [
            "Cecilia 7\n",
            "Lise 4\n",
            "Marie 5\n",
            "Rosalind None\n",
            "Rosalind None\n",
            "Rosalind None\n"
          ],
          "name": "stdout"
        }
      ]
    },
    {
      "cell_type": "markdown",
      "metadata": {
        "id": "SpIEleNGm8Qk",
        "colab_type": "text"
      },
      "source": [
        "Ở ví dụ trên ta thấy rằng các phần tử mới vẫn được in ra, nhưng nếu ta không cập nhật danh sách đếm số lượng kí tự thì giá trị đó sẽ là None. "
      ]
    },
    {
      "cell_type": "markdown",
      "metadata": {
        "id": "rcO19s8TnQnJ",
        "colab_type": "text"
      },
      "source": [
        "### Các thứ cần nhớ\n",
        "\n",
        "\n",
        "*   Hàm có sẵn ```zip``` có thể được sử dụng để lặp qua nhiều iterators song song.\n",
        "\n",
        "*   Trong Python 3, ```zip``` là một generator tạo ra các tuples. Trong Python 2, ```zip``` trả về một danh sách đầy đủ các tuples.\n",
        "\n",
        "* ```zip``` cắt bỏ kết quả một cách thầm lặng nếu bạn cung cấp các iterators với chiều dài khác nhau. \n",
        "\n",
        "* Hàm ```zip_longest``` từ module có sẵn ```itertools``` cho phép bạn lặp qua nhiều iterators khác nhau song song bất kể kích thước của chúng thế nào. \n",
        "\n"
      ]
    },
    {
      "cell_type": "markdown",
      "metadata": {
        "id": "AFofIX4zofY9",
        "colab_type": "text"
      },
      "source": [
        "## Biết cách cắt các sequences\n",
        "\n",
        "Python có các cú pháp cho việc cắt các sequences thành các mảnh. Việc cắt này giúp bạn truy cập vào một phần nhỏ các phần tử của sequence với một nỗ lực nhỏ. Cách sử dụng đơn giản nhất là đối với các kiểu có sẵn như là ```list```, ```str```, và ```bytes```. Phép cắt này có thể được mở rộng cho bất cứ lớp Python nào triển khai các phương thức đặc biệt ```__getitem__``` và ```__setitem__```. \n",
        "\n",
        "Dạng đơn giản nhất của cú pháp cắt là ```somelist[start:end]```, ở đó ```start``` được bao gồm và ```end``` được trừ ra. Ví dụ:"
      ]
    },
    {
      "cell_type": "code",
      "metadata": {
        "id": "UBCBYCqBm3GD",
        "colab_type": "code",
        "outputId": "1513d10c-d4a2-4a5c-bc5e-faf296522889",
        "colab": {
          "base_uri": "https://localhost:8080/",
          "height": 68
        }
      },
      "source": [
        "a = ['a', 'b', 'c', 'd', 'e', 'f', 'g', 'h']\n",
        "print('First four: ', a[:4])\n",
        "print('Last four: ', a[-4:])\n",
        "print('Middle two: ', a[3:-3])"
      ],
      "execution_count": 0,
      "outputs": [
        {
          "output_type": "stream",
          "text": [
            "First four:  ['a', 'b', 'c', 'd']\n",
            "Last four:  ['e', 'f', 'g', 'h']\n",
            "Middle two:  ['d', 'e']\n"
          ],
          "name": "stdout"
        }
      ]
    },
    {
      "cell_type": "markdown",
      "metadata": {
        "id": "9GHF7kd4p5Po",
        "colab_type": "text"
      },
      "source": [
        "Khi cắt từ đầu của một danh sách, bạn nên bỏ đi chỉ số 0 ban đầu để cho code nhìn sáng sủa hơn. Hai cách viết đều mang lại kết quả như nhau."
      ]
    },
    {
      "cell_type": "code",
      "metadata": {
        "id": "nTng6LZvp3Nt",
        "colab_type": "code",
        "colab": {}
      },
      "source": [
        "assert a[:5] == a[0:5]"
      ],
      "execution_count": 0,
      "outputs": []
    },
    {
      "cell_type": "markdown",
      "metadata": {
        "id": "y8MRKEjvqVLx",
        "colab_type": "text"
      },
      "source": [
        "Khi cắt từ cuối danh sách, bạn nên bỏ đi chỉ số cuối bởi vì nó dư thừa"
      ]
    },
    {
      "cell_type": "code",
      "metadata": {
        "id": "F5jIYpd6qMi8",
        "colab_type": "code",
        "colab": {}
      },
      "source": [
        "assert a[5:] == a[5:len(a)]"
      ],
      "execution_count": 0,
      "outputs": []
    },
    {
      "cell_type": "markdown",
      "metadata": {
        "id": "UZJZ8G-Aqkyt",
        "colab_type": "text"
      },
      "source": [
        "Sử dụng các số âm cho việc cắt trở nên hữu ích cho  các chỉ số tương đối với cuối của một danh sách. Tất cả các dạng cắt này trở nên rõ ràng với một người mới đọc mã của bạn. "
      ]
    },
    {
      "cell_type": "code",
      "metadata": {
        "id": "6stYkJGTqiYg",
        "colab_type": "code",
        "outputId": "b292a539-960f-46fc-a674-05e127ab555e",
        "colab": {
          "base_uri": "https://localhost:8080/",
          "height": 34
        }
      },
      "source": [
        "a[:]"
      ],
      "execution_count": 0,
      "outputs": [
        {
          "output_type": "execute_result",
          "data": {
            "text/plain": [
              "['a', 'b', 'c', 'd', 'e', 'f', 'g', 'h']"
            ]
          },
          "metadata": {
            "tags": []
          },
          "execution_count": 22
        }
      ]
    },
    {
      "cell_type": "code",
      "metadata": {
        "id": "KgrHURhMq5tG",
        "colab_type": "code",
        "outputId": "e7fcd7f6-3934-4dc9-9696-ef23d465b5ed",
        "colab": {
          "base_uri": "https://localhost:8080/",
          "height": 34
        }
      },
      "source": [
        "a[:5]"
      ],
      "execution_count": 0,
      "outputs": [
        {
          "output_type": "execute_result",
          "data": {
            "text/plain": [
              "['a', 'b', 'c', 'd', 'e']"
            ]
          },
          "metadata": {
            "tags": []
          },
          "execution_count": 23
        }
      ]
    },
    {
      "cell_type": "code",
      "metadata": {
        "id": "OawJreSDq7GV",
        "colab_type": "code",
        "outputId": "b33a2d54-cc6d-48fe-c4e2-f5cb7cdd6801",
        "colab": {
          "base_uri": "https://localhost:8080/",
          "height": 34
        }
      },
      "source": [
        "a[:-1]"
      ],
      "execution_count": 0,
      "outputs": [
        {
          "output_type": "execute_result",
          "data": {
            "text/plain": [
              "['a', 'b', 'c', 'd', 'e', 'f', 'g']"
            ]
          },
          "metadata": {
            "tags": []
          },
          "execution_count": 24
        }
      ]
    },
    {
      "cell_type": "code",
      "metadata": {
        "id": "-6esFbP6q-mv",
        "colab_type": "code",
        "outputId": "4624c699-0c79-46cc-849d-027aac923799",
        "colab": {
          "base_uri": "https://localhost:8080/",
          "height": 34
        }
      },
      "source": [
        "a[:-2]"
      ],
      "execution_count": 0,
      "outputs": [
        {
          "output_type": "execute_result",
          "data": {
            "text/plain": [
              "['a', 'b', 'c', 'd', 'e', 'f']"
            ]
          },
          "metadata": {
            "tags": []
          },
          "execution_count": 26
        }
      ]
    },
    {
      "cell_type": "markdown",
      "metadata": {
        "id": "71BLgKNX94wM",
        "colab_type": "text"
      },
      "source": [
        "Kĩ thuật cắt sử dụng các chỉ số ```start``` và ```end``` để kiểm soát truy cập các phần tử trong danh sách. Truy cập các phần tử có chỉ số nằm ngoài biên giới danh sách sẽ tạo ra lỗi."
      ]
    },
    {
      "cell_type": "code",
      "metadata": {
        "id": "zKpehy31rAyd",
        "colab_type": "code",
        "outputId": "525006be-3e56-488e-9f61-ad4f89879819",
        "colab": {
          "base_uri": "https://localhost:8080/",
          "height": 184
        }
      },
      "source": [
        "a[20]"
      ],
      "execution_count": 0,
      "outputs": [
        {
          "output_type": "error",
          "ename": "IndexError",
          "evalue": "ignored",
          "traceback": [
            "\u001b[0;31m---------------------------------------------------------------------------\u001b[0m",
            "\u001b[0;31mIndexError\u001b[0m                                Traceback (most recent call last)",
            "\u001b[0;32m<ipython-input-27-2ba6acdce15e>\u001b[0m in \u001b[0;36m<module>\u001b[0;34m()\u001b[0m\n\u001b[0;32m----> 1\u001b[0;31m \u001b[0ma\u001b[0m\u001b[0;34m[\u001b[0m\u001b[0;36m20\u001b[0m\u001b[0;34m]\u001b[0m\u001b[0;34m\u001b[0m\u001b[0;34m\u001b[0m\u001b[0m\n\u001b[0m",
            "\u001b[0;31mIndexError\u001b[0m: list index out of range"
          ]
        }
      ]
    },
    {
      "cell_type": "markdown",
      "metadata": {
        "id": "-rOTvYIE-iij",
        "colab_type": "text"
      },
      "source": [
        "**Chú ý** Nên biết rằng try cập vào danh sách sử dụng một chỉ số âm là một trong số các trường hợp gây ra các kết quả ngạc nhiên từ phép cắt. Ví dụ, ```somelist[-n:]``` sẽ hoạt động tốt khi ```n``` lớn hơn một (ví dụ, ```somelist[-3:]```). Tuy nhiên, khi ```n``` bằng 0, thì ```somelist[-0:]``` sẽ trả lại một bản sao của danh sách ban đầu. Danh sách sao này trỏ tới danh sách ban đầu. Thay đổi kết quả phép cắt sẽ không ảnh hưởng tới danh sách ban đầu. "
      ]
    },
    {
      "cell_type": "markdown",
      "metadata": {
        "id": "retzo8gs_Vuh",
        "colab_type": "text"
      },
      "source": [
        ""
      ]
    },
    {
      "cell_type": "code",
      "metadata": {
        "id": "JBbKBAhp_UHt",
        "colab_type": "code",
        "colab": {}
      },
      "source": [
        "b = a[-0:]"
      ],
      "execution_count": 0,
      "outputs": []
    },
    {
      "cell_type": "code",
      "metadata": {
        "id": "qe2UtFQm-hnA",
        "colab_type": "code",
        "outputId": "a7c9e278-0a76-405d-b42f-35d167c8ff4e",
        "colab": {
          "base_uri": "https://localhost:8080/",
          "height": 34
        }
      },
      "source": [
        "b"
      ],
      "execution_count": 0,
      "outputs": [
        {
          "output_type": "execute_result",
          "data": {
            "text/plain": [
              "['a', 'b', 'c', 'd', 'e', 'f', 'g', 'h']"
            ]
          },
          "metadata": {
            "tags": []
          },
          "execution_count": 29
        }
      ]
    },
    {
      "cell_type": "code",
      "metadata": {
        "id": "UGBjJNJ0_tPc",
        "colab_type": "code",
        "colab": {}
      },
      "source": [
        "b.append(\"i\")"
      ],
      "execution_count": 0,
      "outputs": []
    },
    {
      "cell_type": "code",
      "metadata": {
        "id": "X06v88PB_vij",
        "colab_type": "code",
        "outputId": "109640a2-ed3c-47be-cfde-7f3ec1ef8661",
        "colab": {
          "base_uri": "https://localhost:8080/",
          "height": 34
        }
      },
      "source": [
        "b"
      ],
      "execution_count": 0,
      "outputs": [
        {
          "output_type": "execute_result",
          "data": {
            "text/plain": [
              "['a', 'b', 'c', 'd', 'e', 'f', 'g', 'h', 'i']"
            ]
          },
          "metadata": {
            "tags": []
          },
          "execution_count": 31
        }
      ]
    },
    {
      "cell_type": "code",
      "metadata": {
        "id": "vZlGL_gh_wKr",
        "colab_type": "code",
        "outputId": "c488cad0-37bd-4abf-b97c-0c0a8144303b",
        "colab": {
          "base_uri": "https://localhost:8080/",
          "height": 34
        }
      },
      "source": [
        "a"
      ],
      "execution_count": 0,
      "outputs": [
        {
          "output_type": "execute_result",
          "data": {
            "text/plain": [
              "['a', 'b', 'c', 'd', 'e', 'f', 'g', 'h']"
            ]
          },
          "metadata": {
            "tags": []
          },
          "execution_count": 32
        }
      ]
    },
    {
      "cell_type": "code",
      "metadata": {
        "id": "K16hguOq_w3F",
        "colab_type": "code",
        "outputId": "c5aaec36-d91b-4781-84ea-2efca8ea9bc3",
        "colab": {
          "base_uri": "https://localhost:8080/",
          "height": 68
        }
      },
      "source": [
        "c = a[4:]\n",
        "print(\"Before: \", b)\n",
        "c[1] = 99\n",
        "print(\"After: \", b)\n",
        "print(\"No change: \", a)"
      ],
      "execution_count": 0,
      "outputs": [
        {
          "output_type": "stream",
          "text": [
            "Before:  ['a', 'b', 'c', 'd', 'e', 'f', 'g', 'h', 'i']\n",
            "After:  ['a', 'b', 'c', 'd', 'e', 'f', 'g', 'h', 'i']\n",
            "No change:  ['a', 'b', 'c', 'd', 'e', 'f', 'g', 'h']\n"
          ],
          "name": "stdout"
        }
      ]
    },
    {
      "cell_type": "markdown",
      "metadata": {
        "id": "bixjAnJpAEwp",
        "colab_type": "text"
      },
      "source": [
        "Khi được sử dụng trong các phép gán, các lát cắt sẽ thay thế dải được chỉ định trong danh sách ban đầu. Không \n",
        "\n",
        " như các phép gán tuple (như là ```a, b = c[:2]```), chiều dài của các phép gán không nhất thiết phải giống nhau. Các giá trị trước và sau lát cắt được gán sẽ được bảo tồn. Danh sách sẽ phình ra hay co lại để chứa các giá trị mới."
      ]
    },
    {
      "cell_type": "code",
      "metadata": {
        "id": "S-scDNys__s5",
        "colab_type": "code",
        "outputId": "e6539b53-4c27-4e01-a78e-0774f2b3898e",
        "colab": {
          "base_uri": "https://localhost:8080/",
          "height": 51
        }
      },
      "source": [
        "print('Before ', a)\n",
        "a[2:7] = [99, 22, 14]\n",
        "print('After ', a)"
      ],
      "execution_count": 0,
      "outputs": [
        {
          "output_type": "stream",
          "text": [
            "Before  ['a', 'b', 'c', 'd', 'e', 'f', 'g', 'h']\n",
            "After  ['a', 'b', 99, 22, 14, 'h']\n"
          ],
          "name": "stdout"
        }
      ]
    },
    {
      "cell_type": "code",
      "metadata": {
        "id": "qvzYyWa2CKzi",
        "colab_type": "code",
        "outputId": "a18cac05-21ce-4355-ed13-52e5a54022ea",
        "colab": {
          "base_uri": "https://localhost:8080/",
          "height": 51
        }
      },
      "source": [
        "print('Before ', a)\n",
        "a[2:4] = [1, 2, 3]\n",
        "print('After ', a)"
      ],
      "execution_count": 0,
      "outputs": [
        {
          "output_type": "stream",
          "text": [
            "Before  ['a', 'b', 99, 22, 14, 'h']\n",
            "After  ['a', 'b', 1, 2, 3, 14, 'h']\n"
          ],
          "name": "stdout"
        }
      ]
    },
    {
      "cell_type": "markdown",
      "metadata": {
        "id": "keSSBulZC4y7",
        "colab_type": "text"
      },
      "source": [
        "Nếu bạn để cả các chỉ số bắt đầu và kết thúc trống khi cắt, bạn sẽ có được một bản sao của danh sách ban đầu."
      ]
    },
    {
      "cell_type": "code",
      "metadata": {
        "id": "zZOEWiCTCNDz",
        "colab_type": "code",
        "colab": {}
      },
      "source": [
        "b = a[:]\n",
        "assert b == a and b is not a"
      ],
      "execution_count": 0,
      "outputs": []
    },
    {
      "cell_type": "markdown",
      "metadata": {
        "id": "OtMJ3XANDKzl",
        "colab_type": "text"
      },
      "source": [
        "Nếu bạn gán một lát cắt không có chỉ số bắt đầu và kết thúc, bạn sẽ thay thế toàn bộ nội dung của nó với một bản sao mà lát cắt đó tham chiếu tới (thay vì cấp phát một danh sách mới)"
      ]
    },
    {
      "cell_type": "code",
      "metadata": {
        "id": "RrYRf0v1DE-r",
        "colab_type": "code",
        "colab": {}
      },
      "source": [
        ""
      ],
      "execution_count": 0,
      "outputs": []
    },
    {
      "cell_type": "code",
      "metadata": {
        "id": "iVfLwrYEDakt",
        "colab_type": "code",
        "outputId": "0f1376cd-de4b-423f-a7bf-c317b2f3a4f2",
        "colab": {
          "base_uri": "https://localhost:8080/",
          "height": 51
        }
      },
      "source": [
        "b = a\n",
        "print('Before', a)\n",
        "a[:] = [4, 5, 6]\n",
        "assert a is b\n",
        "print('After', a)"
      ],
      "execution_count": 0,
      "outputs": [
        {
          "output_type": "stream",
          "text": [
            "Before [101, 102, 103]\n",
            "After [4, 5, 6]\n"
          ],
          "name": "stdout"
        }
      ]
    },
    {
      "cell_type": "markdown",
      "metadata": {
        "id": "tmk9jDt_D84_",
        "colab_type": "text"
      },
      "source": [
        "### Những thứ cần nhớ\n",
        "\n",
        "\n",
        "*   Tránh quá chi tiết: đừng sử dụng 0 như là chỉ số bắt đầu hoặc độ dài của sequence cho chỉ số kết thúc\n",
        "*   Phép cắt cho phép ta dễ dàng biểu diễn các phạm vi trước và sau của một sequence (như là ```a[:20]``` hay ```a[-20:]```)\n",
        "* Gán cho một dải trong một sequence một dải giá trị khác sẽ thay thế dải đó trong danh sách ban đầu với dải cung cấp ngay cả khi kích thước của các dải khác nhau.\n",
        "\n"
      ]
    },
    {
      "cell_type": "markdown",
      "metadata": {
        "id": "AaW_jVLhISg_",
        "colab_type": "text"
      },
      "source": [
        "## Tận dụng lợi thế của mỗi khối try/except/else/finally\n",
        "\n",
        "Khi lập trình đôi lúc bạn muốn xử lý các ngoại lệ xảy ra. Các ngoại lệ này được bắt lại trong các khối ```try```, ```except```, ```else```, và ```finally```. Mỗi khối đảm nhiệm mỗi nhiệm vụ riêng biệt, và có những sự kết hợp giữa các khối này trở nên hữu dụng."
      ]
    },
    {
      "cell_type": "markdown",
      "metadata": {
        "id": "Bq8btT2TIx7Q",
        "colab_type": "text"
      },
      "source": [
        "### Khối Finally\n",
        "Sử dụng ```try/finally``` khi bạn muốn các ngoại lệ được truyền rộng rãi đi, nhưng bạn cũng muốn chạy các mã dọn dẹp (cleanup code) ngay cả khi các ngoại lệ xảy ra. Một ứng dụng phổ biến của ```try/finally``` đó là đóng các file handles."
      ]
    },
    {
      "cell_type": "code",
      "metadata": {
        "id": "_MTIKD6GDgf8",
        "colab_type": "code",
        "colab": {}
      },
      "source": [
        "handle = open('random_data.txt') # Có thể gây ra ngoại lệ IOError\n",
        "try:\n",
        "  data = handle.read() # Có thể gây ra ngoại lệ UnicodeDecodeError\n",
        "finally:\n",
        "  handle.close()"
      ],
      "execution_count": 0,
      "outputs": []
    },
    {
      "cell_type": "markdown",
      "metadata": {
        "id": "j2IN-1N3KlXk",
        "colab_type": "text"
      },
      "source": [
        "Bất cứ ngoại lệ nào được gây ra bởi phương thức ```read``` sẽ được lan tới code gọi phương thức đó (calling code), phương thức ```close``` của handle được đảm bảo chạy trong khối ```finally```. Bạn phải gọi ```open``` trước khối ```try``` bởi vì các ngoại lệ thường xảy ra khi mở file (như ```IOError``` nếu file không tồn tại) nên bỏ qua khối ```finally```."
      ]
    },
    {
      "cell_type": "markdown",
      "metadata": {
        "id": "UpY-lD99Ls79",
        "colab_type": "text"
      },
      "source": [
        "### Khối Else\n",
        "\n",
        "Sử dụng ```try/except/else``` để làm cho rõ ràng ngoại lệ nào sẽ được xử lý bởi code của bạn và ngoại lệ nào sẽ lan truyền đi. Khi khối ```try``` không khởi lên một ngoại lệ, khối ```else``` sẽ chạy. Khối ```else``` giúp bạn tối thiểu hoá lượng code trong khối ```try``` và làm cho code dễ đọc hơn. Ví dụ, bạn muốn nạp (load) dữ liệu từ diển JSON và trả về giá trị của một key dựa trên một string được cung cấp. Nhìn vào ví dụ sau:"
      ]
    },
    {
      "cell_type": "code",
      "metadata": {
        "id": "VjPfWm7HKZks",
        "colab_type": "code",
        "colab": {}
      },
      "source": [
        "def load_json_key(data, key):\n",
        "  try:\n",
        "    result_dict = json.loads(data) # Có thể tạo ra ValueError\n",
        "  except ValueError as e:\n",
        "    raise KeyError from e \n",
        "  else:\n",
        "    return result_dict[key] # Có thể tạo ra KeyError"
      ],
      "execution_count": 0,
      "outputs": []
    },
    {
      "cell_type": "markdown",
      "metadata": {
        "id": "4rc98aGENR1p",
        "colab_type": "text"
      },
      "source": [
        "Nếu dữ liệu không phải là JSON hợp lệ, khi đó giải mã sử dụng ```json.loads``` sẽ tạo ra một ```ValueError```. Ngoại lệ này được bắt bởi khối ```except``` và được \bxử lý ở đó. Nếu việc giải mã thành công, khi đó chìa khoá được yêu cầu sẽ được trả về trong khối ```else```. Nếu việc dò chìa khoá tạo ra bất cứ ngoại lệ nào, chúng sẽ lan truyền tới code gọi bởi vì chúng nằm bên ngoài khối ```try```. Khối ```else``` đảm bảo rằng những gì đi theo sau ```try/except``` được tách biệt rõ ràng khỏi khối ```except```. Điều này làm cho việc lan toả ngoại lệ trở nên rõ ràng hơn. "
      ]
    },
    {
      "cell_type": "markdown",
      "metadata": {
        "id": "SyXH9nBwOOaZ",
        "colab_type": "text"
      },
      "source": [
        "### Mọi thứ cùng với nhau \n",
        "\n",
        "Sử dụng ```try/except/else/finally``` khi bạn muốn làm tất cả trong cùng một câu tổng hợp. Ví dụ, bạn muốn đọc mô tả công việc cần làm từ một file, xử lý nó, và sau đó cập nhật file này. Ở đây, khối ```try``` được sử dụng để đọc file và xử lý nó. Khối ```except``` được sử dụng để xử lý các ngoại lệ được mong đợi từ khối ```try```. Khối ```else``` được sử dụng để cập nhật file và cho phép các ngoại lệ liên quan được lan toả. Khối ```finally``` dọn dẹp file handle"
      ]
    },
    {
      "cell_type": "code",
      "metadata": {
        "id": "9h7328uKNQzW",
        "colab_type": "code",
        "colab": {}
      },
      "source": [
        "UNDEFINED = object()\n",
        "\n",
        "def divide_json(path):\n",
        "  handle = open(path, 'r+') # Có thể tạo ra lỗi IOError\n",
        "  try:\n",
        "    data = handle.read() # Có thể tạo ra lỗi UnicodeDecodeError \n",
        "    op = json.loads(data) # Có thể tạo ra lỗi ValueError \n",
        "    value = (op[\"numerator\"] / op[\"denominator\"])\n",
        "  except ZeroDivisionError as e:\n",
        "    return UNDEFINED\n",
        "  else:\n",
        "    op['result'] = value \n",
        "    result = json.dumps(op)\n",
        "    handle.seek(0)\n",
        "    handle.write(result) # Có thể tạo ra lỗi IOError \n",
        "    return value \n",
        "  finally:\n",
        "    handle.close() # Luôn luôn chạy "
      ],
      "execution_count": 0,
      "outputs": []
    },
    {
      "cell_type": "markdown",
      "metadata": {
        "id": "gDqJFtBvQFqr",
        "colab_type": "text"
      },
      "source": [
        "Cấu trúc trên đặc biệt hữu dụng bởi vì tất cả các khối cùng làm việc với nhau một cách hợp lý. Ví dụ, nếu một ngoại lệ xảy ra trong khối ```else``` trong khi ghi lại dữ liệu kết quả, khối ```finally``` sẽ vẫn chạy và đóng file handle."
      ]
    },
    {
      "cell_type": "markdown",
      "metadata": {
        "id": "0dbcpaLpQdX6",
        "colab_type": "text"
      },
      "source": [
        "### Những điều cần nhớ.\n",
        "\n",
        "\n",
        "*   Sử dụng ```try/finally``` giúp bạn chạy các khối code dọn dẹp bất kể các ngoại lệ xảy ra trong khối ```try```\n",
        "*   Khối ```else``` giúp bạn tối thiểu hoá lượng code trong các khối ```try``` và tách biệt trường hợp thành công từ các khối ```try/except```. \n",
        "* Khối ```else``` có thể được sử dụng để thực hiện các hành động bổ sung sau một khối ```try``` thành công nhưng trước khối ```finally``` được sử dụng để dọn dẹp.\n",
        "\n"
      ]
    },
    {
      "cell_type": "markdown",
      "metadata": {
        "id": "0Wmfn_K6fFeG",
        "colab_type": "text"
      },
      "source": [
        "## Nên dùng các ngoại lệ thay vì trả về None\n",
        "\n",
        "Khi viết các hàm tiện ích (utility functions), các lập trình viên thường đứng trước một lựa chọn cho việc trả về giá trị ```None``` có mang một ý nghĩa gì hay không trong một số trường hợp. Ví dụ, bạn muốn một hàm trợ giúp (helper function) cho việc chia một số cho một số khác. Trong trường hợp chia cho số 0, trả lại ```None``` dường như tự nhiên bởi vì kết quả chưa được định nghĩa."
      ]
    },
    {
      "cell_type": "code",
      "metadata": {
        "id": "YWG-B80DQcir",
        "colab_type": "code",
        "colab": {}
      },
      "source": [
        "def divide(a, b):\n",
        "  try:\n",
        "    return a/b\n",
        "  except ZeroDivisionError:\n",
        "    return None"
      ],
      "execution_count": 0,
      "outputs": []
    },
    {
      "cell_type": "markdown",
      "metadata": {
        "id": "UIfNhaAJycMv",
        "colab_type": "text"
      },
      "source": [
        "Cod sử dụng hàm này có thể diễn giải kết quả trả về tương ứng."
      ]
    },
    {
      "cell_type": "code",
      "metadata": {
        "id": "7rVWKXsuyaC3",
        "colab_type": "code",
        "outputId": "98925906-072a-426b-bb24-0c64bca39215",
        "colab": {
          "base_uri": "https://localhost:8080/",
          "height": 34
        }
      },
      "source": [
        "result = divide(3, 0)\n",
        "if result is None:\n",
        "  print(\"Invalid inputs\")"
      ],
      "execution_count": 0,
      "outputs": [
        {
          "output_type": "stream",
          "text": [
            "Invalid inputs\n"
          ],
          "name": "stdout"
        }
      ]
    },
    {
      "cell_type": "markdown",
      "metadata": {
        "id": "PTXrNZwRyskp",
        "colab_type": "text"
      },
      "source": [
        "Điều gì xảy ra khi số được chia hay tử số bằng 0? Thực hiện phép chia này sẽ tạo ra kết quả bằng 0 (nếu số bị chia hay mẫu số khác 0). Điều này có thể tạo ra các vấn đề khi bạn đánh giá kết quả trong một điều kiện như là câu lệnh ```if```. Bạn có thể tìm \bkiếm các giá trị ```False``` khi bạn nhắc tới các lỗi thay vì ```None```. "
      ]
    },
    {
      "cell_type": "code",
      "metadata": {
        "id": "v7hwQUv-ynf0",
        "colab_type": "code",
        "outputId": "e89d6ce4-793a-4a53-b5f8-04bd56e01569",
        "colab": {
          "base_uri": "https://localhost:8080/",
          "height": 34
        }
      },
      "source": [
        "x, y= 0, 5\n",
        "result = divide(x, y)\n",
        "\n",
        "if not result:\n",
        "  print(\"Invalid inputs\") # Điều này sai"
      ],
      "execution_count": 0,
      "outputs": [
        {
          "output_type": "stream",
          "text": [
            "Invalid inputs\n"
          ],
          "name": "stdout"
        }
      ]
    },
    {
      "cell_type": "markdown",
      "metadata": {
        "id": "TM0EuyQLzeYz",
        "colab_type": "text"
      },
      "source": [
        "Đây là một lỗi phổ biến khi ```None``` có ý nghĩa đặc biệt. Đó là lý do tại sao trả về ```None``` từ một hàm dễ sai. Có hai cách để giảm đi các lỗi như vậy.\n",
        "\n",
        "Cách đầu tiên là chia giá trị trả về thành một một tuple có hai phần tử. Phần đầu tiên của tuple chỉ ra rằng phép tính thành công hay thất bại. Phần thứ hai là kết quả thực sự được tính toán\n",
        "\n"
      ]
    },
    {
      "cell_type": "code",
      "metadata": {
        "id": "QeQpzxGZzbCB",
        "colab_type": "code",
        "colab": {}
      },
      "source": [
        "def divide(a, b):\n",
        "  try:\n",
        "    return True, a/b\n",
        "  except ZeroDivisionError:\n",
        "    return False, None"
      ],
      "execution_count": 0,
      "outputs": []
    },
    {
      "cell_type": "markdown",
      "metadata": {
        "id": "RQ7cZpCH0afT",
        "colab_type": "text"
      },
      "source": [
        "Các lời gọi tới hàm này phải rã tuple trả về. Điều này bắt họ (các hàm gọi) phải xem xét phần nào trong tuple là kết quả, và phần nào là trạng thái của phép tính. "
      ]
    },
    {
      "cell_type": "code",
      "metadata": {
        "id": "DW90VNk10ZDb",
        "colab_type": "code",
        "outputId": "1a8f06da-bb3c-474f-c2d8-000c1949d065",
        "colab": {
          "base_uri": "https://localhost:8080/",
          "height": 34
        }
      },
      "source": [
        "success, result = divide(4, 0)\n",
        "if not success:\n",
        "  print(\"Invalid inputs\")"
      ],
      "execution_count": 0,
      "outputs": [
        {
          "output_type": "stream",
          "text": [
            "Invalid inputs\n"
          ],
          "name": "stdout"
        }
      ]
    },
    {
      "cell_type": "markdown",
      "metadata": {
        "id": "z3_cwCxW06v3",
        "colab_type": "text"
      },
      "source": [
        "Vấn đề là ở chỗ các lời gọi hàm có thể dễ dàng lờ đi phần đầu của tuple trả về (sử dụng biến có hai dấu gạch châu ```__````, một quy ước của Python dành cho các biến không được sử dụng). Đoạn code sử dụng dưới đây nhìn không sai nếu chỉ xét thoáng qua. Nhưng nó trở nên tệ khi kết quả trả về là ```None```"
      ]
    },
    {
      "cell_type": "code",
      "metadata": {
        "id": "OtrfbkFp012z",
        "colab_type": "code",
        "outputId": "889e7a62-d2e8-44af-d4cf-ba363ba773af",
        "colab": {
          "base_uri": "https://localhost:8080/",
          "height": 34
        }
      },
      "source": [
        "_, result = divide(0, 3)\n",
        "\n",
        "if not result:\n",
        "  print(\"Invalid inputs\")"
      ],
      "execution_count": 0,
      "outputs": [
        {
          "output_type": "stream",
          "text": [
            "Invalid inputs\n"
          ],
          "name": "stdout"
        }
      ]
    },
    {
      "cell_type": "markdown",
      "metadata": {
        "id": "Z4Y231qJ1s5m",
        "colab_type": "text"
      },
      "source": [
        "Ở ví dụ trên, dù phép tính là hợp lệ nhưng đoạn mã vẫn in ra kết quả sai, bởi vì ta đã kiểm tra sai biến."
      ]
    },
    {
      "cell_type": "markdown",
      "metadata": {
        "id": "S6Ifr-a414Wo",
        "colab_type": "text"
      },
      "source": [
        "Cách thứ hai tốt hơn là không bao giờ trả về ```None```. Thay vào đó, khởi lên một ngoại lệ cho người gọi và để họ xử lý nó. Ở đây, tôi chuyển ```ZeroDivisionError``` sang ```ValueError``` để nói cho người gọi biết rằng giá trị nhập vào là tệ."
      ]
    },
    {
      "cell_type": "code",
      "metadata": {
        "id": "JWYYp6B71f_4",
        "colab_type": "code",
        "colab": {}
      },
      "source": [
        "def divide(a, b):\n",
        "  try:\n",
        "    return a / b\n",
        "  except ZeroDivisionError as e:\n",
        "    raise ValueError('Invalid inputs') from e"
      ],
      "execution_count": 0,
      "outputs": []
    },
    {
      "cell_type": "code",
      "metadata": {
        "id": "rNa7y7qB2lRE",
        "colab_type": "code",
        "outputId": "76ab4838-1eac-4809-f7bb-c0dc7d57feb3",
        "colab": {
          "base_uri": "https://localhost:8080/",
          "height": 412
        }
      },
      "source": [
        "divide(1, 0)"
      ],
      "execution_count": 0,
      "outputs": [
        {
          "output_type": "error",
          "ename": "ValueError",
          "evalue": "ignored",
          "traceback": [
            "\u001b[0;31m---------------------------------------------------------------------------\u001b[0m",
            "\u001b[0;31mZeroDivisionError\u001b[0m                         Traceback (most recent call last)",
            "\u001b[0;32m<ipython-input-56-9ddc92a75a83>\u001b[0m in \u001b[0;36mdivide\u001b[0;34m(a, b)\u001b[0m\n\u001b[1;32m      2\u001b[0m   \u001b[0;32mtry\u001b[0m\u001b[0;34m:\u001b[0m\u001b[0;34m\u001b[0m\u001b[0;34m\u001b[0m\u001b[0m\n\u001b[0;32m----> 3\u001b[0;31m     \u001b[0;32mreturn\u001b[0m \u001b[0ma\u001b[0m \u001b[0;34m/\u001b[0m \u001b[0mb\u001b[0m\u001b[0;34m\u001b[0m\u001b[0;34m\u001b[0m\u001b[0m\n\u001b[0m\u001b[1;32m      4\u001b[0m   \u001b[0;32mexcept\u001b[0m \u001b[0mZeroDivisionError\u001b[0m \u001b[0;32mas\u001b[0m \u001b[0me\u001b[0m\u001b[0;34m:\u001b[0m\u001b[0;34m\u001b[0m\u001b[0;34m\u001b[0m\u001b[0m\n",
            "\u001b[0;31mZeroDivisionError\u001b[0m: division by zero",
            "\nThe above exception was the direct cause of the following exception:\n",
            "\u001b[0;31mValueError\u001b[0m                                Traceback (most recent call last)",
            "\u001b[0;32m<ipython-input-57-b4d7e8b388b7>\u001b[0m in \u001b[0;36m<module>\u001b[0;34m()\u001b[0m\n\u001b[0;32m----> 1\u001b[0;31m \u001b[0mdivide\u001b[0m\u001b[0;34m(\u001b[0m\u001b[0;36m1\u001b[0m\u001b[0;34m,\u001b[0m \u001b[0;36m0\u001b[0m\u001b[0;34m)\u001b[0m\u001b[0;34m\u001b[0m\u001b[0;34m\u001b[0m\u001b[0m\n\u001b[0m",
            "\u001b[0;32m<ipython-input-56-9ddc92a75a83>\u001b[0m in \u001b[0;36mdivide\u001b[0;34m(a, b)\u001b[0m\n\u001b[1;32m      3\u001b[0m     \u001b[0;32mreturn\u001b[0m \u001b[0ma\u001b[0m \u001b[0;34m/\u001b[0m \u001b[0mb\u001b[0m\u001b[0;34m\u001b[0m\u001b[0;34m\u001b[0m\u001b[0m\n\u001b[1;32m      4\u001b[0m   \u001b[0;32mexcept\u001b[0m \u001b[0mZeroDivisionError\u001b[0m \u001b[0;32mas\u001b[0m \u001b[0me\u001b[0m\u001b[0;34m:\u001b[0m\u001b[0;34m\u001b[0m\u001b[0;34m\u001b[0m\u001b[0m\n\u001b[0;32m----> 5\u001b[0;31m     \u001b[0;32mraise\u001b[0m \u001b[0mValueError\u001b[0m\u001b[0;34m(\u001b[0m\u001b[0;34m'Invalid inputs'\u001b[0m\u001b[0;34m)\u001b[0m \u001b[0;32mfrom\u001b[0m \u001b[0me\u001b[0m\u001b[0;34m\u001b[0m\u001b[0;34m\u001b[0m\u001b[0m\n\u001b[0m",
            "\u001b[0;31mValueError\u001b[0m: Invalid inputs"
          ]
        }
      ]
    },
    {
      "cell_type": "markdown",
      "metadata": {
        "id": "bt_wzxsc2yx8",
        "colab_type": "text"
      },
      "source": [
        "Bây giờ người gọi nên xử lý ngoại lệ trong trường hợp input nhập vào không hợp lệ. NGười gọi không cần thiết phải yêu cầu một câu điều kiện trên giá trị trả về của một hàm. Nếu hàm này không gây ra một ngoại lệ, khi đó giá trị trả về phải là tốt. Kết quả của của việc xử lý ngoại lệ thật rõ ràng."
      ]
    },
    {
      "cell_type": "code",
      "metadata": {
        "id": "rL5GNMGZ2oqv",
        "colab_type": "code",
        "outputId": "059fd5cc-2d7c-4ebd-e280-b69a1213b3c2",
        "colab": {
          "base_uri": "https://localhost:8080/",
          "height": 34
        }
      },
      "source": [
        "x, y = 5, 2\n",
        "try:\n",
        "  result = divide(x, y)\n",
        "except ValueError:\n",
        "  print(\"Invalid inputs\")\n",
        "else:\n",
        "  print(\"Result is %.1f\" %result)"
      ],
      "execution_count": 0,
      "outputs": [
        {
          "output_type": "stream",
          "text": [
            "Result is 2.5\n"
          ],
          "name": "stdout"
        }
      ]
    },
    {
      "cell_type": "code",
      "metadata": {
        "id": "8OQqi3OM3Yp8",
        "colab_type": "code",
        "outputId": "22219710-9732-49d5-975a-f4397b97dabe",
        "colab": {
          "base_uri": "https://localhost:8080/",
          "height": 34
        }
      },
      "source": [
        "x, y = 5, 0\n",
        "try:\n",
        "  result = divide(x, y)\n",
        "except ValueError:\n",
        "  print(\"Invalid inputs\")\n",
        "else:\n",
        "  print(\"Result is %.1f\" %result)"
      ],
      "execution_count": 0,
      "outputs": [
        {
          "output_type": "stream",
          "text": [
            "Invalid inputs\n"
          ],
          "name": "stdout"
        }
      ]
    },
    {
      "cell_type": "markdown",
      "metadata": {
        "id": "lslEgOI23fxY",
        "colab_type": "text"
      },
      "source": [
        "### Những điều cần nhớ\n",
        "\n",
        "\n",
        "*   Các hàm trả về ```None``` để ám chỉ một ý nghĩa đặc biệt dễ bị sai bởi vì ```None``` và các giá trị khác (ví dụ như số 0, hoặc một chuỗi rỗng) đều được đánh giá là ```False``` trong các câu điều kiên\n",
        "*   Khởi lên các ngoại lệ để ám chỉ các tình huống đặc biệt thay vì trả về ```None```. Mong đợi code gọi xử lý các ngoại lệ hợp khi khi chúng được mô tả. \n",
        "\n"
      ]
    },
    {
      "cell_type": "code",
      "metadata": {
        "id": "rSK6DVbf3eKd",
        "colab_type": "code",
        "colab": {}
      },
      "source": [
        "a = None\n",
        "assert not a == False"
      ],
      "execution_count": 0,
      "outputs": []
    },
    {
      "cell_type": "markdown",
      "metadata": {
        "id": "2ISUurGX577y",
        "colab_type": "text"
      },
      "source": [
        "## Xem xét sử dụng các Generators thay vì trả về các danh sách \n",
        "\n",
        "Lựa chọn đơn giản nhất cho các hàm muốn trả về một chuỗi các kết quả là trả về một danh sách các phần tử. Ví dụ, bạn muốn tìm chỉ số của mỗi từ trong một chuỗi. Trường hợp này, tôi dồn các kết quả vào trong một danh sách sử dụng phương thức ```append``` và trả nó về vào cuối hàm.\n"
      ]
    },
    {
      "cell_type": "code",
      "metadata": {
        "id": "_yl2TqL54QJr",
        "colab_type": "code",
        "colab": {}
      },
      "source": [
        "def index_words(text):\n",
        "  result = []\n",
        "  if text:\n",
        "    result.append(0)\n",
        "  for index, letter in enumerate(text):\n",
        "    if letter == \" \":\n",
        "      result.append(index + 1)\n",
        "  return result "
      ],
      "execution_count": 0,
      "outputs": []
    },
    {
      "cell_type": "markdown",
      "metadata": {
        "id": "qr8GYv6c7eUN",
        "colab_type": "text"
      },
      "source": [
        "Đoạn mã hoạt động đối với một vài input"
      ]
    },
    {
      "cell_type": "code",
      "metadata": {
        "id": "rn-5efgZ7dYs",
        "colab_type": "code",
        "outputId": "b7c911fc-df5f-4881-b281-3869b764bf65",
        "colab": {
          "base_uri": "https://localhost:8080/",
          "height": 34
        }
      },
      "source": [
        "address = 'Four score and seven years ago...'\n",
        "result = index_words(address)\n",
        "print(result[:3])"
      ],
      "execution_count": 0,
      "outputs": [
        {
          "output_type": "stream",
          "text": [
            "[0, 5, 11]\n"
          ],
          "name": "stdout"
        }
      ]
    },
    {
      "cell_type": "markdown",
      "metadata": {
        "id": "A_lg-uO_7xeG",
        "colab_type": "text"
      },
      "source": [
        "Có hai vấn đề với hàm ```index_words```. \n",
        "\n",
        "Vấn đề thứ nhất là đoạn mã được biết nhìn hơi dày và rắc rối. Mỗi lần một kết quả mới được gọi, tôi gọi phương thức ```append```. Kích thước của lời gọi (```result.append```) làm giảm đi tầm quan trọng của giá trị được thêm vào trong danh sách (```index + 1```). Có một dòng để tạo danh sách kết quả và một dòng khác trả lại kết quả. Trong khi thân hàm chứa khoảng 130 kí tự (trừ ra khoảng trắng), chỉ có 75 kí tự là quan trọng.\n",
        "\n",
        "Có một cách tốt hơn để viết hàm này đó là sử dụng một *\bgenerator*. Các generators là những hàm sử dụng các câu lệnh ```yield```. Khi được gọi, các hàm generator không chạy gì cả mà thay vào đó nó trả về một iterator. Với mỗi lời gọi hàm ```next``` có sẵn trong python sẽ làm cho generator tiến tới câu lệnh ```yield``` tiếp theo. Mỗi giá trị được truyền tới ```yield``` bởi generator sẽ được trả về tới người gọi bởi iterator. \n",
        "\n",
        "Ở đây tôi định nghĩa một hàm generator tạo ra kết quả giống như cách làm sử dụng danh sách phía trên."
      ]
    },
    {
      "cell_type": "code",
      "metadata": {
        "id": "oGxzy59v7t8T",
        "colab_type": "code",
        "colab": {}
      },
      "source": [
        "def index_words_iter(text):\n",
        "  if text:\n",
        "    yield 0\n",
        "  for index, letter in enumerate(text):\n",
        "    if letter == \" \":\n",
        "      yield index + 1"
      ],
      "execution_count": 0,
      "outputs": []
    },
    {
      "cell_type": "markdown",
      "metadata": {
        "id": "JMy-uuJR97sr",
        "colab_type": "text"
      },
      "source": [
        "Đoạn code phía trên dễ đọc hơn rất nhiều bởi vì tất cả các tương tác với danh sách kết quả đều được loại bỏ. Thay vào đó các kết quả được đưa cho các biểu thức ```yield```. Iterator được trả về bởi lời gọi generator có thể dễ dàng được chuyển thành mọt danh sách bằng cách truyền nó cho hàm có sẵn ```list```. "
      ]
    },
    {
      "cell_type": "code",
      "metadata": {
        "id": "1Rt7T-_a94FS",
        "colab_type": "code",
        "colab": {}
      },
      "source": [
        "result = list(index_words_iter(address))"
      ],
      "execution_count": 0,
      "outputs": []
    },
    {
      "cell_type": "code",
      "metadata": {
        "id": "O8SwQTMD-j_4",
        "colab_type": "code",
        "outputId": "4497df5d-98cc-4279-aa82-673d0fa98afc",
        "colab": {
          "base_uri": "https://localhost:8080/",
          "height": 34
        }
      },
      "source": [
        "result"
      ],
      "execution_count": 0,
      "outputs": [
        {
          "output_type": "execute_result",
          "data": {
            "text/plain": [
              "[0, 5, 11, 15, 21, 27]"
            ]
          },
          "metadata": {
            "tags": []
          },
          "execution_count": 66
        }
      ]
    },
    {
      "cell_type": "markdown",
      "metadata": {
        "id": "U3YGSoaL-oQl",
        "colab_type": "text"
      },
      "source": [
        "Vấn đề thứ hai với ```index_words``` đó là hàm này yêu cầu tất cả các kết quả được lưu vào trong một danh sách trước khi được trả về. Đối với các inputs lớn, việc này có thể làm cho chương trình của bạn tiêu tốn hết bộ nhớ và crash. Ngược lại, một phiên bản generator của hàm này có thể dễ dàng được thích ứng để nhận các inputs với bất cứ chiều dài nào."
      ]
    },
    {
      "cell_type": "markdown",
      "metadata": {
        "id": "FT33FNai_LAe",
        "colab_type": "text"
      },
      "source": [
        "Ở đây tôi định nghĩa một generator lấy input từ một file, mỗi thời điểm một dòng và xuất ra các kết quả mỗi từ một lần. Bộ nhớ của hàm nà được giới hạn tới độ dài cực đại của mỗi dòng input đầu vào"
      ]
    },
    {
      "cell_type": "code",
      "metadata": {
        "id": "iXXFYy18-law",
        "colab_type": "code",
        "colab": {}
      },
      "source": [
        "def index_file(handle):\n",
        "  offset = 0\n",
        "  for line in handle:\n",
        "    if line:\n",
        "      yield offset\n",
        "    for letter in line:\n",
        "      offset += 1\n",
        "      if letter == ' ':\n",
        "        yield offset"
      ],
      "execution_count": 0,
      "outputs": []
    },
    {
      "cell_type": "markdown",
      "metadata": {
        "id": "xEXZtlX1_5AS",
        "colab_type": "text"
      },
      "source": [
        "Chạy generator phái trên cho ra cùng kết quả"
      ]
    },
    {
      "cell_type": "code",
      "metadata": {
        "id": "11RKWkqv_1Tr",
        "colab_type": "code",
        "outputId": "69af486b-14a2-4606-809b-40aadd38c476",
        "colab": {
          "base_uri": "https://localhost:8080/",
          "height": 34
        }
      },
      "source": [
        "from itertools import islice\n",
        "with open(\"address.txt\") as f:\n",
        "  it = index_file(f)\n",
        "  results = islice(it, 0, 3)\n",
        "  print(list(results))"
      ],
      "execution_count": 0,
      "outputs": [
        {
          "output_type": "stream",
          "text": [
            "[0, 2, 7]\n"
          ],
          "name": "stdout"
        }
      ]
    },
    {
      "cell_type": "markdown",
      "metadata": {
        "id": "x6jUl6UI__XJ",
        "colab_type": "text"
      },
      "source": [
        "Vấn đề của việc định nghĩa các generators như thế này đó là các lời gọi phải biết được rằng các iterators được trả về là stateful (nghĩa là máy tính sẽ lưu trữ trạng thái các tương tác) và không thể tái sử **dụng**"
      ]
    },
    {
      "cell_type": "markdown",
      "metadata": {
        "id": "3vz80QPxBmlh",
        "colab_type": "text"
      },
      "source": [
        "### Những điều cần nhớ\n",
        "\n",
        "\n",
        "*   Sử dụng generators có thể làm cho code sáng sủa hơn thay vì dùng các danh sách để lưu trữ các kết quả tích luỹ\n",
        "*   Iterator trả về bởi một generator tạo một tập các giá trị được gửi tới các biểu diễn ```yield``` bên trong thân hàm generator.\n",
        "* Các generators có thể tạo ra một chuỗi các kết quả cho các inputs lớn tuỳ ý bởi vì bộ nhớ hoạt động của chúng không bao gồm tất cả các inputs và outputs.\n",
        "\n"
      ]
    },
    {
      "cell_type": "markdown",
      "metadata": {
        "id": "5gRRzwbVsXzQ",
        "colab_type": "text"
      },
      "source": [
        "## Mang tâm thế phòng vệ khi lặp qua các tham số\n",
        "\n",
        "Khi một hàm nhận một danh sách các đối tượng như là tham số, ta thường lặp qua danh sách đó nhiều lần. Ví dụ, bạn muốn phân tích số lượng khách du lịch của bang Texax. Tưởng tượng rằng tập dữ liệu là số lượng các du khách tới mỗi thành phố (hàng triệu mỗi năm). Bạn muốn tìm phần trăm lượng du khách tổng thể mỗi thành phố trong bang nhận được.\n",
        "\n",
        "Để làm điều này bạn cần một hàm chuẩn hoá (normalization function). Hàm này tính tổng các inputs để xác định tổng số lượng du khách mỗi năm. Sau đó nó chia mỗi số lượng khách cho con số tổng để tìm ra đóng góp của mỗi thành phố cho tổng thể."
      ]
    },
    {
      "cell_type": "code",
      "metadata": {
        "id": "jmFpEt-aBhdG",
        "colab_type": "code",
        "colab": {}
      },
      "source": [
        "def normalize(numbers):\n",
        "  total = sum(numbers)\n",
        "  result = []\n",
        "  for value in numbers:\n",
        "    percent = 100 * value / total\n",
        "    result.append(percent)\n",
        "  return result"
      ],
      "execution_count": 0,
      "outputs": []
    },
    {
      "cell_type": "markdown",
      "metadata": {
        "id": "NarhJY-nuel2",
        "colab_type": "text"
      },
      "source": [
        "Hàm này hoạt động tốt với một danh sách số lượng các chuyến thăm."
      ]
    },
    {
      "cell_type": "code",
      "metadata": {
        "id": "Tevtn6xEulx4",
        "colab_type": "code",
        "outputId": "2a956f33-2726-41f1-acd1-19e432d57fa3",
        "colab": {
          "base_uri": "https://localhost:8080/",
          "height": 34
        }
      },
      "source": [
        "visits = [15, 35, 80]\n",
        "percentages = normalize(visits)\n",
        "print(percentages)"
      ],
      "execution_count": 0,
      "outputs": [
        {
          "output_type": "stream",
          "text": [
            "[11.538461538461538, 26.923076923076923, 61.53846153846154]\n"
          ],
          "name": "stdout"
        }
      ]
    },
    {
      "cell_type": "markdown",
      "metadata": {
        "id": "1szQIEJquw2B",
        "colab_type": "text"
      },
      "source": [
        "Để mở rộng hàm trên, bạn cần đọc dữ liệu từ một file chứa mọi thành phố trong tiểu bang Texas. Tôi định nghĩa một generator để làm điều đó bởi vì tôi có thể tái sử dụng hàm này khi tôi muốn tính toán số lượng du khách cho toàn bộ thế giới, một tập dữ liệu lớn hơn rất nhiều"
      ]
    },
    {
      "cell_type": "code",
      "metadata": {
        "id": "FRR7JCH-utj4",
        "colab_type": "code",
        "colab": {}
      },
      "source": [
        "def read_visits(data_path):\n",
        "  with open(data_path) as f:\n",
        "    for line in f:\n",
        "      yield int(line)"
      ],
      "execution_count": 0,
      "outputs": []
    },
    {
      "cell_type": "markdown",
      "metadata": {
        "id": "7VhPxabRv1S7",
        "colab_type": "text"
      },
      "source": [
        "Tuy nhiên gọi hàm ```normalize``` trên giá trị trả về của generator không đưa ra kết quả gì."
      ]
    },
    {
      "cell_type": "code",
      "metadata": {
        "id": "oKXbajCUvTJv",
        "colab_type": "code",
        "outputId": "7806c8ac-ec83-4843-fb4f-7310e4fb42aa",
        "colab": {
          "base_uri": "https://localhost:8080/",
          "height": 34
        }
      },
      "source": [
        "it = read_visits(\"my_numbers.txt\")\n",
        "percentages = normalize(it)\n",
        "print(percentages)"
      ],
      "execution_count": 0,
      "outputs": [
        {
          "output_type": "stream",
          "text": [
            "[]\n"
          ],
          "name": "stdout"
        }
      ]
    },
    {
      "cell_type": "markdown",
      "metadata": {
        "id": "CKvLekmTwEWH",
        "colab_type": "text"
      },
      "source": [
        "Lý do là bởi vì một iterator chỉ tạo ra các kết quả một lần duy nhất. Bạn phải lặp qua một iterator hoặc generator đã khởi lên một ngoại lệ ```StopIteration```, bạn sẽ không có bất cứ kết quả nào trong lần hai"
      ]
    },
    {
      "cell_type": "code",
      "metadata": {
        "id": "flRFt8Mivl2P",
        "colab_type": "code",
        "outputId": "f9cf7a4f-d824-4a18-f0c9-edee906fa4f7",
        "colab": {
          "base_uri": "https://localhost:8080/",
          "height": 51
        }
      },
      "source": [
        "it = read_visits(\"my_numbers.txt\")\n",
        "print(list(it))\n",
        "print(list(it))"
      ],
      "execution_count": 0,
      "outputs": [
        {
          "output_type": "stream",
          "text": [
            "[13, 23, 12, 45, 31, 41, 23]\n",
            "[]\n"
          ],
          "name": "stdout"
        }
      ]
    },
    {
      "cell_type": "markdown",
      "metadata": {
        "id": "3Zbc3TPtw5xO",
        "colab_type": "text"
      },
      "source": [
        "Điều gây nhầm lẫn ở đây là bạn sẽ không thấy bắt cứ lỗi nào khi bạn lặp qua một iterator đã cạn kiệt. Các vòng lặp ```for```, các xây dựng ```list```, và nhiều hàm khác trong thư viện chuẩn Python mong đợi ```StopIteration``` được khởi lên trong những hoạt động bình thường. Các hàm này không thể nói lên sự khác biệt giữa một iterator không có output và một iterator có output và bị cạn kiệt.\n",
        "\n",
        "\n",
        "Để giải vấn đề này, ban có thể làm cạn kiệt một iterator đầu vào và giữ một bản sao của tất cả nội dung trong một danh sách. Bạn có thể lặp qua phiên bản danh sách của dữ liệu bao nhiêu lần bạn muốn. Dưới đây là cùng một hàm như trước , nhưng hàm mới này sao chép iterator đầu vào."
      ]
    },
    {
      "cell_type": "code",
      "metadata": {
        "id": "iTe_3-mRwpTa",
        "colab_type": "code",
        "colab": {}
      },
      "source": [
        "def normalize_copy(numbers):\n",
        "  numbers = list(numbers) # Sao chép iterator\n",
        "  total = sum(numbers)\n",
        "  result = []\n",
        "  for value in numbers:\n",
        "    percent = 100 * value / total\n",
        "    result.append(percent)\n",
        "  return result "
      ],
      "execution_count": 0,
      "outputs": []
    },
    {
      "cell_type": "markdown",
      "metadata": {
        "id": "ox8MJoZ-PW_3",
        "colab_type": "text"
      },
      "source": [
        "Hàm mới bây giờ hoạt động đúng trên giá trị trả về của generator"
      ]
    },
    {
      "cell_type": "code",
      "metadata": {
        "id": "UDGOz4o-PWNj",
        "colab_type": "code",
        "outputId": "d12307ab-9ce3-4581-ce73-5f4f73ff9efd",
        "colab": {
          "base_uri": "https://localhost:8080/",
          "height": 54
        }
      },
      "source": [
        "it = read_visits('my_numbers.txt')\n",
        "percentages = normalize_copy(it)\n",
        "print(percentages)"
      ],
      "execution_count": 0,
      "outputs": [
        {
          "output_type": "stream",
          "text": [
            "[6.914893617021277, 12.23404255319149, 6.382978723404255, 23.93617021276596, 16.48936170212766, 21.80851063829787, 12.23404255319149]\n"
          ],
          "name": "stdout"
        }
      ]
    },
    {
      "cell_type": "markdown",
      "metadata": {
        "id": "3QdagZA-QKx-",
        "colab_type": "text"
      },
      "source": [
        "Vấn đề với cách tiếp cận này đó là bản sao nội dung của iterator đầu vào có thể lớn. Sao chép iterator lớn này có thể làm cho chương trình sử dụng hết bộ nhớ và crash. Có một cách để giải quyết là chấp nhật một hàm và trả về một iterator mới mỗi lần hàm này được gọi."
      ]
    },
    {
      "cell_type": "code",
      "metadata": {
        "id": "-XbnU6TZQmPe",
        "colab_type": "code",
        "colab": {}
      },
      "source": [
        "def normalize_func(get_iter):\n",
        "  total = sum(get_iter()) # iterator mới\n",
        "  result = []\n",
        "  for value in get_iter(): # Iterator mới \n",
        "    percent = 100 * value / total\n",
        "    result.append(percent)"
      ],
      "execution_count": 0,
      "outputs": []
    },
    {
      "cell_type": "markdown",
      "metadata": {
        "id": "7SGXGQDljH2C",
        "colab_type": "text"
      },
      "source": [
        "Để sử dụng ```normalize_func```, bạn có thể truyền cho nó một biểu diễn ```lambda```, lambda này gọi generator và tạo ra một iterator mỗi lần"
      ]
    },
    {
      "cell_type": "code",
      "metadata": {
        "id": "qmjJo2jXfhxx",
        "colab_type": "code",
        "colab": {}
      },
      "source": [
        "percentages = normalize_func(lambda: read_visits(\"my_numbers.txt\"))\n",
        "percentages"
      ],
      "execution_count": 0,
      "outputs": []
    },
    {
      "cell_type": "markdown",
      "metadata": {
        "id": "GfN8KUt3jrJx",
        "colab_type": "text"
      },
      "source": [
        "Mặc dù cách này chạy được, nhưng phải truyền vào một hàm lambda nhìn hơi rắc rối. Có một cách tốt hơn để có được cùng kết quả là cung cấp một lớp chứa mới (container class) thực hiện giao thức iterator (iterator protocol)\n",
        "\n",
        "Giao thức iterator là cách các vòng lặp ```for``` và các biểu diễn liên quan đi qua các nội dung của một kiểu chứa (container type). Khi Python nhìn thấy một câu lệnh như ```for x in foo``` nó sẽ thực sự gọi ```iter(foo)```. Hàm có sẵn ```iter``` sau đó gọi phương thức đặc biệt ```foo.__iter__```. Phương thức ```__iter__``` phải trả về một đối tượng iterator (chính đối tượng này thực hiện phương thức đặc biệt ```__next__```). Sau đó vòng lặp ```for``` lặp lại gọi hàm có sẵn ```next``` trên đối tượng iterator cho đến khi nó cạn kệt (và khởi lên một ngoại lệ ```StopIteration```)\n",
        "\n",
        "Nghe có vẻ phức tập, nhưng bạn có thể đạt được tất cả điều này thông qua việc triển khai phương thức ```__iter__``` như là một generator. Ở đây, tôi định nghĩa một lớp chứa có thể lặp (iterable container class) lớp này đọc các tệp tin chứa nội dung khách du lịch"
      ]
    },
    {
      "cell_type": "code",
      "metadata": {
        "id": "mw8TNxAqf0Pv",
        "colab_type": "code",
        "colab": {}
      },
      "source": [
        "class ReadVisits(object):\n",
        "  def __init__(self, data_path):\n",
        "    self.data_path = data_path\n",
        "\n",
        "  def __iter__(self):\n",
        "    with open(self.data_path) as f:\n",
        "      for line in f:\n",
        "        yield int(line)"
      ],
      "execution_count": 0,
      "outputs": []
    },
    {
      "cell_type": "markdown",
      "metadata": {
        "id": "8S2K6xRkmPm-",
        "colab_type": "text"
      },
      "source": [
        "Container mới này hoạt động đúng khi được truyền cho hàm ban đầu mà không phải chỉnh sửa gì cả"
      ]
    },
    {
      "cell_type": "code",
      "metadata": {
        "id": "bh2IR4IZmc3V",
        "colab_type": "code",
        "outputId": "08b16fe3-2d49-4fb1-f0ff-169aa540603e",
        "colab": {
          "base_uri": "https://localhost:8080/",
          "height": 54
        }
      },
      "source": [
        "visits = ReadVisits(\"my_numbers.txt\")\n",
        "percentages = normalize(visits)\n",
        "print(percentages)"
      ],
      "execution_count": 0,
      "outputs": [
        {
          "output_type": "stream",
          "text": [
            "[6.914893617021277, 12.23404255319149, 6.382978723404255, 23.93617021276596, 16.48936170212766, 21.80851063829787, 12.23404255319149]\n"
          ],
          "name": "stdout"
        }
      ]
    },
    {
      "cell_type": "markdown",
      "metadata": {
        "id": "xliTnsUQmN5a",
        "colab_type": "text"
      },
      "source": [
        "Cách làm trên chạy được là bởi vì phương thức ```sum``` trong ```normalize``` sẽ gọi ```ReadVisits.__iter__``` để cấp phát một đối tượng iterator mới. Vòng lặp ```for``` qua các số cũng sẽ gọi ```__iter__``` để cấp phát một đối tượng iterator thứ hai. Mỗi iterator sẽ được đẩy lên và cạn kiệt độc lập với nhau, đảm bảo rằng mỗi vòng lặp nhìn thấy tất cả cá dữ liệu đầu vào. Chỉ có một điểm trừ của cách tiếp cận này đó là nó đọc dữ liệu đầu vào nhiều lần. \n",
        "\n",
        "Bây giờ bạn đã biết được các containers như ```ReadVisits``` hoạt động thế nào, bạn có thể viết các hàm của mình để đảm bảo rằng các tham số không phải là các iterators. Giao thức chỉ ra rằng khi một iterator được truyền vào hàm có sẵn ```iter```, ```iter``` sẽ trả về chính iterator đó. Ngược lại, khi một kiểu chứa được truyền vào ```iter```, một đối tượng iterator sẽ được trả về mỗi lần gọi. Do đó, bạn có thể kiểm tra một giá trị đầu vào cho kiểu hành xử này và khởi lên một ngoại lệ ```TypeError``` để từ chối các iterators."
      ]
    },
    {
      "cell_type": "code",
      "metadata": {
        "id": "7pEHJtkOgEGq",
        "colab_type": "code",
        "colab": {}
      },
      "source": [
        "def normalize_defensive(numbers):\n",
        "  if iter(numbers) is iter(numbers): # Một iterator -- không tốt!\n",
        "    raise TypeError('Must supply a container')\n",
        "  \n",
        "  total = sum(numbers)\n",
        "  result = []\n",
        "  for value in numbers:\n",
        "    percent = 100 * value / total\n",
        "    result.append(percent)\n",
        "  return result"
      ],
      "execution_count": 0,
      "outputs": []
    },
    {
      "cell_type": "markdown",
      "metadata": {
        "id": "mcJu5oMfpk2W",
        "colab_type": "text"
      },
      "source": [
        "Hàm trên hiệu quả nếu bạn không muốn sao chép toàn bộ iterator đầu vào như hàm ```normalize_copy``` ở phía trên, nhưng bạn cần lặp qua dữ liệu liệu đầu vào nhiều lần. Hàm này hoạt động tốt với ```list``` và ```ReadVisits``` bởi vì chúng là các đối tượng chứa (containers). Nó sẽ hoạt động cho bất cứ kiểu chứa nào tuân theo giao thức iterator. "
      ]
    },
    {
      "cell_type": "code",
      "metadata": {
        "id": "Ov2B_qhppeee",
        "colab_type": "code",
        "outputId": "49c7a24d-a437-4585-8c95-3a9911bf07b7",
        "colab": {
          "base_uri": "https://localhost:8080/",
          "height": 136
        }
      },
      "source": [
        "visits = [15, 35, 80]\n",
        "normalize_defensive(visits)\n",
        "visits = ReadVisits(\"my_numbers.txt\")\n",
        "normalize_defensive(visits)"
      ],
      "execution_count": 0,
      "outputs": [
        {
          "output_type": "execute_result",
          "data": {
            "text/plain": [
              "[6.914893617021277,\n",
              " 12.23404255319149,\n",
              " 6.382978723404255,\n",
              " 23.93617021276596,\n",
              " 16.48936170212766,\n",
              " 21.80851063829787,\n",
              " 12.23404255319149]"
            ]
          },
          "metadata": {
            "tags": []
          },
          "execution_count": 27
        }
      ]
    },
    {
      "cell_type": "markdown",
      "metadata": {
        "id": "wwnAYIHsqaO-",
        "colab_type": "text"
      },
      "source": [
        "Hàm này sẽ khởi lên một ngoại lệ nếu giá trị đầu vào có  thể lặp (iterable) nhưng không phải là đối tượng chứa."
      ]
    },
    {
      "cell_type": "code",
      "metadata": {
        "id": "IhFQEk4wqW_Q",
        "colab_type": "code",
        "outputId": "671daa8c-8fd9-4b18-bd68-14c507719e0d",
        "colab": {
          "base_uri": "https://localhost:8080/",
          "height": 300
        }
      },
      "source": [
        "it = iter(visits)\n",
        "normalize_defensive(it)"
      ],
      "execution_count": 0,
      "outputs": [
        {
          "output_type": "error",
          "ename": "TypeError",
          "evalue": "ignored",
          "traceback": [
            "\u001b[0;31m---------------------------------------------------------------------------\u001b[0m",
            "\u001b[0;31mTypeError\u001b[0m                                 Traceback (most recent call last)",
            "\u001b[0;32m<ipython-input-28-7655d24993e5>\u001b[0m in \u001b[0;36m<module>\u001b[0;34m()\u001b[0m\n\u001b[1;32m      1\u001b[0m \u001b[0mit\u001b[0m \u001b[0;34m=\u001b[0m \u001b[0miter\u001b[0m\u001b[0;34m(\u001b[0m\u001b[0mvisits\u001b[0m\u001b[0;34m)\u001b[0m\u001b[0;34m\u001b[0m\u001b[0;34m\u001b[0m\u001b[0m\n\u001b[0;32m----> 2\u001b[0;31m \u001b[0mnormalize_defensive\u001b[0m\u001b[0;34m(\u001b[0m\u001b[0mit\u001b[0m\u001b[0;34m)\u001b[0m\u001b[0;34m\u001b[0m\u001b[0;34m\u001b[0m\u001b[0m\n\u001b[0m",
            "\u001b[0;32m<ipython-input-26-094869dd6c3a>\u001b[0m in \u001b[0;36mnormalize_defensive\u001b[0;34m(numbers)\u001b[0m\n\u001b[1;32m      1\u001b[0m \u001b[0;32mdef\u001b[0m \u001b[0mnormalize_defensive\u001b[0m\u001b[0;34m(\u001b[0m\u001b[0mnumbers\u001b[0m\u001b[0;34m)\u001b[0m\u001b[0;34m:\u001b[0m\u001b[0;34m\u001b[0m\u001b[0;34m\u001b[0m\u001b[0m\n\u001b[1;32m      2\u001b[0m   \u001b[0;32mif\u001b[0m \u001b[0miter\u001b[0m\u001b[0;34m(\u001b[0m\u001b[0mnumbers\u001b[0m\u001b[0;34m)\u001b[0m \u001b[0;32mis\u001b[0m \u001b[0miter\u001b[0m\u001b[0;34m(\u001b[0m\u001b[0mnumbers\u001b[0m\u001b[0;34m)\u001b[0m\u001b[0;34m:\u001b[0m \u001b[0;31m# Một iterator -- không tốt!\u001b[0m\u001b[0;34m\u001b[0m\u001b[0;34m\u001b[0m\u001b[0m\n\u001b[0;32m----> 3\u001b[0;31m     \u001b[0;32mraise\u001b[0m \u001b[0mTypeError\u001b[0m\u001b[0;34m(\u001b[0m\u001b[0;34m'Must supply a container'\u001b[0m\u001b[0;34m)\u001b[0m\u001b[0;34m\u001b[0m\u001b[0;34m\u001b[0m\u001b[0m\n\u001b[0m\u001b[1;32m      4\u001b[0m \u001b[0;34m\u001b[0m\u001b[0m\n\u001b[1;32m      5\u001b[0m   \u001b[0mtotal\u001b[0m \u001b[0;34m=\u001b[0m \u001b[0msum\u001b[0m\u001b[0;34m(\u001b[0m\u001b[0mnumbers\u001b[0m\u001b[0;34m)\u001b[0m\u001b[0;34m\u001b[0m\u001b[0;34m\u001b[0m\u001b[0m\n",
            "\u001b[0;31mTypeError\u001b[0m: Must supply a container"
          ]
        }
      ]
    },
    {
      "cell_type": "markdown",
      "metadata": {
        "id": "ncKoKKzFquk-",
        "colab_type": "text"
      },
      "source": [
        "### Những điều cần nhớ\n",
        "\n",
        "\n",
        "*   Biết \bđược các hàm lặp qua các tham số nhiều lần. Nếu các tham số là các iterators, bạn có thể thấy cư xử hơi lệ và các giá trị bị mất\n",
        "*   Giao thức iterator của Python định nghĩa cách các đối tượng chứa và các iterators tương tác với các hàm có sẵn ```iter``` và ```next```, các vòng lặp, và các biểu diễn liên quan.\n",
        "* Bạn có thể dễ dàng định nghĩa kiểu chứa có thể lặp của bạn thông qua phương thức ```__iter__``` như là một generator.\n",
        "* Bạn có thể phát hiện xem một giá trị có là một iterator hay không (hay là một đối tượng chứa) nếu gọi ```iter``` trên đối tượng đó hai lần, hàm này sau đó gọi hàm có sẵn ```next```\n",
        "\n"
      ]
    },
    {
      "cell_type": "markdown",
      "metadata": {
        "id": "ddLfgg72KqWv",
        "colab_type": "text"
      },
      "source": [
        "## Nên sử dụng các lớp trợ giúp hơn là sử dụng các từ điển và tuples để giúp các bản ghi\n",
        "\n",
        "Kiểu từ điển có sẵn của Python giúp duy trì trang thái nội tại động (dynamic internal state) của một đối tượng qua thời gian. Ở đây *\u001dđộng* có nghĩa là trong những hoàn cảnh bạn cần lưu giữ các bản sao cho một tập hợp các đối tượng không được mong đợi. Ví dụ bạn muốn lưu lại điểm số của một tập hợp các học sinh nhưng bạn không biết trước tên của các học sinh này. Bạn có thể định nghĩa một lớp để lưu tên trong một từ điển thay vì sử dụng một thuộc tính được định nghĩa sẵn cho mỗi học sinh "
      ]
    },
    {
      "cell_type": "code",
      "metadata": {
        "id": "-ilxjc3ZqrhS",
        "colab_type": "code",
        "colab": {}
      },
      "source": [
        "class SimpleGradebook(object):\n",
        "  def __init__(self):\n",
        "    self._grades = {}\n",
        "\n",
        "  def add_student(self, name):\n",
        "    self._grades[name] = []\n",
        "\n",
        "  def report_grade(self, name, score):\n",
        "    self._grades[name].append(score)\n",
        "\n",
        "  def average_grade(self, name):\n",
        "    grades = self._grades[name]\n",
        "    return sum(grades) / len(grades)"
      ],
      "execution_count": 0,
      "outputs": []
    },
    {
      "cell_type": "markdown",
      "metadata": {
        "id": "0vPJhjaIMP-O",
        "colab_type": "text"
      },
      "source": [
        "Sử dụng lớp đơn giản hơn"
      ]
    },
    {
      "cell_type": "code",
      "metadata": {
        "id": "auQLuSOJMPKb",
        "colab_type": "code",
        "outputId": "e288157c-c385-4cda-a40f-8fce62785ada",
        "colab": {
          "base_uri": "https://localhost:8080/",
          "height": 34
        }
      },
      "source": [
        "book = SimpleGradebook()\n",
        "book.add_student('Isaac Newton')\n",
        "book.report_grade('Isaac Newton', 90)\n",
        "print(book.average_grade('Isaac Newton'))"
      ],
      "execution_count": 0,
      "outputs": [
        {
          "output_type": "stream",
          "text": [
            "90.0\n"
          ],
          "name": "stdout"
        }
      ]
    },
    {
      "cell_type": "markdown",
      "metadata": {
        "id": "GfzJBfyuMkRx",
        "colab_type": "text"
      },
      "source": [
        "Từ điển rất dễ sử dụng nhưng khi bạn mở rộng nó quá trớn để viết đoạn mã không ổn định thì nó lại nguy nhiểm. Ví dụ, bạn muốn mở rôgnj lớp ```SimpleGradebook``` để giữ một danh sách các điểm cho mỗi môn, chứ không phải là điểm tổng kết. Bạn có thể làm điều đó bằng cách thay đổi từ điển ```_grades``` để ánh xạ các tên học sinh (các chìa khoá) tới một từ điẻn khác (các giá trị). Từ điển phía trong sẽ ánh xạ các chủ thể (các chìa khoá) tới các các điểm số (các giá trị)"
      ]
    },
    {
      "cell_type": "code",
      "metadata": {
        "id": "H1wOjYIGMjC8",
        "colab_type": "code",
        "colab": {}
      },
      "source": [
        "class BySubjectGradebook(object):\n",
        "  def __init__(self):\n",
        "    self._grades = {}\n",
        "  def add_student(self, name):\n",
        "    self._grades[name] = {}\n",
        "\n",
        "  def report_grade(self, name, subject, grade):\n",
        "    by_subject = self._grades[name]\n",
        "    grade_list = by_subject.setdefault(subject, [])\n",
        "    grade_list.append(grade)\n",
        "    grade_list.append(grade)\n",
        "\n",
        "  def average_grade(self, name):\n",
        "    by_subject = self._grades[name]\n",
        "    total, count = 0, 0\n",
        "    for grades in by_subject.values():\n",
        "      total += sum(grades)\n",
        "      count += len(grades)\n",
        "    return total / count\n"
      ],
      "execution_count": 0,
      "outputs": []
    },
    {
      "cell_type": "markdown",
      "metadata": {
        "id": "Ece4IcePNmzb",
        "colab_type": "text"
      },
      "source": [
        "Cách này đủ dễ hiểu. Các phương thức ```report_grade``` và ```average_grade``` sẽ phức tạp hơn chút ít nhưng vẫn có thể quản lý được."
      ]
    },
    {
      "cell_type": "code",
      "metadata": {
        "id": "H5dniDdaNlfI",
        "colab_type": "code",
        "colab": {}
      },
      "source": [
        ""
      ],
      "execution_count": 0,
      "outputs": []
    },
    {
      "cell_type": "code",
      "metadata": {
        "id": "sK8TmwtQOhU3",
        "colab_type": "code",
        "colab": {}
      },
      "source": [
        ""
      ],
      "execution_count": 0,
      "outputs": []
    },
    {
      "cell_type": "markdown",
      "metadata": {
        "id": "cxHnpph5PYqb",
        "colab_type": "text"
      },
      "source": [
        "Sử dụng lớp vẫn thấy đơn giản"
      ]
    },
    {
      "cell_type": "code",
      "metadata": {
        "id": "c1BiAEJ6OyOl",
        "colab_type": "code",
        "colab": {}
      },
      "source": [
        "book = BySubjectGradebook()\n",
        "book.add_student('Albert Einstein')\n",
        "book.report_grade('Albert Einstein', 'Math', 74)\n",
        "book.report_grade('Albert Einstein', 'Math', 42)\n",
        "book.report_grade('Albert Einstein', 'Gym', 12)\n",
        "book.report_grade('Albert Einstein', 'Gym', 123)"
      ],
      "execution_count": 0,
      "outputs": []
    },
    {
      "cell_type": "code",
      "metadata": {
        "id": "kojMStjuO2kD",
        "colab_type": "code",
        "colab": {}
      },
      "source": [
        ""
      ],
      "execution_count": 0,
      "outputs": []
    },
    {
      "cell_type": "markdown",
      "metadata": {
        "id": "fkIHRY_ZQFl0",
        "colab_type": "text"
      },
      "source": [
        "Nào hãy tưởng tượng các yêu cầu cho chương trình thay đổi nữa. Bạn vẫn muốn theo dõi điểm từng môn tương quan điểm tổng kết, vì vậy các điểm kiểm tra giữa kì và cuối kì quan trọng hơn các kiểm tra miệng. Một cách để làm điều này đó là thay đổi từ điển bên trong; thay vì ánh xạ các đối tượng (các chìa khoá) tới các điểm thi (các giá trị), tôi có thể sử dụng tuple ```(score, weight)``` như là các giá trị. "
      ]
    },
    {
      "cell_type": "code",
      "metadata": {
        "id": "tZmmz7H-Qrxe",
        "colab_type": "code",
        "colab": {}
      },
      "source": [
        "class WeightedGradebook(object):\n",
        "  def __init__(self):\n",
        "    self._grades = {}\n",
        "  def add_student(self, name):\n",
        "    self._grades[name] = {}\n",
        "\n",
        "  def report_grade(self, name, subject, score, weight):\n",
        "    by_subject = self._grades[name]\n",
        "    grade_list = by_subject.setdefault(subject, [])\n",
        "    grade_list.append((score, weight))\n",
        "\n",
        "  def average_grade(self, name):\n",
        "    by_subject = self._grades[name]\n",
        "    score_sum, score_count = 0, 0\n",
        "    for subject, scores in by_subject.items():\n",
        "      subject_avg, total_weight = 0, 0\n",
        "      for score, weight in scores:\n",
        "        "
      ],
      "execution_count": 0,
      "outputs": []
    },
    {
      "cell_type": "markdown",
      "metadata": {
        "id": "38kcJkeXRBqo",
        "colab_type": "text"
      },
      "source": [
        "Mặc dù các thay đổi đối với phương thức ```report_grade``` nhìn có vẻ đơn giản, chỉ là dùng tuple như là một giá trị - phương thức ```average_grade``` bây giờ cần có một vòng lặp bên trong một vòng lặp và trở nên khó để đọc."
      ]
    },
    {
      "cell_type": "markdown",
      "metadata": {
        "id": "_VlWO--jXXs7",
        "colab_type": "text"
      },
      "source": [
        "Sử dụng lớp cũng trở nên khó khăn hơn. Khi cung cấp các tham số theo vị trí, ý nghĩa của chúng cũng không thực sự rõ ràng"
      ]
    },
    {
      "cell_type": "code",
      "metadata": {
        "id": "zbVtdU6WRA_Y",
        "colab_type": "code",
        "colab": {}
      },
      "source": [
        "book.report_grade('Albert Einstein', 'Math', 80, 0.10)"
      ],
      "execution_count": 0,
      "outputs": []
    },
    {
      "cell_type": "markdown",
      "metadata": {
        "id": "rVcdsaMRXwf-",
        "colab_type": "text"
      },
      "source": [
        "Khi độ phức tạp trong triển khai các từ điển và tuples tăng lên, đó là thời điểm bạn có thể chuyển qua dùng một phân tầng của các lớp (hierachy of classes)\n",
        "\n",
        "Khi bạn mới phát triển chương trình, bạn không biết rằng bạn cần hỗ trợ các điểm số được đánh trọng lượng, vì vậy độ phức tạp của các lớp trợ giúp dường như không được đáp ứng. Các kiểu từ điển và tuple giúp cho việc lưu trữ, thêm từng lớp vào đối tượng lưu trữ phía trong. Nhưng bạn nên tránh việc lồng kiểu vào nhau (ví dụ, tránh các từ điển chứa các từ điển). Nó làm cho đoạn mã của bạn khó đọc và việc bảo trì trở thành một cơn ác mộng. \n",
        "\n",
        "Khi bạn nhận ra rằng việc lưu trữ các bản ghi trở nên phức tạp, hãy chia nó ra thành những lớp. Điều này giúp bạn định nghĩa các giao tiếp được dành riêng cho việc bao dữ liệu của bạn. Điều này cũng cho phép bạn tạo ra một lớp trừu tượng (abstraction) giữa các giao tiếp của bạn và các chi tiết triển khai phía sau."
      ]
    },
    {
      "cell_type": "markdown",
      "metadata": {
        "id": "Qmrv4EFlaaO8",
        "colab_type": "text"
      },
      "source": [
        "### Tái cấu trúc sang các lớp\n",
        "\n",
        "Bạn có thể bắt đầu chuyển sang dùng các lớp từ đáy của cây phụ thuộc (dependency tree): một điểm thi duy nhất. Một lớp dường như to lớn cho việc lưu trữ thông tin đơn giản này. Một tuple có vẻ thích hợp hơn bởi vì các điểm số là không thể thay đổi sau khi đã được định nghĩa (immutable). Ở đây tôi sử dụng tuple ```(score, weight)``` để theo dõi các điểm số trong một danh sách."
      ]
    },
    {
      "cell_type": "code",
      "metadata": {
        "id": "sG_-hew_aZYc",
        "colab_type": "code",
        "colab": {}
      },
      "source": [
        "grades = []\n",
        "grades.append((95, 0.45))\n",
        "\n",
        "total = sum(score * weight for score, weight in grades)\n",
        "total_weight = sum(weight for _, weight in grades)\n",
        "average_grade = total / total_weight"
      ],
      "execution_count": 0,
      "outputs": []
    },
    {
      "cell_type": "markdown",
      "metadata": {
        "id": "A73PSTWFbt5g",
        "colab_type": "text"
      },
      "source": [
        "Vấn đề với các tuples bình thường (plain tuples) này đó là vị trí. Khi bạn muốn gắn kết nhiều thông tin hơn với một điểm số, ví dụ một tập hợp các ghi chú từ giáo viên, bạn sẽ cần viết lại mọi chỗ bạn sử dụng tuple với hai phần tử để đảm bảo rằng chúng phải có ba phần tử. Ở đây, tôi sử dụng dấu gạch chân ```_``` (một quy ước của Python dùng cho các biến không được sử dụng) để lấy ra thành phần thứ ba trong tuple và không làm gì với nó cả."
      ]
    },
    {
      "cell_type": "code",
      "metadata": {
        "id": "l8E-k7i0br4G",
        "colab_type": "code",
        "colab": {}
      },
      "source": [
        "grades = []\n",
        "grades.append((95, 0.45, 'Great job'))\n",
        "total = sum(score * weight for score, weight, _ in grades)\n",
        "total_weight = sum(weight for _, weight, _ in grades)\n",
        "average_grade = total / total_weight"
      ],
      "execution_count": 0,
      "outputs": []
    },
    {
      "cell_type": "markdown",
      "metadata": {
        "id": "EKZ5B_2qcvhA",
        "colab_type": "text"
      },
      "source": [
        "Làm theo kiểu mở rộng tuples như thế này tương tự như làm cho các từ điển sâu hơn. Khi bạn thấy rằng bạn cần các tuples nhiều hơn hai phần tử, lúc đó bạn cần một cách giải quyết khác. \n",
        "\n",
        "Kiểu ```namedtuple``` trong module ```collections``` đáp ứng những gì bạn cần. Nó giúp bạn định nghĩa các lớp nhỏ và immutable. "
      ]
    },
    {
      "cell_type": "code",
      "metadata": {
        "id": "Aice4Cnicttc",
        "colab_type": "code",
        "colab": {}
      },
      "source": [
        "import collections\n",
        "Grade = collections.namedtuple('Grade', ('score', 'weight'))"
      ],
      "execution_count": 0,
      "outputs": []
    },
    {
      "cell_type": "markdown",
      "metadata": {
        "id": "KLUjCygadYoi",
        "colab_type": "text"
      },
      "source": [
        "Các lớp này có thể được xây dựng với các tham số vị trí (positional) hay là từ khoá (keyword). Các trường trong ```namedtuple``` có thể được truy cập với các thuộc tính được đặt tên (named attributes). Có các thuộc tính được đặt trên làm cho việc chuyển từ một ```namedtuple``` sang lớp riêng của bạn trở nên dễ dàng hơn nếu các yêu cầu cứ thay đổi và bạn cần tránh dùng các đối tượng chứa đơn giản. \n",
        "\n",
        "### Các giới hạn của ```namedtuple```\n",
        "\n",
        "Mặc dù ```namedtuple``` hữu dụng trong nhiều trường hợp, điều quan trạng là bạn cần hiểu khi nào ```namedtuple``` có thể gây hại cho bạn \n",
        "\n",
        "\n",
        "*   Bạn không thể chỉ định các giá trị mặc định cho tham số trong các lớp ```namedtuple```. Điều này làm cho chúng khó có thể linh động khi dữ liệu của bạn có thể có nhiều thuộc tính lựa chọn khác. Nếu bạn thấy mình sử dụng nhiều các thuộc tính, định nghĩa một lớp riêng có thể là một lựa chọn tốt hơn\n",
        "*   Các giá trị thuộc tính của các hiện thực ```namedtuple``` cũng có thể truy cập sử dụng các chỉ số và lặp. Đặc biệt trong các APIs được thiết kế để sử dụng từ bên ngoài, điều này có thể tạo ra những việc sử dụng sai, dẫn tới việc chuyển sang lớp của bạn khó khăn hơn. Nếu bạn không nắm rõ tất cả việc sử dụng của các hiện thực ```namedtuple```, cách tốt hơn là định nghĩa các lớp của riêng bạn.\n",
        "\n"
      ]
    },
    {
      "cell_type": "markdown",
      "metadata": {
        "id": "1fuvlfKIfc-W",
        "colab_type": "text"
      },
      "source": [
        "Tiếp theo, bạn có thể viết một lớp để biểu diễn một chủ thể đơn lẻ, chứa một tập hợp các điểm số"
      ]
    },
    {
      "cell_type": "code",
      "metadata": {
        "id": "ZryYi0XtdXnI",
        "colab_type": "code",
        "colab": {}
      },
      "source": [
        "class Subject(object):\n",
        "  def __init__(self):\n",
        "    self._grades = []\n",
        "\n",
        "  def report_grade(self, score, weight):\n",
        "    self._grades.append(Grade(score, weight))\n",
        "\n",
        "  def average_grade(self):\n",
        "    total, total_weight = 0, 0\n",
        "    for grade in self._grades:\n",
        "      total += grade.score * grade.weight \n",
        "      total_weight += grade.weight \n",
        "    return total / total_weight \n",
        "    "
      ],
      "execution_count": 0,
      "outputs": []
    },
    {
      "cell_type": "markdown",
      "metadata": {
        "id": "BMx51khhGK1L",
        "colab_type": "text"
      },
      "source": [
        "Sau đó bạn viết một lớp để biểu diễn một tập hợp các môn một sinh viên được học."
      ]
    },
    {
      "cell_type": "code",
      "metadata": {
        "id": "wlE4pjtaJZ5y",
        "colab_type": "code",
        "colab": {}
      },
      "source": [
        "import collections\n",
        "Grade = collections.namedtuple('Grade', ('score', 'weight'))"
      ],
      "execution_count": 0,
      "outputs": []
    },
    {
      "cell_type": "code",
      "metadata": {
        "id": "ts6Nk7qlGchS",
        "colab_type": "code",
        "colab": {}
      },
      "source": [
        "class Student(object):\n",
        "  def __init__(self):\n",
        "    self._subjects = {}\n",
        "  \n",
        "  def subject(self, name):\n",
        "    if name not in self._subjects:\n",
        "      self._subjects[name] = Subject()\n",
        "    return self._subjects[name]\n",
        "\n",
        "  def average_grade(self):\n",
        "    total, count = 0, 0\n",
        "    for subject in self._subjects.values():\n",
        "      total += subject.average_grade()\n",
        "      count += 1\n",
        "    return total / count"
      ],
      "execution_count": 0,
      "outputs": []
    },
    {
      "cell_type": "markdown",
      "metadata": {
        "id": "rmFOuzdhHIn9",
        "colab_type": "text"
      },
      "source": [
        "Cuối cùng, bạn viết một đối tượng chứa (container) cho tất cả các sinh viên với các chìa khoá được định nghĩa động bằng tên của họ."
      ]
    },
    {
      "cell_type": "code",
      "metadata": {
        "id": "xvLqoSQVHDo5",
        "colab_type": "code",
        "colab": {}
      },
      "source": [
        "class Gradebook(object):\n",
        "  def __init__(self):\n",
        "    self._students = {}\n",
        "\n",
        "  def student(self, name):\n",
        "    if name not in self._students:\n",
        "      self._students[name] = Student()\n",
        "    return self._students[name]\n"
      ],
      "execution_count": 0,
      "outputs": []
    },
    {
      "cell_type": "markdown",
      "metadata": {
        "id": "FIanEQwEHnpu",
        "colab_type": "text"
      },
      "source": [
        "Lượng code ta viết nhiều gần như gấp đôi so với cách triển khai trước đó. Nhưng đoạn code mới này dễ đọc hơn. Ví dụ dưới đây cho ta thấy điều đó, code rõ ràng và có thể dễ dàng mở rộng."
      ]
    },
    {
      "cell_type": "code",
      "metadata": {
        "id": "HN4GyAprHm7O",
        "colab_type": "code",
        "colab": {}
      },
      "source": [
        "book = Gradebook()"
      ],
      "execution_count": 0,
      "outputs": []
    },
    {
      "cell_type": "code",
      "metadata": {
        "id": "RSy22BgvH4tT",
        "colab_type": "code",
        "outputId": "68e7a6ee-1454-4dc5-c28b-5c5516adcb59",
        "colab": {
          "base_uri": "https://localhost:8080/",
          "height": 34
        }
      },
      "source": [
        "albert = book.student('Albert Einstein')\n",
        "math = albert.subject('Math')\n",
        "math.report_grade(80, 0.10)\n",
        "print(albert.average_grade())"
      ],
      "execution_count": 0,
      "outputs": [
        {
          "output_type": "stream",
          "text": [
            "80.0\n"
          ],
          "name": "stdout"
        }
      ]
    },
    {
      "cell_type": "markdown",
      "metadata": {
        "id": "nAE61CQgJklg",
        "colab_type": "text"
      },
      "source": [
        "Nếu cần thiết, bạn có thể viết các phương thức tương thích với các phiên bản API cũ, để chuyển các API này sang các đối tượng lớp có phân tầng."
      ]
    },
    {
      "cell_type": "markdown",
      "metadata": {
        "id": "k40OyyDnJ8Cp",
        "colab_type": "text"
      },
      "source": [
        "### Những điều cần nhớ\n",
        "\n",
        "\n",
        "*   Tránh tạo ra các từ điển mà từ điển này chứa các giá trị là các từ điển hay các tuples dài khác. \n",
        "*   Sử dụng ```namedtuple``` cho các đối tượng chứa dữ liệu nhẹ và immutable trước khi bạn cần đến tính mềm dẻo của một lớp.\n",
        "* Chuyển đoạn mã chịu trách nhiệm giữ các bản ghi thành các lớp trợ giúp khi các từ điển nội tại trong đó trở nên phức tạp. \n",
        "\n"
      ]
    },
    {
      "cell_type": "markdown",
      "metadata": {
        "id": "BK1brQ2nKoO6",
        "colab_type": "text"
      },
      "source": [
        "## Sử dụng các hàm với các giao tiếp đơn giản thay vì các lớp\n",
        "\n",
        "Nhiều APIs có sẵn trong Python cho phép bạn tuỳ chỉnh cư xử bằng cách truyền vào một hàm. Các móc (hooks) này được sử dụng bởi APIs để gọi lại (call back) code của bạn khi chúng thực thi. Ví dụ, phương thức ```sort``` của kiểu danh sách chấp nhận một tham số ```key``` dưới dạng tuỳ chọn được sử dụng để xác định giá trị của chỉ số cho việc sắp xếp. Ở đây tôi sắp xếp một danh sách các tên dựa trên đội dài của nó thông qua một biểu diễn ```lambda``` như là móc ```key``` \n"
      ]
    },
    {
      "cell_type": "code",
      "metadata": {
        "id": "RaYHUpjWJ6e0",
        "colab_type": "code",
        "outputId": "5c85ad9a-d574-4d64-9faf-4017dce10f3e",
        "colab": {
          "base_uri": "https://localhost:8080/",
          "height": 34
        }
      },
      "source": [
        "names = [\"Socrates\", \"Archimedes\", \"Plato\", \"Aristotle\"]\n",
        "names.sort(key=lambda x: len(x))\n",
        "print(names)"
      ],
      "execution_count": 0,
      "outputs": [
        {
          "output_type": "stream",
          "text": [
            "['Plato', 'Socrates', 'Aristotle', 'Archimedes']\n"
          ],
          "name": "stdout"
        }
      ]
    },
    {
      "cell_type": "markdown",
      "metadata": {
        "id": "8mhu1GAwMDU-",
        "colab_type": "text"
      },
      "source": [
        "Trong các ngôn ngữ, bạn có thể thấy các móc được định nghĩa bởi một lớp trừu tượng. Trong Python, nhiều móc chỉ là các hàm không trạng thái với các tham số và giá trị trả về được định nghĩa rất tốt. Các hàm là những đối tượng tốt cho các móc bởi vì chúng có thể được mô tả dễ dàng và dễ dàng được định nghĩa hơn các lớp. Các hàm hoạt động như là các móc bởi vì Python có các hàm ```first-class```: Các hàm và các phương thức có thể được truyền và nhận như bất cứ giá trị nào trong Python. \n",
        "\n",
        "Ví dụ, bạn muốn tuỳ chỉnh cư xử của lớp ```defaultdict```. Cấu trúc dữ liệu này cho phép bạn cung cấp một hàm sẽ được gọi mỗi lần một từ khoá không tồn tại được truy cập tới. Hàm này phải trả về giá trị mặc định mà chìa khoá bị khuyết này nên có trong từ điển. Ở đây tôi định nghĩa một móc ghi lại mỗi lần một chìa khoá bị khuyết và trả về ```0``` cho giá trị mặc định"
      ]
    },
    {
      "cell_type": "code",
      "metadata": {
        "id": "TVylovBdL8-b",
        "colab_type": "code",
        "colab": {}
      },
      "source": [
        "def log_missing():\n",
        "  print(\"Key added\")\n",
        "  return 0"
      ],
      "execution_count": 0,
      "outputs": []
    },
    {
      "cell_type": "markdown",
      "metadata": {
        "id": "FCoRB3V1NxiX",
        "colab_type": "text"
      },
      "source": [
        "Cho trước một từ điển ban đầu và một tập hợp các ...., tôi có thể làm cho hàm ```log_missing``` chạy và in ra (cho 'red' và 'orange')"
      ]
    },
    {
      "cell_type": "code",
      "metadata": {
        "id": "KI7tRlDUNvyO",
        "colab_type": "code",
        "outputId": "c6515175-3c3e-4afd-bdee-147e8fb6311a",
        "colab": {
          "base_uri": "https://localhost:8080/",
          "height": 68
        }
      },
      "source": [
        "from collections import defaultdict\n",
        "current = {'green': 12, 'blue': 3}\n",
        "increments = [\n",
        "              ('red', 5), \n",
        "              ('blue', 17),\n",
        "              ('orange', 9),\n",
        "]\n",
        "result = defaultdict(log_missing, current)\n",
        "print('Before: ', dict(result))\n",
        "for key, amount in increments:\n",
        "  result[key] += amount \n",
        "print(\"After: \", dict(result))"
      ],
      "execution_count": 0,
      "outputs": [
        {
          "output_type": "stream",
          "text": [
            "Before:  {'green': 12, 'blue': 3, 'red': 4}\n",
            "Key added\n",
            "After:  {'green': 12, 'blue': 20, 'red': 9, 'orange': 9}\n"
          ],
          "name": "stdout"
        }
      ]
    },
    {
      "cell_type": "markdown",
      "metadata": {
        "id": "3VaIyN4wRgfa",
        "colab_type": "text"
      },
      "source": [
        "Cung cấp các hàm như ```log_missing``` làm cho các APIs dễ dàng xây dựng và kiểm tra bởi vì nó tách biệt các hiệu ứng phụ khỏi các hành vi xác định. Ví dụ, bạn muốn móc của giá trị mặc định được truyền vào hàm ```defaultdict``` để đếm tổng số lượng chìa khó bị thiếu. Có một cách để làm điều này đó là dùng một bộ đóng lưu trữ trạng thái (stateful closure). Ở đây, tôi định nghĩa một hàm trợ giúp sử dụng một bộ đóng như vậy như là móc giá trị mặc định."
      ]
    },
    {
      "cell_type": "code",
      "metadata": {
        "id": "q2UFWqXcOpS_",
        "colab_type": "code",
        "colab": {}
      },
      "source": [
        "def increment_with_report(current, increments):\n",
        "  added_count = 0\n",
        "  def missing():\n",
        "    nonlocal added_count # bộ đóng lưu trữ trạng thái\n",
        "    added_count += 1\n",
        "    return 0\n",
        "  result = defaultdict(missing, current)\n",
        "  for key, amount in increments:\n",
        "    result[key] += amount \n",
        "  return result, added_count "
      ],
      "execution_count": 0,
      "outputs": []
    },
    {
      "cell_type": "markdown",
      "metadata": {
        "id": "_TtC-8AWS7PI",
        "colab_type": "text"
      },
      "source": [
        "Chạy hàm này cho ra kết quả mong đợi (2), mặc dù ```defaultdict``` không biết rằng móc ```missing``` duy trì trạng thái. Đây là một lợi thế khác của việc dùng các hàm bình thường cho các giao diện. Rất dễ để thêm tính năng sau này thông qua việc ẩn đi trạng thái trong một bộ đóng. "
      ]
    },
    {
      "cell_type": "code",
      "metadata": {
        "id": "bvqkY-CVTZSs",
        "colab_type": "code",
        "colab": {}
      },
      "source": [
        "result, count = increment_with_report(current, increments)\n",
        "assert count == 1"
      ],
      "execution_count": 0,
      "outputs": []
    },
    {
      "cell_type": "markdown",
      "metadata": {
        "id": "cYBgNs17ehZc",
        "colab_type": "text"
      },
      "source": [
        "Vấn đề với việc định nghĩa một bộ đóng (closure) cho các móc có trang thái đó là code khó đọc hơn các trường hợp hàm không trạng thái. Một cách tiếp cân khác là định nghĩa một lớp nhỏ bao trạng thái bạn muốn theo dõi"
      ]
    },
    {
      "cell_type": "code",
      "metadata": {
        "id": "w9MAEOf8TfQd",
        "colab_type": "code",
        "colab": {}
      },
      "source": [
        "class CountMissing(object):\n",
        "  def __init__(self):\n",
        "    self.added = 0 \n",
        "\n",
        "  def missing(self):\n",
        "    self.added += 1 \n",
        "    return 0"
      ],
      "execution_count": 0,
      "outputs": []
    },
    {
      "cell_type": "markdown",
      "metadata": {
        "id": "OhdJamAtfOdn",
        "colab_type": "text"
      },
      "source": [
        "Trong các ngôn ngữ khác, bạn có thể mong đợi rằng ```defaultdict``` phải được thay đổi để chứa giao tiếp của ```CountMissing```. Trong trong Python, cảm ơn các hàm first-class, bạn có thể tham chiếu phương thức ```CountMissing.missing``` trực tiếp trên một đối tượng và truyền nó vào ```defaultdict``` như là một móc giá trị mặc định. Rất dễ để có được một phương thức thoả mãn giao diện hàm này."
      ]
    },
    {
      "cell_type": "code",
      "metadata": {
        "id": "vJqXuGq6fNe6",
        "colab_type": "code",
        "colab": {}
      },
      "source": [
        "from collections import defaultdict\n",
        "\n",
        "current = {'green': 12, 'blue': 3}\n",
        "increments = [\n",
        "              ('red', 5), \n",
        "              ('blue', 17),\n",
        "              ('orange', 9),\n",
        "]\n",
        "counter = CountMissing()\n",
        "result = defaultdict(counter.missing, current) # Tham chiếu phương thức\n",
        "\n",
        "for key, amount in increments:\n",
        "  result[key] += amount \n",
        "\n",
        "assert counter.added == 2"
      ],
      "execution_count": 0,
      "outputs": []
    },
    {
      "cell_type": "markdown",
      "metadata": {
        "id": "dRO63dVggZtv",
        "colab_type": "text"
      },
      "source": [
        "Sử dụng một lớp trợ giúp như vậy cung cấp chức năng của một bộ đóng có trạng thái rõ ràng hơn hàm ```increment_with_report``` ở trên. Tuy nhiên khi đứng tách biệt, ta sẽ không biết được ngay mục đích của lớp ```CountMissing```. Ai tạo ra một đối tượng ```CountMissing```? Ai gọi phương thức ```missing```? Lớp này sẽ cần thêm vào các phương thức công cộng khác trong tương lai hay không? Chỉ đến khi bạn thấy nó được sử dụng với ```defaultdict``` bạn mới rõ. \n",
        "\n",
        "Để làm rõ mục đích của lớp này, Python cho phép các lớp định nghĩa phương thức đặc biệt gọi là ```__call__```. ```__call__``` cho phép một đối tượng được gọi như là một hàm. Nó cũng làm cho hàm có sẵn ```callable``` trả về ```True``` cho hiện thực như vậy."
      ]
    },
    {
      "cell_type": "code",
      "metadata": {
        "id": "wGbLJRLThkfV",
        "colab_type": "code",
        "colab": {}
      },
      "source": [
        "class BetterCountMissing(object):\n",
        "  def __init__(self):\n",
        "    self.added = 0 \n",
        "\n",
        "  def __call__(self):\n",
        "    self.added += 1\n",
        "    return 0\n",
        "    "
      ],
      "execution_count": 0,
      "outputs": []
    },
    {
      "cell_type": "code",
      "metadata": {
        "id": "7QiNRR_zhz_o",
        "colab_type": "code",
        "colab": {}
      },
      "source": [
        "counter = BetterCountMissing()\n",
        "counter()\n",
        "assert callable(counter)"
      ],
      "execution_count": 0,
      "outputs": []
    },
    {
      "cell_type": "markdown",
      "metadata": {
        "id": "mdkFOOmjh8V2",
        "colab_type": "text"
      },
      "source": [
        "Ở đây, tôi sử dụng một hiện thưucj ```BetterCountMissing``` như là móc giá trị mặc định cho một ```defaultdict``` để theo dõi số lượng các khoá không tồn tại trước đó được thêm vào."
      ]
    },
    {
      "cell_type": "code",
      "metadata": {
        "id": "CnPHWYe8hx3n",
        "colab_type": "code",
        "colab": {}
      },
      "source": [
        "counter = BetterCountMissing()\n",
        "result = defaultdict(counter, current) # Dựa trên __call__\n",
        "for key, amount in increments:\n",
        "  result[key] += amount \n",
        "\n",
        "assert counter.added == 2"
      ],
      "execution_count": 0,
      "outputs": []
    },
    {
      "cell_type": "markdown",
      "metadata": {
        "id": "Hgss5RrwifmN",
        "colab_type": "text"
      },
      "source": [
        "Cách làm này rõ ràng hơn rất nhiều so với trường hợp ```CountMissing.missing```. Phương thức ```__call__``` chỉ ra rằng các hiện thực lớp sẽ được sử dụng ở đâu đó như là một tham số cho một hàm (giống như các móc API). Nó hướng những người mới đọc code của bạn tới điểm đầu vào (entry point) chịu trách nhiệm chính cho hành vi chính của lpws. Nó cung cấp một gợi ý mạnh mẽ rằng mục đích của lớp này là một bộ đóng có trạng thái. \n",
        "\n",
        "```defaultdict``` vẫn không biết điều gì xảy ra khi bạn gọi ```__call__```. Tất cả những gì ```defaultdict``` yêu cầu đó là một hàm dành cho móc giá trị mặc định. Python cung cấp nhiều cách để thoả mãn một giao tiếp hàm đơn giản phụ thuộc vào bạn cần hoàn thành những gì. "
      ]
    },
    {
      "cell_type": "markdown",
      "metadata": {
        "id": "PuyIO_tojweT",
        "colab_type": "text"
      },
      "source": [
        "### Những thứ cần nhớ. \n",
        "\n",
        "\n",
        "*   Thay vì định nghĩa và khởi tạo các lớp, các hàm thường được dùng cho các giao tiếp đơn giản giữa các thành phần trong Python\n",
        "*   Các tham chiếu tới các hàm và các phương thức trong Python là first class, nghĩa là chúng có thể được sử dụng trong các biểu diễn (expressions) như bất cứ kiểu nào khác. \n",
        "* Phương thức đặc biệt ```__call__``` cho phép các hiện thực của một lớp được gọi như là các hàm thông thường. \n",
        "* Khi bạn cần một hàm duy trì trạng thái, xem xét giải pháp định nghĩa một lớp cung cấp phương thức ```__call__``` thay vì định nghĩa một bộ đóng trạng thái. \n",
        "\n"
      ]
    },
    {
      "cell_type": "markdown",
      "metadata": {
        "id": "PkOPMQzcks-y",
        "colab_type": "text"
      },
      "source": [
        "## Sử dụng ```@classmethod``` đa hình để xây dựng các đối tượng chung \n",
        "\n",
        "Trong Python, không chỉ các đối tượng hỗ trợ đa hình, mà các lớp cũng hỗ trợ đa hình. Vậy đa hình là gì, nó tốt cho cái gì?\n",
        "\n",
        "Đa hình là một cách để các lớp trong một hệ thống cấp bậc triển khai các phiên bản riêng của một phương thức. Điều này cho phép nhiều lớp thoả mãn cùng một giao \u001dtiếp hoặc một lớp cơ sở trừu tượng trong khi cung cấp cư xử khác nhau. \n",
        "\n",
        "Ví dụ, bạn đang viết một triển khai ```MapReduce``` và bạn muốn một lớp chung để biểu diễn dữ liệu đầu vào. Ở đây tôi định nghĩa một lớp như vậy với phương thức ```read```, phương thức phải được định nghĩa bởi các lớp con. "
      ]
    },
    {
      "cell_type": "code",
      "metadata": {
        "id": "mimwwjLwidMy",
        "colab_type": "code",
        "colab": {}
      },
      "source": [
        "class InputData(object):\n",
        "  def read(self):\n",
        "    raise NotImplementedError"
      ],
      "execution_count": 0,
      "outputs": []
    },
    {
      "cell_type": "markdown",
      "metadata": {
        "id": "wCfD3VwumK6I",
        "colab_type": "text"
      },
      "source": [
        "Ở đây, tôi có một lớp con cụ thể của ```InputData``` đọc dữ liệu từ một file trên đĩa. "
      ]
    },
    {
      "cell_type": "code",
      "metadata": {
        "id": "rY4-5dsBmJSG",
        "colab_type": "code",
        "colab": {}
      },
      "source": [
        "class PathInputData(InputData):\n",
        "  def __init__(self, path):\n",
        "    super().__init__()\n",
        "    self.path = path \n",
        "\n",
        "  def read(self):\n",
        "    return open(self.path).read()"
      ],
      "execution_count": 0,
      "outputs": []
    },
    {
      "cell_type": "markdown",
      "metadata": {
        "id": "FnDYz8oTm2g2",
        "colab_type": "text"
      },
      "source": [
        "Bạn có thể có bất cứ số lượng các lớp con của ```InputData``` như ```PathInputData``` và mỗi lớp con có thể triển khai một giao tiếp chuẩn cho phương thức ```read``` để trả về các bytes dữ liệu để xử lý. Các lớp con của ```InputData``` có thể đọc từ mạc, giải nén dữ liệu một cách trong suốt, vân vân. \n",
        "\n",
        "Bạn có thể muốn một giao tiếp trừu tượng tương tự cho MapReduce worker để lấy dữ liệu đầu vào theo một cách chuẩn. "
      ]
    },
    {
      "cell_type": "code",
      "metadata": {
        "id": "sICbBXsLmwX2",
        "colab_type": "code",
        "colab": {}
      },
      "source": [
        "class Worker(object):\n",
        "  def __init__(self, input_data):\n",
        "    self.input_data = input_data \n",
        "    self.result = None \n",
        "\n",
        "  def map(self):\n",
        "    raise NotImplementedError\n",
        "\n",
        "  def reduce(self, other):\n",
        "    raise NotImplementedError\n",
        "    "
      ],
      "execution_count": 0,
      "outputs": []
    },
    {
      "cell_type": "markdown",
      "metadata": {
        "id": "5dgaNmcyoZ4g",
        "colab_type": "text"
      },
      "source": [
        "Ở đây, tôi định nghĩa một lớp con cụ thể của ```Worker``` để triển khai một hàm MapReduce cụ thể bạn muốn áp dụng: một bộ đếm dòng mới đơn giản. "
      ]
    },
    {
      "cell_type": "code",
      "metadata": {
        "id": "CAlKHTKQoWLu",
        "colab_type": "code",
        "colab": {}
      },
      "source": [
        "class LineCountWorker(Worker):\n",
        "  def map(self):\n",
        "    data = self.input_data.read()\n",
        "    self.result = data.count(\"\\n\")\n",
        "\n",
        "  def reduce(self, other):\n",
        "    self.result += other.result"
      ],
      "execution_count": 0,
      "outputs": []
    },
    {
      "cell_type": "markdown",
      "metadata": {
        "id": "E7alWQ9aUXJk",
        "colab_type": "text"
      },
      "source": [
        "Cách triển khai trên dường như tốt, nhưng có một khó khăn đó là tìm ra cái kết nối tất cả các mảnh trên. Tôi có một tập hợp các lớp với các giao tiếp và trừu tượng tốt - nhưng chúng chỉ hữu dụng khi các đối tượng được xây dựng. Cái gì chịu trách nhiệm cho việc xây dựng các đối tượng và kết nối MapReduce?\n",
        "\n",
        "Cách đơn giản nhất là xây dựng và kết nối các đối tượng với một số hợp trợ giúp một cách thủ công. Ở đây, tôi liệt kê các nội dung của một thư mục và xây dựng một hiện thực ```PathInputData``` cho mỗi file trong nó:"
      ]
    },
    {
      "cell_type": "code",
      "metadata": {
        "id": "Kp7xPf5NUWdw",
        "colab_type": "code",
        "colab": {}
      },
      "source": [
        "import os\n",
        "def generate_inputs(data_dir):\n",
        "  for name in os.listdir(data_dir):\n",
        "    yield PathInputData(os.path.join(data_dir, name))"
      ],
      "execution_count": 0,
      "outputs": []
    },
    {
      "cell_type": "markdown",
      "metadata": {
        "id": "mtXNQ_0ZVii7",
        "colab_type": "text"
      },
      "source": [
        "Tiếp theo, tôi tạo các hiện thực ```LineCountWorker``` sử dụng các hiện thực ```InputData``` được trả về bởi ```generate_inputs```."
      ]
    },
    {
      "cell_type": "code",
      "metadata": {
        "id": "59NiZXA5VhwH",
        "colab_type": "code",
        "colab": {}
      },
      "source": [
        "def create_workers(input_list):\n",
        "  workers = []\n",
        "  for input_data in input_list:\n",
        "    workers.append(LineCountWorker(input_data))\n",
        "  return workers  "
      ],
      "execution_count": 0,
      "outputs": []
    },
    {
      "cell_type": "markdown",
      "metadata": {
        "id": "-PgVROlpV_xc",
        "colab_type": "text"
      },
      "source": [
        "Tôi thực hiện các hiện thực "
      ]
    },
    {
      "cell_type": "markdown",
      "metadata": {
        "id": "_aWrQW0AWPea",
        "colab_type": "text"
      },
      "source": [
        ""
      ]
    },
    {
      "cell_type": "markdown",
      "metadata": {
        "id": "xtu-2XRQWPzS",
        "colab_type": "text"
      },
      "source": [
        "## Khởi tạo các lớp cha với ```super``` \n",
        "\n",
        "Cách cũ để khởi tạo một lớp cha từ một lớp con đó là gọi trực tiếp phương thức ```__init__``` của lớp cho với hiện thực lớp con"
      ]
    },
    {
      "cell_type": "code",
      "metadata": {
        "id": "bLRCzhuDV93T",
        "colab_type": "code",
        "colab": {}
      },
      "source": [
        "class MyBaseClass(object):\n",
        "  def __init__(self, value):\n",
        "    self.value = value \n",
        "\n",
        "class MyChildClass(MyBaseClass):\n",
        "  def __init__(self):\n",
        "    MyBaseClass.__init__(self, 5)"
      ],
      "execution_count": 0,
      "outputs": []
    },
    {
      "cell_type": "markdown",
      "metadata": {
        "id": "TTBRGVMYW9Co",
        "colab_type": "text"
      },
      "source": [
        "Cách thức này hoạt động tốt cho các phân cấp đơn giản nhưng sẽ không hoạt động trong nhiều trường hợp. \n",
        "\n",
        "Nếu lớp của bạn bị ảnh hưởng bởi nhiều thừa kế, gọi các phương thức ```__init__``` của các lớp cha có thể dẫn tới những hành vì không thể dự đoán được. \n",
        "\n",
        "Một vấn đề đó là thứ tự lời gọi ```__init__``` không được chỉ định đối với tất cả các lớp con. Ví dụ, ở đây tôi định nghĩa hai lớp cha hoạt động trên phương thức ```value``` của các hiện thực. "
      ]
    },
    {
      "cell_type": "code",
      "metadata": {
        "id": "9I6UT-_rWtO3",
        "colab_type": "code",
        "colab": {}
      },
      "source": [
        "class TimesTwo(object):\n",
        "  def __init__(self):\n",
        "    self.value *= 2\n",
        "\n",
        "class PlusFive(object):\n",
        "  def __init__(self):\n",
        "    self.value += 5 "
      ],
      "execution_count": 0,
      "outputs": []
    },
    {
      "cell_type": "markdown",
      "metadata": {
        "id": "Qz2UkKE3X7o7",
        "colab_type": "text"
      },
      "source": [
        "Lớp này định nghĩa các lớp cha theo thứ tự như dưới đây"
      ]
    },
    {
      "cell_type": "code",
      "metadata": {
        "id": "1vZtiX2EX6Tc",
        "colab_type": "code",
        "colab": {}
      },
      "source": [
        "class OneWay(MyBaseClass, TimesTwo, PlusFive):\n",
        "  def __init__(self, value):\n",
        "    MyBaseClass.__init__(self, value)\n",
        "    TimesTwo.__init__(self)\n",
        "    PlusFive.__init__(self)"
      ],
      "execution_count": 0,
      "outputs": []
    },
    {
      "cell_type": "markdown",
      "metadata": {
        "id": "q40kW4COYR9v",
        "colab_type": "text"
      },
      "source": [
        "Xây dựng lớp trên dẫn tới việc khởi tạo giá trị theo thứ tự sau. "
      ]
    },
    {
      "cell_type": "code",
      "metadata": {
        "id": "VlDm69-QYNTt",
        "colab_type": "code",
        "outputId": "7d59bf40-9c92-4503-e22c-be4f87f9f732",
        "colab": {
          "base_uri": "https://localhost:8080/",
          "height": 34
        }
      },
      "source": [
        "foo = OneWay(5)\n",
        "print(\"First ordering is (5 * 2) + 5\", foo.value)"
      ],
      "execution_count": 0,
      "outputs": [
        {
          "output_type": "stream",
          "text": [
            "First ordering is (5 * 2) + 5 15\n"
          ],
          "name": "stdout"
        }
      ]
    },
    {
      "cell_type": "markdown",
      "metadata": {
        "id": "Z5SYsN5DZAua",
        "colab_type": "text"
      },
      "source": [
        "Ta có thêm một lớp khác với cùng các lớp cha nhưng thứ tự khác đi"
      ]
    },
    {
      "cell_type": "code",
      "metadata": {
        "id": "0ibdcP8tYlyp",
        "colab_type": "code",
        "colab": {}
      },
      "source": [
        "class AnotherWay(MyBaseClass, PlusFive, TimesTwo):\n",
        "  def __init__(self, value):\n",
        "    MyBaseClass.__init__(self, value)\n",
        "    TimesTwo.__init__(self)\n",
        "    PlusFive.__init__(self)"
      ],
      "execution_count": 0,
      "outputs": []
    },
    {
      "cell_type": "markdown",
      "metadata": {
        "id": "utTWLAfOZYUd",
        "colab_type": "text"
      },
      "source": [
        "Tuy nhiên trong hàm khởi tạo tôi vẫn để thứ tự các lời gọi như trước, lần này thì thứ tự trong danh sách các tham số không giống với thứ tự chúng được gọi trong hàm ```__init__```"
      ]
    },
    {
      "cell_type": "code",
      "metadata": {
        "id": "NApuqV-sZXE2",
        "colab_type": "code",
        "outputId": "5e667e1d-8c9b-4238-d412-ef0b041dc796",
        "colab": {
          "base_uri": "https://localhost:8080/",
          "height": 34
        }
      },
      "source": [
        "bar = AnotherWay(5)\n",
        "print('Second ordering still is', bar.value)"
      ],
      "execution_count": 0,
      "outputs": [
        {
          "output_type": "stream",
          "text": [
            "Second ordering still is 15\n"
          ],
          "name": "stdout"
        }
      ]
    },
    {
      "cell_type": "markdown",
      "metadata": {
        "id": "DXDsxL3saDrj",
        "colab_type": "text"
      },
      "source": [
        "Một vấn đề khác đó là thừa hưởng kim cương (diamond inheritance). Thừa hưởng kim cương xảy ra khi một lớp con thừa hưởng từ hai lớp riêng biệt nhưng có cùng một lớp cha ở đâu đó trong phân tầng. Thừa hưởng kim cương làm cho phương thức ```__init__``` của các lớp cha chạy nhiều lần, tạo ra hành vi không như mong đợi. Ví dụ, ở đây tôi định nghĩa các lớp con thừa hưởng từ ```MyBaseClass```."
      ]
    },
    {
      "cell_type": "code",
      "metadata": {
        "id": "8BwZ1wJpZ9Ye",
        "colab_type": "code",
        "colab": {}
      },
      "source": [
        "class TimesFive(MyBaseClass):\n",
        "  def __init__(self, value):\n",
        "    MyBaseClass.__init__(self, value)\n",
        "    self.value *= 5\n",
        "\n",
        "class PlusTwo(MyBaseClass):\n",
        "  def __init__(self, value):\n",
        "    MyBaseClass.__init__(self, value)\n",
        "    self.value += 2"
      ],
      "execution_count": 0,
      "outputs": []
    },
    {
      "cell_type": "markdown",
      "metadata": {
        "id": "U3-tPJSTa--_",
        "colab_type": "text"
      },
      "source": [
        "Sau đó tôi định nghĩa một lớp thừa hưởng từ cả hai lớp này, việc này làm cho ```MyBaseClass``` trở thành đỉnh của viên kim cương"
      ]
    },
    {
      "cell_type": "code",
      "metadata": {
        "id": "9gWKBGGTa9jF",
        "colab_type": "code",
        "colab": {}
      },
      "source": [
        "class ThisWay(TimesFive, PlusTwo):\n",
        "  def __init__(self, value):\n",
        "    TimesFive.__init__(self, value)\n",
        "    PlusTwo.__init__(self, value)"
      ],
      "execution_count": 0,
      "outputs": []
    },
    {
      "cell_type": "code",
      "metadata": {
        "id": "N8OVYA7-bUuR",
        "colab_type": "code",
        "outputId": "4bb72bca-7786-4ac2-d313-df6a6243e095",
        "colab": {
          "base_uri": "https://localhost:8080/",
          "height": 34
        }
      },
      "source": [
        "foo = ThisWay(5)\n",
        "print(\"Should be (5 * 5) + 2 = 27 but is\", foo.value)"
      ],
      "execution_count": 0,
      "outputs": [
        {
          "output_type": "stream",
          "text": [
            "Should be (5 * 5) + 2 = 27 but is 7\n"
          ],
          "name": "stdout"
        }
      ]
    },
    {
      "cell_type": "markdown",
      "metadata": {
        "id": "Rij0EkFpbjaR",
        "colab_type": "text"
      },
      "source": [
        "Kết quả nên là 27 bởi vì ```(5*5) + 2 = 27```. Nhưng lời gọi tới phương thức ```__init__``` của ```PlusTwo``` khiến cho ```self.value``` được gán trở lại 5 khi ```MyBaseClass.__init__``` được gọi lần thứ hai. \n",
        "\n",
        "Để giải quyết vấn đề này, Python 2.2 thêm vào hàm có sẵn ```super``` và định nghĩa thứ tự phân giải phương thức (method resolution order (MRO)). MRO chuẩn hoá thứ tự các lớp cha được khởi tạo (ví dụ độ sâu đầu tiên, từ trái sang phải). Nó cũng đảm bảo rằng các lớp cha phổ biến trong các phân tầng viên kim cương chỉ được chạy một lần. \n",
        "\n",
        "Ở đây, tôi tạo một phân tầng lớp hình dạng kim cương, nhưng lần này tôi sử dụng ```super``` (viết theo kiểu Python 2) để khởi tạo lớp cha."
      ]
    },
    {
      "cell_type": "code",
      "metadata": {
        "id": "hW4PcbdVbcLO",
        "colab_type": "code",
        "colab": {}
      },
      "source": [
        "class TimesFiveCorrect(MyBaseClass):\n",
        "  def __init__(self, value):\n",
        "    super(TimesFiveCorrect, self).__init__(value)\n",
        "    self.value *= 5 \n",
        "\n",
        "class PlusTwoCorrect(MyBaseClass):\n",
        "  def __init__(self, value):\n",
        "    super(PlusTwoCorrect, self).__init__(value)\n",
        "    self.value += 2"
      ],
      "execution_count": 0,
      "outputs": []
    },
    {
      "cell_type": "markdown",
      "metadata": {
        "id": "7B533DlJejQT",
        "colab_type": "text"
      },
      "source": [
        "Bây giờ trên điển của viên kim cương, ```MyBaseClass.__init__``` chỉ chạy một lần. Các lớp cha khác được chạy theo thứ tự trong câu lệnh ```class```."
      ]
    },
    {
      "cell_type": "code",
      "metadata": {
        "id": "ffcxekOweh5Q",
        "colab_type": "code",
        "outputId": "cdec4d3b-dbe3-46f0-e0ee-3c7864b1798b",
        "colab": {
          "base_uri": "https://localhost:8080/",
          "height": 34
        }
      },
      "source": [
        "class GoodWay(TimesFiveCorrect, PlusTwoCorrect):\n",
        "  def __init__(self, value):\n",
        "    super(GoodWay, self).__init__(value)\n",
        "\n",
        "foo = GoodWay(5)\n",
        "print(\"Should be 5 * (5 + 2) = 35 and is\", foo.value)\n"
      ],
      "execution_count": 0,
      "outputs": [
        {
          "output_type": "stream",
          "text": [
            "Should be 5 * (5 + 2) = 35 and is 35\n"
          ],
          "name": "stdout"
        }
      ]
    },
    {
      "cell_type": "markdown",
      "metadata": {
        "id": "WE0TQ3-Af6-D",
        "colab_type": "text"
      },
      "source": [
        "Thứ tự tính toán dường như thực hiện theo chiều từ dưới lên. Ta đặt câu hỏi là tại sao ```TimesFiveCorrect.__init__``` không chạy trước, như vậy thì kết quả sẽ ra ```(5 * 5) + 2 = 27``` ?\n",
        "Kết quả là không phải như vậy. Thứ tự này khớp với những gì MRO định nghĩa cho lớp này. Thứ tự MRO có thể thấy sử dụng phương thức ```mro```"
      ]
    },
    {
      "cell_type": "code",
      "metadata": {
        "id": "5dpCDZ1sfPs6",
        "colab_type": "code",
        "outputId": "b62a4902-6773-4e35-af19-02d6fc0cb000",
        "colab": {
          "base_uri": "https://localhost:8080/",
          "height": 102
        }
      },
      "source": [
        "from pprint import pprint \n",
        "pprint(GoodWay.mro())"
      ],
      "execution_count": 0,
      "outputs": [
        {
          "output_type": "stream",
          "text": [
            "[<class '__main__.GoodWay'>,\n",
            " <class '__main__.TimesFiveCorrect'>,\n",
            " <class '__main__.PlusTwoCorrect'>,\n",
            " <class '__main__.MyBaseClass'>,\n",
            " <class 'object'>]\n"
          ],
          "name": "stdout"
        }
      ]
    },
    {
      "cell_type": "markdown",
      "metadata": {
        "id": "HodOcTP8gmy0",
        "colab_type": "text"
      },
      "source": [
        "Khi bạn gọi ```GoodWay(5)```, theo thứ tự nó gọi ```TimesFiveCorrect.__init__```, phương thức này gọi ```PlusTwoCorrect.__init__```, phương thức này lại gọi ```MyBaseClass.__init__```. Mỗi khi nó đạt tới đỉnh của viên kim cương, khi đó tất cả các phương thức khởi tạo thực hiện công việc của mình theo thứ tự ngược lại bắt đầu với việc ```MyBaseClass.__init__``` gán ```value``` cho 5. ````PlusTwoCorrect.__init__``` cộng thêm 2 để làm cho ```value``` bằng 7. ```TimesFiveCorrect.__init__``` nhân nó với 5 làm cho ```value``` bằng 35. \n",
        "\n",
        "Hàm ```super``` thực hiện điều này tốt, nhưng vẫn còn có hai vấn đề có thể thấy trong Python 2:\n",
        "\n",
        "\n",
        "*   \bCú pháp của nó vẫn rườm rà. Bản phải chỉ định lớp hiện tại, đối tượng ```self```, tên phương thức (thường là ```__init__```), và tất cả các tham số. Việc có quá nhiều thứ như vậy có thể gây ra nhầm lần cho các lập trình viên Python mới. \n",
        "*   Bạn phải chỉ định lớp hiện hành bằng tên trong lời gọi tới ```super```. Nếu bạn thay đổi tên của lớp này - đây là một hành động khá phổ biến khi cải tiến một phân tầng của một lớp - bạn cần phải cập nhật lại mọi lời gọi tới ```super```\n",
        "\n"
      ]
    },
    {
      "cell_type": "markdown",
      "metadata": {
        "id": "XHpHMeQRibhZ",
        "colab_type": "text"
      },
      "source": [
        "Trong Python 3, các vấn đề trên được giải quyết, bạn có thể gọi ``super``` mà không cần phải chỉ định các trường như trên. Và bạn nên luôn luôn sử dụng ```super``` bởi vì nó rõ ràng, chính xác, và luôn luôn làm đúng công việc."
      ]
    },
    {
      "cell_type": "code",
      "metadata": {
        "id": "una86mFQggit",
        "colab_type": "code",
        "colab": {}
      },
      "source": [
        "class Explicit(MyBaseClass):\n",
        "  def __init__(self, value):\n",
        "    super(__class__, self).__init__(value * 2)\n",
        "\n",
        "class Implicit(MyBaseClass):\n",
        "  def __init__(self, value):\n",
        "    super().__init__(value * 2)\n",
        "\n",
        "assert Explicit(10).value == Implicit(10).value"
      ],
      "execution_count": 0,
      "outputs": []
    },
    {
      "cell_type": "markdown",
      "metadata": {
        "id": "Szp7LrV1jIne",
        "colab_type": "text"
      },
      "source": [
        "Cách này hoạt động bởi vì Python 3 cho phép bạn tham chiếu tới lớp hiện hành trong các phương thức sử dụng biến ```__class__```. Trong Python 2 thì không được bởi vì ```__class__``` không được định nghĩa. Bạn có thể đoán rằng bạn có thể dùng ```self.__class__``` như là một tham số cho ```super```, nhưng nó không chạy bởi vì cách ```super``` được triển khai trong Python 2. "
      ]
    },
    {
      "cell_type": "markdown",
      "metadata": {
        "id": "5wrePdtNjntV",
        "colab_type": "text"
      },
      "source": [
        "### Những điều cần nhớ\n",
        "\n",
        "\n",
        "*   Thứ tự phân giải phương thức chuẩn của Python (MRO) giải quyết vấn đề về thừa hưởng kim cương và thứ tự khởi tạo các lớp cha. \n",
        "*   Luôn luôn sử dụng hàm có sẵn ```super``` để khởi tạo các lớp cha. \n",
        "\n"
      ]
    },
    {
      "cell_type": "markdown",
      "metadata": {
        "id": "LAURj6Y0XPV8",
        "colab_type": "text"
      },
      "source": [
        "## Sử dụng đa thừa kế chỉ với các lớp đa tiện ích \n",
        "\n",
        "Python là một ngôn ngữ huonwgs đối tượng với các công cụ giúp điều khiển đa thừa hưởng dễ dàng. Tuy nhiên, tốt hơn là tránh đa thừa hưởng. \n",
        "\n",
        "Nếu bạn muốn viết một lớp sử dụng đa thừa hưởng, bạn có thể xem xét sử dụng một lớp trộn ```mix-in```. Một lớp trộn là một lớp nhỏ chỉ định nghĩa một tập hợp các phương thức bổ sung mà một lớp nên cung cấp. Các lớp trộn không định nghĩa các thuộc tính hiện thực riêng của chúng, cũng không yêu cầu gọi phương thức xây dựng ```__init__```. \n",
        "\n",
        "Viết một lớp trộn thật dễ dàng bởi vì Python cho phép lấy ra thông tin về trạng thái hiện hành của bất cứ đối tượng nào dẫu cho kiểu của nó là gì. Việc quan sát các đối tượng một cách động này cho viết bạn viết tính năng chung chỉ một lần trong lớp trộn, mà có thể được áp dụng cho nhiều lớp khác. Các lớp trộn có thể được tổng hợp và sắp xếp để giảm thiểu các mã lặp lại và tối đa hoá việc sử dụng lại code. \n",
        "\n",
        "Ví dụ, bạn muốn chuyển một đối tượng Python từ biểu diễn trong bộ nhớ của nó sang một từ điển, để cho việc tuần tự hoá (serialization). Tại sao không viết tính năng này một cách tổng quát vì thế bạn có thể sử dụng nó với tất cả các lớp của bạn. \n",
        "\n",
        "Ở đây tôi định nghĩa một ví dụ của lớp trộn để hoàn thành công việc này với một lớp công cộng mới được thêm vào cho bất cứ lớp nào thừa hưởng từ nó"
      ]
    },
    {
      "cell_type": "code",
      "metadata": {
        "id": "LEWj_3VxjG09",
        "colab_type": "code",
        "colab": {}
      },
      "source": [
        "class ToDictMixin(object):\n",
        "  def to_dict(self):\n",
        "    return self._traverse_dict(self.__dict__)"
      ],
      "execution_count": 0,
      "outputs": []
    },
    {
      "cell_type": "markdown",
      "metadata": {
        "id": "GJK6Lc8-a1y9",
        "colab_type": "text"
      },
      "source": [
        "Các chi tiết triển khai thật rõ ràng và dựa trên việc truy cập thuộc tính động sử dụng ```hasattr```, phương thức cho phép lấy thông tin kiểu động ```isinstance```, và truy cập vào tử điển của đối tượng ```__dict__```. "
      ]
    },
    {
      "cell_type": "code",
      "metadata": {
        "id": "4r1-n5nWa02z",
        "colab_type": "code",
        "colab": {}
      },
      "source": [
        "def _traverse_dict(self, instance_dict):\n",
        "  output = {}\n",
        "  for key, value in instance_dict.items():\n",
        "    output[key] = self._traverse(key, value)\n",
        "  return output \n",
        "\n",
        "def _traverse(self, key, value):\n",
        "  if isinstance(value, ToDictMixin):\n",
        "    return value.to_dict()\n",
        "  elif isinstance(value, dict):\n",
        "    return self._traverse_dict(value)\n",
        "  elif isinstance(value, list):\n",
        "    return [self._traverse(key, i) for i in value]\n",
        "  elif hasattr(value, '__dict__'):\n",
        "    return self._traverse_dict(value.__dict__)\n",
        "  else:\n",
        "    return value  "
      ],
      "execution_count": 0,
      "outputs": []
    },
    {
      "cell_type": "markdown",
      "metadata": {
        "id": "i4gGGc__cMzC",
        "colab_type": "text"
      },
      "source": [
        "Ở đây tôi định nghĩa một lớp ví dụ sử dụng lớp trộn để tạo ra một biểu diễn từ điển của một cây nhị phân:"
      ]
    },
    {
      "cell_type": "code",
      "metadata": {
        "id": "Oc-X8mCgcL_H",
        "colab_type": "code",
        "colab": {}
      },
      "source": [
        "class BinaryTree(ToDictMixin):\n",
        "  def __init__(self, value, left=None, right=None):\n",
        "    self.value = value \n",
        "    self.left = left \n",
        "    self.right = right "
      ],
      "execution_count": 0,
      "outputs": []
    },
    {
      "cell_type": "markdown",
      "metadata": {
        "id": "N0e9m1A_crX-",
        "colab_type": "text"
      },
      "source": [
        "Chuyển một số lượng lớn các đối tượng Python liên quan thành một từ điển trở nên dễ dàng"
      ]
    },
    {
      "cell_type": "code",
      "metadata": {
        "id": "lM7Rx083cqZB",
        "colab_type": "code",
        "outputId": "abe47f61-dc29-464a-bd54-f5c8a6748227",
        "colab": {
          "base_uri": "https://localhost:8080/",
          "height": 286
        }
      },
      "source": [
        "tree = BinaryTree(10, left=BinaryTree(7, right=BinaryTree(9)), right=BinaryTree(13, left=BinaryTree(11)))\n",
        "print(tree.to_dict())"
      ],
      "execution_count": 0,
      "outputs": [
        {
          "output_type": "error",
          "ename": "AttributeError",
          "evalue": "ignored",
          "traceback": [
            "\u001b[0;31m---------------------------------------------------------------------------\u001b[0m",
            "\u001b[0;31mAttributeError\u001b[0m                            Traceback (most recent call last)",
            "\u001b[0;32m<ipython-input-11-b2ccd3e8caa9>\u001b[0m in \u001b[0;36m<module>\u001b[0;34m()\u001b[0m\n\u001b[1;32m      1\u001b[0m \u001b[0mtree\u001b[0m \u001b[0;34m=\u001b[0m \u001b[0mBinaryTree\u001b[0m\u001b[0;34m(\u001b[0m\u001b[0;36m10\u001b[0m\u001b[0;34m,\u001b[0m \u001b[0mleft\u001b[0m\u001b[0;34m=\u001b[0m\u001b[0mBinaryTree\u001b[0m\u001b[0;34m(\u001b[0m\u001b[0;36m7\u001b[0m\u001b[0;34m,\u001b[0m \u001b[0mright\u001b[0m\u001b[0;34m=\u001b[0m\u001b[0mBinaryTree\u001b[0m\u001b[0;34m(\u001b[0m\u001b[0;36m9\u001b[0m\u001b[0;34m)\u001b[0m\u001b[0;34m)\u001b[0m\u001b[0;34m,\u001b[0m \u001b[0mright\u001b[0m\u001b[0;34m=\u001b[0m\u001b[0mBinaryTree\u001b[0m\u001b[0;34m(\u001b[0m\u001b[0;36m13\u001b[0m\u001b[0;34m,\u001b[0m \u001b[0mleft\u001b[0m\u001b[0;34m=\u001b[0m\u001b[0mBinaryTree\u001b[0m\u001b[0;34m(\u001b[0m\u001b[0;36m11\u001b[0m\u001b[0;34m)\u001b[0m\u001b[0;34m)\u001b[0m\u001b[0;34m)\u001b[0m\u001b[0;34m\u001b[0m\u001b[0;34m\u001b[0m\u001b[0m\n\u001b[0;32m----> 2\u001b[0;31m \u001b[0mprint\u001b[0m\u001b[0;34m(\u001b[0m\u001b[0mtree\u001b[0m\u001b[0;34m.\u001b[0m\u001b[0mto_dict\u001b[0m\u001b[0;34m(\u001b[0m\u001b[0;34m)\u001b[0m\u001b[0;34m)\u001b[0m\u001b[0;34m\u001b[0m\u001b[0;34m\u001b[0m\u001b[0m\n\u001b[0m",
            "\u001b[0;32m<ipython-input-8-837b38cc5b02>\u001b[0m in \u001b[0;36mto_dict\u001b[0;34m(self)\u001b[0m\n\u001b[1;32m      1\u001b[0m \u001b[0;32mclass\u001b[0m \u001b[0mToDictMixin\u001b[0m\u001b[0;34m(\u001b[0m\u001b[0mobject\u001b[0m\u001b[0;34m)\u001b[0m\u001b[0;34m:\u001b[0m\u001b[0;34m\u001b[0m\u001b[0;34m\u001b[0m\u001b[0m\n\u001b[1;32m      2\u001b[0m   \u001b[0;32mdef\u001b[0m \u001b[0mto_dict\u001b[0m\u001b[0;34m(\u001b[0m\u001b[0mself\u001b[0m\u001b[0;34m)\u001b[0m\u001b[0;34m:\u001b[0m\u001b[0;34m\u001b[0m\u001b[0;34m\u001b[0m\u001b[0m\n\u001b[0;32m----> 3\u001b[0;31m     \u001b[0;32mreturn\u001b[0m \u001b[0mself\u001b[0m\u001b[0;34m.\u001b[0m\u001b[0m_traverse_dict\u001b[0m\u001b[0;34m(\u001b[0m\u001b[0mself\u001b[0m\u001b[0;34m.\u001b[0m\u001b[0m__dict__\u001b[0m\u001b[0;34m)\u001b[0m\u001b[0;34m\u001b[0m\u001b[0;34m\u001b[0m\u001b[0m\n\u001b[0m",
            "\u001b[0;31mAttributeError\u001b[0m: 'BinaryTree' object has no attribute '_traverse_dict'"
          ]
        }
      ]
    },
    {
      "cell_type": "markdown",
      "metadata": {
        "id": "TeVvZO-EekFm",
        "colab_type": "text"
      },
      "source": [
        "Với lớp trộn bạn có thể tạo ra các tính năng có thể được gắn vào thêm (pluggable) vì vậy các cư xử có thể được ghi đè khi được yêu cầu. Ví dụ ở đây tôi định nghĩa một lớp con của ```BinaryTree``` giữa một tham chiếu cha của nó. Tham chiếu vòng như vậy có thể làm triển khai mặc định của ```ToDictMixin.to_dict``` lặp vô hạn. "
      ]
    },
    {
      "cell_type": "code",
      "metadata": {
        "id": "zVk4YvbQdV7H",
        "colab_type": "code",
        "colab": {}
      },
      "source": [
        "class BinaryTreeWithParent(BinaryTree):\n",
        "  def __init__(self, value, left=None, right=None, parent=None):\n",
        "    super().__init__(value, left=left, right=right)\n",
        "    self.parent = parent "
      ],
      "execution_count": 0,
      "outputs": []
    },
    {
      "cell_type": "markdown",
      "metadata": {
        "id": "7l7iQmU7fcWR",
        "colab_type": "text"
      },
      "source": [
        "Giải pháp ở đây là ghi đè phương thức ```ToDictMixin._traverse``` trong lớp ```BinaryTreeWithParent``` để chỉ xử lý các giá trị cần thiết, ngăn các vòng tròn lặp lại xảy ra bởi lớp trộn. Ở đây, tôi ghi đè phương thức ```_traverse``` để đi qua lớp cha và chèn giá trị số của nó vào. "
      ]
    },
    {
      "cell_type": "code",
      "metadata": {
        "id": "8mtN6tSJfbZu",
        "colab_type": "code",
        "colab": {}
      },
      "source": [
        "def _traverse(self, key, value):\n",
        "  if (isinstance(value, BinaryTreeWithParent) and key == 'parent'):\n",
        "    return value.value # Ngăn các vòng tròn \n",
        "  else:\n",
        "    return super()._traverse(key, value)"
      ],
      "execution_count": 0,
      "outputs": []
    },
    {
      "cell_type": "markdown",
      "metadata": {
        "id": "EKeUz2llSyMU",
        "colab_type": "text"
      },
      "source": [
        "Gọi ```BinaryTreeWithParent.to_dict``` sẽ hoạt động mà không gặp vấn đề về tham chiếu tròn."
      ]
    },
    {
      "cell_type": "code",
      "metadata": {
        "id": "5ompYmY_Sxcg",
        "colab_type": "code",
        "outputId": "bc6cbdc7-c042-42b0-93d2-55aaf128884f",
        "colab": {
          "base_uri": "https://localhost:8080/",
          "height": 283
        }
      },
      "source": [
        "root = BinaryTreeWithParent(10)\n",
        "root.left = BinaryTreeWithParent(7, parent=root)\n",
        "root.left.right = BinaryTreeWithParent(9, parent=root.left)\n",
        "print(root.to_dict())"
      ],
      "execution_count": 0,
      "outputs": [
        {
          "output_type": "error",
          "ename": "AttributeError",
          "evalue": "ignored",
          "traceback": [
            "\u001b[0;31m---------------------------------------------------------------------------\u001b[0m",
            "\u001b[0;31mAttributeError\u001b[0m                            Traceback (most recent call last)",
            "\u001b[0;32m<ipython-input-14-f5e08166cfa0>\u001b[0m in \u001b[0;36m<module>\u001b[0;34m()\u001b[0m\n\u001b[1;32m      2\u001b[0m \u001b[0mroot\u001b[0m\u001b[0;34m.\u001b[0m\u001b[0mleft\u001b[0m \u001b[0;34m=\u001b[0m \u001b[0mBinaryTreeWithParent\u001b[0m\u001b[0;34m(\u001b[0m\u001b[0;36m7\u001b[0m\u001b[0;34m,\u001b[0m \u001b[0mparent\u001b[0m\u001b[0;34m=\u001b[0m\u001b[0mroot\u001b[0m\u001b[0;34m)\u001b[0m\u001b[0;34m\u001b[0m\u001b[0;34m\u001b[0m\u001b[0m\n\u001b[1;32m      3\u001b[0m \u001b[0mroot\u001b[0m\u001b[0;34m.\u001b[0m\u001b[0mleft\u001b[0m\u001b[0;34m.\u001b[0m\u001b[0mright\u001b[0m \u001b[0;34m=\u001b[0m \u001b[0mBinaryTreeWithParent\u001b[0m\u001b[0;34m(\u001b[0m\u001b[0;36m9\u001b[0m\u001b[0;34m,\u001b[0m \u001b[0mparent\u001b[0m\u001b[0;34m=\u001b[0m\u001b[0mroot\u001b[0m\u001b[0;34m.\u001b[0m\u001b[0mleft\u001b[0m\u001b[0;34m)\u001b[0m\u001b[0;34m\u001b[0m\u001b[0;34m\u001b[0m\u001b[0m\n\u001b[0;32m----> 4\u001b[0;31m \u001b[0mprint\u001b[0m\u001b[0;34m(\u001b[0m\u001b[0mroot\u001b[0m\u001b[0;34m.\u001b[0m\u001b[0mto_dict\u001b[0m\u001b[0;34m(\u001b[0m\u001b[0;34m)\u001b[0m\u001b[0;34m)\u001b[0m\u001b[0;34m\u001b[0m\u001b[0;34m\u001b[0m\u001b[0m\n\u001b[0m",
            "\u001b[0;32m<ipython-input-8-837b38cc5b02>\u001b[0m in \u001b[0;36mto_dict\u001b[0;34m(self)\u001b[0m\n\u001b[1;32m      1\u001b[0m \u001b[0;32mclass\u001b[0m \u001b[0mToDictMixin\u001b[0m\u001b[0;34m(\u001b[0m\u001b[0mobject\u001b[0m\u001b[0;34m)\u001b[0m\u001b[0;34m:\u001b[0m\u001b[0;34m\u001b[0m\u001b[0;34m\u001b[0m\u001b[0m\n\u001b[1;32m      2\u001b[0m   \u001b[0;32mdef\u001b[0m \u001b[0mto_dict\u001b[0m\u001b[0;34m(\u001b[0m\u001b[0mself\u001b[0m\u001b[0;34m)\u001b[0m\u001b[0;34m:\u001b[0m\u001b[0;34m\u001b[0m\u001b[0;34m\u001b[0m\u001b[0m\n\u001b[0;32m----> 3\u001b[0;31m     \u001b[0;32mreturn\u001b[0m \u001b[0mself\u001b[0m\u001b[0;34m.\u001b[0m\u001b[0m_traverse_dict\u001b[0m\u001b[0;34m(\u001b[0m\u001b[0mself\u001b[0m\u001b[0;34m.\u001b[0m\u001b[0m__dict__\u001b[0m\u001b[0;34m)\u001b[0m\u001b[0;34m\u001b[0m\u001b[0;34m\u001b[0m\u001b[0m\n\u001b[0m",
            "\u001b[0;31mAttributeError\u001b[0m: 'BinaryTreeWithParent' object has no attribute '_traverse_dict'"
          ]
        }
      ]
    },
    {
      "cell_type": "markdown",
      "metadata": {
        "id": "3l8VEVvWTKgU",
        "colab_type": "text"
      },
      "source": [
        "Các lớp trộn có thể được kết hợp cùng nhau. Ví dụ bạn muốn một lớp trộn cung cấp sắp xếp tuần tự cho bất cứ lớp nào. Bạn có thể làm điều này bằng cách giả định rằng một lớp cung cấp phương thức ```to_dict``` (phương thức có thể hoặc không thể được cung cấp bởi lớp ```ToDictMixin```)"
      ]
    },
    {
      "cell_type": "code",
      "metadata": {
        "id": "CM8w4x83TFNy",
        "colab_type": "code",
        "colab": {}
      },
      "source": [
        "class JsonMixin(object):\n",
        "  @classmethod\n",
        "  def from_json(cls, data):\n",
        "    kwargs = json.loads(data)\n",
        "    return cls(**kwargs)\n",
        "\n",
        "  def to_json(self):\n",
        "    return json.dums(self.to_dict())"
      ],
      "execution_count": 0,
      "outputs": []
    },
    {
      "cell_type": "markdown",
      "metadata": {
        "id": "eMMOAxEzT9Ep",
        "colab_type": "text"
      },
      "source": [
        "Chú ý cách lớp ```JsonMixin``` định nghĩa các phương thức của đối tượng và các phương thức lớp. Các lớp trộn cho phép bạn thêm vào kiểu hành vi. Trong ví dụ này, các yêu cầu duy nhất của ```JsonMixin``` là lớp này có phương thức ```to_dict``` và phương thức ```__init__``` nhận vào các tham số từ khoá. \n",
        "\n",
        "Lớp trộn này làm cho việc tạo các phân tầng của các lớp tiện ích có thể được tuần tự hoá tới và từ Json với một ít bản mẫu. Ví dụ, ở đây tôi có một phân tầng các lớp dữ liệu biểu diễn các phần của một mô hình trung tâm dữ liệu"
      ]
    },
    {
      "cell_type": "code",
      "metadata": {
        "id": "oYfzpYTxT8aP",
        "colab_type": "code",
        "colab": {}
      },
      "source": [
        "class DatacenterRack(ToDictMixin, JsonMixin):\n",
        "  def __init__(self, switch=None, machines=None):\n",
        "    self.switch = Switch(**switch)\n",
        "    self.machies = [\n",
        "                    Machine(**kwargs) for kwargs in machines\n",
        "    ]\n",
        "\n",
        "class Switch(ToDictMixin, JsonMixin):\n",
        "  #\n",
        "  pass\n",
        "\n",
        "class Machine(ToDictMixin, JsonMixin):\n",
        "  pass"
      ],
      "execution_count": 0,
      "outputs": []
    },
    {
      "cell_type": "markdown",
      "metadata": {
        "id": "H-bkHU5lVXTZ",
        "colab_type": "text"
      },
      "source": [
        "Tuần tự hoá các lớp nà đến và từ JSON thì đơn giản. Ở đây, tôi kiểm tra xem dữ liệu có thể gửi tới và về (roundtrip) thông qua việc tuần tự hoá và nghịch tuần tự hoá (deserializing):"
      ]
    },
    {
      "cell_type": "code",
      "metadata": {
        "id": "_Whi01iqVWUJ",
        "colab_type": "code",
        "outputId": "cb1de921-80e8-45f4-a9ba-1bbafc43e31e",
        "colab": {
          "base_uri": "https://localhost:8080/",
          "height": 375
        }
      },
      "source": [
        "import json\n",
        "serialized = \"\"\"\n",
        "{\"switch\": {\"ports\": 5, \"speed\": 1e9}, \"machines\": [{\"cores\": 8, \"ram\":32e9, \"disk\": 5e12}, \n",
        "{\"cores\": 4, \"ram\": 1629, \"disk\": 1e12},\n",
        "{\"cores\": 2, \"ram\": 4e9, \"disk\": 500e9}\n",
        "]\n",
        "\"\"\"\n",
        "deserialized = DatacenterRack.from_json(serialized)\n",
        "roundtrip = deserialized.to_json()\n",
        "assert json.loads(serialized) == json.loads(roundtrip)"
      ],
      "execution_count": 0,
      "outputs": [
        {
          "output_type": "error",
          "ename": "JSONDecodeError",
          "evalue": "ignored",
          "traceback": [
            "\u001b[0;31m---------------------------------------------------------------------------\u001b[0m",
            "\u001b[0;31mJSONDecodeError\u001b[0m                           Traceback (most recent call last)",
            "\u001b[0;32m<ipython-input-18-fe725ce35050>\u001b[0m in \u001b[0;36m<module>\u001b[0;34m()\u001b[0m\n\u001b[1;32m      6\u001b[0m ]\n\u001b[1;32m      7\u001b[0m \"\"\"\n\u001b[0;32m----> 8\u001b[0;31m \u001b[0mdeserialized\u001b[0m \u001b[0;34m=\u001b[0m \u001b[0mDatacenterRack\u001b[0m\u001b[0;34m.\u001b[0m\u001b[0mfrom_json\u001b[0m\u001b[0;34m(\u001b[0m\u001b[0mserialized\u001b[0m\u001b[0;34m)\u001b[0m\u001b[0;34m\u001b[0m\u001b[0;34m\u001b[0m\u001b[0m\n\u001b[0m\u001b[1;32m      9\u001b[0m \u001b[0mroundtrip\u001b[0m \u001b[0;34m=\u001b[0m \u001b[0mdeserialized\u001b[0m\u001b[0;34m.\u001b[0m\u001b[0mto_json\u001b[0m\u001b[0;34m(\u001b[0m\u001b[0;34m)\u001b[0m\u001b[0;34m\u001b[0m\u001b[0;34m\u001b[0m\u001b[0m\n\u001b[1;32m     10\u001b[0m \u001b[0;32massert\u001b[0m \u001b[0mjson\u001b[0m\u001b[0;34m.\u001b[0m\u001b[0mloads\u001b[0m\u001b[0;34m(\u001b[0m\u001b[0mserialized\u001b[0m\u001b[0;34m)\u001b[0m \u001b[0;34m==\u001b[0m \u001b[0mjson\u001b[0m\u001b[0;34m.\u001b[0m\u001b[0mloads\u001b[0m\u001b[0;34m(\u001b[0m\u001b[0mroundtrip\u001b[0m\u001b[0;34m)\u001b[0m\u001b[0;34m\u001b[0m\u001b[0;34m\u001b[0m\u001b[0m\n",
            "\u001b[0;32m<ipython-input-15-204829a725cc>\u001b[0m in \u001b[0;36mfrom_json\u001b[0;34m(cls, data)\u001b[0m\n\u001b[1;32m      2\u001b[0m   \u001b[0;34m@\u001b[0m\u001b[0mclassmethod\u001b[0m\u001b[0;34m\u001b[0m\u001b[0;34m\u001b[0m\u001b[0m\n\u001b[1;32m      3\u001b[0m   \u001b[0;32mdef\u001b[0m \u001b[0mfrom_json\u001b[0m\u001b[0;34m(\u001b[0m\u001b[0mcls\u001b[0m\u001b[0;34m,\u001b[0m \u001b[0mdata\u001b[0m\u001b[0;34m)\u001b[0m\u001b[0;34m:\u001b[0m\u001b[0;34m\u001b[0m\u001b[0;34m\u001b[0m\u001b[0m\n\u001b[0;32m----> 4\u001b[0;31m     \u001b[0mkwargs\u001b[0m \u001b[0;34m=\u001b[0m \u001b[0mjson\u001b[0m\u001b[0;34m.\u001b[0m\u001b[0mloads\u001b[0m\u001b[0;34m(\u001b[0m\u001b[0mdata\u001b[0m\u001b[0;34m)\u001b[0m\u001b[0;34m\u001b[0m\u001b[0;34m\u001b[0m\u001b[0m\n\u001b[0m\u001b[1;32m      5\u001b[0m     \u001b[0;32mreturn\u001b[0m \u001b[0mcls\u001b[0m\u001b[0;34m(\u001b[0m\u001b[0;34m**\u001b[0m\u001b[0mkwargs\u001b[0m\u001b[0;34m)\u001b[0m\u001b[0;34m\u001b[0m\u001b[0;34m\u001b[0m\u001b[0m\n\u001b[1;32m      6\u001b[0m \u001b[0;34m\u001b[0m\u001b[0m\n",
            "\u001b[0;32m/usr/lib/python3.6/json/__init__.py\u001b[0m in \u001b[0;36mloads\u001b[0;34m(s, encoding, cls, object_hook, parse_float, parse_int, parse_constant, object_pairs_hook, **kw)\u001b[0m\n\u001b[1;32m    352\u001b[0m             \u001b[0mparse_int\u001b[0m \u001b[0;32mis\u001b[0m \u001b[0;32mNone\u001b[0m \u001b[0;32mand\u001b[0m \u001b[0mparse_float\u001b[0m \u001b[0;32mis\u001b[0m \u001b[0;32mNone\u001b[0m \u001b[0;32mand\u001b[0m\u001b[0;34m\u001b[0m\u001b[0;34m\u001b[0m\u001b[0m\n\u001b[1;32m    353\u001b[0m             parse_constant is None and object_pairs_hook is None and not kw):\n\u001b[0;32m--> 354\u001b[0;31m         \u001b[0;32mreturn\u001b[0m \u001b[0m_default_decoder\u001b[0m\u001b[0;34m.\u001b[0m\u001b[0mdecode\u001b[0m\u001b[0;34m(\u001b[0m\u001b[0ms\u001b[0m\u001b[0;34m)\u001b[0m\u001b[0;34m\u001b[0m\u001b[0;34m\u001b[0m\u001b[0m\n\u001b[0m\u001b[1;32m    355\u001b[0m     \u001b[0;32mif\u001b[0m \u001b[0mcls\u001b[0m \u001b[0;32mis\u001b[0m \u001b[0;32mNone\u001b[0m\u001b[0;34m:\u001b[0m\u001b[0;34m\u001b[0m\u001b[0;34m\u001b[0m\u001b[0m\n\u001b[1;32m    356\u001b[0m         \u001b[0mcls\u001b[0m \u001b[0;34m=\u001b[0m \u001b[0mJSONDecoder\u001b[0m\u001b[0;34m\u001b[0m\u001b[0;34m\u001b[0m\u001b[0m\n",
            "\u001b[0;32m/usr/lib/python3.6/json/decoder.py\u001b[0m in \u001b[0;36mdecode\u001b[0;34m(self, s, _w)\u001b[0m\n\u001b[1;32m    337\u001b[0m \u001b[0;34m\u001b[0m\u001b[0m\n\u001b[1;32m    338\u001b[0m         \"\"\"\n\u001b[0;32m--> 339\u001b[0;31m         \u001b[0mobj\u001b[0m\u001b[0;34m,\u001b[0m \u001b[0mend\u001b[0m \u001b[0;34m=\u001b[0m \u001b[0mself\u001b[0m\u001b[0;34m.\u001b[0m\u001b[0mraw_decode\u001b[0m\u001b[0;34m(\u001b[0m\u001b[0ms\u001b[0m\u001b[0;34m,\u001b[0m \u001b[0midx\u001b[0m\u001b[0;34m=\u001b[0m\u001b[0m_w\u001b[0m\u001b[0;34m(\u001b[0m\u001b[0ms\u001b[0m\u001b[0;34m,\u001b[0m \u001b[0;36m0\u001b[0m\u001b[0;34m)\u001b[0m\u001b[0;34m.\u001b[0m\u001b[0mend\u001b[0m\u001b[0;34m(\u001b[0m\u001b[0;34m)\u001b[0m\u001b[0;34m)\u001b[0m\u001b[0;34m\u001b[0m\u001b[0;34m\u001b[0m\u001b[0m\n\u001b[0m\u001b[1;32m    340\u001b[0m         \u001b[0mend\u001b[0m \u001b[0;34m=\u001b[0m \u001b[0m_w\u001b[0m\u001b[0;34m(\u001b[0m\u001b[0ms\u001b[0m\u001b[0;34m,\u001b[0m \u001b[0mend\u001b[0m\u001b[0;34m)\u001b[0m\u001b[0;34m.\u001b[0m\u001b[0mend\u001b[0m\u001b[0;34m(\u001b[0m\u001b[0;34m)\u001b[0m\u001b[0;34m\u001b[0m\u001b[0;34m\u001b[0m\u001b[0m\n\u001b[1;32m    341\u001b[0m         \u001b[0;32mif\u001b[0m \u001b[0mend\u001b[0m \u001b[0;34m!=\u001b[0m \u001b[0mlen\u001b[0m\u001b[0;34m(\u001b[0m\u001b[0ms\u001b[0m\u001b[0;34m)\u001b[0m\u001b[0;34m:\u001b[0m\u001b[0;34m\u001b[0m\u001b[0;34m\u001b[0m\u001b[0m\n",
            "\u001b[0;32m/usr/lib/python3.6/json/decoder.py\u001b[0m in \u001b[0;36mraw_decode\u001b[0;34m(self, s, idx)\u001b[0m\n\u001b[1;32m    353\u001b[0m         \"\"\"\n\u001b[1;32m    354\u001b[0m         \u001b[0;32mtry\u001b[0m\u001b[0;34m:\u001b[0m\u001b[0;34m\u001b[0m\u001b[0;34m\u001b[0m\u001b[0m\n\u001b[0;32m--> 355\u001b[0;31m             \u001b[0mobj\u001b[0m\u001b[0;34m,\u001b[0m \u001b[0mend\u001b[0m \u001b[0;34m=\u001b[0m \u001b[0mself\u001b[0m\u001b[0;34m.\u001b[0m\u001b[0mscan_once\u001b[0m\u001b[0;34m(\u001b[0m\u001b[0ms\u001b[0m\u001b[0;34m,\u001b[0m \u001b[0midx\u001b[0m\u001b[0;34m)\u001b[0m\u001b[0;34m\u001b[0m\u001b[0;34m\u001b[0m\u001b[0m\n\u001b[0m\u001b[1;32m    356\u001b[0m         \u001b[0;32mexcept\u001b[0m \u001b[0mStopIteration\u001b[0m \u001b[0;32mas\u001b[0m \u001b[0merr\u001b[0m\u001b[0;34m:\u001b[0m\u001b[0;34m\u001b[0m\u001b[0;34m\u001b[0m\u001b[0m\n\u001b[1;32m    357\u001b[0m             \u001b[0;32mraise\u001b[0m \u001b[0mJSONDecodeError\u001b[0m\u001b[0;34m(\u001b[0m\u001b[0;34m\"Expecting value\"\u001b[0m\u001b[0;34m,\u001b[0m \u001b[0ms\u001b[0m\u001b[0;34m,\u001b[0m \u001b[0merr\u001b[0m\u001b[0;34m.\u001b[0m\u001b[0mvalue\u001b[0m\u001b[0;34m)\u001b[0m \u001b[0;32mfrom\u001b[0m \u001b[0;32mNone\u001b[0m\u001b[0;34m\u001b[0m\u001b[0;34m\u001b[0m\u001b[0m\n",
            "\u001b[0;31mJSONDecodeError\u001b[0m: Expecting ',' delimiter: line 6 column 1 (char 177)"
          ]
        }
      ]
    },
    {
      "cell_type": "markdown",
      "metadata": {
        "id": "ALtM0LZgW7Z7",
        "colab_type": "text"
      },
      "source": [
        "Khi bạn sử dụng các lớp trộn như vậy, lớp trộn đã thừa hưởng từ ```JsonMixin``` đi lên cao trong phân tầng đối tượng. Lớp kết quả sẽ cư xử theo cùng một cách. "
      ]
    },
    {
      "cell_type": "markdown",
      "metadata": {
        "id": "SHc2qfDZXLKf",
        "colab_type": "text"
      },
      "source": [
        "### Những thứ cần nhớ\n",
        "\n",
        "\n",
        "*   Tránh sử dụng đa thừa kế nếu các lớp trộn có thể làm điều tương tự\n",
        "*   Sử dụng các hành vi có thể được gắn vào thêm tại cấp độ đối tượng để cung cấp tuỳ chỉnh cho từng lớp khi các lớp trộn có thể yêu cầu nó.\n",
        "* Sắp xếp các lớp trộn để tạo ra các tính năng phức tạp từ các hành vi đơn giản. \n",
        "\n"
      ]
    },
    {
      "cell_type": "markdown",
      "metadata": {
        "id": "PYbIew_oZcOd",
        "colab_type": "text"
      },
      "source": [
        "## Nên sử dụng các thuộc tính công cộng thay vì các thuộc tính riêng tư\n",
        "\n",
        "Trong Python có hai kiểu thuộc tính được sử dụng cho thuộc tính của lớp: công cộng (public) và riêng tư (private)"
      ]
    },
    {
      "cell_type": "code",
      "metadata": {
        "id": "gXjeMvJpW3ve",
        "colab_type": "code",
        "colab": {}
      },
      "source": [
        "class MyObject(object):\n",
        "  def __init__(self):\n",
        "    self.public_field = 5 \n",
        "    self.__private_field = 10 \n",
        "\n",
        "  def get_private_field(self):\n",
        "    return self.__private_field"
      ],
      "execution_count": 0,
      "outputs": []
    },
    {
      "cell_type": "markdown",
      "metadata": {
        "id": "UDYjEfoHbefd",
        "colab_type": "text"
      },
      "source": [
        "Các thuộc tính công cộng có thể được truy cập bởi bất cứ ai"
      ]
    },
    {
      "cell_type": "code",
      "metadata": {
        "id": "BH0tyApNb5Kz",
        "colab_type": "code",
        "outputId": "9e5fc8dc-c77f-4b0e-eb5e-c660b7bb7231",
        "colab": {
          "base_uri": "https://localhost:8080/",
          "height": 198
        }
      },
      "source": [
        "foo = MyObject()\n",
        "assert foo.public_field == 5 \n",
        "foo.__private_field"
      ],
      "execution_count": 0,
      "outputs": [
        {
          "output_type": "error",
          "ename": "AttributeError",
          "evalue": "ignored",
          "traceback": [
            "\u001b[0;31m---------------------------------------------------------------------------\u001b[0m",
            "\u001b[0;31mAttributeError\u001b[0m                            Traceback (most recent call last)",
            "\u001b[0;32m<ipython-input-29-b736b35ad611>\u001b[0m in \u001b[0;36m<module>\u001b[0;34m()\u001b[0m\n\u001b[1;32m      1\u001b[0m \u001b[0mfoo\u001b[0m \u001b[0;34m=\u001b[0m \u001b[0mMyObject\u001b[0m\u001b[0;34m(\u001b[0m\u001b[0;34m)\u001b[0m\u001b[0;34m\u001b[0m\u001b[0;34m\u001b[0m\u001b[0m\n\u001b[1;32m      2\u001b[0m \u001b[0;32massert\u001b[0m \u001b[0mfoo\u001b[0m\u001b[0;34m.\u001b[0m\u001b[0mpublic_field\u001b[0m \u001b[0;34m==\u001b[0m \u001b[0;36m5\u001b[0m\u001b[0;34m\u001b[0m\u001b[0;34m\u001b[0m\u001b[0m\n\u001b[0;32m----> 3\u001b[0;31m \u001b[0mfoo\u001b[0m\u001b[0;34m.\u001b[0m\u001b[0m__private_field\u001b[0m\u001b[0;34m\u001b[0m\u001b[0;34m\u001b[0m\u001b[0m\n\u001b[0m",
            "\u001b[0;31mAttributeError\u001b[0m: 'MyObject' object has no attribute '__private_field'"
          ]
        }
      ]
    },
    {
      "cell_type": "markdown",
      "metadata": {
        "id": "J_KdntBAcB6V",
        "colab_type": "text"
      },
      "source": [
        "Các trường riêng tư được chỉ định bởi hai dấu gạch chân phía trước. Chúng có thể truy cập trực tiếp bởi cách phương thức của cùng lớp đó. "
      ]
    },
    {
      "cell_type": "code",
      "metadata": {
        "id": "Vfs8TMrBb-Ka",
        "colab_type": "code",
        "colab": {}
      },
      "source": [
        "assert foo.get_private_field() == 10 "
      ],
      "execution_count": 0,
      "outputs": []
    },
    {
      "cell_type": "markdown",
      "metadata": {
        "id": "S-5Tnp1Tfmzw",
        "colab_type": "text"
      },
      "source": [
        "Truy cập trực tiếp tới các lớp riêng tư từ bên ngoài có thể tạo ra một ngoại lệ."
      ]
    },
    {
      "cell_type": "code",
      "metadata": {
        "id": "DLUaCEyQeFL0",
        "colab_type": "code",
        "outputId": "d8cb2278-c8ad-4b7a-b987-03f252cae21f",
        "colab": {
          "base_uri": "https://localhost:8080/",
          "height": 130
        }
      },
      "source": [
        "\bfoo.__private_field__"
      ],
      "execution_count": 0,
      "outputs": [
        {
          "output_type": "error",
          "ename": "SyntaxError",
          "evalue": "ignored",
          "traceback": [
            "\u001b[0;36m  File \u001b[0;32m\"<ipython-input-28-aeeb06fb8873>\"\u001b[0;36m, line \u001b[0;32m1\u001b[0m\n\u001b[0;31m    \bfoo.__private_field__\u001b[0m\n\u001b[0m    ^\u001b[0m\n\u001b[0;31mSyntaxError\u001b[0m\u001b[0;31m:\u001b[0m invalid syntax\n"
          ]
        }
      ]
    },
    {
      "cell_type": "markdown",
      "metadata": {
        "id": "mVqM-t0LZygT",
        "colab_type": "text"
      },
      "source": [
        "Các phương thức của lớp cũng có thể truy cập tới các thuọc tính riêng tư bởi vì chúng được khai biết bên trong khối ```class```"
      ]
    },
    {
      "cell_type": "code",
      "metadata": {
        "id": "psVz6dKZf-VB",
        "colab_type": "code",
        "colab": {}
      },
      "source": [
        "class MyOtherObject(object):\n",
        "  def __init__(self):\n",
        "    self.__private_field = 71 \n",
        "\n",
        "  @classmethod\n",
        "  def get_private_field_of_instance(cls, instance):\n",
        "    return instance.__private_field"
      ],
      "execution_count": 0,
      "outputs": []
    },
    {
      "cell_type": "code",
      "metadata": {
        "id": "k6bxGdWHpayq",
        "colab_type": "code",
        "colab": {}
      },
      "source": [
        "bar = MyOtherObject()\n",
        "assert MyOtherObject.get_private_field_of_instance(bar) == 71"
      ],
      "execution_count": 0,
      "outputs": []
    },
    {
      "cell_type": "markdown",
      "metadata": {
        "id": "d-ctLcwlpxwo",
        "colab_type": "text"
      },
      "source": [
        "Với các trường riêng tư, một lớp con không thể truy cập vào các trường riêng tư của lớp cha của nó"
      ]
    },
    {
      "cell_type": "code",
      "metadata": {
        "id": "Sn10XGgrpqho",
        "colab_type": "code",
        "colab": {}
      },
      "source": [
        "class MyParentObject(object):\n",
        "  def __init__(self):\n",
        "    self.__private_field = 71"
      ],
      "execution_count": 0,
      "outputs": []
    },
    {
      "cell_type": "code",
      "metadata": {
        "id": "-Ad3sYnYp9wt",
        "colab_type": "code",
        "colab": {}
      },
      "source": [
        "class MyChildObject(MyParentObject):\n",
        "  def get_private_field(self):\n",
        "    return self.__private_field"
      ],
      "execution_count": 0,
      "outputs": []
    },
    {
      "cell_type": "code",
      "metadata": {
        "id": "tSn7JeacqE_X",
        "colab_type": "code",
        "outputId": "299a9bce-bcf4-40d3-80af-72f546bc5efc",
        "colab": {
          "base_uri": "https://localhost:8080/",
          "height": 266
        }
      },
      "source": [
        "baz = MyChildObject()\n",
        "baz.get_private_field()"
      ],
      "execution_count": 0,
      "outputs": [
        {
          "output_type": "error",
          "ename": "AttributeError",
          "evalue": "ignored",
          "traceback": [
            "\u001b[0;31m---------------------------------------------------------------------------\u001b[0m",
            "\u001b[0;31mAttributeError\u001b[0m                            Traceback (most recent call last)",
            "\u001b[0;32m<ipython-input-3-47478e2fb9a7>\u001b[0m in \u001b[0;36m<module>\u001b[0;34m()\u001b[0m\n\u001b[1;32m      1\u001b[0m \u001b[0mbaz\u001b[0m \u001b[0;34m=\u001b[0m \u001b[0mMyChildObject\u001b[0m\u001b[0;34m(\u001b[0m\u001b[0;34m)\u001b[0m\u001b[0;34m\u001b[0m\u001b[0;34m\u001b[0m\u001b[0m\n\u001b[0;32m----> 2\u001b[0;31m \u001b[0mbaz\u001b[0m\u001b[0;34m.\u001b[0m\u001b[0mget_private_field\u001b[0m\u001b[0;34m(\u001b[0m\u001b[0;34m)\u001b[0m\u001b[0;34m\u001b[0m\u001b[0;34m\u001b[0m\u001b[0m\n\u001b[0m",
            "\u001b[0;32m<ipython-input-2-fddec1f311d1>\u001b[0m in \u001b[0;36mget_private_field\u001b[0;34m(self)\u001b[0m\n\u001b[1;32m      1\u001b[0m \u001b[0;32mclass\u001b[0m \u001b[0mMyChildObject\u001b[0m\u001b[0;34m(\u001b[0m\u001b[0mMyParentObject\u001b[0m\u001b[0;34m)\u001b[0m\u001b[0;34m:\u001b[0m\u001b[0;34m\u001b[0m\u001b[0;34m\u001b[0m\u001b[0m\n\u001b[1;32m      2\u001b[0m   \u001b[0;32mdef\u001b[0m \u001b[0mget_private_field\u001b[0m\u001b[0;34m(\u001b[0m\u001b[0mself\u001b[0m\u001b[0;34m)\u001b[0m\u001b[0;34m:\u001b[0m\u001b[0;34m\u001b[0m\u001b[0;34m\u001b[0m\u001b[0m\n\u001b[0;32m----> 3\u001b[0;31m     \u001b[0;32mreturn\u001b[0m \u001b[0mself\u001b[0m\u001b[0;34m.\u001b[0m\u001b[0m__private_field\u001b[0m\u001b[0;34m\u001b[0m\u001b[0;34m\u001b[0m\u001b[0m\n\u001b[0m",
            "\u001b[0;31mAttributeError\u001b[0m: 'MyChildObject' object has no attribute '_MyChildObject__private_field'"
          ]
        }
      ]
    },
    {
      "cell_type": "markdown",
      "metadata": {
        "id": "kIt2FqXnqTCP",
        "colab_type": "text"
      },
      "source": [
        "Thuộc tính riêng tư được triển khai với một biểu diễn đơn giản của tên thuộc tính. Khi Python compiler nhìn thấy một truy cập thuộc tính trong các phương thức như ```MyChildObject.get_private_field```, nó dịch ```___private_field``` sang truy cập ```_MyChildObject__private_field```. Trong ví dụ này, ```__private_field``` chỉ được định nghĩa trong ```MyParentObject.__init__```, nghĩa là các tên thực của thuộc tính là ```_MyParentObject__private_field```. Truy cập thuộc tính riêng tư của lớp cha từ lớp con thất bại là bởi vì tên thuộc tính được chuyển đổi không khớp. \n",
        "\n",
        "Biết được cơ chế này, bạn có thể dễ dàng truy cập các thuộc tính riêng tư của bất cứ lớp nào từ một lớp con hoặc từ bên ngoài, mà không cần phải yêu cầu quyền hạn. "
      ]
    },
    {
      "cell_type": "code",
      "metadata": {
        "id": "_vUguEUbqOOL",
        "colab_type": "code",
        "colab": {}
      },
      "source": [
        "assert baz._MyParentObject__private_field == 71"
      ],
      "execution_count": 0,
      "outputs": []
    },
    {
      "cell_type": "markdown",
      "metadata": {
        "id": "J3FLeb7jmDNy",
        "colab_type": "text"
      },
      "source": [
        "Nếu bạn nhìn vào từ điển thuộc tính của đối tượng bạn sẽ thấy các thuộc tính riêng tư thực sự với các tên như là chúng xuất hiện sau khi chuyển đổi."
      ]
    },
    {
      "cell_type": "code",
      "metadata": {
        "id": "roy3V7N0l7Cd",
        "colab_type": "code",
        "outputId": "bcfd4afa-a0df-41d4-ffb7-81bfb3d5e949",
        "colab": {
          "base_uri": "https://localhost:8080/",
          "height": 34
        }
      },
      "source": [
        "print(baz.__dict__)"
      ],
      "execution_count": 0,
      "outputs": [
        {
          "output_type": "stream",
          "text": [
            "{'_MyParentObject__private_field': 71}\n"
          ],
          "name": "stdout"
        }
      ]
    },
    {
      "cell_type": "code",
      "metadata": {
        "id": "bRTuvxBkmV9k",
        "colab_type": "code",
        "colab": {}
      },
      "source": [
        "class MyFirstChildObject(MyParentObject):\n",
        "  def __init__(self):\n",
        "    self.name = \"Henry\"\n",
        "  def get_private_field(self):\n",
        "    return self.__private_field"
      ],
      "execution_count": 0,
      "outputs": []
    },
    {
      "cell_type": "code",
      "metadata": {
        "id": "xl7I57Momjy0",
        "colab_type": "code",
        "outputId": "89e2558f-a770-4dec-8489-e72ca74c370f",
        "colab": {
          "base_uri": "https://localhost:8080/",
          "height": 34
        }
      },
      "source": [
        "MyFirstChildObject().__dict__"
      ],
      "execution_count": 0,
      "outputs": [
        {
          "output_type": "execute_result",
          "data": {
            "text/plain": [
              "{'name': 'Henry'}"
            ]
          },
          "metadata": {
            "tags": []
          },
          "execution_count": 9
        }
      ]
    },
    {
      "cell_type": "code",
      "metadata": {
        "id": "LC57RFL_mnjK",
        "colab_type": "code",
        "outputId": "b6545ea1-9823-42a5-8c72-c0aa5e386676",
        "colab": {
          "base_uri": "https://localhost:8080/",
          "height": 34
        }
      },
      "source": [
        "baz = MyFirstChildObject()\n",
        "baz.__dict__"
      ],
      "execution_count": 0,
      "outputs": [
        {
          "output_type": "execute_result",
          "data": {
            "text/plain": [
              "{'name': 'Henry'}"
            ]
          },
          "metadata": {
            "tags": []
          },
          "execution_count": 10
        }
      ]
    },
    {
      "cell_type": "markdown",
      "metadata": {
        "id": "wc4i1ueRnHcz",
        "colab_type": "text"
      },
      "source": [
        "Tại sao cú pháp cho các thuộc tính riêng tư như này lại không thực sự được áp đặt một cách dễ nhìn? Câu trả lời đơn giản nhất đó là câu khẩu hiệu của Python: \"Chúng ta đang cho phép người lớn ở đây\" (We are all consenting adults here). Lập trình viên Python tin rằng lợi ích của việc mở tốt hơn nhiều so với những giới hạn của việc đóng. \n",
        "\n",
        "Ngoài ra, có được khả năng móc các thuộc tính ngôn ngữ như truy cập thuộc tính cho phép bạn tìm hiểu các chi tiết bên trong của các đối tượng bất cứ khi nào bạn muốn. Nếu bạn có thể làm như vậy thì câu hỏi là việc ngăn các truy cập thuộc tính riêng tư đem lại giá trị gì. \n",
        "\n",
        "Để làm giảm thiểu các thương tổn từ việc truy cập các chi tiết bên trong một cách lặng lẽ, các lập trình viên Python tuân theo một chuẩn được định nghĩa trong PEP 8. Các trường có một dấu gạch chân ở đầu (giống như ```_protected_field```) được bảo vệ (protected), nghĩa là các người dùng bên ngoài của lớp này nên thực hiện nó thận trọng. \n",
        "\n",
        "Tuy nhiên nhiều lập trình viên mới sử dụng các trường riêng tư để ám chỉ một API nội tại, không nên được truy cập bởi các lớp con hoặc bên ngoài."
      ]
    },
    {
      "cell_type": "code",
      "metadata": {
        "id": "OC6a70qfmstl",
        "colab_type": "code",
        "colab": {}
      },
      "source": [
        "class MyClass(object):\n",
        "  def __init__(self, value):\n",
        "    self.__value = value \n",
        "\n",
        "  def get_value(self):\n",
        "    return str(self.__value)\n",
        "\n",
        "foo = MyClass(5)\n",
        "assert foo.get_value() == '5'"
      ],
      "execution_count": 0,
      "outputs": []
    },
    {
      "cell_type": "markdown",
      "metadata": {
        "id": "oDztoYAfpnEd",
        "colab_type": "text"
      },
      "source": [
        "Đây là một cách tiếp cận sai. Chắc chắn là một ai đó, bao gồm cả bạn, sẽ muốn tạo ra các lớp con để thêm vào các tính năng mới hay giải quyết các vấn đề tồn đọng trong các phương thức hiện hành (ví dụ như cách ```MyClass.get_value``` luôn luôn trả về một chuỗi). Thông qua việc chọn các thuộc tính riêng tư, bạn chỉ đang tạo ra các lớp con ghi đè lên lớp cha và các phần mở rộng cồng kềnh và dễ vỡ. Các lớp con tiềm năng của bạn sẽ vẫn truy cập tới các trường riêng tư khi chúng cần phải làm như vậy. "
      ]
    },
    {
      "cell_type": "code",
      "metadata": {
        "id": "EPvx-Q30phIw",
        "colab_type": "code",
        "colab": {}
      },
      "source": [
        "class MyIntegerSubclass(MyClass):\n",
        "  def get_value(self):\n",
        "    return int(self._MyClass__value)\n",
        "\n"
      ],
      "execution_count": 0,
      "outputs": []
    },
    {
      "cell_type": "code",
      "metadata": {
        "id": "mSMpTTDqrhBe",
        "colab_type": "code",
        "colab": {}
      },
      "source": [
        "foo = MyIntegerSubclass(5)\n",
        "assert foo.get_value() == 5"
      ],
      "execution_count": 0,
      "outputs": []
    },
    {
      "cell_type": "markdown",
      "metadata": {
        "id": "0vyNCnTpHIpJ",
        "colab_type": "text"
      },
      "source": [
        "Nhưng nếu lớp dưới phân cấp thay đổi, các lớp này sẽ phá vỡ bởi vì các tham chiếu riêng tư không còn hợp lệ nữa. Ở đây lớp cha gần nhất của ```MyIntegerSubclass```, ```MyClass```, có một lớp cha khác được thêm vào gọi là ```MyBaseClass``` "
      ]
    },
    {
      "cell_type": "code",
      "metadata": {
        "id": "OlQpoM2krk7j",
        "colab_type": "code",
        "colab": {}
      },
      "source": [
        "class MyBaseClass(object):\n",
        "  def __init__(self, value):\n",
        "    self.__value = value \n",
        "\n",
        "class MyClass(MyBaseClass):\n",
        "  # ...\n",
        "\n",
        "class MyIntegerSubclass(MyClass):\n",
        "  def get_value(self):\n",
        "    return int(self._MyClass__value)"
      ],
      "execution_count": 0,
      "outputs": []
    },
    {
      "cell_type": "markdown",
      "metadata": {
        "id": "IAU69FSKKDYj",
        "colab_type": "text"
      },
      "source": [
        "Thuộc tính ```__value``` được gán trong lớp cha ```MyBaseClass```, không phải lớp cha ```MyClass```. \n",
        "Điều này làm cho tham chiếu thuộc tính riêng tư ```self._MyClass__value``` phá vỡ ```MyIntegerSubclass```. "
      ]
    },
    {
      "cell_type": "code",
      "metadata": {
        "id": "iswrkupSKCsV",
        "colab_type": "code",
        "colab": {}
      },
      "source": [
        "foo = MyIntegerSubclass(5)\n",
        "foo.get_value()"
      ],
      "execution_count": 0,
      "outputs": []
    },
    {
      "cell_type": "markdown",
      "metadata": {
        "id": "weZ4rfy4Kgbm",
        "colab_type": "text"
      },
      "source": [
        "Nói chung, tốt hơn là nếu có lỗi thì hãy là lỗi ở các lớp con được cho phép sử dụng các thuộc tính được bảo vệ. Ghi chú mỗi trường được bảo về và giải thích các APIs nội bộ nào có sẵn và các APIs nào nên được được để một mình. Đây là những lời khuyên cho các lập trình viên khác và cũng như là hướng dẫn cho chính bạn để sau này mở rộng code của bạn. "
      ]
    },
    {
      "cell_type": "code",
      "metadata": {
        "id": "12b0n-0cKdgk",
        "colab_type": "code",
        "colab": {}
      },
      "source": [
        "class MyClass(object):\n",
        "  def __init__(self, value):\n",
        "    #Lưu giá trị được cung cấp bởi người dùng cho đối tượng.\n",
        "    # Nó nên là một chuỗi khi được gán.\n",
        "    # Đối tượng nên được xử lý như là immutable\n",
        "    self._value = value\n",
        " "
      ],
      "execution_count": 0,
      "outputs": []
    },
    {
      "cell_type": "markdown",
      "metadata": {
        "id": "QbCHqcvpl6x3",
        "colab_type": "text"
      },
      "source": [
        "Bạn chỉ xem xét sử dụng các thuộc tính riêng tư khi bạn lo lắng về việc xung đột tên với các lớp con. Vấn đề này xảy ra khi một lớp con vô tình định nghĩa một thuộc tính đã được định nghĩa ở lớp cha"
      ]
    },
    {
      "cell_type": "code",
      "metadata": {
        "id": "hLuOnaE6mSnt",
        "colab_type": "code",
        "colab": {}
      },
      "source": [
        "class ApiClass(object):\n",
        "  def __init__(self):\n",
        "    self._value = 5 \n",
        "  \n",
        "  def get(self):\n",
        "    return self._value \n",
        "\n"
      ],
      "execution_count": 0,
      "outputs": []
    },
    {
      "cell_type": "code",
      "metadata": {
        "id": "9DTjyJSHmaKm",
        "colab_type": "code",
        "colab": {}
      },
      "source": [
        "class Child(ApiClass):\n",
        "  def __init__(self):\n",
        "    super().__init__()\n",
        "    self._value = 'hello' # Xung đột tên"
      ],
      "execution_count": 0,
      "outputs": []
    },
    {
      "cell_type": "code",
      "metadata": {
        "id": "ORqQq71Kmgs9",
        "colab_type": "code",
        "outputId": "8dbdfef6-12a8-405e-cc80-cf6d39e45651",
        "colab": {
          "base_uri": "https://localhost:8080/",
          "height": 34
        }
      },
      "source": [
        "a = Child()\n",
        "print(a.get(), 'and', a._value, 'should be different')"
      ],
      "execution_count": 0,
      "outputs": [
        {
          "output_type": "stream",
          "text": [
            "hello and hello should be different\n"
          ],
          "name": "stdout"
        }
      ]
    },
    {
      "cell_type": "markdown",
      "metadata": {
        "id": "rsNMUVTDm70b",
        "colab_type": "text"
      },
      "source": [
        "Đây là một vấn đề chính với các lớp là một phần của một API công cộng, các lớp con vượt ra ngoài tầm kiểm soát, vì thế bạn không thể cấu trúc lại code để giải quyết vấn đề. "
      ]
    },
    {
      "cell_type": "markdown",
      "metadata": {
        "id": "iXR7s6W9nUlc",
        "colab_type": "text"
      },
      "source": [
        "Conflict như vậy thường xảy ra với các tên thuộc tính phổ biến (ví dụ như ```value```). Để giảm rủi ro của vấn đề này, bạn có thể sử dụng một thuộc tính riêng tư ở lớp cha để đảm bảo rằng không có tên thuộc tính nào chồng lấn với các lớp con."
      ]
    },
    {
      "cell_type": "code",
      "metadata": {
        "id": "h8zzYzzcmu6b",
        "colab_type": "code",
        "colab": {}
      },
      "source": [
        "class ApiClass(object):\n",
        "  def __init__(self):\n",
        "    self.__value = 5\n",
        "\n",
        "  def get(self):\n",
        "    return self.__value "
      ],
      "execution_count": 0,
      "outputs": []
    },
    {
      "cell_type": "code",
      "metadata": {
        "id": "98720YzloAAc",
        "colab_type": "code",
        "colab": {}
      },
      "source": [
        "class Child(ApiClass):\n",
        "  def __init__(self):\n",
        "    super().__init__()\n",
        "    self._value = 'hello' # OK!"
      ],
      "execution_count": 0,
      "outputs": []
    },
    {
      "cell_type": "code",
      "metadata": {
        "id": "BSp8WtyDoH4J",
        "colab_type": "code",
        "outputId": "b2b0267d-77f8-48e2-d117-cdfe4e7154e7",
        "colab": {
          "base_uri": "https://localhost:8080/",
          "height": 34
        }
      },
      "source": [
        "a = Child()\n",
        "print(a.get(), 'and', a._value, 'are different')"
      ],
      "execution_count": 0,
      "outputs": [
        {
          "output_type": "stream",
          "text": [
            "5 and hello are different\n"
          ],
          "name": "stdout"
        }
      ]
    },
    {
      "cell_type": "markdown",
      "metadata": {
        "id": "yOjTM3jyoPWs",
        "colab_type": "text"
      },
      "source": [
        "### Những điều cần nhớ\n",
        "\n",
        "\n",
        "*   Các thuộc tính riêng tư không được thi hành một cách cẩn thận bởi Python compiler.\n",
        "*   Có kế hoạch từ lúc đầu cho phép các lớp con làm nhiều thứ hơn với các APIs nội tại và các thuộc tính thay vì khoá chính một cách mặc định\n",
        "* Sử dụng tài liệu của các trường được bảo vệ để hướng dẫn các lớp con thay vì cố gắng tạo ra các điều khiển truy nhập tới các thuộc tính riêng tư.\n",
        "* Chỉ xem xét sử dụng các thuộc tính riêng tư để tránh việc xung đột tên với các lớp con, nơi bạn không có quyền điều khiển.\n",
        "\n"
      ]
    },
    {
      "cell_type": "markdown",
      "metadata": {
        "id": "PzMt0hkdr5KD",
        "colab_type": "text"
      },
      "source": [
        "## Thừa hưởng từ ```collections.abc``` cho các kiểu chứa tuỳ chỉnh \n",
        "\n",
        "Đa số việc lập trình trong Python là định nghĩa các lớp chứa dữ liệu và mô tả cách các đối tượng như vậy liên quan lẫn nhau. Mỗi lớp Python là một đối tượng chứa của một vài kiểu khác, đóng gói các thuộc tính và tính năng cùng với nhau. Python cũng cung cấp các kiểu chứa có sẵn cho việc quản lý dữ liệu: các danh sách, tuples, các sets và các từ điển. \n",
        "\n",
        "Khi bạn đang thiết kế các lớp để sử dụng cho tác vụ đơn giản như chuỗi (sequences), sẽ là bình thường nếu bạn muốn tạo một lớp con của kiểu ```list``` trực tiếp. Ví dụ, bạn muốn tạo một kiểu danh sách tuỳ chỉnh có thêm các phương thức cho việc đếm tần số của các thành viên. "
      ]
    },
    {
      "cell_type": "code",
      "metadata": {
        "id": "VFOllADmoNzS",
        "colab_type": "code",
        "colab": {}
      },
      "source": [
        "class FrequencyList(list):\n",
        "  def __init__(self, members):\n",
        "    super().__init__(members)\n",
        "\n",
        "  def frequency(self):\n",
        "    counts = {}\n",
        "    for item in self:\n",
        "      counts.setdefault(item, 0)\n",
        "      counts[item] += 1\n",
        "    return counts "
      ],
      "execution_count": 0,
      "outputs": []
    },
    {
      "cell_type": "markdown",
      "metadata": {
        "id": "2_OvtBCFt5v4",
        "colab_type": "text"
      },
      "source": [
        "Qua việc tạo lớp con của ```list```, bạn có được tất cả các tính năng chuẩn của nó và duy trì được ngữ nghĩa quen thuộc với tất cả các lập trình viên Python. Các phương thức bổ sung khác của bạn có thể thêm bất cứ cư xử tuỳ chỉnh nào bạn cần "
      ]
    },
    {
      "cell_type": "code",
      "metadata": {
        "id": "GZdxU6qBt4n_",
        "colab_type": "code",
        "colab": {}
      },
      "source": [
        "foo = FrequencyList(['a', 'b', 'a', 'c', 'b', 'a', 'd'])"
      ],
      "execution_count": 0,
      "outputs": []
    },
    {
      "cell_type": "code",
      "metadata": {
        "id": "PERYPUqVuSdq",
        "colab_type": "code",
        "outputId": "bff83e79-5796-4be3-e2da-8dc581c557f0",
        "colab": {
          "base_uri": "https://localhost:8080/",
          "height": 68
        }
      },
      "source": [
        "print('Length is ', len(foo))\n",
        "foo.pop()\n",
        "print('After pop: ', repr(foo))\n",
        "print('Frequency:', foo.frequency())"
      ],
      "execution_count": 0,
      "outputs": [
        {
          "output_type": "stream",
          "text": [
            "Length is  7\n",
            "After pop:  ['a', 'b', 'a', 'c', 'b', 'a']\n",
            "Frequency: {'a': 3, 'b': 2, 'c': 1}\n"
          ],
          "name": "stdout"
        }
      ]
    },
    {
      "cell_type": "markdown",
      "metadata": {
        "id": "rPkl-m4pv4rP",
        "colab_type": "text"
      },
      "source": [
        "Nào bây giờ tưởng tượng bạn muốn cung cấp một đối tượng, cảm giác giống như một danh sách, cho phép dùng các chỉ số, nhưng không phải là một lớp con của một danh sách. Ví dụ, bạn muốn cung cấp các ngữ nghĩa tuần tự (sequence semantics) như là danh sách hay tuple cho một lớp cây nhị phân"
      ]
    },
    {
      "cell_type": "code",
      "metadata": {
        "id": "KKBZl_w7uiMX",
        "colab_type": "code",
        "colab": {}
      },
      "source": [
        "class BinaryNode(object):\n",
        "  def __init__(self, value, left=None, right=None):\n",
        "    self.value = value\n",
        "    self.left = left\n",
        "    self.right = right "
      ],
      "execution_count": 0,
      "outputs": []
    },
    {
      "cell_type": "markdown",
      "metadata": {
        "id": "CATnHcs0weJx",
        "colab_type": "text"
      },
      "source": [
        "Làm thế nào bạn tạo ra một kiểu liên tục (sequence) như vậy? Python triển khai các hành vi bộ chứa của nó với các phương thức của đối tượng có các tên đặc biệt. Khi bạn muốn truy cập vào một sequence thông qua chỉ số"
      ]
    },
    {
      "cell_type": "code",
      "metadata": {
        "id": "EGnBHS4Uwc5v",
        "colab_type": "code",
        "outputId": "4158cee6-638c-4f99-eaca-98ae475ea511",
        "colab": {
          "base_uri": "https://localhost:8080/",
          "height": 34
        }
      },
      "source": [
        "bar = [1, 2, 3]\n",
        "bar[0]"
      ],
      "execution_count": 0,
      "outputs": [
        {
          "output_type": "execute_result",
          "data": {
            "text/plain": [
              "1"
            ]
          },
          "metadata": {
            "tags": []
          },
          "execution_count": 16
        }
      ]
    },
    {
      "cell_type": "markdown",
      "metadata": {
        "id": "4J88EaBVx6Jx",
        "colab_type": "text"
      },
      "source": [
        "thực chất nó sẽ gọi ```__getitem__``` trên đối tượng ```bar```"
      ]
    },
    {
      "cell_type": "code",
      "metadata": {
        "id": "nPwF8qMix2dW",
        "colab_type": "code",
        "outputId": "bda4ea43-da18-4263-9e52-4b5ae3bfc908",
        "colab": {
          "base_uri": "https://localhost:8080/",
          "height": 34
        }
      },
      "source": [
        "bar.__getitem__(0)"
      ],
      "execution_count": 0,
      "outputs": [
        {
          "output_type": "execute_result",
          "data": {
            "text/plain": [
              "1"
            ]
          },
          "metadata": {
            "tags": []
          },
          "execution_count": 17
        }
      ]
    },
    {
      "cell_type": "markdown",
      "metadata": {
        "id": "Q0rp5PVSEDLs",
        "colab_type": "text"
      },
      "source": [
        "Để làm cho lớp ```BinaryNode``` hoạt động như là một sequence, bạn có thể cung cấp một triển khai tuỳ chỉnh của ```__getitem__``` thực hiện việc duyệt qua cây đối tượng theo chiều sâu."
      ]
    },
    {
      "cell_type": "markdown",
      "metadata": {
        "id": "nokIUOhLE0CD",
        "colab_type": "text"
      },
      "source": [
        ""
      ]
    },
    {
      "cell_type": "code",
      "metadata": {
        "id": "yoTZtQgByHeq",
        "colab_type": "code",
        "colab": {}
      },
      "source": [
        "class IndexableNode(BinaryNode):\n",
        "  def _search(self, count, index):\n",
        "    #\n",
        "    pass\n",
        "\n",
        "  def __getitem__(self, index):\n",
        "    found, _ = self._search(0, index)\n",
        "    if not found:\n",
        "      raise IndexError('Index out of range')\n",
        "    return found.value "
      ],
      "execution_count": 0,
      "outputs": []
    },
    {
      "cell_type": "markdown",
      "metadata": {
        "id": "RSld5-iGE1Hl",
        "colab_type": "text"
      },
      "source": [
        "Bạn có thể xây dựng cây nhị phân như bình thường"
      ]
    },
    {
      "cell_type": "code",
      "metadata": {
        "id": "mh-hAl_gEtf1",
        "colab_type": "code",
        "colab": {}
      },
      "source": [
        "tree = IndexableNode(10, left=IndexableNode(5, left=IndexableNode(2), right=IndexableNode(6, right=IndexableNode(7))), right=IndexableNode(15, left=IndexableNode(11)))"
      ],
      "execution_count": 0,
      "outputs": []
    },
    {
      "cell_type": "markdown",
      "metadata": {
        "id": "O1cQikm-GDoM",
        "colab_type": "text"
      },
      "source": [
        "Nhưng bạn vẫn có thể truy cập tới nó như là một danh sách ngoài việc duyệt cây"
      ]
    },
    {
      "cell_type": "code",
      "metadata": {
        "id": "4yPkOaotGCAW",
        "colab_type": "code",
        "outputId": "cc9b4f43-e982-4eb5-af56-98bf784058f6",
        "colab": {
          "base_uri": "https://localhost:8080/",
          "height": 368
        }
      },
      "source": [
        "print('LRR = ', tree.left.right.right.value)\n",
        "print('Index 0=', tree[0])\n",
        "print('Index 1 = ', tree[1])\n",
        "print('11 in the tree?', 11 in tree)\n",
        "print('17 in the tree?', 17 in tree)\n",
        "print('Tree is', list(tree))"
      ],
      "execution_count": 0,
      "outputs": [
        {
          "output_type": "stream",
          "text": [
            "LRR =  7\n"
          ],
          "name": "stdout"
        },
        {
          "output_type": "error",
          "ename": "TypeError",
          "evalue": "ignored",
          "traceback": [
            "\u001b[0;31m---------------------------------------------------------------------------\u001b[0m",
            "\u001b[0;31mTypeError\u001b[0m                                 Traceback (most recent call last)",
            "\u001b[0;32m<ipython-input-21-db7875c5e4d4>\u001b[0m in \u001b[0;36m<module>\u001b[0;34m()\u001b[0m\n\u001b[1;32m      1\u001b[0m \u001b[0mprint\u001b[0m\u001b[0;34m(\u001b[0m\u001b[0;34m'LRR = '\u001b[0m\u001b[0;34m,\u001b[0m \u001b[0mtree\u001b[0m\u001b[0;34m.\u001b[0m\u001b[0mleft\u001b[0m\u001b[0;34m.\u001b[0m\u001b[0mright\u001b[0m\u001b[0;34m.\u001b[0m\u001b[0mright\u001b[0m\u001b[0;34m.\u001b[0m\u001b[0mvalue\u001b[0m\u001b[0;34m)\u001b[0m\u001b[0;34m\u001b[0m\u001b[0;34m\u001b[0m\u001b[0m\n\u001b[0;32m----> 2\u001b[0;31m \u001b[0mprint\u001b[0m\u001b[0;34m(\u001b[0m\u001b[0;34m'Index 0='\u001b[0m\u001b[0;34m,\u001b[0m \u001b[0mtree\u001b[0m\u001b[0;34m[\u001b[0m\u001b[0;36m0\u001b[0m\u001b[0;34m]\u001b[0m\u001b[0;34m)\u001b[0m\u001b[0;34m\u001b[0m\u001b[0;34m\u001b[0m\u001b[0m\n\u001b[0m\u001b[1;32m      3\u001b[0m \u001b[0mprint\u001b[0m\u001b[0;34m(\u001b[0m\u001b[0;34m'Index 1 = '\u001b[0m\u001b[0;34m,\u001b[0m \u001b[0mtree\u001b[0m\u001b[0;34m[\u001b[0m\u001b[0;36m1\u001b[0m\u001b[0;34m]\u001b[0m\u001b[0;34m)\u001b[0m\u001b[0;34m\u001b[0m\u001b[0;34m\u001b[0m\u001b[0m\n\u001b[1;32m      4\u001b[0m \u001b[0mprint\u001b[0m\u001b[0;34m(\u001b[0m\u001b[0;34m'11 in the tree?'\u001b[0m\u001b[0;34m,\u001b[0m \u001b[0;36m11\u001b[0m \u001b[0;32min\u001b[0m \u001b[0mtree\u001b[0m\u001b[0;34m)\u001b[0m\u001b[0;34m\u001b[0m\u001b[0;34m\u001b[0m\u001b[0m\n\u001b[1;32m      5\u001b[0m \u001b[0mprint\u001b[0m\u001b[0;34m(\u001b[0m\u001b[0;34m'17 in the tree?'\u001b[0m\u001b[0;34m,\u001b[0m \u001b[0;36m17\u001b[0m \u001b[0;32min\u001b[0m \u001b[0mtree\u001b[0m\u001b[0;34m)\u001b[0m\u001b[0;34m\u001b[0m\u001b[0;34m\u001b[0m\u001b[0m\n",
            "\u001b[0;32m<ipython-input-19-20828ecab917>\u001b[0m in \u001b[0;36m__getitem__\u001b[0;34m(self, index)\u001b[0m\n\u001b[1;32m      5\u001b[0m \u001b[0;34m\u001b[0m\u001b[0m\n\u001b[1;32m      6\u001b[0m   \u001b[0;32mdef\u001b[0m \u001b[0m__getitem__\u001b[0m\u001b[0;34m(\u001b[0m\u001b[0mself\u001b[0m\u001b[0;34m,\u001b[0m \u001b[0mindex\u001b[0m\u001b[0;34m)\u001b[0m\u001b[0;34m:\u001b[0m\u001b[0;34m\u001b[0m\u001b[0;34m\u001b[0m\u001b[0m\n\u001b[0;32m----> 7\u001b[0;31m     \u001b[0mfound\u001b[0m\u001b[0;34m,\u001b[0m \u001b[0m_\u001b[0m \u001b[0;34m=\u001b[0m \u001b[0mself\u001b[0m\u001b[0;34m.\u001b[0m\u001b[0m_search\u001b[0m\u001b[0;34m(\u001b[0m\u001b[0;36m0\u001b[0m\u001b[0;34m,\u001b[0m \u001b[0mindex\u001b[0m\u001b[0;34m)\u001b[0m\u001b[0;34m\u001b[0m\u001b[0;34m\u001b[0m\u001b[0m\n\u001b[0m\u001b[1;32m      8\u001b[0m     \u001b[0;32mif\u001b[0m \u001b[0;32mnot\u001b[0m \u001b[0mfound\u001b[0m\u001b[0;34m:\u001b[0m\u001b[0;34m\u001b[0m\u001b[0;34m\u001b[0m\u001b[0m\n\u001b[1;32m      9\u001b[0m       \u001b[0;32mraise\u001b[0m \u001b[0mIndexError\u001b[0m\u001b[0;34m(\u001b[0m\u001b[0;34m'Index out of range'\u001b[0m\u001b[0;34m)\u001b[0m\u001b[0;34m\u001b[0m\u001b[0;34m\u001b[0m\u001b[0m\n",
            "\u001b[0;31mTypeError\u001b[0m: 'NoneType' object is not iterable"
          ]
        }
      ]
    },
    {
      "cell_type": "markdown",
      "metadata": {
        "id": "IJ-UqJHZGtfS",
        "colab_type": "text"
      },
      "source": [
        "Vấn đề là triển khai ```__getitem__``` không đủ để cung cấp tất cả các ngữ nghĩa sequence như mong đợi."
      ]
    },
    {
      "cell_type": "code",
      "metadata": {
        "id": "d4RxE8UnGgTT",
        "colab_type": "code",
        "outputId": "a5afa01c-790a-4303-f1dc-9e2fcd7f7af8",
        "colab": {
          "base_uri": "https://localhost:8080/",
          "height": 164
        }
      },
      "source": [
        "len(tree)"
      ],
      "execution_count": 0,
      "outputs": [
        {
          "output_type": "error",
          "ename": "TypeError",
          "evalue": "ignored",
          "traceback": [
            "\u001b[0;31m---------------------------------------------------------------------------\u001b[0m",
            "\u001b[0;31mTypeError\u001b[0m                                 Traceback (most recent call last)",
            "\u001b[0;32m<ipython-input-23-dc0343ec22f7>\u001b[0m in \u001b[0;36m<module>\u001b[0;34m()\u001b[0m\n\u001b[0;32m----> 1\u001b[0;31m \u001b[0mlen\u001b[0m\u001b[0;34m(\u001b[0m\u001b[0mtree\u001b[0m\u001b[0;34m)\u001b[0m\u001b[0;34m\u001b[0m\u001b[0;34m\u001b[0m\u001b[0m\n\u001b[0m",
            "\u001b[0;31mTypeError\u001b[0m: object of type 'IndexableNode' has no len()"
          ]
        }
      ]
    },
    {
      "cell_type": "markdown",
      "metadata": {
        "id": "Or-485TBHj3o",
        "colab_type": "text"
      },
      "source": [
        "Hàm có sẵn ```len``` yêu cầu một phương thức đặc biệt khác có tên là ```__len__```, ta phải thực hiện phương thức này cho kiểu tuỳ chỉnh"
      ]
    },
    {
      "cell_type": "code",
      "metadata": {
        "id": "QgN5Io8WG6ER",
        "colab_type": "code",
        "colab": {}
      },
      "source": [
        "class SequenceNode(IndexableNode):\n",
        "  def __len__(self):\n",
        "    _, count = self._search(0, None)\n",
        "    return count"
      ],
      "execution_count": 0,
      "outputs": []
    },
    {
      "cell_type": "markdown",
      "metadata": {
        "id": "qbokRyfBIDNV",
        "colab_type": "text"
      },
      "source": [
        "Rủi thay, những điều trên chưa đủ. Các phương thức ```count``` và ```index``` là những phương thức mà một lập trình viên Python mong đợi từ danh sách hay tuple. Định nghĩa các kiểu chứa riêng khó hơn rất nhiều.\n",
        "\n",
        "Để tránh khó khăn này, module ```collections.abc``` định nghĩa một tập hợp các lớp trừu tượng cung cấp các hàm tiêu biểu cho mỗi kiểu chứa. Khi bạn tạo một lớp con từ các lớp trừu tượng này và quên cách triển khai các phương thức yêu câu, module này sẽ nói cho bạn những thứ nào sai"
      ]
    },
    {
      "cell_type": "code",
      "metadata": {
        "id": "6qQE6wjRI2NN",
        "colab_type": "code",
        "colab": {}
      },
      "source": [
        "from collections.abc import Sequence"
      ],
      "execution_count": 0,
      "outputs": []
    },
    {
      "cell_type": "code",
      "metadata": {
        "id": "gaDoe00II4wE",
        "colab_type": "code",
        "colab": {}
      },
      "source": [
        "class BadType(Sequence):\n",
        "  pass"
      ],
      "execution_count": 0,
      "outputs": []
    },
    {
      "cell_type": "code",
      "metadata": {
        "id": "Yr5dqbLQI7DX",
        "colab_type": "code",
        "outputId": "103134ec-060c-43e5-c56d-64cdef6015e2",
        "colab": {
          "base_uri": "https://localhost:8080/",
          "height": 164
        }
      },
      "source": [
        "foo = BadType()"
      ],
      "execution_count": 0,
      "outputs": [
        {
          "output_type": "error",
          "ename": "TypeError",
          "evalue": "ignored",
          "traceback": [
            "\u001b[0;31m---------------------------------------------------------------------------\u001b[0m",
            "\u001b[0;31mTypeError\u001b[0m                                 Traceback (most recent call last)",
            "\u001b[0;32m<ipython-input-27-fdca44b07998>\u001b[0m in \u001b[0;36m<module>\u001b[0;34m()\u001b[0m\n\u001b[0;32m----> 1\u001b[0;31m \u001b[0mfoo\u001b[0m \u001b[0;34m=\u001b[0m \u001b[0mBadType\u001b[0m\u001b[0;34m(\u001b[0m\u001b[0;34m)\u001b[0m\u001b[0;34m\u001b[0m\u001b[0;34m\u001b[0m\u001b[0m\n\u001b[0m",
            "\u001b[0;31mTypeError\u001b[0m: Can't instantiate abstract class BadType with abstract methods __getitem__, __len__"
          ]
        }
      ]
    },
    {
      "cell_type": "code",
      "metadata": {
        "id": "6kXeUy0nI8de",
        "colab_type": "code",
        "colab": {}
      },
      "source": [
        ""
      ],
      "execution_count": 0,
      "outputs": []
    },
    {
      "cell_type": "markdown",
      "metadata": {
        "id": "9yzLa8lJJDpZ",
        "colab_type": "text"
      },
      "source": [
        "Khi bạn triển khai tất cả các phương thức được yêu cầu bởi một lớp cơ sở trừu tượng, như bạn làm với ```SequenceNode``` ở trên, nó sẽ cung cấp tất cả các phương thức bổ sung như ```index``` và ```count``` miễn phí."
      ]
    },
    {
      "cell_type": "code",
      "metadata": {
        "id": "NbiDZiDRJXrU",
        "colab_type": "code",
        "outputId": "722174c2-eea1-4656-cc8b-6751e52dfb8f",
        "colab": {
          "base_uri": "https://localhost:8080/",
          "height": 232
        }
      },
      "source": [
        "class BetterNode(SequenceNode, Sequence):\n",
        "  pass\n",
        "\n",
        "tree = BetterNode()\n",
        "\n",
        "print('Index of 7 is', tree.index(7))\n",
        "print('Index of 10 is ', tree.count(10))"
      ],
      "execution_count": 0,
      "outputs": [
        {
          "output_type": "error",
          "ename": "TypeError",
          "evalue": "ignored",
          "traceback": [
            "\u001b[0;31m---------------------------------------------------------------------------\u001b[0m",
            "\u001b[0;31mTypeError\u001b[0m                                 Traceback (most recent call last)",
            "\u001b[0;32m<ipython-input-28-5cede84b15ab>\u001b[0m in \u001b[0;36m<module>\u001b[0;34m()\u001b[0m\n\u001b[1;32m      2\u001b[0m   \u001b[0;32mpass\u001b[0m\u001b[0;34m\u001b[0m\u001b[0;34m\u001b[0m\u001b[0m\n\u001b[1;32m      3\u001b[0m \u001b[0;34m\u001b[0m\u001b[0m\n\u001b[0;32m----> 4\u001b[0;31m \u001b[0mtree\u001b[0m \u001b[0;34m=\u001b[0m \u001b[0mBetterNode\u001b[0m\u001b[0;34m(\u001b[0m\u001b[0;34m)\u001b[0m\u001b[0;34m\u001b[0m\u001b[0;34m\u001b[0m\u001b[0m\n\u001b[0m\u001b[1;32m      5\u001b[0m \u001b[0;34m\u001b[0m\u001b[0m\n\u001b[1;32m      6\u001b[0m \u001b[0mprint\u001b[0m\u001b[0;34m(\u001b[0m\u001b[0;34m'Index of 7 is'\u001b[0m\u001b[0;34m,\u001b[0m \u001b[0mtree\u001b[0m\u001b[0;34m.\u001b[0m\u001b[0mindex\u001b[0m\u001b[0;34m(\u001b[0m\u001b[0;36m7\u001b[0m\u001b[0;34m)\u001b[0m\u001b[0;34m)\u001b[0m\u001b[0;34m\u001b[0m\u001b[0;34m\u001b[0m\u001b[0m\n",
            "\u001b[0;31mTypeError\u001b[0m: __init__() missing 1 required positional argument: 'value'"
          ]
        }
      ]
    },
    {
      "cell_type": "markdown",
      "metadata": {
        "id": "0Gl6FiTvJlwl",
        "colab_type": "text"
      },
      "source": [
        "Lợi thế của việc sử dụng các lớp cơ sở trừu tượng sẽ còn lớn hơn đối với các kiểu phức tạp như ```Set``` và ```MutableMapping```, các lớp có số lượng nhiều các phương thức đặc biệt cần được triển khai để khớp với các quy định của Python."
      ]
    },
    {
      "cell_type": "markdown",
      "metadata": {
        "id": "JKRFJP9gJ5xt",
        "colab_type": "text"
      },
      "source": [
        "### Những thứ cần nhớ\n",
        "\n",
        "\n",
        "*   \bThừa kế trực tiếp từ các kiểu chứa của Python (như là danh sách hoặc từ điển) cho các trường hợp đơn giản.\n",
        "*   Nhận thức rằng số lượng lớn các phương thức yêu cầu triển khai các kiểu chứa chính xác.\n",
        "* Có các kiểu chứa tuỳ chỉnh thừa hưởng từ các giao tiếp được định nghĩa trong ```collections.abc``` để đảm bảo rằng các lớp của bạn khới với các giao diện và hành vi yêu cầu. \n",
        "\n"
      ]
    },
    {
      "cell_type": "markdown",
      "metadata": {
        "id": "h4VcE7b5PLww",
        "colab_type": "text"
      },
      "source": [
        "## Metaclasses và các thuộc tính\n",
        "Metaclasses thường được nhắc tới trong các đặc tính của Python, nhưng chỉ một vài trong chúng ta hiểu được tác dụng của chúng trong thực tế. Từ ```metaclass``` ám chỉ một cách mơ hồ một khái niệm phía trên và bên ngoài một lớp. Các metaclasses cho phép bạn chặn câu lệnh ```class``` và cung cấp cư xử đặc biệt mỗi lần một lớp được định nghĩa. \n",
        "\n",
        "Tương tự như vậy các đặc tính có sẵn của Python cho việc tuỳ chỉnh truy nhập thuộc tính rất mạnh mẽ và bí ẩn. Đi cùng với các xây dựng hướng đối tượng của Python, các công cụ này giúp cho việc chuyển đổi các lớp đơn giản sang các lớp phức tạp dễ dàng hơn. \n",
        "\n",
        "Tuy nhiên các tính năng này cũng có những khó khăn tiềm ẩn. Các thuộc tính động làm cho bạn ghi đè các đối tượng và tạo ra các hiệu ứng phụ không như mong đợi. Các metaclasses có thể tạo ra các cư xử lạ lùng và không thức hợp cho người mới bước chân sử dụng Python. Điều quan trọng là bạn tuân theo *luật của sự ít ngạc nhiên nhất* (rule of least surprise) và chỉ sử dụng các cơ chế này để triển khai các thành ngữ dễ hiểu. "
      ]
    },
    {
      "cell_type": "markdown",
      "metadata": {
        "id": "rsrNVKRxbtXc",
        "colab_type": "text"
      },
      "source": [
        "## Sử dụng các thuộc tính thay vì các phương thức Get và Set \n",
        "\n",
        "Các lập trình viên từ các ngôn ngữ khác có thể cố gắng triển khai các phương thức thiết lập (setter) và lấy thông tin (getter) trong các lớp của họ"
      ]
    },
    {
      "cell_type": "code",
      "metadata": {
        "id": "jMGoABlYJkwT",
        "colab_type": "code",
        "colab": {}
      },
      "source": [
        "class OldResistor(object):\n",
        "  def __init__(self, ohms):\n",
        "    self._ohms = ohms \n",
        "\n",
        "  def get_ohms(self):\n",
        "    return self._ohms \n",
        "\n",
        "  def set_ohms(self, ohms):\n",
        "    self._ohms = ohms"
      ],
      "execution_count": 0,
      "outputs": []
    },
    {
      "cell_type": "markdown",
      "metadata": {
        "id": "RJXfN8UscheS",
        "colab_type": "text"
      },
      "source": [
        "Sử dụng các setters và getter nhìn đơn giản, nhưng nó không Pythonic."
      ]
    },
    {
      "cell_type": "code",
      "metadata": {
        "id": "a8CTnbF6cgi-",
        "colab_type": "code",
        "outputId": "70061888-b310-4bf4-a9f4-a290b1d65f25",
        "colab": {
          "base_uri": "https://localhost:8080/",
          "height": 51
        }
      },
      "source": [
        "r0 = OldResistor(50e3)\n",
        "print(\"Before: %5r\" % r0.get_ohms())\n",
        "\n",
        "r0.set_ohms(10e3)\n",
        "print(\"After: %5r\" % r0.get_ohms())"
      ],
      "execution_count": 0,
      "outputs": [
        {
          "output_type": "stream",
          "text": [
            "Before: 50000.0\n",
            "After: 10000.0\n"
          ],
          "name": "stdout"
        }
      ]
    },
    {
      "cell_type": "markdown",
      "metadata": {
        "id": "QVF_9UibdI_O",
        "colab_type": "text"
      },
      "source": [
        "Các phương thức như thế đặc biệt rườm rà cho các tác vụ như tăng giá trị một biến"
      ]
    },
    {
      "cell_type": "code",
      "metadata": {
        "id": "ZRBCNRMgdE8O",
        "colab_type": "code",
        "colab": {}
      },
      "source": [
        "r0.set_ohms(r0.get_ohms() + 5e3)"
      ],
      "execution_count": 0,
      "outputs": []
    },
    {
      "cell_type": "markdown",
      "metadata": {
        "id": "sgRK-xfCeSHP",
        "colab_type": "text"
      },
      "source": [
        "Các phương thức trên giúp định nghĩa các giao tiếp cho lớp của bạn, làm cho lớp trở nên dễ dàng hơn khi bao các tính năng, xác nhận việc sử dụng các thuộc tính, và định nghĩa các ranh giới. Các tính năng trên là các mục tiêu quan trọng khi thiết kê smoojt lớp để đảm bảo rằng bạn không phá vỡ các hàm gọi khi lớp của bạn phát triển thêm sau này.\n",
        "\n",
        "Trong Python, bạn không bao giờ cần triển khai các phương thức setter và getter. Thay vào đó, bạn nên luôn luôn bắt đầu các triển khai của mình với các thuộc tính công cộng. "
      ]
    },
    {
      "cell_type": "code",
      "metadata": {
        "id": "8_urrUT5dUb7",
        "colab_type": "code",
        "colab": {}
      },
      "source": [
        "class Resistor(object):\n",
        "  def __init__(self, ohms):\n",
        "    self.ohms = ohms\n",
        "    self.voltage = 0\n",
        "    self.current = 0"
      ],
      "execution_count": 0,
      "outputs": []
    },
    {
      "cell_type": "code",
      "metadata": {
        "id": "NUE1vjKEfio4",
        "colab_type": "code",
        "colab": {}
      },
      "source": [
        "r1 = Resistor(50e3)\n",
        "r1.ohms = 10e3"
      ],
      "execution_count": 0,
      "outputs": []
    },
    {
      "cell_type": "markdown",
      "metadata": {
        "id": "2dbOs7ndfpKN",
        "colab_type": "text"
      },
      "source": [
        "Thực hiện như trên giúp cho các hành động như tăng giá trị một biến trở nên tự nhiên và rõ ràng hơn. "
      ]
    },
    {
      "cell_type": "code",
      "metadata": {
        "id": "YyJ7siz5fny6",
        "colab_type": "code",
        "colab": {}
      },
      "source": [
        "r1.ohms += 5e3"
      ],
      "execution_count": 0,
      "outputs": []
    },
    {
      "cell_type": "markdown",
      "metadata": {
        "id": "UKpmWuMcf5Cc",
        "colab_type": "text"
      },
      "source": [
        "Sau đó, nếu bạn quyết định rằng mình cần một cư xử đặc biệt khi một thuộc tính được thiết lập, bạn có thể dùng ```@property``` decorator và thuộc tính ```setter``` tương ứng của nó. Ở đây tôi định nghĩa một lớp mới ```Resistor``` giúp tôi tuỳ chỉnh ```current``` thông qua việc gán thuộc tính ```voltage```. Chú ý rằng để chạy được đúng tên của các phương thức setter và getter phải khớp với tên thuộc tính "
      ]
    },
    {
      "cell_type": "code",
      "metadata": {
        "id": "y8LEJnxdf4IP",
        "colab_type": "code",
        "colab": {}
      },
      "source": [
        "class VoltageResistance(Resistor):\n",
        "  def __init__(self, ohms):\n",
        "    super().__init__(ohms)\n",
        "    self._voltage = 0 \n",
        "\n",
        "  @property\n",
        "  def voltage(self):\n",
        "    return self._voltage \n",
        "\n",
        "  @voltage.setter\n",
        "  def voltage(self, voltage):\n",
        "    self._voltage = voltage \n",
        "    self.current = self._voltage / self.ohms\n"
      ],
      "execution_count": 0,
      "outputs": []
    },
    {
      "cell_type": "markdown",
      "metadata": {
        "id": "7CCGK1JAhahP",
        "colab_type": "text"
      },
      "source": [
        "Bây giờ, gán thuộc tính ```voltage``` sẽ chạy phương thức setter ```voltage```, cập nhật giá trị ```current``` của đối tượng."
      ]
    },
    {
      "cell_type": "code",
      "metadata": {
        "id": "U-rE6VR5hZWy",
        "colab_type": "code",
        "outputId": "84d46e87-2abc-4c8d-81b6-2edcde955ceb",
        "colab": {
          "base_uri": "https://localhost:8080/",
          "height": 51
        }
      },
      "source": [
        "r2 = VoltageResistance(1e3)\n",
        "print(\"Before: %5r amps\" % r2.current)\n",
        "\n",
        "r2.voltage = 10 \n",
        "print(\"After : %5r amps\" % r2.current)"
      ],
      "execution_count": 0,
      "outputs": [
        {
          "output_type": "stream",
          "text": [
            "Before:     0 amps\n",
            "After :  0.01 amps\n"
          ],
          "name": "stdout"
        }
      ]
    },
    {
      "cell_type": "markdown",
      "metadata": {
        "id": "n0r9A2_wnosL",
        "colab_type": "text"
      },
      "source": [
        "Chỉ định một ```setter``` trên một thuộc tính còn cho phép bạn \bthực hiện kiểm tra kiểu và xác minh giá trị được truyền vào lớp của bạn. Ở đây, tôi định nghĩa một lớp đảm bảo các giá trị không được chấp nhận là những giới trị nhỏ hơn 0 ohms."
      ]
    },
    {
      "cell_type": "code",
      "metadata": {
        "id": "9FykDm7ChzjJ",
        "colab_type": "code",
        "colab": {}
      },
      "source": [
        "class BoundedResistance(Resistor):\n",
        "  def __init__(self, ohms):\n",
        "    super().__init__(ohms)\n",
        "\n",
        "  @property\n",
        "  def ohms(self):\n",
        "    return self._ohms \n",
        "\n",
        "  @ohms.setter \n",
        "  def ohms(self, ohms):\n",
        "    if ohms <= 0:\n",
        "      raise ValueError('%f ohms must be > 0 ' % ohms)\n",
        "    self._ohms = ohms "
      ],
      "execution_count": 0,
      "outputs": []
    },
    {
      "cell_type": "markdown",
      "metadata": {
        "id": "t68a_K7ioxz3",
        "colab_type": "text"
      },
      "source": [
        "Gán một giá trị không hợp lệ cho một thuộc tính sẽ tạo ra một ngoại lệ"
      ]
    },
    {
      "cell_type": "code",
      "metadata": {
        "id": "8Q9emHlwov5A",
        "colab_type": "code",
        "outputId": "b63d691b-7887-49e2-f32b-4a624761ef1b",
        "colab": {
          "base_uri": "https://localhost:8080/",
          "height": 283
        }
      },
      "source": [
        "r3 = BoundedResistance(1e3)\n",
        "r3.ohms = 0"
      ],
      "execution_count": 0,
      "outputs": [
        {
          "output_type": "error",
          "ename": "ValueError",
          "evalue": "ignored",
          "traceback": [
            "\u001b[0;31m---------------------------------------------------------------------------\u001b[0m",
            "\u001b[0;31mValueError\u001b[0m                                Traceback (most recent call last)",
            "\u001b[0;32m<ipython-input-10-4faf6805d103>\u001b[0m in \u001b[0;36m<module>\u001b[0;34m()\u001b[0m\n\u001b[1;32m      1\u001b[0m \u001b[0mr3\u001b[0m \u001b[0;34m=\u001b[0m \u001b[0mBoundedResistance\u001b[0m\u001b[0;34m(\u001b[0m\u001b[0;36m1e3\u001b[0m\u001b[0;34m)\u001b[0m\u001b[0;34m\u001b[0m\u001b[0;34m\u001b[0m\u001b[0m\n\u001b[0;32m----> 2\u001b[0;31m \u001b[0mr3\u001b[0m\u001b[0;34m.\u001b[0m\u001b[0mohms\u001b[0m \u001b[0;34m=\u001b[0m \u001b[0;36m0\u001b[0m\u001b[0;34m\u001b[0m\u001b[0;34m\u001b[0m\u001b[0m\n\u001b[0m",
            "\u001b[0;32m<ipython-input-9-b444ab31f1d7>\u001b[0m in \u001b[0;36mohms\u001b[0;34m(self, ohms)\u001b[0m\n\u001b[1;32m     10\u001b[0m   \u001b[0;32mdef\u001b[0m \u001b[0mohms\u001b[0m\u001b[0;34m(\u001b[0m\u001b[0mself\u001b[0m\u001b[0;34m,\u001b[0m \u001b[0mohms\u001b[0m\u001b[0;34m)\u001b[0m\u001b[0;34m:\u001b[0m\u001b[0;34m\u001b[0m\u001b[0;34m\u001b[0m\u001b[0m\n\u001b[1;32m     11\u001b[0m     \u001b[0;32mif\u001b[0m \u001b[0mohms\u001b[0m \u001b[0;34m<=\u001b[0m \u001b[0;36m0\u001b[0m\u001b[0;34m:\u001b[0m\u001b[0;34m\u001b[0m\u001b[0;34m\u001b[0m\u001b[0m\n\u001b[0;32m---> 12\u001b[0;31m       \u001b[0;32mraise\u001b[0m \u001b[0mValueError\u001b[0m\u001b[0;34m(\u001b[0m\u001b[0;34m'%f ohms must be > 0 '\u001b[0m \u001b[0;34m%\u001b[0m \u001b[0mohms\u001b[0m\u001b[0;34m)\u001b[0m\u001b[0;34m\u001b[0m\u001b[0;34m\u001b[0m\u001b[0m\n\u001b[0m\u001b[1;32m     13\u001b[0m     \u001b[0mself\u001b[0m\u001b[0;34m.\u001b[0m\u001b[0m_ohms\u001b[0m \u001b[0;34m=\u001b[0m \u001b[0mohms\u001b[0m\u001b[0;34m\u001b[0m\u001b[0;34m\u001b[0m\u001b[0m\n",
            "\u001b[0;31mValueError\u001b[0m: 0.000000 ohms must be > 0 "
          ]
        }
      ]
    },
    {
      "cell_type": "markdown",
      "metadata": {
        "id": "0URiPv_1o9yI",
        "colab_type": "text"
      },
      "source": [
        "Một ngoại lệ sẽ xảy ra nếu bạn truyền vào một giá trị không hợp lý cho hàm xây dựng. "
      ]
    },
    {
      "cell_type": "code",
      "metadata": {
        "id": "gfVGxMYOo8gW",
        "colab_type": "code",
        "outputId": "577b31a5-c23f-4a33-a547-e077da2f6009",
        "colab": {
          "base_uri": "https://localhost:8080/",
          "height": 290
        }
      },
      "source": [
        "BoundedResistance(-5)"
      ],
      "execution_count": 0,
      "outputs": [
        {
          "output_type": "error",
          "ename": "ValueError",
          "evalue": "ignored",
          "traceback": [
            "\u001b[0;31m---------------------------------------------------------------------------\u001b[0m",
            "\u001b[0;31mValueError\u001b[0m                                Traceback (most recent call last)",
            "\u001b[0;32m<ipython-input-11-9fc5cf3426e1>\u001b[0m in \u001b[0;36m<module>\u001b[0;34m()\u001b[0m\n\u001b[0;32m----> 1\u001b[0;31m \u001b[0mBoundedResistance\u001b[0m\u001b[0;34m(\u001b[0m\u001b[0;34m-\u001b[0m\u001b[0;36m5\u001b[0m\u001b[0;34m)\u001b[0m\u001b[0;34m\u001b[0m\u001b[0;34m\u001b[0m\u001b[0m\n\u001b[0m",
            "\u001b[0;32m<ipython-input-9-b444ab31f1d7>\u001b[0m in \u001b[0;36m__init__\u001b[0;34m(self, ohms)\u001b[0m\n\u001b[1;32m      1\u001b[0m \u001b[0;32mclass\u001b[0m \u001b[0mBoundedResistance\u001b[0m\u001b[0;34m(\u001b[0m\u001b[0mResistor\u001b[0m\u001b[0;34m)\u001b[0m\u001b[0;34m:\u001b[0m\u001b[0;34m\u001b[0m\u001b[0;34m\u001b[0m\u001b[0m\n\u001b[1;32m      2\u001b[0m   \u001b[0;32mdef\u001b[0m \u001b[0m__init__\u001b[0m\u001b[0;34m(\u001b[0m\u001b[0mself\u001b[0m\u001b[0;34m,\u001b[0m \u001b[0mohms\u001b[0m\u001b[0;34m)\u001b[0m\u001b[0;34m:\u001b[0m\u001b[0;34m\u001b[0m\u001b[0;34m\u001b[0m\u001b[0m\n\u001b[0;32m----> 3\u001b[0;31m     \u001b[0msuper\u001b[0m\u001b[0;34m(\u001b[0m\u001b[0;34m)\u001b[0m\u001b[0;34m.\u001b[0m\u001b[0m__init__\u001b[0m\u001b[0;34m(\u001b[0m\u001b[0mohms\u001b[0m\u001b[0;34m)\u001b[0m\u001b[0;34m\u001b[0m\u001b[0;34m\u001b[0m\u001b[0m\n\u001b[0m\u001b[1;32m      4\u001b[0m \u001b[0;34m\u001b[0m\u001b[0m\n\u001b[1;32m      5\u001b[0m   \u001b[0;34m@\u001b[0m\u001b[0mproperty\u001b[0m\u001b[0;34m\u001b[0m\u001b[0;34m\u001b[0m\u001b[0m\n",
            "\u001b[0;32m<ipython-input-4-cfd4c4e6fb2d>\u001b[0m in \u001b[0;36m__init__\u001b[0;34m(self, ohms)\u001b[0m\n\u001b[1;32m      1\u001b[0m \u001b[0;32mclass\u001b[0m \u001b[0mResistor\u001b[0m\u001b[0;34m(\u001b[0m\u001b[0mobject\u001b[0m\u001b[0;34m)\u001b[0m\u001b[0;34m:\u001b[0m\u001b[0;34m\u001b[0m\u001b[0;34m\u001b[0m\u001b[0m\n\u001b[1;32m      2\u001b[0m   \u001b[0;32mdef\u001b[0m \u001b[0m__init__\u001b[0m\u001b[0;34m(\u001b[0m\u001b[0mself\u001b[0m\u001b[0;34m,\u001b[0m \u001b[0mohms\u001b[0m\u001b[0;34m)\u001b[0m\u001b[0;34m:\u001b[0m\u001b[0;34m\u001b[0m\u001b[0;34m\u001b[0m\u001b[0m\n\u001b[0;32m----> 3\u001b[0;31m     \u001b[0mself\u001b[0m\u001b[0;34m.\u001b[0m\u001b[0mohms\u001b[0m \u001b[0;34m=\u001b[0m \u001b[0mohms\u001b[0m\u001b[0;34m\u001b[0m\u001b[0;34m\u001b[0m\u001b[0m\n\u001b[0m\u001b[1;32m      4\u001b[0m     \u001b[0mself\u001b[0m\u001b[0;34m.\u001b[0m\u001b[0mvoltage\u001b[0m \u001b[0;34m=\u001b[0m \u001b[0;36m0\u001b[0m\u001b[0;34m\u001b[0m\u001b[0;34m\u001b[0m\u001b[0m\n\u001b[1;32m      5\u001b[0m     \u001b[0mself\u001b[0m\u001b[0;34m.\u001b[0m\u001b[0mcurrent\u001b[0m \u001b[0;34m=\u001b[0m \u001b[0;36m0\u001b[0m\u001b[0;34m\u001b[0m\u001b[0;34m\u001b[0m\u001b[0m\n",
            "\u001b[0;32m<ipython-input-9-b444ab31f1d7>\u001b[0m in \u001b[0;36mohms\u001b[0;34m(self, ohms)\u001b[0m\n\u001b[1;32m     10\u001b[0m   \u001b[0;32mdef\u001b[0m \u001b[0mohms\u001b[0m\u001b[0;34m(\u001b[0m\u001b[0mself\u001b[0m\u001b[0;34m,\u001b[0m \u001b[0mohms\u001b[0m\u001b[0;34m)\u001b[0m\u001b[0;34m:\u001b[0m\u001b[0;34m\u001b[0m\u001b[0;34m\u001b[0m\u001b[0m\n\u001b[1;32m     11\u001b[0m     \u001b[0;32mif\u001b[0m \u001b[0mohms\u001b[0m \u001b[0;34m<=\u001b[0m \u001b[0;36m0\u001b[0m\u001b[0;34m:\u001b[0m\u001b[0;34m\u001b[0m\u001b[0;34m\u001b[0m\u001b[0m\n\u001b[0;32m---> 12\u001b[0;31m       \u001b[0;32mraise\u001b[0m \u001b[0mValueError\u001b[0m\u001b[0;34m(\u001b[0m\u001b[0;34m'%f ohms must be > 0 '\u001b[0m \u001b[0;34m%\u001b[0m \u001b[0mohms\u001b[0m\u001b[0;34m)\u001b[0m\u001b[0;34m\u001b[0m\u001b[0;34m\u001b[0m\u001b[0m\n\u001b[0m\u001b[1;32m     13\u001b[0m     \u001b[0mself\u001b[0m\u001b[0;34m.\u001b[0m\u001b[0m_ohms\u001b[0m \u001b[0;34m=\u001b[0m \u001b[0mohms\u001b[0m\u001b[0;34m\u001b[0m\u001b[0;34m\u001b[0m\u001b[0m\n",
            "\u001b[0;31mValueError\u001b[0m: -5.000000 ohms must be > 0 "
          ]
        }
      ]
    },
    {
      "cell_type": "markdown",
      "metadata": {
        "id": "-pLoPZPmpmqd",
        "colab_type": "text"
      },
      "source": [
        "Điều này xảy ra là bởi vì ```BoundedResistance.__init__```` gọi ```Resistor.__init__```, phương thức này gán ```self.ohms - -5```. Phép gán này làm cho phương thức ```@ohms.setter``` từ ```BoundedResistance``` được gọi, và lập tức đoạn mã kiểm định giá trị thuộc tính được chạy trước khi xây dựng đối tượng được hoàn thành. \n",
        "\n",
        "Bạn có thể thậm chí sử dụng ```@property``` để làm cho các thuộc tính từ các lớp cho immutable."
      ]
    },
    {
      "cell_type": "code",
      "metadata": {
        "id": "l1pq9Sp7pGXG",
        "colab_type": "code",
        "colab": {}
      },
      "source": [
        "class FixedResistance(Resistor):\n",
        "  def __init__(self, ohms):\n",
        "    super().__init__(ohms)\n",
        "    \n",
        "  @property\n",
        "  def ohms(self):\n",
        "    return self._ohms \n",
        "\n",
        "  @ohms.setter\n",
        "  def ohms(self, ohms):\n",
        "    if hasattr(self, '_ohms'):\n",
        "      raise AttributeError(\"Can't set attribute\")\n",
        "    self._ohms = ohms"
      ],
      "execution_count": 0,
      "outputs": []
    },
    {
      "cell_type": "markdown",
      "metadata": {
        "id": "MKuavcxUrMJM",
        "colab_type": "text"
      },
      "source": [
        "Cố gắng gán giá trị cho thuộc tính sau khi xây dựng tạo ra một ngoại lệ"
      ]
    },
    {
      "cell_type": "code",
      "metadata": {
        "id": "poKP___arCqe",
        "colab_type": "code",
        "outputId": "937bb12c-b49a-409f-c29a-84a9dd92244e",
        "colab": {
          "base_uri": "https://localhost:8080/",
          "height": 283
        }
      },
      "source": [
        "r4 = FixedResistance(1e3)\n",
        "r4.ohms = 2e3"
      ],
      "execution_count": 0,
      "outputs": [
        {
          "output_type": "error",
          "ename": "AttributeError",
          "evalue": "ignored",
          "traceback": [
            "\u001b[0;31m---------------------------------------------------------------------------\u001b[0m",
            "\u001b[0;31mAttributeError\u001b[0m                            Traceback (most recent call last)",
            "\u001b[0;32m<ipython-input-14-7fbedb722fb3>\u001b[0m in \u001b[0;36m<module>\u001b[0;34m()\u001b[0m\n\u001b[1;32m      1\u001b[0m \u001b[0mr4\u001b[0m \u001b[0;34m=\u001b[0m \u001b[0mFixedResistance\u001b[0m\u001b[0;34m(\u001b[0m\u001b[0;36m1e3\u001b[0m\u001b[0;34m)\u001b[0m\u001b[0;34m\u001b[0m\u001b[0;34m\u001b[0m\u001b[0m\n\u001b[0;32m----> 2\u001b[0;31m \u001b[0mr4\u001b[0m\u001b[0;34m.\u001b[0m\u001b[0mohms\u001b[0m \u001b[0;34m=\u001b[0m \u001b[0;36m2e3\u001b[0m\u001b[0;34m\u001b[0m\u001b[0;34m\u001b[0m\u001b[0m\n\u001b[0m",
            "\u001b[0;32m<ipython-input-13-b81524d3775a>\u001b[0m in \u001b[0;36mohms\u001b[0;34m(self, ohms)\u001b[0m\n\u001b[1;32m     10\u001b[0m   \u001b[0;32mdef\u001b[0m \u001b[0mohms\u001b[0m\u001b[0;34m(\u001b[0m\u001b[0mself\u001b[0m\u001b[0;34m,\u001b[0m \u001b[0mohms\u001b[0m\u001b[0;34m)\u001b[0m\u001b[0;34m:\u001b[0m\u001b[0;34m\u001b[0m\u001b[0;34m\u001b[0m\u001b[0m\n\u001b[1;32m     11\u001b[0m     \u001b[0;32mif\u001b[0m \u001b[0mhasattr\u001b[0m\u001b[0;34m(\u001b[0m\u001b[0mself\u001b[0m\u001b[0;34m,\u001b[0m \u001b[0;34m'_ohms'\u001b[0m\u001b[0;34m)\u001b[0m\u001b[0;34m:\u001b[0m\u001b[0;34m\u001b[0m\u001b[0;34m\u001b[0m\u001b[0m\n\u001b[0;32m---> 12\u001b[0;31m       \u001b[0;32mraise\u001b[0m \u001b[0mAttributeError\u001b[0m\u001b[0;34m(\u001b[0m\u001b[0;34m\"Can't set attribute\"\u001b[0m\u001b[0;34m)\u001b[0m\u001b[0;34m\u001b[0m\u001b[0;34m\u001b[0m\u001b[0m\n\u001b[0m\u001b[1;32m     13\u001b[0m     \u001b[0mself\u001b[0m\u001b[0;34m.\u001b[0m\u001b[0m_ohms\u001b[0m \u001b[0;34m=\u001b[0m \u001b[0mohms\u001b[0m\u001b[0;34m\u001b[0m\u001b[0;34m\u001b[0m\u001b[0m\n",
            "\u001b[0;31mAttributeError\u001b[0m: Can't set attribute"
          ]
        }
      ]
    },
    {
      "cell_type": "markdown",
      "metadata": {
        "id": "TvrfJOZcrt19",
        "colab_type": "text"
      },
      "source": [
        "Điểm trừ lớn nhất của ```@property``` đó là các phương thức cho một thuộc tính chỉ có thể được chia sẻ bởi các lớp con. Các lớp không liên qua không thể chia sẻ chung một triển khai. Tuy nhiên, Python cũng hỗ trợ ```descriptors``` cho phép sử dụng lại các logic của property và nhiều trường hợp khác. \n",
        "\n",
        "Cuối cung, khi bạn sử dụng các phương thức ```@property``` để triển khai các setters và getters, chắc chắn rằng các hành vi bạn triển khai không gây ngạc nhiên. Ví dụ, đừng thiết lập các thuộc tính khác trong các phương thức getter"
      ]
    },
    {
      "cell_type": "code",
      "metadata": {
        "id": "mNRL-nplrksB",
        "colab_type": "code",
        "colab": {}
      },
      "source": [
        "class MysteriousResistor(Resistor):\n",
        "  def __init__(self, ohms):\n",
        "    super().__init__(ohms)\n",
        "\n",
        "  @property \n",
        "  def ohms(self):\n",
        "    self.voltage = self._ohms * self.current \n",
        "    return self._ohms"
      ],
      "execution_count": 0,
      "outputs": []
    },
    {
      "cell_type": "code",
      "metadata": {
        "id": "hg-l9lpJs5m8",
        "colab_type": "code",
        "outputId": "a8a8ea75-70d8-4fa1-bbaa-33174c6c4a32",
        "colab": {
          "base_uri": "https://localhost:8080/",
          "height": 375
        }
      },
      "source": [
        "r7 = MysteriousResistor(10)\n",
        "r7.current = 0.01\n",
        "print(\"Before: %5r\" % r7.voltage)\n",
        "r7.ohms \n",
        "print(\"After: %5r\" %r7.voltage)"
      ],
      "execution_count": 0,
      "outputs": [
        {
          "output_type": "error",
          "ename": "AttributeError",
          "evalue": "ignored",
          "traceback": [
            "\u001b[0;31m---------------------------------------------------------------------------\u001b[0m",
            "\u001b[0;31mAttributeError\u001b[0m                            Traceback (most recent call last)",
            "\u001b[0;32m<ipython-input-19-97c8dae77730>\u001b[0m in \u001b[0;36m<module>\u001b[0;34m()\u001b[0m\n\u001b[0;32m----> 1\u001b[0;31m \u001b[0mr7\u001b[0m \u001b[0;34m=\u001b[0m \u001b[0mMysteriousResistor\u001b[0m\u001b[0;34m(\u001b[0m\u001b[0;36m10\u001b[0m\u001b[0;34m)\u001b[0m\u001b[0;34m\u001b[0m\u001b[0;34m\u001b[0m\u001b[0m\n\u001b[0m\u001b[1;32m      2\u001b[0m \u001b[0mr7\u001b[0m\u001b[0;34m.\u001b[0m\u001b[0mcurrent\u001b[0m \u001b[0;34m=\u001b[0m \u001b[0;36m0.01\u001b[0m\u001b[0;34m\u001b[0m\u001b[0;34m\u001b[0m\u001b[0m\n\u001b[1;32m      3\u001b[0m \u001b[0mprint\u001b[0m\u001b[0;34m(\u001b[0m\u001b[0;34m\"Before: %5r\"\u001b[0m \u001b[0;34m%\u001b[0m \u001b[0mr7\u001b[0m\u001b[0;34m.\u001b[0m\u001b[0mvoltage\u001b[0m\u001b[0;34m)\u001b[0m\u001b[0;34m\u001b[0m\u001b[0;34m\u001b[0m\u001b[0m\n\u001b[1;32m      4\u001b[0m \u001b[0mr7\u001b[0m\u001b[0;34m.\u001b[0m\u001b[0mohms\u001b[0m\u001b[0;34m\u001b[0m\u001b[0;34m\u001b[0m\u001b[0m\n\u001b[1;32m      5\u001b[0m \u001b[0mprint\u001b[0m\u001b[0;34m(\u001b[0m\u001b[0;34m\"After: %5r\"\u001b[0m \u001b[0;34m%\u001b[0m\u001b[0mr7\u001b[0m\u001b[0;34m.\u001b[0m\u001b[0mvoltage\u001b[0m\u001b[0;34m)\u001b[0m\u001b[0;34m\u001b[0m\u001b[0;34m\u001b[0m\u001b[0m\n",
            "\u001b[0;32m<ipython-input-18-4858b7534bac>\u001b[0m in \u001b[0;36m__init__\u001b[0;34m(self, ohms)\u001b[0m\n\u001b[1;32m      1\u001b[0m \u001b[0;32mclass\u001b[0m \u001b[0mMysteriousResistor\u001b[0m\u001b[0;34m(\u001b[0m\u001b[0mResistor\u001b[0m\u001b[0;34m)\u001b[0m\u001b[0;34m:\u001b[0m\u001b[0;34m\u001b[0m\u001b[0;34m\u001b[0m\u001b[0m\n\u001b[1;32m      2\u001b[0m   \u001b[0;32mdef\u001b[0m \u001b[0m__init__\u001b[0m\u001b[0;34m(\u001b[0m\u001b[0mself\u001b[0m\u001b[0;34m,\u001b[0m \u001b[0mohms\u001b[0m\u001b[0;34m)\u001b[0m\u001b[0;34m:\u001b[0m\u001b[0;34m\u001b[0m\u001b[0;34m\u001b[0m\u001b[0m\n\u001b[0;32m----> 3\u001b[0;31m     \u001b[0msuper\u001b[0m\u001b[0;34m(\u001b[0m\u001b[0;34m)\u001b[0m\u001b[0;34m.\u001b[0m\u001b[0m__init__\u001b[0m\u001b[0;34m(\u001b[0m\u001b[0mohms\u001b[0m\u001b[0;34m)\u001b[0m\u001b[0;34m\u001b[0m\u001b[0;34m\u001b[0m\u001b[0m\n\u001b[0m\u001b[1;32m      4\u001b[0m \u001b[0;34m\u001b[0m\u001b[0m\n\u001b[1;32m      5\u001b[0m   \u001b[0;34m@\u001b[0m\u001b[0mproperty\u001b[0m\u001b[0;34m\u001b[0m\u001b[0;34m\u001b[0m\u001b[0m\n",
            "\u001b[0;32m<ipython-input-17-cfd4c4e6fb2d>\u001b[0m in \u001b[0;36m__init__\u001b[0;34m(self, ohms)\u001b[0m\n\u001b[1;32m      1\u001b[0m \u001b[0;32mclass\u001b[0m \u001b[0mResistor\u001b[0m\u001b[0;34m(\u001b[0m\u001b[0mobject\u001b[0m\u001b[0;34m)\u001b[0m\u001b[0;34m:\u001b[0m\u001b[0;34m\u001b[0m\u001b[0;34m\u001b[0m\u001b[0m\n\u001b[1;32m      2\u001b[0m   \u001b[0;32mdef\u001b[0m \u001b[0m__init__\u001b[0m\u001b[0;34m(\u001b[0m\u001b[0mself\u001b[0m\u001b[0;34m,\u001b[0m \u001b[0mohms\u001b[0m\u001b[0;34m)\u001b[0m\u001b[0;34m:\u001b[0m\u001b[0;34m\u001b[0m\u001b[0;34m\u001b[0m\u001b[0m\n\u001b[0;32m----> 3\u001b[0;31m     \u001b[0mself\u001b[0m\u001b[0;34m.\u001b[0m\u001b[0mohms\u001b[0m \u001b[0;34m=\u001b[0m \u001b[0mohms\u001b[0m\u001b[0;34m\u001b[0m\u001b[0;34m\u001b[0m\u001b[0m\n\u001b[0m\u001b[1;32m      4\u001b[0m     \u001b[0mself\u001b[0m\u001b[0;34m.\u001b[0m\u001b[0mvoltage\u001b[0m \u001b[0;34m=\u001b[0m \u001b[0;36m0\u001b[0m\u001b[0;34m\u001b[0m\u001b[0;34m\u001b[0m\u001b[0m\n\u001b[1;32m      5\u001b[0m     \u001b[0mself\u001b[0m\u001b[0;34m.\u001b[0m\u001b[0mcurrent\u001b[0m \u001b[0;34m=\u001b[0m \u001b[0;36m0\u001b[0m\u001b[0;34m\u001b[0m\u001b[0;34m\u001b[0m\u001b[0m\n",
            "\u001b[0;31mAttributeError\u001b[0m: can't set attribute"
          ]
        }
      ]
    },
    {
      "cell_type": "markdown",
      "metadata": {
        "id": "GQmRGfLWtXTB",
        "colab_type": "text"
      },
      "source": [
        "Chính sách tốt nhất đó là chỉ thay đổi trạng thái đối tượng liên quan trong các phương thức ```@property.setter```. Đảm bảo rằng tránh bất cứ hiệu ứng phụ mà người gọi có thể không mong đợi ngoài phạm vi đối tượng đó, ví dụ import các modules động, chạy các hàm trợ giúp chậm, hoặc tạo ra các truy vấn cơ sở dữ liệu chậm. Người dùng lớp của bạn sẽ mong đợi các thuộc tính của nó sẽ giống như bất cứ đối tượng Python nào khác: nhanh và dễ dàng. Sử dụng các phương thức bình thường để làm bất cứ thứ gì phức tạp và chậm. "
      ]
    },
    {
      "cell_type": "markdown",
      "metadata": {
        "id": "db8w80VkuwUj",
        "colab_type": "text"
      },
      "source": [
        "### Những điều cần nhớ\n",
        "\n",
        "\n",
        "*   Định nghĩa các giao tiếp lớp mới sử dụng các thuộc tính công cộng, tránh các phương thức set và get\n",
        "*   Sử dụng ```@property``` để định nghĩa cư xử đặc biệt khi các thuộc tính được truy cập trên các đối tượng của chúng, nếu cần thiết. \n",
        "* Tuân theo luật ít bất ngờ nhất và tránh các hiệu ứng phụ trong các phương thức ```@property```. \n",
        "* Đảm bảo rằng các phương thức ```@property``` nhanh; thực hiện các công việc chậm và phức tạp sử dụng các phương thức bình thường. \n",
        "\n",
        "\n",
        "\n",
        "\n"
      ]
    },
    {
      "cell_type": "markdown",
      "metadata": {
        "id": "eVMGHKzYKO3x",
        "colab_type": "text"
      },
      "source": [
        "## Xem xét dùng ```@property``` thay cho việc tái cấu trúc các thuộc tính\n",
        "\n",
        "Decorator có sẵn ```@property``` cho phép việc truy nhập vào các thuộc tính của hiện thực trở nên thông minh hơn. Một tính năng nâng cao nhưng phổ biến của ```@property``` là chuyển tiếp một thuộc tính số đơn giản với các phép tính toán. Điều này cực kì hữu ích bởi vì nó cho phép bạn chuyển tất cả các sử dụng có sẵn của một lớp sang các cư xử mới mà không phải viết lại tất cả các lời gọi. Nó còn cung cấp một giải pháp tạm thời cho việc cải thiện các giao tiếp của bạn. \n",
        "\n",
        "Ví dụ, bạn muốn triển khai định mức xô bị rò ri. Ở đây lớp ```Bucket``` biểu diễn lượng định mức của xô còn lại và khoảng thời gian định mức sẽ có sẵn. "
      ]
    },
    {
      "cell_type": "code",
      "metadata": {
        "id": "oAf6R-PYOk3r",
        "colab_type": "code",
        "colab": {}
      },
      "source": [
        "from datetime import timedelta\n",
        "from datetime import datetime"
      ],
      "execution_count": 0,
      "outputs": []
    },
    {
      "cell_type": "code",
      "metadata": {
        "id": "W_pE2SRHtHvY",
        "colab_type": "code",
        "colab": {}
      },
      "source": [
        "class Bucket(object):\n",
        "  def __init__(self, period):\n",
        "    self.period_delta = timedelta(seconds=period)\n",
        "    self.reset_time = datetime.now()\n",
        "    self.quota = 0 \n",
        "\n",
        "  def __repr__(self):\n",
        "    return ('Bucket(quota=%d)' % self.quota )"
      ],
      "execution_count": 0,
      "outputs": []
    },
    {
      "cell_type": "markdown",
      "metadata": {
        "id": "svrtcNCfMwGy",
        "colab_type": "text"
      },
      "source": [
        "Giải thuật định mức này hoạt động bằng cách đảm bảo rằng bất cứ xô nào được điền vào, lượng định mức không chuyển từ một khoảng thời gian này sang khoảng thời gian tiếp theo"
      ]
    },
    {
      "cell_type": "code",
      "metadata": {
        "id": "MfRc3O0SMqxG",
        "colab_type": "code",
        "colab": {}
      },
      "source": [
        "def fill(bucket, amount):\n",
        "  now = datetime.now()\n",
        "  if now - bucket.reset_time > bucket.period_delta:\n",
        "    bucket.quota = 0\n",
        "    bucket.reset_time = now\n",
        "  bucket.quota += amount "
      ],
      "execution_count": 0,
      "outputs": []
    },
    {
      "cell_type": "markdown",
      "metadata": {
        "id": "J1H3s1GhNc4T",
        "colab_type": "text"
      },
      "source": [
        "Mỗi lần một người dùng định mức muốn làm một thứ gì đó, nó phải đảm bảo rằng nó có thể giảm lượng định mức nó cần để sử dụng"
      ]
    },
    {
      "cell_type": "code",
      "metadata": {
        "id": "gukSMgXsNq7X",
        "colab_type": "code",
        "colab": {}
      },
      "source": [
        "def deduct(bucket, amount):\n",
        "  now = datetime.now()\n",
        "  if now - bucket.reset_time > bucket.period_delta:\n",
        "    return False \n",
        "  if bucket.quota - amount < 0:\n",
        "    return False\n",
        "  bucket.quota -= amount \n",
        "  return True "
      ],
      "execution_count": 0,
      "outputs": []
    },
    {
      "cell_type": "code",
      "metadata": {
        "id": "z10WgASTN9xP",
        "colab_type": "code",
        "outputId": "88374424-2c0b-4604-f8de-427ea0152673",
        "colab": {
          "base_uri": "https://localhost:8080/",
          "height": 34
        }
      },
      "source": [
        "bucket = Bucket(60)\n",
        "fill(bucket, 100)\n",
        "print(bucket)"
      ],
      "execution_count": 0,
      "outputs": [
        {
          "output_type": "stream",
          "text": [
            "Bucket(quota=100)\n"
          ],
          "name": "stdout"
        }
      ]
    },
    {
      "cell_type": "markdown",
      "metadata": {
        "id": "eu4sCXzEO-ok",
        "colab_type": "text"
      },
      "source": [
        "Sau đó bạn có thể giảm lượng định mức bạn cần"
      ]
    },
    {
      "cell_type": "code",
      "metadata": {
        "id": "xO-TaAvGOCAo",
        "colab_type": "code",
        "outputId": "a28a1a6d-dc80-4271-f741-b5ec1dc88032",
        "colab": {
          "base_uri": "https://localhost:8080/",
          "height": 51
        }
      },
      "source": [
        "if deduct(bucket, 99):\n",
        "  print(\"Had 99 quota\")\n",
        "else:\n",
        "  print(\"Not enough for 99 quota\")\n",
        "\n",
        "print(bucket)"
      ],
      "execution_count": 0,
      "outputs": [
        {
          "output_type": "stream",
          "text": [
            "Had 99 quota\n",
            "Bucket(quota=1)\n"
          ],
          "name": "stdout"
        }
      ]
    },
    {
      "cell_type": "markdown",
      "metadata": {
        "id": "qCugXuXsPh_p",
        "colab_type": "text"
      },
      "source": [
        "Cuối cùng, bạn bị ngăn việc giảm lượng định mức nhiều hơn mức có sẵn. Trong trường hợp này, định mức của xô còn lại không thay đổi"
      ]
    },
    {
      "cell_type": "code",
      "metadata": {
        "id": "cyaPLjviPN5N",
        "colab_type": "code",
        "outputId": "7bfba410-0a1c-4e42-8a66-3c29f92307ea",
        "colab": {
          "base_uri": "https://localhost:8080/",
          "height": 51
        }
      },
      "source": [
        "if deduct(bucket, 3):\n",
        "  print(\"Had 3 quota\")\n",
        "else:\n",
        "  print(\"Not enough for 3 quota\")\n",
        "\n",
        "print(bucket)"
      ],
      "execution_count": 0,
      "outputs": [
        {
          "output_type": "stream",
          "text": [
            "Not enough for 3 quota\n",
            "Bucket(quota=1)\n"
          ],
          "name": "stdout"
        }
      ]
    },
    {
      "cell_type": "markdown",
      "metadata": {
        "id": "13PvI9QmQJBi",
        "colab_type": "text"
      },
      "source": [
        "Vấn đề với triển khai này đó là bạn sẽ không bao giờ biết mức định mức bắt đầu của mọt xa. Định mức được giảm đi trong suốt quá trình cho đến khi nó đạt tới 0. Tại điểm này, ```deduct``` sẽ luôn luôn trả về ```False```. Khi điều này xảy ra, sẽ hữu ích để biết các hàm gọi tới ```deduct``` bị khoá lại bởi vì ```Bucket``` hết hạn định mức hay không hay bởi vì ```Bucket``` không bao giờ có định mức từ lúc đầu.\n",
        "\n",
        "Để giải quyết vấn đề này, tôi có thể thay đổi lớp để theo dõi ```max_quota``` trong khoảng thời gian này và ```quota_consumed```. "
      ]
    },
    {
      "cell_type": "code",
      "metadata": {
        "id": "NEm7AMZpP8Je",
        "colab_type": "code",
        "colab": {}
      },
      "source": [
        "class Bucket(object):\n",
        "  def __init__(self, period):\n",
        "    self.period_delta = timedelta(seconds=period)\n",
        "    self.reset_time = datetime.now()\n",
        "    self.max_quota = 0 \n",
        "    self.quota_consumed = 0 \n",
        "\n",
        "  def __repr__(self):\n",
        "    return (\"Bucket (max_quota=%d, quota_consumed=%d)\" % (self.max_quota, self.quota_consumed))"
      ],
      "execution_count": 0,
      "outputs": []
    },
    {
      "cell_type": "markdown",
      "metadata": {
        "id": "VMlyoN8ARewj",
        "colab_type": "text"
      },
      "source": [
        "Tôi sử dụng phương thức ```@property``` để tính toán mức độ định mức hiện hành sử dụng các thuộc tính mới này"
      ]
    },
    {
      "cell_type": "code",
      "metadata": {
        "id": "Dk9rprg0Rtg-",
        "colab_type": "code",
        "colab": {}
      },
      "source": [
        "class Bucket(object):\n",
        "  def __init__(self, period):\n",
        "    self.period_delta = timedelta(seconds=period)\n",
        "    self.reset_time = datetime.now()\n",
        "    self.max_quota = 0 \n",
        "    self.quota_consumed = 0 \n",
        "\n",
        "  def __repr__(self):\n",
        "    return (\"Bucket (max_quota=%d, quota_consumed=%d)\" % (self.max_quota, self.quota_consumed))\n",
        "\n",
        "  @property \n",
        "  def quota(self):\n",
        "    return self.max_quota - self.quota_consumed "
      ],
      "execution_count": 0,
      "outputs": []
    },
    {
      "cell_type": "markdown",
      "metadata": {
        "id": "tjXB-lumR6ul",
        "colab_type": "text"
      },
      "source": [
        "Khi thuộc tính ```quota``` được gán, tôi thực hiện một hành động đặc biệt khớp vơpis giao tiếp hiện hành của lớp sử dụng ```fill``` và ```deduct```"
      ]
    },
    {
      "cell_type": "code",
      "metadata": {
        "id": "T51DUN9ZSIw9",
        "colab_type": "code",
        "colab": {}
      },
      "source": [
        "class Bucket(object):\n",
        "  def __init__(self, period):\n",
        "    self.period_delta = timedelta(seconds=period)\n",
        "    self.reset_time = datetime.now()\n",
        "    self.max_quota = 0 \n",
        "    self.quota_consumed = 0 \n",
        "\n",
        "  def __repr__(self):\n",
        "    return (\"Buckets (max_quota=%d, quota_consumed=%d)\" % (self.max_quota, self.quota_consumed))\n",
        "\n",
        "  @property \n",
        "  def quota(self):\n",
        "    return self.max_quota - self.quota_consumed \n",
        "\n",
        "  @quota.setter\n",
        "  def quota(self, amount):\n",
        "    delta = self.max_quota - amount\n",
        "    if amount == 0:\n",
        "      # Quota được thiết lập lại cho mỗi khoảng thời gian mới\n",
        "      self.quota_consumed = 0\n",
        "      self.max_quota = 0 \n",
        "    elif delta < 0:\n",
        "      # Quota được điền vào cho khoảng thời gian mới \n",
        "      assert self.quota_consumed == 0 \n",
        "      self.max_quota = amount\n",
        "    else:\n",
        "      # Quota bị tiêu tốn trong suốt khoảng thời gian\n",
        "      assert self.max_quota >= self.quota_consumed\n",
        "      self.quota_consumed += delta"
      ],
      "execution_count": 0,
      "outputs": []
    },
    {
      "cell_type": "markdown",
      "metadata": {
        "id": "HE8SqKXpTAKO",
        "colab_type": "text"
      },
      "source": [
        "Chaỵ lại đoạn code demo phía triên để tạo ra cùng một kết quả"
      ]
    },
    {
      "cell_type": "code",
      "metadata": {
        "id": "n4FFN82fS7VE",
        "colab_type": "code",
        "outputId": "f21b06ca-a793-4635-abc3-654ce44271ec",
        "colab": {
          "base_uri": "https://localhost:8080/",
          "height": 119
        }
      },
      "source": [
        "bucket = Bucket(60)\n",
        "print(\"Initial\", bucket)\n",
        "fill(bucket, 100)\n",
        "print(\"Filled\", bucket)\n",
        "\n",
        "if deduct(bucket, 99):\n",
        "  print(\"Had 99 quota\")\n",
        "else:\n",
        "  print(\"Not enough for 99 quota\")\n",
        "\n",
        "print(\"Now\", bucket)\n",
        "\n",
        "if deduct(bucket, 3):\n",
        "  print(\"Had 3 quota\")\n",
        "else:\n",
        "  print(\"Not enough for 3 quota\")\n",
        "\n",
        "print(\"Still\", bucket)"
      ],
      "execution_count": 0,
      "outputs": [
        {
          "output_type": "stream",
          "text": [
            "Initial Buckets (max_quota=0, quota_consumed=0)\n",
            "Filled Buckets (max_quota=100, quota_consumed=0)\n",
            "Had 99 quota\n",
            "Now Buckets (max_quota=100, quota_consumed=99)\n",
            "Not enough for 3 quota\n",
            "Still Buckets (max_quota=100, quota_consumed=99)\n"
          ],
          "name": "stdout"
        }
      ]
    },
    {
      "cell_type": "markdown",
      "metadata": {
        "id": "mTq5PAhfdlKQ",
        "colab_type": "text"
      },
      "source": [
        "Phần tốt nhất đó là đoạn mã sử dụng ```Bucket.quota``` không phải thay đổi hay biết lớp đã thay đổi. Lớp mới sử dụng ```Bucket``` có thể làm những thứ đúng và truy cập ```max_quota``` và ```quota_consumed``` trực tiếp.\n",
        "\n",
        "Tôi đặc biệt thích ```@property``` bởi vì nó cho phép bạn tạo một mô hình ngày càng tốt hơn. Đọc ví dụ ```Bucket``` phía trên, bạn có thể tự nghĩ rằng \"```fill``` và ```deduct``` nên được triển khai ngay từ đầu\" Mặc dù bạn có thể đúng rằng trong nhiều thực hợp trong thực tế các đối tượng này bắt đầu với các giao tiếp được định nghĩa không tốt và hoạt động như các bộ chứa dữ liệu ngu ngốc. Điều này xảy ra khi code phát triể, phạm vi tăng, nhiều tác giả đóng góc vào code mà không một ai quan tâm đến việc duy trì chất lượng code. \n",
        "\n",
        "```@property``` là một công cụ giúp bạn giải quyết các vấn đề trong thực tế. Đừng lạm dụng nó. Khi bạn thấy rằng bạn lặp lại việc mở rộng các phương thức ```@property``` quá nhiều, đây có thể là một thời điểm để cấu trúc lại lớp của bạn"
      ]
    },
    {
      "cell_type": "markdown",
      "metadata": {
        "id": "DqSRIyIefaqZ",
        "colab_type": "text"
      },
      "source": [
        "### Những điều cần nhớ\n",
        "\n",
        "\n",
        "*  Sử dụng ```@property``` để mang lại hiện thực đang tồn tại các tính năng mới\n",
        "*   Làm cho qua trình tăng trưởng về tính năng trở nên tốt hơn thông qua việc sử dụng ```@property```\n",
        "* Xem xét việc tái cấu trúc một lớp và tất cả các phía gọi khi bạn thấy lệ thuộc quá nhiều vào ```@property```\n",
        "\n"
      ]
    },
    {
      "cell_type": "markdown",
      "metadata": {
        "id": "VYdmPqg2ga2C",
        "colab_type": "text"
      },
      "source": [
        "## Sử dụng Descriptors cho việc tái sử dụng các phương thức @property \n",
        "\n",
        "Vấn đề lớn nhất với ```@property``` đó là tái sử dụng. Các phương thức nó decorate không thể được tái sử dụng lại cho nhiều thuộc tính của cùng một lớp. Chúng cũng không thể tái sử dụng được bởi các lớp không liên quan. \n",
        "\n",
        "Ví dụ, bạn muốn một lớp để thẩm định kết quả bài tập về nhà nhận được từ một học sinh theo phần trăm"
      ]
    },
    {
      "cell_type": "code",
      "metadata": {
        "id": "U1DMWFOhTv6Y",
        "colab_type": "code",
        "colab": {}
      },
      "source": [
        "class Homework(object):\n",
        "  def __init__(self):\n",
        "    self._grade = 0 \n",
        "\n",
        "  @property \n",
        "  def grade(self):\n",
        "    return self._grade \n",
        "\n",
        "  @grade.setter \n",
        "  def grade(self, value):\n",
        "    if not (0 <= value <= 100):\n",
        "      raise ValueError('Grade must be between 0 and 100')\n",
        "    self._grade = value "
      ],
      "execution_count": 0,
      "outputs": []
    },
    {
      "cell_type": "markdown",
      "metadata": {
        "id": "YoUkIkolkD42",
        "colab_type": "text"
      },
      "source": [
        "Sử dụng ```@property``` làm cho lớp này dễ dàng sử dụng:"
      ]
    },
    {
      "cell_type": "code",
      "metadata": {
        "id": "-aueDmc-hhQC",
        "colab_type": "code",
        "colab": {}
      },
      "source": [
        "galileo = Homework()\n",
        "galileo.grade = 95"
      ],
      "execution_count": 0,
      "outputs": []
    },
    {
      "cell_type": "markdown",
      "metadata": {
        "id": "HAMgcTs4kP8p",
        "colab_type": "text"
      },
      "source": [
        "Bây giờ bạn muốn cho học sinh điểm số cho một đợt \u001dthi, đợt thi này có nhiều môn, mỗi môn với một điểm riêng. "
      ]
    },
    {
      "cell_type": "code",
      "metadata": {
        "id": "iWStdqH0kOVI",
        "colab_type": "code",
        "colab": {}
      },
      "source": [
        "class Exam(object):\n",
        "  def __init__(self):\n",
        "    self._writing = 0\n",
        "    self._math_grade = 0\n",
        "\n",
        "  @staticmethod \n",
        "  def _check_grade(value):\n",
        "    if not (0 <= value <= 100):\n",
        "      raise ValueError('Grade must be between 0 and 100')\n"
      ],
      "execution_count": 0,
      "outputs": []
    },
    {
      "cell_type": "markdown",
      "metadata": {
        "id": "O1pDZCgbizqm",
        "colab_type": "text"
      },
      "source": [
        "Điều này trở nên nhàm chán. Mỗi phần của bài thi yêu cầu thêm vào một ```@property``` và các mã kiểm tra liên quan"
      ]
    },
    {
      "cell_type": "code",
      "metadata": {
        "id": "jOqy4xW7lWCU",
        "colab_type": "code",
        "colab": {}
      },
      "source": [
        "class Exam(object):\n",
        "  def __init__(self):\n",
        "    self._writing = 0\n",
        "    self._math_grade = 0\n",
        "\n",
        "  @staticmethod \n",
        "  def _check_grade(value):\n",
        "    if not (0 <= value <= 100):\n",
        "      raise ValueError('Grade must be between 0 and 100')\n",
        "\n",
        "  @property\n",
        "  def writing_grade(self):\n",
        "    return self._writing_grade \n",
        "\n",
        "  @writing_grade.setter\n",
        "  def writing_grade(self, value):\n",
        "    self._check_grade(value)\n",
        "    self._writing_grade = value \n",
        "\n",
        "  @property\n",
        "  def math_grade(self):\n",
        "    return self._math_grade \n",
        "\n",
        "  @math_grade.setter \n",
        "  def math_grade(self, value):\n",
        "    self._check_grade(value)\n",
        "    self._math_grade = value"
      ],
      "execution_count": 0,
      "outputs": []
    },
    {
      "cell_type": "markdown",
      "metadata": {
        "id": "2Pk-PdN3laEM",
        "colab_type": "text"
      },
      "source": [
        "Ngoài ra, cách tiếp cận này không tổng quát. Nếu bạn muốn tái sử dụng đoạn mã kiểm tra bên ngoài homework và exams, bạn cần viết các đoạn mã nhỏ lặp đi lặp lại như ```@property``` (boilerplate) và ```_check_grade`.\n",
        "\n",
        "Cách tốt hơn để làm điều này đó là sử dụng một mô tả ```descriptor```. Giao thức mô tả định nghĩa cách truy cập một thuộc tính được diễn dịch bởi ngôn ngữ. Một lớp mô tả cung cấp các phương thức ```__get__``` và ```__set__``` cho phép bạn tái sử dụng các cư xử kiểm tra điểm thi mà không cần bất cứ boiler plate. Đối với mục đích này, các mô tả tốt hơn các mix-ins bởi vì chúng cho phép tái sử dụng chung một logic cho nhiều thuộc tính khác nhau trong một lớp đơn lẻ. \n",
        "\n",
        "Ở đây, tôi định nghĩa một lớp mới ```Exam``` với các thuộc tính lớp là các hiện thực ```Grade```. Lớp ```Grade``` triển khai giao thức mô tả. Trước khi giải thích cách lớp ```Grade``` làm việc, điều quan trọng là hiểu cách Python sẽ làm khi mã ccuar bạn truy cập các thuộc tính mô tả trên một hiện thực ```Exam```.  "
      ]
    },
    {
      "cell_type": "code",
      "metadata": {
        "id": "epgs-vSelZK2",
        "colab_type": "code",
        "colab": {}
      },
      "source": [
        "class Grade(object):\n",
        "  def __get__(*args, **kwargs):\n",
        "    pass\n",
        "\n",
        "  def __set__(*args, **kwargs):\n",
        "    pass\n",
        "\n",
        "class Exam(object):\n",
        "  math_grade = Grade()\n",
        "  writing_grade = Grade()\n",
        "  science_grade = Grade()"
      ],
      "execution_count": 0,
      "outputs": []
    },
    {
      "cell_type": "markdown",
      "metadata": {
        "id": "8pFTP5u0oGO4",
        "colab_type": "text"
      },
      "source": [
        "Khi bạn gán một thuộc tính "
      ]
    },
    {
      "cell_type": "code",
      "metadata": {
        "id": "pbfADbKXn_0H",
        "colab_type": "code",
        "colab": {}
      },
      "source": [
        "exam = Exam()\n",
        "exam.writing_grade = 40"
      ],
      "execution_count": 0,
      "outputs": []
    },
    {
      "cell_type": "markdown",
      "metadata": {
        "id": "ya4Df_zqSu6V",
        "colab_type": "text"
      },
      "source": [
        "## Cộng tác\n",
        "Có rất nhiều tính năng trong Python giúp bạn xây dựng các APIs được định nghĩa tốt với các ranh giới giao tiếp rõ ràng. Công đồng Pyhton thiết lập các thực hành tốt nhất (best practices) qua đó tối đa hoá khả năng bảo trì  code qua thời gian. Có nhiều công cụ chuẩn đi cùng với Python cho phép các teams lớn làm việc cùng với nhau trong các môi trường khác nhau.\n",
        "\n",
        "Hợp tác với"
      ]
    },
    {
      "cell_type": "code",
      "metadata": {
        "id": "rI9N4XazTfs3",
        "colab_type": "code",
        "colab": {}
      },
      "source": [
        "def palindrome(word):\n",
        "  \"\"\"Return True if the given word is a palindrome\"\"\"\n",
        "  return word == word[::-1]"
      ],
      "execution_count": 0,
      "outputs": []
    },
    {
      "cell_type": "markdown",
      "metadata": {
        "id": "m5bd8Ue1Tsdj",
        "colab_type": "text"
      },
      "source": [
        "Bạn có thể lấy về docstring thông qua việc truy cập với thuộc tính đặc biệt ```__doc__```"
      ]
    },
    {
      "cell_type": "code",
      "metadata": {
        "id": "YFE9bUbaToXq",
        "colab_type": "code",
        "outputId": "99cdb9e4-99c1-4a86-8014-e5ca82df689f",
        "colab": {
          "base_uri": "https://localhost:8080/",
          "height": 34
        }
      },
      "source": [
        "print(repr(palindrome.__doc__))"
      ],
      "execution_count": 0,
      "outputs": [
        {
          "output_type": "stream",
          "text": [
            "'Return True if the given word is a palindrome'\n"
          ],
          "name": "stdout"
        }
      ]
    },
    {
      "cell_type": "markdown",
      "metadata": {
        "id": "HMf4Rug8siRI",
        "colab_type": "text"
      },
      "source": [
        "### Ghi tài liệu cho các lớp\n",
        "Mỗi lớp nên có một docstring ở mức lớp. Thực hiện việc này giống như docstring mức module. Dòng đầu tiên là một câu chỉ rõ mục đích của lớp. Các đoạn phía sau thảo luận các chi tiết quan trọng về hoạt động của lớp. \n",
        "\n",
        "Các thuộc tính và phương thức công cộng của lớp nên được highlight trong docstring mức lớp. Docstring này cũng nên cung cấp các hướng dẫn cho các lớp con làm thế nào tương tác với các thuộc tính được bảo vệ và các lớp cha. \n",
        "\n",
        "Dưới đây là một ví dụ của một docstring của một lớp:"
      ]
    },
    {
      "cell_type": "code",
      "metadata": {
        "id": "m0oZTToeT4bb",
        "colab_type": "code",
        "colab": {}
      },
      "source": [
        "class Player(object):\n",
        "  \"\"\"Represents a player of the game.\n",
        "  \n",
        "  Subclasses may override the 'tick' method to provide\n",
        "  custom animations for the player's movement depending \n",
        "  on their power level, etc. \n",
        "\n",
        "  Public attributes:\n",
        "  - power: Unused power-ups (float between 0 and 1)\n",
        "  - coins: Coins found during the level (integer)\n",
        "  \"\"\"\n",
        "  # pass"
      ],
      "execution_count": 0,
      "outputs": []
    },
    {
      "cell_type": "markdown",
      "metadata": {
        "id": "Ss7O2FZNtzF2",
        "colab_type": "text"
      },
      "source": [
        "### Ghi tài liệu cho các hàm\n",
        "\n",
        "Mõi hàm hay phương thức công cộng nên có một docstring. Thực hiện việc này giống như với các modules và lớp. Dòng đầu tiên là một dòng mô tả hàm làm gì. Các đoạn phía sau nên mô tả bất kì cư xử cụ thể nào và các tham số cho hàm này. Nên nhắc tới bất cứ tham số và giá trị trả về. Bất cứ ngoại lệ người gọi phải xử lý khi dùng hàm nên được mô tả. \n",
        "\n",
        "Dưới đây là một ví dụ của một docstring của một hàm"
      ]
    },
    {
      "cell_type": "code",
      "metadata": {
        "id": "hNx7fkGLudae",
        "colab_type": "code",
        "colab": {}
      },
      "source": [
        "def find_anagrams(word, dictionary):\n",
        "  \"\"\"Find all anagrams for a word.\n",
        "  This function only runs as fast as the test for\n",
        "  membership in the \"dictionary\" container. \n",
        "  It will be slow if the dictionary is a list and fast if it's a set\n",
        "\n",
        "  Args:\n",
        "  word: String of the target word\n",
        "  dictionary: Container with all strings that are known to be actual words\n",
        "  Returns: List of anagrams that wre found. Empty if none were found."
      ],
      "execution_count": 0,
      "outputs": []
    },
    {
      "cell_type": "markdown",
      "metadata": {
        "id": "nb2p4qdayfbO",
        "colab_type": "text"
      },
      "source": [
        "Trong một số trường hợp đặc biệt có một số điều quan trọng cần biết khi viết các docstrings\n",
        "\n",
        "\n",
        "*  Nếu hàm của bạn không có các tham số và chỉ có một giá trị trả về, chỉ cần một câu mô tả có thể là đủ\n",
        "*  Nếu hàm của bạn không trả về bất cứ thứ gì, tốt hơn là đừng nhắc gì về giá trị trả về thanh vì viết là \"returns None.\"\n",
        "* Nếu bạn không mong đợi hàm của mình khởi lên một ngoại lệ trong quá trình hoạt động, đừng nhắc gì về điều đó.\n",
        "* Nếu hàm của bạn chấp nhận một biến chứa số lượng các tham số hoặc các tham số từ khoá, sử dụng ```*args``` và ```kwargs``` trong danh dách các tham số để mô tả mục đích của nó. \n",
        "* Nếu hàm của bạn có các tham số với các giá trị mặc định, các giá trị mặc định này nên được đề cập.\n",
        "* Nếu hàm của bạn là một generator, docstring nên mô tả generator sinh ra cái gì khi nó được lặp.\n",
        "* Nếu hàm của bạn là một coroutine, khi đó docstring của bạn nên chứa cái coroutine của bạn tạo ra, cái gì được mong đợi từ các biểu diễn ```yield```, và khi nào nó sẽ dừng lặp. \n",
        "\n",
        "**Chú ý**: Mỗi khi bạn viết các docstrings cho các modules của bạn, quan trọng là giữ cho tài liệu này cập nhật. Module có sẵn ```doctest``` làm cho việc này trở nên dễ dàng hơn qua việc đảm bảo souce code của bạn và tài liệu của mình không quá cách xa nhau. \n",
        "\n"
      ]
    },
    {
      "cell_type": "markdown",
      "metadata": {
        "id": "37vTKL3K2Yaa",
        "colab_type": "text"
      },
      "source": [
        "### Những điều cần nhớ\n",
        "\n",
        "\n",
        "*   Viết tài liệu cho các module, lớp và hàm sử dụng docstrings. Giữ cho chúng update khi code của bạn thay đổi\n",
        "* Đối với các modules: giới thiệu nội dung của moduel và bất cứ lớp hay hàm quan trọng mà người dùng nên biết\n",
        "* Đối với các lớp: Ghi lại các hành vi của các thuộc tính quan trọng, và cư xử của lớp con trong docstring ngay phía dưới câu lệnh ```class```.\n",
        "* Đối với các hàm và các phương thức: ghi lại mỗi tham , giá trị trả về, khởi lên ngoại lệ và các cư xử khác trong docstring ngay dưới câu ```def```. \n",
        "\n"
      ]
    },
    {
      "cell_type": "markdown",
      "metadata": {
        "id": "lkElNwctjZGh",
        "colab_type": "text"
      },
      "source": [
        "## Sử dụng các Packages để tổ chức các Modules và cung cấp các APIs ổn định\n",
        "\n",
        "Khi kích thước của chương trình của bạn tăng lên, bạn có thể cần tổ chức lại cấu trúc của nó. Bạn chia nhỏ các hàm lớn hơn thành các hàm nhỏ hơn. Bạn cấu trúc lại các cấu trúc dữ liệu thành các lớp trợ giúp (helper classes). Bạn tách biệt tính năng thành nhiều modules khác nhau phụ thuộc lẫn nhau.\n",
        "\n",
        "Tại một số thời điểm, bạn thấy rằng mình có quá nhiều modules mà bạn cần một lớp khác trong chương trình của bạn để làm cho nó dễ hiểu hơn. Nhằm phục vụ cho mục đích này, Python cung cấp các gói (packages). Các packages là các modules mà chứa các modules khác. \n",
        "\n",
        "Trong nhiều trường hợp, các gói được định nghĩa thông qua việc đặt một file rỗng tên là ```__init__.py``` vào trong một thư mục. Mỗi khi ```__init__.py``` hiện diện, các file Python khác trong cùng thư mục đó sẽ có sẵn cho việc import sử dụng một đường dẫn tương đối tới thư mục. Ví dụ, tưởng tượng rằng bạn có cấu trúc thư mục sau trong chương trình của bạn\n",
        "\n",
        "```main.py```\n",
        "\n",
        "```mypackage/__init__.py```\n",
        "\n",
        "```mypackage/models.py```\n",
        "\n",
        "```mypackage/utils.py```\n",
        "\n",
        "Để import module ```utils```, bạn sử dụng tên module tuyệt đối mà bao gồm tên của thư mục.\n",
        "\n"
      ]
    },
    {
      "cell_type": "code",
      "metadata": {
        "id": "7ID_DGVljNKz",
        "colab_type": "code",
        "colab": {}
      },
      "source": [
        "# main.py\n",
        "from mypackage import utils"
      ],
      "execution_count": 0,
      "outputs": []
    },
    {
      "cell_type": "markdown",
      "metadata": {
        "id": "SWdWmBDEleIi",
        "colab_type": "text"
      },
      "source": [
        "Cách làm trên sẽ được áp dụng khi bạn có các thư mục gói ở các gói khác (như là ```mypackage.foo.bar```)."
      ]
    },
    {
      "cell_type": "markdown",
      "metadata": {
        "id": "EBk5_JlHlufm",
        "colab_type": "text"
      },
      "source": [
        "**Chú ý**\n",
        "Python 3.4 giới thiệu cái gói không gian tên (namespace packages) cung cấp một cách mềm dẻo để định nghĩa các gói. Các gói không gian tên có thể được tạo thành từ nhiều modules từ các thư mục khác nhau, các đóng gói zip, hoặc thậm chí các hệ thôgns từ xa. "
      ]
    },
    {
      "cell_type": "markdown",
      "metadata": {
        "id": "MKJGMmLQmSTb",
        "colab_type": "text"
      },
      "source": [
        "Tính năng được cung cấp bởi các gói có hai mục đích chính trong các chương trình Python"
      ]
    },
    {
      "cell_type": "markdown",
      "metadata": {
        "id": "x1i9fyUVmYmX",
        "colab_type": "text"
      },
      "source": [
        "### Các không gian tên\n",
        "\n",
        "Lợi ích đầu tiên của các packages đó là giúp việc chia các modules thành các không gian tên riêng biệt. Điều này cho phép bạn có nhiều modules với cùng một tên file nhưng khác nhau ở các đường dẫn tuyệt đối bởi chúng là duy nhất. Ví dụ, ta có một chương trình import các thuộc tính từ hai modules có cùng một tên, ```utils.py```. Đoạn mã hoạt động được là bởi vì các modules được gọi tới bởi các đường dẫn tuyệt đối"
      ]
    },
    {
      "cell_type": "code",
      "metadata": {
        "id": "VCVyUaGOz7lZ",
        "colab_type": "code",
        "colab": {}
      },
      "source": [
        "from analysis.utils import log_base2_bucket\n",
        "from frontend.utils import stringify\n",
        "\n",
        "bucket = stringify(log_base_bucket(33)"
      ],
      "execution_count": 0,
      "outputs": []
    },
    {
      "cell_type": "markdown",
      "metadata": {
        "id": "53iOdo6wnQL6",
        "colab_type": "text"
      },
      "source": [
        "Cách tiếp cận trên không hoạt động được trong trường hợp các hàm, các lớp hoặc các modules con được định nghĩa trong các packages có cùng các tên. Ví dụ, bạn muốn sử dụng hàm ```inspect``` từ cả ```ânlysis.utils``` và ```frontend.utils``` modules. Import theo cách này không hoạt động bởi vì ```import``` thứ hai sẽ ghi đề giá trị của ```inspect``` trong phạm vi hiện hành. "
      ]
    },
    {
      "cell_type": "code",
      "metadata": {
        "id": "vTzqqOuUn0Yb",
        "colab_type": "code",
        "colab": {}
      },
      "source": [
        "from analysis.utils import insect \n",
        "from frontend.utils import inspect # ghi đè"
      ],
      "execution_count": 0,
      "outputs": []
    },
    {
      "cell_type": "markdown",
      "metadata": {
        "id": "vU7glKNb2mNd",
        "colab_type": "text"
      },
      "source": [
        "Để giải quyết vấn đề này ta sử dụng ```as``` khi import một module để đổi lại tên của module hay hàm được import trong scope hiện hành"
      ]
    },
    {
      "cell_type": "code",
      "metadata": {
        "id": "xkYH5GxQ23Du",
        "colab_type": "code",
        "colab": {}
      },
      "source": [
        "from analysis.utils import inspect as analysis_inspect\n",
        "from frontend.utils import inspect as frontend_inspect \n",
        "\n",
        "value = 33 \n",
        "if analysis_inspect(value) == frontend_inspect(value):\n",
        "  print(\"Inspection equal\")"
      ],
      "execution_count": 0,
      "outputs": []
    },
    {
      "cell_type": "markdown",
      "metadata": {
        "id": "_Us6wUdm3Jxw",
        "colab_type": "text"
      },
      "source": [
        "Sử dụng ```as``` để đổi lại tên bất cứ thứ gì bạn lấy được từ câu lệnh ```import```, bao gồm cả toàn bộ các modules. Điều này làm cho việc truy cập vào code trong trong namespace trở nên rõ ràng hơn khi sử dụng nó. "
      ]
    },
    {
      "cell_type": "markdown",
      "metadata": {
        "id": "PQmsY_Dp3kTW",
        "colab_type": "text"
      },
      "source": [
        "**Chú ý**\n",
        "Có một cách khác để tránh việc xung đột tên được import đó là cho phép truy cập các tên thông qua tên module duy nhất ở cấp cao nhất. \n",
        "\n",
        "Ví dụ, bạn có thể import ```import analysis.utils``` và ```import frontend.utils```. Sau đó truy cập vào các hàm ```inspect``` với đường dẫn đầy đủ ```analysis.utils.inspect``` và ```frontend.utils.inspect```. \n",
        "\n",
        "Cách tiếp cận này cho phép bạn tránh các câu ```as``` cùng với nhau. Ngoài ra nó còn cho người đọc biết rằng hàm đó đến từ đâu. "
      ]
    },
    {
      "cell_type": "markdown",
      "metadata": {
        "id": "reoGRCvZTd_m",
        "colab_type": "text"
      },
      "source": [
        "## Các APIs bền vững\n",
        "\n",
        "Ứng dụng thứ hai của các gói trong Python đó là cung cấp các APIs bền vững cho người dùng bên ngoài. \n",
        "\n",
        "Khi bạn đang viết một API cho số lượng lớn người dùng, như là một gói mã nguồn mở, bạn sẽ muốn cung cấp tính năng bền vững mà không thay đổi giữa các bản release. Để đảm bảo được điều này, điều quan trọng là ẩn đi cơ cấu tổ chức code bên trong đối với người dùng bên ngoài. Điều này làm cho bạn tái cấu trúc và cải thiện các modules nội tội của các gói mà không phá vỡ sự tương tác với những người dùng hiện tại. \n",
        "\n",
        "Python có thể giới hạn diện tích bề mặt được bày ra cho người dùng thông qua việc sử dụng thuộc tính đặc biệt ```__all__``` của một module hoặc gói. Giá trị của ```__all__``` là một danh sách tất cả các tên xuất ra từ module như là các API công cộng. Khi code gọi ```from foo import *```, chỉ các thuộc tính trong ```foo.__all__``` sẽ được import từ ```foo```. Nếu ```__all__``` không tồn tại trong ```foo```, khi đó chỉ các thuộc tính công cộng, những thuộc tính không có dấu gạch chân ở đầu, được import. Ví dụ bạn muốn cung cấp một gói cho việc tính toán các xung đột giữa các viên đạn đang di chuyển. Ở đây tôi định nghĩa module ```models``` của gói ```mypackage``` để chứa biểu diễn của các viên đạn: "
      ]
    },
    {
      "cell_type": "code",
      "metadata": {
        "id": "j17yhnVw4dvs",
        "colab_type": "code",
        "colab": {}
      },
      "source": [
        "# models.py\n",
        "__all__ = [\"Projectile\"]\n",
        "\n",
        "class Projectile(object):\n",
        "  def __init__(self, mass, velocity):\n",
        "    self.mass = mass \n",
        "    self.velocity = velocity \n",
        "\n",
        "    "
      ],
      "execution_count": 0,
      "outputs": []
    },
    {
      "cell_type": "markdown",
      "metadata": {
        "id": "M1FrrAjuvDA-",
        "colab_type": "text"
      },
      "source": [
        "## Định nghĩa các function decorators với ```functools.wraps```\n",
        "\n",
        "Python có cú pháp đặc biệt cho các decorators có thể được áp dụng cho các hàm. Decorators có khả năng chạy code trước và sau bất cứ lời gọi nào tới các hàm nó bao. Điều này cho phép ta thay đổi các tham giá đầu vào và các giá trị trả về. Tính năng này có thể hữu dụng cho việc thi hành các ngữ nghĩa, debugging, các hàm đăng ký, và nhiều hơn thế nữa. \n",
        "\n",
        "Ví dụ bạn muốn in ra các tham số và giá trị trả về của một lời gọi hàm. Điều này hữu dụng khi debug một ngăn xếp (stack) các lời gọi hàm từ một hàm hồi quy. Ở đây, tôi định nghĩa một decorator như vậy:\n"
      ]
    },
    {
      "cell_type": "code",
      "metadata": {
        "id": "3thnf_-wwjkR",
        "colab_type": "code",
        "colab": {}
      },
      "source": [
        "def trace(func):\n",
        "  def wrapper(*args, **kwargs):\n",
        "    result = func(*args, **kwargs)\n",
        "    print(\"%s(%r, %r) -> %r\" % (func.__name__, args, kwargs, result))\n",
        "    return result\n",
        "  return wrapper"
      ],
      "execution_count": 0,
      "outputs": []
    },
    {
      "cell_type": "markdown",
      "metadata": {
        "id": "E1qpp9qs8l4S",
        "colab_type": "text"
      },
      "source": [
        "Tôi có thể áp dụng decorator như vậy bằng cách dùng biểu tượng ```@```"
      ]
    },
    {
      "cell_type": "code",
      "metadata": {
        "id": "wJsJaOvTw5CJ",
        "colab_type": "code",
        "colab": {}
      },
      "source": [
        "@trace\n",
        "def fibonacci(n):\n",
        "  \"\"\"Return the n-th Fibonacci number\"\"\"\n",
        "  if n in (0, 1):\n",
        "    return n\n",
        "  return (fibonacci(n - 2) + fibonacci(n - 1))"
      ],
      "execution_count": 0,
      "outputs": []
    },
    {
      "cell_type": "markdown",
      "metadata": {
        "id": "KJN4ml76-U6f",
        "colab_type": "text"
      },
      "source": [
        "Biểu tượng ```@``` tương đương với gọi decorator trên hàm nó bao và gán giá trị trả về vào tên gốc trong cùng một phạm vi tên. "
      ]
    },
    {
      "cell_type": "code",
      "metadata": {
        "id": "fknPbdh--q4t",
        "colab_type": "code",
        "colab": {}
      },
      "source": [
        "fibonacci = trace(fibonacci)"
      ],
      "execution_count": 0,
      "outputs": []
    },
    {
      "cell_type": "code",
      "metadata": {
        "id": "j7hURK8M9X8r",
        "colab_type": "code",
        "outputId": "80bc1f7a-d583-4c16-fa21-755fbbb40423",
        "colab": {
          "base_uri": "https://localhost:8080/",
          "height": 119
        }
      },
      "source": [
        "fibonacci(3)"
      ],
      "execution_count": 0,
      "outputs": [
        {
          "output_type": "stream",
          "text": [
            "fibonacci((1,), {}) -> 1\n",
            "fibonacci((0,), {}) -> 0\n",
            "fibonacci((1,), {}) -> 1\n",
            "fibonacci((2,), {}) -> 1\n",
            "fibonacci((3,), {}) -> 2\n"
          ],
          "name": "stdout"
        },
        {
          "output_type": "execute_result",
          "data": {
            "text/plain": [
              "2"
            ]
          },
          "metadata": {
            "tags": []
          },
          "execution_count": 12
        }
      ]
    },
    {
      "cell_type": "markdown",
      "metadata": {
        "id": "Hhd5Xg_d_aCN",
        "colab_type": "text"
      },
      "source": [
        "Cách này hoạt động tốt, nhưng nó có một hiệu ứng phụ không như mong muốn. Giá trị trả về bởi decorator - hàm được gọi ở trên - không nghĩ rằng nó được đặt tên là ```fibonacci```.\n"
      ]
    },
    {
      "cell_type": "code",
      "metadata": {
        "id": "4C3VrV5e-mUm",
        "colab_type": "code",
        "outputId": "f16da621-2855-441d-d742-64bfa3100a3b",
        "colab": {
          "base_uri": "https://localhost:8080/",
          "height": 34
        }
      },
      "source": [
        "print(fibonacci)"
      ],
      "execution_count": 0,
      "outputs": [
        {
          "output_type": "stream",
          "text": [
            "<function trace.<locals>.wrapper at 0x7f1c0846f8c8>\n"
          ],
          "name": "stdout"
        }
      ]
    },
    {
      "cell_type": "markdown",
      "metadata": {
        "id": "gfhwo3PAC5uD",
        "colab_type": "text"
      },
      "source": [
        "Nguyên nhân của việc này khó đó thể. Hàm ```trace``` trả về ```wrapper``` nó định nghĩa. Hàm ```wrapper``` làm hàm được gán với tên ```fibonacci``` trong module chứa đựng bởi vì decorator. Cư xử này có vấn đề là bởi vì nó giảm đi công dụng của các công cụ thực hiện việc kiểm tra (introspection). \n",
        "\n",
        "Ví dụ, hàm có sẵn ```help``` là vô dụng khi được áp dụng cho hàm ```fibonacci```"
      ]
    },
    {
      "cell_type": "code",
      "metadata": {
        "id": "JV3dOI7dCx75",
        "colab_type": "code",
        "outputId": "2437f476-7614-4296-ed7d-9a8673717c7c",
        "colab": {
          "base_uri": "https://localhost:8080/",
          "height": 85
        }
      },
      "source": [
        "help(fibonacci)"
      ],
      "execution_count": 0,
      "outputs": [
        {
          "output_type": "stream",
          "text": [
            "Help on function wrapper in module __main__:\n",
            "\n",
            "wrapper(*args, **kwargs)\n",
            "\n"
          ],
          "name": "stdout"
        }
      ]
    },
    {
      "cell_type": "code",
      "metadata": {
        "id": "0Azrvbb6D89f",
        "colab_type": "code",
        "colab": {}
      },
      "source": [
        "def fibonacci_no_decorator(n):\n",
        "  \"\"\"Return the n-th Fibonacci number\"\"\"\n",
        "  if n in (0, 1):\n",
        "    return n\n",
        "  return (fibonacci(n - 2) + fibonacci(n - 1))"
      ],
      "execution_count": 0,
      "outputs": []
    },
    {
      "cell_type": "code",
      "metadata": {
        "id": "9FCm8Vx_EDL7",
        "colab_type": "code",
        "outputId": "f97bd056-79d8-4d05-813b-c5d3f4841e91",
        "colab": {
          "base_uri": "https://localhost:8080/",
          "height": 102
        }
      },
      "source": [
        "help(fibonacci_no_decorator)"
      ],
      "execution_count": 0,
      "outputs": [
        {
          "output_type": "stream",
          "text": [
            "Help on function fibonacci_no_decorator in module __main__:\n",
            "\n",
            "fibonacci_no_decorator(n)\n",
            "    Return the n-th Fibonacci number\n",
            "\n"
          ],
          "name": "stdout"
        }
      ]
    },
    {
      "cell_type": "markdown",
      "metadata": {
        "id": "MOlnUedWEOuI",
        "colab_type": "text"
      },
      "source": [
        "Giải pháp là sử dụng hàm trợ giúp ```wraps``` từ module có sẵn ```functools```. Đây là một decorator giúp bạn viết các decorators. Úp dụng nó cho hàm ```wrapper``` sẽ sao chép tất cả các thông tin metadata về hàm bên trong cho hàm bên ngoài"
      ]
    },
    {
      "cell_type": "code",
      "metadata": {
        "id": "9Iy4rLnSEE1U",
        "colab_type": "code",
        "colab": {}
      },
      "source": [
        "from functools import wraps\n",
        "def trace(func):\n",
        "  @wraps(func)\n",
        "  def wrapper(*args, **kwargs):\n",
        "    result = func(*args, **kwargs)\n",
        "    print(\"%s(%r, %r) -> %r\" % (func.__name__, args, kwargs, result))\n",
        "    return result\n",
        "  return wrapper\n"
      ],
      "execution_count": 0,
      "outputs": []
    },
    {
      "cell_type": "code",
      "metadata": {
        "id": "001HPkxaE1OD",
        "colab_type": "code",
        "colab": {}
      },
      "source": [
        "@trace\n",
        "def fibonacci(n):\n",
        "  \"\"\"Return the n-th Fibonacci number\"\"\"\n",
        "  if n in (0, 1):\n",
        "    return n\n",
        "  return (fibonacci(n - 2) + fibonacci(n - 1))"
      ],
      "execution_count": 0,
      "outputs": []
    },
    {
      "cell_type": "markdown",
      "metadata": {
        "id": "d4IwT0bhE-sg",
        "colab_type": "text"
      },
      "source": [
        "Bây giờ, chạy hàm ```help``` tạo ra kết quả như mong đợi, mặc cho hàm bị decorate"
      ]
    },
    {
      "cell_type": "code",
      "metadata": {
        "id": "Dqg8jM7ZE4EH",
        "colab_type": "code",
        "outputId": "82bd515d-ab12-4841-d40f-6b9be19598ad",
        "colab": {
          "base_uri": "https://localhost:8080/",
          "height": 102
        }
      },
      "source": [
        "help(fibonacci)"
      ],
      "execution_count": 0,
      "outputs": [
        {
          "output_type": "stream",
          "text": [
            "Help on function fibonacci in module __main__:\n",
            "\n",
            "fibonacci(n)\n",
            "    Return the n-th Fibonacci number\n",
            "\n"
          ],
          "name": "stdout"
        }
      ]
    },
    {
      "cell_type": "markdown",
      "metadata": {
        "id": "zpHeJRkipdjy",
        "colab_type": "text"
      },
      "source": [
        "Gọi ```help``` chỉ là một ví dụ về các vấn đề có thể xảy ra với các decorators. Các hàm Python có nhiều thuộc tính chuẩn khác (ví dụ như, ```_name__```, ```__module__```) phải được bảo tồn để duy trì giao tiếp của các hàm trong ngôn ngữ. Sử dụng ```wraps``` đảm bảo rằng bạn sẽ luôn có được cư xử chính xác."
      ]
    },
    {
      "cell_type": "markdown",
      "metadata": {
        "id": "GVEHLlatp-Va",
        "colab_type": "text"
      },
      "source": [
        "Những điều cần nhớ\n",
        "\n",
        "\n",
        "*   Các decorators là cú pháp Python để cho phép một hàm thay đổi một hàm khác tại thời gian chạy.\n",
        "* Sử dụng các decorators có thể tạo ra những cư xử lạ với các công cụ thực hiện việc theo dõi, giám sát như là các debuggers\n",
        "*  Sử dụng ```wraps``` decorator từ module có sẵn ```functools``` khi bạn định nghĩa decorators riêng của mình để tránh bất cứ vấn đề gì.\n",
        "\n"
      ]
    },
    {
      "cell_type": "markdown",
      "metadata": {
        "id": "b-ScmtF3sQrB",
        "colab_type": "text"
      },
      "source": [
        "## Xem xét sử dụng ```contextlib``` và ```with``` cho việc tái sử dụng ```try/finally```\n",
        "\n",
        "```with``` được sử dụng để ám chỉ rằng code được chạy trong một bối cảnh đặc biệt. Ví dụ, các khoá loại trừ lẫn nhau (mutual exclusion locks) có thể được sử dụng với ```with``` để chỉ ra rằng code được thụt vào chỉ chạy khi lock được giữ. "
      ]
    },
    {
      "cell_type": "code",
      "metadata": {
        "id": "C6paM9-tFK46",
        "colab_type": "code",
        "colab": {}
      },
      "source": [
        "lock = Lock()"
      ],
      "execution_count": 0,
      "outputs": []
    },
    {
      "cell_type": "code",
      "metadata": {
        "id": "z7k66Qnbs8Ca",
        "colab_type": "code",
        "colab": {}
      },
      "source": [
        "with lock:\n",
        "  print('Lock is held')"
      ],
      "execution_count": 0,
      "outputs": []
    },
    {
      "cell_type": "markdown",
      "metadata": {
        "id": "k3b3_3wXtEvz",
        "colab_type": "text"
      },
      "source": [
        "Ví dụ trên tương đương với việc xây dựng ```try/finally``` bởi vì lớp ```Lock``` cho phép được sử dụng với ```with```"
      ]
    },
    {
      "cell_type": "code",
      "metadata": {
        "id": "5PiSUOkLtTI-",
        "colab_type": "code",
        "colab": {}
      },
      "source": [
        "lock.acquire()\n",
        "try:\n",
        "  print('Lock is held')\n",
        "finally:\n",
        "  lock.release()"
      ],
      "execution_count": 0,
      "outputs": []
    },
    {
      "cell_type": "markdown",
      "metadata": {
        "id": "j_dHCOm7thTc",
        "colab_type": "text"
      },
      "source": [
        "Sử dụng ```with``` ta loại bỏ được những đoạn mã xây dựng ```try/finally``` lặp lại. Để tạo ra các đối tượng và hàm của bạn có thể sử dụng với ```with``` bạn có thể dùng module có sẵn ```contextlib```. \n",
        "Module này chứa một decorator là ```contextmanager```, cho phép một hàm đơn giản được sử dụng với ```with```. Thực hiện việc này dễ hơn rất nhiều so với việc định nghĩa một lớp mới các phương thức đặc biệt như ```_enter__``` và ```_exit__``` (theo cách chuẩn.)\n"
      ]
    },
    {
      "cell_type": "markdown",
      "metadata": {
        "id": "vaey69d3vKVw",
        "colab_type": "text"
      },
      "source": [
        "Ví dụ, bạn muốn một phần trong đoạn mã của bạn có thêm nhiều logging. Ở đây tôi định nghĩa một hàm thực hiện việc logging ở hai mức độ nghiêm trọng."
      ]
    },
    {
      "cell_type": "code",
      "metadata": {
        "id": "KoiuP4gavbfo",
        "colab_type": "code",
        "colab": {}
      },
      "source": [
        "import logging\n",
        "def my_function():\n",
        "  logging.debug('Some debug data')\n",
        "  logging.error('Error log here')\n",
        "  logging.debug('More debug data')"
      ],
      "execution_count": 0,
      "outputs": []
    },
    {
      "cell_type": "markdown",
      "metadata": {
        "id": "NPd3qL1Ivp-C",
        "colab_type": "text"
      },
      "source": [
        "Mức độ log mặc định cho chương trình của tôi là ```WARNING```, vì vậy chỉ có thông điệp lỗi sẽ in ra màn hình khi bạn chạy hàm."
      ]
    },
    {
      "cell_type": "markdown",
      "metadata": {
        "id": "wcZKgyuws4uJ",
        "colab_type": "text"
      },
      "source": [
        "my_funcion()"
      ]
    },
    {
      "cell_type": "markdown",
      "metadata": {
        "id": "ScmIGCMQOSx6",
        "colab_type": "text"
      },
      "source": [
        "Tôi có thể tăng cấp độ log cho hàm này tạm thời bằng cách định nghĩa một quản lý ngữ cảnh (context manager). Hàm trợ giúp này tăng cường mức độ \b trọng của log trước khi chạy code trong khối ```with``` và giảm đi mức độ nghiêm trọng sau đó."
      ]
    },
    {
      "cell_type": "code",
      "metadata": {
        "id": "97UF8V5kNikc",
        "colab_type": "code",
        "colab": {}
      },
      "source": [
        "@contextmanager\n",
        "def debug_logging(level):\n",
        "  logger = logging.getLogger()\n",
        "  old_level = logger.getEffectiveLevel()\n",
        "  logger.setLevel(level)\n",
        "  try:\n",
        "    yield \n",
        "  finally:\n",
        "    logger.setLevel(old_level)"
      ],
      "execution_count": 0,
      "outputs": []
    },
    {
      "cell_type": "markdown",
      "metadata": {
        "id": "fsV20lubPPe6",
        "colab_type": "text"
      },
      "source": [
        "Câu lệnh ```yield``` là điểm nơi nội dung của khối ```with``` sẽ thực thi. Bất cứ ngoại lệ nào xảy ra trong khối ```with``` sẽ được khởi lên bởi câu ```yield``` để bắt lại trong hàm trợ giúp để giúp cho việc giải thích. \n",
        "\n",
        "Bây giờ, tôi có thể gọi cùng hàm logging, nhưng trong ngữ cảnh ```debug_logging```. Tại thời điểm này, tất cả các thông điệp debug được in ra màn hình trong khối ```with```. Cùng hàm này nhưng chạy bên ngoài khối ```with``` sẽ không in ra các thông điệp debug."
      ]
    },
    {
      "cell_type": "code",
      "metadata": {
        "id": "2wd4mN_1PeDa",
        "colab_type": "code",
        "colab": {}
      },
      "source": [
        "with debug_logging(logging.DEBUG):\n",
        "  print(\"Inside:\")\n",
        "  my_function()\n",
        "print(\"After:\")\n",
        "my_function()"
      ],
      "execution_count": 0,
      "outputs": []
    },
    {
      "cell_type": "markdown",
      "metadata": {
        "id": "SiNaH_7uRkiA",
        "colab_type": "text"
      },
      "source": [
        "## Sử dụng các mục tiêu ```with```\n",
        "\n",
        "Đối tượng quản lý ngữ cảnh được tryền tới câu ```with``` cũng có thể trả về một đối tượng. Đối tượng này được gán cho một biến cục bộ trong phần ```as``` của câu ```with```. Điều này giúp cho code chạy trong khối ```with``` tương tác trực tiếp với ngữ cảnh của nó.\n",
        "\n",
        "Ví dụ, bạn muốn ghi một file và đảm bảo rằng nó luôn luôn được đóng một cách đúng đắn. Bạn có thể làm điều này bằng cách truyền hàm ```open``` vào ```with```. ```open``` trả về một file handle và gán cho biến ở sau ```as``` như là mục tiêu của ```with``` và sẽ đóng handle khi ```with``` bock thoát ra."
      ]
    },
    {
      "cell_type": "code",
      "metadata": {
        "id": "uhkvjIcTUrDi",
        "colab_type": "code",
        "colab": {}
      },
      "source": [
        "with open(\"/tmp/my_output.txt\", \"w\") as handle:\n",
        "  handle.write(\"This is some data!\")"
      ],
      "execution_count": 0,
      "outputs": []
    },
    {
      "cell_type": "code",
      "metadata": {
        "id": "nlr2Q3lnUyTq",
        "colab_type": "code",
        "outputId": "341c4d66-6db8-443f-cbc4-dac589c3d76f",
        "colab": {
          "base_uri": "https://localhost:8080/",
          "height": 34
        }
      },
      "source": [
        "!cat /tmp/my_output.txt"
      ],
      "execution_count": 0,
      "outputs": [
        {
          "output_type": "stream",
          "text": [
            "This is some data!"
          ],
          "name": "stdout"
        }
      ]
    },
    {
      "cell_type": "markdown",
      "metadata": {
        "id": "8lqUgHyPU6Db",
        "colab_type": "text"
      },
      "source": [
        "Cách làm này được ưu chuộng hơn so với việc mở và đóng một handle một cách thủ công mỗi lần bạn muốn thao tác với file. Nó làm cho bạn chắc chắn rằng file sẽ luôn được đóng khi thực thi được hoàn tất bên trong ```with``` statement. Nó cũng khuyến khích bạn giảm lượng code cần thực thi khi file được mở, điều này luôn tốt trong thực tế. \n",
        "\n",
        "Để làm cho các hàm của bạn đáp ứng các giá trị cho các mục tiêu ```as```, tất cả những gì bạn cần làm là ```yield``` một giá trị từ mã quản lý ngữ cảnh của bạn. Ví dụ, bạn định nghĩa một mã quản lý ngữ cảnh để lấy một hiện thực ```Logger```, thiết lập cấp độ của nó, và sau đó ```yield``` nó cho mục tiêu ```as``` "
      ]
    },
    {
      "cell_type": "code",
      "metadata": {
        "id": "hRkmX0_2U3D6",
        "colab_type": "code",
        "colab": {}
      },
      "source": [
        "from contextlib import contextmanager \n",
        "import logging\n",
        "logging.basicConfig(level=logging.WARNING)\n",
        "\n",
        "@contextmanager\n",
        "def log_level(level, name):\n",
        "  logger = logging.getLogger(name)\n",
        "  old_level = logger.getEffectiveLevel()\n",
        "  logger.setLevel(level)\n",
        "  try:\n",
        "    yield logger\n",
        "  finally:\n",
        "    logger.setLevel(old_level)"
      ],
      "execution_count": 0,
      "outputs": []
    },
    {
      "cell_type": "markdown",
      "metadata": {
        "id": "eJR8z6DxwKhb",
        "colab_type": "text"
      },
      "source": [
        "Gọi các phương thức logging như ```debug``` trên ```as``` sẽ đưa ra kết quả bởi vì cấp độ nghiêm trọng logging được thiết lập đủ thấp trong khối ```with```. Sử dụng module ```logging``` sẽ không in ra bất cứ thứ gì bởi vì mặc định của logger là ```WARNING```"
      ]
    },
    {
      "cell_type": "code",
      "metadata": {
        "id": "YfIiuEbXwv41",
        "colab_type": "code",
        "outputId": "bfa77f6d-6a76-4dc6-bab6-cc393643ac2f",
        "colab": {
          "base_uri": "https://localhost:8080/",
          "height": 34
        }
      },
      "source": [
        "with log_level(logging.DEBUG, 'mylog') as logger:\n",
        "  logger.debug(\"This is my message\")\n",
        "  logging.debug(\"This will not print\")"
      ],
      "execution_count": 0,
      "outputs": [
        {
          "output_type": "stream",
          "text": [
            "DEBUG:mylog:This is my message\n"
          ],
          "name": "stderr"
        }
      ]
    },
    {
      "cell_type": "markdown",
      "metadata": {
        "id": "06_0RTE1-CK_",
        "colab_type": "text"
      },
      "source": [
        "Sau khi ```with``` thoát ra, gọi các phương thức logging thông tin tin debug trên đối tượng ```Logger``` có tên là ```my-log``` sẽ không in ra bất cứ thứ gì bởi vì mức độ nghiêm trọng mặc định đã được khôi phục. Các thông tin log lỗi sẽ luôn luôn in ra. "
      ]
    },
    {
      "cell_type": "code",
      "metadata": {
        "id": "qbTkXQQvw9Dp",
        "colab_type": "code",
        "outputId": "602242ae-87b0-4ade-873c-2df6cfd522fd",
        "colab": {
          "base_uri": "https://localhost:8080/",
          "height": 34
        }
      },
      "source": [
        "logger = logging.getLogger('my-log')\n",
        "logger.debug('Debug will not print')\n",
        "logger.error('Error will print')"
      ],
      "execution_count": 0,
      "outputs": [
        {
          "output_type": "stream",
          "text": [
            "ERROR:my-log:Error will print\n"
          ],
          "name": "stderr"
        }
      ]
    },
    {
      "cell_type": "markdown",
      "metadata": {
        "id": "_Lq9nuiv-qYN",
        "colab_type": "text"
      },
      "source": [
        "### Những thứ cần nhớ\n",
        "\n",
        "\n",
        "*   Câu ```with``` cho phép bạn tái sử dụng logic từ các khối ```try/finally``` và giảm nhiễu thị giác (visual noise)\n",
        "*  Module có sẵn ```contextlib``` cung cấp một decorator ```contextmanager``` cho phép bạn dễ dàng sử dụng hàm của riêng bạn với các câu ```with```.\n",
        "* Giá trị được sinh ra bởi các mã quản lý ngữ cảnh được cung cấp cho phần ```as``` của ```with```. Điều này hữu dụng khi cho phép mã code của bạn truy cập trực tiếp tới gốc của ngữ cảnh đặc biệt này. \n",
        "\n"
      ]
    },
    {
      "cell_type": "markdown",
      "metadata": {
        "id": "--Zzh59t_tOB",
        "colab_type": "text"
      },
      "source": [
        "## Làm cho ```pickle``` đáng tin hơn với ```copyreg```\n",
        "\n",
        "Module có sẵn ```pickle``` có thể serialize các đối tượng Pyhton thành một chuỗi các bytes và deserialize các bytes thành các đối tượng. Các bytes được pickled không nên được sử dụng để giao tiếp giữa các bên không đáng tin. Mục đích của ```pickle``` cho phép bạn truyền các đối tượng Python giữa các chương trình mà bạn điều khiển qua các kênh nhị phân (binary channels)\n",
        "\n",
        "**Chú ý**\n",
        "\n",
        "Định dạng serialization của module pickle không an toàn như nó được thiết kế. Dữ liệu bị serialized chứa thông tin một chương trình mô tả cách tái xây dựng đối tượng ban đầu. Điều đó có nghĩa là một dữ liệu ```pickle``` độc hại có thể được sử dụng để thoả hiệp (compromise) bất cứ phần nào của chương trình Python cố gắng deserialize nó. \n",
        "\n",
        "Ngược lại, module ```json``` được thiết kế theo cách làm cho nó an toàn. Một dữ liệu JSON được serialized chứa một mô tả đơn giản của một phân tầng đối tượng. Deserialize dữ liệu JSON không bày ra bất cứ rủi ro nào cho một chương trình Python. Các định dạng như JSON nên được sử dụng cho việc giao tiếp giữa các chương trình và những người không tin tưởng lẫn nhau. \n"
      ]
    },
    {
      "cell_type": "markdown",
      "metadata": {
        "id": "pevA0ULyDhD0",
        "colab_type": "text"
      },
      "source": [
        "Ví dụ, bạn muốn sử dụng một đối tượng Python để biểu diễn trạng thái của một người chơi trong một trò chơi. Trạng thái trò chơi bao gồm cấp độ hiện tại của người chơi và số lượng mạng sống anh ta còn lại. "
      ]
    },
    {
      "cell_type": "code",
      "metadata": {
        "id": "4gWA6QlR-nvd",
        "colab_type": "code",
        "colab": {}
      },
      "source": [
        "class GameState(object):\n",
        "  def __init__(self):\n",
        "    self.level = 0 \n",
        "    self.lives = 4 "
      ],
      "execution_count": 0,
      "outputs": []
    },
    {
      "cell_type": "markdown",
      "metadata": {
        "id": "7vLoJ9f7D69O",
        "colab_type": "text"
      },
      "source": [
        "Chương trình thay đổi đối tượng này khi trò chơi bắt đầu."
      ]
    },
    {
      "cell_type": "code",
      "metadata": {
        "id": "BxnJw6PBEBLh",
        "colab_type": "code",
        "colab": {}
      },
      "source": [
        "state = GameState()\n",
        "state.level += 1 # Người chơi tăng một cấp độ\n",
        "state.lives -= 1 # Người chơi phải thử lại, mất đi một mạng"
      ],
      "execution_count": 0,
      "outputs": []
    },
    {
      "cell_type": "markdown",
      "metadata": {
        "id": "GIHzIMM-ERnP",
        "colab_type": "text"
      },
      "source": [
        "Khi người chơi thoát ra, không chơi nữa, chương trình có thể lưu trạng thái của trò chơi vào một tệp tin vì vậy nó có thể lấy lại trạng thái hiện hành trong lần sau. Module ```pickle``` làm cho việc này trở nên dễ dàng hơn. Ở đây, tôi ```dump``` đối tượng ```GameState``` ra một file"
      ]
    },
    {
      "cell_type": "code",
      "metadata": {
        "id": "INmHvu0cEQhC",
        "colab_type": "code",
        "colab": {}
      },
      "source": [
        "import pickle\n",
        "state_path = \"/tmp/game_state.bin\"\n",
        "with open(state_path, \"wb\") as f:\n",
        "  pickle.dump(state, f)"
      ],
      "execution_count": 0,
      "outputs": []
    },
    {
      "cell_type": "markdown",
      "metadata": {
        "id": "00ghnienE3-e",
        "colab_type": "text"
      },
      "source": [
        "Sau đó, tôi có thể ```load``` file này và lấy lại trạng thái của đối tượng ```GameState``` như là khi nó chưa bị serialized. "
      ]
    },
    {
      "cell_type": "code",
      "metadata": {
        "id": "2Q0xDGEEE0Nj",
        "colab_type": "code",
        "outputId": "48d806c4-d4d7-477b-e414-a1d8f8926ba9",
        "colab": {
          "base_uri": "https://localhost:8080/",
          "height": 34
        }
      },
      "source": [
        "with open(state_path, \"rb\") as f:\n",
        "  state_after = pickle.load(f)\n",
        "\n",
        "print(state_after.__dict__)"
      ],
      "execution_count": 0,
      "outputs": [
        {
          "output_type": "stream",
          "text": [
            "{'level': 1, 'lives': 3}\n"
          ],
          "name": "stdout"
        }
      ]
    },
    {
      "cell_type": "markdown",
      "metadata": {
        "id": "6aVriMkSG9zh",
        "colab_type": "text"
      },
      "source": [
        "Vấn đề với cách tiếp cận này đó là điều gì sẽ xảy ra khi các tính năng của game được mở rộng. Tưởng tượng rằng bạn muốn người chơi kiếm được nhiều điểm để đạt tới một điểm cao. Để theo dõi điểm của người chơi, bạn muốn thêm vào một trường mới vào lớp ```GameState```."
      ]
    },
    {
      "cell_type": "code",
      "metadata": {
        "id": "94YQ7abSFMzC",
        "colab_type": "code",
        "colab": {}
      },
      "source": [
        "class GameState(object):\n",
        "  def __init__(self):\n",
        "    self.level = 0 \n",
        "    self.lives = 4 \n",
        "    self.points = 0"
      ],
      "execution_count": 0,
      "outputs": []
    },
    {
      "cell_type": "markdown",
      "metadata": {
        "id": "DbAV5ceDmlbU",
        "colab_type": "text"
      },
      "source": [
        "Serialize phiên bản mới của lớp ```GameState``` sử dụng ```pickle``` sẽ hoạt động y hệt như trước đó. Ở đây, tôi mô phỏng một quá trình khứ hồi của việc ```dumps``` một đối tượng ra một string và ```loads``` ngược trở lại đối tượng đó."
      ]
    },
    {
      "cell_type": "code",
      "metadata": {
        "id": "2B3Swe__Hbah",
        "colab_type": "code",
        "outputId": "3b7fa2bb-8f96-4593-96ba-7b1c5034fdde",
        "colab": {
          "base_uri": "https://localhost:8080/",
          "height": 34
        }
      },
      "source": [
        "import pickle\n",
        "state = GameState()\n",
        "serialized = pickle.dumps(state)\n",
        "state_after = pickle.loads(serialized)\n",
        "print(state_after.__dict__)"
      ],
      "execution_count": 0,
      "outputs": [
        {
          "output_type": "stream",
          "text": [
            "{'level': 0, 'lives': 4, 'points': 0}\n"
          ],
          "name": "stdout"
        }
      ]
    },
    {
      "cell_type": "markdown",
      "metadata": {
        "id": "bEKe3b82nVEc",
        "colab_type": "text"
      },
      "source": [
        "Điều gì sẽ xảy ra với các đối tượng ```GameState``` cũ đã được lưu trước đó khi người dùng muốn hồi phục lại? Ở đây, tôi unpickle một file game cũ sử dụng một chương trình với định nghĩa mỡi của lớp ```GameState```:"
      ]
    },
    {
      "cell_type": "code",
      "metadata": {
        "id": "qlp7u_qNnO5e",
        "colab_type": "code",
        "outputId": "55016004-3106-4af1-df96-bc14d14808c3",
        "colab": {
          "base_uri": "https://localhost:8080/",
          "height": 34
        }
      },
      "source": [
        "with open(state_path, \"rb\") as f:\n",
        "  state_after = pickle.load(f)\n",
        "print(state_after.__dict__)"
      ],
      "execution_count": 0,
      "outputs": [
        {
          "output_type": "stream",
          "text": [
            "{'level': 1, 'lives': 3}\n"
          ],
          "name": "stdout"
        }
      ]
    },
    {
      "cell_type": "markdown",
      "metadata": {
        "id": "OtsTQwzvpJqF",
        "colab_type": "text"
      },
      "source": [
        "Thuộc tính ```points``` bị khuyết! Điều này gây ra việc nhầm lẫn bởi vì đối tượng trả về là một hiện thực của lớp ```GAmeState```"
      ]
    },
    {
      "cell_type": "code",
      "metadata": {
        "id": "pbYs48WRpFS1",
        "colab_type": "code",
        "colab": {}
      },
      "source": [
        "assert isinstance(state_after, GameState)"
      ],
      "execution_count": 0,
      "outputs": []
    },
    {
      "cell_type": "markdown",
      "metadata": {
        "id": "8le2hn88qpJb",
        "colab_type": "text"
      },
      "source": [
        "Cư xử của ```pickle``` phản ánh cách nó hoạt động. Mục đích chính của module này là làm cho việc serialize các đối tượng dễ dàng hơn. Khi bạn dùng ```pickle``` trong các mục đích phức tạp hơn, tính năng của module này bắt đầu gây ngạc nhiên trong hành vi của nó."
      ]
    },
    {
      "cell_type": "markdown",
      "metadata": {
        "id": "EPVoALRwrfry",
        "colab_type": "text"
      },
      "source": [
        "Để giải quyết vấn đề này ta có thể sử dụng module ```copyreg```. Module này cho phép bạn đăng ký các hàm chịu trách nhiệm cho việc serialize các đối tượng Python, cho phép bạn điều khiển hành vi của ```pickle``` và làm cho nó đáng tin hơn. "
      ]
    },
    {
      "cell_type": "markdown",
      "metadata": {
        "id": "xRPmWBLQ8L_u",
        "colab_type": "text"
      },
      "source": [
        "## Các giá trị thuộc tính mặc định\n",
        "\n",
        "Trong trường hợp đặc biệt, bạn có thể sử dụng một hàm xây dựng với các tham số mặc định để đảm bảo rằng các đối tượng ```GameState``` sẽ luôn luôn có tất cả các thuộc tính sau khi unpickle. Ở đây, tôi định nghĩa hàm xây dựng lại theo cách đó:"
      ]
    },
    {
      "cell_type": "code",
      "metadata": {
        "id": "vTf3uZ-EpcNQ",
        "colab_type": "code",
        "colab": {}
      },
      "source": [
        "class GameState(object):\n",
        "  def __init__(self, level=0, lives=4, points=0):\n",
        "    self.level = level\n",
        "    self.lives = lives\n",
        "    self.points = points"
      ],
      "execution_count": 0,
      "outputs": []
    },
    {
      "cell_type": "markdown",
      "metadata": {
        "id": "3oXJph2a8-ci",
        "colab_type": "text"
      },
      "source": [
        "Để sử dụng hàm xây dựng này cho việc pickle, tôi định ngĩa một hàm trợ giúp giúp chuyển đối tượng ```GameState``` thành một tuple của các tham số cho module ```copyreg````. Tuple trả về chứa hàm được sử dụng cho việc unpickle và các tham số để truyền cho hàm unpickle. "
      ]
    },
    {
      "cell_type": "code",
      "metadata": {
        "id": "eua0pbbR89ID",
        "colab_type": "code",
        "colab": {}
      },
      "source": [
        "def pickle_game_state(game_state):\n",
        "  kwargs = game_state.__dict__\n",
        "  return unpickle_game_state, (kwargs,)"
      ],
      "execution_count": 0,
      "outputs": []
    },
    {
      "cell_type": "markdown",
      "metadata": {
        "id": "dziGLxcILnFh",
        "colab_type": "text"
      },
      "source": [
        "## Sử dụng các chuỗi ```repr``` cho đầu ra của việc debugging\n",
        "\n",
        "Khi debug một chương trình Python, hàm ```print``` (hoặc output thông qua module có sẵn ```loggin```) sẽ gây cho bạn ngạc nhiên. Các chi tiết nội tại Python có thể dễ dàng được truy cập thông qua các thuộc tính rõ ràng. Tất cả bạn cần làm là ```print``` trạng thái chủa các thay đổi trong chương trình của bạn khi nó chạy và nhìn xem chỗ nào sai. \n",
        "\n",
        "Hàm ```print``` xuất ra phiên bản string có thể đọc được (human-readable) của bất cứ thứ gì bạn cung cấp cho nó. Ví dụ, in ra một string căn bản sẽ in ra nội dung của string đó mà không có dấu quote. "
      ]
    },
    {
      "cell_type": "code",
      "metadata": {
        "id": "JVQtFoY8NG3_",
        "colab_type": "code",
        "outputId": "845a6d7e-42bf-4328-a592-412bbf452349",
        "colab": {
          "base_uri": "https://localhost:8080/",
          "height": 34
        }
      },
      "source": [
        "print(\"foo bar\")"
      ],
      "execution_count": 0,
      "outputs": [
        {
          "output_type": "stream",
          "text": [
            "foo bar\n"
          ],
          "name": "stdout"
        }
      ]
    },
    {
      "cell_type": "markdown",
      "metadata": {
        "id": "m9bzd8dRNNo_",
        "colab_type": "text"
      },
      "source": [
        "Điều này tương tự với việc sử dụng ```%s```` định dạng và phép ```%```"
      ]
    },
    {
      "cell_type": "code",
      "metadata": {
        "id": "3ampMG7TNIuV",
        "colab_type": "code",
        "outputId": "f4364877-55c0-4bd5-df44-4fe2981359e6",
        "colab": {
          "base_uri": "https://localhost:8080/",
          "height": 34
        }
      },
      "source": [
        "print('%s' % 'foo bar')"
      ],
      "execution_count": 0,
      "outputs": [
        {
          "output_type": "stream",
          "text": [
            "foo bar\n"
          ],
          "name": "stdout"
        }
      ]
    },
    {
      "cell_type": "markdown",
      "metadata": {
        "id": "UsEi1-7YNzOs",
        "colab_type": "text"
      },
      "source": [
        "Vấn đề ở đây là các chuỗi có thể đọc được cho một giá trị không làm rõ được kiểu thực sự của giá trị. Ví dụ , để ý  output mặc định của ```print``` bạn không thể phân biệt giữa các kiểu của số ```5``` và string ```'5'```"
      ]
    },
    {
      "cell_type": "code",
      "metadata": {
        "id": "HS1V1gaWNgxK",
        "colab_type": "code",
        "outputId": "f53d5501-8e62-4e0a-93e7-fdb7bc972364",
        "colab": {
          "base_uri": "https://localhost:8080/",
          "height": 51
        }
      },
      "source": [
        "print(5)\n",
        "print(\"5\")"
      ],
      "execution_count": 0,
      "outputs": [
        {
          "output_type": "stream",
          "text": [
            "5\n",
            "5\n"
          ],
          "name": "stdout"
        }
      ]
    },
    {
      "cell_type": "markdown",
      "metadata": {
        "id": "28YE_hoFOixB",
        "colab_type": "text"
      },
      "source": [
        "Nếu bạn đang debug một chương trình với ```print```, sự khác biệt giữa các kiểu thực sự quan trọng. Cái bạn muốn khi debug đó là thấy được phiên bản ```repr``` của một đối tượng. Hàm có sẵn ```repr``` trả về một biểu diễn có thể in được (printable representation) cả một đối tượng, đây là một biểu diễn có thể hiểu được rõ ràng nhất. Đối với các kiểu có sẵn, string được trả về bởi ```repr``` là một biểu diễn hợp lệ. "
      ]
    },
    {
      "cell_type": "code",
      "metadata": {
        "id": "HF-pDvGdOgKi",
        "colab_type": "code",
        "outputId": "8da756af-aed2-4e2d-8108-6e69a63417e3",
        "colab": {
          "base_uri": "https://localhost:8080/",
          "height": 34
        }
      },
      "source": [
        "a = '\\x07'\n",
        "print(repr(a))"
      ],
      "execution_count": 0,
      "outputs": [
        {
          "output_type": "stream",
          "text": [
            "'\\x07'\n"
          ],
          "name": "stdout"
        }
      ]
    },
    {
      "cell_type": "markdown",
      "metadata": {
        "id": "SSm_SJ_IPnQT",
        "colab_type": "text"
      },
      "source": [
        "Truyền giá trị từ ```repr``` tới hàm có sẵn ```eval``` nên trả về cùng một đối tượng Python lúc bạn bắt đầu (dĩ nhiên, trong thực tế, bạn nên chỉ sử dụng ```eval``` với một sự cẩn trọng cao nhất)"
      ]
    },
    {
      "cell_type": "code",
      "metadata": {
        "id": "GUcEk_97PXlo",
        "colab_type": "code",
        "colab": {}
      },
      "source": [
        "b = eval(repr(a))\n",
        "assert a == b"
      ],
      "execution_count": 0,
      "outputs": []
    },
    {
      "cell_type": "markdown",
      "metadata": {
        "id": "XBij0maiQW-4",
        "colab_type": "text"
      },
      "source": [
        "Khi bạn debug với ```print```, bạn nên ```repr``` giá trị trước khi in để đảm bảo rằng bất cứ sự khác biệt nào về kiểu cần rõ ràng."
      ]
    },
    {
      "cell_type": "code",
      "metadata": {
        "id": "mnqc4PNoQVfI",
        "colab_type": "code",
        "outputId": "ab23a5b2-23cf-4cfe-ac94-e3fc862477c0",
        "colab": {
          "base_uri": "https://localhost:8080/",
          "height": 51
        }
      },
      "source": [
        "print(repr(5))\n",
        "print(repr('5'))"
      ],
      "execution_count": 0,
      "outputs": [
        {
          "output_type": "stream",
          "text": [
            "5\n",
            "'5'\n"
          ],
          "name": "stdout"
        }
      ]
    },
    {
      "cell_type": "markdown",
      "metadata": {
        "id": "rIRwHPEpQrUh",
        "colab_type": "text"
      },
      "source": [
        "Điều này tương đương với việc sử dụng chuỗi định dạng ```'%r'``` và phép ```%```"
      ]
    },
    {
      "cell_type": "code",
      "metadata": {
        "id": "mAmzhJneQj7A",
        "colab_type": "code",
        "outputId": "b04c70db-b0db-453a-b072-a7f44e6c76bd",
        "colab": {
          "base_uri": "https://localhost:8080/",
          "height": 34
        }
      },
      "source": [
        "print('%r' % 5)"
      ],
      "execution_count": 0,
      "outputs": [
        {
          "output_type": "stream",
          "text": [
            "5\n"
          ],
          "name": "stdout"
        }
      ]
    },
    {
      "cell_type": "code",
      "metadata": {
        "id": "GFuBmRr8Q80m",
        "colab_type": "code",
        "outputId": "df702931-49d0-46f6-ca4d-a5af3497eb87",
        "colab": {
          "base_uri": "https://localhost:8080/",
          "height": 34
        }
      },
      "source": [
        "print('%r' % '5')"
      ],
      "execution_count": 0,
      "outputs": [
        {
          "output_type": "stream",
          "text": [
            "'5'\n"
          ],
          "name": "stdout"
        }
      ]
    },
    {
      "cell_type": "markdown",
      "metadata": {
        "id": "Ghy7RAfPRIfY",
        "colab_type": "text"
      },
      "source": [
        "Đối với các đối tượng Python động, giá trị chuỗi có thể đọc được mặc định giống như giá trị ```repr```. Điều này có nghĩa là truyền vào một đối tượng động tới ```print``` sẽ làm những thứ đúng, và bạn không cần phải gọi ```repr``` trên đối tượng. Không may mắn, giá trị mặc định của ```repr``` cho các hiện thự ```object``` không thực sự hữu dụng. Ví dụ, ở đây tôi định nghĩa một lớp đơn giản và in ra giá trị của nó."
      ]
    },
    {
      "cell_type": "code",
      "metadata": {
        "id": "fnY6GKQpRGuM",
        "colab_type": "code",
        "colab": {}
      },
      "source": [
        "class OpaqueClass(object):\n",
        "  def __init__(self, x, y):\n",
        "    self.x = x\n",
        "    self.y = y "
      ],
      "execution_count": 0,
      "outputs": []
    },
    {
      "cell_type": "code",
      "metadata": {
        "id": "y9Mcyn4KR6uV",
        "colab_type": "code",
        "outputId": "44a53016-eed2-48a4-9b62-9d07e1a0c159",
        "colab": {
          "base_uri": "https://localhost:8080/",
          "height": 34
        }
      },
      "source": [
        "obj = OpaqueClass(1, 2)\n",
        "print(obj)"
      ],
      "execution_count": 0,
      "outputs": [
        {
          "output_type": "stream",
          "text": [
            "<__main__.OpaqueClass object at 0x7f8c43579470>\n"
          ],
          "name": "stdout"
        }
      ]
    },
    {
      "cell_type": "markdown",
      "metadata": {
        "id": "HJKgBBEUTJiB",
        "colab_type": "text"
      },
      "source": [
        "Output này không thể được truyền tới hàm ```eval```,và nó không nói lên điều gì về các trường của hiện thực của đối tượng. \n",
        "\n",
        "Có hai giải pháp cho vấn đề này. Nếu bạn có quyền điều khiến của lớp này, bạn có thể định nghĩa phương thức đặc biệt ```__repr__``` của riêng bạn để trả về một string chứa biểu diễn Python tạo ra đối tượng. Ở đây tôi định nghĩa hàm đó cho lớp trên"
      ]
    },
    {
      "cell_type": "code",
      "metadata": {
        "id": "3hQJU5FKSAzr",
        "colab_type": "code",
        "colab": {}
      },
      "source": [
        "class BetterClass(object):\n",
        "  def __init__(self, x, y):\n",
        "    self.x = x\n",
        "    self.y = y\n",
        "\n",
        "  def __repr__(self):\n",
        "    return \"BetterClass(%d, %d)\" % (self.x, self.y)"
      ],
      "execution_count": 0,
      "outputs": []
    },
    {
      "cell_type": "markdown",
      "metadata": {
        "id": "GlO6aV9-T_AW",
        "colab_type": "text"
      },
      "source": [
        "Bây giờ giá trị ```repr``` hữu dụng hơn rất nhiều"
      ]
    },
    {
      "cell_type": "code",
      "metadata": {
        "id": "VP_XaU35T81L",
        "colab_type": "code",
        "outputId": "6376928b-433f-4ad2-fbfe-bdb47ea20341",
        "colab": {
          "base_uri": "https://localhost:8080/",
          "height": 34
        }
      },
      "source": [
        "obj = BetterClass(1, 2)\n",
        "print(obj)"
      ],
      "execution_count": 0,
      "outputs": [
        {
          "output_type": "stream",
          "text": [
            "BetterClass(1, 2)\n"
          ],
          "name": "stdout"
        }
      ]
    },
    {
      "cell_type": "markdown",
      "metadata": {
        "id": "E2CuRJsiUJ9O",
        "colab_type": "text"
      },
      "source": [
        "Khi bạn không có quyền điều khiển đối với định nghĩa của lớp, bạn có thể lấy ra tự điển gắn với đối tượng, thông qua thuộc tính ```__dict__```. Ở đây tôi in ra nội dung của hiện thực ```OpaqueClass```"
      ]
    },
    {
      "cell_type": "code",
      "metadata": {
        "id": "eVlNxlhcUHV3",
        "colab_type": "code",
        "outputId": "f88b7be5-bcb4-446f-d2e0-99fcec1fb97c",
        "colab": {
          "base_uri": "https://localhost:8080/",
          "height": 34
        }
      },
      "source": [
        "obj = OpaqueClass(4, 5)\n",
        "print(obj.__dict__)"
      ],
      "execution_count": 0,
      "outputs": [
        {
          "output_type": "stream",
          "text": [
            "{'x': 4, 'y': 5}\n"
          ],
          "name": "stdout"
        }
      ]
    },
    {
      "cell_type": "markdown",
      "metadata": {
        "id": "rYj8U39JUhNU",
        "colab_type": "text"
      },
      "source": [
        "### Những điều cần nhớ\n",
        "\n",
        "\n",
        "*   Gọi hàm ```print``` trên các kiểu có sẵn của Python tạo ra các phiên bản string đọc được bởi con người, làm ẩn đi thông tin.\n",
        "*   Gọi ```repr``` trên các kiểu Python có sẵn sẽ tạo ra phiên bản có thể in được của một giá trị. Các chuỗi ```repr``` có thể được truyền vào hàm có sẵn ```eval``` để lấy về giá trị ban đầu.\n",
        "* ```%s``` trong các chuỗi định dạng sẽ tạo ra các chuỗi có thể đọc được như ```str.%s``` sẽ tạo ra các chuỗi có thể in được như ```repr```\n",
        "* Bạn có thể định nghĩa phương thức ```__repr__``` để tuỳ chỉnh biểu diễn có thể in được của một lớp và cung cấp thông tin debug một cách chi tiết\n",
        "* Bạn có thể lấy được thông tin nội tại của một đối tượng thông qua thuộc tính ```__dict__```\n",
        "\n"
      ]
    },
    {
      "cell_type": "markdown",
      "metadata": {
        "id": "VCSBQmWLZaNe",
        "colab_type": "text"
      },
      "source": [
        "## Kiểm tra (Test) mọi thứ với ```unittest```\n",
        "\n",
        "Python không có kiểm tra kiểu tĩnh. Không có một thứ gì trong trình thông dịch của Python sẽ đảm bảo rằng chương trình của bạn sẽ hoạt động khi bạn chạy nó. Với Python bạn không biết rằng các hàm mà chương trình của bạn gọi sẽ được định nghĩa tại runtime, ngay cả khi có sự tồn tại của mã nguồn của chúng. Cư xử động này là một phước lành và cũng là một nguyền rủa. \n",
        "\n",
        "Một số lượng lớn lập trình viên Python nói rằng điều đó là đáng bởi vì sự hiệu năng đạt được từ sự tinh gọn và đơn giản. Hầu hết mọi người đều nghe câu chuyện về các lỗi ngu ngốc xảy ra tại runtime. \n",
        "\n",
        "Một trong số các ví dụ tệ nhất tôi nghe được đó là một lỗi ```SyntaxError``` xảy ra trong sản phẩm được release (in production) như là một hiệu ứng phụ của một import động.\n",
        "\n",
        "Tôi tự hỏi, tại sao đoạn mã không được kiểm tra trước khi chương trình không được kiểm tra trước khi nó được triển kahi ra bên ngoài? An toàn kiểu (Type safety) không phải là mọi thứ. Bạn nên luôn luôn kiểm tra mã của bạn, bất kể ngôn ngữ được viết là gì. Tuy nhiên tôi thừa nhận rằng sự khác biệt lớn nhất giữa Python và các ngôn ngữ khác đó là cách duy nhất để có được bất cứ sự tin tưởng trong chương trình Python của bạn đó là viết các mã kiểm tra (writing tests). Kiểm tra kiểu động không phải lúc nào cũng làm bạn cảm thấy an toàn.\n",
        "\n",
        "May mắn thay, các đặc đinh động mà ngăn kiểm tra kiểu tĩnh trong Python còn làm cho ta dễ dàng viết tests cho code. Bạn có thể sử dụng các đặc tính động và các cư xử dễ dàng có thể ghi đè để triển khai các mã kiểm tra và đảm bảo rằng chương trình của bạn sẽ hoạt động như mong đợi. \n",
        "\n",
        "Bạn nên nghĩ về các đoạn tests như là một chính sách bảo hiểm cho code của bạn. Các đoạn mã kiểm tra tết giúp bạn tự tin hơn rằng code của bạn đúng. Nếu bạn cấu trúc lại hay mở rộng code của bạn, các tests giúp cho bạn dễ dàng nhận dạng các hành vi nào đã thay đổi. Điều nói trên nghe như phản trực giác, nhưng có các đoạn mã kiểm tra tốt làm cho bạn dễ dàng sửa đổi code của mình hơn, không phải khó hơn. \n",
        "\n",
        "Cách đơn giản nhất để viết các tests là sử dụng module có sẵn ```unittest```. Ví dụ bạn có hàm tiện ích sau"
      ]
    },
    {
      "cell_type": "code",
      "metadata": {
        "id": "Qlev64DwVPt9",
        "colab_type": "code",
        "colab": {}
      },
      "source": [
        "#utils.py\n",
        "def to_str(data):\n",
        "  if isinstance(data, str):\n",
        "    return data\n",
        "  elif isinstance(data, bytes):\n",
        "    return data.decode('utf-8')\n",
        "  else:\n",
        "    raise TypeError(\"Must supply str or bytes, found: %r\" %data)"
      ],
      "execution_count": 0,
      "outputs": []
    },
    {
      "cell_type": "markdown",
      "metadata": {
        "id": "Xfyq8kovrrV5",
        "colab_type": "text"
      },
      "source": [
        "Để định nghĩa các tests, tôi tạo một file thứ hai được đặt tên là ```test_utils.py``` hoặc ```utils_test.py``` chứa các tests cho mỗi hành vi tôi mong đợi"
      ]
    },
    {
      "cell_type": "code",
      "metadata": {
        "id": "PEXC7VYnrosD",
        "colab_type": "code",
        "colab": {}
      },
      "source": [
        "#utils_test.py\n",
        "from unittest import TestCase, main \n",
        "from utils import to_str \n",
        "\n",
        "class UtilsTestCase(TestCase):\n",
        "  def test_to_str_bytes(self):\n",
        "    self.assertEqual('hello', to_str(b\"hello\"))\n",
        "\n",
        "  def test_to_str_str(self):\n",
        "    self.assertEqual('hello', to_str(\"hello\"))\n",
        "\n",
        "  def test_to_str_bad(self):\n",
        "    self.assertRaises(TypeError, to_str, object())\n",
        "\n",
        "if __name__ == '__main__':\n",
        "  main()"
      ],
      "execution_count": 0,
      "outputs": []
    },
    {
      "cell_type": "code",
      "metadata": {
        "id": "BgwWcMyPtRUk",
        "colab_type": "code",
        "outputId": "0e1a640c-4e57-4cd1-b6d1-20bb6a66b252",
        "colab": {
          "base_uri": "https://localhost:8080/",
          "height": 102
        }
      },
      "source": [
        "!python utils_test.py"
      ],
      "execution_count": 0,
      "outputs": [
        {
          "output_type": "stream",
          "text": [
            "...\n",
            "----------------------------------------------------------------------\n",
            "Ran 3 tests in 0.001s\n",
            "\n",
            "OK\n"
          ],
          "name": "stdout"
        }
      ]
    },
    {
      "cell_type": "markdown",
      "metadata": {
        "id": "_zb24vdttcKS",
        "colab_type": "text"
      },
      "source": [
        "Các mã kiểm tra được tổ chức trong các lớp ```TestCase```. Mỗi test là một phương thức bắt đầu với từ ```test```. Nếu một phương thức test chạy mà không gây ra bất cứ kiểu ngoại lệ ```Exception``` (bao gồm cả ```AssertionError``` từ các câu ```assert```), khi đó mã kiểm tra được xem như là đã vượt qua thành công.\n",
        "\n",
        "Lớp ```TestCase``` cung cấp các hàm trợ giúp cho việc tạo ra các xác nhận hay quả quyết (assertition) trong các mã kiểm tra của bạn, ví dụ như ```assertEqual``` cho việc thẩm định sự bằng nhau, ```assertTrue``` cho việc thẩm định các biểu diễn Boolean, và ```assertRaises``` cho việc thẩm định các ngoại lệ được khởi lên khi hợp lý (xem ```help(TestCase)``` để có thêm thông tin). Bạn có thể định nghĩa các phương thức trợ giúp trong các lớp con của ```TestCase``` để làm cho đoạn mã kiểm tra của bạn dễ đọc hơn; chỉ đảm bảo rằng tên các phương thức của bạn không bắt đầu với từ ```test```.\n",
        "\n",
        "**Chú ý**: Một cách thức hay dùng trong thực tế đó là sử dụng các hàm mock và các lắp để lấy ra các hành vi cụ thể. Cho mục đích này, Python3 cung cấp module có sẵn ```unittest.mock```.  "
      ]
    },
    {
      "cell_type": "markdown",
      "metadata": {
        "id": "XBDSA8x7vhKB",
        "colab_type": "text"
      },
      "source": [
        "Thỉnh thoảng, các lớp ```TestCase``` cần được thiết lập môi trường kiểm tra trước khi thực hiện các phương thức kiểm tra. Để làm điều này, bạn cần ghi đè các phương thức ```setUp``` và ```tearDown```. Các phương thức này được gọi lần lượt trước và sau mỗi phương thức test, và chúng cho phép bạn đảm bảo rằng mỗi test chạy riêng biệt nhau (một điêu quan trọng khi thực hiện các mã test). Ví dụ, tôi định nghĩa một ```TestCase``` tạo ra một thư mục tạm thời trước mỗi mã kiểm tra và xoá đi các nội dụng của nó sau khi đã kiểm tra xong:"
      ]
    },
    {
      "cell_type": "code",
      "metadata": {
        "id": "JUVv_djTtVBr",
        "colab_type": "code",
        "outputId": "0dba1063-f31c-4c76-f240-d3807ad5bb12",
        "colab": {
          "base_uri": "https://localhost:8080/",
          "height": 232
        }
      },
      "source": [
        "class MyTest(TestCase):\n",
        "  def setUp(self):\n",
        "    self.test_dir = TemporaryDirectory()\n",
        "  \n",
        "  def tearDown(self):\n",
        "    self.test_dir.cleanup()"
      ],
      "execution_count": 0,
      "outputs": [
        {
          "output_type": "error",
          "ename": "NameError",
          "evalue": "ignored",
          "traceback": [
            "\u001b[0;31m---------------------------------------------------------------------------\u001b[0m",
            "\u001b[0;31mNameError\u001b[0m                                 Traceback (most recent call last)",
            "\u001b[0;32m<ipython-input-4-ece60f527d08>\u001b[0m in \u001b[0;36m<module>\u001b[0;34m()\u001b[0m\n\u001b[0;32m----> 1\u001b[0;31m \u001b[0;32mclass\u001b[0m \u001b[0mMyTest\u001b[0m\u001b[0;34m(\u001b[0m\u001b[0mTestCase\u001b[0m\u001b[0;34m)\u001b[0m\u001b[0;34m:\u001b[0m\u001b[0;34m\u001b[0m\u001b[0;34m\u001b[0m\u001b[0m\n\u001b[0m\u001b[1;32m      2\u001b[0m   \u001b[0;32mdef\u001b[0m \u001b[0msetUp\u001b[0m\u001b[0;34m(\u001b[0m\u001b[0mself\u001b[0m\u001b[0;34m)\u001b[0m\u001b[0;34m:\u001b[0m\u001b[0;34m\u001b[0m\u001b[0;34m\u001b[0m\u001b[0m\n\u001b[1;32m      3\u001b[0m     \u001b[0mself\u001b[0m\u001b[0;34m.\u001b[0m\u001b[0mtest_dir\u001b[0m \u001b[0;34m=\u001b[0m \u001b[0mTemporaryDirectory\u001b[0m\u001b[0;34m(\u001b[0m\u001b[0;34m)\u001b[0m\u001b[0;34m\u001b[0m\u001b[0;34m\u001b[0m\u001b[0m\n\u001b[1;32m      4\u001b[0m \u001b[0;34m\u001b[0m\u001b[0m\n\u001b[1;32m      5\u001b[0m   \u001b[0;32mdef\u001b[0m \u001b[0mtearDown\u001b[0m\u001b[0;34m(\u001b[0m\u001b[0mself\u001b[0m\u001b[0;34m)\u001b[0m\u001b[0;34m:\u001b[0m\u001b[0;34m\u001b[0m\u001b[0;34m\u001b[0m\u001b[0m\n",
            "\u001b[0;31mNameError\u001b[0m: name 'TestCase' is not defined"
          ]
        }
      ]
    },
    {
      "cell_type": "markdown",
      "metadata": {
        "id": "6lf0JKkewnkm",
        "colab_type": "text"
      },
      "source": [
        "Tôi thường định nghĩa một ```TestCase``` cho mỗi tập hợp các tests liên quan. Thỉnh thoảng tôi có một ```TestCase``` cho mỗi hàm mà có nhiều trường hợp sử dụng khác nhau. Những lần khác, một ```TestCase``` dàn tất cả các hàm trong một module riêng lẻ. Tôi cũng tạo một ```TestCase``` cho việc kiểm tra một lớp đơn và tất cả các phương thức của nó. \n",
        "\n",
        "Khi các chương trình trở nên phức tạp, bạn sẽ muốn có thêm các mã tests để thẩm định việc tương tác giữa các modules của bạn, thay vì việc chỉ kiểm tra mã biệt lập. Đó là sự khác biệt giữa các kiểm tra đơn vị (unit tests) và kiểm tra tích hợp (integration tests). Trong Python, hai kiểu tests trên đều quan trọng cho đúng một lý do: Bạn không lấy gì là đảm bảo các moduels của bạn sẽ thực sự hoạt động cùng nhau cho đến khi bạn chứng minh nó. \n",
        "\n",
        "**Chú ý**\n",
        "Phụ thuộc vào dự án của bạn, có thể hữu dụng để định nghĩa các mã kiểm tra hướng dữ liệu (data-driven tests) hay tổ chức các mã kiểm tra thành các phần khác nhau cho các tính năng liên quan. Phục vụ cho các mục đích này, các báo cáo liên quan tới bao phủ code, và các trường hợp nâng cao, ```nose``` (https://nose.readthedocs.io/en/latest/) và ```pytest``` (http://pytest.org/en/latest/) có thể đặc biệt hữu ích. "
      ]
    },
    {
      "cell_type": "markdown",
      "metadata": {
        "id": "xNBE0IfXyacb",
        "colab_type": "text"
      },
      "source": [
        "### Những điểu cần nhớ\n",
        "\n",
        "\n",
        "*  Cách duy nhất để có được sự tin tưởng trong chương trình Python của bạn là viết các mã kiểm tra\n",
        "*  Module có sẵn ```unittest``` cung cấp các tính năng bạn sẽ cần để viết các mã kiểm tra tốt\n",
        "* Bạn có thể định nghĩa các mã kiểm tra thông qua việc tạo ra các lớp con của ```TestCase``` và định nghĩa một phương thức cho mỗi hành vị bạn muốn kiểm tra. Các phương thức kiểm tra của các lớp ```TestCase``` phải bắt đầu với từ ```test```.\n",
        "* Viết cả mã kiểm tra đơn vị cho các tính năng riêng biệt và các mã kiểm tra tích hợp cho các modules giao tiếp với nhau đều quan trọng. \n",
        "\n"
      ]
    },
    {
      "cell_type": "markdown",
      "metadata": {
        "id": "5stpfptO7mLY",
        "colab_type": "text"
      },
      "source": [
        "## Thực hiện debug tương tác với ```pdb```\n",
        "\n",
        "Mọi người đều gặp phải các bugs trong các đoạn mã của mình khi phát triển các chương trình. Sử dụng hàm ```print``` có thể giúp tìm ra nguồn cơn của nhiều vấn đề. Viết các đoạn tests cho các trường hợp cụ thể là một cách tốt để cách ly các vấn đề. Nhưng các công cụ này là không đủ để tìm ra nguyên nhân gốc (root cause), đây là lúc ta cần thử các debugger tương tác (interactive debugger). Debugger cho phép bạn quan sát trạng thái của chương trình, in ra các biến nội bộ và đi từng bước qua chương trình của mình, mỗi lần với một câu lệnh. \n",
        "\n",
        "Trong hầu hết các ngôn ngữ lập trình, bạn sử dụng một debugger bằng cách chỉ định một dòng trong file code nguồn bạn muốn dừng lại, và sau đó thực thi chương trình. Ngược lại trong Python, cách dễ nhất để sử dụng debugger là thay đổi chương trình của bạn trực tiếp để khởi tạo debugger trước khi bạn nghĩa rằng mình sẽ có một vấn đề để tìm hiểm. Không có sự khác biệt giữa chạy một chương trình Python dưới một debugger và chạy nó bình thường. \n",
        "\n",
        "Để khởi chạy debugger, tất cả điều bạn phải làm là import module có sẵn ```pdb``` và chạy hàm ```set_trace```. Bạn sẽ thường thấy những câu lệnh này được gộp trong một dòng, như vậy các lập trình viên có thể comment nó đi với chỉ một kí tự ```#```."
      ]
    },
    {
      "cell_type": "code",
      "metadata": {
        "id": "PyXeBd5-wfQD",
        "colab_type": "code",
        "colab": {}
      },
      "source": [
        "def complex_func(a, b, c):\n",
        "  # ...\n",
        "  import pdb; pdb.set_trace()"
      ],
      "execution_count": 0,
      "outputs": []
    },
    {
      "cell_type": "markdown",
      "metadata": {
        "id": "6Vf2OP1RAjSB",
        "colab_type": "text"
      },
      "source": [
        "Khi dòng lệnh này chạy, chương trình sẽ ngưng thực thi. Cửa sổ dòng lệnh (terminal) sẽ chuyển sang shell tương tác"
      ]
    },
    {
      "cell_type": "code",
      "metadata": {
        "id": "gtwIkR7FAiLt",
        "colab_type": "code",
        "outputId": "32d805aa-4689-419c-bcc1-69064f254b52",
        "colab": {
          "base_uri": "https://localhost:8080/",
          "height": 375
        }
      },
      "source": [
        "complex_func(1, 2, 3)"
      ],
      "execution_count": 0,
      "outputs": [
        {
          "output_type": "stream",
          "text": [
            "--Return--\n",
            "> <ipython-input-3-6f8809c935ef>(3)complex_func()->None\n",
            "-> import pdb; pdb.set_trace()\n",
            "(Pdb) quit()\n"
          ],
          "name": "stdout"
        },
        {
          "output_type": "error",
          "ename": "BdbQuit",
          "evalue": "ignored",
          "traceback": [
            "\u001b[0;31m---------------------------------------------------------------------------\u001b[0m",
            "\u001b[0;31mBdbQuit\u001b[0m                                   Traceback (most recent call last)",
            "\u001b[0;32m<ipython-input-4-ab87632df1ce>\u001b[0m in \u001b[0;36m<module>\u001b[0;34m()\u001b[0m\n\u001b[0;32m----> 1\u001b[0;31m \u001b[0mcomplex_func\u001b[0m\u001b[0;34m(\u001b[0m\u001b[0;36m1\u001b[0m\u001b[0;34m,\u001b[0m \u001b[0;36m2\u001b[0m\u001b[0;34m,\u001b[0m \u001b[0;36m3\u001b[0m\u001b[0;34m)\u001b[0m\u001b[0;34m\u001b[0m\u001b[0;34m\u001b[0m\u001b[0m\n\u001b[0m",
            "\u001b[0;32m<ipython-input-3-6f8809c935ef>\u001b[0m in \u001b[0;36mcomplex_func\u001b[0;34m(a, b, c)\u001b[0m\n\u001b[1;32m      1\u001b[0m \u001b[0;32mdef\u001b[0m \u001b[0mcomplex_func\u001b[0m\u001b[0;34m(\u001b[0m\u001b[0ma\u001b[0m\u001b[0;34m,\u001b[0m \u001b[0mb\u001b[0m\u001b[0;34m,\u001b[0m \u001b[0mc\u001b[0m\u001b[0;34m)\u001b[0m\u001b[0;34m:\u001b[0m\u001b[0;34m\u001b[0m\u001b[0;34m\u001b[0m\u001b[0m\n\u001b[1;32m      2\u001b[0m   \u001b[0;31m# ...\u001b[0m\u001b[0;34m\u001b[0m\u001b[0;34m\u001b[0m\u001b[0;34m\u001b[0m\u001b[0m\n\u001b[0;32m----> 3\u001b[0;31m   \u001b[0;32mimport\u001b[0m \u001b[0mpdb\u001b[0m\u001b[0;34m;\u001b[0m \u001b[0mpdb\u001b[0m\u001b[0;34m.\u001b[0m\u001b[0mset_trace\u001b[0m\u001b[0;34m(\u001b[0m\u001b[0;34m)\u001b[0m\u001b[0;34m\u001b[0m\u001b[0;34m\u001b[0m\u001b[0m\n\u001b[0m",
            "\u001b[0;32m/usr/lib/python3.6/bdb.py\u001b[0m in \u001b[0;36mtrace_dispatch\u001b[0;34m(self, frame, event, arg)\u001b[0m\n\u001b[1;32m     53\u001b[0m             \u001b[0;32mreturn\u001b[0m \u001b[0mself\u001b[0m\u001b[0;34m.\u001b[0m\u001b[0mdispatch_call\u001b[0m\u001b[0;34m(\u001b[0m\u001b[0mframe\u001b[0m\u001b[0;34m,\u001b[0m \u001b[0marg\u001b[0m\u001b[0;34m)\u001b[0m\u001b[0;34m\u001b[0m\u001b[0;34m\u001b[0m\u001b[0m\n\u001b[1;32m     54\u001b[0m         \u001b[0;32mif\u001b[0m \u001b[0mevent\u001b[0m \u001b[0;34m==\u001b[0m \u001b[0;34m'return'\u001b[0m\u001b[0;34m:\u001b[0m\u001b[0;34m\u001b[0m\u001b[0;34m\u001b[0m\u001b[0m\n\u001b[0;32m---> 55\u001b[0;31m             \u001b[0;32mreturn\u001b[0m \u001b[0mself\u001b[0m\u001b[0;34m.\u001b[0m\u001b[0mdispatch_return\u001b[0m\u001b[0;34m(\u001b[0m\u001b[0mframe\u001b[0m\u001b[0;34m,\u001b[0m \u001b[0marg\u001b[0m\u001b[0;34m)\u001b[0m\u001b[0;34m\u001b[0m\u001b[0;34m\u001b[0m\u001b[0m\n\u001b[0m\u001b[1;32m     56\u001b[0m         \u001b[0;32mif\u001b[0m \u001b[0mevent\u001b[0m \u001b[0;34m==\u001b[0m \u001b[0;34m'exception'\u001b[0m\u001b[0;34m:\u001b[0m\u001b[0;34m\u001b[0m\u001b[0;34m\u001b[0m\u001b[0m\n\u001b[1;32m     57\u001b[0m             \u001b[0;32mreturn\u001b[0m \u001b[0mself\u001b[0m\u001b[0;34m.\u001b[0m\u001b[0mdispatch_exception\u001b[0m\u001b[0;34m(\u001b[0m\u001b[0mframe\u001b[0m\u001b[0;34m,\u001b[0m \u001b[0marg\u001b[0m\u001b[0;34m)\u001b[0m\u001b[0;34m\u001b[0m\u001b[0;34m\u001b[0m\u001b[0m\n",
            "\u001b[0;32m/usr/lib/python3.6/bdb.py\u001b[0m in \u001b[0;36mdispatch_return\u001b[0;34m(self, frame, arg)\u001b[0m\n\u001b[1;32m     97\u001b[0m             \u001b[0;32mfinally\u001b[0m\u001b[0;34m:\u001b[0m\u001b[0;34m\u001b[0m\u001b[0;34m\u001b[0m\u001b[0m\n\u001b[1;32m     98\u001b[0m                 \u001b[0mself\u001b[0m\u001b[0;34m.\u001b[0m\u001b[0mframe_returning\u001b[0m \u001b[0;34m=\u001b[0m \u001b[0;32mNone\u001b[0m\u001b[0;34m\u001b[0m\u001b[0;34m\u001b[0m\u001b[0m\n\u001b[0;32m---> 99\u001b[0;31m             \u001b[0;32mif\u001b[0m \u001b[0mself\u001b[0m\u001b[0;34m.\u001b[0m\u001b[0mquitting\u001b[0m\u001b[0;34m:\u001b[0m \u001b[0;32mraise\u001b[0m \u001b[0mBdbQuit\u001b[0m\u001b[0;34m\u001b[0m\u001b[0;34m\u001b[0m\u001b[0m\n\u001b[0m\u001b[1;32m    100\u001b[0m             \u001b[0;31m# The user issued a 'next' or 'until' command.\u001b[0m\u001b[0;34m\u001b[0m\u001b[0;34m\u001b[0m\u001b[0;34m\u001b[0m\u001b[0m\n\u001b[1;32m    101\u001b[0m             \u001b[0;32mif\u001b[0m \u001b[0mself\u001b[0m\u001b[0;34m.\u001b[0m\u001b[0mstopframe\u001b[0m \u001b[0;32mis\u001b[0m \u001b[0mframe\u001b[0m \u001b[0;32mand\u001b[0m \u001b[0mself\u001b[0m\u001b[0;34m.\u001b[0m\u001b[0mstoplineno\u001b[0m \u001b[0;34m!=\u001b[0m \u001b[0;34m-\u001b[0m\u001b[0;36m1\u001b[0m\u001b[0;34m:\u001b[0m\u001b[0;34m\u001b[0m\u001b[0;34m\u001b[0m\u001b[0m\n",
            "\u001b[0;31mBdbQuit\u001b[0m: "
          ]
        }
      ]
    },
    {
      "cell_type": "markdown",
      "metadata": {
        "id": "2pXkemdTBAQl",
        "colab_type": "text"
      },
      "source": [
        "Tại dấu nhắc ```(Pdb)```, bạn có thể gõ tên các biến nội bộ để xem giá trị của chúng. Bạn có thể nhìn thấy một danh sách các biến nội bộ thông qua việc gọi hàm có sẵn ```locals```. Bạn có thể import các modules, tìm biết trạng thái toàn cục, xây dựng các đối tượng mới, chạy hàm có sẵn ```help```, và thậm chí thay đổi các phần của một chương trình - bất cứ thứ gì bạn cần để trợ giúp cho việc debug. Ngoài ra debugger còn có ba câu lệnh giúp cho việc tìm biết chương trình đang chạy dễ dàng hơn.\n",
        "\n",
        "\n",
        "\n",
        "*   ```bt```: In ra traceback của ngăn xếp lời gọi (call stack) của thực thi hiện hành. Câu lệnh này giúp bạn biết được bạn đang ở đâu trong chương trình của bạn và làm thế nào bạn đi tới được điểm kích hoạt (trigger point) ```pdb.set_trace```\n",
        "*   ```up```: di chuyển scope của hàm hiện hành tới hàm gọi của nó. Lệnh này cho phép bạn tìm biết các biến nội bộ ở mức cao hơn của ngăn xếp lời gọi.\n",
        "* ```down```: di chuyển phạm vi của hàm hiện hành xuống ngăn xếp lời gọi ở mức độ thấy hơn\n",
        "\n",
        "Mỗi khi bạn hoàn thành việc tìm biết trạng thái hiện hành, bạn có thể sử dụng các câu lệnh của debugger để khôi phục lại thực thi của chương trình dưới sự điều khiển chính xác\n",
        "\n",
        "* ```step```: Chạy chương trình cho đến khi dòng tiếp theo được thưucj thi, sau đó trả quyền điều khiển ngược lại cho debugger. Nếu dòng thực thi tiếp theo bao gồm một hàm, debugger sẽ dừng tại hàm được gọi.\n",
        "\n",
        "* ```next```: Chạy chương trình cho đến khi dòng lệnh thực thi tiếp theo của hàm hiện hành, sau đó trả quyền điều khiển ngược lại cho debugger. Nếu dòng thực thi tiếp theo là một lời gọi hàm, debugger sẽ không dừng lại cho đến khi hàm được gọi trả về. \n",
        "* ```return```: Chạy chương trình cho đến khi hàm hiện hành trả về, sau đó gửi quyền điều khiển ngược lại cho debugger. \n",
        "\n",
        "* ```continue```: Tiếp tục chạy chương trình đó đến khi gặp điểm ngắt (breakpoint) tiếp theo (hoặc khi ```set_trace``` được gọi một lần nữa)\n"
      ]
    },
    {
      "cell_type": "markdown",
      "metadata": {
        "id": "daenxSI9Bdb6",
        "colab_type": "text"
      },
      "source": [
        ""
      ]
    },
    {
      "cell_type": "code",
      "metadata": {
        "id": "jAJgrPllBUva",
        "colab_type": "code",
        "colab": {}
      },
      "source": [
        "def inside_fn():\n",
        "  print(\"Inside function\")\n",
        "  \n",
        "def sum_two(a, b):\n",
        "  import pdb; pdb.set_trace()\n",
        "  c = a + b\n",
        "  inside_fn()\n",
        "  import pdb; pdb.set_trace()\n",
        "  return c"
      ],
      "execution_count": 0,
      "outputs": []
    },
    {
      "cell_type": "markdown",
      "metadata": {
        "id": "pXTc3BZrTFC8",
        "colab_type": "text"
      },
      "source": [
        "### Những điều cần nhớ\n",
        "\n",
        "\n",
        "*   Bạn có thể khởi tạo một debugger tương tác tại một thời điểm bằng cách thêm trực tiếp các dòng lệnh ```import pdb; pdb.set_trace()```.\n",
        "* Các dấu nhắc (prompt) của debugger là một shell toàn diện cho phép bạn tìm biết và thay đổi trạng thái của một chương trình đang chạy\n",
        "*   Các lệnh shell ```pdb``` cho phép bạn điều khiển chính xác thực thi của chương trình, cho phép bạn tìm biết trạng thái của chương trình và luồng thực thi. \n",
        "\n",
        "\n"
      ]
    },
    {
      "cell_type": "markdown",
      "metadata": {
        "id": "tfTZ_yBjrNv_",
        "colab_type": "text"
      },
      "source": [
        "## Profile trước khi tối ưu\n",
        "Đặc tính động của Python tạo ra các cư xử gây nạc nhiên tại runtime. Các hoạt động mà bạn có thể giả định là chậm thực ra là rất nhanh (thao tác với chuỗi, các generators). Các đặc tính ngôn ngữ bạn có thể giả định là nhanh nhanh thực ra lại chậm (truy cập vào thuộc tính, các lời gọi hàm). Nguyên nhân thực sự của việc chậm chạp này có thể bị che đi. \n",
        "\n",
        "Cách tiếp cận tốt nhất là lờ đi trực giác của bạn và trực tiếp đo lường hiệu năng của chương trình trước khi bạn cố gắng tối ưu hoá nó. Pyhton cung cấp một profiler có sẵn cho việc xác định phần nào của một chương trình chịu trách nhiệm cho thời gian thực thi. Điều này cho phép bạn tập trung vào các nỗ lực tối ưu hoá vào các phần gặp rắc rối lớn nhất và lờ đi các phần của chương trình mà không ảnh hưởng tới tốc độ. \n",
        "\n",
        "Ví dụ, bạn muốn xác định tại sao một giải thuật trong chương trình của bạn là chậm. Ở đây, tôi định nghĩa một hàm sắp xếp một danh sách dữ liệu sử dụng một sắp xếp chèn (insertion sort)"
      ]
    },
    {
      "cell_type": "code",
      "metadata": {
        "id": "0yr-PVMIS9Qu",
        "colab_type": "code",
        "colab": {}
      },
      "source": [
        "def insertion_sort(data):\n",
        "  result = []\n",
        "  for value in data:\n",
        "    insert_value(result, value)\n",
        "  return result"
      ],
      "execution_count": 0,
      "outputs": []
    },
    {
      "cell_type": "markdown",
      "metadata": {
        "id": "X6qMJJvnB6IN",
        "colab_type": "text"
      },
      "source": [
        "Cơ chế cốt lỗi của sắp xếp chèn đó là ở hàm tìm ra điểm chèn cho mỗi mảnh dữ liệu. Ở đây, tôi định nghĩa phiên bản không hiệu quả của hàm ```insert_value``` thực hiện việc quét tuyến tính qua mảng đầu vào"
      ]
    },
    {
      "cell_type": "code",
      "metadata": {
        "id": "vyFg7FguB33a",
        "colab_type": "code",
        "colab": {}
      },
      "source": [
        "def insert_value(array, value):\n",
        "  for i, existing in enumerate(array):\n",
        "    if existing > value:\n",
        "      array.insert(i, value)\n",
        "      return\n",
        "    array.append(value)\n",
        "      "
      ],
      "execution_count": 0,
      "outputs": []
    },
    {
      "cell_type": "markdown",
      "metadata": {
        "id": "WqKcKNrkNT-a",
        "colab_type": "text"
      },
      "source": [
        "Để profile ```insertion_sort``` và ```insert_value```, tôi tạo một tập dữ liệu các số ngẫu nghiên và định nghĩa một hàm ```test``` để truyền tới profiler."
      ]
    },
    {
      "cell_type": "code",
      "metadata": {
        "id": "UajmYX7dNkHJ",
        "colab_type": "code",
        "colab": {}
      },
      "source": [
        "from random import randint\n",
        "\n",
        "max_size = 10**4\n",
        "data = [randint(0, max_size) for _ in range(max_size)]\n",
        "test = lambda: insertion_sort(data)"
      ],
      "execution_count": 0,
      "outputs": []
    },
    {
      "cell_type": "code",
      "metadata": {
        "id": "l9WNnl55N38d",
        "colab_type": "code",
        "colab": {}
      },
      "source": [
        "data"
      ],
      "execution_count": 0,
      "outputs": []
    },
    {
      "cell_type": "markdown",
      "metadata": {
        "id": "SUesH710OBMu",
        "colab_type": "text"
      },
      "source": [
        "Python cung cấp hai profilers có sẵn, một là bản nguyên thuỷ (```profile```) và cái còn lại là module C-mở rộng (```cProfile```). Module có sẵn ```cProfile``` tốt hơn là bởi vì hiệu ứng của nó nhỏ nhất đối với hiệu năng của chương trình khi chương trình được profile. Lựa chọn profiler nguyên thuỷ tạo ra các chi phí cao sẽ làm lệch đi kết quả.\n",
        "\n",
        "**Chú ý**\n",
        "Khi profile một chương trình Python, đảm bảo rằng bạn đang đo lường chính phần code và không phải các hệ thống bên ngoài. Biết rằng các hàm truy cập tới mạng hay tài nguyên trên đĩa. Những điều này có thể gây ra các tác động lớn cho thời thực thi của chương trình bởi vì sự chậm chạp của các hệ thống bên dưới. Nếu chương trình của bạn sử dụng cache để che đi độ trễ của các tài nguyên chậm như vậy, bạn nên đảm bảo rằng nó sẽ được \"làm ấm\" lên trước khi bạn bắt đầu profile."
      ]
    },
    {
      "cell_type": "markdown",
      "metadata": {
        "id": "tuwtF0AYPewh",
        "colab_type": "text"
      },
      "source": [
        "Ở đây, tôi khởi tạo một đối tượng ```Profile``` từ module ```cProfile``` và chạy hàm ```test``` thông qua nó sử dụng phương thức ```runcall```"
      ]
    },
    {
      "cell_type": "code",
      "metadata": {
        "id": "dE0XgMi1N6Ir",
        "colab_type": "code",
        "colab": {}
      },
      "source": [
        "\n",
        "import cProfile\n",
        "import re"
      ],
      "execution_count": 0,
      "outputs": []
    },
    {
      "cell_type": "code",
      "metadata": {
        "id": "uk63dGgrP7U8",
        "colab_type": "code",
        "outputId": "911655c6-476f-4cb7-a6dc-4c19108429e1",
        "colab": {
          "base_uri": "https://localhost:8080/",
          "height": 850
        }
      },
      "source": [
        "cProfile.run('re.compile(\"foo|bar\")')"
      ],
      "execution_count": 0,
      "outputs": [
        {
          "output_type": "stream",
          "text": [
            "         199 function calls (194 primitive calls) in 0.000 seconds\n",
            "\n",
            "   Ordered by: standard name\n",
            "\n",
            "   ncalls  tottime  percall  cumtime  percall filename:lineno(function)\n",
            "        1    0.000    0.000    0.000    0.000 <string>:1(<module>)\n",
            "        4    0.000    0.000    0.000    0.000 enum.py:267(__call__)\n",
            "        4    0.000    0.000    0.000    0.000 enum.py:517(__new__)\n",
            "        2    0.000    0.000    0.000    0.000 enum.py:803(__and__)\n",
            "        1    0.000    0.000    0.000    0.000 re.py:231(compile)\n",
            "        1    0.000    0.000    0.000    0.000 re.py:286(_compile)\n",
            "        1    0.000    0.000    0.000    0.000 sre_compile.py:223(_compile_charset)\n",
            "        1    0.000    0.000    0.000    0.000 sre_compile.py:250(_optimize_charset)\n",
            "        1    0.000    0.000    0.000    0.000 sre_compile.py:414(_get_literal_prefix)\n",
            "        1    0.000    0.000    0.000    0.000 sre_compile.py:441(_get_charset_prefix)\n",
            "        1    0.000    0.000    0.000    0.000 sre_compile.py:482(_compile_info)\n",
            "        2    0.000    0.000    0.000    0.000 sre_compile.py:539(isstring)\n",
            "        1    0.000    0.000    0.000    0.000 sre_compile.py:542(_code)\n",
            "        1    0.000    0.000    0.000    0.000 sre_compile.py:557(compile)\n",
            "      3/1    0.000    0.000    0.000    0.000 sre_compile.py:64(_compile)\n",
            "        3    0.000    0.000    0.000    0.000 sre_parse.py:111(__init__)\n",
            "        5    0.000    0.000    0.000    0.000 sre_parse.py:159(__len__)\n",
            "       12    0.000    0.000    0.000    0.000 sre_parse.py:163(__getitem__)\n",
            "        7    0.000    0.000    0.000    0.000 sre_parse.py:171(append)\n",
            "      3/1    0.000    0.000    0.000    0.000 sre_parse.py:173(getwidth)\n",
            "        1    0.000    0.000    0.000    0.000 sre_parse.py:223(__init__)\n",
            "        8    0.000    0.000    0.000    0.000 sre_parse.py:232(__next)\n",
            "        2    0.000    0.000    0.000    0.000 sre_parse.py:248(match)\n",
            "        6    0.000    0.000    0.000    0.000 sre_parse.py:253(get)\n",
            "        1    0.000    0.000    0.000    0.000 sre_parse.py:285(tell)\n",
            "        1    0.000    0.000    0.000    0.000 sre_parse.py:407(_parse_sub)\n",
            "        2    0.000    0.000    0.000    0.000 sre_parse.py:470(_parse)\n",
            "        1    0.000    0.000    0.000    0.000 sre_parse.py:76(__init__)\n",
            "        2    0.000    0.000    0.000    0.000 sre_parse.py:81(groups)\n",
            "        1    0.000    0.000    0.000    0.000 sre_parse.py:828(fix_flags)\n",
            "        1    0.000    0.000    0.000    0.000 sre_parse.py:844(parse)\n",
            "        1    0.000    0.000    0.000    0.000 {built-in method _sre.compile}\n",
            "        1    0.000    0.000    0.000    0.000 {built-in method builtins.exec}\n",
            "       19    0.000    0.000    0.000    0.000 {built-in method builtins.isinstance}\n",
            "    25/24    0.000    0.000    0.000    0.000 {built-in method builtins.len}\n",
            "        2    0.000    0.000    0.000    0.000 {built-in method builtins.max}\n",
            "        9    0.000    0.000    0.000    0.000 {built-in method builtins.min}\n",
            "        6    0.000    0.000    0.000    0.000 {built-in method builtins.ord}\n",
            "       48    0.000    0.000    0.000    0.000 {method 'append' of 'list' objects}\n",
            "        1    0.000    0.000    0.000    0.000 {method 'disable' of '_lsprof.Profiler' objects}\n",
            "        5    0.000    0.000    0.000    0.000 {method 'find' of 'bytearray' objects}\n",
            "        1    0.000    0.000    0.000    0.000 {method 'items' of 'dict' objects}\n",
            "\n",
            "\n"
          ],
          "name": "stdout"
        }
      ]
    },
    {
      "cell_type": "markdown",
      "metadata": {
        "id": "MwojfwliSoZE",
        "colab_type": "text"
      },
      "source": [
        "Bạn có thể lấy "
      ]
    },
    {
      "cell_type": "code",
      "metadata": {
        "id": "mJ0_tsTsQnbU",
        "colab_type": "code",
        "colab": {}
      },
      "source": [
        ""
      ],
      "execution_count": 0,
      "outputs": []
    },
    {
      "cell_type": "markdown",
      "metadata": {
        "id": "W3DmSJSeO__4",
        "colab_type": "text"
      },
      "source": [
        "## Biết cách phá vỡ các phụ thuộc xoay vòng.\n",
        "\n",
        "Điều không thể tránh được đó là khi bạn đang hợp tác với những người khác, bạn sẽ tìm ra một phụ thuộc chung giữa các modules. Nó có thể xảy ra khi bạn làm việc một mình trên nhiều phần khác nhau của một chương trình. \n",
        "\n",
        "Ví dụ, bạn muốn chương trình có giao diện của bạn hiển thị một hộp hội thoại cho việc chọn nơi để lưu một tài liệu. Dữ liệu được hiển thi bởi hộp hội thoại này có thể được chỉ định bởi các tham số truyền cho các mã xử lý sự kiện của bạn. Nhưng hộp hội thoại này cũng cần độc trạng thái toàn cục, như sở thích của người dùng, để biết cách xử lý hợp lý. \n",
        "\n",
        "Ở đây, tôi định nghĩa một hộp hội thoại để lấy ra vị trí lưu tài liệu mặc định từ các sở thích toàn cục:"
      ]
    },
    {
      "cell_type": "code",
      "metadata": {
        "id": "4Vy1ny6lP8ez",
        "colab_type": "code",
        "outputId": "73201495-333d-4bf1-c6d1-260cdec11022",
        "colab": {
          "base_uri": "https://localhost:8080/",
          "height": 252
        }
      },
      "source": [
        "# dialog.py\n",
        "import app\n",
        "class Dialog(object):\n",
        "  def __init__(self, save_dir):\n",
        "    self.save_dir = save_dir\n",
        "save_diaglog = Dialog(app.pres.get('save_dir'))\n",
        "\n",
        "def show():\n",
        "  pass"
      ],
      "execution_count": 0,
      "outputs": [
        {
          "output_type": "error",
          "ename": "NameError",
          "evalue": "ignored",
          "traceback": [
            "\u001b[0;31m---------------------------------------------------------------------------\u001b[0m",
            "\u001b[0;31mNameError\u001b[0m                                 Traceback (most recent call last)",
            "\u001b[0;32m<ipython-input-1-f32c6e77ecd7>\u001b[0m in \u001b[0;36m<module>\u001b[0;34m()\u001b[0m\n\u001b[1;32m      3\u001b[0m   \u001b[0;32mdef\u001b[0m \u001b[0m__init__\u001b[0m\u001b[0;34m(\u001b[0m\u001b[0mself\u001b[0m\u001b[0;34m,\u001b[0m \u001b[0msave_dir\u001b[0m\u001b[0;34m)\u001b[0m\u001b[0;34m:\u001b[0m\u001b[0;34m\u001b[0m\u001b[0;34m\u001b[0m\u001b[0m\n\u001b[1;32m      4\u001b[0m     \u001b[0mself\u001b[0m\u001b[0;34m.\u001b[0m\u001b[0msave_dir\u001b[0m \u001b[0;34m=\u001b[0m \u001b[0msave_dir\u001b[0m\u001b[0;34m\u001b[0m\u001b[0;34m\u001b[0m\u001b[0m\n\u001b[0;32m----> 5\u001b[0;31m \u001b[0msave_diaglog\u001b[0m \u001b[0;34m=\u001b[0m \u001b[0mDialog\u001b[0m\u001b[0;34m(\u001b[0m\u001b[0mapp\u001b[0m\u001b[0;34m.\u001b[0m\u001b[0mpres\u001b[0m\u001b[0;34m.\u001b[0m\u001b[0mget\u001b[0m\u001b[0;34m(\u001b[0m\u001b[0;34m'save_dir'\u001b[0m\u001b[0;34m)\u001b[0m\u001b[0;34m)\u001b[0m\u001b[0;34m\u001b[0m\u001b[0;34m\u001b[0m\u001b[0m\n\u001b[0m\u001b[1;32m      6\u001b[0m \u001b[0;34m\u001b[0m\u001b[0m\n\u001b[1;32m      7\u001b[0m \u001b[0;32mdef\u001b[0m \u001b[0mshow\u001b[0m\u001b[0;34m(\u001b[0m\u001b[0;34m)\u001b[0m\u001b[0;34m:\u001b[0m\u001b[0;34m\u001b[0m\u001b[0;34m\u001b[0m\u001b[0m\n",
            "\u001b[0;31mNameError\u001b[0m: name 'app' is not defined"
          ]
        }
      ]
    },
    {
      "cell_type": "markdown",
      "metadata": {
        "id": "0lMSbrnHQWth",
        "colab_type": "text"
      },
      "source": [
        "Vấn đề đó là module ```app``` chứa đối tượng ```prefs``` cũng import lớp ```dialog``` để hiển thị dialog khi chương trình bắt đầu"
      ]
    },
    {
      "cell_type": "code",
      "metadata": {
        "id": "eaIm0r3pQVWu",
        "colab_type": "code",
        "colab": {}
      },
      "source": [
        "# app.py\n",
        "import dialog\n",
        "\n",
        "class Prefs(object):\n",
        "  #\n",
        "  def get(self, name):\n",
        "    pass\n",
        "\n",
        "prefs = Prefs()\n",
        "dialog.show()"
      ],
      "execution_count": 0,
      "outputs": []
    },
    {
      "cell_type": "code",
      "metadata": {
        "id": "EbGu1WqmRJGd",
        "colab_type": "code",
        "outputId": "f3378d09-5814-4034-eb5a-196e5944e820",
        "colab": {
          "base_uri": "https://localhost:8080/",
          "height": 153
        }
      },
      "source": [
        "!python dialog.py"
      ],
      "execution_count": 0,
      "outputs": [
        {
          "output_type": "stream",
          "text": [
            "Traceback (most recent call last):\n",
            "  File \"dialog.py\", line 2, in <module>\n",
            "    import app\n",
            "  File \"/content/app.py\", line 1, in <module>\n",
            "    import dialog\n",
            "  File \"/content/dialog.py\", line 6, in <module>\n",
            "    save_diaglog = Dialog(app.pres.get('save_dir'))\n",
            "AttributeError: module 'app' has no attribute 'pres'\n"
          ],
          "name": "stdout"
        }
      ]
    },
    {
      "cell_type": "markdown",
      "metadata": {
        "id": "n641wcyuRXlQ",
        "colab_type": "text"
      },
      "source": [
        "Đây là một phụ thuộc xoay vòng. Nếu bạn thử sử dụng module ```app``` từ chương trình chính của bạn, bạn sẽ gặp một ngoại lệ khi bạn import nó. \n",
        "\n",
        "Để hiểu rằng điều gì đang xảy ra ở đây, bạn cần biết chi tiết  cơ chế import của Python. Khi một module được import Python sẽ thực hiện các hành động sau:\n",
        "\n",
        "\n",
        "1.   Tìm kiếm module của bạn trong các vị trí từ ```sys.path```\n",
        "2.   Nạp code từ module tìm thấy và đảm bảo rằng nó được biên dịch.\n",
        "3. Tạo một đối tượng module rỗng tương ứng. \n",
        "4. Chèn module này vào ```sys.modules```\n",
        "5. Chạy code trong đối tượng module để định nghĩa các nội dung của nó. \n",
        "\n",
        "Vấn đề đối với việc phụ thuộc xoay vòng đó là các thuộc tính của một module không được định nghĩa cho đến khi code của thuộc tính đó được thực thi (sau bước #5). Nhưng module có thể được nạp với câu lệnh ```import``` lập tức sau khi nó được trèn vào trong ```sys.modules``` (sau bước #4)\n",
        "\n",
        "Trong ví dụ trên, module ```app``` import module ```diaglog``` trước khi định nghĩa bất cứ thứ gì. Sau đó, module ```dialog``` import ```app```. Bởi vì ```app``` vẫn chứa được thực thi xong - nó đang import ```dialog``` - Module ```app``` chỉ là một shell rỗng (từ bước #4). Ngoại lệ ```AtrributeError``` được khởi lên (trong bước #5 cho ```dialog```) bởi vì code định nghĩa ```prefs``` chưa được chạy (bước #5 cho ```app``` chưa được hoàn thành)\n",
        "\n",
        "Giải pháp tốt nhất cho vấn đề này đó là cấu trúc lại code của bạn vì vậy cấu trúc dữ liệu ```prefs``` nằm ở cuối cây phụ thuộc. Khi đó, cả ```app``` và ```diaglog``` có thể import cùng một module tiện ích và tránh bất cứ phụ thuộc xoay vòng nào. Nhưng cách làm này không luôn luôn có thể thực hiện được hoặc yêu cầu rất nhiều nỗ lực cấu trúc. \n",
        "\n",
        "Có ba cách khác để phá vỡ các phụ thuộc xoay vòng.\n",
        "\n"
      ]
    },
    {
      "cell_type": "markdown",
      "metadata": {
        "id": "DhGKNwfPT4fQ",
        "colab_type": "text"
      },
      "source": [
        "### Xắp sếp lại các imports\n",
        "\n",
        "Cách giải quyết đầu tiên là thay đổi thứ tự các imports. Ví dụ, bạn muốn import module ```dialog``` vào cuối của module ```app```, sau khi các nội dung của nó đã được chạy và loại bỏ đi ```AttibuteError```. "
      ]
    },
    {
      "cell_type": "code",
      "metadata": {
        "id": "Ah_PvpWJRLRB",
        "colab_type": "code",
        "colab": {}
      },
      "source": [
        "!python dialog.py"
      ],
      "execution_count": 0,
      "outputs": []
    },
    {
      "cell_type": "markdown",
      "metadata": {
        "id": "IPzCu-3YWQme",
        "colab_type": "text"
      },
      "source": [
        "Phương thức trên hoạt động bởi vì khi module ```dialog``` được nạp trễ, \bdòng code import ``app``` sẽ tìm ra ```app.prefs``` đã được định nghĩa. \n",
        "\n",
        "Mặc dù cách này giúp ta tránh được ```AttributeError``` nhưng nó đi ngược lại với chuẩn PEP 8. Chuẩn này khuyến khích bạn đặt các imports ở đầu của các file Python. Điều này làm cho các phụ thuộc của module trở nên rõ ràng với những người mới đọc mã của bạn. Nó cũng đảm bảo rằng bất cứ module nào bạn phụ thuộc thì ở trong phạm vi và có sẵn cho tất cả các mã trong module của bạn. \n",
        "\n",
        "Có các imports đặt ở phía sau trong một file có thể mỏng manh và có thể tạo ra các thay đổi nhỏ trong thứ tự mã của bạn gây ra hư hại toàn bộ module. Do đó, bạn nên tranh thay đổi thứ tự import để giải quyết các vấn đề về phụ thuộc xoay vòng. "
      ]
    },
    {
      "cell_type": "markdown",
      "metadata": {
        "id": "00W81nKwXf9R",
        "colab_type": "text"
      },
      "source": [
        "### Import, cấu hình, chạy\n",
        "\n",
        "Giải pháp thử hai cho vấn đề các imports xoay vòng đó là có các modules tối thiểu hoá các hiệu ứng phụ tại thời điểm import. Bạn có các modules của bạn chỉ định nghĩa các hàm, các lớp, và các số không đổi. Bạn tránh việc chạy bất cứ hàm nào tại thời điểm import. Khi đó, bạn có mỗi module cung cấp một hàm ```configure``` mà bạn gọi mỗi lần tất cả các moduels khác. Mục đích của ```configure``` là chuẩn bị \n",
        "\n"
      ]
    },
    {
      "cell_type": "code",
      "metadata": {
        "id": "_TDuEWo1R7e2",
        "colab_type": "code",
        "colab": {}
      },
      "source": [
        ""
      ],
      "execution_count": 0,
      "outputs": []
    },
    {
      "cell_type": "markdown",
      "metadata": {
        "id": "2Fy5HKNCnW2S",
        "colab_type": "text"
      },
      "source": [
        "## Sử dụng ```subprocess``` để quản lý các tiến trình con\n",
        "\n",
        "Python có các thư viện thiện chiến cho việc chạy và quản lý các tiến trình con. Điều này làm cho Python trở thành ngôn ngữ tuyệt vời cho việc kết dính các công cụ khác lại với nhau, ví dụ dụ như các tiện ích commandline. Khi các shell scripts trở nên quá phức tạp cùng với thời gian, viết lại chúng trong Python trở thành lựa chọn tự nhiên cho việc dễ đọc và bảo trì. \n",
        "\n",
        "Các tiến trình con bắt đầu bởi Python có thể chạy song song, cho phép bạn sử dụng Python để chạy trên tất cả các CPU cores của máy của bạn và tối đa hoá chương trình của bạn. Mặc dù chính Python cũng có những giới hạn CPU, nhưng dùng Python thật dễ dàng để hợp tác hoá các các công việc tiêu tốn CPU.\n",
        "\n",
        "Python có nhiều cách để chạy các tiến trình con, bao gồm ```popen```, ```popen2```, và ```os.exec```. Với Python ngày ngay, lựa chọn tốt nhất và đơn giản nhất cho việc quản lý các tiến trình con đó là sử dụng module có sẵn ```subprocess```.\n",
        "\n",
        "Chạy một tiến trình con với ```subprocess``` thật là đơn giản. Ở đây, code xây dựng ```Popen``` bắt đầu tiến trình. Phương thức ```communicate``` đọc kết quả của tiến trình con và chờ kết thúc chương trình. "
      ]
    },
    {
      "cell_type": "code",
      "metadata": {
        "id": "-3ea-pUspq5r",
        "colab_type": "code",
        "outputId": "ee03ca03-d9ce-4e48-a2d1-8934ab0ccd6c",
        "colab": {
          "base_uri": "https://localhost:8080/",
          "height": 51
        }
      },
      "source": [
        "import subprocess \n",
        "\n",
        "proc = subprocess.Popen(['echo', 'Hello from the child!'], stdout=subprocess.PIPE)\n",
        "\n",
        "out, err = proc.communicate()\n",
        "print(out.decode('utf-8'))"
      ],
      "execution_count": 0,
      "outputs": [
        {
          "output_type": "stream",
          "text": [
            "Hello from the child!\n",
            "\n"
          ],
          "name": "stdout"
        }
      ]
    },
    {
      "cell_type": "markdown",
      "metadata": {
        "id": "MA4LaIJfqCtW",
        "colab_type": "text"
      },
      "source": [
        "Các tiến trình con sẽ chạy độc lập với tiến trình cha của chúng, chương trình thông dịch Python. Trạng thái của chúng có thể được thăm dò định kì trong Python thực hiện việc khác.  "
      ]
    },
    {
      "cell_type": "code",
      "metadata": {
        "id": "qR3ZZk0Gp_uf",
        "colab_type": "code",
        "outputId": "98df7d9f-bd18-4ec6-bad0-d13b8ae44a03",
        "colab": {
          "base_uri": "https://localhost:8080/",
          "height": 1000
        }
      },
      "source": [
        "import subprocess\n",
        "\n",
        "proc = subprocess.Popen(['sleep', '0.3'])\n",
        "\n",
        "while proc.poll() is None:\n",
        "  print('Working...')\n",
        "  # Some time-consuming work here\n",
        "  # ...\n",
        "\n",
        "print('Exit status', proc.poll())"
      ],
      "execution_count": 0,
      "outputs": [
        {
          "output_type": "stream",
          "text": [
            "Working...\n",
            "Working...\n",
            "Working...\n",
            "Working...\n",
            "Working...\n",
            "Working...\n",
            "Working...\n",
            "Working...\n",
            "Working...\n",
            "Working...\n",
            "Working...\n",
            "Working...\n",
            "Working...\n",
            "Working...\n",
            "Working...\n",
            "Working...\n",
            "Working...\n",
            "Working...\n",
            "Working...\n",
            "Working...\n",
            "Working...\n",
            "Working...\n",
            "Working...\n",
            "Working...\n",
            "Working...\n",
            "Working...\n",
            "Working...\n",
            "Working...\n",
            "Working...\n",
            "Working...\n",
            "Working...\n",
            "Working...\n",
            "Working...\n",
            "Working...\n",
            "Working...\n",
            "Working...\n",
            "Working...\n",
            "Working...\n",
            "Working...\n",
            "Working...\n",
            "Working...\n",
            "Working...\n",
            "Working...\n",
            "Working...\n",
            "Working...\n",
            "Working...\n",
            "Working...\n",
            "Working...\n",
            "Working...\n",
            "Working...\n",
            "Working...\n",
            "Working...\n",
            "Working...\n",
            "Working...\n",
            "Working...\n",
            "Working...\n",
            "Working...\n",
            "Working...\n",
            "Working...\n",
            "Working...\n",
            "Working...\n",
            "Working...\n",
            "Working...\n",
            "Working...\n",
            "Working...\n",
            "Working...\n",
            "Working...\n",
            "Working...\n",
            "Working...\n",
            "Working...\n",
            "Working...\n",
            "Working...\n",
            "Working...\n",
            "Working...\n",
            "Working...\n",
            "Working...\n",
            "Working...\n",
            "Working...\n",
            "Working...\n",
            "Working...\n",
            "Working...\n",
            "Working...\n",
            "Working...\n",
            "Working...\n",
            "Working...\n",
            "Working...\n",
            "Working...\n",
            "Working...\n",
            "Working...\n",
            "Working...\n",
            "Working...\n",
            "Working...\n",
            "Working...\n",
            "Working...\n",
            "Working...\n",
            "Working...\n",
            "Working...\n",
            "Working...\n",
            "Working...\n",
            "Working...\n",
            "Working...\n",
            "Working...\n",
            "Working...\n",
            "Working...\n",
            "Working...\n",
            "Working...\n",
            "Working...\n",
            "Working...\n",
            "Working...\n",
            "Working...\n",
            "Working...\n",
            "Working...\n",
            "Working...\n",
            "Working...\n",
            "Working...\n",
            "Working...\n",
            "Working...\n",
            "Working...\n",
            "Working...\n",
            "Working...\n",
            "Working...\n",
            "Working...\n",
            "Working...\n",
            "Working...\n",
            "Working...\n",
            "Working...\n",
            "Working...\n",
            "Working...\n",
            "Working...\n",
            "Working...\n",
            "Working...\n",
            "Working...\n",
            "Working...\n",
            "Working...\n",
            "Working...\n",
            "Working...\n",
            "Working...\n",
            "Working...\n",
            "Working...\n",
            "Working...\n",
            "Working...\n",
            "Working...\n",
            "Working...\n",
            "Working...\n",
            "Working...\n",
            "Working...\n",
            "Working...\n",
            "Working...\n",
            "Working...\n",
            "Working...\n",
            "Working...\n",
            "Working...\n",
            "Working...\n",
            "Working...\n",
            "Working...\n",
            "Working...\n",
            "Working...\n",
            "Working...\n",
            "Working...\n",
            "Working...\n",
            "Working...\n",
            "Working...\n",
            "Working...\n",
            "Working...\n",
            "Working...\n",
            "Working...\n",
            "Working...\n",
            "Working...\n",
            "Working...\n",
            "Working...\n",
            "Working...\n",
            "Working...\n",
            "Working...\n",
            "Working...\n",
            "Working...\n",
            "Working...\n",
            "Working...\n",
            "Working...\n",
            "Working...\n",
            "Working...\n",
            "Working...\n",
            "Working...\n",
            "Working...\n",
            "Working...\n",
            "Working...\n",
            "Working...\n",
            "Working...\n",
            "Working...\n",
            "Working...\n",
            "Working...\n",
            "Working...\n",
            "Working...\n",
            "Working...\n",
            "Working...\n",
            "Working...\n",
            "Working...\n",
            "Working...\n",
            "Working...\n",
            "Working...\n",
            "Working...\n",
            "Working...\n",
            "Working...\n",
            "Working...\n",
            "Working...\n",
            "Working...\n",
            "Working...\n",
            "Working...\n",
            "Working...\n",
            "Working...\n",
            "Working...\n",
            "Working...\n",
            "Working...\n",
            "Working...\n",
            "Working...\n",
            "Working...\n",
            "Working...\n",
            "Working...\n",
            "Working...\n",
            "Working...\n",
            "Working...\n",
            "Working...\n",
            "Working...\n",
            "Working...\n",
            "Working...\n",
            "Working...\n",
            "Working...\n",
            "Working...\n",
            "Working...\n",
            "Working...\n",
            "Working...\n",
            "Working...\n",
            "Working...\n",
            "Working...\n",
            "Working...\n",
            "Working...\n",
            "Working...\n",
            "Working...\n",
            "Working...\n",
            "Working...\n",
            "Working...\n",
            "Working...\n",
            "Working...\n",
            "Working...\n",
            "Working...\n",
            "Working...\n",
            "Working...\n",
            "Working...\n",
            "Working...\n",
            "Working...\n",
            "Working...\n",
            "Working...\n",
            "Working...\n",
            "Working...\n",
            "Working...\n",
            "Working...\n",
            "Working...\n",
            "Working...\n",
            "Working...\n",
            "Working...\n",
            "Working...\n",
            "Working...\n",
            "Working...\n",
            "Working...\n",
            "Working...\n",
            "Working...\n",
            "Working...\n",
            "Working...\n",
            "Working...\n",
            "Working...\n",
            "Working...\n",
            "Working...\n",
            "Working...\n",
            "Working...\n",
            "Working...\n",
            "Working...\n",
            "Working...\n",
            "Working...\n",
            "Working...\n",
            "Working...\n",
            "Working...\n",
            "Working...\n",
            "Working...\n",
            "Working...\n",
            "Working...\n",
            "Working...\n",
            "Working...\n",
            "Working...\n",
            "Working...\n",
            "Working...\n",
            "Working...\n",
            "Working...\n",
            "Working...\n",
            "Working...\n",
            "Working...\n",
            "Working...\n",
            "Working...\n",
            "Working...\n",
            "Working...\n",
            "Working...\n",
            "Working...\n",
            "Working...\n",
            "Working...\n",
            "Working...\n",
            "Working...\n",
            "Working...\n",
            "Working...\n",
            "Working...\n",
            "Working...\n",
            "Working...\n",
            "Working...\n",
            "Working...\n",
            "Working...\n",
            "Working...\n",
            "Working...\n",
            "Working...\n",
            "Working...\n",
            "Working...\n",
            "Working...\n",
            "Working...\n",
            "Working...\n",
            "Working...\n",
            "Working...\n",
            "Working...\n",
            "Working...\n",
            "Working...\n",
            "Working...\n",
            "Working...\n",
            "Working...\n",
            "Working...\n",
            "Working...\n",
            "Working...\n",
            "Working...\n",
            "Working...\n",
            "Working...\n",
            "Working...\n",
            "Working...\n",
            "Working...\n",
            "Working...\n",
            "Working...\n",
            "Working...\n",
            "Working...\n",
            "Working...\n",
            "Working...\n",
            "Working...\n",
            "Working...\n",
            "Working...\n",
            "Working...\n",
            "Working...\n",
            "Working...\n",
            "Working...\n",
            "Working...\n",
            "Working...\n",
            "Working...\n",
            "Working...\n",
            "Working...\n",
            "Working...\n",
            "Working...\n",
            "Working...\n",
            "Working...\n",
            "Working...\n",
            "Working...\n",
            "Working...\n",
            "Working...\n",
            "Working...\n",
            "Working...\n",
            "Working...\n",
            "Working...\n",
            "Working...\n",
            "Working...\n",
            "Working...\n",
            "Working...\n",
            "Working...\n",
            "Working...\n",
            "Working...\n",
            "Working...\n",
            "Working...\n",
            "Working...\n",
            "Working...\n",
            "Working...\n",
            "Working...\n",
            "Working...\n",
            "Working...\n",
            "Working...\n",
            "Working...\n",
            "Working...\n",
            "Working...\n",
            "Working...\n",
            "Working...\n",
            "Working...\n",
            "Working...\n",
            "Working...\n",
            "Working...\n",
            "Working...\n",
            "Working...\n",
            "Working...\n",
            "Working...\n",
            "Working...\n",
            "Working...\n",
            "Working...\n",
            "Working...\n",
            "Working...\n",
            "Working...\n",
            "Working...\n",
            "Working...\n",
            "Working...\n",
            "Working...\n",
            "Working...\n",
            "Working...\n",
            "Working...\n",
            "Working...\n",
            "Working...\n",
            "Working...\n",
            "Working...\n",
            "Working...\n",
            "Working...\n",
            "Working...\n",
            "Working...\n",
            "Working...\n",
            "Working...\n",
            "Working...\n",
            "Working...\n",
            "Working...\n",
            "Working...\n",
            "Working...\n",
            "Working...\n",
            "Working...\n",
            "Working...\n",
            "Working...\n",
            "Working...\n",
            "Working...\n",
            "Working...\n",
            "Working...\n",
            "Working...\n",
            "Working...\n",
            "Working...\n",
            "Working...\n",
            "Working...\n",
            "Working...\n",
            "Working...\n",
            "Working...\n",
            "Working...\n",
            "Working...\n",
            "Working...\n",
            "Working...\n",
            "Working...\n",
            "Working...\n",
            "Working...\n",
            "Working...\n",
            "Working...\n",
            "Working...\n",
            "Working...\n",
            "Working...\n",
            "Working...\n",
            "Working...\n",
            "Working...\n",
            "Working...\n",
            "Working...\n",
            "Working...\n",
            "Working...\n",
            "Working...\n",
            "Working...\n",
            "Working...\n",
            "Working...\n",
            "Working...\n",
            "Working...\n",
            "Working...\n",
            "Working...\n",
            "Working...\n",
            "Working...\n",
            "Working...\n",
            "Working...\n",
            "Working...\n",
            "Working...\n",
            "Working...\n",
            "Working...\n",
            "Working...\n",
            "Working...\n",
            "Working...\n",
            "Working...\n",
            "Working...\n",
            "Working...\n",
            "Working...\n",
            "Working...\n",
            "Working...\n",
            "Working...\n",
            "Working...\n",
            "Working...\n",
            "Working...\n",
            "Working...\n",
            "Working...\n",
            "Working...\n",
            "Working...\n",
            "Working...\n",
            "Working...\n",
            "Working...\n",
            "Working...\n",
            "Working...\n",
            "Working...\n",
            "Working...\n",
            "Working...\n",
            "Working...\n",
            "Working...\n",
            "Working...\n",
            "Working...\n",
            "Working...\n",
            "Working...\n",
            "Working...\n",
            "Working...\n",
            "Working...\n",
            "Working...\n",
            "Working...\n",
            "Working...\n",
            "Working...\n",
            "Working...\n",
            "Working...\n",
            "Working...\n",
            "Working...\n",
            "Working...\n",
            "Working...\n",
            "Working...\n",
            "Working...\n",
            "Working...\n",
            "Working...\n",
            "Working...\n",
            "Working...\n",
            "Working...\n",
            "Working...\n",
            "Working...\n",
            "Working...\n",
            "Working...\n",
            "Working...\n",
            "Working...\n",
            "Working...\n",
            "Working...\n",
            "Working...\n",
            "Working...\n",
            "Working...\n",
            "Working...\n",
            "Working...\n",
            "Working...\n",
            "Working...\n",
            "Working...\n",
            "Working...\n",
            "Working...\n",
            "Working...\n",
            "Working...\n",
            "Working...\n",
            "Working...\n",
            "Working...\n",
            "Working...\n",
            "Working...\n",
            "Working...\n",
            "Working...\n",
            "Working...\n",
            "Working...\n",
            "Working...\n",
            "Working...\n",
            "Working...\n",
            "Working...\n",
            "Working...\n",
            "Working...\n",
            "Working...\n",
            "Working...\n",
            "Working...\n",
            "Working...\n",
            "Working...\n",
            "Working...\n",
            "Working...\n",
            "Working...\n",
            "Working...\n",
            "Working...\n",
            "Working...\n",
            "Working...\n",
            "Working...\n",
            "Working...\n",
            "Working...\n",
            "Working...\n",
            "Working...\n",
            "Working...\n",
            "Working...\n",
            "Working...\n",
            "Working...\n",
            "Working...\n",
            "Working...\n",
            "Working...\n",
            "Working...\n",
            "Working...\n",
            "Working...\n",
            "Working...\n",
            "Working...\n",
            "Working...\n",
            "Working...\n",
            "Working...\n",
            "Working...\n",
            "Working...\n",
            "Working...\n",
            "Working...\n",
            "Working...\n",
            "Working...\n",
            "Working...\n",
            "Working...\n",
            "Working...\n",
            "Working...\n",
            "Working...\n",
            "Working...\n",
            "Working...\n",
            "Working...\n",
            "Working...\n",
            "Working...\n",
            "Working...\n",
            "Working...\n",
            "Working...\n",
            "Working...\n",
            "Working...\n",
            "Working...\n",
            "Working...\n",
            "Working...\n",
            "Working...\n",
            "Working...\n",
            "Working...\n",
            "Working...\n",
            "Working...\n",
            "Working...\n",
            "Working...\n",
            "Working...\n",
            "Working...\n",
            "Working...\n",
            "Working...\n",
            "Working...\n",
            "Working...\n",
            "Working...\n",
            "Working...\n",
            "Working...\n",
            "Working...\n",
            "Working...\n",
            "Working...\n",
            "Working...\n",
            "Working...\n",
            "Working...\n",
            "Working...\n",
            "Working...\n",
            "Working...\n",
            "Working...\n",
            "Working...\n",
            "Working...\n",
            "Working...\n",
            "Working...\n",
            "Working...\n",
            "Working...\n",
            "Working...\n",
            "Working...\n",
            "Working...\n",
            "Working...\n",
            "Working...\n",
            "Working...\n",
            "Working...\n",
            "Working...\n",
            "Working...\n",
            "Working...\n",
            "Working...\n",
            "Working...\n",
            "Working...\n",
            "Working...\n",
            "Working...\n",
            "Working...\n",
            "Working...\n",
            "Working...\n",
            "Working...\n",
            "Working...\n",
            "Working...\n",
            "Working...\n",
            "Working...\n",
            "Working...\n",
            "Working...\n",
            "Working...\n",
            "Working...\n",
            "Working...\n",
            "Working...\n",
            "Working...\n",
            "Working...\n",
            "Working...\n",
            "Working...\n",
            "Working...\n",
            "Working...\n",
            "Working...\n",
            "Working...\n",
            "Working...\n",
            "Working...\n",
            "Working...\n",
            "Working...\n",
            "Working...\n",
            "Working...\n",
            "Working...\n",
            "Working...\n",
            "Working...\n",
            "Working...\n",
            "Working...\n",
            "Working...\n",
            "Working...\n",
            "Working...\n",
            "Working...\n",
            "Working...\n",
            "Working...\n",
            "Working...\n",
            "Working...\n",
            "Working...\n",
            "Working...\n",
            "Working...\n",
            "Working...\n",
            "Working...\n",
            "Working...\n",
            "Working...\n",
            "Working...\n",
            "Working...\n",
            "Working...\n",
            "Working...\n",
            "Working...\n",
            "Working...\n",
            "Working...\n",
            "Working...\n",
            "Working...\n",
            "Working...\n",
            "Working...\n",
            "Working...\n",
            "Working...\n",
            "Working...\n",
            "Working...\n",
            "Working...\n",
            "Working...\n",
            "Working...\n",
            "Working...\n",
            "Working...\n",
            "Working...\n",
            "Working...\n",
            "Working...\n",
            "Working...\n",
            "Working...\n",
            "Working...\n",
            "Working...\n",
            "Working...\n",
            "Working...\n",
            "Working...\n",
            "Working...\n",
            "Working...\n",
            "Working...\n",
            "Working...\n",
            "Working...\n",
            "Working...\n",
            "Working...\n",
            "Working...\n",
            "Working...\n",
            "Working...\n",
            "Working...\n",
            "Working...\n",
            "Working...\n",
            "Working...\n",
            "Working...\n",
            "Working...\n",
            "Working...\n",
            "Working...\n",
            "Working...\n",
            "Working...\n",
            "Working...\n",
            "Working...\n",
            "Working...\n",
            "Working...\n",
            "Working...\n",
            "Working...\n",
            "Working...\n",
            "Working...\n",
            "Working...\n",
            "Working...\n",
            "Working...\n",
            "Working...\n",
            "Working...\n",
            "Working...\n",
            "Working...\n",
            "Working...\n",
            "Working...\n",
            "Working...\n",
            "Working...\n",
            "Working...\n",
            "Working...\n",
            "Working...\n",
            "Working...\n",
            "Working...\n",
            "Working...\n",
            "Working...\n",
            "Working...\n",
            "Working...\n",
            "Working...\n",
            "Working...\n",
            "Working...\n",
            "Working...\n",
            "Working...\n",
            "Working...\n",
            "Working...\n",
            "Working...\n",
            "Working...\n",
            "Working...\n",
            "Working...\n",
            "Working...\n",
            "Working...\n",
            "Working...\n",
            "Working...\n",
            "Working...\n",
            "Working...\n",
            "Working...\n",
            "Working...\n",
            "Working...\n",
            "Working...\n",
            "Working...\n",
            "Working...\n",
            "Working...\n",
            "Working...\n",
            "Working...\n",
            "Working...\n",
            "Working...\n",
            "Working...\n",
            "Working...\n",
            "Working...\n",
            "Working...\n",
            "Working...\n",
            "Working...\n",
            "Working...\n",
            "Working...\n",
            "Working...\n",
            "Working...\n",
            "Working...\n",
            "Working...\n",
            "Working...\n",
            "Working...\n",
            "Working...\n",
            "Working...\n",
            "Working...\n",
            "Working...\n",
            "Working...\n",
            "Working...\n",
            "Working...\n",
            "Working...\n",
            "Working...\n",
            "Working...\n",
            "Working...\n",
            "Working...\n",
            "Working...\n",
            "Working...\n",
            "Working...\n",
            "Working...\n",
            "Working...\n",
            "Working...\n",
            "Working...\n",
            "Working...\n",
            "Working...\n",
            "Working...\n",
            "Working...\n",
            "Working...\n",
            "Working...\n",
            "Working...\n",
            "Working...\n",
            "Working...\n",
            "Working...\n",
            "Working...\n",
            "Working...\n",
            "Working...\n",
            "Working...\n",
            "Working...\n",
            "Working...\n",
            "Working...\n",
            "Working...\n",
            "Working...\n",
            "Working...\n",
            "Working...\n",
            "Working...\n",
            "Working...\n",
            "Working...\n",
            "Working...\n",
            "Working...\n",
            "Working...\n",
            "Working...\n",
            "Working...\n",
            "Working...\n",
            "Working...\n",
            "Working...\n",
            "Working...\n",
            "Working...\n",
            "Working...\n",
            "Working...\n",
            "Working...\n",
            "Working...\n",
            "Working...\n",
            "Working...\n",
            "Working...\n",
            "Working...\n",
            "Working...\n",
            "Working...\n",
            "Working...\n",
            "Working...\n",
            "Working...\n",
            "Working...\n",
            "Working...\n",
            "Working...\n",
            "Working...\n",
            "Working...\n",
            "Working...\n",
            "Working...\n",
            "Working...\n",
            "Working...\n",
            "Working...\n",
            "Working...\n",
            "Working...\n",
            "Working...\n",
            "Working...\n",
            "Working...\n",
            "Working...\n",
            "Working...\n",
            "Working...\n",
            "Working...\n",
            "Working...\n",
            "Working...\n",
            "Working...\n",
            "Working...\n",
            "Working...\n",
            "Working...\n",
            "Working...\n",
            "Working...\n",
            "Working...\n",
            "Working...\n",
            "Working...\n",
            "Working...\n",
            "Working...\n",
            "Working...\n",
            "Working...\n",
            "Working...\n",
            "Working...\n",
            "Working...\n",
            "Working...\n",
            "Working...\n",
            "Working...\n",
            "Working...\n",
            "Working...\n",
            "Working...\n",
            "Working...\n",
            "Working...\n",
            "Working...\n",
            "Working...\n",
            "Working...\n",
            "Working...\n",
            "Working...\n",
            "Working...\n",
            "Working...\n",
            "Working...\n",
            "Working...\n",
            "Working...\n",
            "Working...\n",
            "Working...\n",
            "Working...\n",
            "Working...\n",
            "Working...\n",
            "Working...\n",
            "Working...\n",
            "Working...\n",
            "Working...\n",
            "Working...\n",
            "Working...\n",
            "Working...\n",
            "Working...\n",
            "Working...\n",
            "Working...\n",
            "Working...\n",
            "Working...\n",
            "Working...\n",
            "Working...\n",
            "Working...\n",
            "Working...\n",
            "Working...\n",
            "Working...\n",
            "Working...\n",
            "Working...\n",
            "Working...\n",
            "Working...\n",
            "Working...\n",
            "Working...\n",
            "Working...\n",
            "Working...\n",
            "Working...\n",
            "Working...\n",
            "Working...\n",
            "Working...\n",
            "Working...\n",
            "Working...\n",
            "Working...\n",
            "Working...\n",
            "Working...\n",
            "Working...\n",
            "Working...\n",
            "Working...\n",
            "Working...\n",
            "Working...\n",
            "Working...\n",
            "Working...\n",
            "Working...\n",
            "Working...\n",
            "Working...\n",
            "Working...\n",
            "Working...\n",
            "Working...\n",
            "Working...\n",
            "Working...\n",
            "Working...\n",
            "Working...\n",
            "Working...\n",
            "Working...\n",
            "Working...\n",
            "Working...\n",
            "Working...\n",
            "Working...\n",
            "Working...\n",
            "Working...\n",
            "Working...\n",
            "Working...\n",
            "Working...\n",
            "Working...\n",
            "Working...\n",
            "Working...\n",
            "Working...\n",
            "Working...\n",
            "Working...\n",
            "Working...\n",
            "Working...\n",
            "Working...\n",
            "Working...\n",
            "Working...\n",
            "Working...\n",
            "Working...\n",
            "Working...\n",
            "Working...\n",
            "Working...\n",
            "Working...\n",
            "Working...\n",
            "Working...\n",
            "Working...\n",
            "Working...\n",
            "Working...\n",
            "Working...\n",
            "Working...\n",
            "Working...\n",
            "Working...\n",
            "Working...\n",
            "Working...\n",
            "Working...\n",
            "Working...\n",
            "Working...\n",
            "Working...\n",
            "Working...\n",
            "Working...\n",
            "Working...\n",
            "Working...\n",
            "Working...\n",
            "Working...\n",
            "Working...\n",
            "Working...\n",
            "Working...\n",
            "Working...\n",
            "Working...\n",
            "Working...\n",
            "Working...\n",
            "Working...\n",
            "Working...\n",
            "Working...\n",
            "Working...\n",
            "Working...\n",
            "Working...\n",
            "Working...\n",
            "Working...\n",
            "Working...\n",
            "Working...\n",
            "Working...\n",
            "Working...\n",
            "Working...\n",
            "Working...\n",
            "Working...\n",
            "Working...\n",
            "Working...\n",
            "Working...\n",
            "Working...\n",
            "Working...\n",
            "Working...\n",
            "Working...\n",
            "Working...\n",
            "Working...\n",
            "Working...\n",
            "Working...\n",
            "Working...\n",
            "Working...\n",
            "Working...\n",
            "Working...\n",
            "Working...\n",
            "Working...\n",
            "Working...\n",
            "Working...\n",
            "Working...\n",
            "Working...\n",
            "Working...\n",
            "Working...\n",
            "Working...\n",
            "Working...\n",
            "Working...\n",
            "Working...\n",
            "Working...\n",
            "Working...\n",
            "Working...\n",
            "Working...\n",
            "Working...\n",
            "Working...\n",
            "Working...\n",
            "Working...\n",
            "Working...\n",
            "Working...\n",
            "Working...\n",
            "Working...\n",
            "Working...\n",
            "Working...\n",
            "Working...\n",
            "Working...\n",
            "Working...\n",
            "Working...\n",
            "Working...\n",
            "Working...\n",
            "Working...\n",
            "Working...\n",
            "Working...\n",
            "Working...\n",
            "Working...\n",
            "Working...\n",
            "Working...\n",
            "Working...\n",
            "Working...\n",
            "Working...\n",
            "Working...\n",
            "Working...\n",
            "Working...\n",
            "Working...\n",
            "Working...\n",
            "Working...\n",
            "Working...\n",
            "Working...\n",
            "Working...\n",
            "Working...\n",
            "Working...\n",
            "Working...\n",
            "Working...\n",
            "Working...\n",
            "Working...\n",
            "Working...\n",
            "Working...\n",
            "Working...\n",
            "Working...\n",
            "Working...\n",
            "Working...\n",
            "Working...\n",
            "Working...\n",
            "Working...\n",
            "Working...\n",
            "Working...\n",
            "Working...\n",
            "Working...\n",
            "Working...\n",
            "Working...\n",
            "Working...\n",
            "Working...\n",
            "Working...\n",
            "Working...\n",
            "Working...\n",
            "Working...\n",
            "Working...\n",
            "Working...\n",
            "Working...\n",
            "Working...\n",
            "Working...\n",
            "Working...\n",
            "Working...\n",
            "Working...\n",
            "Working...\n",
            "Working...\n",
            "Working...\n",
            "Working...\n",
            "Working...\n",
            "Working...\n",
            "Working...\n",
            "Working...\n",
            "Working...\n",
            "Working...\n",
            "Working...\n",
            "Working...\n",
            "Working...\n",
            "Working...\n",
            "Working...\n",
            "Working...\n",
            "Working...\n",
            "Working...\n",
            "Working...\n",
            "Working...\n",
            "Working...\n",
            "Working...\n",
            "Working...\n",
            "Working...\n",
            "Working...\n",
            "Working...\n",
            "Working...\n",
            "Working...\n",
            "Working...\n",
            "Working...\n",
            "Working...\n",
            "Working...\n",
            "Working...\n",
            "Working...\n",
            "Working...\n",
            "Working...\n",
            "Working...\n",
            "Working...\n",
            "Working...\n",
            "Working...\n",
            "Working...\n",
            "Working...\n",
            "Working...\n",
            "Working...\n",
            "Working...\n",
            "Working...\n",
            "Working...\n",
            "Working...\n",
            "Working...\n",
            "Working...\n",
            "Working...\n",
            "Working...\n",
            "Working...\n",
            "Working...\n",
            "Working...\n",
            "Working...\n",
            "Working...\n",
            "Working...\n",
            "Working...\n",
            "Working...\n",
            "Working...\n",
            "Working...\n",
            "Working...\n",
            "Working...\n",
            "Working...\n",
            "Working...\n",
            "Working...\n",
            "Working...\n",
            "Working...\n",
            "Working...\n",
            "Working...\n",
            "Working...\n",
            "Working...\n",
            "Working...\n",
            "Working...\n",
            "Working...\n",
            "Working...\n",
            "Working...\n",
            "Working...\n",
            "Working...\n",
            "Working...\n",
            "Working...\n",
            "Working...\n",
            "Working...\n",
            "Working...\n",
            "Working...\n",
            "Working...\n",
            "Working...\n",
            "Working...\n",
            "Working...\n",
            "Working...\n",
            "Working...\n",
            "Working...\n",
            "Working...\n",
            "Working...\n",
            "Working...\n",
            "Working...\n",
            "Working...\n",
            "Working...\n",
            "Working...\n",
            "Working...\n",
            "Working...\n",
            "Working...\n",
            "Working...\n",
            "Working...\n",
            "Working...\n",
            "Working...\n",
            "Working...\n",
            "Working...\n",
            "Working...\n",
            "Working...\n",
            "Working...\n",
            "Working...\n",
            "Working...\n",
            "Working...\n",
            "Working...\n",
            "Working...\n",
            "Working...\n",
            "Working...\n",
            "Working...\n",
            "Working...\n",
            "Working...\n",
            "Working...\n",
            "Working...\n",
            "Working...\n",
            "Working...\n",
            "Working...\n",
            "Working...\n",
            "Working...\n",
            "Working...\n",
            "Working...\n",
            "Working...\n",
            "Working...\n",
            "Working...\n",
            "Working...\n",
            "Working...\n",
            "Working...\n",
            "Working...\n",
            "Working...\n",
            "Working...\n",
            "Working...\n",
            "Working...\n",
            "Working...\n",
            "Working...\n",
            "Working...\n",
            "Working...\n",
            "Working...\n",
            "Working...\n",
            "Working...\n",
            "Working...\n",
            "Working...\n",
            "Working...\n",
            "Working...\n",
            "Working...\n",
            "Working...\n",
            "Working...\n",
            "Working...\n",
            "Working...\n",
            "Working...\n",
            "Working...\n",
            "Working...\n",
            "Working...\n",
            "Working...\n",
            "Working...\n",
            "Working...\n",
            "Working...\n",
            "Working...\n",
            "Working...\n",
            "Working...\n",
            "Working...\n",
            "Working...\n",
            "Working...\n",
            "Working...\n",
            "Working...\n",
            "Working...\n",
            "Working...\n",
            "Working...\n",
            "Working...\n",
            "Working...\n",
            "Working...\n",
            "Working...\n",
            "Working...\n",
            "Working...\n",
            "Working...\n",
            "Working...\n",
            "Working...\n",
            "Working...\n",
            "Working...\n",
            "Working...\n",
            "Working...\n",
            "Working...\n",
            "Working...\n",
            "Working...\n",
            "Working...\n",
            "Working...\n",
            "Working...\n",
            "Working...\n",
            "Working...\n",
            "Working...\n",
            "Working...\n",
            "Working...\n",
            "Working...\n",
            "Working...\n",
            "Working...\n",
            "Working...\n",
            "Working...\n",
            "Working...\n",
            "Working...\n",
            "Working...\n",
            "Working...\n",
            "Working...\n",
            "Working...\n",
            "Working...\n",
            "Working...\n",
            "Working...\n",
            "Working...\n",
            "Working...\n",
            "Working...\n",
            "Working...\n",
            "Working...\n",
            "Working...\n",
            "Working...\n",
            "Working...\n",
            "Working...\n",
            "Working...\n",
            "Working...\n",
            "Working...\n",
            "Working...\n",
            "Working...\n",
            "Working...\n",
            "Working...\n",
            "Working...\n",
            "Working...\n",
            "Working...\n",
            "Working...\n",
            "Working...\n",
            "Working...\n",
            "Working...\n",
            "Working...\n",
            "Working...\n",
            "Working...\n",
            "Working...\n",
            "Working...\n",
            "Working...\n",
            "Working...\n",
            "Working...\n",
            "Working...\n",
            "Working...\n",
            "Working...\n",
            "Working...\n",
            "Working...\n",
            "Working...\n",
            "Working...\n",
            "Working...\n",
            "Working...\n",
            "Working...\n",
            "Working...\n",
            "Working...\n",
            "Working...\n",
            "Working...\n",
            "Working...\n",
            "Working...\n",
            "Working...\n",
            "Working...\n",
            "Working...\n",
            "Working...\n",
            "Working...\n",
            "Working...\n",
            "Working...\n",
            "Working...\n",
            "Working...\n",
            "Working...\n",
            "Working...\n",
            "Working...\n",
            "Working...\n",
            "Working...\n",
            "Working...\n",
            "Working...\n",
            "Working...\n",
            "Working...\n",
            "Working...\n",
            "Working...\n",
            "Working...\n",
            "Working...\n",
            "Working...\n",
            "Working...\n",
            "Working...\n",
            "Working...\n",
            "Working...\n",
            "Working...\n",
            "Working...\n",
            "Working...\n",
            "Working...\n",
            "Working...\n",
            "Working...\n",
            "Working...\n",
            "Working...\n",
            "Working...\n",
            "Working...\n",
            "Working...\n",
            "Working...\n",
            "Working...\n",
            "Working...\n",
            "Working...\n",
            "Working...\n",
            "Working...\n",
            "Working...\n",
            "Working...\n",
            "Working...\n",
            "Working...\n",
            "Working...\n",
            "Working...\n",
            "Working...\n",
            "Working...\n",
            "Working...\n",
            "Working...\n",
            "Working...\n",
            "Working...\n",
            "Working...\n",
            "Working...\n",
            "Working...\n",
            "Working...\n",
            "Working...\n",
            "Working...\n",
            "Working...\n",
            "Working...\n",
            "Working...\n",
            "Working...\n",
            "Working...\n",
            "Working...\n",
            "Working...\n",
            "Working...\n",
            "Working...\n",
            "Working...\n",
            "Working...\n",
            "Working...\n",
            "Working...\n",
            "Working...\n",
            "Working...\n",
            "Working...\n",
            "Working...\n",
            "Working...\n",
            "Working...\n",
            "Working...\n",
            "Working...\n",
            "Working...\n",
            "Working...\n",
            "Working...\n",
            "Working...\n",
            "Working...\n",
            "Working...\n",
            "Working...\n",
            "Working...\n",
            "Working...\n",
            "Working...\n",
            "Working...\n",
            "Working...\n",
            "Working...\n",
            "Working...\n",
            "Working...\n",
            "Working...\n",
            "Working...\n",
            "Working...\n",
            "Working...\n",
            "Working...\n",
            "Working...\n",
            "Working...\n",
            "Working...\n",
            "Working...\n",
            "Working...\n",
            "Working...\n",
            "Working...\n",
            "Working...\n",
            "Working...\n",
            "Working...\n",
            "Working...\n",
            "Working...\n",
            "Working...\n",
            "Working...\n",
            "Working...\n",
            "Working...\n",
            "Working...\n",
            "Working...\n",
            "Working...\n",
            "Working...\n",
            "Working...\n",
            "Working...\n",
            "Working...\n",
            "Working...\n",
            "Working...\n",
            "Working...\n",
            "Working...\n",
            "Working...\n",
            "Working...\n",
            "Working...\n",
            "Working...\n",
            "Working...\n",
            "Working...\n",
            "Working...\n",
            "Working...\n",
            "Working...\n",
            "Working...\n",
            "Working...\n",
            "Working...\n",
            "Working...\n",
            "Working...\n",
            "Working...\n",
            "Working...\n",
            "Working...\n",
            "Working...\n",
            "Working...\n",
            "Working...\n",
            "Working...\n",
            "Working...\n",
            "Working...\n",
            "Working...\n",
            "Working...\n",
            "Working...\n",
            "Working...\n",
            "Working...\n",
            "Working...\n",
            "Working...\n",
            "Working...\n",
            "Working...\n",
            "Working...\n",
            "Working...\n",
            "Working...\n",
            "Working...\n",
            "Working...\n",
            "Working...\n",
            "Working...\n",
            "Working...\n",
            "Working...\n",
            "Working...\n",
            "Working...\n",
            "Working...\n",
            "Working...\n",
            "Working...\n",
            "Working...\n",
            "Working...\n",
            "Working...\n",
            "Working...\n",
            "Working...\n",
            "Working...\n",
            "Working...\n",
            "Working...\n",
            "Working...\n",
            "Working...\n",
            "Working...\n",
            "Working...\n",
            "Working...\n",
            "Working...\n",
            "Working...\n",
            "Working...\n",
            "Working...\n",
            "Working...\n",
            "Working...\n",
            "Working...\n",
            "Working...\n",
            "Working...\n",
            "Working...\n",
            "Working...\n",
            "Working...\n",
            "Working...\n",
            "Working...\n",
            "Working...\n",
            "Working...\n",
            "Working...\n",
            "Working...\n",
            "Working...\n",
            "Working...\n",
            "Working...\n",
            "Working...\n",
            "Working...\n",
            "Working...\n",
            "Working...\n",
            "Working...\n",
            "Working...\n",
            "Working...\n",
            "Working...\n",
            "Working...\n",
            "Working...\n",
            "Working...\n",
            "Working...\n",
            "Working...\n",
            "Working...\n",
            "Working...\n",
            "Working...\n",
            "Working...\n",
            "Working...\n",
            "Working...\n",
            "Working...\n",
            "Working...\n",
            "Working...\n",
            "Working...\n",
            "Working...\n",
            "Working...\n",
            "Working...\n",
            "Working...\n",
            "Working...\n",
            "Working...\n",
            "Working...\n",
            "Working...\n",
            "Working...\n",
            "Working...\n",
            "Working...\n",
            "Working...\n",
            "Working...\n",
            "Working...\n",
            "Working...\n",
            "Working...\n",
            "Working...\n",
            "Working...\n",
            "Working...\n",
            "Working...\n",
            "Working...\n",
            "Working...\n",
            "Working...\n",
            "Working...\n",
            "Working...\n",
            "Working...\n",
            "Working...\n",
            "Working...\n",
            "Working...\n",
            "Working...\n",
            "Working...\n",
            "Working...\n",
            "Working...\n",
            "Working...\n",
            "Working...\n",
            "Working...\n",
            "Working...\n",
            "Working...\n",
            "Working...\n",
            "Working...\n",
            "Working...\n",
            "Working...\n",
            "Working...\n",
            "Working...\n",
            "Working...\n",
            "Working...\n",
            "Working...\n",
            "Working...\n",
            "Working...\n",
            "Working...\n",
            "Working...\n",
            "Working...\n",
            "Working...\n",
            "Working...\n",
            "Working...\n",
            "Working...\n",
            "Working...\n",
            "Working...\n",
            "Working...\n",
            "Working...\n",
            "Working...\n",
            "Working...\n",
            "Working...\n",
            "Working...\n",
            "Working...\n",
            "Working...\n",
            "Working...\n",
            "Working...\n",
            "Working...\n",
            "Working...\n",
            "Working...\n",
            "Working...\n",
            "Working...\n",
            "Working...\n",
            "Working...\n",
            "Working...\n",
            "Working...\n",
            "Working...\n",
            "Working...\n",
            "Working...\n",
            "Working...\n",
            "Working...\n",
            "Working...\n",
            "Working...\n",
            "Working...\n",
            "Working...\n",
            "Working...\n",
            "Working...\n",
            "Working...\n",
            "Working...\n",
            "Working...\n",
            "Working...\n",
            "Working...\n",
            "Working...\n",
            "Working...\n",
            "Working...\n",
            "Working...\n",
            "Working...\n",
            "Working...\n",
            "Working...\n",
            "Working...\n",
            "Working...\n",
            "Working...\n",
            "Working...\n",
            "Working...\n",
            "Working...\n",
            "Working...\n",
            "Working...\n",
            "Working...\n",
            "Working...\n",
            "Working...\n",
            "Working...\n",
            "Working...\n",
            "Working...\n",
            "Working...\n",
            "Working...\n",
            "Working...\n",
            "Working...\n",
            "Working...\n",
            "Working...\n",
            "Working...\n",
            "Working...\n",
            "Working...\n",
            "Working...\n",
            "Working...\n",
            "Working...\n",
            "Working...\n",
            "Working...\n",
            "Working...\n",
            "Working...\n",
            "Working...\n",
            "Working...\n",
            "Working...\n",
            "Working...\n",
            "Working...\n",
            "Working...\n",
            "Working...\n",
            "Working...\n",
            "Working...\n",
            "Working...\n",
            "Working...\n",
            "Working...\n",
            "Working...\n",
            "Working...\n",
            "Working...\n",
            "Working...\n",
            "Working...\n",
            "Working...\n",
            "Working...\n",
            "Working...\n",
            "Working...\n",
            "Working...\n",
            "Working...\n",
            "Working...\n",
            "Working...\n",
            "Working...\n",
            "Working...\n",
            "Working...\n",
            "Working...\n",
            "Working...\n",
            "Working...\n",
            "Working...\n",
            "Working...\n",
            "Working...\n",
            "Working...\n",
            "Working...\n",
            "Working...\n",
            "Working...\n",
            "Working...\n",
            "Working...\n",
            "Working...\n",
            "Working...\n",
            "Working...\n",
            "Working...\n",
            "Working...\n",
            "Working...\n",
            "Working...\n",
            "Working...\n",
            "Working...\n",
            "Working...\n",
            "Working...\n",
            "Working...\n",
            "Working...\n",
            "Working...\n",
            "Working...\n",
            "Working...\n",
            "Working...\n",
            "Working...\n",
            "Working...\n",
            "Working...\n",
            "Working...\n",
            "Working...\n",
            "Working...\n",
            "Working...\n",
            "Working...\n",
            "Working...\n",
            "Working...\n",
            "Working...\n",
            "Working...\n",
            "Working...\n",
            "Working...\n",
            "Working...\n",
            "Working...\n",
            "Working...\n",
            "Working...\n",
            "Working...\n",
            "Working...\n",
            "Working...\n",
            "Working...\n",
            "Working...\n",
            "Working...\n",
            "Working...\n",
            "Working...\n",
            "Working...\n",
            "Working...\n",
            "Working...\n",
            "Working...\n",
            "Exit status 0\n"
          ],
          "name": "stdout"
        }
      ]
    },
    {
      "cell_type": "markdown",
      "metadata": {
        "id": "GqEhsIrgsWaQ",
        "colab_type": "text"
      },
      "source": [
        "Tách rời tiến trình con từ tiến trình cha nghĩa là tiến trình cha được tự do chạy nhiều tiến trình con song song. \n",
        "Bạn có thể làm điều này bằng cách bắt đầu các tiến trình con cùng nhau trước đó.  "
      ]
    },
    {
      "cell_type": "code",
      "metadata": {
        "id": "w-y9z2h3sS4J",
        "colab_type": "code",
        "colab": {}
      },
      "source": [
        "import time\n",
        "def run_sleep(period):\n",
        "  proc = subprocess.Popen(['sleep', str(period)])\n",
        "  return proc \n",
        "\n",
        "start = time.time()\n",
        "procs = []\n",
        "\n",
        "for _ in range(10):\n",
        "  proc = run_sleep(0.1)\n",
        "  procs.append(proc)"
      ],
      "execution_count": 0,
      "outputs": []
    },
    {
      "cell_type": "markdown",
      "metadata": {
        "id": "T6VpQB_Rti1j",
        "colab_type": "text"
      },
      "source": [
        "Sau đó, bạn có thẻ chờ cho các tiến trình hoàn thành các I/O của nó và kết thức chúng với phương thức ```communicate```"
      ]
    },
    {
      "cell_type": "code",
      "metadata": {
        "id": "0_wFAWFitYtG",
        "colab_type": "code",
        "outputId": "0beccd35-05ee-4977-a3ce-b94ab1dec34b",
        "colab": {
          "base_uri": "https://localhost:8080/",
          "height": 34
        }
      },
      "source": [
        "for proc in procs:\n",
        "  proc.communicate()\n",
        "\n",
        "end = time.time()\n",
        "print('Finished in %.3f seconds' % (end - start))"
      ],
      "execution_count": 0,
      "outputs": [
        {
          "output_type": "stream",
          "text": [
            "Finished in 3.052 seconds\n"
          ],
          "name": "stdout"
        }
      ]
    },
    {
      "cell_type": "markdown",
      "metadata": {
        "id": "SgwJw4ReuA7T",
        "colab_type": "text"
      },
      "source": [
        "**Chú ý rằng**\n",
        "Nếu các tiến trình chạy tuần tự, tổng thời gian trì hoãn có thể lâu hơn."
      ]
    },
    {
      "cell_type": "markdown",
      "metadata": {
        "id": "6cy5KSWtuMGz",
        "colab_type": "text"
      },
      "source": [
        "Bạn cũng có thể pipe dữ liệu từ chương trình Python của bạn vào trong một tiến trình con và lấy ra kết quả của nó. Điều này cho phép bạn tận dụng các chương trình khác để làm việc song song. Ví dụ, bạn muốn sử dụng công cụ commandline ```openssl``` để mã hoá một vài dữ liệu. Bắt đầu tiến trình con với các tham số command-line và các pipes I/O thật dễ dàng. "
      ]
    },
    {
      "cell_type": "code",
      "metadata": {
        "id": "hehbXkQCtzAJ",
        "colab_type": "code",
        "colab": {}
      },
      "source": [
        "import os\n",
        "def run_openssl(data):\n",
        "  env = os.environ.copy()\n",
        "  env['password'] = b'\\xe24U\\n\\xd0Ql3S\\x11'\n",
        "  proc = subprocess.Popen(['openssl', 'enc', '-desc', '-pass', 'env:password'], \n",
        "                        env=env, stdin=subprocess.PIPE, stdout=subprocess.PIPE)\n",
        "  proc.stdin.write(data)\n",
        "  proc.stdin.flush() # Ensure the child gets input\n",
        "  return proc"
      ],
      "execution_count": 0,
      "outputs": []
    },
    {
      "cell_type": "markdown",
      "metadata": {
        "id": "lQ75_0rOvcq3",
        "colab_type": "text"
      },
      "source": [
        "Ở đây, tôi pipe các bytes ngẫu nhiên vào trong hàm mã hoá, nhưng trong thực tế nó có thể là dữ liệu nhập vào từ người dùng, một file handle, một socket mạng, vv:"
      ]
    },
    {
      "cell_type": "code",
      "metadata": {
        "id": "0EV__jBNvWvZ",
        "colab_type": "code",
        "colab": {}
      },
      "source": [
        "procs = []\n",
        "for _ in range(3):\n",
        "  data = os.urandom(10)\n",
        "  proc = run_openssl(data)\n",
        "  procs.append(proc)"
      ],
      "execution_count": 0,
      "outputs": []
    },
    {
      "cell_type": "markdown",
      "metadata": {
        "id": "ez3Kg1CiwISb",
        "colab_type": "text"
      },
      "source": [
        "Các tiến trình con sẽ chạy song song và sử dụng input của chúng. Ở đây, tôi chờ cho chúng hoàn thành và lấy ra kết quả cuối cùng. "
      ]
    },
    {
      "cell_type": "code",
      "metadata": {
        "id": "lajwk_WVwGtB",
        "colab_type": "code",
        "outputId": "4adc6ed3-3d34-4328-c0b6-90314bd4c8c9",
        "colab": {
          "base_uri": "https://localhost:8080/",
          "height": 68
        }
      },
      "source": [
        "for proc in procs:\n",
        "  out, err = proc.communicate()\n",
        "  print(out[-10:])"
      ],
      "execution_count": 0,
      "outputs": [
        {
          "output_type": "stream",
          "text": [
            "b''\n",
            "b''\n",
            "b''\n"
          ],
          "name": "stdout"
        }
      ]
    },
    {
      "cell_type": "markdown",
      "metadata": {
        "id": "Mau-Oyb6wfAV",
        "colab_type": "text"
      },
      "source": [
        "Bạn cũng có thể tạo các chuỗi tính trình song song như là các UNIX pipes, kết nối kết quả của một tiến trình con với đầu vào của tiến trình khác, và tương tự. Ở đây một hàm bắt đầu một tiến trình con sẽ dùng công cụ command-line ```md5``` để sủ dụng một\n",
        " input stream "
      ]
    },
    {
      "cell_type": "code",
      "metadata": {
        "id": "cSw1TgIEwb_g",
        "colab_type": "code",
        "colab": {}
      },
      "source": [
        "def run_md5(input_stdin):\n",
        "  proc = subprocess.Popen(['md5'], stdin=input_stdin, stdout=subprocess.PIPE)\n",
        "  return proc"
      ],
      "execution_count": 0,
      "outputs": []
    },
    {
      "cell_type": "markdown",
      "metadata": {
        "id": "7moBurYXxW5K",
        "colab_type": "text"
      },
      "source": [
        "**Chú ý rằng**\n",
        "Module có sẵn ```hashlib``` cung cấp hàm ```md5```, vì vậy chạy một tiến trình con như trên thật sự không cần thiết. Mục đích ở đây là cho bạn thấy cách các tiến trình con có thể pipe các inputs và ouputs."
      ]
    },
    {
      "cell_type": "markdown",
      "metadata": {
        "id": "lSBEGWbNxrC_",
        "colab_type": "text"
      },
      "source": [
        "Bây giờ, tôi có thể sử dụng các tiến trình ```openssl``` để mã háo một vài dữ liệu và một tập các tiến trình khác để hash dữ liệu ouput được mã hoá"
      ]
    },
    {
      "cell_type": "code",
      "metadata": {
        "id": "ZM29k4LSxTRG",
        "colab_type": "code",
        "outputId": "bb4cb410-8132-4ed0-975c-c9b504703cb1",
        "colab": {
          "base_uri": "https://localhost:8080/",
          "height": 378
        }
      },
      "source": [
        "input_procs = []\n",
        "hash_procs = []\n",
        "\n",
        "for _ in range(3):\n",
        "  data = os.urandom(10)\n",
        "  proc = run_openssl(data)\n",
        "  input_procs.append(proc)\n",
        "  hash_proc = run_md5(proc.stdout)\n",
        "  hash_procs.append(hash_proc)"
      ],
      "execution_count": 0,
      "outputs": [
        {
          "output_type": "error",
          "ename": "FileNotFoundError",
          "evalue": "ignored",
          "traceback": [
            "\u001b[0;31m---------------------------------------------------------------------------\u001b[0m",
            "\u001b[0;31mFileNotFoundError\u001b[0m                         Traceback (most recent call last)",
            "\u001b[0;32m<ipython-input-17-640af25f41ce>\u001b[0m in \u001b[0;36m<module>\u001b[0;34m()\u001b[0m\n\u001b[1;32m      6\u001b[0m   \u001b[0mproc\u001b[0m \u001b[0;34m=\u001b[0m \u001b[0mrun_openssl\u001b[0m\u001b[0;34m(\u001b[0m\u001b[0mdata\u001b[0m\u001b[0;34m)\u001b[0m\u001b[0;34m\u001b[0m\u001b[0;34m\u001b[0m\u001b[0m\n\u001b[1;32m      7\u001b[0m   \u001b[0minput_procs\u001b[0m\u001b[0;34m.\u001b[0m\u001b[0mappend\u001b[0m\u001b[0;34m(\u001b[0m\u001b[0mproc\u001b[0m\u001b[0;34m)\u001b[0m\u001b[0;34m\u001b[0m\u001b[0;34m\u001b[0m\u001b[0m\n\u001b[0;32m----> 8\u001b[0;31m   \u001b[0mhash_proc\u001b[0m \u001b[0;34m=\u001b[0m \u001b[0mrun_md5\u001b[0m\u001b[0;34m(\u001b[0m\u001b[0mproc\u001b[0m\u001b[0;34m.\u001b[0m\u001b[0mstdout\u001b[0m\u001b[0;34m)\u001b[0m\u001b[0;34m\u001b[0m\u001b[0;34m\u001b[0m\u001b[0m\n\u001b[0m\u001b[1;32m      9\u001b[0m   \u001b[0mhash_procs\u001b[0m\u001b[0;34m.\u001b[0m\u001b[0mappend\u001b[0m\u001b[0;34m(\u001b[0m\u001b[0mhash_proc\u001b[0m\u001b[0;34m)\u001b[0m\u001b[0;34m\u001b[0m\u001b[0;34m\u001b[0m\u001b[0m\n",
            "\u001b[0;32m<ipython-input-16-6bb03a12074f>\u001b[0m in \u001b[0;36mrun_md5\u001b[0;34m(input_stdin)\u001b[0m\n\u001b[1;32m      1\u001b[0m \u001b[0;32mdef\u001b[0m \u001b[0mrun_md5\u001b[0m\u001b[0;34m(\u001b[0m\u001b[0minput_stdin\u001b[0m\u001b[0;34m)\u001b[0m\u001b[0;34m:\u001b[0m\u001b[0;34m\u001b[0m\u001b[0;34m\u001b[0m\u001b[0m\n\u001b[0;32m----> 2\u001b[0;31m   \u001b[0mproc\u001b[0m \u001b[0;34m=\u001b[0m \u001b[0msubprocess\u001b[0m\u001b[0;34m.\u001b[0m\u001b[0mPopen\u001b[0m\u001b[0;34m(\u001b[0m\u001b[0;34m[\u001b[0m\u001b[0;34m'md5'\u001b[0m\u001b[0;34m]\u001b[0m\u001b[0;34m,\u001b[0m \u001b[0mstdin\u001b[0m\u001b[0;34m=\u001b[0m\u001b[0minput_stdin\u001b[0m\u001b[0;34m,\u001b[0m \u001b[0mstdout\u001b[0m\u001b[0;34m=\u001b[0m\u001b[0msubprocess\u001b[0m\u001b[0;34m.\u001b[0m\u001b[0mPIPE\u001b[0m\u001b[0;34m)\u001b[0m\u001b[0;34m\u001b[0m\u001b[0;34m\u001b[0m\u001b[0m\n\u001b[0m\u001b[1;32m      3\u001b[0m   \u001b[0;32mreturn\u001b[0m \u001b[0mproc\u001b[0m\u001b[0;34m\u001b[0m\u001b[0;34m\u001b[0m\u001b[0m\n",
            "\u001b[0;32m/usr/lib/python3.6/subprocess.py\u001b[0m in \u001b[0;36m__init__\u001b[0;34m(self, args, bufsize, executable, stdin, stdout, stderr, preexec_fn, close_fds, shell, cwd, env, universal_newlines, startupinfo, creationflags, restore_signals, start_new_session, pass_fds, encoding, errors)\u001b[0m\n\u001b[1;32m    727\u001b[0m                                 \u001b[0mc2pread\u001b[0m\u001b[0;34m,\u001b[0m \u001b[0mc2pwrite\u001b[0m\u001b[0;34m,\u001b[0m\u001b[0;34m\u001b[0m\u001b[0;34m\u001b[0m\u001b[0m\n\u001b[1;32m    728\u001b[0m                                 \u001b[0merrread\u001b[0m\u001b[0;34m,\u001b[0m \u001b[0merrwrite\u001b[0m\u001b[0;34m,\u001b[0m\u001b[0;34m\u001b[0m\u001b[0;34m\u001b[0m\u001b[0m\n\u001b[0;32m--> 729\u001b[0;31m                                 restore_signals, start_new_session)\n\u001b[0m\u001b[1;32m    730\u001b[0m         \u001b[0;32mexcept\u001b[0m\u001b[0;34m:\u001b[0m\u001b[0;34m\u001b[0m\u001b[0;34m\u001b[0m\u001b[0m\n\u001b[1;32m    731\u001b[0m             \u001b[0;31m# Cleanup if the child failed starting.\u001b[0m\u001b[0;34m\u001b[0m\u001b[0;34m\u001b[0m\u001b[0;34m\u001b[0m\u001b[0m\n",
            "\u001b[0;32m/usr/lib/python3.6/subprocess.py\u001b[0m in \u001b[0;36m_execute_child\u001b[0;34m(self, args, executable, preexec_fn, close_fds, pass_fds, cwd, env, startupinfo, creationflags, shell, p2cread, p2cwrite, c2pread, c2pwrite, errread, errwrite, restore_signals, start_new_session)\u001b[0m\n\u001b[1;32m   1362\u001b[0m                         \u001b[0;32mif\u001b[0m \u001b[0merrno_num\u001b[0m \u001b[0;34m==\u001b[0m \u001b[0merrno\u001b[0m\u001b[0;34m.\u001b[0m\u001b[0mENOENT\u001b[0m\u001b[0;34m:\u001b[0m\u001b[0;34m\u001b[0m\u001b[0;34m\u001b[0m\u001b[0m\n\u001b[1;32m   1363\u001b[0m                             \u001b[0merr_msg\u001b[0m \u001b[0;34m+=\u001b[0m \u001b[0;34m': '\u001b[0m \u001b[0;34m+\u001b[0m \u001b[0mrepr\u001b[0m\u001b[0;34m(\u001b[0m\u001b[0merr_filename\u001b[0m\u001b[0;34m)\u001b[0m\u001b[0;34m\u001b[0m\u001b[0;34m\u001b[0m\u001b[0m\n\u001b[0;32m-> 1364\u001b[0;31m                     \u001b[0;32mraise\u001b[0m \u001b[0mchild_exception_type\u001b[0m\u001b[0;34m(\u001b[0m\u001b[0merrno_num\u001b[0m\u001b[0;34m,\u001b[0m \u001b[0merr_msg\u001b[0m\u001b[0;34m,\u001b[0m \u001b[0merr_filename\u001b[0m\u001b[0;34m)\u001b[0m\u001b[0;34m\u001b[0m\u001b[0;34m\u001b[0m\u001b[0m\n\u001b[0m\u001b[1;32m   1365\u001b[0m                 \u001b[0;32mraise\u001b[0m \u001b[0mchild_exception_type\u001b[0m\u001b[0;34m(\u001b[0m\u001b[0merr_msg\u001b[0m\u001b[0;34m)\u001b[0m\u001b[0;34m\u001b[0m\u001b[0;34m\u001b[0m\u001b[0m\n\u001b[1;32m   1366\u001b[0m \u001b[0;34m\u001b[0m\u001b[0m\n",
            "\u001b[0;31mFileNotFoundError\u001b[0m: [Errno 2] No such file or directory: 'md5': 'md5'"
          ]
        }
      ]
    },
    {
      "cell_type": "markdown",
      "metadata": {
        "id": "sC7bD-cZycWE",
        "colab_type": "text"
      },
      "source": [
        "I/O giữa các tiến trình con sẽ xảy ra tự động mỗi khi chúng khởi chạy. Tất cả những gì bạn cần làm là chờ cho chúng hoàn thiện và in ra kết quả cuối cùng"
      ]
    },
    {
      "cell_type": "code",
      "metadata": {
        "id": "Dft7TpMyyPrv",
        "colab_type": "code",
        "colab": {}
      },
      "source": [
        "for proc in input_procs:\n",
        "  proc.communicate()\n",
        "\n",
        "for proc in hash_procs:\n",
        "  out, err = proc.communicate()\n",
        "  print(out.strip())"
      ],
      "execution_count": 0,
      "outputs": []
    },
    {
      "cell_type": "markdown",
      "metadata": {
        "id": "ER8cb5Syy-gN",
        "colab_type": "text"
      },
      "source": [
        "Nếu bạn lo lắng về việc các tiến trình con không bao giờ kết thúc được hoặc bằng cách nào đó khoá các pipes đầu vào và đầu ra, khi đó đảm bảo rằng bạn truyền tham số ```timeout``` tới phương thức ```communicate```. Điều này làm cho một ngoại lệ được khởi lên nếu tiến trình con không hồi đáp trong một khoảng thời gian, cho bạn một cơ hội để kết thúc tiến trình con cư xử không đúng"
      ]
    },
    {
      "cell_type": "code",
      "metadata": {
        "id": "G_TMSZlWy1rZ",
        "colab_type": "code",
        "outputId": "64d9ea8e-a9fe-4da8-8746-efeb21174809",
        "colab": {
          "base_uri": "https://localhost:8080/",
          "height": 34
        }
      },
      "source": [
        "proc = run_sleep(10)\n",
        "try:\n",
        "  proc.communicate(timeout=0.1)\n",
        "except subprocess.TimeoutExpired:\n",
        "  proc.terminate()\n",
        "  proc.wait()\n",
        "\n",
        "print('Exit status', proc.poll())"
      ],
      "execution_count": 0,
      "outputs": [
        {
          "output_type": "stream",
          "text": [
            "Exit status -15\n"
          ],
          "name": "stdout"
        }
      ]
    },
    {
      "cell_type": "markdown",
      "metadata": {
        "id": "dmfBFrzczvsw",
        "colab_type": "text"
      },
      "source": [
        "Không may mắn rằng tham số ```timeout``` chỉ có sẵn trong Python 3.3. và các phiên bản sau. Trong các phiên bản trước đó, bạn sẽ cần sử dụng module có sẵn ```select``` trên ```proc.stdin```, ```proc.stdout```, và ```proc.stderr``` để áp đặt các timeouts lên I/O."
      ]
    },
    {
      "cell_type": "markdown",
      "metadata": {
        "id": "ab4f8Jg-0I3L",
        "colab_type": "text"
      },
      "source": [
        "### Những thứ cần nhớ\n",
        "\n",
        "\n",
        "*   Sử dụng module có sẵn ```subprocess``` để chạy các tiến trình con và quản lý các input và output streams. \n",
        "*   Các tiến trình con chạy song song với tiến trình thông dịch Python, cho phép bạn tối đa hoá sử dụng CPU.\n",
        "* Sử dụng tham số ```timeout``` với ```communicate``` để tránh các deadlocks và treo các tiến trình con. \n",
        "\n"
      ]
    },
    {
      "cell_type": "markdown",
      "metadata": {
        "id": "xOZWC5ogKqNf",
        "colab_type": "text"
      },
      "source": [
        "\n",
        "## Sử dụng các luồng (Threads) cho việc khoá I/O, tránh sự song song\n",
        "\n",
        "Triển khai chuẩn của Python được gọi là CPython. CPython chạy một chương trình Python trong hai bước. Bước đầu tiên, nó phân tích (parse) và dịch (compile) code nguồn sang bytecode. Sau đó, nó chạy bytecode sử dụng một ngăn xếp dựa trên thông dịch (stack-based interpreter). Thông dịch bytecode có trạng thái phải được bảo trì và mạch lạc trong khi chương trình Python chạy. Python áp dụng sự gắn kết với một cơ chế gọi là khoá thông dịch toàn cục (global interpreter lock (GIL)).\n",
        "\n",
        "Về căn bản, GIL là một khoá loại trừ tương hỗ (mutual-exclusion lock) ngăn CPython khởi bị ảnh hưởng bởi các đa tiến trình đặt trước, nơi một luồng (thread) giữ quyền điều khiển của một chương trình bằng cách ngăn một luồn khác. Việc ngắt như vậy có thể làm hỏng trạng thái thông dịch nếu nó xảy ra tại một thời điểm không như mong đợi. GIL ngăn các ngắt này và đảm bảo rằng mỗi lệnh bytecode hoạt động đúng như mong đợi với triển khai CPython và các modules mở rộng của nó. \n",
        "\n",
        "GIL có một hiệu ứng phụ quan trọng. Với các chương trình được viết bằng các ngôn ngữ như C++ hay Java, có nhiều luồng thực thi nghĩa là chương trình của bạn có thể tận dụng nhiều CPU cores tại cùng một thời điểm. Mặc dù Python hỗ trợ đa luồng thực thi, GIL chỉ cho một trong số các luồng này thực hiện công việc tại một thời điểm. Điều này có nghĩa là khi bạn đạt tới các luồng cho việc tính toán song song và làm nhanh các chương trình Python của bạn, bạn sẽ bị thất vọng nhiều. \n",
        "\n",
        "Ví dụ, bạn muốn làm một thứ gì đó thiên về tính toán với Python. Tôi sẽ sử dụng một giải thuật nhân tố như là một ví dụ. "
      ]
    },
    {
      "cell_type": "code",
      "metadata": {
        "id": "fAes8QogzqLO",
        "colab_type": "code",
        "colab": {}
      },
      "source": [
        "def factorize(number):\n",
        "  for i in range(1, number + 1):\n",
        "    if number % i == 0:\n",
        "      yield i "
      ],
      "execution_count": 0,
      "outputs": []
    },
    {
      "cell_type": "markdown",
      "metadata": {
        "id": "Wsoy7UzgOGIo",
        "colab_type": "text"
      },
      "source": [
        "Tính toán một tập hợp các số tuần tự tốn thời gian rất lâu."
      ]
    },
    {
      "cell_type": "code",
      "metadata": {
        "id": "72-dr1UsOE8X",
        "colab_type": "code",
        "outputId": "31373407-7a5c-4596-f2fc-925268adb749",
        "colab": {
          "base_uri": "https://localhost:8080/",
          "height": 34
        }
      },
      "source": [
        "import time\n",
        "numbers = [2139079, 1214759, 1516637, 1852285]\n",
        "\n",
        "start = time.time()\n",
        "for number in numbers:\n",
        "  list(factorize(number))\n",
        "\n",
        "end = time.time()\n",
        "print(\"Took %.3f seconds\" % (end - start))"
      ],
      "execution_count": 0,
      "outputs": [
        {
          "output_type": "stream",
          "text": [
            "Took 0.421 seconds\n"
          ],
          "name": "stdout"
        }
      ]
    },
    {
      "cell_type": "markdown",
      "metadata": {
        "id": "mtlkpB5lOrZX",
        "colab_type": "text"
      },
      "source": [
        "Sử dụng đa luồng để làm việc tính toán này có thể hợp lý trong các ngôn ngữ khác bởi vì bạn có thể tận dụng được tất cả các CPU cores của máy tính của bạn. Để tôi thử nó trong Python. Ở đây, tôi định nghĩa một luồng Python để thực hiện việc tính toán giống như trước đó: "
      ]
    },
    {
      "cell_type": "code",
      "metadata": {
        "id": "QnRuRbeWOlXe",
        "colab_type": "code",
        "colab": {}
      },
      "source": [
        "from threading import Thread \n",
        "\n",
        "class FactorizeThread(Thread):\n",
        "  def __init__(self, number):\n",
        "    super().__init__()\n",
        "    self.number = number\n",
        "\n",
        "  def run(self):\n",
        "    self.factors = list(factorize(self.number))"
      ],
      "execution_count": 0,
      "outputs": []
    },
    {
      "cell_type": "markdown",
      "metadata": {
        "id": "5Qt70AA4PQy7",
        "colab_type": "text"
      },
      "source": [
        "Sau đó, tôi bắt đầu một luồng cho việc tính nhân tử cho mỗi số song song"
      ]
    },
    {
      "cell_type": "code",
      "metadata": {
        "id": "Yd-ihmpAPP58",
        "colab_type": "code",
        "colab": {}
      },
      "source": [
        "import time \n",
        "start = time.time()\n",
        "threads = []\n",
        "for number in numbers:\n",
        "  thread = FactorizeThread(number)\n",
        "  thread.start()\n",
        "  threads.append(thread)"
      ],
      "execution_count": 0,
      "outputs": []
    },
    {
      "cell_type": "markdown",
      "metadata": {
        "id": "_7p2ClroPsl_",
        "colab_type": "text"
      },
      "source": [
        "Cuối cùng, tôi chờ cho tất cả các luồng hoàn thành. "
      ]
    },
    {
      "cell_type": "code",
      "metadata": {
        "id": "DvVhrX8YPizw",
        "colab_type": "code",
        "outputId": "d5ef13d4-af42-43af-9064-669159b0da9a",
        "colab": {
          "base_uri": "https://localhost:8080/",
          "height": 34
        }
      },
      "source": [
        "for thread in threads:\n",
        "  thread.join()\n",
        "end = time.time()\n",
        "print('Took %.3f seconds' % (end - start))"
      ],
      "execution_count": 0,
      "outputs": [
        {
          "output_type": "stream",
          "text": [
            "Took 2.722 seconds\n"
          ],
          "name": "stdout"
        }
      ]
    },
    {
      "cell_type": "markdown",
      "metadata": {
        "id": "6OphLwvQP--2",
        "colab_type": "text"
      },
      "source": [
        "Điều ngạc nhiên ở đây là cách triển khai với luồng còn chạy chậm hơn là chạy tuồn tự. Với một luồng cho một số, bạn có thể mong đợi thời gian sẽ nhanh ít hơn bốn lần như với các ngôn ngữ khác bởi vì chi ví cho việc tạo các luồng và phối hợp chúng. Bạn có thể mong đợi chỉ nhanh hơn gấp hai lần trên máy tính có hai core. Nhưng bạn không bao giờ mong đợi rằng hiệu năng của các luồng này lại tệ hơn khi bạn tận dụng nhiều CPU. Điều này cho thấy ảnh hưởng của GIL lên các chương trình chạy trong thông dịch CPython chuẩn. \n",
        "\n",
        "Có các cách để dùng Python để tận dụng nhiều cores, nhưng nó không hoạt động với lớp ```Thread``` và nó có thể yêu cầu một nỗ lực lớn. Biết được các giới hạn này, tại sao Python vẫn hỗ trợ các luồng? Có hai lý do tốt.\n",
        "\n",
        "Thứ nhất, có nhiều luồng làm cho chương trình của bạn trông như là nó đang thực hiện các công việc khác nhau cùng một thời điểm. Quản lý hành động tung hứng thì khó khăn. Với các luồng, bạn có thể để cho Python chạy các hàm của bạn song song. Điều này hoạt động bởi vì CPython đảm bảo mức độ công bằng giữa các luồng thực thi, mặc dù chỉ một trong số chúng được thực hiện tại một thời điểm bở vì GIL.\n",
        "\n",
        "Lý do thứ hai Python hỗ trợ các luồng đó là để giải quyết việc khoá I/O, điều xảy ra khi Python thực hiện một số lời gọi hệ thống. Các lời gọi hệ thống là cách chương trình Python của bạn yêu cầu hệ điều hành máy tính thay mặt bạn tương tác với môi trường bên ngoài. Khoá I/O bao gồm những thứ như đọc và ghi files, tương tác với mạng, giao tiếp với các thiết bị như hiển thị, vv. Các luồng giúp bạn xử lý các khoá I/O bằng cách cách điện chương trình của bạn khởi thời điểm nó yêu cầu hệ điều hành để hồi đáp các yêu cầu của bạn.\n",
        "\n",
        "Ví dụ, bạn muốn gửi một tín hiệu đến một trực thăng điều khiển từ xa thông qua một cổng serial. Tôi se sử dụng một lời gọi hệ thống chậm (```select```) như là một proxy cho hành động này. Hàm này yêu cầu hệ điều hành khoá trong 0.1 giây và sau đó trả quyền điều khiển cho chương trình của bạn, tương tự những gì xảy ra với một cổng serial đồng bộ"
      ]
    },
    {
      "cell_type": "code",
      "metadata": {
        "id": "F8I5kW-HP3PE",
        "colab_type": "code",
        "colab": {}
      },
      "source": [
        "import select\n",
        "\n",
        "def slow_systemcall():\n",
        "  select.select([], [], [], 0.1)"
      ],
      "execution_count": 0,
      "outputs": []
    },
    {
      "cell_type": "markdown",
      "metadata": {
        "id": "2z19vCJpTJWo",
        "colab_type": "text"
      },
      "source": [
        "Chạy lời gọi hệ thống này theo tuần tự yêu cầu lượng thời gian tương tuyến tính"
      ]
    },
    {
      "cell_type": "code",
      "metadata": {
        "id": "0jPIHbDUTICg",
        "colab_type": "code",
        "outputId": "ce4af0ad-6a4c-4e00-b1ce-2e5054f8ebf9",
        "colab": {
          "base_uri": "https://localhost:8080/",
          "height": 34
        }
      },
      "source": [
        "import time \n",
        "\n",
        "start = time.time()\n",
        "\n",
        "for _ in range(5):\n",
        "  slow_systemcall()\n",
        "\n",
        "end = time.time()\n",
        "print('Took %.3f seconds' % (end - start))"
      ],
      "execution_count": 0,
      "outputs": [
        {
          "output_type": "stream",
          "text": [
            "Took 0.501 seconds\n"
          ],
          "name": "stdout"
        }
      ]
    },
    {
      "cell_type": "markdown",
      "metadata": {
        "id": "Ypuk1WBGTsQm",
        "colab_type": "text"
      },
      "source": [
        "Vấn đề đó là trong khi hàm ```slow_systemcall``` đang chạy, chương trình của bạn không thể làm bất cứ công việc nào khác. Luồng thực thi chính của chương trình của tôi bị khoá bởi lời gọi hệ thống ```select```. Hoàn cảnh này thật là tệ. Bạn cần có thể tính toán di chuyển tiếp theo của trực thăng của bạn trong khi bạn đang gửi cho nó một tín hiệu, nếu không nó sẽ hư. Khi bạn cần đến việc khoá I/O và các tính toán song song, đây là lúc bạn xem xét sử dụng các luồng cho các lời gọi hệ thống của bạn.\n",
        "\n",
        "Ở đây, tôi chạy nhiều lời gọi của hàm ```slow_systemcall``` trong các luồng riêng biệt. Điều này cho phép bạn giao tiếp với nhiều cổng serial (và các trực thăng) tại cùng một thời điểm, trong khi để cho luồng chính của bạn làm bất cứ tính toán nào yêu cầu. "
      ]
    },
    {
      "cell_type": "code",
      "metadata": {
        "id": "2HsCRbwmTqOc",
        "colab_type": "code",
        "colab": {}
      },
      "source": [
        "start = time.time()\n",
        "threads = []\n",
        "\n",
        "for _ in range(5):\n",
        "  thread = Thread(target=slow_systemcall)\n",
        "  thread.start()\n",
        "  threads.append(thread)"
      ],
      "execution_count": 0,
      "outputs": []
    },
    {
      "cell_type": "markdown",
      "metadata": {
        "id": "JklkEEUcU0hv",
        "colab_type": "text"
      },
      "source": [
        "Với các luồng bắt đầu, ở đây bạn làm một vài công việc để tính toán di chuyển tiếp theo của trực thằng trước khi chờ cho các luồng lời gọi hệ thống kết thúc."
      ]
    },
    {
      "cell_type": "code",
      "metadata": {
        "id": "2yfk3nH_Uy3P",
        "colab_type": "code",
        "outputId": "208ed55d-8d28-419c-e753-ee3f21b71aaf",
        "colab": {
          "base_uri": "https://localhost:8080/",
          "height": 119
        }
      },
      "source": [
        "def compute_helicopter_location(index):\n",
        "  print(\"Next move\")\n",
        "\n",
        "for i in range(5):\n",
        "  compute_helicopter_location(i)\n",
        "\n",
        "\n",
        "for thread in threads:\n",
        "  thread.join()\n",
        "\n",
        "end = time.time()\n",
        "print(\"Took %.3f seconds\" % (end - start))"
      ],
      "execution_count": 0,
      "outputs": [
        {
          "output_type": "stream",
          "text": [
            "Next move\n",
            "Next move\n",
            "Next move\n",
            "Next move\n",
            "Next move\n",
            "Took 5.743 seconds\n"
          ],
          "name": "stdout"
        }
      ]
    },
    {
      "cell_type": "markdown",
      "metadata": {
        "id": "j-ndQTNIVpN5",
        "colab_type": "text"
      },
      "source": [
        "Thời gian chạy song song nhanh hơn 5 lần so với chạy tuần tự. Điều này cho thấy các lời gọi hệ thống sẽ chạy song song từ nhiều luồng Python mặc dù chúng bị giới hạn bởi GIL. GIL ngăn cho code của chương trình chạy song song, nhưng nó không có hiệu ứng tiêu cực này với các lời gọi hệ thống. Nó hoạt động được là bởi vì các luồng Python nhả GIL chỉ trước khi chúng ta ra các lời gọi hệ thống và lấy lại GIL khi các lời gọi này hoàn thành. \n",
        "\n",
        "Có nhiều cách khác nhau để giải quyết với các khoá I/O bên cạnh các luồng, ví dụ như module có sẵn ```asyncio```, và các lựa chọn thay thế cũng có những lợi ích quan trọng. Các tuỳ chọn này yêu cầu bạn phải tái cấu trúc lại code của bạn để khớp với một model thực thi khác. Sử dụng các luồng là cách đơn giản nhât để thực thiện việc khoá I/O song song với các thay đổi tối thiểu trong chương trình của bạn."
      ]
    },
    {
      "cell_type": "markdown",
      "metadata": {
        "id": "TY8WrEgLWw7_",
        "colab_type": "text"
      },
      "source": [
        "### Những điều cần nhớ\n",
        "\n",
        "\n",
        "*   Các luồng Python không thể chạy bytecode song song trên nhiều CPU cores bởi vì khoá thông dịch toàn cục (Global interpreter lock (GIL))\n",
        "*   Các luồng Python vẫn hữu dụng bởi vì chúng cung cấp một cách dễ dàng để làm nhiều thứ giống như là cùng một thời điểm.\n",
        "* Sử dụng các luồng Python để tạo ra các lời gọi hệ thống song song. Điều này cho phép bạn thực hiện chặn I/O tại cùng một thời điểm tính toán. \n",
        "\n"
      ]
    },
    {
      "cell_type": "markdown",
      "metadata": {
        "id": "mZSQYA9-hg1b",
        "colab_type": "text"
      },
      "source": [
        "## Sử dụng ```Lock``` để ngăn đua dữ liệu (Data races) trong các luồng\n",
        "\n",
        "Sau khi học về GIL (global interpreter lock), nhiều lập trình viên Python mới có thể từ bỏ sử dụng các khoá loại trừ tương hỗ (mutual-exclustion locks (mutexes)) trong code của họ. Nếu GIL đang ngăn các luồng Python chạy trên nhiều CPU cores song song, nó phải hoạt động như là một khoá cho các cấu trúc dữ liệu? Một vài kiểm tra trên các kiểu như danh sách và các từ điển có thể chỉ ra rằng gỉa định này đúng.\n",
        "\n",
        "Nhưng nhớ rằng, điều này không luôn luôn đúng. GIL sẽ không bảo vệ bạn. Mặc dù chỉ một luồng Python chạy một thời điểm, các hành động của luồng trên các cấu trúc dữ liệu có thể bị ngắt giữa bất cứ các lệnh bytecode trong trình thông dịch Python. Điều này nguy hiểm nếu bạn truy cập cùng các đối tượng từ nhiều luồng cùng một lúc. Các biến thể của các cấu trúc dữ liệu của bạn có thể bị vi phạm bất cứ lúc nào bởi vì các ngắt này, để chương trình của bạn trong một trạng thái bị hư.\n",
        "\n",
        "Ví dụ, bạn muốn viết một chương trình đếm nhiều thứ song song, như là việc lấy các mẫu mức độ ánh sáng từ toàn bộ mạng sensors. Nếu bạn muốn xác định tổng số lượng các mẫu ánh sáng qua thời gian, bạn có thể gộp chúng với một lớp mới.  "
      ]
    },
    {
      "cell_type": "code",
      "metadata": {
        "id": "QcsbyjTEVU-T",
        "colab_type": "code",
        "colab": {}
      },
      "source": [
        "class Counter(object):\n",
        "  def __init__(self):\n",
        "    self.count = 0\n",
        "\n",
        "  def increment(self, offset):\n",
        "    self.count += offset"
      ],
      "execution_count": 0,
      "outputs": []
    },
    {
      "cell_type": "markdown",
      "metadata": {
        "id": "Z1YDcENu6div",
        "colab_type": "text"
      },
      "source": [
        "Tưởng tượng rằng mỗi sensor có luồng thực thi công việc riêng của nó bởi vì đọc từ sensor yêu cầu khoá I/O. Mỗi đo lường sensor, luồng công việc tăng bộ đếm lên số lượng tối đa của việc đọc mong muốn"
      ]
    },
    {
      "cell_type": "code",
      "metadata": {
        "id": "DXzW-rXu63Uk",
        "colab_type": "code",
        "colab": {}
      },
      "source": [
        "def worker(sensor_index, how_many, counter):\n",
        "  for _ in range(how_many):\n",
        "    # Read from the sensor\n",
        "    # ...\n",
        "    counter.increment(1)"
      ],
      "execution_count": 0,
      "outputs": []
    },
    {
      "cell_type": "markdown",
      "metadata": {
        "id": "n6vivK7t7JNq",
        "colab_type": "text"
      },
      "source": [
        "Ở đây, tôi định nghĩa một hàm khởi động một luồng công việc cho mỗi sensor và chờ chúng kết thúc việc đọc"
      ]
    },
    {
      "cell_type": "code",
      "metadata": {
        "id": "WyHG57Ku7IQ9",
        "colab_type": "code",
        "colab": {}
      },
      "source": [
        "def run_threads(func, how_many, counter):\n",
        "  threads = []\n",
        "\n",
        "  for i in range(5):\n",
        "    args = (i, how_may, counter)\n",
        "    thread = Thread(target=func, args=args)\n",
        "    threads.append(thread)\n",
        "    thread.start()\n",
        "  \n",
        "  for thread in threads:\n",
        "    thread.join()"
      ],
      "execution_count": 0,
      "outputs": []
    },
    {
      "cell_type": "markdown",
      "metadata": {
        "id": "NmrPXd2L9J07",
        "colab_type": "text"
      },
      "source": [
        "Chạy năm luồng song song dường như đơn giản, và kết quả rõ rệt. \n"
      ]
    },
    {
      "cell_type": "code",
      "metadata": {
        "id": "CozPF2CW9Ggc",
        "colab_type": "code",
        "colab": {}
      },
      "source": [
        "how_many = 10 ** 5\n",
        "counter = Counter()\n",
        "run_threads(worker, how_many, counter)\n",
        "print(\"Counter should be %d, found %d\" % (5 * how_many, counter.count))"
      ],
      "execution_count": 0,
      "outputs": []
    },
    {
      "cell_type": "markdown",
      "metadata": {
        "id": "AphW5ue-9rFT",
        "colab_type": "text"
      },
      "source": [
        "Trình thông dịch Python đảm bảo tính công bằng giữa các luồng đang thực thi để đảm bảo rằng chúng có được lượng thời gian xử lý như nhau. Để làm điều này, Python sẽ tạm ngưng một luồng và khôi phục luồng khác theo thứ tự. Vấn đề là bạn không biết chính xác khi nào Python sẽ tạm ngưng luồng của bạn. Một luồng có thể thạm chí ngưng nửa chừng. Đó là những gì đã xảy ra trong trường hợp này.   \n",
        "\n",
        "Phương thức ```increment``` của đối tượng ```Counter``` nhìn đơn giản.\n",
        "\n",
        "```counter.count += offset```\n",
        "\n",
        "Nhưng phép tính ```+=``` sử dụng trên một thuộc tính đối tượng thực sự làm cho Python làm ba hành động riêng biệt. Câu lệnh trên tương đương với:"
      ]
    },
    {
      "cell_type": "code",
      "metadata": {
        "id": "ifCSite6-ksj",
        "colab_type": "code",
        "colab": {}
      },
      "source": [
        "value = getarr(counter, 'count')\n",
        "result = value + offset\n",
        "setattr(counter, 'count', result)"
      ],
      "execution_count": 0,
      "outputs": []
    },
    {
      "cell_type": "markdown",
      "metadata": {
        "id": "YLmWo5ob_FGK",
        "colab_type": "text"
      },
      "source": [
        "Các luồng Python tăng biến đếm có thể bị tạm ngưng giữa bất cứ hai trong ba hành động này. Điều này tạo ra một vấn đề nếu các phép tính làm cho các phiên bản cũ của ```value``` được gán cho counter. Ở đây là một ví dụ của việc giao tiếp tệ giữa hai luồng, A và B:\n"
      ]
    },
    {
      "cell_type": "code",
      "metadata": {
        "id": "E1jB7xDn_nUC",
        "colab_type": "code",
        "colab": {}
      },
      "source": [
        "# Running in Thread A\n",
        "value_a = getattr(counter, 'count')\n",
        "# Context switch to Thread B\n",
        "value_b = getattr(counter, 'count')\n",
        "result_b = value_b + 1\n",
        "setattr(counter, 'count', result_b)\n",
        "# Context switch back to Thread A\n",
        "result_a = value_a + 1\n",
        "setatter(counter, 'count', result_a)"
      ],
      "execution_count": 0,
      "outputs": []
    },
    {
      "cell_type": "markdown",
      "metadata": {
        "id": "wzpRjHFnAChL",
        "colab_type": "text"
      },
      "source": [
        "Thread A dậm chân lên Thread B, xoá đi tất cả tiến trình của nó trong việc tăng counter. Điều này xảy ra với ví dụ light sensor.\n",
        "\n",
        "Để ngăn đua dữ liệu như thế này và việc gây hư cấu trúc dữ liệu, Python bao gồm một tập hợp các công cụ trong module có sẵn ```threading```. Một trong những lớp đơn giản và hữu dụng nhất là lớp ```Lock```, một khoá loại trừ tương hỗ (mutex).\n",
        "\n",
        "Thông qua việc sử dụng một khoá, tôi có thể có lớp ```Counter``` bảo vệ giá trị hiện hành của nó chống lại các truy cập đồng thời từ nhiều luồng. Chỉ một luồng có thể có được chìa khoá tại một thời điểm. Ở đây, tôi sử dụng ```with``` để lấy ra và giải phòng khoá; điều này làm cho việc nhìn xem code nào đang thực thi dễ hơn trong khi lock đang được giữ. "
      ]
    },
    {
      "cell_type": "code",
      "metadata": {
        "id": "qTBEJArwCAIK",
        "colab_type": "code",
        "colab": {}
      },
      "source": [
        "class LockingCounter(object):\n",
        "  def __init__(self):\n",
        "    self.lock = Lock()\n",
        "    self.count = 0\n",
        "\n",
        "  def increment(self, offset):\n",
        "    with self.lock:\n",
        "      self.count += offset "
      ],
      "execution_count": 0,
      "outputs": []
    },
    {
      "cell_type": "markdown",
      "metadata": {
        "id": "pMmp45qVCVLB",
        "colab_type": "text"
      },
      "source": [
        "Bây giờ bạn chạy các luồng công việc như trước đó, nhưng sử dụng một ```LockingCounter```"
      ]
    },
    {
      "cell_type": "code",
      "metadata": {
        "id": "sxrJDbukChqL",
        "colab_type": "code",
        "colab": {}
      },
      "source": [
        "counter = LockingCounter()\n",
        "run_threads(worker, how_many, counter)\n",
        "print(\"Counter should be %d, found %d\" % (5 * how_many, counter.count))"
      ],
      "execution_count": 0,
      "outputs": []
    },
    {
      "cell_type": "markdown",
      "metadata": {
        "id": "XO3k0KfyCxgL",
        "colab_type": "text"
      },
      "source": [
        "### Những điều cần nhớ\n",
        "\n",
        "\n",
        "*  Mặc dù Python có một khoá thông dịch toàn cục, bạn vẫn chịu trách nhiệm cho việc bảo về các đua dữ liệu giữa các luồng trong các chương trình của bạn.\n",
        "*   Các chương trình của bạn sẽ gây hư hỏng các cấu trúc dữ liệu của họ nếu bạn cho phép nhiều luồng thay đổi cùng các đối tượng mà không có locks.\n",
        "* Lớp ```Lock``` trong module có sẵn ```threading``` là triển khai khoá loại trừ tương hỗ. \n",
        "\n"
      ]
    },
    {
      "cell_type": "markdown",
      "metadata": {
        "id": "54um1nm9Dgy2",
        "colab_type": "text"
      },
      "source": [
        "## Sử dụng ```Queue``` để phối hợp các công việc giữa các luồng. \n",
        "\n",
        "Các chương trình Python làm nhiều thứ đồng thời thường cần phối hợp các công việc của họ. Một trong số các sắp xếp hữu dụng cho công việc đồng thời đó là một pipeline các hàm.\n",
        "\n"
      ]
    },
    {
      "cell_type": "markdown",
      "metadata": {
        "id": "rEEt6MQEGIEd",
        "colab_type": "text"
      },
      "source": [
        "## Xem xét sử dụng ```concurrent.futures``` cho việc thực hiện song song thực sự\n",
        "\n",
        "Trên các máy tính hiện đại chó số lượng CPU cores ngày càng nhiều, điều này làm cho một giải pháp cho việc xử lý song song hoàn toàn có thể. Nếu tôi có thể chia xử lý tính toán của code của tôi thành các mảnh riêng biệt và chạy song song trên nhiều CPU cores. \n",
        "\n",
        "Không may mắn, GIL ngăn việc xử lý song song thực sự trong các luồng, vì vậy giải pháp trên không khả thi. Một gợi ý khác là viết lại các đoạn mã quan trọng cho hiệu năng như là một module mở rộng sử dụng ngôn ngữ C. C làm cho bạn gần với kim loại hơn và có thể chạy nhanh hơn Python, loại bỏ nhu cầu cho việc xử lý song song. Các mở rộng C có thể bắt đầu các luồng tự nhiên và chạy song song và tận dụng các CPU cores. Các Python API cho mở rộng của ngôn ngữ C được viết rất tốt và là một lựa chọn tốt cho việc cải tiến. \n",
        "\n",
        "Nhưng viết lại code của bạn trọng C tạo ra một chi phí lớn. Code được viết ngắn gọn và dễ hiểu trong Python có thể trở nên rườm rà và phức tạp trong C. Việc chuển đổi này cần cần phải đảm bảo rằng tính năng được viết bởi Python tương đương với tính năng khi viết bằng C và không tạo ra các bugs. Thỉnh thoảng việc chuyển đổi này đem lại những lợi ích, điều đó giải thích lý do tại sao có một số lượng lớn các modules mở rộng C trong cộng đồng Python để tăng tốc các công việc như phân tích text (text parsing), gộp ảnh (image compositing), và tính toán ma trận. Thậm chí có những công cụ mở như Cython và Numba giúp cho việc chuyển sang C dễ dàng. \n",
        "\n",
        "Vấn đề ở đây là chuyển một mảnh code trong chương trình Python của bạn sang C không hiệu quả trong nhiều trường hợp. Các chương trình Python được tối ưu không bị chậm, nhưng có nhiều tác nhân khác. Để tận dụng được lợi thế nhanh của C và các luôgn, bạn cần port các các phần của chương trình của bạn, tăng nhu cầu kiểm tra và rủi ro. Phải có một cách nào đó tốt hơn để bảo tồn sự đầu tư của bạn trong Python để giải quyết các vấn đề khó khăn liên quan đến tính toán. \n",
        "\n",
        "Module có sẵn ```multiprocessing```, có thể được truy cập dễ dàng thông qua module có sẵn ```concurrent.futures```, có thể là những gì bạn cần tới. Nó cho phép Python tận dụng nhiều CPU cores song song thông ua việc chạy thêm các interpreters như là các tiến trình con. Các tiến trình con này được phân tách khỏi interpreter chính, vì vậy các khoá thông dịch toàn cục được ngăn cách. Mỗi tiến trình con có thể tận dụng tối đa một CPU core. \n",
        "\n",
        "Ví dụ, bạn muốn làm một thứ gì đó tính toán nặng với Python và tận dụng nhiều CPU cores. Tôi sẽ sử dụng triển khai của công việc tìm mẫu số chung lớn nhất của hai số như là đại diện cho một giải thuật yêu cầu tính toán nặng, "
      ]
    },
    {
      "cell_type": "code",
      "metadata": {
        "id": "UGHdL9llDcu9",
        "colab_type": "code",
        "colab": {}
      },
      "source": [
        "def gcd(pair):\n",
        "  a, b = pair \n",
        "  low = min(a, b)\n",
        "  for i in range(low, 0, -1):\n",
        "    if a % i == 0 and b % i == 0:\n",
        "      return i"
      ],
      "execution_count": 0,
      "outputs": []
    },
    {
      "cell_type": "markdown",
      "metadata": {
        "id": "MruB3y1Hc4fX",
        "colab_type": "text"
      },
      "source": [
        "Chạy hàm này sẽ tiêu tốn thời gian luỹ tiến bởi vì không có cơ chế song song. "
      ]
    },
    {
      "cell_type": "code",
      "metadata": {
        "id": "rHdxFOJ6c2oK",
        "colab_type": "code",
        "colab": {
          "base_uri": "https://localhost:8080/",
          "height": 34
        },
        "outputId": "6103130a-10f4-4a30-faaa-c2d27518a3c2"
      },
      "source": [
        "import time\n",
        "numbers = [(1963309, 2265973), (2030677, 3814172), (1551645, 2229620), (2039045, 2020802)]\n",
        "start = time.time()\n",
        "results = list(map(gcd, numbers))\n",
        "end = time.time()\n",
        "\n",
        "print(\"Took %.3f seconds\" % (end - start))"
      ],
      "execution_count": 4,
      "outputs": [
        {
          "output_type": "stream",
          "text": [
            "Took 0.509 seconds\n"
          ],
          "name": "stdout"
        }
      ]
    },
    {
      "cell_type": "markdown",
      "metadata": {
        "id": "n-wtuH-bdzhP",
        "colab_type": "text"
      },
      "source": [
        "Chạy mã này trên nhiều luồng Python sẽ không tạo ra bất cứ cải tiến nào bởi vì GIL ngăn Python sử dụng nhiều CPU cores song song. Ở đây, tôi thực hiện cùng việc tính toán như trên sử dụng ```concurrent.futures``` với lớp ```ThreadPoolExecutor``` và hai luồng công việc (để khớp với số lượng CPU cores trên máy tính của tôi)."
      ]
    },
    {
      "cell_type": "code",
      "metadata": {
        "id": "Bh4Dc-IXdusD",
        "colab_type": "code",
        "colab": {}
      },
      "source": [
        "from concurrent.futures import ThreadPoolExecutor\n",
        "start = time.time()\n",
        "pool = ThreadPoolExecutor(max_workers=4)\n",
        "results = list(pool.map(gcd, numbers))\n",
        "end = time.time()\n",
        "\n",
        "print(\"Took %.3f seconds\" % (end - start))"
      ],
      "execution_count": 0,
      "outputs": []
    },
    {
      "cell_type": "markdown",
      "metadata": {
        "id": "eY7wCluigyXy",
        "colab_type": "text"
      },
      "source": [
        "Chạy đoạn mã triển khai với Thread còn chậm hơn bởi vì chi phí cho việc khởi động và giao tiếp với các luồng khác. "
      ]
    },
    {
      "cell_type": "markdown",
      "metadata": {
        "id": "tr8pP54NhCSB",
        "colab_type": "text"
      },
      "source": [
        "Và đây là phần ngạc nhiên: thông qua việc thay đổi một dòng code, điều kì diệu xảy ra. Nếu tôi thay ```ThreadPoolExecutor``` với module ```ProcessPoolExecutor```, mọi thứ nhanh hơn. "
      ]
    },
    {
      "cell_type": "code",
      "metadata": {
        "id": "5mX0JryehAWR",
        "colab_type": "code",
        "colab": {}
      },
      "source": [
        "from concurrent.futures import ProcessPoolExecutor\n",
        "start = time.time()\n",
        "pool = ProcessPoolExecutor(max_workers=4)\n",
        "results = list(pool.map(gcd, numbers))\n",
        "end = time.time()\n",
        "\n",
        "print(\"Took %.3f seconds\" % (end - start))"
      ],
      "execution_count": 0,
      "outputs": []
    },
    {
      "cell_type": "markdown",
      "metadata": {
        "id": "skGzuqPeiGzn",
        "colab_type": "text"
      },
      "source": [
        "Chạy đoạn mã trên máy tính có 2 core, nhanh hơn rất nhiều! Làm sao điều đó có thể xảy ra? Sau đây là những gì lớp ```ProcessPoolExecutor``` thực sự làm (thông qua các constructs cấp thấp được cung cấp bởi module ```multiprocessing```)\n",
        "\n",
        "\n",
        "1.   Lớp này lấy mỗi phần tử của danh sách ```numbers``` cho vào ```map```.\n",
        "2.   Serialize nó thành dữ liệu nhị phân sử dụng module có sẵn ```pickle```.\n",
        "3. Sao chép dữ liệu được serialized từ tiến trình interpreter chính tới một tiến trình interpreter con thông qua một socket cục bộ\n",
        "4. Deserialize dữ liệu ngược lại cho các đối tượng Python sử dụng ```pickle``` trong tiến trình con. \n",
        "5. Import module Python chứa hàm ```gcd```.\n",
        "6. Chạy hàm với dữ liệu đầu vào song song với các tiến trình con khác.\n",
        "7. Serialize kết quả ngược lại thành bytes.\n",
        "8. Sao chép các bytes này ngược lại thông qua socket. \n",
        "9. Deserialize bytes ngược lại vào trong các đối tượng Python trong tiến trình cha.\n",
        "10. Cuối cùng, merge kết quả từ nhiều tiến trình con vào trong một danh sách để trả về. \n",
        "\n",
        "Mặc dù các bước trên nhìn có vẻ đơn giản nhưng module ```mutiprocessing``` và lớp ```ProcessPoolExecutor``` làm một số lượng lớn việc để làm cho các công việc được thực hiện song song. Với nhiều ngôn ngữ khác, điểm chạm duy nhất bạn cần phối hợp hai luồng chỉ là một khoá hoặc một hành động nguyên tử. Chi phí sử dụng ```multiprocessing``` là cao bởi vì tất cả hành động serialization và deserialization phải xảy ra giữa các tiến trình cha và con. \n",
        "\n",
        "Cơ chế này phù hợp cho một số kiểu công việc cô lập và đòn bẩy cao (high-leverage). Cô lập ở đây có nghĩa là các hàm không cần phải chia sẻ trạng thái với các phần khác của chương trình. Đòn bẩy cao ở đây có nghĩa là một số tình huống chỉ một lượng nhỏ dữ liệu phải được trao đổi giữa các tiến trình con và tiến trình cha để cho phép một lượng lớn tính toán. Giải thuật tìm mẫu số chung là một ví dụ nhưng nhiều giải thuật toán khác hoạt động tương tự. \n",
        "\n",
        "Nếu hàm tính toán của bạn không có các thuộc tính này, chi phí của ```multiprocessing``` có thể ngăn bạn tăng tốc chương trình của mình thông qua việc xử lý song song. Khi điều này xảy ra, ```multiprocessing``` cung cấp các tính năng như bộ nhớ được chia sẻ (shared memory), các khoá tiến trình chéo (cross-process locks), các hàng đợi, và các proxies. Nhưng tất cả các tính năng này rất phức tạp. Suy nghĩ về một giải pháp nơi có một tiến trình chia sẻ không gian bộ nhớ với các luồng khác. Mở rộng sự phức tạp này sang các tiến trình khác và cần thêm nhiều sockets làm cho chương trình này trở nên khó hiểu rất nhiều. \n",
        "\n",
        "Tôi khuyến nghị tránh các phần của ```multiprocessing``` và sử dụng các tính năng này thông qua module ```concurrent.futures```. Bạn có thể bắt đầu sử dụng lớp ```ThreadPoolExecutor``` để chạy các hàm cô lập và đòn bẩy cao. Sau đó, bạn có thể di chuyển đến ```ProcessPoolExecutor``` để làm chương trình nhanh hơn. Cuối cùng, bạn tận dụng các tính năng khác, bạn có thể xem sét sử dụng module ```multiprocessing``` trực tiếp\n",
        "\n"
      ]
    },
    {
      "cell_type": "markdown",
      "metadata": {
        "id": "8Du2pHQTsUVw",
        "colab_type": "text"
      },
      "source": [
        "###\n",
        "\n",
        "\n",
        "*   Di chuyển các nút thắt cổ chai CPU tới các modules mở rộng C có thể là một cách hiệu quả để cải tiến hiệu năng trong khi tối đa hoá sự đầu tư của bạn trong Python code. Tuy nhiên, chi phí của làm việc này cao và có thể tạo ra các bugs\n",
        "*   Module ```multiprocessing``` có thể song song hoá một số kiểu tính toán Python với chi phí thấp.\n",
        "* Sức mạnh của ```multiprocessing``` được thể hiện tốt nhất thông qua module có sẵn ```concurrent.futures``` và lớp ```ProcessPoolExcutor```.\n",
        "* Các phần nâng cao của module ```multiprocessing``` nên được tránh bởi vì chúng phức tạp. \n",
        "\n"
      ]
    },
    {
      "cell_type": "code",
      "metadata": {
        "id": "vZBSEr5usTWF",
        "colab_type": "code",
        "colab": {}
      },
      "source": [
        ""
      ],
      "execution_count": 0,
      "outputs": []
    }
  ]
}