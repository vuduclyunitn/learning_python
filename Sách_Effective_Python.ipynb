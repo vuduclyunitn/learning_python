{
  "nbformat": 4,
  "nbformat_minor": 0,
  "metadata": {
    "colab": {
      "name": "Sách Effective Python.ipynb",
      "provenance": [],
      "collapsed_sections": [],
      "include_colab_link": true
    },
    "kernelspec": {
      "name": "python3",
      "display_name": "Python 3"
    }
  },
  "cells": [
    {
      "cell_type": "markdown",
      "metadata": {
        "id": "view-in-github",
        "colab_type": "text"
      },
      "source": [
        "<a href=\"https://colab.research.google.com/github/vuduclyunitn/learning_python/blob/master/S%C3%A1ch_Effective_Python.ipynb\" target=\"_parent\"><img src=\"https://colab.research.google.com/assets/colab-badge.svg\" alt=\"Open In Colab\"/></a>"
      ]
    },
    {
      "cell_type": "code",
      "metadata": {
        "id": "0ub1wph_cYET",
        "colab_type": "code",
        "colab": {}
      },
      "source": [
        ""
      ],
      "execution_count": 0,
      "outputs": []
    },
    {
      "cell_type": "markdown",
      "metadata": {
        "id": "4gqVpYe6gVkh",
        "colab_type": "text"
      },
      "source": [
        "# Dịch từ sách Effective Python 59 specific ways to write better Python. Tác giả: Brett Slatkin"
      ]
    },
    {
      "cell_type": "markdown",
      "metadata": {
        "id": "us9tFZ-PcclL",
        "colab_type": "text"
      },
      "source": [
        "## Nên sử dụng ```enumerate``` thay vì ```range```\n",
        "\n",
        "Hàm có sẵn ```range``` hữu dụng cho các vòng lặp qua một tập hợp các số **nguyên**"
      ]
    },
    {
      "cell_type": "code",
      "metadata": {
        "id": "sq9qQq0AcxGq",
        "colab_type": "code",
        "outputId": "62d398eb-4af1-4f38-afea-169ab2c2b406",
        "colab": {
          "base_uri": "https://localhost:8080/",
          "height": 731
        }
      },
      "source": [
        "from random import randint\n",
        "random_bits = 0\n",
        "for i in range(64):\n",
        "  if randint(0, 1):\n",
        "    random_bits |= 1 << i\n",
        "    print(random_bits)"
      ],
      "execution_count": 0,
      "outputs": [
        {
          "output_type": "stream",
          "text": [
            "2\n",
            "6\n",
            "14\n",
            "30\n",
            "286\n",
            "798\n",
            "1822\n",
            "3870\n",
            "36638\n",
            "167710\n",
            "429854\n",
            "954142\n",
            "2002718\n",
            "4099870\n",
            "8294174\n",
            "25071390\n",
            "58625822\n",
            "192843550\n",
            "461279006\n",
            "998149918\n",
            "3145633566\n",
            "7440600862\n",
            "16030535454\n",
            "33210404638\n",
            "170649358110\n",
            "445527265054\n",
            "995283078942\n",
            "3194306334494\n",
            "11990399356702\n",
            "29582585401118\n",
            "64766957489950\n",
            "135135701667614\n",
            "416610678378270\n",
            "979560631799582\n",
            "2105460538642206\n",
            "11112659793383198\n",
            "29127058302865182\n",
            "317357434454576926\n",
            "1470278939061423902\n",
            "3776121948275117854\n",
            "8387807966702505758\n",
            "17611180003557281566\n"
          ],
          "name": "stdout"
        }
      ]
    },
    {
      "cell_type": "markdown",
      "metadata": {
        "id": "KktMUHjqeMAN",
        "colab_type": "text"
      },
      "source": [
        ""
      ]
    },
    {
      "cell_type": "markdown",
      "metadata": {
        "id": "dKCNXxu0c7jh",
        "colab_type": "text"
      },
      "source": [
        "Khi bạn cần lặp qua một cấu trúc dữ liệu như là danh sách của các chuỗi văn bản, bạn có thể lặp trực tiếp qua danh sách này."
      ]
    },
    {
      "cell_type": "code",
      "metadata": {
        "id": "1h8MRzUlc6T8",
        "colab_type": "code",
        "outputId": "cd9215f4-869c-46a4-ec3e-8b67892d60f7",
        "colab": {
          "base_uri": "https://localhost:8080/",
          "height": 85
        }
      },
      "source": [
        "flavor_list = [\"vanilla\", \"chocolate\", \"pecan\", \"strawberry\"]\n",
        "for flavor in flavor_list:\n",
        "  print(\"%s is delicious\" % flavor)"
      ],
      "execution_count": 0,
      "outputs": [
        {
          "output_type": "stream",
          "text": [
            "vanilla is delicious\n",
            "chocolate is delicious\n",
            "pecan is delicious\n",
            "strawberry is delicious\n"
          ],
          "name": "stdout"
        }
      ]
    },
    {
      "cell_type": "markdown",
      "metadata": {
        "id": "9ZnFYahGdfMT",
        "colab_type": "text"
      },
      "source": [
        "Thông thường, bạn muốn lặp qua một danh sách và bạn muốn biết được chỉ số (index) của phần tử hiện thời trong danh sách. Ví dụ, bạn muốn in ra xếp hạng của các món kem yêu thích của mình. Có một cách để làm điều này là sử dụng ```range```."
      ]
    },
    {
      "cell_type": "code",
      "metadata": {
        "id": "GsE7FvJcdd0p",
        "colab_type": "code",
        "outputId": "9ab06f3b-3662-4ca3-dc72-0b34743dddcc",
        "colab": {
          "base_uri": "https://localhost:8080/",
          "height": 85
        }
      },
      "source": [
        "for i in range(len(flavor_list)):\n",
        "  flavor = flavor_list[i]\n",
        "  print(\"%d: %s\" % (i+1, flavor))"
      ],
      "execution_count": 0,
      "outputs": [
        {
          "output_type": "stream",
          "text": [
            "1: vanilla\n",
            "2: chocolate\n",
            "3: pecan\n",
            "4: strawberry\n"
          ],
          "name": "stdout"
        }
      ]
    },
    {
      "cell_type": "markdown",
      "metadata": {
        "id": "2WjoV16oeM-0",
        "colab_type": "text"
      },
      "source": [
        "Đoạn mã trên nhìn không được gọn cho lắm, so với các vòng lặp được thực hiện trên ```flavor_list``` hay dùng ```range```. Bạn phải lấy ra kích thước của danh sách. Bạn phải dùng chỉ số để lấy ra phần tử. Điều này làm cho đoạn code khó đọc.\n"
      ]
    },
    {
      "cell_type": "markdown",
      "metadata": {
        "id": "WL7idFFGelan",
        "colab_type": "text"
      },
      "source": [
        "Python cung cấp một hàm có sẵn ```enumerate``` để giải quyết vấn đề này. ```enumerate``` bao bất cứ iterator nào với một generator. Generator này tạo ra các cặp chỉ số và giá trị từ iterator. Đoạn mã dưới đây nhìn sáng sủa hơn nhiều"
      ]
    },
    {
      "cell_type": "code",
      "metadata": {
        "id": "Eh3yIkeCeDsR",
        "colab_type": "code",
        "outputId": "74fd8878-b2e9-45b4-e1c8-1fd65d3ad282",
        "colab": {
          "base_uri": "https://localhost:8080/",
          "height": 85
        }
      },
      "source": [
        "for i, flavor in enumerate(flavor_list):\n",
        "  print(\"%d: %s\" % (i + 1, flavor))"
      ],
      "execution_count": 0,
      "outputs": [
        {
          "output_type": "stream",
          "text": [
            "1: vanilla\n",
            "2: chocolate\n",
            "3: pecan\n",
            "4: strawberry\n"
          ],
          "name": "stdout"
        }
      ]
    },
    {
      "cell_type": "markdown",
      "metadata": {
        "id": "KHQ-zoYIfJXP",
        "colab_type": "text"
      },
      "source": [
        "Bạn còn có thể làm cho đoạn code trên gọn hơn nữa khi chỉ định cho ```enumerate``` bắt đầu từ một giá trị nào đó (1 trong trường hợp dưới đây)"
      ]
    },
    {
      "cell_type": "code",
      "metadata": {
        "id": "Uf92ISRmfFW_",
        "colab_type": "code",
        "outputId": "8507980c-e86d-4ec2-aad8-f2b9e101a6c7",
        "colab": {
          "base_uri": "https://localhost:8080/",
          "height": 85
        }
      },
      "source": [
        "for i, flavor in enumerate(flavor_list, 1):\n",
        "  print(\"%d: %s\" % (i, flavor))"
      ],
      "execution_count": 0,
      "outputs": [
        {
          "output_type": "stream",
          "text": [
            "1: vanilla\n",
            "2: chocolate\n",
            "3: pecan\n",
            "4: strawberry\n"
          ],
          "name": "stdout"
        }
      ]
    },
    {
      "cell_type": "markdown",
      "metadata": {
        "id": "hBDjOci9fpGg",
        "colab_type": "text"
      },
      "source": [
        "### Nhứng điều cần nhớ\n",
        "\n",
        "\n",
        "*   \b```enumerate``` cung cấp một cú pháp tinh gọn giúp lặp qua một iterator và lấy ra chỉ số của mỗi phần tử tương ứng.\n",
        "*   Nên sử dụng ```enumerate``` thay vì lặp sử dụng ```range``` và dùng chỉ số để lấy phần tử.\n",
        "* Bạn có thể cung cấp một tham số thứ 2 chỉ định số bắt đầu được đếm cho chỉ số (mặc định là 0)\n",
        "\n"
      ]
    },
    {
      "cell_type": "markdown",
      "metadata": {
        "id": "lrNzEg04gnym",
        "colab_type": "text"
      },
      "source": [
        "## Sử dụng ```zip``` để xử lý các iterators song song\n",
        "\n",
        "Thông thường bạn làm việc với nhiều danh sách của các đối tượng liên quan. Sử dụng list comprehension cho phép ta nhận một danh sách nguồn và lấy về một danh sách đã qua xử lý. Như ví dụ dưới đây"
      ]
    },
    {
      "cell_type": "code",
      "metadata": {
        "id": "3XsHdMJMfmSD",
        "colab_type": "code",
        "colab": {}
      },
      "source": [
        "names = [\"Cecilia\", \"Lise\", \"Marie\"]\n",
        "letters = [len(n) for n in names]"
      ],
      "execution_count": 0,
      "outputs": []
    },
    {
      "cell_type": "markdown",
      "metadata": {
        "id": "EzKNY_y9hfyw",
        "colab_type": "text"
      },
      "source": [
        "Các phần tử trong danh sách mới có liên quan với các phần tử trong danh sách gốc thông qua các chỉ số của nó. Để lặp qua hai danh sách này song song, bạn có thể lặp qua chiều dài của danh sách gốc, lấy chiều dài của mỗi phần tử trong danh sách gốc thông qua danh sách mới với một chỉ số."
      ]
    },
    {
      "cell_type": "code",
      "metadata": {
        "id": "WOnq8Wxjhdgh",
        "colab_type": "code",
        "outputId": "5b98e521-61be-44db-d2b0-24533258a1da",
        "colab": {
          "base_uri": "https://localhost:8080/",
          "height": 34
        }
      },
      "source": [
        "longest_name = None\n",
        "max_letters = 0\n",
        "\n",
        "for i in range(len(names)):\n",
        "  count = letters[i]\n",
        "  if count > max_letters:\n",
        "    longest_name = names[i]\n",
        "    max_letters = count\n",
        "\n",
        "print(longest_name)"
      ],
      "execution_count": 0,
      "outputs": [
        {
          "output_type": "stream",
          "text": [
            "Cecilia\n"
          ],
          "name": "stdout"
        }
      ]
    },
    {
      "cell_type": "markdown",
      "metadata": {
        "id": "KfdWTRMXib0m",
        "colab_type": "text"
      },
      "source": [
        "Vấn đề ở đây đó là vòng lặp phía trên nhìn rối. Các chỉ số của ```names``` và ```letters``` làm cho code khó đọc. Ta dùng chỉ số ```i``` tới hai lần. Sử dụng ```enumerate``` có thể cải thiện vấn đề một chút, nhưng nó vẫn không phải là một giải pháp tốt."
      ]
    },
    {
      "cell_type": "code",
      "metadata": {
        "id": "61n2XnBqiGsi",
        "colab_type": "code",
        "colab": {}
      },
      "source": [
        "for i, name in enumerate(names):\n",
        "  count = letters[i]\n",
        "  if count > max_letters:\n",
        "    longest_name = name \n",
        "    max_letters = count"
      ],
      "execution_count": 0,
      "outputs": []
    },
    {
      "cell_type": "markdown",
      "metadata": {
        "id": "ApoENacUjGHK",
        "colab_type": "text"
      },
      "source": [
        "Để làm cho đoạn mã sáng sủa hơn, Python cung cấp hàm có sẵn ```zip```. Trong Python 3, ```zip``` bao hai hay nhiều iterators với một generator. ```zip``` sinh ra các tuples chứa giá trị tiếp theo từ mỗi iterator. Đoạn mã dưới đây nhìn gọn hơn rất nhiều so với việc dùng chỉ số với nhiều danh sách"
      ]
    },
    {
      "cell_type": "code",
      "metadata": {
        "id": "u0Hm1XyPjiw2",
        "colab_type": "code",
        "outputId": "aa2d6824-685c-4b16-85ae-17697139e86e",
        "colab": {
          "base_uri": "https://localhost:8080/",
          "height": 34
        }
      },
      "source": [
        "for name, count in zip(names, letters):\n",
        "  if count > max_letters:\n",
        "    longest_name = name\n",
        "    max_letters = count \n",
        "\n",
        "print(longest_name)"
      ],
      "execution_count": 0,
      "outputs": [
        {
          "output_type": "stream",
          "text": [
            "Cecilia\n"
          ],
          "name": "stdout"
        }
      ]
    },
    {
      "cell_type": "markdown",
      "metadata": {
        "id": "ohtsevNAjvxW",
        "colab_type": "text"
      },
      "source": [
        "Có hai vấn đề với hàm có sẵn ```zip```. Vấn đề đầu tiên đó là trong Python 2 ```zip``` không phải là một generator; nó sẽ chiếm hết các iterators được cung cấp và trả về một danh sách các tuples nó tạo. Điều này có thể làm cho nó sử dụng rất nhiều bộ nhớ và làm cho trương chình crash. Nếu bạn muốn ```zip``` các iterators rất lớn trong Python 2, bạn nên sử dụng ```izip``` từ module có sẵn ```itertools```  "
      ]
    },
    {
      "cell_type": "markdown",
      "metadata": {
        "id": "KZjw484HlGXB",
        "colab_type": "text"
      },
      "source": [
        "Vấn đề thứ hai đó là trong trường hợp các iterators đầu vào có chiều dài khác nhau ```zip``` cư xử một cách lạ lùng. Ví dụ, bạn thêm một tên khác vào danh sách phía trên nhưng quên cập nhật danh sách chứa kích số lượng các kí tự. Khi bạn chạy ```zip``` trên hai danh sách đầu vào này, kết quả sẽ không như mong đợi."
      ]
    },
    {
      "cell_type": "code",
      "metadata": {
        "id": "MY5Jhl3Djr81",
        "colab_type": "code",
        "outputId": "4d5eda2c-b138-4632-ab7d-013fc93b3716",
        "colab": {
          "base_uri": "https://localhost:8080/",
          "height": 68
        }
      },
      "source": [
        "names.append(\"Rosalind\")\n",
        "for name, count in zip(names, letters):\n",
        "  print(name)"
      ],
      "execution_count": 0,
      "outputs": [
        {
          "output_type": "stream",
          "text": [
            "Cecilia\n",
            "Lise\n",
            "Marie\n"
          ],
          "name": "stdout"
        }
      ]
    },
    {
      "cell_type": "markdown",
      "metadata": {
        "id": "oShaNTzHl1-b",
        "colab_type": "text"
      },
      "source": [
        "Phần tử mới thêm vào 'Rosalind' không được in ra. Đó là cách ```zip``` làm việc. Nó duy trì xuất ra các tuples cho đến khi iterator bên trong cạn kiệt. Cách tiếp cận này hoạt động tốt khi bạn biết rằng các iterators có cùng một chiều dài, điều thường thấy đối với các danh sách được tạo bởi list comprehensions. Trong nhiều trường hợp khác, cách cư xử thông qua việc cắt bớt các phần tử của ```zip``` gây ngạc nhiên và tệ. Nếu bạn không tự tin về chiều dài của các danh sách bạn muốn zip chúng, ví như không chắc rằng các danh sách này bằng nhau, hãy xem xét sử dụng hàm ```zip_longest``` từ thư viện ```itertools```"
      ]
    },
    {
      "cell_type": "code",
      "metadata": {
        "id": "5WpLCI5KlzK8",
        "colab_type": "code",
        "outputId": "2f1c52f2-5fe3-4b16-93ba-1825bedd3282",
        "colab": {
          "base_uri": "https://localhost:8080/",
          "height": 119
        }
      },
      "source": [
        "from itertools import zip_longest\n",
        "\n",
        "names.append(\"Rosalind\")\n",
        "for name, count in zip_longest(names, letters):\n",
        "  print(name, count)"
      ],
      "execution_count": 0,
      "outputs": [
        {
          "output_type": "stream",
          "text": [
            "Cecilia 7\n",
            "Lise 4\n",
            "Marie 5\n",
            "Rosalind None\n",
            "Rosalind None\n",
            "Rosalind None\n"
          ],
          "name": "stdout"
        }
      ]
    },
    {
      "cell_type": "markdown",
      "metadata": {
        "id": "SpIEleNGm8Qk",
        "colab_type": "text"
      },
      "source": [
        "Ở ví dụ trên ta thấy rằng các phần tử mới vẫn được in ra, nhưng nếu ta không cập nhật danh sách đếm số lượng kí tự thì giá trị đó sẽ là None. "
      ]
    },
    {
      "cell_type": "markdown",
      "metadata": {
        "id": "rcO19s8TnQnJ",
        "colab_type": "text"
      },
      "source": [
        "### Các thứ cần nhớ\n",
        "\n",
        "\n",
        "*   Hàm có sẵn ```zip``` có thể được sử dụng để lặp qua nhiều iterators song song.\n",
        "\n",
        "*   Trong Python 3, ```zip``` là một generator tạo ra các tuples. Trong Python 2, ```zip``` trả về một danh sách đầy đủ các tuples.\n",
        "\n",
        "* ```zip``` cắt bỏ kết quả một cách thầm lặng nếu bạn cung cấp các iterators với chiều dài khác nhau. \n",
        "\n",
        "* Hàm ```zip_longest``` từ module có sẵn ```itertools``` cho phép bạn lặp qua nhiều iterators khác nhau song song bất kể kích thước của chúng thế nào. \n",
        "\n"
      ]
    },
    {
      "cell_type": "markdown",
      "metadata": {
        "id": "AFofIX4zofY9",
        "colab_type": "text"
      },
      "source": [
        "## Biết cách cắt các sequences\n",
        "\n",
        "Python có các cú pháp cho việc cắt các sequences thành các mảnh. Việc cắt này giúp bạn truy cập vào một phần nhỏ các phần tử của sequence với một nỗ lực nhỏ. Cách sử dụng đơn giản nhất là đối với các kiểu có sẵn như là ```list```, ```str```, và ```bytes```. Phép cắt này có thể được mở rộng cho bất cứ lớp Python nào triển khai các phương thức đặc biệt ```__getitem__``` và ```__setitem__```. \n",
        "\n",
        "Dạng đơn giản nhất của cú pháp cắt là ```somelist[start:end]```, ở đó ```start``` được bao gồm và ```end``` được trừ ra. Ví dụ:"
      ]
    },
    {
      "cell_type": "code",
      "metadata": {
        "id": "UBCBYCqBm3GD",
        "colab_type": "code",
        "outputId": "1513d10c-d4a2-4a5c-bc5e-faf296522889",
        "colab": {
          "base_uri": "https://localhost:8080/",
          "height": 68
        }
      },
      "source": [
        "a = ['a', 'b', 'c', 'd', 'e', 'f', 'g', 'h']\n",
        "print('First four: ', a[:4])\n",
        "print('Last four: ', a[-4:])\n",
        "print('Middle two: ', a[3:-3])"
      ],
      "execution_count": 0,
      "outputs": [
        {
          "output_type": "stream",
          "text": [
            "First four:  ['a', 'b', 'c', 'd']\n",
            "Last four:  ['e', 'f', 'g', 'h']\n",
            "Middle two:  ['d', 'e']\n"
          ],
          "name": "stdout"
        }
      ]
    },
    {
      "cell_type": "markdown",
      "metadata": {
        "id": "9GHF7kd4p5Po",
        "colab_type": "text"
      },
      "source": [
        "Khi cắt từ đầu của một danh sách, bạn nên bỏ đi chỉ số 0 ban đầu để cho code nhìn sáng sủa hơn. Hai cách viết đều mang lại kết quả như nhau."
      ]
    },
    {
      "cell_type": "code",
      "metadata": {
        "id": "nTng6LZvp3Nt",
        "colab_type": "code",
        "colab": {}
      },
      "source": [
        "assert a[:5] == a[0:5]"
      ],
      "execution_count": 0,
      "outputs": []
    },
    {
      "cell_type": "markdown",
      "metadata": {
        "id": "y8MRKEjvqVLx",
        "colab_type": "text"
      },
      "source": [
        "Khi cắt từ cuối danh sách, bạn nên bỏ đi chỉ số cuối bởi vì nó dư thừa"
      ]
    },
    {
      "cell_type": "code",
      "metadata": {
        "id": "F5jIYpd6qMi8",
        "colab_type": "code",
        "colab": {}
      },
      "source": [
        "assert a[5:] == a[5:len(a)]"
      ],
      "execution_count": 0,
      "outputs": []
    },
    {
      "cell_type": "markdown",
      "metadata": {
        "id": "UZJZ8G-Aqkyt",
        "colab_type": "text"
      },
      "source": [
        "Sử dụng các số âm cho việc cắt trở nên hữu ích cho  các chỉ số tương đối với cuối của một danh sách. Tất cả các dạng cắt này trở nên rõ ràng với một người mới đọc mã của bạn. "
      ]
    },
    {
      "cell_type": "code",
      "metadata": {
        "id": "6stYkJGTqiYg",
        "colab_type": "code",
        "outputId": "b292a539-960f-46fc-a674-05e127ab555e",
        "colab": {
          "base_uri": "https://localhost:8080/",
          "height": 34
        }
      },
      "source": [
        "a[:]"
      ],
      "execution_count": 0,
      "outputs": [
        {
          "output_type": "execute_result",
          "data": {
            "text/plain": [
              "['a', 'b', 'c', 'd', 'e', 'f', 'g', 'h']"
            ]
          },
          "metadata": {
            "tags": []
          },
          "execution_count": 22
        }
      ]
    },
    {
      "cell_type": "code",
      "metadata": {
        "id": "KgrHURhMq5tG",
        "colab_type": "code",
        "outputId": "e7fcd7f6-3934-4dc9-9696-ef23d465b5ed",
        "colab": {
          "base_uri": "https://localhost:8080/",
          "height": 34
        }
      },
      "source": [
        "a[:5]"
      ],
      "execution_count": 0,
      "outputs": [
        {
          "output_type": "execute_result",
          "data": {
            "text/plain": [
              "['a', 'b', 'c', 'd', 'e']"
            ]
          },
          "metadata": {
            "tags": []
          },
          "execution_count": 23
        }
      ]
    },
    {
      "cell_type": "code",
      "metadata": {
        "id": "OawJreSDq7GV",
        "colab_type": "code",
        "outputId": "b33a2d54-cc6d-48fe-c4e2-f5cb7cdd6801",
        "colab": {
          "base_uri": "https://localhost:8080/",
          "height": 34
        }
      },
      "source": [
        "a[:-1]"
      ],
      "execution_count": 0,
      "outputs": [
        {
          "output_type": "execute_result",
          "data": {
            "text/plain": [
              "['a', 'b', 'c', 'd', 'e', 'f', 'g']"
            ]
          },
          "metadata": {
            "tags": []
          },
          "execution_count": 24
        }
      ]
    },
    {
      "cell_type": "code",
      "metadata": {
        "id": "-6esFbP6q-mv",
        "colab_type": "code",
        "outputId": "4624c699-0c79-46cc-849d-027aac923799",
        "colab": {
          "base_uri": "https://localhost:8080/",
          "height": 34
        }
      },
      "source": [
        "a[:-2]"
      ],
      "execution_count": 0,
      "outputs": [
        {
          "output_type": "execute_result",
          "data": {
            "text/plain": [
              "['a', 'b', 'c', 'd', 'e', 'f']"
            ]
          },
          "metadata": {
            "tags": []
          },
          "execution_count": 26
        }
      ]
    },
    {
      "cell_type": "markdown",
      "metadata": {
        "id": "71BLgKNX94wM",
        "colab_type": "text"
      },
      "source": [
        "Kĩ thuật cắt sử dụng các chỉ số ```start``` và ```end``` để kiểm soát truy cập các phần tử trong danh sách. Truy cập các phần tử có chỉ số nằm ngoài biên giới danh sách sẽ tạo ra lỗi."
      ]
    },
    {
      "cell_type": "code",
      "metadata": {
        "id": "zKpehy31rAyd",
        "colab_type": "code",
        "outputId": "525006be-3e56-488e-9f61-ad4f89879819",
        "colab": {
          "base_uri": "https://localhost:8080/",
          "height": 184
        }
      },
      "source": [
        "a[20]"
      ],
      "execution_count": 0,
      "outputs": [
        {
          "output_type": "error",
          "ename": "IndexError",
          "evalue": "ignored",
          "traceback": [
            "\u001b[0;31m---------------------------------------------------------------------------\u001b[0m",
            "\u001b[0;31mIndexError\u001b[0m                                Traceback (most recent call last)",
            "\u001b[0;32m<ipython-input-27-2ba6acdce15e>\u001b[0m in \u001b[0;36m<module>\u001b[0;34m()\u001b[0m\n\u001b[0;32m----> 1\u001b[0;31m \u001b[0ma\u001b[0m\u001b[0;34m[\u001b[0m\u001b[0;36m20\u001b[0m\u001b[0;34m]\u001b[0m\u001b[0;34m\u001b[0m\u001b[0;34m\u001b[0m\u001b[0m\n\u001b[0m",
            "\u001b[0;31mIndexError\u001b[0m: list index out of range"
          ]
        }
      ]
    },
    {
      "cell_type": "markdown",
      "metadata": {
        "id": "-rOTvYIE-iij",
        "colab_type": "text"
      },
      "source": [
        "**Chú ý** Nên biết rằng try cập vào danh sách sử dụng một chỉ số âm là một trong số các trường hợp gây ra các kết quả ngạc nhiên từ phép cắt. Ví dụ, ```somelist[-n:]``` sẽ hoạt động tốt khi ```n``` lớn hơn một (ví dụ, ```somelist[-3:]```). Tuy nhiên, khi ```n``` bằng 0, thì ```somelist[-0:]``` sẽ trả lại một bản sao của danh sách ban đầu. Danh sách sao này trỏ tới danh sách ban đầu. Thay đổi kết quả phép cắt sẽ không ảnh hưởng tới danh sách ban đầu. "
      ]
    },
    {
      "cell_type": "markdown",
      "metadata": {
        "id": "retzo8gs_Vuh",
        "colab_type": "text"
      },
      "source": [
        ""
      ]
    },
    {
      "cell_type": "code",
      "metadata": {
        "id": "JBbKBAhp_UHt",
        "colab_type": "code",
        "colab": {}
      },
      "source": [
        "b = a[-0:]"
      ],
      "execution_count": 0,
      "outputs": []
    },
    {
      "cell_type": "code",
      "metadata": {
        "id": "qe2UtFQm-hnA",
        "colab_type": "code",
        "outputId": "a7c9e278-0a76-405d-b42f-35d167c8ff4e",
        "colab": {
          "base_uri": "https://localhost:8080/",
          "height": 34
        }
      },
      "source": [
        "b"
      ],
      "execution_count": 0,
      "outputs": [
        {
          "output_type": "execute_result",
          "data": {
            "text/plain": [
              "['a', 'b', 'c', 'd', 'e', 'f', 'g', 'h']"
            ]
          },
          "metadata": {
            "tags": []
          },
          "execution_count": 29
        }
      ]
    },
    {
      "cell_type": "code",
      "metadata": {
        "id": "UGBjJNJ0_tPc",
        "colab_type": "code",
        "colab": {}
      },
      "source": [
        "b.append(\"i\")"
      ],
      "execution_count": 0,
      "outputs": []
    },
    {
      "cell_type": "code",
      "metadata": {
        "id": "X06v88PB_vij",
        "colab_type": "code",
        "outputId": "109640a2-ed3c-47be-cfde-7f3ec1ef8661",
        "colab": {
          "base_uri": "https://localhost:8080/",
          "height": 34
        }
      },
      "source": [
        "b"
      ],
      "execution_count": 0,
      "outputs": [
        {
          "output_type": "execute_result",
          "data": {
            "text/plain": [
              "['a', 'b', 'c', 'd', 'e', 'f', 'g', 'h', 'i']"
            ]
          },
          "metadata": {
            "tags": []
          },
          "execution_count": 31
        }
      ]
    },
    {
      "cell_type": "code",
      "metadata": {
        "id": "vZlGL_gh_wKr",
        "colab_type": "code",
        "outputId": "c488cad0-37bd-4abf-b97c-0c0a8144303b",
        "colab": {
          "base_uri": "https://localhost:8080/",
          "height": 34
        }
      },
      "source": [
        "a"
      ],
      "execution_count": 0,
      "outputs": [
        {
          "output_type": "execute_result",
          "data": {
            "text/plain": [
              "['a', 'b', 'c', 'd', 'e', 'f', 'g', 'h']"
            ]
          },
          "metadata": {
            "tags": []
          },
          "execution_count": 32
        }
      ]
    },
    {
      "cell_type": "code",
      "metadata": {
        "id": "K16hguOq_w3F",
        "colab_type": "code",
        "outputId": "c5aaec36-d91b-4781-84ea-2efca8ea9bc3",
        "colab": {
          "base_uri": "https://localhost:8080/",
          "height": 68
        }
      },
      "source": [
        "c = a[4:]\n",
        "print(\"Before: \", b)\n",
        "c[1] = 99\n",
        "print(\"After: \", b)\n",
        "print(\"No change: \", a)"
      ],
      "execution_count": 0,
      "outputs": [
        {
          "output_type": "stream",
          "text": [
            "Before:  ['a', 'b', 'c', 'd', 'e', 'f', 'g', 'h', 'i']\n",
            "After:  ['a', 'b', 'c', 'd', 'e', 'f', 'g', 'h', 'i']\n",
            "No change:  ['a', 'b', 'c', 'd', 'e', 'f', 'g', 'h']\n"
          ],
          "name": "stdout"
        }
      ]
    },
    {
      "cell_type": "markdown",
      "metadata": {
        "id": "bixjAnJpAEwp",
        "colab_type": "text"
      },
      "source": [
        "Khi được sử dụng trong các phép gán, các lát cắt sẽ thay thế dải được chỉ định trong danh sách ban đầu. Không \n",
        "\n",
        " như các phép gán tuple (như là ```a, b = c[:2]```), chiều dài của các phép gán không nhất thiết phải giống nhau. Các giá trị trước và sau lát cắt được gán sẽ được bảo tồn. Danh sách sẽ phình ra hay co lại để chứa các giá trị mới."
      ]
    },
    {
      "cell_type": "code",
      "metadata": {
        "id": "S-scDNys__s5",
        "colab_type": "code",
        "outputId": "e6539b53-4c27-4e01-a78e-0774f2b3898e",
        "colab": {
          "base_uri": "https://localhost:8080/",
          "height": 51
        }
      },
      "source": [
        "print('Before ', a)\n",
        "a[2:7] = [99, 22, 14]\n",
        "print('After ', a)"
      ],
      "execution_count": 0,
      "outputs": [
        {
          "output_type": "stream",
          "text": [
            "Before  ['a', 'b', 'c', 'd', 'e', 'f', 'g', 'h']\n",
            "After  ['a', 'b', 99, 22, 14, 'h']\n"
          ],
          "name": "stdout"
        }
      ]
    },
    {
      "cell_type": "code",
      "metadata": {
        "id": "qvzYyWa2CKzi",
        "colab_type": "code",
        "outputId": "a18cac05-21ce-4355-ed13-52e5a54022ea",
        "colab": {
          "base_uri": "https://localhost:8080/",
          "height": 51
        }
      },
      "source": [
        "print('Before ', a)\n",
        "a[2:4] = [1, 2, 3]\n",
        "print('After ', a)"
      ],
      "execution_count": 0,
      "outputs": [
        {
          "output_type": "stream",
          "text": [
            "Before  ['a', 'b', 99, 22, 14, 'h']\n",
            "After  ['a', 'b', 1, 2, 3, 14, 'h']\n"
          ],
          "name": "stdout"
        }
      ]
    },
    {
      "cell_type": "markdown",
      "metadata": {
        "id": "keSSBulZC4y7",
        "colab_type": "text"
      },
      "source": [
        "Nếu bạn để cả các chỉ số bắt đầu và kết thúc trống khi cắt, bạn sẽ có được một bản sao của danh sách ban đầu."
      ]
    },
    {
      "cell_type": "code",
      "metadata": {
        "id": "zZOEWiCTCNDz",
        "colab_type": "code",
        "colab": {}
      },
      "source": [
        "b = a[:]\n",
        "assert b == a and b is not a"
      ],
      "execution_count": 0,
      "outputs": []
    },
    {
      "cell_type": "markdown",
      "metadata": {
        "id": "OtMJ3XANDKzl",
        "colab_type": "text"
      },
      "source": [
        "Nếu bạn gán một lát cắt không có chỉ số bắt đầu và kết thúc, bạn sẽ thay thế toàn bộ nội dung của nó với một bản sao mà lát cắt đó tham chiếu tới (thay vì cấp phát một danh sách mới)"
      ]
    },
    {
      "cell_type": "code",
      "metadata": {
        "id": "RrYRf0v1DE-r",
        "colab_type": "code",
        "colab": {}
      },
      "source": [
        ""
      ],
      "execution_count": 0,
      "outputs": []
    },
    {
      "cell_type": "code",
      "metadata": {
        "id": "iVfLwrYEDakt",
        "colab_type": "code",
        "outputId": "0f1376cd-de4b-423f-a7bf-c317b2f3a4f2",
        "colab": {
          "base_uri": "https://localhost:8080/",
          "height": 51
        }
      },
      "source": [
        "b = a\n",
        "print('Before', a)\n",
        "a[:] = [4, 5, 6]\n",
        "assert a is b\n",
        "print('After', a)"
      ],
      "execution_count": 0,
      "outputs": [
        {
          "output_type": "stream",
          "text": [
            "Before [101, 102, 103]\n",
            "After [4, 5, 6]\n"
          ],
          "name": "stdout"
        }
      ]
    },
    {
      "cell_type": "markdown",
      "metadata": {
        "id": "tmk9jDt_D84_",
        "colab_type": "text"
      },
      "source": [
        "### Những thứ cần nhớ\n",
        "\n",
        "\n",
        "*   Tránh quá chi tiết: đừng sử dụng 0 như là chỉ số bắt đầu hoặc độ dài của sequence cho chỉ số kết thúc\n",
        "*   Phép cắt cho phép ta dễ dàng biểu diễn các phạm vi trước và sau của một sequence (như là ```a[:20]``` hay ```a[-20:]```)\n",
        "* Gán cho một dải trong một sequence một dải giá trị khác sẽ thay thế dải đó trong danh sách ban đầu với dải cung cấp ngay cả khi kích thước của các dải khác nhau.\n",
        "\n"
      ]
    },
    {
      "cell_type": "markdown",
      "metadata": {
        "id": "AaW_jVLhISg_",
        "colab_type": "text"
      },
      "source": [
        "## Tận dụng lợi thế của mỗi khối try/except/else/finally\n",
        "\n",
        "Khi lập trình đôi lúc bạn muốn xử lý các ngoại lệ xảy ra. Các ngoại lệ này được bắt lại trong các khối ```try```, ```except```, ```else```, và ```finally```. Mỗi khối đảm nhiệm mỗi nhiệm vụ riêng biệt, và có những sự kết hợp giữa các khối này trở nên hữu dụng."
      ]
    },
    {
      "cell_type": "markdown",
      "metadata": {
        "id": "Bq8btT2TIx7Q",
        "colab_type": "text"
      },
      "source": [
        "### Khối Finally\n",
        "Sử dụng ```try/finally``` khi bạn muốn các ngoại lệ được truyền rộng rãi đi, nhưng bạn cũng muốn chạy các mã dọn dẹp (cleanup code) ngay cả khi các ngoại lệ xảy ra. Một ứng dụng phổ biến của ```try/finally``` đó là đóng các file handles."
      ]
    },
    {
      "cell_type": "code",
      "metadata": {
        "id": "_MTIKD6GDgf8",
        "colab_type": "code",
        "colab": {}
      },
      "source": [
        "handle = open('random_data.txt') # Có thể gây ra ngoại lệ IOError\n",
        "try:\n",
        "  data = handle.read() # Có thể gây ra ngoại lệ UnicodeDecodeError\n",
        "finally:\n",
        "  handle.close()"
      ],
      "execution_count": 0,
      "outputs": []
    },
    {
      "cell_type": "markdown",
      "metadata": {
        "id": "j2IN-1N3KlXk",
        "colab_type": "text"
      },
      "source": [
        "Bất cứ ngoại lệ nào được gây ra bởi phương thức ```read``` sẽ được lan tới code gọi phương thức đó (calling code), phương thức ```close``` của handle được đảm bảo chạy trong khối ```finally```. Bạn phải gọi ```open``` trước khối ```try``` bởi vì các ngoại lệ thường xảy ra khi mở file (như ```IOError``` nếu file không tồn tại) nên bỏ qua khối ```finally```."
      ]
    },
    {
      "cell_type": "markdown",
      "metadata": {
        "id": "UpY-lD99Ls79",
        "colab_type": "text"
      },
      "source": [
        "### Khối Else\n",
        "\n",
        "Sử dụng ```try/except/else``` để làm cho rõ ràng ngoại lệ nào sẽ được xử lý bởi code của bạn và ngoại lệ nào sẽ lan truyền đi. Khi khối ```try``` không khởi lên một ngoại lệ, khối ```else``` sẽ chạy. Khối ```else``` giúp bạn tối thiểu hoá lượng code trong khối ```try``` và làm cho code dễ đọc hơn. Ví dụ, bạn muốn nạp (load) dữ liệu từ diển JSON và trả về giá trị của một key dựa trên một string được cung cấp. Nhìn vào ví dụ sau:"
      ]
    },
    {
      "cell_type": "code",
      "metadata": {
        "id": "VjPfWm7HKZks",
        "colab_type": "code",
        "colab": {}
      },
      "source": [
        "def load_json_key(data, key):\n",
        "  try:\n",
        "    result_dict = json.loads(data) # Có thể tạo ra ValueError\n",
        "  except ValueError as e:\n",
        "    raise KeyError from e \n",
        "  else:\n",
        "    return result_dict[key] # Có thể tạo ra KeyError"
      ],
      "execution_count": 0,
      "outputs": []
    },
    {
      "cell_type": "markdown",
      "metadata": {
        "id": "4rc98aGENR1p",
        "colab_type": "text"
      },
      "source": [
        "Nếu dữ liệu không phải là JSON hợp lệ, khi đó giải mã sử dụng ```json.loads``` sẽ tạo ra một ```ValueError```. Ngoại lệ này được bắt bởi khối ```except``` và được \bxử lý ở đó. Nếu việc giải mã thành công, khi đó chìa khoá được yêu cầu sẽ được trả về trong khối ```else```. Nếu việc dò chìa khoá tạo ra bất cứ ngoại lệ nào, chúng sẽ lan truyền tới code gọi bởi vì chúng nằm bên ngoài khối ```try```. Khối ```else``` đảm bảo rằng những gì đi theo sau ```try/except``` được tách biệt rõ ràng khỏi khối ```except```. Điều này làm cho việc lan toả ngoại lệ trở nên rõ ràng hơn. "
      ]
    },
    {
      "cell_type": "markdown",
      "metadata": {
        "id": "SyXH9nBwOOaZ",
        "colab_type": "text"
      },
      "source": [
        "### Mọi thứ cùng với nhau \n",
        "\n",
        "Sử dụng ```try/except/else/finally``` khi bạn muốn làm tất cả trong cùng một câu tổng hợp. Ví dụ, bạn muốn đọc mô tả công việc cần làm từ một file, xử lý nó, và sau đó cập nhật file này. Ở đây, khối ```try``` được sử dụng để đọc file và xử lý nó. Khối ```except``` được sử dụng để xử lý các ngoại lệ được mong đợi từ khối ```try```. Khối ```else``` được sử dụng để cập nhật file và cho phép các ngoại lệ liên quan được lan toả. Khối ```finally``` dọn dẹp file handle"
      ]
    },
    {
      "cell_type": "code",
      "metadata": {
        "id": "9h7328uKNQzW",
        "colab_type": "code",
        "colab": {}
      },
      "source": [
        "UNDEFINED = object()\n",
        "\n",
        "def divide_json(path):\n",
        "  handle = open(path, 'r+') # Có thể tạo ra lỗi IOError\n",
        "  try:\n",
        "    data = handle.read() # Có thể tạo ra lỗi UnicodeDecodeError \n",
        "    op = json.loads(data) # Có thể tạo ra lỗi ValueError \n",
        "    value = (op[\"numerator\"] / op[\"denominator\"])\n",
        "  except ZeroDivisionError as e:\n",
        "    return UNDEFINED\n",
        "  else:\n",
        "    op['result'] = value \n",
        "    result = json.dumps(op)\n",
        "    handle.seek(0)\n",
        "    handle.write(result) # Có thể tạo ra lỗi IOError \n",
        "    return value \n",
        "  finally:\n",
        "    handle.close() # Luôn luôn chạy "
      ],
      "execution_count": 0,
      "outputs": []
    },
    {
      "cell_type": "markdown",
      "metadata": {
        "id": "gDqJFtBvQFqr",
        "colab_type": "text"
      },
      "source": [
        "Cấu trúc trên đặc biệt hữu dụng bởi vì tất cả các khối cùng làm việc với nhau một cách hợp lý. Ví dụ, nếu một ngoại lệ xảy ra trong khối ```else``` trong khi ghi lại dữ liệu kết quả, khối ```finally``` sẽ vẫn chạy và đóng file handle."
      ]
    },
    {
      "cell_type": "markdown",
      "metadata": {
        "id": "0dbcpaLpQdX6",
        "colab_type": "text"
      },
      "source": [
        "### Những điều cần nhớ.\n",
        "\n",
        "\n",
        "*   Sử dụng ```try/finally``` giúp bạn chạy các khối code dọn dẹp bất kể các ngoại lệ xảy ra trong khối ```try```\n",
        "*   Khối ```else``` giúp bạn tối thiểu hoá lượng code trong các khối ```try``` và tách biệt trường hợp thành công từ các khối ```try/except```. \n",
        "* Khối ```else``` có thể được sử dụng để thực hiện các hành động bổ sung sau một khối ```try``` thành công nhưng trước khối ```finally``` được sử dụng để dọn dẹp.\n",
        "\n"
      ]
    },
    {
      "cell_type": "markdown",
      "metadata": {
        "id": "0Wmfn_K6fFeG",
        "colab_type": "text"
      },
      "source": [
        "## Nên dùng các ngoại lệ thay vì trả về None\n",
        "\n",
        "Khi viết các hàm tiện ích (utility functions), các lập trình viên thường đứng trước một lựa chọn cho việc trả về giá trị ```None``` có mang một ý nghĩa gì hay không trong một số trường hợp. Ví dụ, bạn muốn một hàm trợ giúp (helper function) cho việc chia một số cho một số khác. Trong trường hợp chia cho số 0, trả lại ```None``` dường như tự nhiên bởi vì kết quả chưa được định nghĩa."
      ]
    },
    {
      "cell_type": "code",
      "metadata": {
        "id": "YWG-B80DQcir",
        "colab_type": "code",
        "colab": {}
      },
      "source": [
        "def divide(a, b):\n",
        "  try:\n",
        "    return a/b\n",
        "  except ZeroDivisionError:\n",
        "    return None"
      ],
      "execution_count": 0,
      "outputs": []
    },
    {
      "cell_type": "markdown",
      "metadata": {
        "id": "UIfNhaAJycMv",
        "colab_type": "text"
      },
      "source": [
        "Cod sử dụng hàm này có thể diễn giải kết quả trả về tương ứng."
      ]
    },
    {
      "cell_type": "code",
      "metadata": {
        "id": "7rVWKXsuyaC3",
        "colab_type": "code",
        "outputId": "98925906-072a-426b-bb24-0c64bca39215",
        "colab": {
          "base_uri": "https://localhost:8080/",
          "height": 34
        }
      },
      "source": [
        "result = divide(3, 0)\n",
        "if result is None:\n",
        "  print(\"Invalid inputs\")"
      ],
      "execution_count": 0,
      "outputs": [
        {
          "output_type": "stream",
          "text": [
            "Invalid inputs\n"
          ],
          "name": "stdout"
        }
      ]
    },
    {
      "cell_type": "markdown",
      "metadata": {
        "id": "PTXrNZwRyskp",
        "colab_type": "text"
      },
      "source": [
        "Điều gì xảy ra khi số được chia hay tử số bằng 0? Thực hiện phép chia này sẽ tạo ra kết quả bằng 0 (nếu số bị chia hay mẫu số khác 0). Điều này có thể tạo ra các vấn đề khi bạn đánh giá kết quả trong một điều kiện như là câu lệnh ```if```. Bạn có thể tìm \bkiếm các giá trị ```False``` khi bạn nhắc tới các lỗi thay vì ```None```. "
      ]
    },
    {
      "cell_type": "code",
      "metadata": {
        "id": "v7hwQUv-ynf0",
        "colab_type": "code",
        "outputId": "e89d6ce4-793a-4a53-b5f8-04bd56e01569",
        "colab": {
          "base_uri": "https://localhost:8080/",
          "height": 34
        }
      },
      "source": [
        "x, y= 0, 5\n",
        "result = divide(x, y)\n",
        "\n",
        "if not result:\n",
        "  print(\"Invalid inputs\") # Điều này sai"
      ],
      "execution_count": 0,
      "outputs": [
        {
          "output_type": "stream",
          "text": [
            "Invalid inputs\n"
          ],
          "name": "stdout"
        }
      ]
    },
    {
      "cell_type": "markdown",
      "metadata": {
        "id": "TM0EuyQLzeYz",
        "colab_type": "text"
      },
      "source": [
        "Đây là một lỗi phổ biến khi ```None``` có ý nghĩa đặc biệt. Đó là lý do tại sao trả về ```None``` từ một hàm dễ sai. Có hai cách để giảm đi các lỗi như vậy.\n",
        "\n",
        "Cách đầu tiên là chia giá trị trả về thành một một tuple có hai phần tử. Phần đầu tiên của tuple chỉ ra rằng phép tính thành công hay thất bại. Phần thứ hai là kết quả thực sự được tính toán\n",
        "\n"
      ]
    },
    {
      "cell_type": "code",
      "metadata": {
        "id": "QeQpzxGZzbCB",
        "colab_type": "code",
        "colab": {}
      },
      "source": [
        "def divide(a, b):\n",
        "  try:\n",
        "    return True, a/b\n",
        "  except ZeroDivisionError:\n",
        "    return False, None"
      ],
      "execution_count": 0,
      "outputs": []
    },
    {
      "cell_type": "markdown",
      "metadata": {
        "id": "RQ7cZpCH0afT",
        "colab_type": "text"
      },
      "source": [
        "Các lời gọi tới hàm này phải rã tuple trả về. Điều này bắt họ (các hàm gọi) phải xem xét phần nào trong tuple là kết quả, và phần nào là trạng thái của phép tính. "
      ]
    },
    {
      "cell_type": "code",
      "metadata": {
        "id": "DW90VNk10ZDb",
        "colab_type": "code",
        "outputId": "1a8f06da-bb3c-474f-c2d8-000c1949d065",
        "colab": {
          "base_uri": "https://localhost:8080/",
          "height": 34
        }
      },
      "source": [
        "success, result = divide(4, 0)\n",
        "if not success:\n",
        "  print(\"Invalid inputs\")"
      ],
      "execution_count": 0,
      "outputs": [
        {
          "output_type": "stream",
          "text": [
            "Invalid inputs\n"
          ],
          "name": "stdout"
        }
      ]
    },
    {
      "cell_type": "markdown",
      "metadata": {
        "id": "z3_cwCxW06v3",
        "colab_type": "text"
      },
      "source": [
        "Vấn đề là ở chỗ các lời gọi hàm có thể dễ dàng lờ đi phần đầu của tuple trả về (sử dụng biến có hai dấu gạch châu ```__````, một quy ước của Python dành cho các biến không được sử dụng). Đoạn code sử dụng dưới đây nhìn không sai nếu chỉ xét thoáng qua. Nhưng nó trở nên tệ khi kết quả trả về là ```None```"
      ]
    },
    {
      "cell_type": "code",
      "metadata": {
        "id": "OtrfbkFp012z",
        "colab_type": "code",
        "outputId": "889e7a62-d2e8-44af-d4cf-ba363ba773af",
        "colab": {
          "base_uri": "https://localhost:8080/",
          "height": 34
        }
      },
      "source": [
        "_, result = divide(0, 3)\n",
        "\n",
        "if not result:\n",
        "  print(\"Invalid inputs\")"
      ],
      "execution_count": 0,
      "outputs": [
        {
          "output_type": "stream",
          "text": [
            "Invalid inputs\n"
          ],
          "name": "stdout"
        }
      ]
    },
    {
      "cell_type": "markdown",
      "metadata": {
        "id": "Z4Y231qJ1s5m",
        "colab_type": "text"
      },
      "source": [
        "Ở ví dụ trên, dù phép tính là hợp lệ nhưng đoạn mã vẫn in ra kết quả sai, bởi vì ta đã kiểm tra sai biến."
      ]
    },
    {
      "cell_type": "markdown",
      "metadata": {
        "id": "S6Ifr-a414Wo",
        "colab_type": "text"
      },
      "source": [
        "Cách thứ hai tốt hơn là không bao giờ trả về ```None```. Thay vào đó, khởi lên một ngoại lệ cho người gọi và để họ xử lý nó. Ở đây, tôi chuyển ```ZeroDivisionError``` sang ```ValueError``` để nói cho người gọi biết rằng giá trị nhập vào là tệ."
      ]
    },
    {
      "cell_type": "code",
      "metadata": {
        "id": "JWYYp6B71f_4",
        "colab_type": "code",
        "colab": {}
      },
      "source": [
        "def divide(a, b):\n",
        "  try:\n",
        "    return a / b\n",
        "  except ZeroDivisionError as e:\n",
        "    raise ValueError('Invalid inputs') from e"
      ],
      "execution_count": 0,
      "outputs": []
    },
    {
      "cell_type": "code",
      "metadata": {
        "id": "rNa7y7qB2lRE",
        "colab_type": "code",
        "outputId": "76ab4838-1eac-4809-f7bb-c0dc7d57feb3",
        "colab": {
          "base_uri": "https://localhost:8080/",
          "height": 412
        }
      },
      "source": [
        "divide(1, 0)"
      ],
      "execution_count": 0,
      "outputs": [
        {
          "output_type": "error",
          "ename": "ValueError",
          "evalue": "ignored",
          "traceback": [
            "\u001b[0;31m---------------------------------------------------------------------------\u001b[0m",
            "\u001b[0;31mZeroDivisionError\u001b[0m                         Traceback (most recent call last)",
            "\u001b[0;32m<ipython-input-56-9ddc92a75a83>\u001b[0m in \u001b[0;36mdivide\u001b[0;34m(a, b)\u001b[0m\n\u001b[1;32m      2\u001b[0m   \u001b[0;32mtry\u001b[0m\u001b[0;34m:\u001b[0m\u001b[0;34m\u001b[0m\u001b[0;34m\u001b[0m\u001b[0m\n\u001b[0;32m----> 3\u001b[0;31m     \u001b[0;32mreturn\u001b[0m \u001b[0ma\u001b[0m \u001b[0;34m/\u001b[0m \u001b[0mb\u001b[0m\u001b[0;34m\u001b[0m\u001b[0;34m\u001b[0m\u001b[0m\n\u001b[0m\u001b[1;32m      4\u001b[0m   \u001b[0;32mexcept\u001b[0m \u001b[0mZeroDivisionError\u001b[0m \u001b[0;32mas\u001b[0m \u001b[0me\u001b[0m\u001b[0;34m:\u001b[0m\u001b[0;34m\u001b[0m\u001b[0;34m\u001b[0m\u001b[0m\n",
            "\u001b[0;31mZeroDivisionError\u001b[0m: division by zero",
            "\nThe above exception was the direct cause of the following exception:\n",
            "\u001b[0;31mValueError\u001b[0m                                Traceback (most recent call last)",
            "\u001b[0;32m<ipython-input-57-b4d7e8b388b7>\u001b[0m in \u001b[0;36m<module>\u001b[0;34m()\u001b[0m\n\u001b[0;32m----> 1\u001b[0;31m \u001b[0mdivide\u001b[0m\u001b[0;34m(\u001b[0m\u001b[0;36m1\u001b[0m\u001b[0;34m,\u001b[0m \u001b[0;36m0\u001b[0m\u001b[0;34m)\u001b[0m\u001b[0;34m\u001b[0m\u001b[0;34m\u001b[0m\u001b[0m\n\u001b[0m",
            "\u001b[0;32m<ipython-input-56-9ddc92a75a83>\u001b[0m in \u001b[0;36mdivide\u001b[0;34m(a, b)\u001b[0m\n\u001b[1;32m      3\u001b[0m     \u001b[0;32mreturn\u001b[0m \u001b[0ma\u001b[0m \u001b[0;34m/\u001b[0m \u001b[0mb\u001b[0m\u001b[0;34m\u001b[0m\u001b[0;34m\u001b[0m\u001b[0m\n\u001b[1;32m      4\u001b[0m   \u001b[0;32mexcept\u001b[0m \u001b[0mZeroDivisionError\u001b[0m \u001b[0;32mas\u001b[0m \u001b[0me\u001b[0m\u001b[0;34m:\u001b[0m\u001b[0;34m\u001b[0m\u001b[0;34m\u001b[0m\u001b[0m\n\u001b[0;32m----> 5\u001b[0;31m     \u001b[0;32mraise\u001b[0m \u001b[0mValueError\u001b[0m\u001b[0;34m(\u001b[0m\u001b[0;34m'Invalid inputs'\u001b[0m\u001b[0;34m)\u001b[0m \u001b[0;32mfrom\u001b[0m \u001b[0me\u001b[0m\u001b[0;34m\u001b[0m\u001b[0;34m\u001b[0m\u001b[0m\n\u001b[0m",
            "\u001b[0;31mValueError\u001b[0m: Invalid inputs"
          ]
        }
      ]
    },
    {
      "cell_type": "markdown",
      "metadata": {
        "id": "bt_wzxsc2yx8",
        "colab_type": "text"
      },
      "source": [
        "Bây giờ người gọi nên xử lý ngoại lệ trong trường hợp input nhập vào không hợp lệ. NGười gọi không cần thiết phải yêu cầu một câu điều kiện trên giá trị trả về của một hàm. Nếu hàm này không gây ra một ngoại lệ, khi đó giá trị trả về phải là tốt. Kết quả của của việc xử lý ngoại lệ thật rõ ràng."
      ]
    },
    {
      "cell_type": "code",
      "metadata": {
        "id": "rL5GNMGZ2oqv",
        "colab_type": "code",
        "outputId": "059fd5cc-2d7c-4ebd-e280-b69a1213b3c2",
        "colab": {
          "base_uri": "https://localhost:8080/",
          "height": 34
        }
      },
      "source": [
        "x, y = 5, 2\n",
        "try:\n",
        "  result = divide(x, y)\n",
        "except ValueError:\n",
        "  print(\"Invalid inputs\")\n",
        "else:\n",
        "  print(\"Result is %.1f\" %result)"
      ],
      "execution_count": 0,
      "outputs": [
        {
          "output_type": "stream",
          "text": [
            "Result is 2.5\n"
          ],
          "name": "stdout"
        }
      ]
    },
    {
      "cell_type": "code",
      "metadata": {
        "id": "8OQqi3OM3Yp8",
        "colab_type": "code",
        "outputId": "22219710-9732-49d5-975a-f4397b97dabe",
        "colab": {
          "base_uri": "https://localhost:8080/",
          "height": 34
        }
      },
      "source": [
        "x, y = 5, 0\n",
        "try:\n",
        "  result = divide(x, y)\n",
        "except ValueError:\n",
        "  print(\"Invalid inputs\")\n",
        "else:\n",
        "  print(\"Result is %.1f\" %result)"
      ],
      "execution_count": 0,
      "outputs": [
        {
          "output_type": "stream",
          "text": [
            "Invalid inputs\n"
          ],
          "name": "stdout"
        }
      ]
    },
    {
      "cell_type": "markdown",
      "metadata": {
        "id": "lslEgOI23fxY",
        "colab_type": "text"
      },
      "source": [
        "### Những điều cần nhớ\n",
        "\n",
        "\n",
        "*   Các hàm trả về ```None``` để ám chỉ một ý nghĩa đặc biệt dễ bị sai bởi vì ```None``` và các giá trị khác (ví dụ như số 0, hoặc một chuỗi rỗng) đều được đánh giá là ```False``` trong các câu điều kiên\n",
        "*   Khởi lên các ngoại lệ để ám chỉ các tình huống đặc biệt thay vì trả về ```None```. Mong đợi code gọi xử lý các ngoại lệ hợp khi khi chúng được mô tả. \n",
        "\n"
      ]
    },
    {
      "cell_type": "code",
      "metadata": {
        "id": "rSK6DVbf3eKd",
        "colab_type": "code",
        "colab": {}
      },
      "source": [
        "a = None\n",
        "assert not a == False"
      ],
      "execution_count": 0,
      "outputs": []
    },
    {
      "cell_type": "markdown",
      "metadata": {
        "id": "2ISUurGX577y",
        "colab_type": "text"
      },
      "source": [
        "## Xem xét sử dụng các Generators thay vì trả về các danh sách \n",
        "\n",
        "Lựa chọn đơn giản nhất cho các hàm muốn trả về một chuỗi các kết quả là trả về một danh sách các phần tử. Ví dụ, bạn muốn tìm chỉ số của mỗi từ trong một chuỗi. Trường hợp này, tôi dồn các kết quả vào trong một danh sách sử dụng phương thức ```append``` và trả nó về vào cuối hàm.\n"
      ]
    },
    {
      "cell_type": "code",
      "metadata": {
        "id": "_yl2TqL54QJr",
        "colab_type": "code",
        "colab": {}
      },
      "source": [
        "def index_words(text):\n",
        "  result = []\n",
        "  if text:\n",
        "    result.append(0)\n",
        "  for index, letter in enumerate(text):\n",
        "    if letter == \" \":\n",
        "      result.append(index + 1)\n",
        "  return result "
      ],
      "execution_count": 0,
      "outputs": []
    },
    {
      "cell_type": "markdown",
      "metadata": {
        "id": "qr8GYv6c7eUN",
        "colab_type": "text"
      },
      "source": [
        "Đoạn mã hoạt động đối với một vài input"
      ]
    },
    {
      "cell_type": "code",
      "metadata": {
        "id": "rn-5efgZ7dYs",
        "colab_type": "code",
        "outputId": "b7c911fc-df5f-4881-b281-3869b764bf65",
        "colab": {
          "base_uri": "https://localhost:8080/",
          "height": 34
        }
      },
      "source": [
        "address = 'Four score and seven years ago...'\n",
        "result = index_words(address)\n",
        "print(result[:3])"
      ],
      "execution_count": 0,
      "outputs": [
        {
          "output_type": "stream",
          "text": [
            "[0, 5, 11]\n"
          ],
          "name": "stdout"
        }
      ]
    },
    {
      "cell_type": "markdown",
      "metadata": {
        "id": "A_lg-uO_7xeG",
        "colab_type": "text"
      },
      "source": [
        "Có hai vấn đề với hàm ```index_words```. \n",
        "\n",
        "Vấn đề thứ nhất là đoạn mã được biết nhìn hơi dày và rắc rối. Mỗi lần một kết quả mới được gọi, tôi gọi phương thức ```append```. Kích thước của lời gọi (```result.append```) làm giảm đi tầm quan trọng của giá trị được thêm vào trong danh sách (```index + 1```). Có một dòng để tạo danh sách kết quả và một dòng khác trả lại kết quả. Trong khi thân hàm chứa khoảng 130 kí tự (trừ ra khoảng trắng), chỉ có 75 kí tự là quan trọng.\n",
        "\n",
        "Có một cách tốt hơn để viết hàm này đó là sử dụng một *\bgenerator*. Các generators là những hàm sử dụng các câu lệnh ```yield```. Khi được gọi, các hàm generator không chạy gì cả mà thay vào đó nó trả về một iterator. Với mỗi lời gọi hàm ```next``` có sẵn trong python sẽ làm cho generator tiến tới câu lệnh ```yield``` tiếp theo. Mỗi giá trị được truyền tới ```yield``` bởi generator sẽ được trả về tới người gọi bởi iterator. \n",
        "\n",
        "Ở đây tôi định nghĩa một hàm generator tạo ra kết quả giống như cách làm sử dụng danh sách phía trên."
      ]
    },
    {
      "cell_type": "code",
      "metadata": {
        "id": "oGxzy59v7t8T",
        "colab_type": "code",
        "colab": {}
      },
      "source": [
        "def index_words_iter(text):\n",
        "  if text:\n",
        "    yield 0\n",
        "  for index, letter in enumerate(text):\n",
        "    if letter == \" \":\n",
        "      yield index + 1"
      ],
      "execution_count": 0,
      "outputs": []
    },
    {
      "cell_type": "markdown",
      "metadata": {
        "id": "JMy-uuJR97sr",
        "colab_type": "text"
      },
      "source": [
        "Đoạn code phía trên dễ đọc hơn rất nhiều bởi vì tất cả các tương tác với danh sách kết quả đều được loại bỏ. Thay vào đó các kết quả được đưa cho các biểu thức ```yield```. Iterator được trả về bởi lời gọi generator có thể dễ dàng được chuyển thành mọt danh sách bằng cách truyền nó cho hàm có sẵn ```list```. "
      ]
    },
    {
      "cell_type": "code",
      "metadata": {
        "id": "1Rt7T-_a94FS",
        "colab_type": "code",
        "colab": {}
      },
      "source": [
        "result = list(index_words_iter(address))"
      ],
      "execution_count": 0,
      "outputs": []
    },
    {
      "cell_type": "code",
      "metadata": {
        "id": "O8SwQTMD-j_4",
        "colab_type": "code",
        "outputId": "4497df5d-98cc-4279-aa82-673d0fa98afc",
        "colab": {
          "base_uri": "https://localhost:8080/",
          "height": 34
        }
      },
      "source": [
        "result"
      ],
      "execution_count": 0,
      "outputs": [
        {
          "output_type": "execute_result",
          "data": {
            "text/plain": [
              "[0, 5, 11, 15, 21, 27]"
            ]
          },
          "metadata": {
            "tags": []
          },
          "execution_count": 66
        }
      ]
    },
    {
      "cell_type": "markdown",
      "metadata": {
        "id": "U3YGSoaL-oQl",
        "colab_type": "text"
      },
      "source": [
        "Vấn đề thứ hai với ```index_words``` đó là hàm này yêu cầu tất cả các kết quả được lưu vào trong một danh sách trước khi được trả về. Đối với các inputs lớn, việc này có thể làm cho chương trình của bạn tiêu tốn hết bộ nhớ và crash. Ngược lại, một phiên bản generator của hàm này có thể dễ dàng được thích ứng để nhận các inputs với bất cứ chiều dài nào."
      ]
    },
    {
      "cell_type": "markdown",
      "metadata": {
        "id": "FT33FNai_LAe",
        "colab_type": "text"
      },
      "source": [
        "Ở đây tôi định nghĩa một generator lấy input từ một file, mỗi thời điểm một dòng và xuất ra các kết quả mỗi từ một lần. Bộ nhớ của hàm nà được giới hạn tới độ dài cực đại của mỗi dòng input đầu vào"
      ]
    },
    {
      "cell_type": "code",
      "metadata": {
        "id": "iXXFYy18-law",
        "colab_type": "code",
        "colab": {}
      },
      "source": [
        "def index_file(handle):\n",
        "  offset = 0\n",
        "  for line in handle:\n",
        "    if line:\n",
        "      yield offset\n",
        "    for letter in line:\n",
        "      offset += 1\n",
        "      if letter == ' ':\n",
        "        yield offset"
      ],
      "execution_count": 0,
      "outputs": []
    },
    {
      "cell_type": "markdown",
      "metadata": {
        "id": "xEXZtlX1_5AS",
        "colab_type": "text"
      },
      "source": [
        "Chạy generator phái trên cho ra cùng kết quả"
      ]
    },
    {
      "cell_type": "code",
      "metadata": {
        "id": "11RKWkqv_1Tr",
        "colab_type": "code",
        "outputId": "69af486b-14a2-4606-809b-40aadd38c476",
        "colab": {
          "base_uri": "https://localhost:8080/",
          "height": 34
        }
      },
      "source": [
        "from itertools import islice\n",
        "with open(\"address.txt\") as f:\n",
        "  it = index_file(f)\n",
        "  results = islice(it, 0, 3)\n",
        "  print(list(results))"
      ],
      "execution_count": 0,
      "outputs": [
        {
          "output_type": "stream",
          "text": [
            "[0, 2, 7]\n"
          ],
          "name": "stdout"
        }
      ]
    },
    {
      "cell_type": "markdown",
      "metadata": {
        "id": "x6jUl6UI__XJ",
        "colab_type": "text"
      },
      "source": [
        "Vấn đề của việc định nghĩa các generators như thế này đó là các lời gọi phải biết được rằng các iterators được trả về là stateful (nghĩa là máy tính sẽ lưu trữ trạng thái các tương tác) và không thể tái sử **dụng**"
      ]
    },
    {
      "cell_type": "markdown",
      "metadata": {
        "id": "3vz80QPxBmlh",
        "colab_type": "text"
      },
      "source": [
        "### Những điều cần nhớ\n",
        "\n",
        "\n",
        "*   Sử dụng generators có thể làm cho code sáng sủa hơn thay vì dùng các danh sách để lưu trữ các kết quả tích luỹ\n",
        "*   Iterator trả về bởi một generator tạo một tập các giá trị được gửi tới các biểu diễn ```yield``` bên trong thân hàm generator.\n",
        "* Các generators có thể tạo ra một chuỗi các kết quả cho các inputs lớn tuỳ ý bởi vì bộ nhớ hoạt động của chúng không bao gồm tất cả các inputs và outputs.\n",
        "\n"
      ]
    },
    {
      "cell_type": "markdown",
      "metadata": {
        "id": "5gRRzwbVsXzQ",
        "colab_type": "text"
      },
      "source": [
        "## Mang tâm thế phòng vệ khi lặp qua các tham số\n",
        "\n",
        "Khi một hàm nhận một danh sách các đối tượng như là tham số, ta thường lặp qua danh sách đó nhiều lần. Ví dụ, bạn muốn phân tích số lượng khách du lịch của bang Texax. Tưởng tượng rằng tập dữ liệu là số lượng các du khách tới mỗi thành phố (hàng triệu mỗi năm). Bạn muốn tìm phần trăm lượng du khách tổng thể mỗi thành phố trong bang nhận được.\n",
        "\n",
        "Để làm điều này bạn cần một hàm chuẩn hoá (normalization function). Hàm này tính tổng các inputs để xác định tổng số lượng du khách mỗi năm. Sau đó nó chia mỗi số lượng khách cho con số tổng để tìm ra đóng góp của mỗi thành phố cho tổng thể."
      ]
    },
    {
      "cell_type": "code",
      "metadata": {
        "id": "jmFpEt-aBhdG",
        "colab_type": "code",
        "colab": {}
      },
      "source": [
        "def normalize(numbers):\n",
        "  total = sum(numbers)\n",
        "  result = []\n",
        "  for value in numbers:\n",
        "    percent = 100 * value / total\n",
        "    result.append(percent)\n",
        "  return result"
      ],
      "execution_count": 0,
      "outputs": []
    },
    {
      "cell_type": "markdown",
      "metadata": {
        "id": "NarhJY-nuel2",
        "colab_type": "text"
      },
      "source": [
        "Hàm này hoạt động tốt với một danh sách số lượng các chuyến thăm."
      ]
    },
    {
      "cell_type": "code",
      "metadata": {
        "id": "Tevtn6xEulx4",
        "colab_type": "code",
        "outputId": "2a956f33-2726-41f1-acd1-19e432d57fa3",
        "colab": {
          "base_uri": "https://localhost:8080/",
          "height": 34
        }
      },
      "source": [
        "visits = [15, 35, 80]\n",
        "percentages = normalize(visits)\n",
        "print(percentages)"
      ],
      "execution_count": 0,
      "outputs": [
        {
          "output_type": "stream",
          "text": [
            "[11.538461538461538, 26.923076923076923, 61.53846153846154]\n"
          ],
          "name": "stdout"
        }
      ]
    },
    {
      "cell_type": "markdown",
      "metadata": {
        "id": "1szQIEJquw2B",
        "colab_type": "text"
      },
      "source": [
        "Để mở rộng hàm trên, bạn cần đọc dữ liệu từ một file chứa mọi thành phố trong tiểu bang Texas. Tôi định nghĩa một generator để làm điều đó bởi vì tôi có thể tái sử dụng hàm này khi tôi muốn tính toán số lượng du khách cho toàn bộ thế giới, một tập dữ liệu lớn hơn rất nhiều"
      ]
    },
    {
      "cell_type": "code",
      "metadata": {
        "id": "FRR7JCH-utj4",
        "colab_type": "code",
        "colab": {}
      },
      "source": [
        "def read_visits(data_path):\n",
        "  with open(data_path) as f:\n",
        "    for line in f:\n",
        "      yield int(line)"
      ],
      "execution_count": 0,
      "outputs": []
    },
    {
      "cell_type": "markdown",
      "metadata": {
        "id": "7VhPxabRv1S7",
        "colab_type": "text"
      },
      "source": [
        "Tuy nhiên gọi hàm ```normalize``` trên giá trị trả về của generator không đưa ra kết quả gì."
      ]
    },
    {
      "cell_type": "code",
      "metadata": {
        "id": "oKXbajCUvTJv",
        "colab_type": "code",
        "outputId": "7806c8ac-ec83-4843-fb4f-7310e4fb42aa",
        "colab": {
          "base_uri": "https://localhost:8080/",
          "height": 34
        }
      },
      "source": [
        "it = read_visits(\"my_numbers.txt\")\n",
        "percentages = normalize(it)\n",
        "print(percentages)"
      ],
      "execution_count": 0,
      "outputs": [
        {
          "output_type": "stream",
          "text": [
            "[]\n"
          ],
          "name": "stdout"
        }
      ]
    },
    {
      "cell_type": "markdown",
      "metadata": {
        "id": "CKvLekmTwEWH",
        "colab_type": "text"
      },
      "source": [
        "Lý do là bởi vì một iterator chỉ tạo ra các kết quả một lần duy nhất. Bạn phải lặp qua một iterator hoặc generator đã khởi lên một ngoại lệ ```StopIteration```, bạn sẽ không có bất cứ kết quả nào trong lần hai"
      ]
    },
    {
      "cell_type": "code",
      "metadata": {
        "id": "flRFt8Mivl2P",
        "colab_type": "code",
        "outputId": "f9cf7a4f-d824-4a18-f0c9-edee906fa4f7",
        "colab": {
          "base_uri": "https://localhost:8080/",
          "height": 51
        }
      },
      "source": [
        "it = read_visits(\"my_numbers.txt\")\n",
        "print(list(it))\n",
        "print(list(it))"
      ],
      "execution_count": 0,
      "outputs": [
        {
          "output_type": "stream",
          "text": [
            "[13, 23, 12, 45, 31, 41, 23]\n",
            "[]\n"
          ],
          "name": "stdout"
        }
      ]
    },
    {
      "cell_type": "markdown",
      "metadata": {
        "id": "3Zbc3TPtw5xO",
        "colab_type": "text"
      },
      "source": [
        "Điều gây nhầm lẫn ở đây là bạn sẽ không thấy bắt cứ lỗi nào khi bạn lặp qua một iterator đã cạn kiệt. Các vòng lặp ```for```, các xây dựng ```list```, và nhiều hàm khác trong thư viện chuẩn Python mong đợi ```StopIteration``` được khởi lên trong những hoạt động bình thường. Các hàm này không thể nói lên sự khác biệt giữa một iterator không có output và một iterator có output và bị cạn kiệt.\n",
        "\n",
        "\n",
        "Để giải vấn đề này, ban có thể làm cạn kiệt một iterator đầu vào và giữ một bản sao của tất cả nội dung trong một danh sách. Bạn có thể lặp qua phiên bản danh sách của dữ liệu bao nhiêu lần bạn muốn. Dưới đây là cùng một hàm như trước , nhưng hàm mới này sao chép iterator đầu vào."
      ]
    },
    {
      "cell_type": "code",
      "metadata": {
        "id": "iTe_3-mRwpTa",
        "colab_type": "code",
        "colab": {}
      },
      "source": [
        "def normalize_copy(numbers):\n",
        "  numbers = list(numbers) # Sao chép iterator\n",
        "  total = sum(numbers)\n",
        "  result = []\n",
        "  for value in numbers:\n",
        "    percent = 100 * value / total\n",
        "    result.append(percent)\n",
        "  return result "
      ],
      "execution_count": 0,
      "outputs": []
    },
    {
      "cell_type": "markdown",
      "metadata": {
        "id": "ox8MJoZ-PW_3",
        "colab_type": "text"
      },
      "source": [
        "Hàm mới bây giờ hoạt động đúng trên giá trị trả về của generator"
      ]
    },
    {
      "cell_type": "code",
      "metadata": {
        "id": "UDGOz4o-PWNj",
        "colab_type": "code",
        "outputId": "d12307ab-9ce3-4581-ce73-5f4f73ff9efd",
        "colab": {
          "base_uri": "https://localhost:8080/",
          "height": 54
        }
      },
      "source": [
        "it = read_visits('my_numbers.txt')\n",
        "percentages = normalize_copy(it)\n",
        "print(percentages)"
      ],
      "execution_count": 0,
      "outputs": [
        {
          "output_type": "stream",
          "text": [
            "[6.914893617021277, 12.23404255319149, 6.382978723404255, 23.93617021276596, 16.48936170212766, 21.80851063829787, 12.23404255319149]\n"
          ],
          "name": "stdout"
        }
      ]
    },
    {
      "cell_type": "markdown",
      "metadata": {
        "id": "3QdagZA-QKx-",
        "colab_type": "text"
      },
      "source": [
        "Vấn đề với cách tiếp cận này đó là bản sao nội dung của iterator đầu vào có thể lớn. Sao chép iterator lớn này có thể làm cho chương trình sử dụng hết bộ nhớ và crash. Có một cách để giải quyết là chấp nhật một hàm và trả về một iterator mới mỗi lần hàm này được gọi."
      ]
    },
    {
      "cell_type": "code",
      "metadata": {
        "id": "-XbnU6TZQmPe",
        "colab_type": "code",
        "colab": {}
      },
      "source": [
        "def normalize_func(get_iter):\n",
        "  total = sum(get_iter()) # iterator mới\n",
        "  result = []\n",
        "  for value in get_iter(): # Iterator mới \n",
        "    percent = 100 * value / total\n",
        "    result.append(percent)"
      ],
      "execution_count": 0,
      "outputs": []
    },
    {
      "cell_type": "markdown",
      "metadata": {
        "id": "7SGXGQDljH2C",
        "colab_type": "text"
      },
      "source": [
        "Để sử dụng ```normalize_func```, bạn có thể truyền cho nó một biểu diễn ```lambda```, lambda này gọi generator và tạo ra một iterator mỗi lần"
      ]
    },
    {
      "cell_type": "code",
      "metadata": {
        "id": "qmjJo2jXfhxx",
        "colab_type": "code",
        "colab": {}
      },
      "source": [
        "percentages = normalize_func(lambda: read_visits(\"my_numbers.txt\"))\n",
        "percentages"
      ],
      "execution_count": 0,
      "outputs": []
    },
    {
      "cell_type": "markdown",
      "metadata": {
        "id": "GfN8KUt3jrJx",
        "colab_type": "text"
      },
      "source": [
        "Mặc dù cách này chạy được, nhưng phải truyền vào một hàm lambda nhìn hơi rắc rối. Có một cách tốt hơn để có được cùng kết quả là cung cấp một lớp chứa mới (container class) thực hiện giao thức iterator (iterator protocol)\n",
        "\n",
        "Giao thức iterator là cách các vòng lặp ```for``` và các biểu diễn liên quan đi qua các nội dung của một kiểu chứa (container type). Khi Python nhìn thấy một câu lệnh như ```for x in foo``` nó sẽ thực sự gọi ```iter(foo)```. Hàm có sẵn ```iter``` sau đó gọi phương thức đặc biệt ```foo.__iter__```. Phương thức ```__iter__``` phải trả về một đối tượng iterator (chính đối tượng này thực hiện phương thức đặc biệt ```__next__```). Sau đó vòng lặp ```for``` lặp lại gọi hàm có sẵn ```next``` trên đối tượng iterator cho đến khi nó cạn kệt (và khởi lên một ngoại lệ ```StopIteration```)\n",
        "\n",
        "Nghe có vẻ phức tập, nhưng bạn có thể đạt được tất cả điều này thông qua việc triển khai phương thức ```__iter__``` như là một generator. Ở đây, tôi định nghĩa một lớp chứa có thể lặp (iterable container class) lớp này đọc các tệp tin chứa nội dung khách du lịch"
      ]
    },
    {
      "cell_type": "code",
      "metadata": {
        "id": "mw8TNxAqf0Pv",
        "colab_type": "code",
        "colab": {}
      },
      "source": [
        "class ReadVisits(object):\n",
        "  def __init__(self, data_path):\n",
        "    self.data_path = data_path\n",
        "\n",
        "  def __iter__(self):\n",
        "    with open(self.data_path) as f:\n",
        "      for line in f:\n",
        "        yield int(line)"
      ],
      "execution_count": 0,
      "outputs": []
    },
    {
      "cell_type": "markdown",
      "metadata": {
        "id": "8S2K6xRkmPm-",
        "colab_type": "text"
      },
      "source": [
        "Container mới này hoạt động đúng khi được truyền cho hàm ban đầu mà không phải chỉnh sửa gì cả"
      ]
    },
    {
      "cell_type": "code",
      "metadata": {
        "id": "bh2IR4IZmc3V",
        "colab_type": "code",
        "outputId": "08b16fe3-2d49-4fb1-f0ff-169aa540603e",
        "colab": {
          "base_uri": "https://localhost:8080/",
          "height": 54
        }
      },
      "source": [
        "visits = ReadVisits(\"my_numbers.txt\")\n",
        "percentages = normalize(visits)\n",
        "print(percentages)"
      ],
      "execution_count": 0,
      "outputs": [
        {
          "output_type": "stream",
          "text": [
            "[6.914893617021277, 12.23404255319149, 6.382978723404255, 23.93617021276596, 16.48936170212766, 21.80851063829787, 12.23404255319149]\n"
          ],
          "name": "stdout"
        }
      ]
    },
    {
      "cell_type": "markdown",
      "metadata": {
        "id": "xliTnsUQmN5a",
        "colab_type": "text"
      },
      "source": [
        "Cách làm trên chạy được là bởi vì phương thức ```sum``` trong ```normalize``` sẽ gọi ```ReadVisits.__iter__``` để cấp phát một đối tượng iterator mới. Vòng lặp ```for``` qua các số cũng sẽ gọi ```__iter__``` để cấp phát một đối tượng iterator thứ hai. Mỗi iterator sẽ được đẩy lên và cạn kiệt độc lập với nhau, đảm bảo rằng mỗi vòng lặp nhìn thấy tất cả cá dữ liệu đầu vào. Chỉ có một điểm trừ của cách tiếp cận này đó là nó đọc dữ liệu đầu vào nhiều lần. \n",
        "\n",
        "Bây giờ bạn đã biết được các containers như ```ReadVisits``` hoạt động thế nào, bạn có thể viết các hàm của mình để đảm bảo rằng các tham số không phải là các iterators. Giao thức chỉ ra rằng khi một iterator được truyền vào hàm có sẵn ```iter```, ```iter``` sẽ trả về chính iterator đó. Ngược lại, khi một kiểu chứa được truyền vào ```iter```, một đối tượng iterator sẽ được trả về mỗi lần gọi. Do đó, bạn có thể kiểm tra một giá trị đầu vào cho kiểu hành xử này và khởi lên một ngoại lệ ```TypeError``` để từ chối các iterators."
      ]
    },
    {
      "cell_type": "code",
      "metadata": {
        "id": "7pEHJtkOgEGq",
        "colab_type": "code",
        "colab": {}
      },
      "source": [
        "def normalize_defensive(numbers):\n",
        "  if iter(numbers) is iter(numbers): # Một iterator -- không tốt!\n",
        "    raise TypeError('Must supply a container')\n",
        "  \n",
        "  total = sum(numbers)\n",
        "  result = []\n",
        "  for value in numbers:\n",
        "    percent = 100 * value / total\n",
        "    result.append(percent)\n",
        "  return result"
      ],
      "execution_count": 0,
      "outputs": []
    },
    {
      "cell_type": "markdown",
      "metadata": {
        "id": "mcJu5oMfpk2W",
        "colab_type": "text"
      },
      "source": [
        "Hàm trên hiệu quả nếu bạn không muốn sao chép toàn bộ iterator đầu vào như hàm ```normalize_copy``` ở phía trên, nhưng bạn cần lặp qua dữ liệu liệu đầu vào nhiều lần. Hàm này hoạt động tốt với ```list``` và ```ReadVisits``` bởi vì chúng là các đối tượng chứa (containers). Nó sẽ hoạt động cho bất cứ kiểu chứa nào tuân theo giao thức iterator. "
      ]
    },
    {
      "cell_type": "code",
      "metadata": {
        "id": "Ov2B_qhppeee",
        "colab_type": "code",
        "outputId": "49c7a24d-a437-4585-8c95-3a9911bf07b7",
        "colab": {
          "base_uri": "https://localhost:8080/",
          "height": 136
        }
      },
      "source": [
        "visits = [15, 35, 80]\n",
        "normalize_defensive(visits)\n",
        "visits = ReadVisits(\"my_numbers.txt\")\n",
        "normalize_defensive(visits)"
      ],
      "execution_count": 0,
      "outputs": [
        {
          "output_type": "execute_result",
          "data": {
            "text/plain": [
              "[6.914893617021277,\n",
              " 12.23404255319149,\n",
              " 6.382978723404255,\n",
              " 23.93617021276596,\n",
              " 16.48936170212766,\n",
              " 21.80851063829787,\n",
              " 12.23404255319149]"
            ]
          },
          "metadata": {
            "tags": []
          },
          "execution_count": 27
        }
      ]
    },
    {
      "cell_type": "markdown",
      "metadata": {
        "id": "wwnAYIHsqaO-",
        "colab_type": "text"
      },
      "source": [
        "Hàm này sẽ khởi lên một ngoại lệ nếu giá trị đầu vào có  thể lặp (iterable) nhưng không phải là đối tượng chứa."
      ]
    },
    {
      "cell_type": "code",
      "metadata": {
        "id": "IhFQEk4wqW_Q",
        "colab_type": "code",
        "outputId": "671daa8c-8fd9-4b18-bd68-14c507719e0d",
        "colab": {
          "base_uri": "https://localhost:8080/",
          "height": 300
        }
      },
      "source": [
        "it = iter(visits)\n",
        "normalize_defensive(it)"
      ],
      "execution_count": 0,
      "outputs": [
        {
          "output_type": "error",
          "ename": "TypeError",
          "evalue": "ignored",
          "traceback": [
            "\u001b[0;31m---------------------------------------------------------------------------\u001b[0m",
            "\u001b[0;31mTypeError\u001b[0m                                 Traceback (most recent call last)",
            "\u001b[0;32m<ipython-input-28-7655d24993e5>\u001b[0m in \u001b[0;36m<module>\u001b[0;34m()\u001b[0m\n\u001b[1;32m      1\u001b[0m \u001b[0mit\u001b[0m \u001b[0;34m=\u001b[0m \u001b[0miter\u001b[0m\u001b[0;34m(\u001b[0m\u001b[0mvisits\u001b[0m\u001b[0;34m)\u001b[0m\u001b[0;34m\u001b[0m\u001b[0;34m\u001b[0m\u001b[0m\n\u001b[0;32m----> 2\u001b[0;31m \u001b[0mnormalize_defensive\u001b[0m\u001b[0;34m(\u001b[0m\u001b[0mit\u001b[0m\u001b[0;34m)\u001b[0m\u001b[0;34m\u001b[0m\u001b[0;34m\u001b[0m\u001b[0m\n\u001b[0m",
            "\u001b[0;32m<ipython-input-26-094869dd6c3a>\u001b[0m in \u001b[0;36mnormalize_defensive\u001b[0;34m(numbers)\u001b[0m\n\u001b[1;32m      1\u001b[0m \u001b[0;32mdef\u001b[0m \u001b[0mnormalize_defensive\u001b[0m\u001b[0;34m(\u001b[0m\u001b[0mnumbers\u001b[0m\u001b[0;34m)\u001b[0m\u001b[0;34m:\u001b[0m\u001b[0;34m\u001b[0m\u001b[0;34m\u001b[0m\u001b[0m\n\u001b[1;32m      2\u001b[0m   \u001b[0;32mif\u001b[0m \u001b[0miter\u001b[0m\u001b[0;34m(\u001b[0m\u001b[0mnumbers\u001b[0m\u001b[0;34m)\u001b[0m \u001b[0;32mis\u001b[0m \u001b[0miter\u001b[0m\u001b[0;34m(\u001b[0m\u001b[0mnumbers\u001b[0m\u001b[0;34m)\u001b[0m\u001b[0;34m:\u001b[0m \u001b[0;31m# Một iterator -- không tốt!\u001b[0m\u001b[0;34m\u001b[0m\u001b[0;34m\u001b[0m\u001b[0m\n\u001b[0;32m----> 3\u001b[0;31m     \u001b[0;32mraise\u001b[0m \u001b[0mTypeError\u001b[0m\u001b[0;34m(\u001b[0m\u001b[0;34m'Must supply a container'\u001b[0m\u001b[0;34m)\u001b[0m\u001b[0;34m\u001b[0m\u001b[0;34m\u001b[0m\u001b[0m\n\u001b[0m\u001b[1;32m      4\u001b[0m \u001b[0;34m\u001b[0m\u001b[0m\n\u001b[1;32m      5\u001b[0m   \u001b[0mtotal\u001b[0m \u001b[0;34m=\u001b[0m \u001b[0msum\u001b[0m\u001b[0;34m(\u001b[0m\u001b[0mnumbers\u001b[0m\u001b[0;34m)\u001b[0m\u001b[0;34m\u001b[0m\u001b[0;34m\u001b[0m\u001b[0m\n",
            "\u001b[0;31mTypeError\u001b[0m: Must supply a container"
          ]
        }
      ]
    },
    {
      "cell_type": "markdown",
      "metadata": {
        "id": "ncKoKKzFquk-",
        "colab_type": "text"
      },
      "source": [
        "### Những điều cần nhớ\n",
        "\n",
        "\n",
        "*   Biết \bđược các hàm lặp qua các tham số nhiều lần. Nếu các tham số là các iterators, bạn có thể thấy cư xử hơi lệ và các giá trị bị mất\n",
        "*   Giao thức iterator của Python định nghĩa cách các đối tượng chứa và các iterators tương tác với các hàm có sẵn ```iter``` và ```next```, các vòng lặp, và các biểu diễn liên quan.\n",
        "* Bạn có thể dễ dàng định nghĩa kiểu chứa có thể lặp của bạn thông qua phương thức ```__iter__``` như là một generator.\n",
        "* Bạn có thể phát hiện xem một giá trị có là một iterator hay không (hay là một đối tượng chứa) nếu gọi ```iter``` trên đối tượng đó hai lần, hàm này sau đó gọi hàm có sẵn ```next```\n",
        "\n"
      ]
    },
    {
      "cell_type": "markdown",
      "metadata": {
        "id": "ddLfgg72KqWv",
        "colab_type": "text"
      },
      "source": [
        "## Nên sử dụng các lớp trợ giúp hơn là sử dụng các từ điển và tuples để giúp các bản ghi\n",
        "\n",
        "Kiểu từ điển có sẵn của Python giúp duy trì trang thái nội tại động (dynamic internal state) của một đối tượng qua thời gian. Ở đây *\u001dđộng* có nghĩa là trong những hoàn cảnh bạn cần lưu giữ các bản sao cho một tập hợp các đối tượng không được mong đợi. Ví dụ bạn muốn lưu lại điểm số của một tập hợp các học sinh nhưng bạn không biết trước tên của các học sinh này. Bạn có thể định nghĩa một lớp để lưu tên trong một từ điển thay vì sử dụng một thuộc tính được định nghĩa sẵn cho mỗi học sinh "
      ]
    },
    {
      "cell_type": "code",
      "metadata": {
        "id": "-ilxjc3ZqrhS",
        "colab_type": "code",
        "colab": {}
      },
      "source": [
        "class SimpleGradebook(object):\n",
        "  def __init__(self):\n",
        "    self._grades = {}\n",
        "\n",
        "  def add_student(self, name):\n",
        "    self._grades[name] = []\n",
        "\n",
        "  def report_grade(self, name, score):\n",
        "    self._grades[name].append(score)\n",
        "\n",
        "  def average_grade(self, name):\n",
        "    grades = self._grades[name]\n",
        "    return sum(grades) / len(grades)"
      ],
      "execution_count": 0,
      "outputs": []
    },
    {
      "cell_type": "markdown",
      "metadata": {
        "id": "0vPJhjaIMP-O",
        "colab_type": "text"
      },
      "source": [
        "Sử dụng lớp đơn giản hơn"
      ]
    },
    {
      "cell_type": "code",
      "metadata": {
        "id": "auQLuSOJMPKb",
        "colab_type": "code",
        "outputId": "e288157c-c385-4cda-a40f-8fce62785ada",
        "colab": {
          "base_uri": "https://localhost:8080/",
          "height": 34
        }
      },
      "source": [
        "book = SimpleGradebook()\n",
        "book.add_student('Isaac Newton')\n",
        "book.report_grade('Isaac Newton', 90)\n",
        "print(book.average_grade('Isaac Newton'))"
      ],
      "execution_count": 0,
      "outputs": [
        {
          "output_type": "stream",
          "text": [
            "90.0\n"
          ],
          "name": "stdout"
        }
      ]
    },
    {
      "cell_type": "markdown",
      "metadata": {
        "id": "GfzJBfyuMkRx",
        "colab_type": "text"
      },
      "source": [
        "Từ điển rất dễ sử dụng nhưng khi bạn mở rộng nó quá trớn để viết đoạn mã không ổn định thì nó lại nguy nhiểm. Ví dụ, bạn muốn mở rôgnj lớp ```SimpleGradebook``` để giữ một danh sách các điểm cho mỗi môn, chứ không phải là điểm tổng kết. Bạn có thể làm điều đó bằng cách thay đổi từ điển ```_grades``` để ánh xạ các tên học sinh (các chìa khoá) tới một từ điẻn khác (các giá trị). Từ điển phía trong sẽ ánh xạ các chủ thể (các chìa khoá) tới các các điểm số (các giá trị)"
      ]
    },
    {
      "cell_type": "code",
      "metadata": {
        "id": "H1wOjYIGMjC8",
        "colab_type": "code",
        "colab": {}
      },
      "source": [
        "class BySubjectGradebook(object):\n",
        "  def __init__(self):\n",
        "    self._grades = {}\n",
        "  def add_student(self, name):\n",
        "    self._grades[name] = {}\n",
        "\n",
        "  def report_grade(self, name, subject, grade):\n",
        "    by_subject = self._grades[name]\n",
        "    grade_list = by_subject.setdefault(subject, [])\n",
        "    grade_list.append(grade)\n",
        "    grade_list.append(grade)\n",
        "\n",
        "  def average_grade(self, name):\n",
        "    by_subject = self._grades[name]\n",
        "    total, count = 0, 0\n",
        "    for grades in by_subject.values():\n",
        "      total += sum(grades)\n",
        "      count += len(grades)\n",
        "    return total / count\n"
      ],
      "execution_count": 0,
      "outputs": []
    },
    {
      "cell_type": "markdown",
      "metadata": {
        "id": "Ece4IcePNmzb",
        "colab_type": "text"
      },
      "source": [
        "Cách này đủ dễ hiểu. Các phương thức ```report_grade``` và ```average_grade``` sẽ phức tạp hơn chút ít nhưng vẫn có thể quản lý được."
      ]
    },
    {
      "cell_type": "code",
      "metadata": {
        "id": "H5dniDdaNlfI",
        "colab_type": "code",
        "colab": {}
      },
      "source": [
        ""
      ],
      "execution_count": 0,
      "outputs": []
    },
    {
      "cell_type": "code",
      "metadata": {
        "id": "sK8TmwtQOhU3",
        "colab_type": "code",
        "colab": {}
      },
      "source": [
        ""
      ],
      "execution_count": 0,
      "outputs": []
    },
    {
      "cell_type": "markdown",
      "metadata": {
        "id": "cxHnpph5PYqb",
        "colab_type": "text"
      },
      "source": [
        "Sử dụng lớp vẫn thấy đơn giản"
      ]
    },
    {
      "cell_type": "code",
      "metadata": {
        "id": "c1BiAEJ6OyOl",
        "colab_type": "code",
        "colab": {}
      },
      "source": [
        "book = BySubjectGradebook()\n",
        "book.add_student('Albert Einstein')\n",
        "book.report_grade('Albert Einstein', 'Math', 74)\n",
        "book.report_grade('Albert Einstein', 'Math', 42)\n",
        "book.report_grade('Albert Einstein', 'Gym', 12)\n",
        "book.report_grade('Albert Einstein', 'Gym', 123)"
      ],
      "execution_count": 0,
      "outputs": []
    },
    {
      "cell_type": "code",
      "metadata": {
        "id": "kojMStjuO2kD",
        "colab_type": "code",
        "colab": {}
      },
      "source": [
        ""
      ],
      "execution_count": 0,
      "outputs": []
    },
    {
      "cell_type": "markdown",
      "metadata": {
        "id": "fkIHRY_ZQFl0",
        "colab_type": "text"
      },
      "source": [
        "Nào hãy tưởng tượng các yêu cầu cho chương trình thay đổi nữa. Bạn vẫn muốn theo dõi điểm từng môn tương quan điểm tổng kết, vì vậy các điểm kiểm tra giữa kì và cuối kì quan trọng hơn các kiểm tra miệng. Một cách để làm điều này đó là thay đổi từ điển bên trong; thay vì ánh xạ các đối tượng (các chìa khoá) tới các điểm thi (các giá trị), tôi có thể sử dụng tuple ```(score, weight)``` như là các giá trị. "
      ]
    },
    {
      "cell_type": "code",
      "metadata": {
        "id": "tZmmz7H-Qrxe",
        "colab_type": "code",
        "colab": {}
      },
      "source": [
        "class WeightedGradebook(object):\n",
        "  def __init__(self):\n",
        "    self._grades = {}\n",
        "  def add_student(self, name):\n",
        "    self._grades[name] = {}\n",
        "\n",
        "  def report_grade(self, name, subject, score, weight):\n",
        "    by_subject = self._grades[name]\n",
        "    grade_list = by_subject.setdefault(subject, [])\n",
        "    grade_list.append((score, weight))\n",
        "\n",
        "  def average_grade(self, name):\n",
        "    by_subject = self._grades[name]\n",
        "    score_sum, score_count = 0, 0\n",
        "    for subject, scores in by_subject.items():\n",
        "      subject_avg, total_weight = 0, 0\n",
        "      for score, weight in scores:\n",
        "        "
      ],
      "execution_count": 0,
      "outputs": []
    },
    {
      "cell_type": "markdown",
      "metadata": {
        "id": "38kcJkeXRBqo",
        "colab_type": "text"
      },
      "source": [
        "Mặc dù các thay đổi đối với phương thức ```report_grade``` nhìn có vẻ đơn giản, chỉ là dùng tuple như là một giá trị - phương thức ```average_grade``` bây giờ cần có một vòng lặp bên trong một vòng lặp và trở nên khó để đọc."
      ]
    },
    {
      "cell_type": "markdown",
      "metadata": {
        "id": "_VlWO--jXXs7",
        "colab_type": "text"
      },
      "source": [
        "Sử dụng lớp cũng trở nên khó khăn hơn. Khi cung cấp các tham số theo vị trí, ý nghĩa của chúng cũng không thực sự rõ ràng"
      ]
    },
    {
      "cell_type": "code",
      "metadata": {
        "id": "zbVtdU6WRA_Y",
        "colab_type": "code",
        "colab": {}
      },
      "source": [
        "book.report_grade('Albert Einstein', 'Math', 80, 0.10)"
      ],
      "execution_count": 0,
      "outputs": []
    },
    {
      "cell_type": "markdown",
      "metadata": {
        "id": "rVcdsaMRXwf-",
        "colab_type": "text"
      },
      "source": [
        "Khi độ phức tạp trong triển khai các từ điển và tuples tăng lên, đó là thời điểm bạn có thể chuyển qua dùng một phân tầng của các lớp (hierachy of classes)\n",
        "\n",
        "Khi bạn mới phát triển chương trình, bạn không biết rằng bạn cần hỗ trợ các điểm số được đánh trọng lượng, vì vậy độ phức tạp của các lớp trợ giúp dường như không được đáp ứng. Các kiểu từ điển và tuple giúp cho việc lưu trữ, thêm từng lớp vào đối tượng lưu trữ phía trong. Nhưng bạn nên tránh việc lồng kiểu vào nhau (ví dụ, tránh các từ điển chứa các từ điển). Nó làm cho đoạn mã của bạn khó đọc và việc bảo trì trở thành một cơn ác mộng. \n",
        "\n",
        "Khi bạn nhận ra rằng việc lưu trữ các bản ghi trở nên phức tạp, hãy chia nó ra thành những lớp. Điều này giúp bạn định nghĩa các giao tiếp được dành riêng cho việc bao dữ liệu của bạn. Điều này cũng cho phép bạn tạo ra một lớp trừu tượng (abstraction) giữa các giao tiếp của bạn và các chi tiết triển khai phía sau."
      ]
    },
    {
      "cell_type": "markdown",
      "metadata": {
        "id": "Qmrv4EFlaaO8",
        "colab_type": "text"
      },
      "source": [
        "### Tái cấu trúc sang các lớp\n",
        "\n",
        "Bạn có thể bắt đầu chuyển sang dùng các lớp từ đáy của cây phụ thuộc (dependency tree): một điểm thi duy nhất. Một lớp dường như to lớn cho việc lưu trữ thông tin đơn giản này. Một tuple có vẻ thích hợp hơn bởi vì các điểm số là không thể thay đổi sau khi đã được định nghĩa (immutable). Ở đây tôi sử dụng tuple ```(score, weight)``` để theo dõi các điểm số trong một danh sách."
      ]
    },
    {
      "cell_type": "code",
      "metadata": {
        "id": "sG_-hew_aZYc",
        "colab_type": "code",
        "colab": {}
      },
      "source": [
        "grades = []\n",
        "grades.append((95, 0.45))\n",
        "\n",
        "total = sum(score * weight for score, weight in grades)\n",
        "total_weight = sum(weight for _, weight in grades)\n",
        "average_grade = total / total_weight"
      ],
      "execution_count": 0,
      "outputs": []
    },
    {
      "cell_type": "markdown",
      "metadata": {
        "id": "A73PSTWFbt5g",
        "colab_type": "text"
      },
      "source": [
        "Vấn đề với các tuples bình thường (plain tuples) này đó là vị trí. Khi bạn muốn gắn kết nhiều thông tin hơn với một điểm số, ví dụ một tập hợp các ghi chú từ giáo viên, bạn sẽ cần viết lại mọi chỗ bạn sử dụng tuple với hai phần tử để đảm bảo rằng chúng phải có ba phần tử. Ở đây, tôi sử dụng dấu gạch chân ```_``` (một quy ước của Python dùng cho các biến không được sử dụng) để lấy ra thành phần thứ ba trong tuple và không làm gì với nó cả."
      ]
    },
    {
      "cell_type": "code",
      "metadata": {
        "id": "l8E-k7i0br4G",
        "colab_type": "code",
        "colab": {}
      },
      "source": [
        "grades = []\n",
        "grades.append((95, 0.45, 'Great job'))\n",
        "total = sum(score * weight for score, weight, _ in grades)\n",
        "total_weight = sum(weight for _, weight, _ in grades)\n",
        "average_grade = total / total_weight"
      ],
      "execution_count": 0,
      "outputs": []
    },
    {
      "cell_type": "markdown",
      "metadata": {
        "id": "EKZ5B_2qcvhA",
        "colab_type": "text"
      },
      "source": [
        "Làm theo kiểu mở rộng tuples như thế này tương tự như làm cho các từ điển sâu hơn. Khi bạn thấy rằng bạn cần các tuples nhiều hơn hai phần tử, lúc đó bạn cần một cách giải quyết khác. \n",
        "\n",
        "Kiểu ```namedtuple``` trong module ```collections``` đáp ứng những gì bạn cần. Nó giúp bạn định nghĩa các lớp nhỏ và immutable. "
      ]
    },
    {
      "cell_type": "code",
      "metadata": {
        "id": "Aice4Cnicttc",
        "colab_type": "code",
        "colab": {}
      },
      "source": [
        "import collections\n",
        "Grade = collections.namedtuple('Grade', ('score', 'weight'))"
      ],
      "execution_count": 0,
      "outputs": []
    },
    {
      "cell_type": "markdown",
      "metadata": {
        "id": "KLUjCygadYoi",
        "colab_type": "text"
      },
      "source": [
        "Các lớp này có thể được xây dựng với các tham số vị trí (positional) hay là từ khoá (keyword). Các trường trong ```namedtuple``` có thể được truy cập với các thuộc tính được đặt tên (named attributes). Có các thuộc tính được đặt trên làm cho việc chuyển từ một ```namedtuple``` sang lớp riêng của bạn trở nên dễ dàng hơn nếu các yêu cầu cứ thay đổi và bạn cần tránh dùng các đối tượng chứa đơn giản. \n",
        "\n",
        "### Các giới hạn của ```namedtuple```\n",
        "\n",
        "Mặc dù ```namedtuple``` hữu dụng trong nhiều trường hợp, điều quan trạng là bạn cần hiểu khi nào ```namedtuple``` có thể gây hại cho bạn \n",
        "\n",
        "\n",
        "*   Bạn không thể chỉ định các giá trị mặc định cho tham số trong các lớp ```namedtuple```. Điều này làm cho chúng khó có thể linh động khi dữ liệu của bạn có thể có nhiều thuộc tính lựa chọn khác. Nếu bạn thấy mình sử dụng nhiều các thuộc tính, định nghĩa một lớp riêng có thể là một lựa chọn tốt hơn\n",
        "*   Các giá trị thuộc tính của các hiện thực ```namedtuple``` cũng có thể truy cập sử dụng các chỉ số và lặp. Đặc biệt trong các APIs được thiết kế để sử dụng từ bên ngoài, điều này có thể tạo ra những việc sử dụng sai, dẫn tới việc chuyển sang lớp của bạn khó khăn hơn. Nếu bạn không nắm rõ tất cả việc sử dụng của các hiện thực ```namedtuple```, cách tốt hơn là định nghĩa các lớp của riêng bạn.\n",
        "\n"
      ]
    },
    {
      "cell_type": "markdown",
      "metadata": {
        "id": "1fuvlfKIfc-W",
        "colab_type": "text"
      },
      "source": [
        "Tiếp theo, bạn có thể viết một lớp để biểu diễn một chủ thể đơn lẻ, chứa một tập hợp các điểm số"
      ]
    },
    {
      "cell_type": "code",
      "metadata": {
        "id": "ZryYi0XtdXnI",
        "colab_type": "code",
        "colab": {}
      },
      "source": [
        "class Subject(object):\n",
        "  def __init__(self):\n",
        "    self._grades = []\n",
        "\n",
        "  def report_grade(self, score, weight):\n",
        "    self._grades.append(Grade(score, weight))\n",
        "\n",
        "  def average_grade(self):\n",
        "    total, total_weight = 0, 0\n",
        "    for grade in self._grades:\n",
        "      total += grade.score * grade.weight \n",
        "      total_weight += grade.weight \n",
        "    return total / total_weight \n",
        "    "
      ],
      "execution_count": 0,
      "outputs": []
    },
    {
      "cell_type": "markdown",
      "metadata": {
        "id": "BMx51khhGK1L",
        "colab_type": "text"
      },
      "source": [
        "Sau đó bạn viết một lớp để biểu diễn một tập hợp các môn một sinh viên được học."
      ]
    },
    {
      "cell_type": "code",
      "metadata": {
        "id": "wlE4pjtaJZ5y",
        "colab_type": "code",
        "colab": {}
      },
      "source": [
        "import collections\n",
        "Grade = collections.namedtuple('Grade', ('score', 'weight'))"
      ],
      "execution_count": 0,
      "outputs": []
    },
    {
      "cell_type": "code",
      "metadata": {
        "id": "ts6Nk7qlGchS",
        "colab_type": "code",
        "colab": {}
      },
      "source": [
        "class Student(object):\n",
        "  def __init__(self):\n",
        "    self._subjects = {}\n",
        "  \n",
        "  def subject(self, name):\n",
        "    if name not in self._subjects:\n",
        "      self._subjects[name] = Subject()\n",
        "    return self._subjects[name]\n",
        "\n",
        "  def average_grade(self):\n",
        "    total, count = 0, 0\n",
        "    for subject in self._subjects.values():\n",
        "      total += subject.average_grade()\n",
        "      count += 1\n",
        "    return total / count"
      ],
      "execution_count": 0,
      "outputs": []
    },
    {
      "cell_type": "markdown",
      "metadata": {
        "id": "rmFOuzdhHIn9",
        "colab_type": "text"
      },
      "source": [
        "Cuối cùng, bạn viết một đối tượng chứa (container) cho tất cả các sinh viên với các chìa khoá được định nghĩa động bằng tên của họ."
      ]
    },
    {
      "cell_type": "code",
      "metadata": {
        "id": "xvLqoSQVHDo5",
        "colab_type": "code",
        "colab": {}
      },
      "source": [
        "class Gradebook(object):\n",
        "  def __init__(self):\n",
        "    self._students = {}\n",
        "\n",
        "  def student(self, name):\n",
        "    if name not in self._students:\n",
        "      self._students[name] = Student()\n",
        "    return self._students[name]\n"
      ],
      "execution_count": 0,
      "outputs": []
    },
    {
      "cell_type": "markdown",
      "metadata": {
        "id": "FIanEQwEHnpu",
        "colab_type": "text"
      },
      "source": [
        "Lượng code ta viết nhiều gần như gấp đôi so với cách triển khai trước đó. Nhưng đoạn code mới này dễ đọc hơn. Ví dụ dưới đây cho ta thấy điều đó, code rõ ràng và có thể dễ dàng mở rộng."
      ]
    },
    {
      "cell_type": "code",
      "metadata": {
        "id": "HN4GyAprHm7O",
        "colab_type": "code",
        "colab": {}
      },
      "source": [
        "book = Gradebook()"
      ],
      "execution_count": 0,
      "outputs": []
    },
    {
      "cell_type": "code",
      "metadata": {
        "id": "RSy22BgvH4tT",
        "colab_type": "code",
        "outputId": "68e7a6ee-1454-4dc5-c28b-5c5516adcb59",
        "colab": {
          "base_uri": "https://localhost:8080/",
          "height": 34
        }
      },
      "source": [
        "albert = book.student('Albert Einstein')\n",
        "math = albert.subject('Math')\n",
        "math.report_grade(80, 0.10)\n",
        "print(albert.average_grade())"
      ],
      "execution_count": 0,
      "outputs": [
        {
          "output_type": "stream",
          "text": [
            "80.0\n"
          ],
          "name": "stdout"
        }
      ]
    },
    {
      "cell_type": "markdown",
      "metadata": {
        "id": "nAE61CQgJklg",
        "colab_type": "text"
      },
      "source": [
        "Nếu cần thiết, bạn có thể viết các phương thức tương thích với các phiên bản API cũ, để chuyển các API này sang các đối tượng lớp có phân tầng."
      ]
    },
    {
      "cell_type": "markdown",
      "metadata": {
        "id": "k40OyyDnJ8Cp",
        "colab_type": "text"
      },
      "source": [
        "### Những điều cần nhớ\n",
        "\n",
        "\n",
        "*   Tránh tạo ra các từ điển mà từ điển này chứa các giá trị là các từ điển hay các tuples dài khác. \n",
        "*   Sử dụng ```namedtuple``` cho các đối tượng chứa dữ liệu nhẹ và immutable trước khi bạn cần đến tính mềm dẻo của một lớp.\n",
        "* Chuyển đoạn mã chịu trách nhiệm giữ các bản ghi thành các lớp trợ giúp khi các từ điển nội tại trong đó trở nên phức tạp. \n",
        "\n"
      ]
    },
    {
      "cell_type": "markdown",
      "metadata": {
        "id": "BK1brQ2nKoO6",
        "colab_type": "text"
      },
      "source": [
        "## Sử dụng các hàm với các giao tiếp đơn giản thay vì các lớp\n",
        "\n",
        "Nhiều APIs có sẵn trong Python cho phép bạn tuỳ chỉnh cư xử bằng cách truyền vào một hàm. Các móc (hooks) này được sử dụng bởi APIs để gọi lại (call back) code của bạn khi chúng thực thi. Ví dụ, phương thức ```sort``` của kiểu danh sách chấp nhận một tham số ```key``` dưới dạng tuỳ chọn được sử dụng để xác định giá trị của chỉ số cho việc sắp xếp. Ở đây tôi sắp xếp một danh sách các tên dựa trên đội dài của nó thông qua một biểu diễn ```lambda``` như là móc ```key``` \n"
      ]
    },
    {
      "cell_type": "code",
      "metadata": {
        "id": "RaYHUpjWJ6e0",
        "colab_type": "code",
        "outputId": "5c85ad9a-d574-4d64-9faf-4017dce10f3e",
        "colab": {
          "base_uri": "https://localhost:8080/",
          "height": 34
        }
      },
      "source": [
        "names = [\"Socrates\", \"Archimedes\", \"Plato\", \"Aristotle\"]\n",
        "names.sort(key=lambda x: len(x))\n",
        "print(names)"
      ],
      "execution_count": 0,
      "outputs": [
        {
          "output_type": "stream",
          "text": [
            "['Plato', 'Socrates', 'Aristotle', 'Archimedes']\n"
          ],
          "name": "stdout"
        }
      ]
    },
    {
      "cell_type": "markdown",
      "metadata": {
        "id": "8mhu1GAwMDU-",
        "colab_type": "text"
      },
      "source": [
        "Trong các ngôn ngữ, bạn có thể thấy các móc được định nghĩa bởi một lớp trừu tượng. Trong Python, nhiều móc chỉ là các hàm không trạng thái với các tham số và giá trị trả về được định nghĩa rất tốt. Các hàm là những đối tượng tốt cho các móc bởi vì chúng có thể được mô tả dễ dàng và dễ dàng được định nghĩa hơn các lớp. Các hàm hoạt động như là các móc bởi vì Python có các hàm ```first-class```: Các hàm và các phương thức có thể được truyền và nhận như bất cứ giá trị nào trong Python. \n",
        "\n",
        "Ví dụ, bạn muốn tuỳ chỉnh cư xử của lớp ```defaultdict```. Cấu trúc dữ liệu này cho phép bạn cung cấp một hàm sẽ được gọi mỗi lần một từ khoá không tồn tại được truy cập tới. Hàm này phải trả về giá trị mặc định mà chìa khoá bị khuyết này nên có trong từ điển. Ở đây tôi định nghĩa một móc ghi lại mỗi lần một chìa khoá bị khuyết và trả về ```0``` cho giá trị mặc định"
      ]
    },
    {
      "cell_type": "code",
      "metadata": {
        "id": "TVylovBdL8-b",
        "colab_type": "code",
        "colab": {}
      },
      "source": [
        "def log_missing():\n",
        "  print(\"Key added\")\n",
        "  return 0"
      ],
      "execution_count": 0,
      "outputs": []
    },
    {
      "cell_type": "markdown",
      "metadata": {
        "id": "FCoRB3V1NxiX",
        "colab_type": "text"
      },
      "source": [
        "Cho trước một từ điển ban đầu và một tập hợp các ...., tôi có thể làm cho hàm ```log_missing``` chạy và in ra (cho 'red' và 'orange')"
      ]
    },
    {
      "cell_type": "code",
      "metadata": {
        "id": "KI7tRlDUNvyO",
        "colab_type": "code",
        "outputId": "c6515175-3c3e-4afd-bdee-147e8fb6311a",
        "colab": {
          "base_uri": "https://localhost:8080/",
          "height": 68
        }
      },
      "source": [
        "from collections import defaultdict\n",
        "current = {'green': 12, 'blue': 3}\n",
        "increments = [\n",
        "              ('red', 5), \n",
        "              ('blue', 17),\n",
        "              ('orange', 9),\n",
        "]\n",
        "result = defaultdict(log_missing, current)\n",
        "print('Before: ', dict(result))\n",
        "for key, amount in increments:\n",
        "  result[key] += amount \n",
        "print(\"After: \", dict(result))"
      ],
      "execution_count": 0,
      "outputs": [
        {
          "output_type": "stream",
          "text": [
            "Before:  {'green': 12, 'blue': 3, 'red': 4}\n",
            "Key added\n",
            "After:  {'green': 12, 'blue': 20, 'red': 9, 'orange': 9}\n"
          ],
          "name": "stdout"
        }
      ]
    },
    {
      "cell_type": "markdown",
      "metadata": {
        "id": "3VaIyN4wRgfa",
        "colab_type": "text"
      },
      "source": [
        "Cung cấp các hàm như ```log_missing``` làm cho các APIs dễ dàng xây dựng và kiểm tra bởi vì nó tách biệt các hiệu ứng phụ khỏi các hành vi xác định. Ví dụ, bạn muốn móc của giá trị mặc định được truyền vào hàm ```defaultdict``` để đếm tổng số lượng chìa khó bị thiếu. Có một cách để làm điều này đó là dùng một bộ đóng lưu trữ trạng thái (stateful closure). Ở đây, tôi định nghĩa một hàm trợ giúp sử dụng một bộ đóng như vậy như là móc giá trị mặc định."
      ]
    },
    {
      "cell_type": "code",
      "metadata": {
        "id": "q2UFWqXcOpS_",
        "colab_type": "code",
        "colab": {}
      },
      "source": [
        "def increment_with_report(current, increments):\n",
        "  added_count = 0\n",
        "  def missing():\n",
        "    nonlocal added_count # bộ đóng lưu trữ trạng thái\n",
        "    added_count += 1\n",
        "    return 0\n",
        "  result = defaultdict(missing, current)\n",
        "  for key, amount in increments:\n",
        "    result[key] += amount \n",
        "  return result, added_count "
      ],
      "execution_count": 0,
      "outputs": []
    },
    {
      "cell_type": "markdown",
      "metadata": {
        "id": "_TtC-8AWS7PI",
        "colab_type": "text"
      },
      "source": [
        "Chạy hàm này cho ra kết quả mong đợi (2), mặc dù ```defaultdict``` không biết rằng móc ```missing``` duy trì trạng thái. Đây là một lợi thế khác của việc dùng các hàm bình thường cho các giao diện. Rất dễ để thêm tính năng sau này thông qua việc ẩn đi trạng thái trong một bộ đóng. "
      ]
    },
    {
      "cell_type": "code",
      "metadata": {
        "id": "bvqkY-CVTZSs",
        "colab_type": "code",
        "colab": {}
      },
      "source": [
        "result, count = increment_with_report(current, increments)\n",
        "assert count == 1"
      ],
      "execution_count": 0,
      "outputs": []
    },
    {
      "cell_type": "markdown",
      "metadata": {
        "id": "cYBgNs17ehZc",
        "colab_type": "text"
      },
      "source": [
        "Vấn đề với việc định nghĩa một bộ đóng (closure) cho các móc có trang thái đó là code khó đọc hơn các trường hợp hàm không trạng thái. Một cách tiếp cân khác là định nghĩa một lớp nhỏ bao trạng thái bạn muốn theo dõi"
      ]
    },
    {
      "cell_type": "code",
      "metadata": {
        "id": "w9MAEOf8TfQd",
        "colab_type": "code",
        "colab": {}
      },
      "source": [
        "class CountMissing(object):\n",
        "  def __init__(self):\n",
        "    self.added = 0 \n",
        "\n",
        "  def missing(self):\n",
        "    self.added += 1 \n",
        "    return 0"
      ],
      "execution_count": 0,
      "outputs": []
    },
    {
      "cell_type": "markdown",
      "metadata": {
        "id": "OhdJamAtfOdn",
        "colab_type": "text"
      },
      "source": [
        "Trong các ngôn ngữ khác, bạn có thể mong đợi rằng ```defaultdict``` phải được thay đổi để chứa giao tiếp của ```CountMissing```. Trong trong Python, cảm ơn các hàm first-class, bạn có thể tham chiếu phương thức ```CountMissing.missing``` trực tiếp trên một đối tượng và truyền nó vào ```defaultdict``` như là một móc giá trị mặc định. Rất dễ để có được một phương thức thoả mãn giao diện hàm này."
      ]
    },
    {
      "cell_type": "code",
      "metadata": {
        "id": "vJqXuGq6fNe6",
        "colab_type": "code",
        "colab": {}
      },
      "source": [
        "from collections import defaultdict\n",
        "\n",
        "current = {'green': 12, 'blue': 3}\n",
        "increments = [\n",
        "              ('red', 5), \n",
        "              ('blue', 17),\n",
        "              ('orange', 9),\n",
        "]\n",
        "counter = CountMissing()\n",
        "result = defaultdict(counter.missing, current) # Tham chiếu phương thức\n",
        "\n",
        "for key, amount in increments:\n",
        "  result[key] += amount \n",
        "\n",
        "assert counter.added == 2"
      ],
      "execution_count": 0,
      "outputs": []
    },
    {
      "cell_type": "markdown",
      "metadata": {
        "id": "dRO63dVggZtv",
        "colab_type": "text"
      },
      "source": [
        "Sử dụng một lớp trợ giúp như vậy cung cấp chức năng của một bộ đóng có trạng thái rõ ràng hơn hàm ```increment_with_report``` ở trên. Tuy nhiên khi đứng tách biệt, ta sẽ không biết được ngay mục đích của lớp ```CountMissing```. Ai tạo ra một đối tượng ```CountMissing```? Ai gọi phương thức ```missing```? Lớp này sẽ cần thêm vào các phương thức công cộng khác trong tương lai hay không? Chỉ đến khi bạn thấy nó được sử dụng với ```defaultdict``` bạn mới rõ. \n",
        "\n",
        "Để làm rõ mục đích của lớp này, Python cho phép các lớp định nghĩa phương thức đặc biệt gọi là ```__call__```. ```__call__``` cho phép một đối tượng được gọi như là một hàm. Nó cũng làm cho hàm có sẵn ```callable``` trả về ```True``` cho hiện thực như vậy."
      ]
    },
    {
      "cell_type": "code",
      "metadata": {
        "id": "wGbLJRLThkfV",
        "colab_type": "code",
        "colab": {}
      },
      "source": [
        "class BetterCountMissing(object):\n",
        "  def __init__(self):\n",
        "    self.added = 0 \n",
        "\n",
        "  def __call__(self):\n",
        "    self.added += 1\n",
        "    return 0\n",
        "    "
      ],
      "execution_count": 0,
      "outputs": []
    },
    {
      "cell_type": "code",
      "metadata": {
        "id": "7QiNRR_zhz_o",
        "colab_type": "code",
        "colab": {}
      },
      "source": [
        "counter = BetterCountMissing()\n",
        "counter()\n",
        "assert callable(counter)"
      ],
      "execution_count": 0,
      "outputs": []
    },
    {
      "cell_type": "markdown",
      "metadata": {
        "id": "mdkFOOmjh8V2",
        "colab_type": "text"
      },
      "source": [
        "Ở đây, tôi sử dụng một hiện thưucj ```BetterCountMissing``` như là móc giá trị mặc định cho một ```defaultdict``` để theo dõi số lượng các khoá không tồn tại trước đó được thêm vào."
      ]
    },
    {
      "cell_type": "code",
      "metadata": {
        "id": "CnPHWYe8hx3n",
        "colab_type": "code",
        "colab": {}
      },
      "source": [
        "counter = BetterCountMissing()\n",
        "result = defaultdict(counter, current) # Dựa trên __call__\n",
        "for key, amount in increments:\n",
        "  result[key] += amount \n",
        "\n",
        "assert counter.added == 2"
      ],
      "execution_count": 0,
      "outputs": []
    },
    {
      "cell_type": "markdown",
      "metadata": {
        "id": "Hgss5RrwifmN",
        "colab_type": "text"
      },
      "source": [
        "Cách làm này rõ ràng hơn rất nhiều so với trường hợp ```CountMissing.missing```. Phương thức ```__call__``` chỉ ra rằng các hiện thực lớp sẽ được sử dụng ở đâu đó như là một tham số cho một hàm (giống như các móc API). Nó hướng những người mới đọc code của bạn tới điểm đầu vào (entry point) chịu trách nhiệm chính cho hành vi chính của lpws. Nó cung cấp một gợi ý mạnh mẽ rằng mục đích của lớp này là một bộ đóng có trạng thái. \n",
        "\n",
        "```defaultdict``` vẫn không biết điều gì xảy ra khi bạn gọi ```__call__```. Tất cả những gì ```defaultdict``` yêu cầu đó là một hàm dành cho móc giá trị mặc định. Python cung cấp nhiều cách để thoả mãn một giao tiếp hàm đơn giản phụ thuộc vào bạn cần hoàn thành những gì. "
      ]
    },
    {
      "cell_type": "markdown",
      "metadata": {
        "id": "PuyIO_tojweT",
        "colab_type": "text"
      },
      "source": [
        "### Những thứ cần nhớ. \n",
        "\n",
        "\n",
        "*   Thay vì định nghĩa và khởi tạo các lớp, các hàm thường được dùng cho các giao tiếp đơn giản giữa các thành phần trong Python\n",
        "*   Các tham chiếu tới các hàm và các phương thức trong Python là first class, nghĩa là chúng có thể được sử dụng trong các biểu diễn (expressions) như bất cứ kiểu nào khác. \n",
        "* Phương thức đặc biệt ```__call__``` cho phép các hiện thực của một lớp được gọi như là các hàm thông thường. \n",
        "* Khi bạn cần một hàm duy trì trạng thái, xem xét giải pháp định nghĩa một lớp cung cấp phương thức ```__call__``` thay vì định nghĩa một bộ đóng trạng thái. \n",
        "\n"
      ]
    },
    {
      "cell_type": "markdown",
      "metadata": {
        "id": "PkOPMQzcks-y",
        "colab_type": "text"
      },
      "source": [
        "## Sử dụng ```@classmethod``` đa hình để xây dựng các đối tượng chung \n",
        "\n",
        "Trong Python, không chỉ các đối tượng hỗ trợ đa hình, mà các lớp cũng hỗ trợ đa hình. Vậy đa hình là gì, nó tốt cho cái gì?\n",
        "\n",
        "Đa hình là một cách để các lớp trong một hệ thống cấp bậc triển khai các phiên bản riêng của một phương thức. Điều này cho phép nhiều lớp thoả mãn cùng một giao \u001dtiếp hoặc một lớp cơ sở trừu tượng trong khi cung cấp cư xử khác nhau. \n",
        "\n",
        "Ví dụ, bạn đang viết một triển khai ```MapReduce``` và bạn muốn một lớp chung để biểu diễn dữ liệu đầu vào. Ở đây tôi định nghĩa một lớp như vậy với phương thức ```read```, phương thức phải được định nghĩa bởi các lớp con. "
      ]
    },
    {
      "cell_type": "code",
      "metadata": {
        "id": "mimwwjLwidMy",
        "colab_type": "code",
        "colab": {}
      },
      "source": [
        "class InputData(object):\n",
        "  def read(self):\n",
        "    raise NotImplementedError"
      ],
      "execution_count": 0,
      "outputs": []
    },
    {
      "cell_type": "markdown",
      "metadata": {
        "id": "wCfD3VwumK6I",
        "colab_type": "text"
      },
      "source": [
        "Ở đây, tôi có một lớp con cụ thể của ```InputData``` đọc dữ liệu từ một file trên đĩa. "
      ]
    },
    {
      "cell_type": "code",
      "metadata": {
        "id": "rY4-5dsBmJSG",
        "colab_type": "code",
        "colab": {}
      },
      "source": [
        "class PathInputData(InputData):\n",
        "  def __init__(self, path):\n",
        "    super().__init__()\n",
        "    self.path = path \n",
        "\n",
        "  def read(self):\n",
        "    return open(self.path).read()"
      ],
      "execution_count": 0,
      "outputs": []
    },
    {
      "cell_type": "markdown",
      "metadata": {
        "id": "FnDYz8oTm2g2",
        "colab_type": "text"
      },
      "source": [
        "Bạn có thể có bất cứ số lượng các lớp con của ```InputData``` như ```PathInputData``` và mỗi lớp con có thể triển khai một giao tiếp chuẩn cho phương thức ```read``` để trả về các bytes dữ liệu để xử lý. Các lớp con của ```InputData``` có thể đọc từ mạc, giải nén dữ liệu một cách trong suốt, vân vân. \n",
        "\n",
        "Bạn có thể muốn một giao tiếp trừu tượng tương tự cho MapReduce worker để lấy dữ liệu đầu vào theo một cách chuẩn. "
      ]
    },
    {
      "cell_type": "code",
      "metadata": {
        "id": "sICbBXsLmwX2",
        "colab_type": "code",
        "colab": {}
      },
      "source": [
        "class Worker(object):\n",
        "  def __init__(self, input_data):\n",
        "    self.input_data = input_data \n",
        "    self.result = None \n",
        "\n",
        "  def map(self):\n",
        "    raise NotImplementedError\n",
        "\n",
        "  def reduce(self, other):\n",
        "    raise NotImplementedError\n",
        "    "
      ],
      "execution_count": 0,
      "outputs": []
    },
    {
      "cell_type": "markdown",
      "metadata": {
        "id": "5dgaNmcyoZ4g",
        "colab_type": "text"
      },
      "source": [
        "Ở đây, tôi định nghĩa một lớp con cụ thể của ```Worker``` để triển khai một hàm MapReduce cụ thể bạn muốn áp dụng: một bộ đếm dòng mới đơn giản. "
      ]
    },
    {
      "cell_type": "code",
      "metadata": {
        "id": "CAlKHTKQoWLu",
        "colab_type": "code",
        "colab": {}
      },
      "source": [
        "class LineCountWorker(Worker):\n",
        "  def map(self):\n",
        "    data = self.input_data.read()\n",
        "    self.result = data.count(\"\\n\")\n",
        "\n",
        "  def reduce(self, other):\n",
        "    self.result += other.result"
      ],
      "execution_count": 0,
      "outputs": []
    },
    {
      "cell_type": "markdown",
      "metadata": {
        "id": "E7alWQ9aUXJk",
        "colab_type": "text"
      },
      "source": [
        "Cách triển khai trên dường như tốt, nhưng có một khó khăn đó là tìm ra cái kết nối tất cả các mảnh trên. Tôi có một tập hợp các lớp với các giao tiếp và trừu tượng tốt - nhưng chúng chỉ hữu dụng khi các đối tượng được xây dựng. Cái gì chịu trách nhiệm cho việc xây dựng các đối tượng và kết nối MapReduce?\n",
        "\n",
        "Cách đơn giản nhất là xây dựng và kết nối các đối tượng với một số hợp trợ giúp một cách thủ công. Ở đây, tôi liệt kê các nội dung của một thư mục và xây dựng một hiện thực ```PathInputData``` cho mỗi file trong nó:"
      ]
    },
    {
      "cell_type": "code",
      "metadata": {
        "id": "Kp7xPf5NUWdw",
        "colab_type": "code",
        "colab": {}
      },
      "source": [
        "import os\n",
        "def generate_inputs(data_dir):\n",
        "  for name in os.listdir(data_dir):\n",
        "    yield PathInputData(os.path.join(data_dir, name))"
      ],
      "execution_count": 0,
      "outputs": []
    },
    {
      "cell_type": "markdown",
      "metadata": {
        "id": "mtXNQ_0ZVii7",
        "colab_type": "text"
      },
      "source": [
        "Tiếp theo, tôi tạo các hiện thực ```LineCountWorker``` sử dụng các hiện thực ```InputData``` được trả về bởi ```generate_inputs```."
      ]
    },
    {
      "cell_type": "code",
      "metadata": {
        "id": "59NiZXA5VhwH",
        "colab_type": "code",
        "colab": {}
      },
      "source": [
        "def create_workers(input_list):\n",
        "  workers = []\n",
        "  for input_data in input_list:\n",
        "    workers.append(LineCountWorker(input_data))\n",
        "  return workers  "
      ],
      "execution_count": 0,
      "outputs": []
    },
    {
      "cell_type": "markdown",
      "metadata": {
        "id": "-PgVROlpV_xc",
        "colab_type": "text"
      },
      "source": [
        "Tôi thực hiện các hiện thực "
      ]
    },
    {
      "cell_type": "markdown",
      "metadata": {
        "id": "_aWrQW0AWPea",
        "colab_type": "text"
      },
      "source": [
        ""
      ]
    },
    {
      "cell_type": "markdown",
      "metadata": {
        "id": "xtu-2XRQWPzS",
        "colab_type": "text"
      },
      "source": [
        "## Khởi tạo các lớp cha với ```super``` \n",
        "\n",
        "Cách cũ để khởi tạo một lớp cha từ một lớp con đó là gọi trực tiếp phương thức ```__init__``` của lớp cho với hiện thực lớp con"
      ]
    },
    {
      "cell_type": "code",
      "metadata": {
        "id": "bLRCzhuDV93T",
        "colab_type": "code",
        "colab": {}
      },
      "source": [
        "class MyBaseClass(object):\n",
        "  def __init__(self, value):\n",
        "    self.value = value \n",
        "\n",
        "class MyChildClass(MyBaseClass):\n",
        "  def __init__(self):\n",
        "    MyBaseClass.__init__(self, 5)"
      ],
      "execution_count": 0,
      "outputs": []
    },
    {
      "cell_type": "markdown",
      "metadata": {
        "id": "TTBRGVMYW9Co",
        "colab_type": "text"
      },
      "source": [
        "Cách thức này hoạt động tốt cho các phân cấp đơn giản nhưng sẽ không hoạt động trong nhiều trường hợp. \n",
        "\n",
        "Nếu lớp của bạn bị ảnh hưởng bởi nhiều thừa kế, gọi các phương thức ```__init__``` của các lớp cha có thể dẫn tới những hành vì không thể dự đoán được. \n",
        "\n",
        "Một vấn đề đó là thứ tự lời gọi ```__init__``` không được chỉ định đối với tất cả các lớp con. Ví dụ, ở đây tôi định nghĩa hai lớp cha hoạt động trên phương thức ```value``` của các hiện thực. "
      ]
    },
    {
      "cell_type": "code",
      "metadata": {
        "id": "9I6UT-_rWtO3",
        "colab_type": "code",
        "colab": {}
      },
      "source": [
        "class TimesTwo(object):\n",
        "  def __init__(self):\n",
        "    self.value *= 2\n",
        "\n",
        "class PlusFive(object):\n",
        "  def __init__(self):\n",
        "    self.value += 5 "
      ],
      "execution_count": 0,
      "outputs": []
    },
    {
      "cell_type": "markdown",
      "metadata": {
        "id": "Qz2UkKE3X7o7",
        "colab_type": "text"
      },
      "source": [
        "Lớp này định nghĩa các lớp cha theo thứ tự như dưới đây"
      ]
    },
    {
      "cell_type": "code",
      "metadata": {
        "id": "1vZtiX2EX6Tc",
        "colab_type": "code",
        "colab": {}
      },
      "source": [
        "class OneWay(MyBaseClass, TimesTwo, PlusFive):\n",
        "  def __init__(self, value):\n",
        "    MyBaseClass.__init__(self, value)\n",
        "    TimesTwo.__init__(self)\n",
        "    PlusFive.__init__(self)"
      ],
      "execution_count": 0,
      "outputs": []
    },
    {
      "cell_type": "markdown",
      "metadata": {
        "id": "q40kW4COYR9v",
        "colab_type": "text"
      },
      "source": [
        "Xây dựng lớp trên dẫn tới việc khởi tạo giá trị theo thứ tự sau. "
      ]
    },
    {
      "cell_type": "code",
      "metadata": {
        "id": "VlDm69-QYNTt",
        "colab_type": "code",
        "outputId": "7d59bf40-9c92-4503-e22c-be4f87f9f732",
        "colab": {
          "base_uri": "https://localhost:8080/",
          "height": 34
        }
      },
      "source": [
        "foo = OneWay(5)\n",
        "print(\"First ordering is (5 * 2) + 5\", foo.value)"
      ],
      "execution_count": 0,
      "outputs": [
        {
          "output_type": "stream",
          "text": [
            "First ordering is (5 * 2) + 5 15\n"
          ],
          "name": "stdout"
        }
      ]
    },
    {
      "cell_type": "markdown",
      "metadata": {
        "id": "Z5SYsN5DZAua",
        "colab_type": "text"
      },
      "source": [
        "Ta có thêm một lớp khác với cùng các lớp cha nhưng thứ tự khác đi"
      ]
    },
    {
      "cell_type": "code",
      "metadata": {
        "id": "0ibdcP8tYlyp",
        "colab_type": "code",
        "colab": {}
      },
      "source": [
        "class AnotherWay(MyBaseClass, PlusFive, TimesTwo):\n",
        "  def __init__(self, value):\n",
        "    MyBaseClass.__init__(self, value)\n",
        "    TimesTwo.__init__(self)\n",
        "    PlusFive.__init__(self)"
      ],
      "execution_count": 0,
      "outputs": []
    },
    {
      "cell_type": "markdown",
      "metadata": {
        "id": "utTWLAfOZYUd",
        "colab_type": "text"
      },
      "source": [
        "Tuy nhiên trong hàm khởi tạo tôi vẫn để thứ tự các lời gọi như trước, lần này thì thứ tự trong danh sách các tham số không giống với thứ tự chúng được gọi trong hàm ```__init__```"
      ]
    },
    {
      "cell_type": "code",
      "metadata": {
        "id": "NApuqV-sZXE2",
        "colab_type": "code",
        "outputId": "5e667e1d-8c9b-4238-d412-ef0b041dc796",
        "colab": {
          "base_uri": "https://localhost:8080/",
          "height": 34
        }
      },
      "source": [
        "bar = AnotherWay(5)\n",
        "print('Second ordering still is', bar.value)"
      ],
      "execution_count": 0,
      "outputs": [
        {
          "output_type": "stream",
          "text": [
            "Second ordering still is 15\n"
          ],
          "name": "stdout"
        }
      ]
    },
    {
      "cell_type": "markdown",
      "metadata": {
        "id": "DXDsxL3saDrj",
        "colab_type": "text"
      },
      "source": [
        "Một vấn đề khác đó là thừa hưởng kim cương (diamond inheritance). Thừa hưởng kim cương xảy ra khi một lớp con thừa hưởng từ hai lớp riêng biệt nhưng có cùng một lớp cha ở đâu đó trong phân tầng. Thừa hưởng kim cương làm cho phương thức ```__init__``` của các lớp cha chạy nhiều lần, tạo ra hành vi không như mong đợi. Ví dụ, ở đây tôi định nghĩa các lớp con thừa hưởng từ ```MyBaseClass```."
      ]
    },
    {
      "cell_type": "code",
      "metadata": {
        "id": "8BwZ1wJpZ9Ye",
        "colab_type": "code",
        "colab": {}
      },
      "source": [
        "class TimesFive(MyBaseClass):\n",
        "  def __init__(self, value):\n",
        "    MyBaseClass.__init__(self, value)\n",
        "    self.value *= 5\n",
        "\n",
        "class PlusTwo(MyBaseClass):\n",
        "  def __init__(self, value):\n",
        "    MyBaseClass.__init__(self, value)\n",
        "    self.value += 2"
      ],
      "execution_count": 0,
      "outputs": []
    },
    {
      "cell_type": "markdown",
      "metadata": {
        "id": "U3-tPJSTa--_",
        "colab_type": "text"
      },
      "source": [
        "Sau đó tôi định nghĩa một lớp thừa hưởng từ cả hai lớp này, việc này làm cho ```MyBaseClass``` trở thành đỉnh của viên kim cương"
      ]
    },
    {
      "cell_type": "code",
      "metadata": {
        "id": "9gWKBGGTa9jF",
        "colab_type": "code",
        "colab": {}
      },
      "source": [
        "class ThisWay(TimesFive, PlusTwo):\n",
        "  def __init__(self, value):\n",
        "    TimesFive.__init__(self, value)\n",
        "    PlusTwo.__init__(self, value)"
      ],
      "execution_count": 0,
      "outputs": []
    },
    {
      "cell_type": "code",
      "metadata": {
        "id": "N8OVYA7-bUuR",
        "colab_type": "code",
        "outputId": "4bb72bca-7786-4ac2-d313-df6a6243e095",
        "colab": {
          "base_uri": "https://localhost:8080/",
          "height": 34
        }
      },
      "source": [
        "foo = ThisWay(5)\n",
        "print(\"Should be (5 * 5) + 2 = 27 but is\", foo.value)"
      ],
      "execution_count": 0,
      "outputs": [
        {
          "output_type": "stream",
          "text": [
            "Should be (5 * 5) + 2 = 27 but is 7\n"
          ],
          "name": "stdout"
        }
      ]
    },
    {
      "cell_type": "markdown",
      "metadata": {
        "id": "Rij0EkFpbjaR",
        "colab_type": "text"
      },
      "source": [
        "Kết quả nên là 27 bởi vì ```(5*5) + 2 = 27```. Nhưng lời gọi tới phương thức ```__init__``` của ```PlusTwo``` khiến cho ```self.value``` được gán trở lại 5 khi ```MyBaseClass.__init__``` được gọi lần thứ hai. \n",
        "\n",
        "Để giải quyết vấn đề này, Python 2.2 thêm vào hàm có sẵn ```super``` và định nghĩa thứ tự phân giải phương thức (method resolution order (MRO)). MRO chuẩn hoá thứ tự các lớp cha được khởi tạo (ví dụ độ sâu đầu tiên, từ trái sang phải). Nó cũng đảm bảo rằng các lớp cha phổ biến trong các phân tầng viên kim cương chỉ được chạy một lần. \n",
        "\n",
        "Ở đây, tôi tạo một phân tầng lớp hình dạng kim cương, nhưng lần này tôi sử dụng ```super``` (viết theo kiểu Python 2) để khởi tạo lớp cha."
      ]
    },
    {
      "cell_type": "code",
      "metadata": {
        "id": "hW4PcbdVbcLO",
        "colab_type": "code",
        "colab": {}
      },
      "source": [
        "class TimesFiveCorrect(MyBaseClass):\n",
        "  def __init__(self, value):\n",
        "    super(TimesFiveCorrect, self).__init__(value)\n",
        "    self.value *= 5 \n",
        "\n",
        "class PlusTwoCorrect(MyBaseClass):\n",
        "  def __init__(self, value):\n",
        "    super(PlusTwoCorrect, self).__init__(value)\n",
        "    self.value += 2"
      ],
      "execution_count": 0,
      "outputs": []
    },
    {
      "cell_type": "markdown",
      "metadata": {
        "id": "7B533DlJejQT",
        "colab_type": "text"
      },
      "source": [
        "Bây giờ trên điển của viên kim cương, ```MyBaseClass.__init__``` chỉ chạy một lần. Các lớp cha khác được chạy theo thứ tự trong câu lệnh ```class```."
      ]
    },
    {
      "cell_type": "code",
      "metadata": {
        "id": "ffcxekOweh5Q",
        "colab_type": "code",
        "outputId": "cdec4d3b-dbe3-46f0-e0ee-3c7864b1798b",
        "colab": {
          "base_uri": "https://localhost:8080/",
          "height": 34
        }
      },
      "source": [
        "class GoodWay(TimesFiveCorrect, PlusTwoCorrect):\n",
        "  def __init__(self, value):\n",
        "    super(GoodWay, self).__init__(value)\n",
        "\n",
        "foo = GoodWay(5)\n",
        "print(\"Should be 5 * (5 + 2) = 35 and is\", foo.value)\n"
      ],
      "execution_count": 0,
      "outputs": [
        {
          "output_type": "stream",
          "text": [
            "Should be 5 * (5 + 2) = 35 and is 35\n"
          ],
          "name": "stdout"
        }
      ]
    },
    {
      "cell_type": "markdown",
      "metadata": {
        "id": "WE0TQ3-Af6-D",
        "colab_type": "text"
      },
      "source": [
        "Thứ tự tính toán dường như thực hiện theo chiều từ dưới lên. Ta đặt câu hỏi là tại sao ```TimesFiveCorrect.__init__``` không chạy trước, như vậy thì kết quả sẽ ra ```(5 * 5) + 2 = 27``` ?\n",
        "Kết quả là không phải như vậy. Thứ tự này khớp với những gì MRO định nghĩa cho lớp này. Thứ tự MRO có thể thấy sử dụng phương thức ```mro```"
      ]
    },
    {
      "cell_type": "code",
      "metadata": {
        "id": "5dpCDZ1sfPs6",
        "colab_type": "code",
        "outputId": "b62a4902-6773-4e35-af19-02d6fc0cb000",
        "colab": {
          "base_uri": "https://localhost:8080/",
          "height": 102
        }
      },
      "source": [
        "from pprint import pprint \n",
        "pprint(GoodWay.mro())"
      ],
      "execution_count": 0,
      "outputs": [
        {
          "output_type": "stream",
          "text": [
            "[<class '__main__.GoodWay'>,\n",
            " <class '__main__.TimesFiveCorrect'>,\n",
            " <class '__main__.PlusTwoCorrect'>,\n",
            " <class '__main__.MyBaseClass'>,\n",
            " <class 'object'>]\n"
          ],
          "name": "stdout"
        }
      ]
    },
    {
      "cell_type": "markdown",
      "metadata": {
        "id": "HodOcTP8gmy0",
        "colab_type": "text"
      },
      "source": [
        "Khi bạn gọi ```GoodWay(5)```, theo thứ tự nó gọi ```TimesFiveCorrect.__init__```, phương thức này gọi ```PlusTwoCorrect.__init__```, phương thức này lại gọi ```MyBaseClass.__init__```. Mỗi khi nó đạt tới đỉnh của viên kim cương, khi đó tất cả các phương thức khởi tạo thực hiện công việc của mình theo thứ tự ngược lại bắt đầu với việc ```MyBaseClass.__init__``` gán ```value``` cho 5. ````PlusTwoCorrect.__init__``` cộng thêm 2 để làm cho ```value``` bằng 7. ```TimesFiveCorrect.__init__``` nhân nó với 5 làm cho ```value``` bằng 35. \n",
        "\n",
        "Hàm ```super``` thực hiện điều này tốt, nhưng vẫn còn có hai vấn đề có thể thấy trong Python 2:\n",
        "\n",
        "\n",
        "*   \bCú pháp của nó vẫn rườm rà. Bản phải chỉ định lớp hiện tại, đối tượng ```self```, tên phương thức (thường là ```__init__```), và tất cả các tham số. Việc có quá nhiều thứ như vậy có thể gây ra nhầm lần cho các lập trình viên Python mới. \n",
        "*   Bạn phải chỉ định lớp hiện hành bằng tên trong lời gọi tới ```super```. Nếu bạn thay đổi tên của lớp này - đây là một hành động khá phổ biến khi cải tiến một phân tầng của một lớp - bạn cần phải cập nhật lại mọi lời gọi tới ```super```\n",
        "\n"
      ]
    },
    {
      "cell_type": "markdown",
      "metadata": {
        "id": "XHpHMeQRibhZ",
        "colab_type": "text"
      },
      "source": [
        "Trong Python 3, các vấn đề trên được giải quyết, bạn có thể gọi ``super``` mà không cần phải chỉ định các trường như trên. Và bạn nên luôn luôn sử dụng ```super``` bởi vì nó rõ ràng, chính xác, và luôn luôn làm đúng công việc."
      ]
    },
    {
      "cell_type": "code",
      "metadata": {
        "id": "una86mFQggit",
        "colab_type": "code",
        "colab": {}
      },
      "source": [
        "class Explicit(MyBaseClass):\n",
        "  def __init__(self, value):\n",
        "    super(__class__, self).__init__(value * 2)\n",
        "\n",
        "class Implicit(MyBaseClass):\n",
        "  def __init__(self, value):\n",
        "    super().__init__(value * 2)\n",
        "\n",
        "assert Explicit(10).value == Implicit(10).value"
      ],
      "execution_count": 0,
      "outputs": []
    },
    {
      "cell_type": "markdown",
      "metadata": {
        "id": "Szp7LrV1jIne",
        "colab_type": "text"
      },
      "source": [
        "Cách này hoạt động bởi vì Python 3 cho phép bạn tham chiếu tới lớp hiện hành trong các phương thức sử dụng biến ```__class__```. Trong Python 2 thì không được bởi vì ```__class__``` không được định nghĩa. Bạn có thể đoán rằng bạn có thể dùng ```self.__class__``` như là một tham số cho ```super```, nhưng nó không chạy bởi vì cách ```super``` được triển khai trong Python 2. "
      ]
    },
    {
      "cell_type": "markdown",
      "metadata": {
        "id": "5wrePdtNjntV",
        "colab_type": "text"
      },
      "source": [
        "### Những điều cần nhớ\n",
        "\n",
        "\n",
        "*   Thứ tự phân giải phương thức chuẩn của Python (MRO) giải quyết vấn đề về thừa hưởng kim cương và thứ tự khởi tạo các lớp cha. \n",
        "*   Luôn luôn sử dụng hàm có sẵn ```super``` để khởi tạo các lớp cha. \n",
        "\n"
      ]
    },
    {
      "cell_type": "markdown",
      "metadata": {
        "id": "LAURj6Y0XPV8",
        "colab_type": "text"
      },
      "source": [
        "## Sử dụng đa thừa kế chỉ với các lớp đa tiện ích \n",
        "\n",
        "Python là một ngôn ngữ huonwgs đối tượng với các công cụ giúp điều khiển đa thừa hưởng dễ dàng. Tuy nhiên, tốt hơn là tránh đa thừa hưởng. \n",
        "\n",
        "Nếu bạn muốn viết một lớp sử dụng đa thừa hưởng, bạn có thể xem xét sử dụng một lớp trộn ```mix-in```. Một lớp trộn là một lớp nhỏ chỉ định nghĩa một tập hợp các phương thức bổ sung mà một lớp nên cung cấp. Các lớp trộn không định nghĩa các thuộc tính hiện thực riêng của chúng, cũng không yêu cầu gọi phương thức xây dựng ```__init__```. \n",
        "\n",
        "Viết một lớp trộn thật dễ dàng bởi vì Python cho phép lấy ra thông tin về trạng thái hiện hành của bất cứ đối tượng nào dẫu cho kiểu của nó là gì. Việc quan sát các đối tượng một cách động này cho viết bạn viết tính năng chung chỉ một lần trong lớp trộn, mà có thể được áp dụng cho nhiều lớp khác. Các lớp trộn có thể được tổng hợp và sắp xếp để giảm thiểu các mã lặp lại và tối đa hoá việc sử dụng lại code. \n",
        "\n",
        "Ví dụ, bạn muốn chuyển một đối tượng Python từ biểu diễn trong bộ nhớ của nó sang một từ điển, để cho việc tuần tự hoá (serialization). Tại sao không viết tính năng này một cách tổng quát vì thế bạn có thể sử dụng nó với tất cả các lớp của bạn. \n",
        "\n",
        "Ở đây tôi định nghĩa một ví dụ của lớp trộn để hoàn thành công việc này với một lớp công cộng mới được thêm vào cho bất cứ lớp nào thừa hưởng từ nó"
      ]
    },
    {
      "cell_type": "code",
      "metadata": {
        "id": "LEWj_3VxjG09",
        "colab_type": "code",
        "colab": {}
      },
      "source": [
        "class ToDictMixin(object):\n",
        "  def to_dict(self):\n",
        "    return self._traverse_dict(self.__dict__)"
      ],
      "execution_count": 0,
      "outputs": []
    },
    {
      "cell_type": "markdown",
      "metadata": {
        "id": "GJK6Lc8-a1y9",
        "colab_type": "text"
      },
      "source": [
        "Các chi tiết triển khai thật rõ ràng và dựa trên việc truy cập thuộc tính động sử dụng ```hasattr```, phương thức cho phép lấy thông tin kiểu động ```isinstance```, và truy cập vào tử điển của đối tượng ```__dict__```. "
      ]
    },
    {
      "cell_type": "code",
      "metadata": {
        "id": "4r1-n5nWa02z",
        "colab_type": "code",
        "colab": {}
      },
      "source": [
        "def _traverse_dict(self, instance_dict):\n",
        "  output = {}\n",
        "  for key, value in instance_dict.items():\n",
        "    output[key] = self._traverse(key, value)\n",
        "  return output \n",
        "\n",
        "def _traverse(self, key, value):\n",
        "  if isinstance(value, ToDictMixin):\n",
        "    return value.to_dict()\n",
        "  elif isinstance(value, dict):\n",
        "    return self._traverse_dict(value)\n",
        "  elif isinstance(value, list):\n",
        "    return [self._traverse(key, i) for i in value]\n",
        "  elif hasattr(value, '__dict__'):\n",
        "    return self._traverse_dict(value.__dict__)\n",
        "  else:\n",
        "    return value  "
      ],
      "execution_count": 0,
      "outputs": []
    },
    {
      "cell_type": "markdown",
      "metadata": {
        "id": "i4gGGc__cMzC",
        "colab_type": "text"
      },
      "source": [
        "Ở đây tôi định nghĩa một lớp ví dụ sử dụng lớp trộn để tạo ra một biểu diễn từ điển của một cây nhị phân:"
      ]
    },
    {
      "cell_type": "code",
      "metadata": {
        "id": "Oc-X8mCgcL_H",
        "colab_type": "code",
        "colab": {}
      },
      "source": [
        "class BinaryTree(ToDictMixin):\n",
        "  def __init__(self, value, left=None, right=None):\n",
        "    self.value = value \n",
        "    self.left = left \n",
        "    self.right = right "
      ],
      "execution_count": 0,
      "outputs": []
    },
    {
      "cell_type": "markdown",
      "metadata": {
        "id": "N0e9m1A_crX-",
        "colab_type": "text"
      },
      "source": [
        "Chuyển một số lượng lớn các đối tượng Python liên quan thành một từ điển trở nên dễ dàng"
      ]
    },
    {
      "cell_type": "code",
      "metadata": {
        "id": "lM7Rx083cqZB",
        "colab_type": "code",
        "outputId": "abe47f61-dc29-464a-bd54-f5c8a6748227",
        "colab": {
          "base_uri": "https://localhost:8080/",
          "height": 286
        }
      },
      "source": [
        "tree = BinaryTree(10, left=BinaryTree(7, right=BinaryTree(9)), right=BinaryTree(13, left=BinaryTree(11)))\n",
        "print(tree.to_dict())"
      ],
      "execution_count": 0,
      "outputs": [
        {
          "output_type": "error",
          "ename": "AttributeError",
          "evalue": "ignored",
          "traceback": [
            "\u001b[0;31m---------------------------------------------------------------------------\u001b[0m",
            "\u001b[0;31mAttributeError\u001b[0m                            Traceback (most recent call last)",
            "\u001b[0;32m<ipython-input-11-b2ccd3e8caa9>\u001b[0m in \u001b[0;36m<module>\u001b[0;34m()\u001b[0m\n\u001b[1;32m      1\u001b[0m \u001b[0mtree\u001b[0m \u001b[0;34m=\u001b[0m \u001b[0mBinaryTree\u001b[0m\u001b[0;34m(\u001b[0m\u001b[0;36m10\u001b[0m\u001b[0;34m,\u001b[0m \u001b[0mleft\u001b[0m\u001b[0;34m=\u001b[0m\u001b[0mBinaryTree\u001b[0m\u001b[0;34m(\u001b[0m\u001b[0;36m7\u001b[0m\u001b[0;34m,\u001b[0m \u001b[0mright\u001b[0m\u001b[0;34m=\u001b[0m\u001b[0mBinaryTree\u001b[0m\u001b[0;34m(\u001b[0m\u001b[0;36m9\u001b[0m\u001b[0;34m)\u001b[0m\u001b[0;34m)\u001b[0m\u001b[0;34m,\u001b[0m \u001b[0mright\u001b[0m\u001b[0;34m=\u001b[0m\u001b[0mBinaryTree\u001b[0m\u001b[0;34m(\u001b[0m\u001b[0;36m13\u001b[0m\u001b[0;34m,\u001b[0m \u001b[0mleft\u001b[0m\u001b[0;34m=\u001b[0m\u001b[0mBinaryTree\u001b[0m\u001b[0;34m(\u001b[0m\u001b[0;36m11\u001b[0m\u001b[0;34m)\u001b[0m\u001b[0;34m)\u001b[0m\u001b[0;34m)\u001b[0m\u001b[0;34m\u001b[0m\u001b[0;34m\u001b[0m\u001b[0m\n\u001b[0;32m----> 2\u001b[0;31m \u001b[0mprint\u001b[0m\u001b[0;34m(\u001b[0m\u001b[0mtree\u001b[0m\u001b[0;34m.\u001b[0m\u001b[0mto_dict\u001b[0m\u001b[0;34m(\u001b[0m\u001b[0;34m)\u001b[0m\u001b[0;34m)\u001b[0m\u001b[0;34m\u001b[0m\u001b[0;34m\u001b[0m\u001b[0m\n\u001b[0m",
            "\u001b[0;32m<ipython-input-8-837b38cc5b02>\u001b[0m in \u001b[0;36mto_dict\u001b[0;34m(self)\u001b[0m\n\u001b[1;32m      1\u001b[0m \u001b[0;32mclass\u001b[0m \u001b[0mToDictMixin\u001b[0m\u001b[0;34m(\u001b[0m\u001b[0mobject\u001b[0m\u001b[0;34m)\u001b[0m\u001b[0;34m:\u001b[0m\u001b[0;34m\u001b[0m\u001b[0;34m\u001b[0m\u001b[0m\n\u001b[1;32m      2\u001b[0m   \u001b[0;32mdef\u001b[0m \u001b[0mto_dict\u001b[0m\u001b[0;34m(\u001b[0m\u001b[0mself\u001b[0m\u001b[0;34m)\u001b[0m\u001b[0;34m:\u001b[0m\u001b[0;34m\u001b[0m\u001b[0;34m\u001b[0m\u001b[0m\n\u001b[0;32m----> 3\u001b[0;31m     \u001b[0;32mreturn\u001b[0m \u001b[0mself\u001b[0m\u001b[0;34m.\u001b[0m\u001b[0m_traverse_dict\u001b[0m\u001b[0;34m(\u001b[0m\u001b[0mself\u001b[0m\u001b[0;34m.\u001b[0m\u001b[0m__dict__\u001b[0m\u001b[0;34m)\u001b[0m\u001b[0;34m\u001b[0m\u001b[0;34m\u001b[0m\u001b[0m\n\u001b[0m",
            "\u001b[0;31mAttributeError\u001b[0m: 'BinaryTree' object has no attribute '_traverse_dict'"
          ]
        }
      ]
    },
    {
      "cell_type": "markdown",
      "metadata": {
        "id": "TeVvZO-EekFm",
        "colab_type": "text"
      },
      "source": [
        "Với lớp trộn bạn có thể tạo ra các tính năng có thể được gắn vào thêm (pluggable) vì vậy các cư xử có thể được ghi đè khi được yêu cầu. Ví dụ ở đây tôi định nghĩa một lớp con của ```BinaryTree``` giữa một tham chiếu cha của nó. Tham chiếu vòng như vậy có thể làm triển khai mặc định của ```ToDictMixin.to_dict``` lặp vô hạn. "
      ]
    },
    {
      "cell_type": "code",
      "metadata": {
        "id": "zVk4YvbQdV7H",
        "colab_type": "code",
        "colab": {}
      },
      "source": [
        "class BinaryTreeWithParent(BinaryTree):\n",
        "  def __init__(self, value, left=None, right=None, parent=None):\n",
        "    super().__init__(value, left=left, right=right)\n",
        "    self.parent = parent "
      ],
      "execution_count": 0,
      "outputs": []
    },
    {
      "cell_type": "markdown",
      "metadata": {
        "id": "7l7iQmU7fcWR",
        "colab_type": "text"
      },
      "source": [
        "Giải pháp ở đây là ghi đè phương thức ```ToDictMixin._traverse``` trong lớp ```BinaryTreeWithParent``` để chỉ xử lý các giá trị cần thiết, ngăn các vòng tròn lặp lại xảy ra bởi lớp trộn. Ở đây, tôi ghi đè phương thức ```_traverse``` để đi qua lớp cha và chèn giá trị số của nó vào. "
      ]
    },
    {
      "cell_type": "code",
      "metadata": {
        "id": "8mtN6tSJfbZu",
        "colab_type": "code",
        "colab": {}
      },
      "source": [
        "def _traverse(self, key, value):\n",
        "  if (isinstance(value, BinaryTreeWithParent) and key == 'parent'):\n",
        "    return value.value # Ngăn các vòng tròn \n",
        "  else:\n",
        "    return super()._traverse(key, value)"
      ],
      "execution_count": 0,
      "outputs": []
    },
    {
      "cell_type": "markdown",
      "metadata": {
        "id": "EKeUz2llSyMU",
        "colab_type": "text"
      },
      "source": [
        "Gọi ```BinaryTreeWithParent.to_dict``` sẽ hoạt động mà không gặp vấn đề về tham chiếu tròn."
      ]
    },
    {
      "cell_type": "code",
      "metadata": {
        "id": "5ompYmY_Sxcg",
        "colab_type": "code",
        "outputId": "bc6cbdc7-c042-42b0-93d2-55aaf128884f",
        "colab": {
          "base_uri": "https://localhost:8080/",
          "height": 283
        }
      },
      "source": [
        "root = BinaryTreeWithParent(10)\n",
        "root.left = BinaryTreeWithParent(7, parent=root)\n",
        "root.left.right = BinaryTreeWithParent(9, parent=root.left)\n",
        "print(root.to_dict())"
      ],
      "execution_count": 0,
      "outputs": [
        {
          "output_type": "error",
          "ename": "AttributeError",
          "evalue": "ignored",
          "traceback": [
            "\u001b[0;31m---------------------------------------------------------------------------\u001b[0m",
            "\u001b[0;31mAttributeError\u001b[0m                            Traceback (most recent call last)",
            "\u001b[0;32m<ipython-input-14-f5e08166cfa0>\u001b[0m in \u001b[0;36m<module>\u001b[0;34m()\u001b[0m\n\u001b[1;32m      2\u001b[0m \u001b[0mroot\u001b[0m\u001b[0;34m.\u001b[0m\u001b[0mleft\u001b[0m \u001b[0;34m=\u001b[0m \u001b[0mBinaryTreeWithParent\u001b[0m\u001b[0;34m(\u001b[0m\u001b[0;36m7\u001b[0m\u001b[0;34m,\u001b[0m \u001b[0mparent\u001b[0m\u001b[0;34m=\u001b[0m\u001b[0mroot\u001b[0m\u001b[0;34m)\u001b[0m\u001b[0;34m\u001b[0m\u001b[0;34m\u001b[0m\u001b[0m\n\u001b[1;32m      3\u001b[0m \u001b[0mroot\u001b[0m\u001b[0;34m.\u001b[0m\u001b[0mleft\u001b[0m\u001b[0;34m.\u001b[0m\u001b[0mright\u001b[0m \u001b[0;34m=\u001b[0m \u001b[0mBinaryTreeWithParent\u001b[0m\u001b[0;34m(\u001b[0m\u001b[0;36m9\u001b[0m\u001b[0;34m,\u001b[0m \u001b[0mparent\u001b[0m\u001b[0;34m=\u001b[0m\u001b[0mroot\u001b[0m\u001b[0;34m.\u001b[0m\u001b[0mleft\u001b[0m\u001b[0;34m)\u001b[0m\u001b[0;34m\u001b[0m\u001b[0;34m\u001b[0m\u001b[0m\n\u001b[0;32m----> 4\u001b[0;31m \u001b[0mprint\u001b[0m\u001b[0;34m(\u001b[0m\u001b[0mroot\u001b[0m\u001b[0;34m.\u001b[0m\u001b[0mto_dict\u001b[0m\u001b[0;34m(\u001b[0m\u001b[0;34m)\u001b[0m\u001b[0;34m)\u001b[0m\u001b[0;34m\u001b[0m\u001b[0;34m\u001b[0m\u001b[0m\n\u001b[0m",
            "\u001b[0;32m<ipython-input-8-837b38cc5b02>\u001b[0m in \u001b[0;36mto_dict\u001b[0;34m(self)\u001b[0m\n\u001b[1;32m      1\u001b[0m \u001b[0;32mclass\u001b[0m \u001b[0mToDictMixin\u001b[0m\u001b[0;34m(\u001b[0m\u001b[0mobject\u001b[0m\u001b[0;34m)\u001b[0m\u001b[0;34m:\u001b[0m\u001b[0;34m\u001b[0m\u001b[0;34m\u001b[0m\u001b[0m\n\u001b[1;32m      2\u001b[0m   \u001b[0;32mdef\u001b[0m \u001b[0mto_dict\u001b[0m\u001b[0;34m(\u001b[0m\u001b[0mself\u001b[0m\u001b[0;34m)\u001b[0m\u001b[0;34m:\u001b[0m\u001b[0;34m\u001b[0m\u001b[0;34m\u001b[0m\u001b[0m\n\u001b[0;32m----> 3\u001b[0;31m     \u001b[0;32mreturn\u001b[0m \u001b[0mself\u001b[0m\u001b[0;34m.\u001b[0m\u001b[0m_traverse_dict\u001b[0m\u001b[0;34m(\u001b[0m\u001b[0mself\u001b[0m\u001b[0;34m.\u001b[0m\u001b[0m__dict__\u001b[0m\u001b[0;34m)\u001b[0m\u001b[0;34m\u001b[0m\u001b[0;34m\u001b[0m\u001b[0m\n\u001b[0m",
            "\u001b[0;31mAttributeError\u001b[0m: 'BinaryTreeWithParent' object has no attribute '_traverse_dict'"
          ]
        }
      ]
    },
    {
      "cell_type": "markdown",
      "metadata": {
        "id": "3l8VEVvWTKgU",
        "colab_type": "text"
      },
      "source": [
        "Các lớp trộn có thể được kết hợp cùng nhau. Ví dụ bạn muốn một lớp trộn cung cấp sắp xếp tuần tự cho bất cứ lớp nào. Bạn có thể làm điều này bằng cách giả định rằng một lớp cung cấp phương thức ```to_dict``` (phương thức có thể hoặc không thể được cung cấp bởi lớp ```ToDictMixin```)"
      ]
    },
    {
      "cell_type": "code",
      "metadata": {
        "id": "CM8w4x83TFNy",
        "colab_type": "code",
        "colab": {}
      },
      "source": [
        "class JsonMixin(object):\n",
        "  @classmethod\n",
        "  def from_json(cls, data):\n",
        "    kwargs = json.loads(data)\n",
        "    return cls(**kwargs)\n",
        "\n",
        "  def to_json(self):\n",
        "    return json.dums(self.to_dict())"
      ],
      "execution_count": 0,
      "outputs": []
    },
    {
      "cell_type": "markdown",
      "metadata": {
        "id": "eMMOAxEzT9Ep",
        "colab_type": "text"
      },
      "source": [
        "Chú ý cách lớp ```JsonMixin``` định nghĩa các phương thức của đối tượng và các phương thức lớp. Các lớp trộn cho phép bạn thêm vào kiểu hành vi. Trong ví dụ này, các yêu cầu duy nhất của ```JsonMixin``` là lớp này có phương thức ```to_dict``` và phương thức ```__init__``` nhận vào các tham số từ khoá. \n",
        "\n",
        "Lớp trộn này làm cho việc tạo các phân tầng của các lớp tiện ích có thể được tuần tự hoá tới và từ Json với một ít bản mẫu. Ví dụ, ở đây tôi có một phân tầng các lớp dữ liệu biểu diễn các phần của một mô hình trung tâm dữ liệu"
      ]
    },
    {
      "cell_type": "code",
      "metadata": {
        "id": "oYfzpYTxT8aP",
        "colab_type": "code",
        "colab": {}
      },
      "source": [
        "class DatacenterRack(ToDictMixin, JsonMixin):\n",
        "  def __init__(self, switch=None, machines=None):\n",
        "    self.switch = Switch(**switch)\n",
        "    self.machies = [\n",
        "                    Machine(**kwargs) for kwargs in machines\n",
        "    ]\n",
        "\n",
        "class Switch(ToDictMixin, JsonMixin):\n",
        "  #\n",
        "  pass\n",
        "\n",
        "class Machine(ToDictMixin, JsonMixin):\n",
        "  pass"
      ],
      "execution_count": 0,
      "outputs": []
    },
    {
      "cell_type": "markdown",
      "metadata": {
        "id": "H-bkHU5lVXTZ",
        "colab_type": "text"
      },
      "source": [
        "Tuần tự hoá các lớp nà đến và từ JSON thì đơn giản. Ở đây, tôi kiểm tra xem dữ liệu có thể gửi tới và về (roundtrip) thông qua việc tuần tự hoá và nghịch tuần tự hoá (deserializing):"
      ]
    },
    {
      "cell_type": "code",
      "metadata": {
        "id": "_Whi01iqVWUJ",
        "colab_type": "code",
        "outputId": "cb1de921-80e8-45f4-a9ba-1bbafc43e31e",
        "colab": {
          "base_uri": "https://localhost:8080/",
          "height": 375
        }
      },
      "source": [
        "import json\n",
        "serialized = \"\"\"\n",
        "{\"switch\": {\"ports\": 5, \"speed\": 1e9}, \"machines\": [{\"cores\": 8, \"ram\":32e9, \"disk\": 5e12}, \n",
        "{\"cores\": 4, \"ram\": 1629, \"disk\": 1e12},\n",
        "{\"cores\": 2, \"ram\": 4e9, \"disk\": 500e9}\n",
        "]\n",
        "\"\"\"\n",
        "deserialized = DatacenterRack.from_json(serialized)\n",
        "roundtrip = deserialized.to_json()\n",
        "assert json.loads(serialized) == json.loads(roundtrip)"
      ],
      "execution_count": 0,
      "outputs": [
        {
          "output_type": "error",
          "ename": "JSONDecodeError",
          "evalue": "ignored",
          "traceback": [
            "\u001b[0;31m---------------------------------------------------------------------------\u001b[0m",
            "\u001b[0;31mJSONDecodeError\u001b[0m                           Traceback (most recent call last)",
            "\u001b[0;32m<ipython-input-18-fe725ce35050>\u001b[0m in \u001b[0;36m<module>\u001b[0;34m()\u001b[0m\n\u001b[1;32m      6\u001b[0m ]\n\u001b[1;32m      7\u001b[0m \"\"\"\n\u001b[0;32m----> 8\u001b[0;31m \u001b[0mdeserialized\u001b[0m \u001b[0;34m=\u001b[0m \u001b[0mDatacenterRack\u001b[0m\u001b[0;34m.\u001b[0m\u001b[0mfrom_json\u001b[0m\u001b[0;34m(\u001b[0m\u001b[0mserialized\u001b[0m\u001b[0;34m)\u001b[0m\u001b[0;34m\u001b[0m\u001b[0;34m\u001b[0m\u001b[0m\n\u001b[0m\u001b[1;32m      9\u001b[0m \u001b[0mroundtrip\u001b[0m \u001b[0;34m=\u001b[0m \u001b[0mdeserialized\u001b[0m\u001b[0;34m.\u001b[0m\u001b[0mto_json\u001b[0m\u001b[0;34m(\u001b[0m\u001b[0;34m)\u001b[0m\u001b[0;34m\u001b[0m\u001b[0;34m\u001b[0m\u001b[0m\n\u001b[1;32m     10\u001b[0m \u001b[0;32massert\u001b[0m \u001b[0mjson\u001b[0m\u001b[0;34m.\u001b[0m\u001b[0mloads\u001b[0m\u001b[0;34m(\u001b[0m\u001b[0mserialized\u001b[0m\u001b[0;34m)\u001b[0m \u001b[0;34m==\u001b[0m \u001b[0mjson\u001b[0m\u001b[0;34m.\u001b[0m\u001b[0mloads\u001b[0m\u001b[0;34m(\u001b[0m\u001b[0mroundtrip\u001b[0m\u001b[0;34m)\u001b[0m\u001b[0;34m\u001b[0m\u001b[0;34m\u001b[0m\u001b[0m\n",
            "\u001b[0;32m<ipython-input-15-204829a725cc>\u001b[0m in \u001b[0;36mfrom_json\u001b[0;34m(cls, data)\u001b[0m\n\u001b[1;32m      2\u001b[0m   \u001b[0;34m@\u001b[0m\u001b[0mclassmethod\u001b[0m\u001b[0;34m\u001b[0m\u001b[0;34m\u001b[0m\u001b[0m\n\u001b[1;32m      3\u001b[0m   \u001b[0;32mdef\u001b[0m \u001b[0mfrom_json\u001b[0m\u001b[0;34m(\u001b[0m\u001b[0mcls\u001b[0m\u001b[0;34m,\u001b[0m \u001b[0mdata\u001b[0m\u001b[0;34m)\u001b[0m\u001b[0;34m:\u001b[0m\u001b[0;34m\u001b[0m\u001b[0;34m\u001b[0m\u001b[0m\n\u001b[0;32m----> 4\u001b[0;31m     \u001b[0mkwargs\u001b[0m \u001b[0;34m=\u001b[0m \u001b[0mjson\u001b[0m\u001b[0;34m.\u001b[0m\u001b[0mloads\u001b[0m\u001b[0;34m(\u001b[0m\u001b[0mdata\u001b[0m\u001b[0;34m)\u001b[0m\u001b[0;34m\u001b[0m\u001b[0;34m\u001b[0m\u001b[0m\n\u001b[0m\u001b[1;32m      5\u001b[0m     \u001b[0;32mreturn\u001b[0m \u001b[0mcls\u001b[0m\u001b[0;34m(\u001b[0m\u001b[0;34m**\u001b[0m\u001b[0mkwargs\u001b[0m\u001b[0;34m)\u001b[0m\u001b[0;34m\u001b[0m\u001b[0;34m\u001b[0m\u001b[0m\n\u001b[1;32m      6\u001b[0m \u001b[0;34m\u001b[0m\u001b[0m\n",
            "\u001b[0;32m/usr/lib/python3.6/json/__init__.py\u001b[0m in \u001b[0;36mloads\u001b[0;34m(s, encoding, cls, object_hook, parse_float, parse_int, parse_constant, object_pairs_hook, **kw)\u001b[0m\n\u001b[1;32m    352\u001b[0m             \u001b[0mparse_int\u001b[0m \u001b[0;32mis\u001b[0m \u001b[0;32mNone\u001b[0m \u001b[0;32mand\u001b[0m \u001b[0mparse_float\u001b[0m \u001b[0;32mis\u001b[0m \u001b[0;32mNone\u001b[0m \u001b[0;32mand\u001b[0m\u001b[0;34m\u001b[0m\u001b[0;34m\u001b[0m\u001b[0m\n\u001b[1;32m    353\u001b[0m             parse_constant is None and object_pairs_hook is None and not kw):\n\u001b[0;32m--> 354\u001b[0;31m         \u001b[0;32mreturn\u001b[0m \u001b[0m_default_decoder\u001b[0m\u001b[0;34m.\u001b[0m\u001b[0mdecode\u001b[0m\u001b[0;34m(\u001b[0m\u001b[0ms\u001b[0m\u001b[0;34m)\u001b[0m\u001b[0;34m\u001b[0m\u001b[0;34m\u001b[0m\u001b[0m\n\u001b[0m\u001b[1;32m    355\u001b[0m     \u001b[0;32mif\u001b[0m \u001b[0mcls\u001b[0m \u001b[0;32mis\u001b[0m \u001b[0;32mNone\u001b[0m\u001b[0;34m:\u001b[0m\u001b[0;34m\u001b[0m\u001b[0;34m\u001b[0m\u001b[0m\n\u001b[1;32m    356\u001b[0m         \u001b[0mcls\u001b[0m \u001b[0;34m=\u001b[0m \u001b[0mJSONDecoder\u001b[0m\u001b[0;34m\u001b[0m\u001b[0;34m\u001b[0m\u001b[0m\n",
            "\u001b[0;32m/usr/lib/python3.6/json/decoder.py\u001b[0m in \u001b[0;36mdecode\u001b[0;34m(self, s, _w)\u001b[0m\n\u001b[1;32m    337\u001b[0m \u001b[0;34m\u001b[0m\u001b[0m\n\u001b[1;32m    338\u001b[0m         \"\"\"\n\u001b[0;32m--> 339\u001b[0;31m         \u001b[0mobj\u001b[0m\u001b[0;34m,\u001b[0m \u001b[0mend\u001b[0m \u001b[0;34m=\u001b[0m \u001b[0mself\u001b[0m\u001b[0;34m.\u001b[0m\u001b[0mraw_decode\u001b[0m\u001b[0;34m(\u001b[0m\u001b[0ms\u001b[0m\u001b[0;34m,\u001b[0m \u001b[0midx\u001b[0m\u001b[0;34m=\u001b[0m\u001b[0m_w\u001b[0m\u001b[0;34m(\u001b[0m\u001b[0ms\u001b[0m\u001b[0;34m,\u001b[0m \u001b[0;36m0\u001b[0m\u001b[0;34m)\u001b[0m\u001b[0;34m.\u001b[0m\u001b[0mend\u001b[0m\u001b[0;34m(\u001b[0m\u001b[0;34m)\u001b[0m\u001b[0;34m)\u001b[0m\u001b[0;34m\u001b[0m\u001b[0;34m\u001b[0m\u001b[0m\n\u001b[0m\u001b[1;32m    340\u001b[0m         \u001b[0mend\u001b[0m \u001b[0;34m=\u001b[0m \u001b[0m_w\u001b[0m\u001b[0;34m(\u001b[0m\u001b[0ms\u001b[0m\u001b[0;34m,\u001b[0m \u001b[0mend\u001b[0m\u001b[0;34m)\u001b[0m\u001b[0;34m.\u001b[0m\u001b[0mend\u001b[0m\u001b[0;34m(\u001b[0m\u001b[0;34m)\u001b[0m\u001b[0;34m\u001b[0m\u001b[0;34m\u001b[0m\u001b[0m\n\u001b[1;32m    341\u001b[0m         \u001b[0;32mif\u001b[0m \u001b[0mend\u001b[0m \u001b[0;34m!=\u001b[0m \u001b[0mlen\u001b[0m\u001b[0;34m(\u001b[0m\u001b[0ms\u001b[0m\u001b[0;34m)\u001b[0m\u001b[0;34m:\u001b[0m\u001b[0;34m\u001b[0m\u001b[0;34m\u001b[0m\u001b[0m\n",
            "\u001b[0;32m/usr/lib/python3.6/json/decoder.py\u001b[0m in \u001b[0;36mraw_decode\u001b[0;34m(self, s, idx)\u001b[0m\n\u001b[1;32m    353\u001b[0m         \"\"\"\n\u001b[1;32m    354\u001b[0m         \u001b[0;32mtry\u001b[0m\u001b[0;34m:\u001b[0m\u001b[0;34m\u001b[0m\u001b[0;34m\u001b[0m\u001b[0m\n\u001b[0;32m--> 355\u001b[0;31m             \u001b[0mobj\u001b[0m\u001b[0;34m,\u001b[0m \u001b[0mend\u001b[0m \u001b[0;34m=\u001b[0m \u001b[0mself\u001b[0m\u001b[0;34m.\u001b[0m\u001b[0mscan_once\u001b[0m\u001b[0;34m(\u001b[0m\u001b[0ms\u001b[0m\u001b[0;34m,\u001b[0m \u001b[0midx\u001b[0m\u001b[0;34m)\u001b[0m\u001b[0;34m\u001b[0m\u001b[0;34m\u001b[0m\u001b[0m\n\u001b[0m\u001b[1;32m    356\u001b[0m         \u001b[0;32mexcept\u001b[0m \u001b[0mStopIteration\u001b[0m \u001b[0;32mas\u001b[0m \u001b[0merr\u001b[0m\u001b[0;34m:\u001b[0m\u001b[0;34m\u001b[0m\u001b[0;34m\u001b[0m\u001b[0m\n\u001b[1;32m    357\u001b[0m             \u001b[0;32mraise\u001b[0m \u001b[0mJSONDecodeError\u001b[0m\u001b[0;34m(\u001b[0m\u001b[0;34m\"Expecting value\"\u001b[0m\u001b[0;34m,\u001b[0m \u001b[0ms\u001b[0m\u001b[0;34m,\u001b[0m \u001b[0merr\u001b[0m\u001b[0;34m.\u001b[0m\u001b[0mvalue\u001b[0m\u001b[0;34m)\u001b[0m \u001b[0;32mfrom\u001b[0m \u001b[0;32mNone\u001b[0m\u001b[0;34m\u001b[0m\u001b[0;34m\u001b[0m\u001b[0m\n",
            "\u001b[0;31mJSONDecodeError\u001b[0m: Expecting ',' delimiter: line 6 column 1 (char 177)"
          ]
        }
      ]
    },
    {
      "cell_type": "markdown",
      "metadata": {
        "id": "ALtM0LZgW7Z7",
        "colab_type": "text"
      },
      "source": [
        "Khi bạn sử dụng các lớp trộn như vậy, lớp trộn đã thừa hưởng từ ```JsonMixin``` đi lên cao trong phân tầng đối tượng. Lớp kết quả sẽ cư xử theo cùng một cách. "
      ]
    },
    {
      "cell_type": "markdown",
      "metadata": {
        "id": "SHc2qfDZXLKf",
        "colab_type": "text"
      },
      "source": [
        "### Những thứ cần nhớ\n",
        "\n",
        "\n",
        "*   Tránh sử dụng đa thừa kế nếu các lớp trộn có thể làm điều tương tự\n",
        "*   Sử dụng các hành vi có thể được gắn vào thêm tại cấp độ đối tượng để cung cấp tuỳ chỉnh cho từng lớp khi các lớp trộn có thể yêu cầu nó.\n",
        "* Sắp xếp các lớp trộn để tạo ra các tính năng phức tạp từ các hành vi đơn giản. \n",
        "\n"
      ]
    },
    {
      "cell_type": "markdown",
      "metadata": {
        "id": "PYbIew_oZcOd",
        "colab_type": "text"
      },
      "source": [
        "## Nên sử dụng các thuộc tính công cộng thay vì các thuộc tính riêng tư\n",
        "\n",
        "Trong Python có hai kiểu thuộc tính được sử dụng cho thuộc tính của lớp: công cộng (public) và riêng tư (private)"
      ]
    },
    {
      "cell_type": "code",
      "metadata": {
        "id": "gXjeMvJpW3ve",
        "colab_type": "code",
        "colab": {}
      },
      "source": [
        "class MyObject(object):\n",
        "  def __init__(self):\n",
        "    self.public_field = 5 \n",
        "    self.__private_field = 10 \n",
        "\n",
        "  def get_private_field(self):\n",
        "    return self.__private_field"
      ],
      "execution_count": 0,
      "outputs": []
    },
    {
      "cell_type": "markdown",
      "metadata": {
        "id": "UDYjEfoHbefd",
        "colab_type": "text"
      },
      "source": [
        "Các thuộc tính công cộng có thể được truy cập bởi bất cứ ai"
      ]
    },
    {
      "cell_type": "code",
      "metadata": {
        "id": "BH0tyApNb5Kz",
        "colab_type": "code",
        "outputId": "9e5fc8dc-c77f-4b0e-eb5e-c660b7bb7231",
        "colab": {
          "base_uri": "https://localhost:8080/",
          "height": 198
        }
      },
      "source": [
        "foo = MyObject()\n",
        "assert foo.public_field == 5 \n",
        "foo.__private_field"
      ],
      "execution_count": 0,
      "outputs": [
        {
          "output_type": "error",
          "ename": "AttributeError",
          "evalue": "ignored",
          "traceback": [
            "\u001b[0;31m---------------------------------------------------------------------------\u001b[0m",
            "\u001b[0;31mAttributeError\u001b[0m                            Traceback (most recent call last)",
            "\u001b[0;32m<ipython-input-29-b736b35ad611>\u001b[0m in \u001b[0;36m<module>\u001b[0;34m()\u001b[0m\n\u001b[1;32m      1\u001b[0m \u001b[0mfoo\u001b[0m \u001b[0;34m=\u001b[0m \u001b[0mMyObject\u001b[0m\u001b[0;34m(\u001b[0m\u001b[0;34m)\u001b[0m\u001b[0;34m\u001b[0m\u001b[0;34m\u001b[0m\u001b[0m\n\u001b[1;32m      2\u001b[0m \u001b[0;32massert\u001b[0m \u001b[0mfoo\u001b[0m\u001b[0;34m.\u001b[0m\u001b[0mpublic_field\u001b[0m \u001b[0;34m==\u001b[0m \u001b[0;36m5\u001b[0m\u001b[0;34m\u001b[0m\u001b[0;34m\u001b[0m\u001b[0m\n\u001b[0;32m----> 3\u001b[0;31m \u001b[0mfoo\u001b[0m\u001b[0;34m.\u001b[0m\u001b[0m__private_field\u001b[0m\u001b[0;34m\u001b[0m\u001b[0;34m\u001b[0m\u001b[0m\n\u001b[0m",
            "\u001b[0;31mAttributeError\u001b[0m: 'MyObject' object has no attribute '__private_field'"
          ]
        }
      ]
    },
    {
      "cell_type": "markdown",
      "metadata": {
        "id": "J_KdntBAcB6V",
        "colab_type": "text"
      },
      "source": [
        "Các trường riêng tư được chỉ định bởi hai dấu gạch chân phía trước. Chúng có thể truy cập trực tiếp bởi cách phương thức của cùng lớp đó. "
      ]
    },
    {
      "cell_type": "code",
      "metadata": {
        "id": "Vfs8TMrBb-Ka",
        "colab_type": "code",
        "colab": {}
      },
      "source": [
        "assert foo.get_private_field() == 10 "
      ],
      "execution_count": 0,
      "outputs": []
    },
    {
      "cell_type": "markdown",
      "metadata": {
        "id": "S-5Tnp1Tfmzw",
        "colab_type": "text"
      },
      "source": [
        "Truy cập trực tiếp tới các lớp riêng tư từ bên ngoài có thể tạo ra một ngoại lệ."
      ]
    },
    {
      "cell_type": "code",
      "metadata": {
        "id": "DLUaCEyQeFL0",
        "colab_type": "code",
        "outputId": "d8cb2278-c8ad-4b7a-b987-03f252cae21f",
        "colab": {
          "base_uri": "https://localhost:8080/",
          "height": 130
        }
      },
      "source": [
        "\bfoo.__private_field__"
      ],
      "execution_count": 0,
      "outputs": [
        {
          "output_type": "error",
          "ename": "SyntaxError",
          "evalue": "ignored",
          "traceback": [
            "\u001b[0;36m  File \u001b[0;32m\"<ipython-input-28-aeeb06fb8873>\"\u001b[0;36m, line \u001b[0;32m1\u001b[0m\n\u001b[0;31m    \bfoo.__private_field__\u001b[0m\n\u001b[0m    ^\u001b[0m\n\u001b[0;31mSyntaxError\u001b[0m\u001b[0;31m:\u001b[0m invalid syntax\n"
          ]
        }
      ]
    },
    {
      "cell_type": "markdown",
      "metadata": {
        "id": "mVqM-t0LZygT",
        "colab_type": "text"
      },
      "source": [
        "Các phương thức của lớp cũng có thể truy cập tới các thuọc tính riêng tư bởi vì chúng được khai biết bên trong khối ```class```"
      ]
    },
    {
      "cell_type": "code",
      "metadata": {
        "id": "psVz6dKZf-VB",
        "colab_type": "code",
        "colab": {}
      },
      "source": [
        "class MyOtherObject(object):\n",
        "  def __init__(self):\n",
        "    self.__private_field = 71 \n",
        "\n",
        "  @classmethod\n",
        "  def get_private_field_of_instance(cls, instance):\n",
        "    return instance.__private_field"
      ],
      "execution_count": 0,
      "outputs": []
    },
    {
      "cell_type": "code",
      "metadata": {
        "id": "k6bxGdWHpayq",
        "colab_type": "code",
        "colab": {}
      },
      "source": [
        "bar = MyOtherObject()\n",
        "assert MyOtherObject.get_private_field_of_instance(bar) == 71"
      ],
      "execution_count": 0,
      "outputs": []
    },
    {
      "cell_type": "markdown",
      "metadata": {
        "id": "d-ctLcwlpxwo",
        "colab_type": "text"
      },
      "source": [
        "Với các trường riêng tư, một lớp con không thể truy cập vào các trường riêng tư của lớp cha của nó"
      ]
    },
    {
      "cell_type": "code",
      "metadata": {
        "id": "Sn10XGgrpqho",
        "colab_type": "code",
        "colab": {}
      },
      "source": [
        "class MyParentObject(object):\n",
        "  def __init__(self):\n",
        "    self.__private_field = 71"
      ],
      "execution_count": 0,
      "outputs": []
    },
    {
      "cell_type": "code",
      "metadata": {
        "id": "-Ad3sYnYp9wt",
        "colab_type": "code",
        "colab": {}
      },
      "source": [
        "class MyChildObject(MyParentObject):\n",
        "  def get_private_field(self):\n",
        "    return self.__private_field"
      ],
      "execution_count": 0,
      "outputs": []
    },
    {
      "cell_type": "code",
      "metadata": {
        "id": "tSn7JeacqE_X",
        "colab_type": "code",
        "outputId": "299a9bce-bcf4-40d3-80af-72f546bc5efc",
        "colab": {
          "base_uri": "https://localhost:8080/",
          "height": 266
        }
      },
      "source": [
        "baz = MyChildObject()\n",
        "baz.get_private_field()"
      ],
      "execution_count": 0,
      "outputs": [
        {
          "output_type": "error",
          "ename": "AttributeError",
          "evalue": "ignored",
          "traceback": [
            "\u001b[0;31m---------------------------------------------------------------------------\u001b[0m",
            "\u001b[0;31mAttributeError\u001b[0m                            Traceback (most recent call last)",
            "\u001b[0;32m<ipython-input-3-47478e2fb9a7>\u001b[0m in \u001b[0;36m<module>\u001b[0;34m()\u001b[0m\n\u001b[1;32m      1\u001b[0m \u001b[0mbaz\u001b[0m \u001b[0;34m=\u001b[0m \u001b[0mMyChildObject\u001b[0m\u001b[0;34m(\u001b[0m\u001b[0;34m)\u001b[0m\u001b[0;34m\u001b[0m\u001b[0;34m\u001b[0m\u001b[0m\n\u001b[0;32m----> 2\u001b[0;31m \u001b[0mbaz\u001b[0m\u001b[0;34m.\u001b[0m\u001b[0mget_private_field\u001b[0m\u001b[0;34m(\u001b[0m\u001b[0;34m)\u001b[0m\u001b[0;34m\u001b[0m\u001b[0;34m\u001b[0m\u001b[0m\n\u001b[0m",
            "\u001b[0;32m<ipython-input-2-fddec1f311d1>\u001b[0m in \u001b[0;36mget_private_field\u001b[0;34m(self)\u001b[0m\n\u001b[1;32m      1\u001b[0m \u001b[0;32mclass\u001b[0m \u001b[0mMyChildObject\u001b[0m\u001b[0;34m(\u001b[0m\u001b[0mMyParentObject\u001b[0m\u001b[0;34m)\u001b[0m\u001b[0;34m:\u001b[0m\u001b[0;34m\u001b[0m\u001b[0;34m\u001b[0m\u001b[0m\n\u001b[1;32m      2\u001b[0m   \u001b[0;32mdef\u001b[0m \u001b[0mget_private_field\u001b[0m\u001b[0;34m(\u001b[0m\u001b[0mself\u001b[0m\u001b[0;34m)\u001b[0m\u001b[0;34m:\u001b[0m\u001b[0;34m\u001b[0m\u001b[0;34m\u001b[0m\u001b[0m\n\u001b[0;32m----> 3\u001b[0;31m     \u001b[0;32mreturn\u001b[0m \u001b[0mself\u001b[0m\u001b[0;34m.\u001b[0m\u001b[0m__private_field\u001b[0m\u001b[0;34m\u001b[0m\u001b[0;34m\u001b[0m\u001b[0m\n\u001b[0m",
            "\u001b[0;31mAttributeError\u001b[0m: 'MyChildObject' object has no attribute '_MyChildObject__private_field'"
          ]
        }
      ]
    },
    {
      "cell_type": "markdown",
      "metadata": {
        "id": "kIt2FqXnqTCP",
        "colab_type": "text"
      },
      "source": [
        "Thuộc tính riêng tư được triển khai với một biểu diễn đơn giản của tên thuộc tính. Khi Python compiler nhìn thấy một truy cập thuộc tính trong các phương thức như ```MyChildObject.get_private_field```, nó dịch ```___private_field``` sang truy cập ```_MyChildObject__private_field```. Trong ví dụ này, ```__private_field``` chỉ được định nghĩa trong ```MyParentObject.__init__```, nghĩa là các tên thực của thuộc tính là ```_MyParentObject__private_field```. Truy cập thuộc tính riêng tư của lớp cha từ lớp con thất bại là bởi vì tên thuộc tính được chuyển đổi không khớp. \n",
        "\n",
        "Biết được cơ chế này, bạn có thể dễ dàng truy cập các thuộc tính riêng tư của bất cứ lớp nào từ một lớp con hoặc từ bên ngoài, mà không cần phải yêu cầu quyền hạn. "
      ]
    },
    {
      "cell_type": "code",
      "metadata": {
        "id": "_vUguEUbqOOL",
        "colab_type": "code",
        "colab": {}
      },
      "source": [
        "assert baz._MyParentObject__private_field == 71"
      ],
      "execution_count": 0,
      "outputs": []
    },
    {
      "cell_type": "markdown",
      "metadata": {
        "id": "J3FLeb7jmDNy",
        "colab_type": "text"
      },
      "source": [
        "Nếu bạn nhìn vào từ điển thuộc tính của đối tượng bạn sẽ thấy các thuộc tính riêng tư thực sự với các tên như là chúng xuất hiện sau khi chuyển đổi."
      ]
    },
    {
      "cell_type": "code",
      "metadata": {
        "id": "roy3V7N0l7Cd",
        "colab_type": "code",
        "outputId": "bcfd4afa-a0df-41d4-ffb7-81bfb3d5e949",
        "colab": {
          "base_uri": "https://localhost:8080/",
          "height": 34
        }
      },
      "source": [
        "print(baz.__dict__)"
      ],
      "execution_count": 0,
      "outputs": [
        {
          "output_type": "stream",
          "text": [
            "{'_MyParentObject__private_field': 71}\n"
          ],
          "name": "stdout"
        }
      ]
    },
    {
      "cell_type": "code",
      "metadata": {
        "id": "bRTuvxBkmV9k",
        "colab_type": "code",
        "colab": {}
      },
      "source": [
        "class MyFirstChildObject(MyParentObject):\n",
        "  def __init__(self):\n",
        "    self.name = \"Henry\"\n",
        "  def get_private_field(self):\n",
        "    return self.__private_field"
      ],
      "execution_count": 0,
      "outputs": []
    },
    {
      "cell_type": "code",
      "metadata": {
        "id": "xl7I57Momjy0",
        "colab_type": "code",
        "outputId": "89e2558f-a770-4dec-8489-e72ca74c370f",
        "colab": {
          "base_uri": "https://localhost:8080/",
          "height": 34
        }
      },
      "source": [
        "MyFirstChildObject().__dict__"
      ],
      "execution_count": 0,
      "outputs": [
        {
          "output_type": "execute_result",
          "data": {
            "text/plain": [
              "{'name': 'Henry'}"
            ]
          },
          "metadata": {
            "tags": []
          },
          "execution_count": 9
        }
      ]
    },
    {
      "cell_type": "code",
      "metadata": {
        "id": "LC57RFL_mnjK",
        "colab_type": "code",
        "outputId": "b6545ea1-9823-42a5-8c72-c0aa5e386676",
        "colab": {
          "base_uri": "https://localhost:8080/",
          "height": 34
        }
      },
      "source": [
        "baz = MyFirstChildObject()\n",
        "baz.__dict__"
      ],
      "execution_count": 0,
      "outputs": [
        {
          "output_type": "execute_result",
          "data": {
            "text/plain": [
              "{'name': 'Henry'}"
            ]
          },
          "metadata": {
            "tags": []
          },
          "execution_count": 10
        }
      ]
    },
    {
      "cell_type": "markdown",
      "metadata": {
        "id": "wc4i1ueRnHcz",
        "colab_type": "text"
      },
      "source": [
        "Tại sao cú pháp cho các thuộc tính riêng tư như này lại không thực sự được áp đặt một cách dễ nhìn? Câu trả lời đơn giản nhất đó là câu khẩu hiệu của Python: \"Chúng ta đang cho phép người lớn ở đây\" (We are all consenting adults here). Lập trình viên Python tin rằng lợi ích của việc mở tốt hơn nhiều so với những giới hạn của việc đóng. \n",
        "\n",
        "Ngoài ra, có được khả năng móc các thuộc tính ngôn ngữ như truy cập thuộc tính cho phép bạn tìm hiểu các chi tiết bên trong của các đối tượng bất cứ khi nào bạn muốn. Nếu bạn có thể làm như vậy thì câu hỏi là việc ngăn các truy cập thuộc tính riêng tư đem lại giá trị gì. \n",
        "\n",
        "Để làm giảm thiểu các thương tổn từ việc truy cập các chi tiết bên trong một cách lặng lẽ, các lập trình viên Python tuân theo một chuẩn được định nghĩa trong PEP 8. Các trường có một dấu gạch chân ở đầu (giống như ```_protected_field```) được bảo vệ (protected), nghĩa là các người dùng bên ngoài của lớp này nên thực hiện nó thận trọng. \n",
        "\n",
        "Tuy nhiên nhiều lập trình viên mới sử dụng các trường riêng tư để ám chỉ một API nội tại, không nên được truy cập bởi các lớp con hoặc bên ngoài."
      ]
    },
    {
      "cell_type": "code",
      "metadata": {
        "id": "OC6a70qfmstl",
        "colab_type": "code",
        "colab": {}
      },
      "source": [
        "class MyClass(object):\n",
        "  def __init__(self, value):\n",
        "    self.__value = value \n",
        "\n",
        "  def get_value(self):\n",
        "    return str(self.__value)\n",
        "\n",
        "foo = MyClass(5)\n",
        "assert foo.get_value() == '5'"
      ],
      "execution_count": 0,
      "outputs": []
    },
    {
      "cell_type": "markdown",
      "metadata": {
        "id": "oDztoYAfpnEd",
        "colab_type": "text"
      },
      "source": [
        "Đây là một cách tiếp cận sai. Chắc chắn là một ai đó, bao gồm cả bạn, sẽ muốn tạo ra các lớp con để thêm vào các tính năng mới hay giải quyết các vấn đề tồn đọng trong các phương thức hiện hành (ví dụ như cách ```MyClass.get_value``` luôn luôn trả về một chuỗi). Thông qua việc chọn các thuộc tính riêng tư, bạn chỉ đang tạo ra các lớp con ghi đè lên lớp cha và các phần mở rộng cồng kềnh và dễ vỡ. Các lớp con tiềm năng của bạn sẽ vẫn truy cập tới các trường riêng tư khi chúng cần phải làm như vậy. "
      ]
    },
    {
      "cell_type": "code",
      "metadata": {
        "id": "EPvx-Q30phIw",
        "colab_type": "code",
        "colab": {}
      },
      "source": [
        "class MyIntegerSubclass(MyClass):\n",
        "  def get_value(self):\n",
        "    return int(self._MyClass__value)\n",
        "\n"
      ],
      "execution_count": 0,
      "outputs": []
    },
    {
      "cell_type": "code",
      "metadata": {
        "id": "mSMpTTDqrhBe",
        "colab_type": "code",
        "colab": {}
      },
      "source": [
        "foo = MyIntegerSubclass(5)\n",
        "assert foo.get_value() == 5"
      ],
      "execution_count": 0,
      "outputs": []
    },
    {
      "cell_type": "markdown",
      "metadata": {
        "id": "0vyNCnTpHIpJ",
        "colab_type": "text"
      },
      "source": [
        "Nhưng nếu lớp dưới phân cấp thay đổi, các lớp này sẽ phá vỡ bởi vì các tham chiếu riêng tư không còn hợp lệ nữa. Ở đây lớp cha gần nhất của ```MyIntegerSubclass```, ```MyClass```, có một lớp cha khác được thêm vào gọi là ```MyBaseClass``` "
      ]
    },
    {
      "cell_type": "code",
      "metadata": {
        "id": "OlQpoM2krk7j",
        "colab_type": "code",
        "colab": {}
      },
      "source": [
        "class MyBaseClass(object):\n",
        "  def __init__(self, value):\n",
        "    self.__value = value \n",
        "\n",
        "class MyClass(MyBaseClass):\n",
        "  # ...\n",
        "\n",
        "class MyIntegerSubclass(MyClass):\n",
        "  def get_value(self):\n",
        "    return int(self._MyClass__value)"
      ],
      "execution_count": 0,
      "outputs": []
    },
    {
      "cell_type": "markdown",
      "metadata": {
        "id": "IAU69FSKKDYj",
        "colab_type": "text"
      },
      "source": [
        "Thuộc tính ```__value``` được gán trong lớp cha ```MyBaseClass```, không phải lớp cha ```MyClass```. \n",
        "Điều này làm cho tham chiếu thuộc tính riêng tư ```self._MyClass__value``` phá vỡ ```MyIntegerSubclass```. "
      ]
    },
    {
      "cell_type": "code",
      "metadata": {
        "id": "iswrkupSKCsV",
        "colab_type": "code",
        "colab": {}
      },
      "source": [
        "foo = MyIntegerSubclass(5)\n",
        "foo.get_value()"
      ],
      "execution_count": 0,
      "outputs": []
    },
    {
      "cell_type": "markdown",
      "metadata": {
        "id": "weZ4rfy4Kgbm",
        "colab_type": "text"
      },
      "source": [
        "Nói chung, tốt hơn là nếu có lỗi thì hãy là lỗi ở các lớp con được cho phép sử dụng các thuộc tính được bảo vệ. Ghi chú mỗi trường được bảo về và giải thích các APIs nội bộ nào có sẵn và các APIs nào nên được được để một mình. Đây là những lời khuyên cho các lập trình viên khác và cũng như là hướng dẫn cho chính bạn để sau này mở rộng code của bạn. "
      ]
    },
    {
      "cell_type": "code",
      "metadata": {
        "id": "12b0n-0cKdgk",
        "colab_type": "code",
        "colab": {}
      },
      "source": [
        "class MyClass(object):\n",
        "  def __init__(self, value):\n",
        "    #Lưu giá trị được cung cấp bởi người dùng cho đối tượng.\n",
        "    # Nó nên là một chuỗi khi được gán.\n",
        "    # Đối tượng nên được xử lý như là immutable\n",
        "    self._value = value\n",
        " "
      ],
      "execution_count": 0,
      "outputs": []
    },
    {
      "cell_type": "markdown",
      "metadata": {
        "id": "QbCHqcvpl6x3",
        "colab_type": "text"
      },
      "source": [
        "Bạn chỉ xem xét sử dụng các thuộc tính riêng tư khi bạn lo lắng về việc xung đột tên với các lớp con. Vấn đề này xảy ra khi một lớp con vô tình định nghĩa một thuộc tính đã được định nghĩa ở lớp cha"
      ]
    },
    {
      "cell_type": "code",
      "metadata": {
        "id": "hLuOnaE6mSnt",
        "colab_type": "code",
        "colab": {}
      },
      "source": [
        "class ApiClass(object):\n",
        "  def __init__(self):\n",
        "    self._value = 5 \n",
        "  \n",
        "  def get(self):\n",
        "    return self._value \n",
        "\n"
      ],
      "execution_count": 0,
      "outputs": []
    },
    {
      "cell_type": "code",
      "metadata": {
        "id": "9DTjyJSHmaKm",
        "colab_type": "code",
        "colab": {}
      },
      "source": [
        "class Child(ApiClass):\n",
        "  def __init__(self):\n",
        "    super().__init__()\n",
        "    self._value = 'hello' # Xung đột tên"
      ],
      "execution_count": 0,
      "outputs": []
    },
    {
      "cell_type": "code",
      "metadata": {
        "id": "ORqQq71Kmgs9",
        "colab_type": "code",
        "colab": {
          "base_uri": "https://localhost:8080/",
          "height": 34
        },
        "outputId": "8dbdfef6-12a8-405e-cc80-cf6d39e45651"
      },
      "source": [
        "a = Child()\n",
        "print(a.get(), 'and', a._value, 'should be different')"
      ],
      "execution_count": 4,
      "outputs": [
        {
          "output_type": "stream",
          "text": [
            "hello and hello should be different\n"
          ],
          "name": "stdout"
        }
      ]
    },
    {
      "cell_type": "markdown",
      "metadata": {
        "id": "rsNMUVTDm70b",
        "colab_type": "text"
      },
      "source": [
        "Đây là một vấn đề chính với các lớp là một phần của một API công cộng, các lớp con vượt ra ngoài tầm kiểm soát, vì thế bạn không thể cấu trúc lại code để giải quyết vấn đề. "
      ]
    },
    {
      "cell_type": "markdown",
      "metadata": {
        "id": "iXR7s6W9nUlc",
        "colab_type": "text"
      },
      "source": [
        "Conflict như vậy thường xảy ra với các tên thuộc tính phổ biến (ví dụ như ```value```). Để giảm rủi ro của vấn đề này, bạn có thể sử dụng một thuộc tính riêng tư ở lớp cha để đảm bảo rằng không có tên thuộc tính nào chồng lấn với các lớp con."
      ]
    },
    {
      "cell_type": "code",
      "metadata": {
        "id": "h8zzYzzcmu6b",
        "colab_type": "code",
        "colab": {}
      },
      "source": [
        "class ApiClass(object):\n",
        "  def __init__(self):\n",
        "    self.__value = 5\n",
        "\n",
        "  def get(self):\n",
        "    return self.__value "
      ],
      "execution_count": 0,
      "outputs": []
    },
    {
      "cell_type": "code",
      "metadata": {
        "id": "98720YzloAAc",
        "colab_type": "code",
        "colab": {}
      },
      "source": [
        "class Child(ApiClass):\n",
        "  def __init__(self):\n",
        "    super().__init__()\n",
        "    self._value = 'hello' # OK!"
      ],
      "execution_count": 0,
      "outputs": []
    },
    {
      "cell_type": "code",
      "metadata": {
        "id": "BSp8WtyDoH4J",
        "colab_type": "code",
        "colab": {
          "base_uri": "https://localhost:8080/",
          "height": 34
        },
        "outputId": "b2b0267d-77f8-48e2-d117-cdfe4e7154e7"
      },
      "source": [
        "a = Child()\n",
        "print(a.get(), 'and', a._value, 'are different')"
      ],
      "execution_count": 7,
      "outputs": [
        {
          "output_type": "stream",
          "text": [
            "5 and hello are different\n"
          ],
          "name": "stdout"
        }
      ]
    },
    {
      "cell_type": "markdown",
      "metadata": {
        "id": "yOjTM3jyoPWs",
        "colab_type": "text"
      },
      "source": [
        "### Những điều cần nhớ\n",
        "\n",
        "\n",
        "*   Các thuộc tính riêng tư không được thi hành một cách cẩn thận bởi Python compiler.\n",
        "*   Có kế hoạch từ lúc đầu cho phép các lớp con làm nhiều thứ hơn với các APIs nội tại và các thuộc tính thay vì khoá chính một cách mặc định\n",
        "* Sử dụng tài liệu của các trường được bảo vệ để hướng dẫn các lớp con thay vì cố gắng tạo ra các điều khiển truy nhập tới các thuộc tính riêng tư.\n",
        "* Chỉ xem xét sử dụng các thuộc tính riêng tư để tránh việc xung đột tên với các lớp con, nơi bạn không có quyền điều khiển.\n",
        "\n"
      ]
    },
    {
      "cell_type": "code",
      "metadata": {
        "id": "VFOllADmoNzS",
        "colab_type": "code",
        "colab": {}
      },
      "source": [
        ""
      ],
      "execution_count": 0,
      "outputs": []
    }
  ]
}