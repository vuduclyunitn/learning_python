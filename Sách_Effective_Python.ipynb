{
  "nbformat": 4,
  "nbformat_minor": 0,
  "metadata": {
    "colab": {
      "name": "Sách Effective Python.ipynb",
      "provenance": [],
      "include_colab_link": true
    },
    "kernelspec": {
      "name": "python3",
      "display_name": "Python 3"
    }
  },
  "cells": [
    {
      "cell_type": "markdown",
      "metadata": {
        "id": "view-in-github",
        "colab_type": "text"
      },
      "source": [
        "<a href=\"https://colab.research.google.com/github/vuduclyunitn/learning_python/blob/master/S%C3%A1ch_Effective_Python.ipynb\" target=\"_parent\"><img src=\"https://colab.research.google.com/assets/colab-badge.svg\" alt=\"Open In Colab\"/></a>"
      ]
    },
    {
      "cell_type": "code",
      "metadata": {
        "id": "0ub1wph_cYET",
        "colab_type": "code",
        "colab": {}
      },
      "source": [
        ""
      ],
      "execution_count": 0,
      "outputs": []
    },
    {
      "cell_type": "markdown",
      "metadata": {
        "id": "4gqVpYe6gVkh",
        "colab_type": "text"
      },
      "source": [
        "# Dịch từ sách Effective Python 59 specific ways to write better Python. Tác giả: Brett Slatkin"
      ]
    },
    {
      "cell_type": "markdown",
      "metadata": {
        "id": "us9tFZ-PcclL",
        "colab_type": "text"
      },
      "source": [
        "## Nên sử dụng ```enumerate``` thay vì ```range```\n",
        "\n",
        "Hàm có sẵn ```range``` hữu dụng cho các vòng lặp qua một tập hợp các số **nguyên**"
      ]
    },
    {
      "cell_type": "code",
      "metadata": {
        "id": "sq9qQq0AcxGq",
        "colab_type": "code",
        "colab": {
          "base_uri": "https://localhost:8080/",
          "height": 731
        },
        "outputId": "62d398eb-4af1-4f38-afea-169ab2c2b406"
      },
      "source": [
        "from random import randint\n",
        "random_bits = 0\n",
        "for i in range(64):\n",
        "  if randint(0, 1):\n",
        "    random_bits |= 1 << i\n",
        "    print(random_bits)"
      ],
      "execution_count": 4,
      "outputs": [
        {
          "output_type": "stream",
          "text": [
            "2\n",
            "6\n",
            "14\n",
            "30\n",
            "286\n",
            "798\n",
            "1822\n",
            "3870\n",
            "36638\n",
            "167710\n",
            "429854\n",
            "954142\n",
            "2002718\n",
            "4099870\n",
            "8294174\n",
            "25071390\n",
            "58625822\n",
            "192843550\n",
            "461279006\n",
            "998149918\n",
            "3145633566\n",
            "7440600862\n",
            "16030535454\n",
            "33210404638\n",
            "170649358110\n",
            "445527265054\n",
            "995283078942\n",
            "3194306334494\n",
            "11990399356702\n",
            "29582585401118\n",
            "64766957489950\n",
            "135135701667614\n",
            "416610678378270\n",
            "979560631799582\n",
            "2105460538642206\n",
            "11112659793383198\n",
            "29127058302865182\n",
            "317357434454576926\n",
            "1470278939061423902\n",
            "3776121948275117854\n",
            "8387807966702505758\n",
            "17611180003557281566\n"
          ],
          "name": "stdout"
        }
      ]
    },
    {
      "cell_type": "markdown",
      "metadata": {
        "id": "KktMUHjqeMAN",
        "colab_type": "text"
      },
      "source": [
        ""
      ]
    },
    {
      "cell_type": "markdown",
      "metadata": {
        "id": "dKCNXxu0c7jh",
        "colab_type": "text"
      },
      "source": [
        "Khi bạn cần lặp qua một cấu trúc dữ liệu như là danh sách của các chuỗi văn bản, bạn có thể lặp trực tiếp qua danh sách này."
      ]
    },
    {
      "cell_type": "code",
      "metadata": {
        "id": "1h8MRzUlc6T8",
        "colab_type": "code",
        "colab": {
          "base_uri": "https://localhost:8080/",
          "height": 85
        },
        "outputId": "cd9215f4-869c-46a4-ec3e-8b67892d60f7"
      },
      "source": [
        "flavor_list = [\"vanilla\", \"chocolate\", \"pecan\", \"strawberry\"]\n",
        "for flavor in flavor_list:\n",
        "  print(\"%s is delicious\" % flavor)"
      ],
      "execution_count": 5,
      "outputs": [
        {
          "output_type": "stream",
          "text": [
            "vanilla is delicious\n",
            "chocolate is delicious\n",
            "pecan is delicious\n",
            "strawberry is delicious\n"
          ],
          "name": "stdout"
        }
      ]
    },
    {
      "cell_type": "markdown",
      "metadata": {
        "id": "9ZnFYahGdfMT",
        "colab_type": "text"
      },
      "source": [
        "Thông thường, bạn muốn lặp qua một danh sách và bạn muốn biết được chỉ số (index) của phần tử hiện thời trong danh sách. Ví dụ, bạn muốn in ra xếp hạng của các món kem yêu thích của mình. Có một cách để làm điều này là sử dụng ```range```."
      ]
    },
    {
      "cell_type": "code",
      "metadata": {
        "id": "GsE7FvJcdd0p",
        "colab_type": "code",
        "colab": {
          "base_uri": "https://localhost:8080/",
          "height": 85
        },
        "outputId": "9ab06f3b-3662-4ca3-dc72-0b34743dddcc"
      },
      "source": [
        "for i in range(len(flavor_list)):\n",
        "  flavor = flavor_list[i]\n",
        "  print(\"%d: %s\" % (i+1, flavor))"
      ],
      "execution_count": 7,
      "outputs": [
        {
          "output_type": "stream",
          "text": [
            "1: vanilla\n",
            "2: chocolate\n",
            "3: pecan\n",
            "4: strawberry\n"
          ],
          "name": "stdout"
        }
      ]
    },
    {
      "cell_type": "markdown",
      "metadata": {
        "id": "2WjoV16oeM-0",
        "colab_type": "text"
      },
      "source": [
        "Đoạn mã trên nhìn không được gọn cho lắm, so với các vòng lặp được thực hiện trên ```flavor_list``` hay dùng ```range```. Bạn phải lấy ra kích thước của danh sách. Bạn phải dùng chỉ số để lấy ra phần tử. Điều này làm cho đoạn code khó đọc.\n"
      ]
    },
    {
      "cell_type": "markdown",
      "metadata": {
        "id": "WL7idFFGelan",
        "colab_type": "text"
      },
      "source": [
        "Python cung cấp một hàm có sẵn ```enumerate``` để giải quyết vấn đề này. ```enumerate``` bao bất cứ iterator nào với một generator. Generator này tạo ra các cặp chỉ số và giá trị từ iterator. Đoạn mã dưới đây nhìn sáng sủa hơn nhiều"
      ]
    },
    {
      "cell_type": "code",
      "metadata": {
        "id": "Eh3yIkeCeDsR",
        "colab_type": "code",
        "colab": {
          "base_uri": "https://localhost:8080/",
          "height": 85
        },
        "outputId": "74fd8878-b2e9-45b4-e1c8-1fd65d3ad282"
      },
      "source": [
        "for i, flavor in enumerate(flavor_list):\n",
        "  print(\"%d: %s\" % (i + 1, flavor))"
      ],
      "execution_count": 8,
      "outputs": [
        {
          "output_type": "stream",
          "text": [
            "1: vanilla\n",
            "2: chocolate\n",
            "3: pecan\n",
            "4: strawberry\n"
          ],
          "name": "stdout"
        }
      ]
    },
    {
      "cell_type": "markdown",
      "metadata": {
        "id": "KHQ-zoYIfJXP",
        "colab_type": "text"
      },
      "source": [
        "Bạn còn có thể làm cho đoạn code trên gọn hơn nữa khi chỉ định cho ```enumerate``` bắt đầu từ một giá trị nào đó (1 trong trường hợp dưới đây)"
      ]
    },
    {
      "cell_type": "code",
      "metadata": {
        "id": "Uf92ISRmfFW_",
        "colab_type": "code",
        "colab": {
          "base_uri": "https://localhost:8080/",
          "height": 85
        },
        "outputId": "8507980c-e86d-4ec2-aad8-f2b9e101a6c7"
      },
      "source": [
        "for i, flavor in enumerate(flavor_list, 1):\n",
        "  print(\"%d: %s\" % (i, flavor))"
      ],
      "execution_count": 11,
      "outputs": [
        {
          "output_type": "stream",
          "text": [
            "1: vanilla\n",
            "2: chocolate\n",
            "3: pecan\n",
            "4: strawberry\n"
          ],
          "name": "stdout"
        }
      ]
    },
    {
      "cell_type": "markdown",
      "metadata": {
        "id": "hBDjOci9fpGg",
        "colab_type": "text"
      },
      "source": [
        "### Nhứng điều cần nhớ\n",
        "\n",
        "\n",
        "*   \b```enumerate``` cung cấp một cú pháp tinh gọn giúp lặp qua một iterator và lấy ra chỉ số của mỗi phần tử tương ứng.\n",
        "*   Nên sử dụng ```enumerate``` thay vì lặp sử dụng ```range``` và dùng chỉ số để lấy phần tử.\n",
        "* Bạn có thể cung cấp một tham số thứ 2 chỉ định số bắt đầu được đếm cho chỉ số (mặc định là 0)\n",
        "\n"
      ]
    },
    {
      "cell_type": "code",
      "metadata": {
        "id": "3XsHdMJMfmSD",
        "colab_type": "code",
        "colab": {}
      },
      "source": [
        ""
      ],
      "execution_count": 0,
      "outputs": []
    }
  ]
}