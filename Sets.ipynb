{
  "nbformat": 4,
  "nbformat_minor": 0,
  "metadata": {
    "colab": {
      "name": "Sets.ipynb",
      "version": "0.3.2",
      "provenance": [],
      "include_colab_link": true
    },
    "kernelspec": {
      "name": "python3",
      "display_name": "Python 3"
    }
  },
  "cells": [
    {
      "cell_type": "markdown",
      "metadata": {
        "id": "view-in-github",
        "colab_type": "text"
      },
      "source": [
        "<a href=\"https://colab.research.google.com/github/vuduclyunitn/learning_python/blob/master/Sets.ipynb\" target=\"_parent\"><img src=\"https://colab.research.google.com/assets/colab-badge.svg\" alt=\"Open In Colab\"/></a>"
      ]
    },
    {
      "cell_type": "code",
      "metadata": {
        "id": "1OQqMI-MT4cj",
        "colab_type": "code",
        "colab": {}
      },
      "source": [
        "from sympy import FiniteSet"
      ],
      "execution_count": 0,
      "outputs": []
    },
    {
      "cell_type": "code",
      "metadata": {
        "id": "2BHYTkLfT_lO",
        "colab_type": "code",
        "colab": {}
      },
      "source": [
        "s = FiniteSet(2, 4, 6)"
      ],
      "execution_count": 0,
      "outputs": []
    },
    {
      "cell_type": "code",
      "metadata": {
        "id": "hFTWfzyMUDJE",
        "colab_type": "code",
        "colab": {
          "base_uri": "https://localhost:8080/",
          "height": 34
        },
        "outputId": "272d6519-bff8-4650-c981-e7c1e972f7b7"
      },
      "source": [
        "s"
      ],
      "execution_count": 3,
      "outputs": [
        {
          "output_type": "execute_result",
          "data": {
            "text/plain": [
              "{2, 4, 6}"
            ]
          },
          "metadata": {
            "tags": []
          },
          "execution_count": 3
        }
      ]
    },
    {
      "cell_type": "code",
      "metadata": {
        "id": "UAsJ_ICEUDkx",
        "colab_type": "code",
        "colab": {
          "base_uri": "https://localhost:8080/",
          "height": 34
        },
        "outputId": "fe56d1e5-5fe8-4d7e-9c47-827bee208039"
      },
      "source": [
        "type(s)"
      ],
      "execution_count": 4,
      "outputs": [
        {
          "output_type": "execute_result",
          "data": {
            "text/plain": [
              "sympy.sets.sets.FiniteSet"
            ]
          },
          "metadata": {
            "tags": []
          },
          "execution_count": 4
        }
      ]
    },
    {
      "cell_type": "code",
      "metadata": {
        "id": "oTiXmXN_UEai",
        "colab_type": "code",
        "colab": {}
      },
      "source": [
        "from sympy import FiniteSet\n",
        "from fractions import Fraction\n",
        "s = FiniteSet(1, 1.5, Fraction(1, 5))"
      ],
      "execution_count": 0,
      "outputs": []
    },
    {
      "cell_type": "code",
      "metadata": {
        "id": "8oD2RPt9UVke",
        "colab_type": "code",
        "colab": {
          "base_uri": "https://localhost:8080/",
          "height": 34
        },
        "outputId": "aad0d264-f89f-4b61-bccd-0a70322d1f49"
      },
      "source": [
        "s"
      ],
      "execution_count": 7,
      "outputs": [
        {
          "output_type": "execute_result",
          "data": {
            "text/plain": [
              "{1/5, 1, 1.5}"
            ]
          },
          "metadata": {
            "tags": []
          },
          "execution_count": 7
        }
      ]
    },
    {
      "cell_type": "code",
      "metadata": {
        "id": "DM0gSLnHUX4w",
        "colab_type": "code",
        "colab": {
          "base_uri": "https://localhost:8080/",
          "height": 34
        },
        "outputId": "c685236c-7878-4d05-8c92-5e652ea7b506"
      },
      "source": [
        "s = FiniteSet(1, 1.5, 3)\n",
        "len(s)"
      ],
      "execution_count": 8,
      "outputs": [
        {
          "output_type": "execute_result",
          "data": {
            "text/plain": [
              "3"
            ]
          },
          "metadata": {
            "tags": []
          },
          "execution_count": 8
        }
      ]
    },
    {
      "cell_type": "code",
      "metadata": {
        "id": "4r1KWNNsUlvR",
        "colab_type": "code",
        "colab": {
          "base_uri": "https://localhost:8080/",
          "height": 34
        },
        "outputId": "87c973c7-04a7-41c4-f9f4-2cf048ad23fd"
      },
      "source": [
        "4 in s"
      ],
      "execution_count": 9,
      "outputs": [
        {
          "output_type": "execute_result",
          "data": {
            "text/plain": [
              "False"
            ]
          },
          "metadata": {
            "tags": []
          },
          "execution_count": 9
        }
      ]
    },
    {
      "cell_type": "code",
      "metadata": {
        "id": "8R3HHSLSUy15",
        "colab_type": "code",
        "colab": {}
      },
      "source": [
        "s = FiniteSet()"
      ],
      "execution_count": 0,
      "outputs": []
    },
    {
      "cell_type": "code",
      "metadata": {
        "id": "sfMj2LK8U9i5",
        "colab_type": "code",
        "colab": {
          "base_uri": "https://localhost:8080/",
          "height": 34
        },
        "outputId": "736725ee-adca-4d88-e084-302969945a55"
      },
      "source": [
        "s"
      ],
      "execution_count": 11,
      "outputs": [
        {
          "output_type": "execute_result",
          "data": {
            "text/plain": [
              "EmptySet()"
            ]
          },
          "metadata": {
            "tags": []
          },
          "execution_count": 11
        }
      ]
    },
    {
      "cell_type": "code",
      "metadata": {
        "id": "zNhs0KxeU9_0",
        "colab_type": "code",
        "colab": {}
      },
      "source": [
        "members = [1, 2, 3]\n",
        "s = FiniteSet(*members)"
      ],
      "execution_count": 0,
      "outputs": []
    },
    {
      "cell_type": "code",
      "metadata": {
        "id": "_puRos0WVIAR",
        "colab_type": "code",
        "colab": {
          "base_uri": "https://localhost:8080/",
          "height": 34
        },
        "outputId": "44c2c8c1-7bf8-4a73-91df-a063588849b9"
      },
      "source": [
        "s"
      ],
      "execution_count": 13,
      "outputs": [
        {
          "output_type": "execute_result",
          "data": {
            "text/plain": [
              "{1, 2, 3}"
            ]
          },
          "metadata": {
            "tags": []
          },
          "execution_count": 13
        }
      ]
    },
    {
      "cell_type": "code",
      "metadata": {
        "id": "CsKTKJuDVIm6",
        "colab_type": "code",
        "colab": {}
      },
      "source": [
        "from sympy import FiniteSet"
      ],
      "execution_count": 0,
      "outputs": []
    },
    {
      "cell_type": "code",
      "metadata": {
        "id": "8o-kAhriVitQ",
        "colab_type": "code",
        "colab": {}
      },
      "source": [
        "members = [1, 2, 3, 2]"
      ],
      "execution_count": 0,
      "outputs": []
    },
    {
      "cell_type": "code",
      "metadata": {
        "id": "go0ynI8DVmJj",
        "colab_type": "code",
        "colab": {
          "base_uri": "https://localhost:8080/",
          "height": 34
        },
        "outputId": "532c2150-021a-47b7-cdcd-49a6e2e6ff65"
      },
      "source": [
        "FiniteSet(*members)"
      ],
      "execution_count": 16,
      "outputs": [
        {
          "output_type": "execute_result",
          "data": {
            "text/plain": [
              "{1, 2, 3}"
            ]
          },
          "metadata": {
            "tags": []
          },
          "execution_count": 16
        }
      ]
    },
    {
      "cell_type": "code",
      "metadata": {
        "id": "Luycuw1WVo1s",
        "colab_type": "code",
        "colab": {}
      },
      "source": [
        "from sympy import FiniteSet"
      ],
      "execution_count": 0,
      "outputs": []
    },
    {
      "cell_type": "code",
      "metadata": {
        "id": "-M0wWnDkV0kB",
        "colab_type": "code",
        "colab": {}
      },
      "source": [
        "s = FiniteSet(1, 2, 3)"
      ],
      "execution_count": 0,
      "outputs": []
    },
    {
      "cell_type": "code",
      "metadata": {
        "id": "gB9c1yH0V2Lf",
        "colab_type": "code",
        "colab": {
          "base_uri": "https://localhost:8080/",
          "height": 67
        },
        "outputId": "bddcc73c-f8bd-429b-e38e-abe0694ba285"
      },
      "source": [
        "for member in s:\n",
        "  print(member)"
      ],
      "execution_count": 25,
      "outputs": [
        {
          "output_type": "stream",
          "text": [
            "1\n",
            "2\n",
            "3\n"
          ],
          "name": "stdout"
        }
      ]
    },
    {
      "cell_type": "code",
      "metadata": {
        "id": "V7bav1-vV4ep",
        "colab_type": "code",
        "colab": {
          "base_uri": "https://localhost:8080/",
          "height": 67
        },
        "outputId": "3866d3d0-7b12-4336-febb-8954b0397add"
      },
      "source": [
        "for member in s:\n",
        "  print(member)"
      ],
      "execution_count": 26,
      "outputs": [
        {
          "output_type": "stream",
          "text": [
            "1\n",
            "2\n",
            "3\n"
          ],
          "name": "stdout"
        }
      ]
    },
    {
      "cell_type": "code",
      "metadata": {
        "id": "HSQO60JeV96C",
        "colab_type": "code",
        "colab": {
          "base_uri": "https://localhost:8080/",
          "height": 34
        },
        "outputId": "4765e4f7-f4ce-49ea-e1b6-710142382e4b"
      },
      "source": [
        "from sympy import FiniteSet\n",
        "s = FiniteSet(3, 4, 5)\n",
        "t = FiniteSet(5, 4, 3)\n",
        "s == t"
      ],
      "execution_count": 27,
      "outputs": [
        {
          "output_type": "execute_result",
          "data": {
            "text/plain": [
              "True"
            ]
          },
          "metadata": {
            "tags": []
          },
          "execution_count": 27
        }
      ]
    },
    {
      "cell_type": "code",
      "metadata": {
        "id": "_YZ2ggX7WSO5",
        "colab_type": "code",
        "colab": {
          "base_uri": "https://localhost:8080/",
          "height": 34
        },
        "outputId": "73f2e7ed-2c1b-4552-8c19-5519ab7a6a94"
      },
      "source": [
        "[3, 4, 5] == [5, 4, 3]"
      ],
      "execution_count": 28,
      "outputs": [
        {
          "output_type": "execute_result",
          "data": {
            "text/plain": [
              "False"
            ]
          },
          "metadata": {
            "tags": []
          },
          "execution_count": 28
        }
      ]
    },
    {
      "cell_type": "code",
      "metadata": {
        "id": "NNPcslH2WW0Z",
        "colab_type": "code",
        "colab": {}
      },
      "source": [
        "s = FiniteSet(1)\n",
        "t = FiniteSet(1, 2)"
      ],
      "execution_count": 0,
      "outputs": []
    },
    {
      "cell_type": "code",
      "metadata": {
        "id": "AHHxDVGVXIyg",
        "colab_type": "code",
        "colab": {
          "base_uri": "https://localhost:8080/",
          "height": 34
        },
        "outputId": "7d19ea50-1a5e-4141-e2c3-7d687fcadc57"
      },
      "source": [
        "s.is_subset(t)"
      ],
      "execution_count": 30,
      "outputs": [
        {
          "output_type": "execute_result",
          "data": {
            "text/plain": [
              "True"
            ]
          },
          "metadata": {
            "tags": []
          },
          "execution_count": 30
        }
      ]
    },
    {
      "cell_type": "code",
      "metadata": {
        "id": "p6gOHN87XLrw",
        "colab_type": "code",
        "colab": {
          "base_uri": "https://localhost:8080/",
          "height": 34
        },
        "outputId": "67c408e7-d572-4081-a3e8-776da419b419"
      },
      "source": [
        "t.is_subset(s)"
      ],
      "execution_count": 31,
      "outputs": [
        {
          "output_type": "execute_result",
          "data": {
            "text/plain": [
              "False"
            ]
          },
          "metadata": {
            "tags": []
          },
          "execution_count": 31
        }
      ]
    },
    {
      "cell_type": "code",
      "metadata": {
        "id": "0jWIj9PKXN0R",
        "colab_type": "code",
        "colab": {
          "base_uri": "https://localhost:8080/",
          "height": 34
        },
        "outputId": "d7a040da-5c0c-45ab-ed90-79aafe8c88cc"
      },
      "source": [
        "s.is_subset(s)"
      ],
      "execution_count": 32,
      "outputs": [
        {
          "output_type": "execute_result",
          "data": {
            "text/plain": [
              "True"
            ]
          },
          "metadata": {
            "tags": []
          },
          "execution_count": 32
        }
      ]
    },
    {
      "cell_type": "code",
      "metadata": {
        "id": "nbNg_HbZXUQi",
        "colab_type": "code",
        "colab": {}
      },
      "source": [
        "empty = FiniteSet()"
      ],
      "execution_count": 0,
      "outputs": []
    },
    {
      "cell_type": "code",
      "metadata": {
        "id": "DMFog6xSXehM",
        "colab_type": "code",
        "colab": {
          "base_uri": "https://localhost:8080/",
          "height": 34
        },
        "outputId": "7295e2c6-f5c0-4ce9-f9c6-d571fa86f834"
      },
      "source": [
        "empty.is_subset(s)"
      ],
      "execution_count": 34,
      "outputs": [
        {
          "output_type": "execute_result",
          "data": {
            "text/plain": [
              "True"
            ]
          },
          "metadata": {
            "tags": []
          },
          "execution_count": 34
        }
      ]
    },
    {
      "cell_type": "code",
      "metadata": {
        "id": "tACdgh48XhPG",
        "colab_type": "code",
        "colab": {
          "base_uri": "https://localhost:8080/",
          "height": 34
        },
        "outputId": "2c91f569-875e-43a6-edb4-50d361773a1e"
      },
      "source": [
        "s"
      ],
      "execution_count": 35,
      "outputs": [
        {
          "output_type": "execute_result",
          "data": {
            "text/plain": [
              "{1}"
            ]
          },
          "metadata": {
            "tags": []
          },
          "execution_count": 35
        }
      ]
    },
    {
      "cell_type": "code",
      "metadata": {
        "id": "XxmeosSWXiN3",
        "colab_type": "code",
        "colab": {
          "base_uri": "https://localhost:8080/",
          "height": 34
        },
        "outputId": "1b2f1b86-69a1-4362-8c33-06ecb5f03771"
      },
      "source": [
        "s.is_superset(t)"
      ],
      "execution_count": 36,
      "outputs": [
        {
          "output_type": "execute_result",
          "data": {
            "text/plain": [
              "False"
            ]
          },
          "metadata": {
            "tags": []
          },
          "execution_count": 36
        }
      ]
    },
    {
      "cell_type": "code",
      "metadata": {
        "id": "3bggABb6XyQr",
        "colab_type": "code",
        "colab": {
          "base_uri": "https://localhost:8080/",
          "height": 34
        },
        "outputId": "9a623093-3d8b-4a18-d0b9-38f690249f51"
      },
      "source": [
        "t.is_superset(s)"
      ],
      "execution_count": 37,
      "outputs": [
        {
          "output_type": "execute_result",
          "data": {
            "text/plain": [
              "True"
            ]
          },
          "metadata": {
            "tags": []
          },
          "execution_count": 37
        }
      ]
    },
    {
      "cell_type": "code",
      "metadata": {
        "id": "DbtxThw3Xz5Q",
        "colab_type": "code",
        "colab": {
          "base_uri": "https://localhost:8080/",
          "height": 34
        },
        "outputId": "9e32e4e6-9413-4c1b-c55c-ce2410f067df"
      },
      "source": [
        "s = FiniteSet(1, 2, 3)\n",
        "ps = s.powerset()\n",
        "ps"
      ],
      "execution_count": 38,
      "outputs": [
        {
          "output_type": "execute_result",
          "data": {
            "text/plain": [
              "{EmptySet(), {1}, {2}, {3}, {1, 2}, {1, 3}, {2, 3}, {1, 2, 3}}"
            ]
          },
          "metadata": {
            "tags": []
          },
          "execution_count": 38
        }
      ]
    },
    {
      "cell_type": "code",
      "metadata": {
        "id": "WR1Gug59aBi2",
        "colab_type": "code",
        "colab": {
          "base_uri": "https://localhost:8080/",
          "height": 34
        },
        "outputId": "4c0b3f71-3047-481f-8d04-88104f53f6d8"
      },
      "source": [
        "len(ps)"
      ],
      "execution_count": 39,
      "outputs": [
        {
          "output_type": "execute_result",
          "data": {
            "text/plain": [
              "8"
            ]
          },
          "metadata": {
            "tags": []
          },
          "execution_count": 39
        }
      ]
    },
    {
      "cell_type": "code",
      "metadata": {
        "id": "X8ICbGAXaL-v",
        "colab_type": "code",
        "colab": {}
      },
      "source": [
        "from sympy import FiniteSet\n",
        "s = FiniteSet(1, 2, 3)\n",
        "t = FiniteSet(1, 2, 3)"
      ],
      "execution_count": 0,
      "outputs": []
    },
    {
      "cell_type": "code",
      "metadata": {
        "id": "dQfNC5QiEcy6",
        "colab_type": "code",
        "colab": {
          "base_uri": "https://localhost:8080/",
          "height": 34
        },
        "outputId": "bdadcd27-fd45-449d-c43d-96f1ab14f4d8"
      },
      "source": [
        "s.is_proper_subset(t)"
      ],
      "execution_count": 3,
      "outputs": [
        {
          "output_type": "execute_result",
          "data": {
            "text/plain": [
              "False"
            ]
          },
          "metadata": {
            "tags": []
          },
          "execution_count": 3
        }
      ]
    },
    {
      "cell_type": "code",
      "metadata": {
        "id": "rw4Kf9SMEhSE",
        "colab_type": "code",
        "colab": {
          "base_uri": "https://localhost:8080/",
          "height": 34
        },
        "outputId": "f31ddac4-35d3-4b59-c757-fcbf68fe56d9"
      },
      "source": [
        "t.is_proper_superset(s)"
      ],
      "execution_count": 4,
      "outputs": [
        {
          "output_type": "execute_result",
          "data": {
            "text/plain": [
              "False"
            ]
          },
          "metadata": {
            "tags": []
          },
          "execution_count": 4
        }
      ]
    },
    {
      "cell_type": "code",
      "metadata": {
        "id": "i1vaIjHtEnN0",
        "colab_type": "code",
        "colab": {}
      },
      "source": [
        "t = FiniteSet(1, 2, 3, 4)"
      ],
      "execution_count": 0,
      "outputs": []
    },
    {
      "cell_type": "code",
      "metadata": {
        "id": "9PwknsIWEsMv",
        "colab_type": "code",
        "colab": {
          "base_uri": "https://localhost:8080/",
          "height": 34
        },
        "outputId": "3c1f942d-7eb5-4dda-b0f9-f7aff1ebdc98"
      },
      "source": [
        "s.is_proper_subset(t)"
      ],
      "execution_count": 6,
      "outputs": [
        {
          "output_type": "execute_result",
          "data": {
            "text/plain": [
              "True"
            ]
          },
          "metadata": {
            "tags": []
          },
          "execution_count": 6
        }
      ]
    },
    {
      "cell_type": "code",
      "metadata": {
        "id": "xuURr9oiEu2F",
        "colab_type": "code",
        "colab": {
          "base_uri": "https://localhost:8080/",
          "height": 34
        },
        "outputId": "6fbc53ba-e4ef-4cfd-c74e-351d85e3c7ee"
      },
      "source": [
        "t.is_proper_superset(s)"
      ],
      "execution_count": 7,
      "outputs": [
        {
          "output_type": "execute_result",
          "data": {
            "text/plain": [
              "True"
            ]
          },
          "metadata": {
            "tags": []
          },
          "execution_count": 7
        }
      ]
    },
    {
      "cell_type": "code",
      "metadata": {
        "id": "KplGcqf_Ew9K",
        "colab_type": "code",
        "colab": {}
      },
      "source": [
        "from sympy import FiniteSet"
      ],
      "execution_count": 0,
      "outputs": []
    },
    {
      "cell_type": "code",
      "metadata": {
        "id": "fcZd1naOGFBJ",
        "colab_type": "code",
        "colab": {}
      },
      "source": [
        "s = FiniteSet(1, 2, 3)\n",
        "t = FiniteSet(2, 4, 6)"
      ],
      "execution_count": 0,
      "outputs": []
    },
    {
      "cell_type": "code",
      "metadata": {
        "id": "PNPMSGxGGKeK",
        "colab_type": "code",
        "colab": {
          "base_uri": "https://localhost:8080/",
          "height": 34
        },
        "outputId": "1cb6c203-bec7-495f-b4d1-e7dcbfe911f4"
      },
      "source": [
        "s.union(t)"
      ],
      "execution_count": 10,
      "outputs": [
        {
          "output_type": "execute_result",
          "data": {
            "text/plain": [
              "{1, 2, 3, 4, 6}"
            ]
          },
          "metadata": {
            "tags": []
          },
          "execution_count": 10
        }
      ]
    },
    {
      "cell_type": "code",
      "metadata": {
        "id": "R9qK1HSjGL27",
        "colab_type": "code",
        "colab": {}
      },
      "source": [
        "s = FiniteSet(1, 2)\n",
        "t = FiniteSet(2, 3)"
      ],
      "execution_count": 0,
      "outputs": []
    },
    {
      "cell_type": "code",
      "metadata": {
        "id": "RddWTF3nGY3W",
        "colab_type": "code",
        "colab": {
          "base_uri": "https://localhost:8080/",
          "height": 34
        },
        "outputId": "810641f4-b7ca-48a8-a200-e3600d4b5482"
      },
      "source": [
        "s.intersect(t)"
      ],
      "execution_count": 12,
      "outputs": [
        {
          "output_type": "execute_result",
          "data": {
            "text/plain": [
              "{2}"
            ]
          },
          "metadata": {
            "tags": []
          },
          "execution_count": 12
        }
      ]
    },
    {
      "cell_type": "code",
      "metadata": {
        "id": "7suTTI8AGaR8",
        "colab_type": "code",
        "colab": {}
      },
      "source": [
        "from sympy import FiniteSet\n",
        "s = FiniteSet(1, 2, 3)\n",
        "t = FiniteSet(2, 4, 6)\n",
        "u = FiniteSet(3, 5, 7)\n"
      ],
      "execution_count": 0,
      "outputs": []
    },
    {
      "cell_type": "code",
      "metadata": {
        "id": "sLK9-cPOGxZe",
        "colab_type": "code",
        "colab": {
          "base_uri": "https://localhost:8080/",
          "height": 34
        },
        "outputId": "00d42685-288a-4328-8a77-de51669477d0"
      },
      "source": [
        "s.union(t).union(u)"
      ],
      "execution_count": 14,
      "outputs": [
        {
          "output_type": "execute_result",
          "data": {
            "text/plain": [
              "{1, 2, 3, 4, 5, 6, 7}"
            ]
          },
          "metadata": {
            "tags": []
          },
          "execution_count": 14
        }
      ]
    },
    {
      "cell_type": "code",
      "metadata": {
        "id": "PjLtCdFgG03G",
        "colab_type": "code",
        "colab": {
          "base_uri": "https://localhost:8080/",
          "height": 34
        },
        "outputId": "50b0563f-ac63-4fb3-b2f6-3cc0ffcccd9e"
      },
      "source": [
        "s.intersect(t).intersect(u)"
      ],
      "execution_count": 15,
      "outputs": [
        {
          "output_type": "execute_result",
          "data": {
            "text/plain": [
              "EmptySet()"
            ]
          },
          "metadata": {
            "tags": []
          },
          "execution_count": 15
        }
      ]
    },
    {
      "cell_type": "code",
      "metadata": {
        "id": "vYuY0lykG6zs",
        "colab_type": "code",
        "colab": {}
      },
      "source": [
        "from sympy import FiniteSet"
      ],
      "execution_count": 0,
      "outputs": []
    },
    {
      "cell_type": "code",
      "metadata": {
        "id": "APL0v8IRHLkn",
        "colab_type": "code",
        "colab": {}
      },
      "source": [
        "s = FiniteSet(1, 2)\n",
        "t = FiniteSet(3, 4)"
      ],
      "execution_count": 0,
      "outputs": []
    },
    {
      "cell_type": "code",
      "metadata": {
        "id": "bR6RO7hAHOzy",
        "colab_type": "code",
        "colab": {}
      },
      "source": [
        "p = s*t"
      ],
      "execution_count": 0,
      "outputs": []
    },
    {
      "cell_type": "code",
      "metadata": {
        "id": "KCq5sKxAHRXw",
        "colab_type": "code",
        "colab": {
          "base_uri": "https://localhost:8080/",
          "height": 34
        },
        "outputId": "74334736-7c06-447c-d38e-c57102d58132"
      },
      "source": [
        "p"
      ],
      "execution_count": 19,
      "outputs": [
        {
          "output_type": "execute_result",
          "data": {
            "text/plain": [
              "{1, 2} x {3, 4}"
            ]
          },
          "metadata": {
            "tags": []
          },
          "execution_count": 19
        }
      ]
    },
    {
      "cell_type": "code",
      "metadata": {
        "id": "HXPa0BCZHRzZ",
        "colab_type": "code",
        "colab": {
          "base_uri": "https://localhost:8080/",
          "height": 84
        },
        "outputId": "8776b4a1-c6d3-4672-d09b-af2516909110"
      },
      "source": [
        "for elem in p:\n",
        "  print(elem)"
      ],
      "execution_count": 20,
      "outputs": [
        {
          "output_type": "stream",
          "text": [
            "(1, 3)\n",
            "(1, 4)\n",
            "(2, 3)\n",
            "(2, 4)\n"
          ],
          "name": "stdout"
        }
      ]
    },
    {
      "cell_type": "code",
      "metadata": {
        "id": "anAtrN5qHYG1",
        "colab_type": "code",
        "colab": {
          "base_uri": "https://localhost:8080/",
          "height": 34
        },
        "outputId": "c50a70bc-329f-4f51-cdc3-56a2e792b1ff"
      },
      "source": [
        "len(p) == len(s)*len(t)"
      ],
      "execution_count": 21,
      "outputs": [
        {
          "output_type": "execute_result",
          "data": {
            "text/plain": [
              "True"
            ]
          },
          "metadata": {
            "tags": []
          },
          "execution_count": 21
        }
      ]
    },
    {
      "cell_type": "code",
      "metadata": {
        "id": "cp6zj0vEHgsg",
        "colab_type": "code",
        "colab": {}
      },
      "source": [
        "from sympy import FiniteSet"
      ],
      "execution_count": 0,
      "outputs": []
    },
    {
      "cell_type": "code",
      "metadata": {
        "id": "Qdtn66xXHuKW",
        "colab_type": "code",
        "colab": {}
      },
      "source": [
        "s = FiniteSet(1, 2)"
      ],
      "execution_count": 0,
      "outputs": []
    },
    {
      "cell_type": "code",
      "metadata": {
        "id": "5PBSVb5iHvyo",
        "colab_type": "code",
        "colab": {}
      },
      "source": [
        "p = s**3"
      ],
      "execution_count": 0,
      "outputs": []
    },
    {
      "cell_type": "code",
      "metadata": {
        "id": "64MENdy-Hw4N",
        "colab_type": "code",
        "colab": {
          "base_uri": "https://localhost:8080/",
          "height": 34
        },
        "outputId": "62961239-2f1c-4b2e-ebf1-cf58b5ed0b19"
      },
      "source": [
        "p"
      ],
      "execution_count": 25,
      "outputs": [
        {
          "output_type": "execute_result",
          "data": {
            "text/plain": [
              "{1, 2} x {1, 2} x {1, 2}"
            ]
          },
          "metadata": {
            "tags": []
          },
          "execution_count": 25
        }
      ]
    },
    {
      "cell_type": "code",
      "metadata": {
        "id": "u74yc52PHxSH",
        "colab_type": "code",
        "colab": {
          "base_uri": "https://localhost:8080/",
          "height": 151
        },
        "outputId": "95c8c118-ba07-4533-f314-89aa9407a2c2"
      },
      "source": [
        "for elem in p:\n",
        "  print(elem)"
      ],
      "execution_count": 26,
      "outputs": [
        {
          "output_type": "stream",
          "text": [
            "(1, 1, 1)\n",
            "(1, 1, 2)\n",
            "(1, 2, 1)\n",
            "(1, 2, 2)\n",
            "(2, 1, 1)\n",
            "(2, 1, 2)\n",
            "(2, 2, 1)\n",
            "(2, 2, 2)\n"
          ],
          "name": "stdout"
        }
      ]
    },
    {
      "cell_type": "code",
      "metadata": {
        "id": "FgXk6W_2Hznc",
        "colab_type": "code",
        "colab": {
          "base_uri": "https://localhost:8080/",
          "height": 101
        },
        "outputId": "a5726940-bb6e-49d2-f964-9c0dfa42ca84"
      },
      "source": [
        "from sympy import FiniteSet, pi\n",
        "\n",
        "def time_period(length):\n",
        "  g = 9.8\n",
        "  T = 2*pi*(length/g)**0.5\n",
        "  return T\n",
        "\n",
        "L = FiniteSet(15, 18, 21, 22.5, 25)\n",
        "for l in L:\n",
        "  t = time_period(l/100)\n",
        "  print('Length: {0} cm Time Period: {1:.3f} s'. format(float(l), float(t)))"
      ],
      "execution_count": 27,
      "outputs": [
        {
          "output_type": "stream",
          "text": [
            "Length: 15.0 cm Time Period: 0.777 s\n",
            "Length: 18.0 cm Time Period: 0.852 s\n",
            "Length: 21.0 cm Time Period: 0.920 s\n",
            "Length: 22.5 cm Time Period: 0.952 s\n",
            "Length: 25.0 cm Time Period: 1.004 s\n"
          ],
          "name": "stdout"
        }
      ]
    },
    {
      "cell_type": "code",
      "metadata": {
        "id": "8rNQTmjvJqdT",
        "colab_type": "code",
        "colab": {
          "base_uri": "https://localhost:8080/",
          "height": 286
        },
        "outputId": "959ec9f2-bed8-43ed-ebc5-95db59308d96"
      },
      "source": [
        "from sympy import FiniteSet, pi\n",
        "\n",
        "def time_period(length, g):\n",
        "  T = 2*pi*(length/g)**0.5\n",
        "  return T\n",
        "\n",
        "L = FiniteSet(15, 18, 21, 22.5, 25)\n",
        "g_values = FiniteSet(9.8, 9.78, 9.83)\n",
        "print('{0:^15}{1:^15}{2:^15}'.format('Length(cm)', 'Gravity(m/s^2)', 'Time Period(s)'))\n",
        "\n",
        "for elem in L*g_values:\n",
        "  l = elem[0]\n",
        "  g = elem[1]\n",
        "  t = time_period(l/100, g)\n",
        "  print('{0:^15}{1:^15}{2:^15.3f}'.format(float(l), float(g), float(t)))\n",
        " "
      ],
      "execution_count": 33,
      "outputs": [
        {
          "output_type": "stream",
          "text": [
            "  Length(cm)   Gravity(m/s^2) Time Period(s) \n",
            "     15.0           9.78           0.778     \n",
            "     15.0            9.8           0.777     \n",
            "     15.0           9.83           0.776     \n",
            "     18.0           9.78           0.852     \n",
            "     18.0            9.8           0.852     \n",
            "     18.0           9.83           0.850     \n",
            "     21.0           9.78           0.921     \n",
            "     21.0            9.8           0.920     \n",
            "     21.0           9.83           0.918     \n",
            "     22.5           9.78           0.953     \n",
            "     22.5            9.8           0.952     \n",
            "     22.5           9.83           0.951     \n",
            "     25.0           9.78           1.005     \n",
            "     25.0            9.8           1.004     \n",
            "     25.0           9.83           1.002     \n"
          ],
          "name": "stdout"
        }
      ]
    },
    {
      "cell_type": "code",
      "metadata": {
        "id": "HD5SlhPoLBUx",
        "colab_type": "code",
        "colab": {}
      },
      "source": [
        ""
      ],
      "execution_count": 0,
      "outputs": []
    }
  ]
}