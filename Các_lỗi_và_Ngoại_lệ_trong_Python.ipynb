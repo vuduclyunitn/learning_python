{
  "nbformat": 4,
  "nbformat_minor": 0,
  "metadata": {
    "colab": {
      "name": "Các lỗi và Ngoại lệ trong Python.ipynb",
      "version": "0.3.2",
      "provenance": [],
      "include_colab_link": true
    },
    "kernelspec": {
      "name": "python3",
      "display_name": "Python 3"
    }
  },
  "cells": [
    {
      "cell_type": "markdown",
      "metadata": {
        "id": "view-in-github",
        "colab_type": "text"
      },
      "source": [
        "<a href=\"https://colab.research.google.com/github/vuduclyunitn/learning_python/blob/master/C%C3%A1c_l%E1%BB%97i_v%C3%A0_Ngo%E1%BA%A1i_l%E1%BB%87_trong_Python.ipynb\" target=\"_parent\"><img src=\"https://colab.research.google.com/assets/colab-badge.svg\" alt=\"Open In Colab\"/></a>"
      ]
    },
    {
      "cell_type": "code",
      "metadata": {
        "id": "GSrNcqkb2wvL",
        "colab_type": "code",
        "colab": {}
      },
      "source": [
        ""
      ],
      "execution_count": 0,
      "outputs": []
    },
    {
      "cell_type": "markdown",
      "metadata": {
        "id": "vbfIDSzk3jwR",
        "colab_type": "text"
      },
      "source": [
        "# Dịch và bổ sung từ https://docs.python.org/3/tutorial/errors.html"
      ]
    },
    {
      "cell_type": "markdown",
      "metadata": {
        "id": "pnKI_wvd29zp",
        "colab_type": "text"
      },
      "source": [
        "Có 2 kiểu lỗi ta có thể dễ dàng phân biệt đó là: lỗi cú pháp (syntax errors) và các ngoại lệ (exceptions)"
      ]
    },
    {
      "cell_type": "markdown",
      "metadata": {
        "id": "TGyOr0T73ums",
        "colab_type": "text"
      },
      "source": [
        "##1. Các lỗi cú pháp\n",
        "Các lỗi này còn được biết đến như là các lỗi phân tích cú pháp, và đây có lẽ là các lỗi bạn gặp nhiều khi bạn học Python. Dưới đây là một ví dụ:"
      ]
    },
    {
      "cell_type": "code",
      "metadata": {
        "id": "m_hq-W6n3tth",
        "colab_type": "code",
        "colab": {
          "base_uri": "https://localhost:8080/",
          "height": 134
        },
        "outputId": "60556085-1249-4a74-d340-6bf27505e774"
      },
      "source": [
        "while True print(\"Hello world\")"
      ],
      "execution_count": 1,
      "outputs": [
        {
          "output_type": "error",
          "ename": "SyntaxError",
          "evalue": "ignored",
          "traceback": [
            "\u001b[0;36m  File \u001b[0;32m\"<ipython-input-1-244c8c7a79f8>\"\u001b[0;36m, line \u001b[0;32m1\u001b[0m\n\u001b[0;31m    while True print(\"Hello world\")\u001b[0m\n\u001b[0m                   ^\u001b[0m\n\u001b[0;31mSyntaxError\u001b[0m\u001b[0;31m:\u001b[0m invalid syntax\n"
          ]
        }
      ]
    },
    {
      "cell_type": "markdown",
      "metadata": {
        "id": "weYv_bcK4hI6",
        "colab_type": "text"
      },
      "source": [
        "Trình phân tích của Python lặp lại dòng lỗi vi phạm này và hiển thị một mũi tên nhỏ chỉ ra vị trí bị lỗi trong dòng code được thực thi. Lỗi bị gây ra bởi phần code nằm *phía trước* mũi tên: trong ví dụ trên, mũi tên chỉ vào hàm ```print```, lý do là bởi vì ta thiếu một dấu hai chấm ```:``` trước hàm ```print```. Tên file và chỉ số của dòng code gây là lỗi được in ra để hỗ trợ việc tìm và sửa lỗi."
      ]
    },
    {
      "cell_type": "markdown",
      "metadata": {
        "id": "qmLCBH9d29Du",
        "colab_type": "text"
      },
      "source": [
        "##2. Các ngoại lệ\n",
        "Ngay cả khi một biểu diễn (gọi là statement hay expression) đúng về mặt ngữ pháp, nó cũng có thể tạo ra một lỗi khi cố gắng thực thi biểu diễn này. Các lỗi được phát hiện trong quá trình thực thi được gọi là các *ngoại lệ* và có thể làm cho chương trình của bạn kết thúc việc thực thi khi chưa hoàn thành nhiệm vụ của nó. Hầu hết các ngoại lệ không được xử lý bởi các chương trình, nó sẽ đưa ra các thông báo lỗi như các ví dụ dưới đây:"
      ]
    },
    {
      "cell_type": "code",
      "metadata": {
        "id": "c_qRcIVo7mED",
        "colab_type": "code",
        "colab": {
          "base_uri": "https://localhost:8080/",
          "height": 170
        },
        "outputId": "11ddd454-03e6-4ce3-8663-9a569d9d303a"
      },
      "source": [
        "# Lỗi chia một số cho số 0\n",
        "10 * (1/0)"
      ],
      "execution_count": 2,
      "outputs": [
        {
          "output_type": "error",
          "ename": "ZeroDivisionError",
          "evalue": "ignored",
          "traceback": [
            "\u001b[0;31m---------------------------------------------------------------------------\u001b[0m",
            "\u001b[0;31mZeroDivisionError\u001b[0m                         Traceback (most recent call last)",
            "\u001b[0;32m<ipython-input-2-0b280f36835c>\u001b[0m in \u001b[0;36m<module>\u001b[0;34m()\u001b[0m\n\u001b[0;32m----> 1\u001b[0;31m \u001b[0;36m10\u001b[0m \u001b[0;34m*\u001b[0m \u001b[0;34m(\u001b[0m\u001b[0;36m1\u001b[0m\u001b[0;34m/\u001b[0m\u001b[0;36m0\u001b[0m\u001b[0;34m)\u001b[0m\u001b[0;34m\u001b[0m\u001b[0;34m\u001b[0m\u001b[0m\n\u001b[0m",
            "\u001b[0;31mZeroDivisionError\u001b[0m: division by zero"
          ]
        }
      ]
    },
    {
      "cell_type": "code",
      "metadata": {
        "id": "P-YsCr_S7v7I",
        "colab_type": "code",
        "colab": {
          "base_uri": "https://localhost:8080/",
          "height": 170
        },
        "outputId": "6df20bcc-df62-46f1-a5ce-f5018eed0731"
      },
      "source": [
        "# Lỗi một biến 'spam' chưa được định nghĩa mà đã được sử dụng\n",
        "4 + spam*3"
      ],
      "execution_count": 3,
      "outputs": [
        {
          "output_type": "error",
          "ename": "NameError",
          "evalue": "ignored",
          "traceback": [
            "\u001b[0;31m---------------------------------------------------------------------------\u001b[0m",
            "\u001b[0;31mNameError\u001b[0m                                 Traceback (most recent call last)",
            "\u001b[0;32m<ipython-input-3-c98bb92cdcac>\u001b[0m in \u001b[0;36m<module>\u001b[0;34m()\u001b[0m\n\u001b[0;32m----> 1\u001b[0;31m \u001b[0;36m4\u001b[0m \u001b[0;34m+\u001b[0m \u001b[0mspam\u001b[0m\u001b[0;34m*\u001b[0m\u001b[0;36m3\u001b[0m\u001b[0;34m\u001b[0m\u001b[0;34m\u001b[0m\u001b[0m\n\u001b[0m",
            "\u001b[0;31mNameError\u001b[0m: name 'spam' is not defined"
          ]
        }
      ]
    },
    {
      "cell_type": "code",
      "metadata": {
        "id": "lqwS3N2S79yo",
        "colab_type": "code",
        "colab": {
          "base_uri": "https://localhost:8080/",
          "height": 170
        },
        "outputId": "d29add23-1032-4b0d-acc9-2d22e2e5ca3b"
      },
      "source": [
        "# Lỗi cộng hai kiểu khác nhau (ví dụ kiểu chuỗi (str) và kiểu số nguyên (int) )\n",
        "'2' + 2"
      ],
      "execution_count": 4,
      "outputs": [
        {
          "output_type": "error",
          "ename": "TypeError",
          "evalue": "ignored",
          "traceback": [
            "\u001b[0;31m---------------------------------------------------------------------------\u001b[0m",
            "\u001b[0;31mTypeError\u001b[0m                                 Traceback (most recent call last)",
            "\u001b[0;32m<ipython-input-4-d2b23a1db757>\u001b[0m in \u001b[0;36m<module>\u001b[0;34m()\u001b[0m\n\u001b[0;32m----> 1\u001b[0;31m \u001b[0;34m'2'\u001b[0m \u001b[0;34m+\u001b[0m \u001b[0;36m2\u001b[0m\u001b[0;34m\u001b[0m\u001b[0;34m\u001b[0m\u001b[0m\n\u001b[0m",
            "\u001b[0;31mTypeError\u001b[0m: must be str, not int"
          ]
        }
      ]
    },
    {
      "cell_type": "markdown",
      "metadata": {
        "id": "V6_6Dg1L8PvD",
        "colab_type": "text"
      },
      "source": [
        "Dòng cuối cùng trong các thông điệp lỗi phía trên chỉ ra những điều đã xảy ra với đoạn code của ta. Có nhiều kiểu ngoại lệ, và thông tin về kiểu ngoại lệ được hiển thị ngay phần đầu trong dòng thông điệp giải thích lỗi: một vài các ngoại lệ ví dụ như là ```ZeroDivisionError```, ```NameError``` và ```TypeError```. Đối với các ngoại lệ có sẵn (built-in exception), khi chương trình của ta gặp các ngoại lệ này ta sẽ thấy được tên và kiểu của chúng trong đoạn thông báo lỗi. Tuy nhiên với các ngoại lệ được định nghĩa bởi người dùng đôi khi ta có thể không thấy được các thông tin này (mặc cho đó là quy chuẩn hữu ích khi xử lý các ngoại lệ). Chú ý rằng các tên ngoại lệ có sẵn là các nhận dạng có sẵn (không phải là các từ khóa được dự trữ)"
      ]
    },
    {
      "cell_type": "markdown",
      "metadata": {
        "id": "M3A1tzqyR6Nx",
        "colab_type": "text"
      },
      "source": [
        "##3. Xử lý các ngoại lệ\n",
        "Ta có thể viết các chương trình để xử lý các ngoại lệ được lựa chọn. Ví dụ dưới đây lặp lại yêu cầu người dùng nhập vào cho đến khi nhận được một số nguyên hợp lệ, nó cũng cho phép người dùng được ngắt việc thực thi (sử dụng ```Control-C``` hay bất cứ cơ chế nào hay tổ hợp phím nào mà hệ điều hành hỗ trợ); chú ý rằng một lệnh ngắt của người dùng được báo hiệu  cho hệ điều hành bằng cách sinh ra ngoại lệ  ```KeyboardInterrupt```"
      ]
    },
    {
      "cell_type": "code",
      "metadata": {
        "id": "60yJMX7L-KJe",
        "colab_type": "code",
        "colab": {
          "base_uri": "https://localhost:8080/",
          "height": 71
        },
        "outputId": "5649d656-740f-467e-fcf0-4f68942fad4c"
      },
      "source": [
        "while True:\n",
        "  try:\n",
        "    x = int(input(\"Nhập vào một số: \"))\n",
        "    break\n",
        "  except ValueError:\n",
        "    print(\"Opps! Đây không phải là một số hợp lệ. Thử lại...\")"
      ],
      "execution_count": 6,
      "outputs": [
        {
          "output_type": "stream",
          "text": [
            "Nhập vào một số: ad\n",
            "Opps! Đây không phải là một số hợp lệ. Thử lại...\n",
            "Nhập vào một số: 123\n"
          ],
          "name": "stdout"
        }
      ]
    },
    {
      "cell_type": "markdown",
      "metadata": {
        "id": "SVGdKvUBX-Km",
        "colab_type": "text"
      },
      "source": [
        "Câu lệnh ```try``` thực hiện tuần tự những công việc sau:\n",
        "\n",
        "\n",
        "*   Đầu tiên, các dòng lệnh ở giữa ```try``` và ```except``` được thực thi.\n",
        "*   Nếu không có bất cứ ngoại lệ nào xảy ra, mệnh đề ```clause```\n",
        "được bỏ qua và quá trình thực thi các lệnh trong ```try``` được hoàn tất.\n",
        "*   Nếu có một ngoại lệ xảy ra tại bất cứ dòng lệnh nào, quá trình thực thi  các mệnh đề còn lại trong ```try``` sẽ không được thực hiện. Khi đó ngoại lệ sinh ra từ dòng lệnh lỗi sẽ được so khớp với ngoại lệ được liệt khi phía sau từ khóa ```except```, các câu lệnh trong mạnh đề ```except``` tương ứng sẽ được thực hiện, và sau đó các câu lệnh sau ```try``` sẽ tiếp tục được thực thi.\n",
        "*   Nếu một ngoại lệ không khớp với ngoại lệ được liệt kê trong mệnh đề ```except```, ngoại lệ này được gửi tới các câu lệnh ```try``` bên ngoài; nếu như vẫn không có một bộ xử lý cho ngoại lệ này, nó sẽ là một *ngoại lệ không được xử lý* và việc thực thi sẽ dừng và một thông điệp lỗi sẽ được đưa ra. \n",
        "\n",
        "\n"
      ]
    },
    {
      "cell_type": "markdown",
      "metadata": {
        "id": "f6FNRYItcDnx",
        "colab_type": "text"
      },
      "source": [
        "Một câu lệnh ```try``` có thể có một hoặc nhiều mệnh đề ```except```, chúng được dùng để chỉ định các mã xử lý khác nhau cho từng kiểu ngoại lệ. Tối đa chỉ có một bộ xử lý sẽ được thực thi. Các bộ xử lý chỉ xử lý các ngoài lệ diễn ra trong mệnh đề ```try``` tương ứng, chúng không xử lý các ngoại lệ xảy ra trong các bộ xử lý khác của cùng một câu lệnh ```try```. Một mệnh đề ```except``` có thể chỉ định nhiều ngoại lệ, các ngoại lệ này được bao quanh bởi 2 dấu ngoặc đơn, ví dụ:\n"
      ]
    },
    {
      "cell_type": "code",
      "metadata": {
        "id": "eB48WgBjb_vc",
        "colab_type": "code",
        "colab": {
          "base_uri": "https://localhost:8080/",
          "height": 35
        },
        "outputId": "ba85909b-4607-4354-de09-b8a9f04f02ed"
      },
      "source": [
        "try:\n",
        "  1 / 0\n",
        "except (RuntimeError, TypeError, NameError, ZeroDivisionError) as e:\n",
        "  print(e)"
      ],
      "execution_count": 9,
      "outputs": [
        {
          "output_type": "stream",
          "text": [
            "division by zero\n"
          ],
          "name": "stdout"
        }
      ]
    },
    {
      "cell_type": "markdown",
      "metadata": {
        "id": "HsyJI5URgh7r",
        "colab_type": "text"
      },
      "source": [
        "\n",
        "Một lớp được đặt trong một mệnh đề ```except``` tương thích với một ngoại lệ nếu nó cùng một lớp hoặc cùng một lớp cơ sở của chúng (tuy nhiên hướng ngược lại không đúng - một mệnh đề ```except``` đi kèm với một lớp dẫn xuất không tương thích với một một lớp cơ sở). Ví dụ, đoạn code dưới đây sẽ in ra B, C, D tuần tự.\n"
      ]
    },
    {
      "cell_type": "code",
      "metadata": {
        "id": "A07dhMhseyRi",
        "colab_type": "code",
        "colab": {
          "base_uri": "https://localhost:8080/",
          "height": 71
        },
        "outputId": "f41347e4-97e1-45fb-a3d1-e324df294533"
      },
      "source": [
        "class B(Exception):\n",
        "  pass\n",
        "\n",
        "class C(B):\n",
        "  pass\n",
        "\n",
        "class D(C):\n",
        "  pass\n",
        "\n",
        "for cls in [B, C, D]:\n",
        "  try:\n",
        "    raise cls()\n",
        "  except D:\n",
        "    print(\"D\")\n",
        "  except C:\n",
        "    print(\"C\")\n",
        "  except B:\n",
        "    print(\"B\")"
      ],
      "execution_count": 11,
      "outputs": [
        {
          "output_type": "stream",
          "text": [
            "B\n",
            "C\n",
            "D\n"
          ],
          "name": "stdout"
        }
      ]
    },
    {
      "cell_type": "markdown",
      "metadata": {
        "id": "qSmJG-zDhPmI",
        "colab_type": "text"
      },
      "source": [
        "Chú ý rằng nếu các mệnh đề  ```except```  được đảo ngược (với ```except B```` đầu tiên), nó có thể in ra B, B, B - mệnh đề  ```except```  khớp đầu tiên được kích hoạt "
      ]
    },
    {
      "cell_type": "code",
      "metadata": {
        "id": "76wXa372hr16",
        "colab_type": "code",
        "colab": {
          "base_uri": "https://localhost:8080/",
          "height": 71
        },
        "outputId": "d273bea3-9f75-4097-e45f-2c69dec0d74d"
      },
      "source": [
        "class B(Exception):\n",
        "  pass\n",
        "\n",
        "class C(B):\n",
        "  pass\n",
        "\n",
        "class D(C):\n",
        "  pass\n",
        "\n",
        "for cls in [B, C, D]:\n",
        "  try:\n",
        "    raise cls()\n",
        "  except B:\n",
        "    print(\"B\")\n",
        "  except C:\n",
        "    print(\"C\")\n",
        "  except D:\n",
        "    print(\"D\")\n"
      ],
      "execution_count": 12,
      "outputs": [
        {
          "output_type": "stream",
          "text": [
            "B\n",
            "B\n",
            "B\n"
          ],
          "name": "stdout"
        }
      ]
    },
    {
      "cell_type": "markdown",
      "metadata": {
        "id": "tTDq4t3Djv5L",
        "colab_type": "text"
      },
      "source": [
        "Đoạn mã dưới đây triển khai 3 mệnh đề ```except``` để \"bắt\" (catch) các ngoại lệ sinh ra bởi 3 câu lệnh trong mệnh đề ```try```. Mệnh đề ```except``` đầu tiên bắt ngoại lệ liên quan đến hệ điều hành, ví dụ như khi mở một tệp tin không tồn tại, mệnh đề thứ hai bắt các lỗi về chuyển đổi dữ liệu ví dụ chuyển đổi một chuỗi không phải số nguyên qua số nguyên. Mệnh đề ```except``` cuối cùng không chỉ định tên ngoại lệ muốn bắt, nó đóng vai trò như là một bộ lọc cuối cùng bắt tất cả các ngoại lệ chưa được chỉ định phía trên. Tuy nhiên ta cần sử dụng mệnh đề cuối cùng này một cách cẩn thận, nó có thể giấu đi các lỗi lập trình thực sự. Ta có thể dùng nó để in ra thông điệp lỗi và sau đó khởi lại ngoại lệ này (cho phép đối tượng gọi xử lý ngoại lệ này)"
      ]
    },
    {
      "cell_type": "code",
      "metadata": {
        "id": "Z5t-pZPOj5YI",
        "colab_type": "code",
        "colab": {
          "base_uri": "https://localhost:8080/",
          "height": 35
        },
        "outputId": "1e0d80b6-9471-46e2-aaa0-529edaef4930"
      },
      "source": [
        "import sys\n",
        "\n",
        "try:\n",
        "  f = open('myfile.txt')\n",
        "  s = f.readline()\n",
        "  i = int(s.strip())\n",
        "except OSError as err:\n",
        "  print(\"OS error: {0}\".format(err))\n",
        "except ValueError:\n",
        "  print(\"Could not convert data to an integer.\")\n",
        "except:\n",
        "  print(\"Unexpected error:\", sys.exc_info()[0])\n",
        "  raise"
      ],
      "execution_count": 13,
      "outputs": [
        {
          "output_type": "stream",
          "text": [
            "OS error: [Errno 2] No such file or directory: 'myfile.txt'\n"
          ],
          "name": "stdout"
        }
      ]
    },
    {
      "cell_type": "markdown",
      "metadata": {
        "id": "UEAx9yGenEP2",
        "colab_type": "text"
      },
      "source": [
        "Câu lệnh ```try``` ... ```except``` có một mệnh đề tùy chọn ```else```, nó nằm phía sau tất cả các mệnh đề ```except```. Mệnh đề này hữu dụng nếu ta có một đoạn mã phải được thực thi trong trường hợp mệnh đề ```try``` không gây ra bất cứ ngoại lệ. Ví dụ ở đoạn code phía dưới đây, đoạn code đầu tiên thực hiện việc đọc một file, nếu việc đọc thành công (không gây ra bất cứ ngoại lệ nào thì in ra số lượng dòng trong file đó và đóng file), đoạn code thứ hai thực hiện việc chia và gán cho một số, nếu việc chia thành công thì công số này với 3 và in ra số đó. \n",
        "\n",
        "Sử dụng mệnh đề ```else``` sẽ tốt hơn là thêm code vào mệnh đề ```try``` bởi vì ta tránh việc bắt một ngoại lệ không được phát sinh bởi đoạn được bảo vệ bởi câu lệnh ```try``` ... ```except```.  Ví dụ trong đoạn code thứ 2 ta tránh việc bắt ngoại lệ cho dòng code cộng với số 3 nơi có thể gây ra ngoại lệ ví dụ một cộng với một biến chưa được định nghĩa."
      ]
    },
    {
      "cell_type": "code",
      "metadata": {
        "id": "MJSzkwCnn_7a",
        "colab_type": "code",
        "colab": {
          "base_uri": "https://localhost:8080/",
          "height": 53
        },
        "outputId": "00a53fcb-8ca6-435e-cad0-faa71428c9a3"
      },
      "source": [
        "import sys\n",
        "for arg in sys.argv[1:]:\n",
        "  try:\n",
        "    f = open(arg, 'r')\n",
        "  except OSError:\n",
        "    print('cannot open', arg)\n",
        "  else:\n",
        "    print(arg, 'has', len(f.readlines()), 'lines')\n",
        "    f.close()"
      ],
      "execution_count": 15,
      "outputs": [
        {
          "output_type": "stream",
          "text": [
            "cannot open -f\n",
            "/root/.local/share/jupyter/runtime/kernel-c7d3a05e-2d08-46db-97ff-a7eda377bb9c.json has 12 lines\n"
          ],
          "name": "stdout"
        }
      ]
    },
    {
      "cell_type": "code",
      "metadata": {
        "id": "cZlweU1Jpblq",
        "colab_type": "code",
        "colab": {
          "base_uri": "https://localhost:8080/",
          "height": 35
        },
        "outputId": "d056a1f0-be10-4959-c20b-987f9e4a55f0"
      },
      "source": [
        "try:\n",
        "  a = 1 / 1\n",
        "except ZeroDivisionError as e:\n",
        "  print(e)\n",
        "else:\n",
        "  a = a + 3\n",
        "  print(a)"
      ],
      "execution_count": 21,
      "outputs": [
        {
          "output_type": "stream",
          "text": [
            "4.0\n"
          ],
          "name": "stdout"
        }
      ]
    },
    {
      "cell_type": "markdown",
      "metadata": {
        "id": "-roh70KmscAU",
        "colab_type": "text"
      },
      "source": [
        "Khi một ngoại lệ xảy ra, nó có thể có một giá trị liên kết, giá trị này còn được biết đến như là một *tham số* (argument) của ngoại lệ. Sự tồn tại và kiểu của tham số phụ thuộc vào kiểu ngoại lệ.\n",
        "\n",
        "Mệnh đề ```except``` có thể chỉ định một biến phía sau tên của ngoại lệ. Biến này được gán với một hiện thực (instance) ngoại lệ với các tham số được lưu trong ```instance.args```. Để cho thuận tiện, hiện thực ngoại lệ định nghĩa phương thức  ```__str__()``` vì vậy các tham số có theer được in ra trực tiếp mà không phải tham chiếu tới ```.args```. Ta có thể khởi tạo một ngoại lệ trước khi khởi (raise) nó lên và thêm bất cứ các thuộc tính ta muốn vào nó. Ví dụ"
      ]
    },
    {
      "cell_type": "code",
      "metadata": {
        "id": "qWJR-r7-w093",
        "colab_type": "code",
        "colab": {
          "base_uri": "https://localhost:8080/",
          "height": 106
        },
        "outputId": "080b9237-1495-42a7-eaf2-4c085ff18bb2"
      },
      "source": [
        "try:\n",
        "  raise Exception('spam', 'eggs')\n",
        "except Exception as inst:\n",
        "  # Kiểu của hiện thực ngoại lệ\n",
        "  print(type(inst))\n",
        "  # Các tham số được lưu trong .args\n",
        "  print(inst.args)\n",
        "  # Phương thức đặc biệt __str__ cho phép ta in trực tiếp args\n",
        "  # nhưng .args cũng có thể được ghi đè trong các lớp ngoại lệ con\n",
        "  print(inst)\n",
        "  # Bóc tách args\n",
        "  x, y = inst.args\n",
        "  print('x =', x)\n",
        "  print('y =', y)"
      ],
      "execution_count": 22,
      "outputs": [
        {
          "output_type": "stream",
          "text": [
            "<class 'Exception'>\n",
            "('spam', 'eggs')\n",
            "('spam', 'eggs')\n",
            "x = spam\n",
            "y = eggs\n"
          ],
          "name": "stdout"
        }
      ]
    },
    {
      "cell_type": "markdown",
      "metadata": {
        "id": "ToaG4aKFyL4g",
        "colab_type": "text"
      },
      "source": [
        "Nếu một ngoại lệ có các tham số, chúng sẽ được in ra cuối cùng trong thông báo cho các ngoại lệ không được xử lý. \n",
        "\n",
        "Các bộ xử lý ngoại lệ không xử lý các ngoại lệ sinh ra bởi các đoạn mã nằm ngay sau dòng mã sinh ra ngoại lệ trước đó, nhưng ta có thể đặt một hàm trong mệnh đề ```try```. Ví dụ như hàm ```this_fails()``` dưới đây."
      ]
    },
    {
      "cell_type": "code",
      "metadata": {
        "id": "o66kzCfjzYzf",
        "colab_type": "code",
        "colab": {
          "base_uri": "https://localhost:8080/",
          "height": 35
        },
        "outputId": "0307c8b3-a98f-4b05-e622-f9e4d9d025b8"
      },
      "source": [
        "def this_fails():\n",
        "  x = 1/0\n",
        "  \n",
        "try:\n",
        "  this_fails()\n",
        "except ZeroDivisionError as err:\n",
        "  print(\"Handling run-tim error:\", err)"
      ],
      "execution_count": 27,
      "outputs": [
        {
          "output_type": "stream",
          "text": [
            "Handling run-tim error: division by zero\n"
          ],
          "name": "stdout"
        }
      ]
    },
    {
      "cell_type": "markdown",
      "metadata": {
        "id": "yBoi6ixK0Nm-",
        "colab_type": "text"
      },
      "source": [
        "##4. Khởi (Raise) các ngoại lệ \n",
        "Câu lệnh ```raise``` cho phép người lập trình viên cho phép người lập trình ép buộc (force) một ngoại lệ được chỉ định xảy ra. Ví dụ."
      ]
    },
    {
      "cell_type": "code",
      "metadata": {
        "id": "t2lHy3tj0kul",
        "colab_type": "code",
        "colab": {
          "base_uri": "https://localhost:8080/",
          "height": 170
        },
        "outputId": "3ef1d4ba-b6fe-4d6c-852e-7658edaa6765"
      },
      "source": [
        "raise NameError('HiThere')"
      ],
      "execution_count": 28,
      "outputs": [
        {
          "output_type": "error",
          "ename": "NameError",
          "evalue": "ignored",
          "traceback": [
            "\u001b[0;31m---------------------------------------------------------------------------\u001b[0m",
            "\u001b[0;31mNameError\u001b[0m                                 Traceback (most recent call last)",
            "\u001b[0;32m<ipython-input-28-72c183edb298>\u001b[0m in \u001b[0;36m<module>\u001b[0;34m()\u001b[0m\n\u001b[0;32m----> 1\u001b[0;31m \u001b[0;32mraise\u001b[0m \u001b[0mNameError\u001b[0m\u001b[0;34m(\u001b[0m\u001b[0;34m'HiThere'\u001b[0m\u001b[0;34m)\u001b[0m\u001b[0;34m\u001b[0m\u001b[0;34m\u001b[0m\u001b[0m\n\u001b[0m",
            "\u001b[0;31mNameError\u001b[0m: HiThere"
          ]
        }
      ]
    },
    {
      "cell_type": "markdown",
      "metadata": {
        "id": "6QXRlrtq0wQA",
        "colab_type": "text"
      },
      "source": [
        "Tham số cho hàm ```raise``` là ngoại lệ được khởi lên. Tham số này phải là một hiện thực ngoại lệ hoặc một lớp ngoại lệ (một lớp được dẫn xuất từ ```Exception```). Nếu một lớp ngoại lệ được truyền vào, nó phải được khởi tạo ngầm bằng cách gọi phương thức xây dựng của nó mà không có các tham số truyền vào."
      ]
    },
    {
      "cell_type": "code",
      "metadata": {
        "id": "2vUocswZ1TWf",
        "colab_type": "code",
        "colab": {
          "base_uri": "https://localhost:8080/",
          "height": 170
        },
        "outputId": "e40cda37-8069-4c1f-846a-1948c547bce4"
      },
      "source": [
        "raise ValueError"
      ],
      "execution_count": 29,
      "outputs": [
        {
          "output_type": "error",
          "ename": "ValueError",
          "evalue": "ignored",
          "traceback": [
            "\u001b[0;31m---------------------------------------------------------------------------\u001b[0m",
            "\u001b[0;31mValueError\u001b[0m                                Traceback (most recent call last)",
            "\u001b[0;32m<ipython-input-29-e4c8e09828d5>\u001b[0m in \u001b[0;36m<module>\u001b[0;34m()\u001b[0m\n\u001b[0;32m----> 1\u001b[0;31m \u001b[0;32mraise\u001b[0m \u001b[0mValueError\u001b[0m\u001b[0;34m\u001b[0m\u001b[0;34m\u001b[0m\u001b[0m\n\u001b[0m",
            "\u001b[0;31mValueError\u001b[0m: "
          ]
        }
      ]
    },
    {
      "cell_type": "markdown",
      "metadata": {
        "id": "qrfKjL2p1dKR",
        "colab_type": "text"
      },
      "source": [
        "Nếu bạn cần xác định một ngoại lệ có được khởi lên hay không, nhưng bạn không có ý muốn xử lý ngoại lệ này, bạn chỉ cần đơn giản gọi câu lệnh ```raise``` để khởi lại ngoại lệ. Ở ví dụ dưới đây ngoại lệ ```NameError``` được khởi lên 2 lần. "
      ]
    },
    {
      "cell_type": "code",
      "metadata": {
        "id": "PlFybTns14ak",
        "colab_type": "code",
        "colab": {
          "base_uri": "https://localhost:8080/",
          "height": 260
        },
        "outputId": "b5424c22-f94f-4736-c56c-bd81be96a26d"
      },
      "source": [
        "try:\n",
        "  raise NameError('HiThere')\n",
        "except NameError:\n",
        "  print('An exception flew by!')\n",
        "  raise"
      ],
      "execution_count": 30,
      "outputs": [
        {
          "output_type": "stream",
          "text": [
            "An exception flew by!\n"
          ],
          "name": "stdout"
        },
        {
          "output_type": "error",
          "ename": "NameError",
          "evalue": "ignored",
          "traceback": [
            "\u001b[0;31m---------------------------------------------------------------------------\u001b[0m",
            "\u001b[0;31mNameError\u001b[0m                                 Traceback (most recent call last)",
            "\u001b[0;32m<ipython-input-30-b1b774ebc411>\u001b[0m in \u001b[0;36m<module>\u001b[0;34m()\u001b[0m\n\u001b[1;32m      1\u001b[0m \u001b[0;32mtry\u001b[0m\u001b[0;34m:\u001b[0m\u001b[0;34m\u001b[0m\u001b[0;34m\u001b[0m\u001b[0m\n\u001b[0;32m----> 2\u001b[0;31m   \u001b[0;32mraise\u001b[0m \u001b[0mNameError\u001b[0m\u001b[0;34m(\u001b[0m\u001b[0;34m'HiThere'\u001b[0m\u001b[0;34m)\u001b[0m\u001b[0;34m\u001b[0m\u001b[0;34m\u001b[0m\u001b[0m\n\u001b[0m\u001b[1;32m      3\u001b[0m \u001b[0;32mexcept\u001b[0m \u001b[0mNameError\u001b[0m\u001b[0;34m:\u001b[0m\u001b[0;34m\u001b[0m\u001b[0;34m\u001b[0m\u001b[0m\n\u001b[1;32m      4\u001b[0m   \u001b[0mprint\u001b[0m\u001b[0;34m(\u001b[0m\u001b[0;34m'An exception flew by!'\u001b[0m\u001b[0;34m)\u001b[0m\u001b[0;34m\u001b[0m\u001b[0;34m\u001b[0m\u001b[0m\n\u001b[1;32m      5\u001b[0m   \u001b[0;32mraise\u001b[0m\u001b[0;34m\u001b[0m\u001b[0;34m\u001b[0m\u001b[0m\n",
            "\u001b[0;31mNameError\u001b[0m: HiThere"
          ]
        }
      ]
    },
    {
      "cell_type": "code",
      "metadata": {
        "id": "HD9OlY3E2dgd",
        "colab_type": "code",
        "colab": {
          "base_uri": "https://localhost:8080/",
          "height": 35
        },
        "outputId": "dc5c5f13-4879-425c-f095-78f490553b62"
      },
      "source": [
        "try:\n",
        "  raise NameError('HiThere')\n",
        "except NameError:\n",
        "  print('An exception flew by!')\n",
        "  # raise"
      ],
      "execution_count": 31,
      "outputs": [
        {
          "output_type": "stream",
          "text": [
            "An exception flew by!\n"
          ],
          "name": "stdout"
        }
      ]
    },
    {
      "cell_type": "markdown",
      "metadata": {
        "id": "slrNM6ZM2nul",
        "colab_type": "text"
      },
      "source": [
        "##5. Các ngoại lệ được người dùng định nghĩa\n",
        "Các chương trình có thể tạo ra các ngoại lệ riêng cho họ bằng cách tạo ra một lớp ngoại lệ. Các ngoại lệ này thường được dẫn xuất từ lớp ```Exception``` trực tiếp hoặc gián tiếp. \n",
        "\n",
        "Các lớp ngoại lệ có thể được tạo ra để làm các công việc như các lớp khác, nhưng được giản đơn hóa, thường thì nó chỉ cung ứng một số lượng các thuộc để các bộ xử lý lấy được thông tin về ngoại lệ. Khi tạo một module, một module có thể khởi lên một vài lỗi riêng biệt, cách phổ biến là tạo một lớp cở sở cho các ngoại lệ được định nghĩa bởi module đó, và tạo ra các lớp con cho các lớp ngoại lệ cụ thể và cho các điều kiện gây lỗi không nhau. Ví dụ:"
      ]
    },
    {
      "cell_type": "code",
      "metadata": {
        "id": "vWzdK_1k4CYI",
        "colab_type": "code",
        "colab": {}
      },
      "source": [
        "class Error(Exception):\n",
        "  \"\"\"Lớp cơ sở cho các ngoại lệ trong module này\"\"\"\n",
        "  pass\n",
        "\n",
        "class InputError(Error):\n",
        "  \"\"\"Ngoại lệ được khởi lên cho các lỗi trong thông tin nhập vào.\n",
        "  Các thuộc tính:\n",
        "    expression -- biểu diễn đầu vào xảy ra lỗi\n",
        "    message -- thông điệp giải thích lỗi\n",
        "  \"\"\"\n",
        "  def __init__(self, expression, message):\n",
        "    self.expression = expression\n",
        "    self.mesage = message\n",
        "    \n",
        "class TransitionError(Error):\n",
        "  \"\"\" Ngoại lệ khởi lên khi một hành động cố gắng truy cập tới một giao dịch\n",
        "  không được phép\n",
        "  Các thuộc tính:\n",
        "    previous -- trạng thái tại thời điểm ban đầu của giao dịch\n",
        "    next_ -- trạng thái mới\n",
        "    message - giải thích tại sao một giao dịch cụ thể không được phép\n",
        "  \"\"\"\n",
        "  def __init__(self, previous, next_, message):\n",
        "    self.previous = previous\n",
        "    self.next = next_\n",
        "    self.message = message"
      ],
      "execution_count": 0,
      "outputs": []
    },
    {
      "cell_type": "markdown",
      "metadata": {
        "id": "fq0OA_Qw5qX4",
        "colab_type": "text"
      },
      "source": [
        "Hầu hết các ngoại lệ được định nghĩa trên có tên kết thúc bằng chữ \"Error\", giống như tên của các ngoại lệ chuẩn.\n",
        "\n",
        "Nhiều các modules chuẩn định nghĩa các ngoại lệ riêng của mình để báo cáo các lỗi xảy ra trong các hàm chúng định nghĩa."
      ]
    },
    {
      "cell_type": "markdown",
      "metadata": {
        "id": "LAU5tP9f6GZf",
        "colab_type": "text"
      },
      "source": [
        "##6. Định nghĩa các hành động dọn dẹp\n",
        "Câu lệnh ```try``` có một mệnh đề tùy chọn khác giúp ta triển khai các tác vụ dọn dẹp phải được thực hiện dẫu trong bất cứ trường hợp nào. Ví dụ dưới đây sẽ in ra dòng chữ 'Goodbye, world' bất kể trường hợp nào, dù ngoại lệ có xảy ra hay không."
      ]
    },
    {
      "cell_type": "code",
      "metadata": {
        "id": "0hpTqy7e6Ded",
        "colab_type": "code",
        "colab": {
          "base_uri": "https://localhost:8080/",
          "height": 242
        },
        "outputId": "822c1188-977f-4141-8510-90b0b2e11a56"
      },
      "source": [
        "try:\n",
        "  raise KeyboardInterrupt\n",
        "finally:\n",
        "  print('Goodbye, world')"
      ],
      "execution_count": 33,
      "outputs": [
        {
          "output_type": "stream",
          "text": [
            "Goodbye, world\n"
          ],
          "name": "stdout"
        },
        {
          "output_type": "error",
          "ename": "KeyboardInterrupt",
          "evalue": "ignored",
          "traceback": [
            "\u001b[0;31m---------------------------------------------------------------------------\u001b[0m",
            "\u001b[0;31mKeyboardInterrupt\u001b[0m                         Traceback (most recent call last)",
            "\u001b[0;32m<ipython-input-33-89cc2f40c191>\u001b[0m in \u001b[0;36m<module>\u001b[0;34m()\u001b[0m\n\u001b[1;32m      1\u001b[0m \u001b[0;32mtry\u001b[0m\u001b[0;34m:\u001b[0m\u001b[0;34m\u001b[0m\u001b[0;34m\u001b[0m\u001b[0m\n\u001b[0;32m----> 2\u001b[0;31m   \u001b[0;32mraise\u001b[0m \u001b[0mKeyboardInterrupt\u001b[0m\u001b[0;34m\u001b[0m\u001b[0;34m\u001b[0m\u001b[0m\n\u001b[0m\u001b[1;32m      3\u001b[0m \u001b[0;32mfinally\u001b[0m\u001b[0;34m:\u001b[0m\u001b[0;34m\u001b[0m\u001b[0;34m\u001b[0m\u001b[0m\n\u001b[1;32m      4\u001b[0m   \u001b[0mprint\u001b[0m\u001b[0;34m(\u001b[0m\u001b[0;34m'Goodbye, world'\u001b[0m\u001b[0;34m)\u001b[0m\u001b[0;34m\u001b[0m\u001b[0;34m\u001b[0m\u001b[0m\n",
            "\u001b[0;31mKeyboardInterrupt\u001b[0m: "
          ]
        }
      ]
    },
    {
      "cell_type": "markdown",
      "metadata": {
        "id": "cz37Wx2C6-_v",
        "colab_type": "text"
      },
      "source": [
        "Mệnh đề ```finally``` sẽ luôn luôn được thực thi trước khi thực thi rời khỏi khối ```try```, dù cho một ngoại lệ có xảy ra hay không. Khi một ngoại lệ xảy ra trong mệnh đề ```try``` và nó không được xử lý bởi mệnh đề ```except``` (hoặc có một mệnh đề ```except``` hay ```else``` xử lý nó), nó sẽ được khởi lệ sau mệnh đề ```finally``` được thực thi. Mệnh đề ```finally``` vẫn được thực thi bất chấp khi có còn lại một mệnh đề khác của câu lệnh ```try``` thông qua các câu lệnh ```break```, ```continue``` hoặc ```return``` hay không."
      ]
    },
    {
      "cell_type": "code",
      "metadata": {
        "id": "XmtbcQS18CnT",
        "colab_type": "code",
        "colab": {}
      },
      "source": [
        "def divide(x, y):\n",
        "  try:\n",
        "    result = x / y\n",
        "    # Nếu có ngoại lệ xảy ra do chia một số cho số 0\n",
        "  except ZeroDivisionError:\n",
        "    print(\"division by zero!\")\n",
        "    # Nếu không có ngoại lệ xảy ra trong mệnh đề try\n",
        "  else:\n",
        "    print(\"result is\", result)\n",
        "   # In ra dòng chào bất kể khi có ngoại lệ hay không\n",
        "  finally:\n",
        "    print(\"executing finally clause\")\n",
        "    "
      ],
      "execution_count": 0,
      "outputs": []
    },
    {
      "cell_type": "code",
      "metadata": {
        "id": "B0dunZQ38mwd",
        "colab_type": "code",
        "colab": {
          "base_uri": "https://localhost:8080/",
          "height": 53
        },
        "outputId": "8e85a52b-eb30-43dd-8324-c3a6656082f2"
      },
      "source": [
        "# Không có ngoại lệ xảy ra, mệnh đề else được thực thi, và sau đó là mệnh đề finally\n",
        "divide(2, 1)"
      ],
      "execution_count": 36,
      "outputs": [
        {
          "output_type": "stream",
          "text": [
            "result is 2.0\n",
            "executing finally clause\n"
          ],
          "name": "stdout"
        }
      ]
    },
    {
      "cell_type": "code",
      "metadata": {
        "id": "t2mbGFlE8wHE",
        "colab_type": "code",
        "colab": {
          "base_uri": "https://localhost:8080/",
          "height": 53
        },
        "outputId": "12fb71cb-78e5-459a-d83b-f8e83e29d7cf"
      },
      "source": [
        "# Ngoại lệ xảy ra, mệnh đề except được thực thi, và sau đó là finally\n",
        "divide(2, 0)"
      ],
      "execution_count": 37,
      "outputs": [
        {
          "output_type": "stream",
          "text": [
            "division by zero!\n",
            "executing finally clause\n"
          ],
          "name": "stdout"
        }
      ]
    },
    {
      "cell_type": "code",
      "metadata": {
        "id": "ACMbil3h83j_",
        "colab_type": "code",
        "colab": {
          "base_uri": "https://localhost:8080/",
          "height": 313
        },
        "outputId": "c21a0047-cd1b-43f8-bde1-1399b952d46f"
      },
      "source": [
        "# Không có một ngoại lệ nào bắt được lỗi xảy ra trong input này\n",
        "# Thông báo lỗi được in ra sau mệnh đề finally\n",
        "divide(\"2\", \"1\")"
      ],
      "execution_count": 38,
      "outputs": [
        {
          "output_type": "stream",
          "text": [
            "executing finally clause\n"
          ],
          "name": "stdout"
        },
        {
          "output_type": "error",
          "ename": "TypeError",
          "evalue": "ignored",
          "traceback": [
            "\u001b[0;31m---------------------------------------------------------------------------\u001b[0m",
            "\u001b[0;31mTypeError\u001b[0m                                 Traceback (most recent call last)",
            "\u001b[0;32m<ipython-input-38-3ad63cdb9b7d>\u001b[0m in \u001b[0;36m<module>\u001b[0;34m()\u001b[0m\n\u001b[0;32m----> 1\u001b[0;31m \u001b[0mdivide\u001b[0m\u001b[0;34m(\u001b[0m\u001b[0;34m\"2\"\u001b[0m\u001b[0;34m,\u001b[0m \u001b[0;34m\"1\"\u001b[0m\u001b[0;34m)\u001b[0m\u001b[0;34m\u001b[0m\u001b[0;34m\u001b[0m\u001b[0m\n\u001b[0m",
            "\u001b[0;32m<ipython-input-34-c515aac2663f>\u001b[0m in \u001b[0;36mdivide\u001b[0;34m(x, y)\u001b[0m\n\u001b[1;32m      1\u001b[0m \u001b[0;32mdef\u001b[0m \u001b[0mdivide\u001b[0m\u001b[0;34m(\u001b[0m\u001b[0mx\u001b[0m\u001b[0;34m,\u001b[0m \u001b[0my\u001b[0m\u001b[0;34m)\u001b[0m\u001b[0;34m:\u001b[0m\u001b[0;34m\u001b[0m\u001b[0;34m\u001b[0m\u001b[0m\n\u001b[1;32m      2\u001b[0m   \u001b[0;32mtry\u001b[0m\u001b[0;34m:\u001b[0m\u001b[0;34m\u001b[0m\u001b[0;34m\u001b[0m\u001b[0m\n\u001b[0;32m----> 3\u001b[0;31m     \u001b[0mresult\u001b[0m \u001b[0;34m=\u001b[0m \u001b[0mx\u001b[0m \u001b[0;34m/\u001b[0m \u001b[0my\u001b[0m\u001b[0;34m\u001b[0m\u001b[0;34m\u001b[0m\u001b[0m\n\u001b[0m\u001b[1;32m      4\u001b[0m     \u001b[0;31m# Nếu có ngoại lệ xảy ra do chia một số cho số 0\u001b[0m\u001b[0;34m\u001b[0m\u001b[0;34m\u001b[0m\u001b[0;34m\u001b[0m\u001b[0m\n\u001b[1;32m      5\u001b[0m   \u001b[0;32mexcept\u001b[0m \u001b[0mZeroDivisionError\u001b[0m\u001b[0;34m:\u001b[0m\u001b[0;34m\u001b[0m\u001b[0;34m\u001b[0m\u001b[0m\n",
            "\u001b[0;31mTypeError\u001b[0m: unsupported operand type(s) for /: 'str' and 'str'"
          ]
        }
      ]
    },
    {
      "cell_type": "markdown",
      "metadata": {
        "id": "tfqO-nbK9gvu",
        "colab_type": "text"
      },
      "source": [
        "Mệnh đề ```finally``` được  thực thi trong bất cứ trường hợp nào kể trên. Ngoại lệ ```TypeError``` được khởi lên khi ta chia hai chuỗi cho nhau, và ngoại lệ này không được xử lý bởi bất cứ mệnh đề ```except``` nào và do đó nó được khởi lại sau mệnh đề ```finally``` được thực thi. \n",
        "\n",
        "Trong các ứng dụng thực tế, mệnh đề ```finally``` hữu ích trong việc giải phóng các tài nguyên bên ngoài (ví dụ như các tệp tin hoặc các kết nối mạng), bất kể khi việc sử dụng các tài nguyên trên có được hay không."
      ]
    },
    {
      "cell_type": "markdown",
      "metadata": {
        "id": "fdlsTRon-mHO",
        "colab_type": "text"
      },
      "source": [
        "##8. Các tác vụ dọn dẹp được định nghĩa trước\n",
        "Một vài đối tượng định nghĩa các hành động dọn dẹp chuẩn được diễn ra khi đối tượng đó không còn được sử dụng nữa, bất kể khi thao tác trên đối tượng này có thành công hay không. Ví dụ dưới đây thực hiện việc mở một tệp tin và hiển thị nội dung của nó trên màn hình"
      ]
    },
    {
      "cell_type": "markdown",
      "metadata": {
        "id": "VtpKorID_IhV",
        "colab_type": "text"
      },
      "source": [
        "    "
      ]
    },
    {
      "cell_type": "code",
      "metadata": {
        "id": "apB7unKH-j2H",
        "colab_type": "code",
        "colab": {}
      },
      "source": [
        "for line in open(\"myfile.txt\"):\n",
        "  print(line, end=\"\")"
      ],
      "execution_count": 0,
      "outputs": []
    },
    {
      "cell_type": "markdown",
      "metadata": {
        "id": "sI3namla_cy9",
        "colab_type": "text"
      },
      "source": [
        "Vấn đề đối với đoạn mã trên là khi nó thực hiện xong tác vụ nó để cho tên tin mở với một thời gian không thể được xác định. Đối với các scripts nhỏ thì không gặp vấn đề gì lắm, nhưng nó có thể là vấn đề cho các ứng dụng lớn hơn.  Câu lệnh ```with``` cho phép các đối tượng như tệp tin  luôn luôn được đóng lại khi không còn cần thiết nữa "
      ]
    },
    {
      "cell_type": "code",
      "metadata": {
        "id": "g7VCAwGP_b4d",
        "colab_type": "code",
        "colab": {}
      },
      "source": [
        "with open(\"myfile.txt\") as f:\n",
        "  for line in f:\n",
        "    print(line, end=\"\")"
      ],
      "execution_count": 0,
      "outputs": []
    },
    {
      "cell_type": "markdown",
      "metadata": {
        "id": "WQfJV883AQNt",
        "colab_type": "text"
      },
      "source": [
        "Sau khi các câu lệnh bên trong mệnh đề ```with``` được thực thi, tệp tin ```f``` luôn luôn được đóng lại, thậm chí trong khi ta gặp các vấn đề trong khi xử lý file f, nó vẫn được đóng. Các đối tượng như tệp tin, các đối tượng cung cấp các tác vụ dọn dẹp sẽ cho ta thông tin về các tính năng dọn dẹp trong tài liệu."
      ]
    },
    {
      "cell_type": "code",
      "metadata": {
        "id": "DBrI1ThCA5OT",
        "colab_type": "code",
        "colab": {}
      },
      "source": [
        ""
      ],
      "execution_count": 0,
      "outputs": []
    }
  ]
}