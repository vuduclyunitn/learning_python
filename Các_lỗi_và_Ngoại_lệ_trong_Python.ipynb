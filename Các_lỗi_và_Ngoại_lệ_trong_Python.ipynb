{
  "nbformat": 4,
  "nbformat_minor": 0,
  "metadata": {
    "colab": {
      "name": "Các lỗi và Ngoại lệ trong Python.ipynb",
      "version": "0.3.2",
      "provenance": [],
      "include_colab_link": true
    },
    "kernelspec": {
      "name": "python3",
      "display_name": "Python 3"
    }
  },
  "cells": [
    {
      "cell_type": "markdown",
      "metadata": {
        "id": "view-in-github",
        "colab_type": "text"
      },
      "source": [
        "<a href=\"https://colab.research.google.com/github/vuduclyunitn/learning_python/blob/master/C%C3%A1c_l%E1%BB%97i_v%C3%A0_Ngo%E1%BA%A1i_l%E1%BB%87_trong_Python.ipynb\" target=\"_parent\"><img src=\"https://colab.research.google.com/assets/colab-badge.svg\" alt=\"Open In Colab\"/></a>"
      ]
    },
    {
      "cell_type": "code",
      "metadata": {
        "id": "GSrNcqkb2wvL",
        "colab_type": "code",
        "colab": {}
      },
      "source": [
        ""
      ],
      "execution_count": 0,
      "outputs": []
    },
    {
      "cell_type": "markdown",
      "metadata": {
        "id": "vbfIDSzk3jwR",
        "colab_type": "text"
      },
      "source": [
        "# Dịch và bổ sung từ https://docs.python.org/3/tutorial/errors.html"
      ]
    },
    {
      "cell_type": "markdown",
      "metadata": {
        "id": "pnKI_wvd29zp",
        "colab_type": "text"
      },
      "source": [
        "Có 2 kiểu lỗi ta có thể dễ dàng phân biệt đó là: lỗi cú pháp (syntax errors) và các ngoại lệ (exceptions)"
      ]
    },
    {
      "cell_type": "markdown",
      "metadata": {
        "id": "TGyOr0T73ums",
        "colab_type": "text"
      },
      "source": [
        "##1. Các lỗi cú pháp\n",
        "Các lỗi này còn được biết đến như là các lỗi phân tích cú pháp, và đây có lẽ là các lỗi bạn gặp nhiều khi bạn học Python. Dưới đây là một ví dụ:"
      ]
    },
    {
      "cell_type": "code",
      "metadata": {
        "id": "m_hq-W6n3tth",
        "colab_type": "code",
        "colab": {
          "base_uri": "https://localhost:8080/",
          "height": 134
        },
        "outputId": "60556085-1249-4a74-d340-6bf27505e774"
      },
      "source": [
        "while True print(\"Hello world\")"
      ],
      "execution_count": 1,
      "outputs": [
        {
          "output_type": "error",
          "ename": "SyntaxError",
          "evalue": "ignored",
          "traceback": [
            "\u001b[0;36m  File \u001b[0;32m\"<ipython-input-1-244c8c7a79f8>\"\u001b[0;36m, line \u001b[0;32m1\u001b[0m\n\u001b[0;31m    while True print(\"Hello world\")\u001b[0m\n\u001b[0m                   ^\u001b[0m\n\u001b[0;31mSyntaxError\u001b[0m\u001b[0;31m:\u001b[0m invalid syntax\n"
          ]
        }
      ]
    },
    {
      "cell_type": "markdown",
      "metadata": {
        "id": "weYv_bcK4hI6",
        "colab_type": "text"
      },
      "source": [
        "Trình phân tích của Python lặp lại dòng lỗi vi phạm này và hiển thị một mũi tên nhỏ chỉ ra vị trí bị lỗi trong dòng code được thực thi. Lỗi bị gây ra bởi phần code nằm *phía trước* mũi tên: trong ví dụ trên, mũi tên chỉ vào hàm ```print```, lý do là bởi vì ta thiếu một dấu hai chấm ```:``` trước hàm ```print```. Tên file và chỉ số của dòng code gây là lỗi được in ra để hỗ trợ việc tìm và sửa lỗi."
      ]
    },
    {
      "cell_type": "markdown",
      "metadata": {
        "id": "qmLCBH9d29Du",
        "colab_type": "text"
      },
      "source": [
        "##2. Các ngoại lệ\n",
        "Ngay cả khi một biểu diễn (gọi là statement hay expression) đúng về mặt ngữ pháp, nó cũng có thể tạo ra một lỗi khi cố gắng thực thi biểu diễn này. Các lỗi được phát hiện trong quá trình thực thi được gọi là các *ngoại lệ* và có thể làm cho chương trình của bạn kết thúc việc thực thi khi chưa hoàn thành nhiệm vụ của nó. Hầu hết các ngoại lệ không được xử lý bởi các chương trình, nó sẽ đưa ra các thông báo lỗi như các ví dụ dưới đây:"
      ]
    },
    {
      "cell_type": "code",
      "metadata": {
        "id": "c_qRcIVo7mED",
        "colab_type": "code",
        "colab": {
          "base_uri": "https://localhost:8080/",
          "height": 170
        },
        "outputId": "11ddd454-03e6-4ce3-8663-9a569d9d303a"
      },
      "source": [
        "# Lỗi chia một số cho số 0\n",
        "10 * (1/0)"
      ],
      "execution_count": 2,
      "outputs": [
        {
          "output_type": "error",
          "ename": "ZeroDivisionError",
          "evalue": "ignored",
          "traceback": [
            "\u001b[0;31m---------------------------------------------------------------------------\u001b[0m",
            "\u001b[0;31mZeroDivisionError\u001b[0m                         Traceback (most recent call last)",
            "\u001b[0;32m<ipython-input-2-0b280f36835c>\u001b[0m in \u001b[0;36m<module>\u001b[0;34m()\u001b[0m\n\u001b[0;32m----> 1\u001b[0;31m \u001b[0;36m10\u001b[0m \u001b[0;34m*\u001b[0m \u001b[0;34m(\u001b[0m\u001b[0;36m1\u001b[0m\u001b[0;34m/\u001b[0m\u001b[0;36m0\u001b[0m\u001b[0;34m)\u001b[0m\u001b[0;34m\u001b[0m\u001b[0;34m\u001b[0m\u001b[0m\n\u001b[0m",
            "\u001b[0;31mZeroDivisionError\u001b[0m: division by zero"
          ]
        }
      ]
    },
    {
      "cell_type": "code",
      "metadata": {
        "id": "P-YsCr_S7v7I",
        "colab_type": "code",
        "colab": {
          "base_uri": "https://localhost:8080/",
          "height": 170
        },
        "outputId": "6df20bcc-df62-46f1-a5ce-f5018eed0731"
      },
      "source": [
        "# Lỗi một biến 'spam' chưa được định nghĩa mà đã được sử dụng\n",
        "4 + spam*3"
      ],
      "execution_count": 3,
      "outputs": [
        {
          "output_type": "error",
          "ename": "NameError",
          "evalue": "ignored",
          "traceback": [
            "\u001b[0;31m---------------------------------------------------------------------------\u001b[0m",
            "\u001b[0;31mNameError\u001b[0m                                 Traceback (most recent call last)",
            "\u001b[0;32m<ipython-input-3-c98bb92cdcac>\u001b[0m in \u001b[0;36m<module>\u001b[0;34m()\u001b[0m\n\u001b[0;32m----> 1\u001b[0;31m \u001b[0;36m4\u001b[0m \u001b[0;34m+\u001b[0m \u001b[0mspam\u001b[0m\u001b[0;34m*\u001b[0m\u001b[0;36m3\u001b[0m\u001b[0;34m\u001b[0m\u001b[0;34m\u001b[0m\u001b[0m\n\u001b[0m",
            "\u001b[0;31mNameError\u001b[0m: name 'spam' is not defined"
          ]
        }
      ]
    },
    {
      "cell_type": "code",
      "metadata": {
        "id": "lqwS3N2S79yo",
        "colab_type": "code",
        "colab": {
          "base_uri": "https://localhost:8080/",
          "height": 170
        },
        "outputId": "d29add23-1032-4b0d-acc9-2d22e2e5ca3b"
      },
      "source": [
        "# Lỗi cộng hai kiểu khác nhau (ví dụ kiểu chuỗi (str) và kiểu số nguyên (int) )\n",
        "'2' + 2"
      ],
      "execution_count": 4,
      "outputs": [
        {
          "output_type": "error",
          "ename": "TypeError",
          "evalue": "ignored",
          "traceback": [
            "\u001b[0;31m---------------------------------------------------------------------------\u001b[0m",
            "\u001b[0;31mTypeError\u001b[0m                                 Traceback (most recent call last)",
            "\u001b[0;32m<ipython-input-4-d2b23a1db757>\u001b[0m in \u001b[0;36m<module>\u001b[0;34m()\u001b[0m\n\u001b[0;32m----> 1\u001b[0;31m \u001b[0;34m'2'\u001b[0m \u001b[0;34m+\u001b[0m \u001b[0;36m2\u001b[0m\u001b[0;34m\u001b[0m\u001b[0;34m\u001b[0m\u001b[0m\n\u001b[0m",
            "\u001b[0;31mTypeError\u001b[0m: must be str, not int"
          ]
        }
      ]
    },
    {
      "cell_type": "markdown",
      "metadata": {
        "id": "V6_6Dg1L8PvD",
        "colab_type": "text"
      },
      "source": [
        "Dòng cuối cùng trong các thông điệp lỗi phía trên chỉ ra những điều đã xảy ra với đoạn code của ta. Có nhiều kiểu ngoại lệ, và thông tin về kiểu ngoại lệ được hiển thị ngay phần đầu trong dòng thông điệp giải thích lỗi: một vài các ngoại lệ ví dụ như là ```ZeroDivisionError```, ```NameError``` và ```TypeError```. Đối với các ngoại lệ có sẵn (built-in exception), khi chương trình của ta gặp các ngoại lệ này ta sẽ thấy được tên và kiểu của chúng trong đoạn thông báo lỗi. Tuy nhiên với các ngoại lệ được định nghĩa bởi người dùng đôi khi ta có thể không thấy được các thông tin này (mặc cho đó là quy chuẩn hữu ích khi xử lý các ngoại lệ). Chú ý rằng các tên ngoại lệ có sẵn là các nhận dạng có sẵn (không phải là các từ khóa được dự trữ)"
      ]
    },
    {
      "cell_type": "code",
      "metadata": {
        "id": "60yJMX7L-KJe",
        "colab_type": "code",
        "colab": {}
      },
      "source": [
        ""
      ],
      "execution_count": 0,
      "outputs": []
    }
  ]
}