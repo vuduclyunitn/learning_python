{
  "nbformat": 4,
  "nbformat_minor": 0,
  "metadata": {
    "colab": {
      "name": "Lập trình hướng đối tượng.ipynb",
      "provenance": [],
      "collapsed_sections": [],
      "include_colab_link": true
    },
    "kernelspec": {
      "name": "python3",
      "display_name": "Python 3"
    }
  },
  "cells": [
    {
      "cell_type": "markdown",
      "metadata": {
        "id": "view-in-github",
        "colab_type": "text"
      },
      "source": [
        "<a href=\"https://colab.research.google.com/github/vuduclyunitn/learning_python/blob/master/L%E1%BA%ADp_tr%C3%ACnh_h%C6%B0%E1%BB%9Bng_%C4%91%E1%BB%91i_t%C6%B0%E1%BB%A3ng.ipynb\" target=\"_parent\"><img src=\"https://colab.research.google.com/assets/colab-badge.svg\" alt=\"Open In Colab\"/></a>"
      ]
    },
    {
      "cell_type": "code",
      "metadata": {
        "id": "9e_PzN0qapof",
        "colab_type": "code",
        "colab": {}
      },
      "source": [
        ""
      ],
      "execution_count": 0,
      "outputs": []
    },
    {
      "cell_type": "markdown",
      "metadata": {
        "id": "HXzoYWH5atlT",
        "colab_type": "text"
      },
      "source": [
        "# Dịch từ https://python.swaroopch.com/oop.html"
      ]
    },
    {
      "cell_type": "markdown",
      "metadata": {
        "id": "FLXAI-CZayIk",
        "colab_type": "text"
      },
      "source": [
        "Chúng ta đã thiết kế chương trình sử dụng các hàm, đó là những đoạn mã thao tác trên dữ liệu. Nó còn được gọi là kiểu lập trình hướng thủ tục (*procedure-oriented*). Có một cách khác tổ chức chương trình của bạn thông qua việc kết hợp dữ liệu và tính năng, gói chúng bên trong một đối tượng (*object*). Cách này gọi là lập trình hướng đối tượng (*object oriented*). Hầu hết mọi lúc bạn có thể sử dụng lập trình hướng thủ tục, nhưng khi viết các chương trình lớn hoặc khi bạn có một vấn đề có thể giải quyết tốt hơn với phương thức này, bạn có thể sử dụng các kĩ thuật lập trình hướng đối tượng.\n",
        "\n",
        "Các lớp (classes) và các đối tượng (objects) là hai khía chính của lập trình hướng đối tượng. Một lớp tạo ra một kiểu (type) còn đối tượng là các thực thể (instances) của lớp. Bạn hình dung rằng bạn có thể có các biết kiểu ```int``` và bạn có thể nói rằng các biến  lưu các số nguyên là các hiện thực hay đối tượng của lớp ```int```.\n",
        "\n",
        "Chú ý cho những lập trình viên ngôn ngữ tĩnh\n",
        "Chú ý rằng các số nguyên cũng được xem như là các đối tượng (của lớp ```int```). Điều này không giống với C++ và Java (trước phiên bản 1.5) ở đó các số nguyên là các kiểu nguyên mẫu (primitive native types)\n",
        "\n",
        "Các đối tượng có thể lưu dữ liệu sử dụng các biến bình thường thuộc về đối tượng. Các biến thuộc về một đối tượng hoặc lớp được biết tói như là các trường (fields). Các đối tượng có thể có tính năng thông qua việc sử dụng các hàm thuộc về một lớp. Các hàm này được gọi là các phương thức của lớp. Thuật ngữ này quan trọng bởi vì nó giúp chúng ta phân biệt được các hàm và biến, những thứ độc lập với nhau và thuộc về một lớp hoặc đối tượng. Tóm lại, các trường và các phương thức có thể được nhắc tới như là các thuộc tính (attributes) của lớp đó.\n",
        "\n",
        "Có hai kiểu trường - các trường thuộc về đối tượng của lớp hoặc các trường thuộc về lớp đó. Chúng được gọi là các biến hiện thực hoặc các biến lớp tương ứng.\n",
        "\n",
        "Một lớp được tạo sử dụng từ khoá ```class```. Các trường và các phương thức của lớp được viết trong một khối thụt lùi."
      ]
    },
    {
      "cell_type": "markdown",
      "metadata": {
        "id": "3f_lKgoHZ9f_",
        "colab_type": "text"
      },
      "source": [
        "## Biến self\n",
        "Các phương thức lớp có một điểm khác biệt với các hàm bình thường đó là chúng phải có một biến đầu tiên trong danh sách các tham số nhưng bạn không cần phải truyền giá trị cho tham số này khi bạn gọi phương thức đó, Python sẽ cung cấp giá trị đó. Biến cụ thể này trỏ tới chính đối tượng đó, biến đó có tên là ```self```. \n",
        "\n",
        "Mặc dù, bạn có thể dùng bất cứ tên nào cho tham số này, sử dụng ```self``` được khuyến nghị vì khi bạn sử dụng một tên chuẩn, người đọc code của bạn sẽ lập tức nhận ra biến đó và các IDE chuyện dụng có thể hỗ trợ bạn nếu bạn sử dụng ```self```.\n",
        "\n",
        "Chú ý cho các lập trình viên C++/Java/C#: Biến ```self``` tương ứng với con trỏ ```this``` trong C++ và tham chiếu ```this``` trong Java và C#.\n",
        "\n",
        "Bạn có thể thắc mắc về cách Python gán giá trị cho ```self``` và tại sao ta không phải gán giá trị cho biến này. Qua một ví dụ sẽ làm điều này sáng tỏ. Giả định bạn có một lớp tên là ```MyClass``` và một hiện thực của lớp đó gọi là ```myobject```. Khi bạn gọi một phương thức trên đối tượng này bạn dùng ```myobject.method(arg1, arg2)```, Python tự động chuyển sang ```MyClass.method(myobject, arg1, arg2)``` - chuyển từ một lời gọi trên một phương thức sang một lời gọi của lớp với tham số đầu tiên chính là đối tượng. Đó là tất cả tính năng của ```self```.\n",
        "\n",
        "Điều này có nghĩa là nếu bạn có một phương thức không nhận một tham số nào, nhưng bạn phải có một tham số bắt buộc đó là ```self```."
      ]
    },
    {
      "cell_type": "code",
      "metadata": {
        "id": "z5mEw45waw51",
        "colab_type": "code",
        "colab": {}
      },
      "source": [
        ""
      ],
      "execution_count": 0,
      "outputs": []
    }
  ]
}