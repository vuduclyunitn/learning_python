{
  "nbformat": 4,
  "nbformat_minor": 0,
  "metadata": {
    "colab": {
      "name": "Lập trình hướng đối tượng.ipynb",
      "provenance": [],
      "collapsed_sections": [],
      "include_colab_link": true
    },
    "kernelspec": {
      "name": "python3",
      "display_name": "Python 3"
    }
  },
  "cells": [
    {
      "cell_type": "markdown",
      "metadata": {
        "id": "view-in-github",
        "colab_type": "text"
      },
      "source": [
        "<a href=\"https://colab.research.google.com/github/vuduclyunitn/learning_python/blob/master/L%E1%BA%ADp_tr%C3%ACnh_h%C6%B0%E1%BB%9Bng_%C4%91%E1%BB%91i_t%C6%B0%E1%BB%A3ng.ipynb\" target=\"_parent\"><img src=\"https://colab.research.google.com/assets/colab-badge.svg\" alt=\"Open In Colab\"/></a>"
      ]
    },
    {
      "cell_type": "code",
      "metadata": {
        "id": "9e_PzN0qapof",
        "colab_type": "code",
        "colab": {}
      },
      "source": [
        ""
      ],
      "execution_count": 0,
      "outputs": []
    },
    {
      "cell_type": "markdown",
      "metadata": {
        "id": "HXzoYWH5atlT",
        "colab_type": "text"
      },
      "source": [
        "# Dịch từ https://python.swaroopch.com/oop.html"
      ]
    },
    {
      "cell_type": "markdown",
      "metadata": {
        "id": "FLXAI-CZayIk",
        "colab_type": "text"
      },
      "source": [
        "Chúng ta đã thiết kế chương trình sử dụng các hàm, đó là những đoạn mã thao tác trên dữ liệu. Nó còn được gọi là kiểu lập trình hướng thủ tục (*procedure-oriented*). Có một cách khác tổ chức chương trình của bạn thông qua việc kết hợp dữ liệu và tính năng, gói chúng bên trong một đối tượng (*object*). Cách này gọi là lập trình hướng đối tượng (*object oriented*). Hầu hết mọi lúc bạn có thể sử dụng lập trình hướng thủ tục, nhưng khi viết các chương trình lớn hoặc khi bạn có một vấn đề có thể giải quyết tốt hơn với phương thức này, bạn có thể sử dụng các kĩ thuật lập trình hướng đối tượng.\n",
        "\n",
        "Các lớp (classes) và các đối tượng (objects) là hai khía chính của lập trình hướng đối tượng. Một lớp tạo ra một kiểu (type) còn đối tượng là các thực thể (instances) của lớp. Bạn hình dung rằng bạn có thể có các biết kiểu ```int``` và bạn có thể nói rằng các biến  lưu các số nguyên là các hiện thực hay đối tượng của lớp ```int```.\n",
        "\n",
        "Chú ý cho những lập trình viên ngôn ngữ tĩnh\n",
        "Chú ý rằng các số nguyên cũng được xem như là các đối tượng (của lớp ```int```). Điều này không giống với C++ và Java (trước phiên bản 1.5) ở đó các số nguyên là các kiểu nguyên mẫu (primitive native types)\n",
        "\n",
        "Các đối tượng có thể lưu dữ liệu sử dụng các biến bình thường thuộc về đối tượng. Các biến thuộc về một đối tượng hoặc lớp được biết tói như là các trường (fields). Các đối tượng có thể có tính năng thông qua việc sử dụng các hàm thuộc về một lớp. Các hàm này được gọi là các phương thức của lớp. Thuật ngữ này quan trọng bởi vì nó giúp chúng ta phân biệt được các hàm và biến, những thứ độc lập với nhau và thuộc về một lớp hoặc đối tượng. Tóm lại, các trường và các phương thức có thể được nhắc tới như là các thuộc tính (attributes) của lớp đó.\n",
        "\n",
        "Có hai kiểu trường - các trường thuộc về đối tượng của lớp hoặc các trường thuộc về lớp đó. Chúng được gọi là các biến hiện thực hoặc các biến lớp tương ứng.\n",
        "\n",
        "Một lớp được tạo sử dụng từ khoá ```class```. Các trường và các phương thức của lớp được viết trong một khối thụt lùi."
      ]
    },
    {
      "cell_type": "markdown",
      "metadata": {
        "id": "3f_lKgoHZ9f_",
        "colab_type": "text"
      },
      "source": [
        "## Biến self\n",
        "Các phương thức lớp có một điểm khác biệt với các hàm bình thường đó là chúng phải có một biến đầu tiên trong danh sách các tham số nhưng bạn không cần phải truyền giá trị cho tham số này khi bạn gọi phương thức đó, Python sẽ cung cấp giá trị đó. Biến cụ thể này trỏ tới chính đối tượng đó, biến đó có tên là ```self```. \n",
        "\n",
        "Mặc dù, bạn có thể dùng bất cứ tên nào cho tham số này, sử dụng ```self``` được khuyến nghị vì khi bạn sử dụng một tên chuẩn, người đọc code của bạn sẽ lập tức nhận ra biến đó và các IDE chuyện dụng có thể hỗ trợ bạn nếu bạn sử dụng ```self```.\n",
        "\n",
        "Chú ý cho các lập trình viên C++/Java/C#: Biến ```self``` tương ứng với con trỏ ```this``` trong C++ và tham chiếu ```this``` trong Java và C#.\n",
        "\n",
        "Bạn có thể thắc mắc về cách Python gán giá trị cho ```self``` và tại sao ta không phải gán giá trị cho biến này. Qua một ví dụ sẽ làm điều này sáng tỏ. Giả định bạn có một lớp tên là ```MyClass``` và một hiện thực của lớp đó gọi là ```myobject```. Khi bạn gọi một phương thức trên đối tượng này bạn dùng ```myobject.method(arg1, arg2)```, Python tự động chuyển sang ```MyClass.method(myobject, arg1, arg2)``` - chuyển từ một lời gọi trên một phương thức sang một lời gọi của lớp với tham số đầu tiên chính là đối tượng. Đó là tất cả tính năng của ```self```.\n",
        "\n",
        "Điều này có nghĩa là nếu bạn có một phương thức không nhận một tham số nào, nhưng bạn phải có một tham số bắt buộc đó là ```self```."
      ]
    },
    {
      "cell_type": "markdown",
      "metadata": {
        "id": "MEoVLxNqcwD8",
        "colab_type": "text"
      },
      "source": [
        "## Lớp (Classes)\n",
        "\n",
        "Một class đơn giản nhất có thể là ví dụ dưới đây"
      ]
    },
    {
      "cell_type": "code",
      "metadata": {
        "id": "z5mEw45waw51",
        "colab_type": "code",
        "colab": {
          "base_uri": "https://localhost:8080/",
          "height": 34
        },
        "outputId": "b979cb14-8b80-4073-d1bd-495154fc2e01"
      },
      "source": [
        "class Person:\n",
        "  pass\n",
        "\n",
        "p = Person()\n",
        "print(p)"
      ],
      "execution_count": 1,
      "outputs": [
        {
          "output_type": "stream",
          "text": [
            "<__main__.Person object at 0x7f107a56a5f8>\n"
          ],
          "name": "stdout"
        }
      ]
    },
    {
      "cell_type": "markdown",
      "metadata": {
        "id": "l0lpSeXJdIv0",
        "colab_type": "text"
      },
      "source": [
        "### Cách hoạt động\n",
        "Chúng ta tạo một lớp sử dụng câu lệnh ```class``` và tên của lớp đó. Theo sau đó là một khối lệnh được thụt vào. Trong trường hợp trên, chúng ta có một khối với chỉ câu lệnh ```pass```.\n",
        "\n",
        "Sau đó, ta tạo một đối tượng (object) hay hiện thực (instance) sử dụng tên của lớp đó với các tham số truyền vào. Để xác minh, ta in ra kiểu của biến này, kết quả nói cho ta rằng ta có một hiện thực của lớp ```Person``` trong module ```__main__```. \n",
        "\n",
        "Chú ý rằng trong kết quả có cả địa chỉ nơi đối tượng được lưu. Địa chỉ này sẽ có giá trị khác nhau tuỳ vào mỗi máy tính."
      ]
    },
    {
      "cell_type": "markdown",
      "metadata": {
        "id": "eizWJ7Vfd4q7",
        "colab_type": "text"
      },
      "source": [
        "## Các phương thức (methods)\n",
        "\n",
        "Chúng ta đã \u001dnói về việc các lớp hay đối tượng có các phương thức như là các hàm ngoại trừ việc chúng có một biến thêm là ```self```. Dưới đây là một ví dụ về các phương thức này:"
      ]
    },
    {
      "cell_type": "code",
      "metadata": {
        "id": "FOO_dhxwdFBR",
        "colab_type": "code",
        "colab": {
          "base_uri": "https://localhost:8080/",
          "height": 34
        },
        "outputId": "37bee673-af43-4c93-850f-f51ecae5112f"
      },
      "source": [
        "class Person:\n",
        "  def say_hi(self):\n",
        "    print(\"Hello, how are you?\")\n",
        "\n",
        "p = Person()\n",
        "p.say_hi() # Ta cũng có thể viết Person().say_hi()\n",
        "\n"
      ],
      "execution_count": 2,
      "outputs": [
        {
          "output_type": "stream",
          "text": [
            "Hello, how are you?\n"
          ],
          "name": "stdout"
        }
      ]
    },
    {
      "cell_type": "markdown",
      "metadata": {
        "id": "hdNnQQ_Ref1-",
        "colab_type": "text"
      },
      "source": [
        "### Cách hoạt động\n",
        "\n",
        "Ở đây ta thấy cách sử dụng ```self```. Chú ý rằng phương thức ```say_hi``` không nhận một tham số nào cả nhưng vẫn có biến ```self``` trong định nghĩa hàm."
      ]
    },
    {
      "cell_type": "markdown",
      "metadata": {
        "id": "wZogkUMAer1a",
        "colab_type": "text"
      },
      "source": [
        "## Phương thức __init__\n",
        "\n",
        "Có nhiều phương thức mang những tên có ý nghĩa đặc biệt trong các lớp Python.\n",
        "\n",
        "Phương thức ```__init__``` được chạy miễn là một đối tượng của lớp được khởi tạo (ví dụ là khi nó được tạo). Phương thức này được dùng khi ta muốn khởi tạo các giá trị (ví dụ gán các giá trị ban đầu cho đối tượng) bạn muốn cho đối tượng. Chú ý rằng phương thức này có hai dấu gạch gạch chân liên tiếp ở đầu và đuôi. Ví dụ: "
      ]
    },
    {
      "cell_type": "code",
      "metadata": {
        "id": "EbO5IaxseeNH",
        "colab_type": "code",
        "colab": {
          "base_uri": "https://localhost:8080/",
          "height": 34
        },
        "outputId": "0774d38f-a0c8-429b-8691-d694c8244004"
      },
      "source": [
        "class Person:\n",
        "  def __init__(self, name):\n",
        "    self.name = name\n",
        "\n",
        "  def say_hi(self):\n",
        "    print(\"Hello, my name is\", self.name)\n",
        "\n",
        "p = Person('Swaroop')\n",
        "p.say_hi()\n",
        "\n",
        "# Hai đoạn mã trên có thể viết gọn lại thành Person('Swaroop').say_hi()"
      ],
      "execution_count": 3,
      "outputs": [
        {
          "output_type": "stream",
          "text": [
            "Hello, my name is Swaroop\n"
          ],
          "name": "stdout"
        }
      ]
    },
    {
      "cell_type": "markdown",
      "metadata": {
        "id": "X8wZuE2Afn8V",
        "colab_type": "text"
      },
      "source": [
        "### Cách làm việc\n",
        "\n",
        "Ở đây, chúng ta định nghĩa phương thức ```__init__``` với một tham số là ```name``` cùng với ```self```. Chúng ta tạo một trường mới được gọi là ```name```. Chú ý rằng có hai biến khác nhau mặc dùng chúng đều được gọi là 'name'. Không có vấn đề gì cả bởi vì một biến ```self.name``` mang ý nghĩa là một phần của đối tượng trong khi ```name``` kia là một biến cục bộ. Bởi vì chúng ta chỉ ra rõ ràng biến nào chúng ta đề cập nên không gây ra sự nhầm lẫn.\n",
        "\n",
        "Khi tạo một hiện thực ```p```, của lớp ```Person```, chúng ta sử dụng tên lớp, và các tham số ở trong hai dấu ngoặc tròn.\n",
        "\n",
        "Chúng ta không gọi trực tiếp phương thức ```__init__```. Ý nghĩa đặc biệt của phương thức này giúp ta dễ dàng hơn trong việc khởi tạo các giá trị cho đối tượng.\n",
        "\n",
        "Sau khi khởi tạo, ta có thể sử dụng trường ```self.name``` trong các phương thức của chúng ta. Ví dụ như in ra trường đó trong phương thức ```say_hi```"
      ]
    },
    {
      "cell_type": "markdown",
      "metadata": {
        "id": "CTW7Q2wWg46F",
        "colab_type": "text"
      },
      "source": [
        "## Các biến lớp và đối tượng\n",
        "\n",
        "Chúng ta đã nói về phần tính năng của lớp và các đối tượng (ví dụ như các phương thức), bây giờ ta học về phần dữ liêu. Phần dữ liệu, ví dụ như các trường, chỉ là các biến bình thường được gán vào không gian tên (namespaces) của lớp và đối tượng. Điều này có nghĩa là các tên này chỉ có hiệu lực trong ngữ cảnh của các lớp và các đối tượng. Đó là lý do chúng được gọi là các không gian tên (name spaces).\n",
        "\n",
        "Các hai kiểu trường (fields) - các biến lớp và các biến đối tượng, chúng được phân loại phụ thuộc vào biến đó được sở hữu bởi lớp hay đối tượng\n",
        "\n",
        "**Các biến lớp** được chia sẻ - chúng có thể được truy cập bởi tất cả các hiện thực của lớp đó. Chỉ có một bản sao của biến lớp và khi bất cứ đối tượng nào thay đổi tới biến lớp, thay đổi này sẽ được nhìn thấy bởi tất cả các đối tượng hay hiện thực khác.\n",
        "\n",
        "**Các biến đối tượng** được sở hữu bởi mỗi hiện thực hay đối tượng của lớp này. Trong trường hợp này, mỗi đối tượng có bởi sao của trường này cho riêng đối tượng đó ví dụ, chúng không được chia sẻ và không liên quan tới trường cùng tên trong một hiện thực khác. Một ví dụ sẽ giúp dễ hiểu hơn"
      ]
    },
    {
      "cell_type": "code",
      "metadata": {
        "id": "cZaUOKRafmSG",
        "colab_type": "code",
        "colab": {
          "base_uri": "https://localhost:8080/",
          "height": 272
        },
        "outputId": "b1e0facb-38af-48aa-84da-e3f3da90989d"
      },
      "source": [
        "class Robot:\n",
        "  \"\"\"Represents a robot, with a name.\"\"\"\n",
        "\n",
        "  \n",
        "  population = 0\n",
        "\n",
        "  def __init__(self, name):\n",
        "    \"\"\"Initializes the data\"\"\"\n",
        "    self.name = name\n",
        "    print(\"(Initializing {})\".format(self.name))\n",
        "\n",
        "    # Khi người này được tạo, robot được thêm vào một population\n",
        "    Robot.population += 1\n",
        "\n",
        "  def die(self):\n",
        "    \"\"\"I am dying.\"\"\"\n",
        "    print(\"{} is being destroyed\".format(self.name))\n",
        "\n",
        "    Robot.population -= 1\n",
        "\n",
        "    if Robot.population == 0:\n",
        "      print(\"{} was the last one.\".format(self.name))\n",
        "    else:\n",
        "      print(\"There are still {:d} robots working\".format(Robot.population))\n",
        "\n",
        "  def say_hi(self):\n",
        "    \"\"\"Greeting by the robot\n",
        "    Yeath, they can do that.\n",
        "    \"\"\"\n",
        "    print(\"Greetings, my masters call me {}.\".format(self.name))\n",
        "\n",
        "  @classmethod\n",
        "  def how_many(cls):\n",
        "    \"\"\"Prints the current population.\"\"\"\n",
        "    print(\"We have {:d} robots.\".format(cls.population))\n",
        "\n",
        "droid1 = Robot(\"R2-D2\")\n",
        "droid1.say_hi()\n",
        "Robot.how_many()\n",
        "\n",
        "droid2 = Robot(\"C-3P0\")\n",
        "droid2.say_hi()\n",
        "Robot.how_many()\n",
        "\n",
        "print(\"\\nRobots can do some work here.\\n\")\n",
        "\n",
        "print(\"Robots have finished their work. So let's destroy them.\")\n",
        "droid1.die()\n",
        "droid2.die()\n",
        "\n",
        "Robot.how_many()\n"
      ],
      "execution_count": 5,
      "outputs": [
        {
          "output_type": "stream",
          "text": [
            "(Initializing R2-D2)\n",
            "Greetings, my masters call me R2-D2.\n",
            "We have 1 robots.\n",
            "(Initializing C-3P0)\n",
            "Greetings, my masters call me C-3P0.\n",
            "We have 2 robots.\n",
            "\n",
            "Robots can do some work here.\n",
            "\n",
            "Robots have finished their work. So let's destroy them.\n",
            "R2-D2 is being destroyed\n",
            "There are still 1 robots working\n",
            "C-3P0 is being destroyed\n",
            "C-3P0 was the last one.\n",
            "We have 0 robots.\n"
          ],
          "name": "stdout"
        }
      ]
    },
    {
      "cell_type": "code",
      "metadata": {
        "id": "UGl30ghikV7r",
        "colab_type": "code",
        "colab": {}
      },
      "source": [
        ""
      ],
      "execution_count": 0,
      "outputs": []
    }
  ]
}