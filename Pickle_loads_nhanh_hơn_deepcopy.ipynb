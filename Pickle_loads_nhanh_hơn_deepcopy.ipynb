{
  "nbformat": 4,
  "nbformat_minor": 0,
  "metadata": {
    "colab": {
      "name": "Pickle.loads nhanh hơn deepcopy.ipynb",
      "version": "0.3.2",
      "provenance": [],
      "include_colab_link": true
    },
    "kernelspec": {
      "name": "python3",
      "display_name": "Python 3"
    }
  },
  "cells": [
    {
      "cell_type": "markdown",
      "metadata": {
        "id": "view-in-github",
        "colab_type": "text"
      },
      "source": [
        "<a href=\"https://colab.research.google.com/github/vuduclyunitn/learning_python/blob/master/Pickle_loads_nhanh_h%C6%A1n_deepcopy.ipynb\" target=\"_parent\"><img src=\"https://colab.research.google.com/assets/colab-badge.svg\" alt=\"Open In Colab\"/></a>"
      ]
    },
    {
      "cell_type": "code",
      "metadata": {
        "id": "SA17ZJ-Xfm5K",
        "colab_type": "code",
        "colab": {
          "base_uri": "https://localhost:8080/",
          "height": 188
        },
        "outputId": "2b79e53d-2844-438d-de1b-44a7592431c6"
      },
      "source": [
        "!pip install environment"
      ],
      "execution_count": 2,
      "outputs": [
        {
          "output_type": "stream",
          "text": [
            "Collecting environment\n",
            "  Downloading https://files.pythonhosted.org/packages/ff/e7/3ea91d9ed699cbbe2155347b3bf2a515d0b79f4c7afb55c18b0488a5ed9d/environment-1.0.0.tar.gz\n",
            "Building wheels for collected packages: environment\n",
            "  Building wheel for environment (setup.py) ... \u001b[?25l\u001b[?25hdone\n",
            "  Created wheel for environment: filename=environment-1.0.0-cp36-none-any.whl size=5801 sha256=6367e74e0ccf6175ce0fc14a4e8f88e5f9ce3719561ca4197f40085239b769a0\n",
            "  Stored in directory: /root/.cache/pip/wheels/b6/e9/d8/0ff57f9c02e97578aa4b76772e359e2b2ae7ae330d51f66e93\n",
            "Successfully built environment\n",
            "Installing collected packages: environment\n",
            "Successfully installed environment-1.0.0\n"
          ],
          "name": "stdout"
        }
      ]
    },
    {
      "cell_type": "code",
      "metadata": {
        "id": "TLhWzt-YfvH3",
        "colab_type": "code",
        "colab": {}
      },
      "source": [
        "from environment import Environment"
      ],
      "execution_count": 0,
      "outputs": []
    },
    {
      "cell_type": "code",
      "metadata": {
        "id": "KWEfv4spfyuH",
        "colab_type": "code",
        "colab": {}
      },
      "source": [
        "from copy import deepcopy"
      ],
      "execution_count": 0,
      "outputs": []
    },
    {
      "cell_type": "code",
      "metadata": {
        "id": "JDGhdkTtf7Po",
        "colab_type": "code",
        "colab": {}
      },
      "source": [
        "import time, pickle"
      ],
      "execution_count": 0,
      "outputs": []
    },
    {
      "cell_type": "code",
      "metadata": {
        "id": "RP8N4uVcf8-z",
        "colab_type": "code",
        "colab": {}
      },
      "source": [
        "env = Environment()"
      ],
      "execution_count": 0,
      "outputs": []
    },
    {
      "cell_type": "code",
      "metadata": {
        "id": "EahYGfFIf-Yw",
        "colab_type": "code",
        "colab": {}
      },
      "source": [
        ""
      ],
      "execution_count": 0,
      "outputs": []
    },
    {
      "cell_type": "code",
      "metadata": {
        "id": "v9pvF2xVgAHd",
        "colab_type": "code",
        "colab": {
          "base_uri": "https://localhost:8080/",
          "height": 50
        },
        "outputId": "c76d7aa5-5355-4c2f-f0d6-e2d9ef95ced2"
      },
      "source": [
        "start_time = time.time()\n",
        "for _ in range(10000):\n",
        "  deep_result = deepcopy(env)\n",
        "print(f\"\\nDeepcopy - Time required: {(time.time() - start_time)*1000:.2f} ms\")"
      ],
      "execution_count": 11,
      "outputs": [
        {
          "output_type": "stream",
          "text": [
            "\n",
            "Deepcopy - Time required: 982.39 ms\n"
          ],
          "name": "stdout"
        }
      ]
    },
    {
      "cell_type": "code",
      "metadata": {
        "id": "MTbFY4owgUFh",
        "colab_type": "code",
        "colab": {
          "base_uri": "https://localhost:8080/",
          "height": 50
        },
        "outputId": "c4ef5855-4941-4c8a-9ce7-b2704694acae"
      },
      "source": [
        "start_time = time.time()\n",
        "for _ in range(10000):\n",
        "  pickle_result = pickle.loads(pickle.dumps(env))\n",
        "print(f\"\\nPickle - Time required: {(time.time() - start_time)*1000:.2f} ms\")  "
      ],
      "execution_count": 12,
      "outputs": [
        {
          "output_type": "stream",
          "text": [
            "\n",
            "Pickle - Time required: 249.60 ms\n"
          ],
          "name": "stdout"
        }
      ]
    },
    {
      "cell_type": "code",
      "metadata": {
        "id": "rkhfoJd9ggvJ",
        "colab_type": "code",
        "colab": {
          "base_uri": "https://localhost:8080/",
          "height": 34
        },
        "outputId": "a6c43cc8-a768-45c8-8d35-c9d7f7fad6e3"
      },
      "source": [
        "type(env)"
      ],
      "execution_count": 10,
      "outputs": [
        {
          "output_type": "execute_result",
          "data": {
            "text/plain": [
              "environment.Environment"
            ]
          },
          "metadata": {
            "tags": []
          },
          "execution_count": 10
        }
      ]
    },
    {
      "cell_type": "code",
      "metadata": {
        "id": "jNKF0IZ3gkMX",
        "colab_type": "code",
        "colab": {
          "base_uri": "https://localhost:8080/",
          "height": 34
        },
        "outputId": "2ebf65b1-8dac-4ccc-ecf0-7fa13449fe8a"
      },
      "source": [
        "deep_result == pickle_result"
      ],
      "execution_count": 13,
      "outputs": [
        {
          "output_type": "execute_result",
          "data": {
            "text/plain": [
              "False"
            ]
          },
          "metadata": {
            "tags": []
          },
          "execution_count": 13
        }
      ]
    },
    {
      "cell_type": "code",
      "metadata": {
        "id": "mw7E_qfXgw2D",
        "colab_type": "code",
        "colab": {
          "base_uri": "https://localhost:8080/",
          "height": 605
        },
        "outputId": "272dd649-73af-4347-9408-b0bb9c4858dd"
      },
      "source": [
        "dir(deep_result)"
      ],
      "execution_count": 16,
      "outputs": [
        {
          "output_type": "execute_result",
          "data": {
            "text/plain": [
              "['__class__',\n",
              " '__delattr__',\n",
              " '__dict__',\n",
              " '__dir__',\n",
              " '__doc__',\n",
              " '__eq__',\n",
              " '__format__',\n",
              " '__ge__',\n",
              " '__getattr__',\n",
              " '__getattribute__',\n",
              " '__gt__',\n",
              " '__hash__',\n",
              " '__init__',\n",
              " '__init_subclass__',\n",
              " '__le__',\n",
              " '__lt__',\n",
              " '__module__',\n",
              " '__ne__',\n",
              " '__new__',\n",
              " '__reduce__',\n",
              " '__reduce_ex__',\n",
              " '__repr__',\n",
              " '__setattr__',\n",
              " '__sizeof__',\n",
              " '__slotnames__',\n",
              " '__str__',\n",
              " '__subclasshook__',\n",
              " '__weakref__',\n",
              " 'environ',\n",
              " 'malformed',\n",
              " 'missing',\n",
              " 'parse',\n",
              " 'parsed',\n",
              " 'prefix',\n",
              " 'spec']"
            ]
          },
          "metadata": {
            "tags": []
          },
          "execution_count": 16
        }
      ]
    },
    {
      "cell_type": "code",
      "metadata": {
        "id": "MgVfKNDOgynn",
        "colab_type": "code",
        "colab": {
          "base_uri": "https://localhost:8080/",
          "height": 34
        },
        "outputId": "e1d1d5e5-bd64-4788-d84b-496038f3f7c2"
      },
      "source": [
        "pickle_result"
      ],
      "execution_count": 15,
      "outputs": [
        {
          "output_type": "execute_result",
          "data": {
            "text/plain": [
              "<environment.Environment at 0x7f18a981fc50>"
            ]
          },
          "metadata": {
            "tags": []
          },
          "execution_count": 15
        }
      ]
    },
    {
      "cell_type": "code",
      "metadata": {
        "id": "JRJWkSsVg0om",
        "colab_type": "code",
        "colab": {}
      },
      "source": [
        ""
      ],
      "execution_count": 0,
      "outputs": []
    }
  ]
}