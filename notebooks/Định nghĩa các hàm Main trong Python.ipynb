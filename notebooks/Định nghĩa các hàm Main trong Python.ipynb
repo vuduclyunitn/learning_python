{
 "cells": [
  {
   "cell_type": "markdown",
   "metadata": {},
   "source": [
    "**Tham khảo tại https://realpython.com/python-main-function/**"
   ]
  },
  {
   "cell_type": "markdown",
   "metadata": {},
   "source": [
    "Nhiều ngôn ngữ lập trình có một hàm đặc biệt được thực thi tự động khi một hệ điều hành chạy nó như là một chương trình. Hàm này thường được gọi là hàm main() và phải có một kiểu trả về cụ thể và các tham số cụ thể dựa theo chuẩn ngôn ngữ lập trình đó. Mặt khác, trình thông dịch Python thực thi các scripts từ đầu của file, và không có một hàm cụ thể nào mà Python sẽ thực thi tự động.\n",
    "\n",
    "Mặc dù vậy, định nghĩa điểm bắt đầu thực thi của một chương trình sẽ hữu dụng cho việc hiểu cách chương trình hoạt động. Các lập trình viên Python có một vài quy ước định nghĩa điểm bắt đầu này.\n",
    "\n",
    "**Bài viết này sẽ giúp ta hiểu các diều sau:**\n",
    "- Biến đặc biệt \\_\\_name\\_\\_ là gì và cách Python định nghĩa nó.\n",
    "- Tại sao bạn sẽ muốn sử dụng một hàm main() trong Python\n",
    "- Các quy ước cho việc định nghĩa main() trong Python\n",
    "- Các cách thực hành tốt nhất trong việc đặt code nào vào trong main()"
   ]
  },
  {
   "cell_type": "markdown",
   "metadata": {},
   "source": [
    "# Hàm main() căn bản"
   ]
  },
  {
   "cell_type": "markdown",
   "metadata": {},
   "source": [
    "Trong một vài Python scripts, bạn có thể thấy một định nghĩa hàm và một dòng lệnh điều kiện giống như ví dụ dưới đây:"
   ]
  },
  {
   "cell_type": "code",
   "execution_count": 1,
   "metadata": {},
   "outputs": [
    {
     "name": "stdout",
     "output_type": "stream",
     "text": [
      "Hello world!\n"
     ]
    }
   ],
   "source": [
    "def main():\n",
    "    print(\"Hello world!\")\n",
    "\n",
    "if __name__ == \"__main__\":\n",
    "    main()"
   ]
  },
  {
   "cell_type": "markdown",
   "metadata": {},
   "source": [
    "Trong đoạn code này, có một hàm gọi là main() in ra một câu **Hello World!** khi trình biên dịch thực thi nó. Cũng có một câu lệnh điều kiện để kiểm tra giá trị của \\_\\_name\\_\\_ và so sánh nó với string \"\\_\\_main\\_\\_\". Khi câu lệnh if này cho ra kết quả **True**, trình biên dịch Python thực thi main().\n",
    "\n",
    "Mẫu code trên khá phổ biến trong các files Python mà bạn muốn **thực thi như là một script** hoặc **được import và module khác**. Để giúp bạn hiểu hơn cách code này sẽ thực thi như thế nào, bạn nên hiểu cách trình biên idhcj Python thiết lập \\_\\_name\\_\\_  phụ thuộc vào cách code của bạn được thực thi."
   ]
  },
  {
   "cell_type": "markdown",
   "metadata": {},
   "source": [
    "# Các chế độ thực thi trong Python\n",
    "Có hai cách chính bạn có thể khiến trình biên dịch Python thực thi code hoặc là sử dụng code.\n",
    "\n",
    "1. Bạn có thể thưucj thi file chứa Python code như là một **script** sử dụng command line.\n",
    "2. Bạn có thể **import** Python code từ một file trong một file khác hoặc chính trong trình biên dịch tương tác.\n",
    "\n",
    "Bất kể là cách nào trong 2 cách trên, Python định nghĩa một biến đặc biệt được gọi là \\_\\_name\\_\\_ mà chứa một string sở hữu giá trị phụ thuộc vào cách code của bạn được sử dụng.\n",
    "\n",
    "Bạn sẽ sử dụng file ví dụ execution_methods.py chứa 3 dòng code sau:\n",
    "\n",
    "print(\"This is my file to test Python's execution methods.\") <br>\n",
    "print(\"The variable __name__ tells me which context this file is running in.\") <br>       \n",
    "print(\"The value of __name__ is:\", repr(__name__))"
   ]
  },
  {
   "cell_type": "code",
   "execution_count": 4,
   "metadata": {},
   "outputs": [
    {
     "name": "stdout",
     "output_type": "stream",
     "text": [
      "This is my file to test Python's execution methods.\r\n",
      "The variable __name__ tells me which context this file is running in.\r\n",
      "The value of __name__ is: '__main__'\r\n"
     ]
    }
   ],
   "source": [
    "!python execution_methods.py"
   ]
  },
  {
   "cell_type": "markdown",
   "metadata": {},
   "source": [
    "Ở đây ta có 3 lệnh print, 2 dòng lệnh đầu chỉ là in thông điệp bình thường, trong lệnh print thứ 3 ta in ra giá trị của biến \\_\\_name\\_\\_"
   ]
  },
  {
   "cell_type": "markdown",
   "metadata": {},
   "source": [
    "Bạn có thể thấy 3 từ **file**, **module**, và **script** hay được sử dụng trong bài này. Về thực hành, không có nhiều sự khác biệt giữa chúng lắm. Tuy nhiên có các khác biệt nhỏ giữa chúng theo nghĩa nhấn mạnh mục tiêu của đoạn code:\n",
    "1. **File**: Nói chung chỉ một file Python chứa code. Hầu hết các files Python có phần mở rộng .py.\n",
    "2. **Script**: Một Python script là một file mà thực thi từ command line để hoàn thành một công việc.\n",
    "3. *Module*: Một python module là một file mà bạn muốn import nó vào một script hay module khác, hoặc từ trình thông dịch tương tác."
   ]
  },
  {
   "cell_type": "code",
   "execution_count": null,
   "metadata": {},
   "outputs": [],
   "source": []
  }
 ],
 "metadata": {
  "kernelspec": {
   "display_name": "Python 3",
   "language": "python",
   "name": "python3"
  },
  "language_info": {
   "codemirror_mode": {
    "name": "ipython",
    "version": 3
   },
   "file_extension": ".py",
   "mimetype": "text/x-python",
   "name": "python",
   "nbconvert_exporter": "python",
   "pygments_lexer": "ipython3",
   "version": "3.7.3"
  }
 },
 "nbformat": 4,
 "nbformat_minor": 2
}
