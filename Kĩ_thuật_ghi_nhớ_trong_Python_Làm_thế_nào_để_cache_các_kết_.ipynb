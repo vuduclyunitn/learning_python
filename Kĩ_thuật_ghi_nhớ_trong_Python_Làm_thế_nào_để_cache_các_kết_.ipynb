{
  "nbformat": 4,
  "nbformat_minor": 0,
  "metadata": {
    "colab": {
      "name": "Kĩ thuật ghi nhớ trong Python: Làm thế nào để cache các kết .ipynb",
      "version": "0.3.2",
      "provenance": [],
      "include_colab_link": true
    },
    "kernelspec": {
      "name": "python3",
      "display_name": "Python 3"
    }
  },
  "cells": [
    {
      "cell_type": "markdown",
      "metadata": {
        "id": "view-in-github",
        "colab_type": "text"
      },
      "source": [
        "<a href=\"https://colab.research.google.com/github/vuduclyunitn/learning_python/blob/master/K%C4%A9_thu%E1%BA%ADt_ghi_nh%E1%BB%9B_trong_Python_L%C3%A0m_th%E1%BA%BF_n%C3%A0o_%C4%91%E1%BB%83_cache_c%C3%A1c_k%E1%BA%BFt_.ipynb\" target=\"_parent\"><img src=\"https://colab.research.google.com/assets/colab-badge.svg\" alt=\"Open In Colab\"/></a>"
      ]
    },
    {
      "cell_type": "markdown",
      "metadata": {
        "id": "79Yt4E405n7o",
        "colab_type": "text"
      },
      "source": [
        "#Dịch và bổ sung từ https://dbader.org/blog/python-memoization"
      ]
    },
    {
      "cell_type": "markdown",
      "metadata": {
        "id": "YKc7yBxR5_WW",
        "colab_type": "text"
      },
      "source": [
        "Trong bài này, ta sẽ tìm hiểu cách làm cho chương trình chạy nhanh hơn với một kĩ thuật gọi là ghi nhớ (*memoization*)\n",
        "\n",
        "**Kĩ thuật ghi nhớ là một kiểu caching chuyên dụng như là một kĩ thuật tối ưu**\n",
        "\n",
        "Cache được dùng để lưu các kết quả của một hành đồng và sau đó được sử dụng bởi các hành động sau đó. Ví dụ, trình duyệt web của bạn sẽ sử dụng một cache để nạp bài viết này nhanh hơn khi bạn đọc lại bài hướng dẫn này.\n",
        "\n",
        "Vì vậy khi tôi nói về sự ghi nhớ và Python nghĩa là tôi đang nói về việc ghi nhớ hay caching kết quả của một hàm dựa trên đầu vào của nó. \n",
        "\n",
        "Sự ghi nhớ cho phép ta tối ưu một hàm Python thông qua việc ghi lại kết quả của hàm này dựa trên các tham số bạn cung cấp cho nó. Mỗi khi bạn ghi nhớ một hàm, bạn sẽ chỉ tính toán kết quả của một hàm một lần cho một tập các tham số mà bạn cung cấp cho nó. Mọi lời gọi sau lời gọi đầu tiên sẽ được lấy về nhanh chống từ cache. \n",
        "\n",
        "Trong bài viết này, ta sẽ tìm hiểu cách vận dụng và khi nào thì vận dụng kĩ thuật đơn giản nhưng mạnh mẽ này, và bạn có thể sử dụng nó để tối ưu các chương trình của bạn và làm cho nó nhanh hơn trong một số trường hợp."
      ]
    },
    {
      "cell_type": "markdown",
      "metadata": {
        "id": "cB4DcvvA8hZH",
        "colab_type": "text"
      },
      "source": [
        "## Tại sao bạn nên sử dụng ghi nhớ và khi nào thì sử dụng ghi nhớ trong các chương trình của bạn.\n",
        "\n",
        "Câu trở lời là những đoạn mã đắt\n",
        "\n",
        "Khi bạn đang phân tích code, bạn chú ý đến nó chạy hết bao lâu và chiếm bao nhiêu bộ nhớ. Nếu đoạn mã bạn đang phân tích mất nhiều thời gian để chạy và tiêu tốn nhiều bộ nhớ, nó được gọi là code đắt (expensive code).\n",
        "\n",
        "Nó đắt là bởi vì nó tốn rất nhiều tài nguyên, không gian và thời gian để chạy. Khi bạn chạy mã đắt, nó tốn rất nhiều tài nguyên và chiếm các tài nguyên từ các chương trình khác trong máy của bạn.\n",
        "\n",
        "Nếu bạn muốn tăng tốc các phần code đắt này, sử dụng kĩ thuật ghi nhớ sẽ giúp bạn giải quyết được nhiều điều. Ta cùng tìm hiểu về kĩ thuật ghi nhớ trước khi triển khai nó.\n",
        "\n",
        "Tất cả các ví dụ tôi sử dụng trong bài này được viết bằng Python 3, nhưng nó cũng có thể áp dụng cho Python 2."
      ]
    },
    {
      "cell_type": "markdown",
      "metadata": {
        "id": "ALcoAJg9QGxl",
        "colab_type": "text"
      },
      "source": [
        "## Giải thích giải thuật ghi nhớ\n",
        "\n",
        "Giải thích ghi nhớ được diễn tả như sau:\n",
        "\n",
        "\n",
        "1.   Thiết lập một cấu trúc dữ liệu cache để lưu kết quả các hàm\n",
        "2.   Mỗi lần hàm được gọi, ta thực hiện những điều sau\n",
        "      \n",
        "\n",
        "      *   Trả về kết quả được ghi nhớ, nếu trong cache tồn tại.\n",
        "      *    Gọi hàm để tính toán kết quả bị sót, và sau đó cập nhật lại cache trước khi trả quả cho mã gọi.\n",
        "\n",
        "Với đủ lượng cache việc làm trên đảm bảo rằng các kết quả của một hàm với một tập các tham số sẽ chỉ được tính toán một lần.\n",
        "\n",
        "Miễn là chúng ta có một kết quả được lưu lại chúng ta sẽ không cần phải chạy lại hàm được ghi nhớ này cho với tập đầu vào giống như vậy nữa. Thay vào đó, ta chỉ cần lấy kết quả đã được ghi nhớ và trả về ngay lập tức.\n",
        "\n",
        "\n"
      ]
    },
    {
      "cell_type": "markdown",
      "metadata": {
        "id": "9J1OTxAkdn1o",
        "colab_type": "text"
      },
      "source": [
        "## Ta cùng viết một decorator ghi nhớ từ đầu\n",
        "\n",
        "Ta sẽ triển khai giải thuật nhớ phía trên như là một ```decorator``` vì đây là một cách thuận tiện để triển khai một hàm chung hay là các hàm bao (wrappers) trong Python:\n",
        "\n",
        "Một decorator là một hàm có đầu vào là một hàm khác và trả về một hàm khác. \n",
        "\n",
        "Dùng decorator cho phép ta triển khai giải thuật nhớ theo cách tổng quát và có thể tái sử dụng. Nếu bạn thấy nó còn mơ hồ, dễ lẫn lộn hãy nhìn vào các đoạn code dưới đây."
      ]
    },
    {
      "cell_type": "code",
      "metadata": {
        "id": "GJrS17AESc7w",
        "colab_type": "code",
        "colab": {}
      },
      "source": [
        "def memoize(func):\n",
        "  cache = dict()\n",
        "  \n",
        "  def memoized_func(*args):\n",
        "    if args in cache:\n",
        "      return cache[args]\n",
        "    result = func(*args)\n",
        "    cache[args] = result\n",
        "    return result\n",
        "  \n",
        "  return memoized_func"
      ],
      "execution_count": 0,
      "outputs": []
    },
    {
      "cell_type": "markdown",
      "metadata": {
        "id": "uqSnNr_7S8NB",
        "colab_type": "text"
      },
      "source": [
        "Decorator phía trên lấy vào một hàm và trả về một phiên bản bao (wrapped version) của cũng hàm đó, phiên bản bao này thực hiện này thực hiện việc ghi nhớ (```memoized_func```)"
      ]
    },
    {
      "cell_type": "markdown",
      "metadata": {
        "id": "fjE5azL2Tplj",
        "colab_type": "text"
      },
      "source": [
        "Ở đây ta sử dụng một từ điển (dictionary) như là một cache. Trong Python, khi ta muốn tìm kiếm một thứ gì từ điển. Do đó sử dụng ```dict``` cho phép ta lưu kết quả của hàm của hàm trong cache là tốt nhất."
      ]
    },
    {
      "cell_type": "markdown",
      "metadata": {
        "id": "zUGvR5EaUIcY",
        "colab_type": "text"
      },
      "source": [
        "Bất cứ khi nào hàm được decorate bị gọi, ta kiểm tra xem các tham số đã có sẵn trong cache hay không. Nếu chúng tồn tại, trả về kết quả được ghi nhớ. Thay vì tính toán lại kết quả, ta chỉ cần trả về kết quả từ cache. \n",
        "\n",
        "Nếu kết quả không tồn tại trong cache, bạn phải cập nhật lại để ta có thể tiết kiệm thời gian trong tương lai. Như vậy, đầu tiên ta tính toán kết quả còn thiếu, lưu nó vào trong cache, và trả kết quả về cho code gọi.\n"
      ]
    },
    {
      "cell_type": "markdown",
      "metadata": {
        "id": "PX2fmAffU21p",
        "colab_type": "text"
      },
      "source": [
        "Hãy cùng kiểm tra decorator ghi nhớ của chúng ta với hàm chuỗi số Fibonacci. Đầu tiên, ta sẽ định nghĩa một hàm tính toán số Fibonacci thứ ```n```"
      ]
    },
    {
      "cell_type": "code",
      "metadata": {
        "id": "g939Gr5sToy_",
        "colab_type": "code",
        "colab": {}
      },
      "source": [
        "def fibonacci(n):\n",
        "  if n == 0:\n",
        "    return 0\n",
        "  elif n == 1:\n",
        "    return 1\n",
        "  return fibonacci(n-1) + fibonacci(n-2)"
      ],
      "execution_count": 0,
      "outputs": []
    },
    {
      "cell_type": "markdown",
      "metadata": {
        "id": "ta2PGplXVXhM",
        "colab_type": "text"
      },
      "source": [
        "Hàm ```fibonacci``` phía trên là một ví dụ của một hàm tính toán đắt (expensive computation). Tính toán số Fibonacci thứ ```n``` có độ phức tạp thời gian ```O(2^n)``` - để hoàn thành nó ta mất thời gian theo cấp số mũ. Điều đó làm cho nó là một hàm đắt.\n",
        "\n",
        "Tiếp theo, ta sẽ tạo một chuẩn để đo lường độ đắt tính toán của hàm. Sử dụng module có sẵn ```timeit```` để tính toán thời gian thực thi theo giây của một câu lệnh Python.\n",
        "\n",
        "Dưới đây là code chúng ta sử dụng để đo lường thời gian thực thi của hàm ```fibonacci```"
      ]
    },
    {
      "cell_type": "code",
      "metadata": {
        "id": "GtKZ9OB8VRLU",
        "colab_type": "code",
        "colab": {
          "base_uri": "https://localhost:8080/",
          "height": 35
        },
        "outputId": "63866fa5-5c3d-46af-e304-ce61e0fa60fb"
      },
      "source": [
        "import timeit\n",
        "timeit.timeit('fibonacci(35)', globals=globals(), number=1)"
      ],
      "execution_count": 3,
      "outputs": [
        {
          "output_type": "execute_result",
          "data": {
            "text/plain": [
              "5.992539394999994"
            ]
          },
          "metadata": {
            "tags": []
          },
          "execution_count": 3
        }
      ]
    },
    {
      "cell_type": "markdown",
      "metadata": {
        "id": "33TEIBpZWbFe",
        "colab_type": "text"
      },
      "source": [
        "Như các bạn thấy, trên máy của tôi để thực hiện hàm này ta mất gần 6 giây. Rõ ràng đây là một hành động chậm và đắt."
      ]
    },
    {
      "cell_type": "markdown",
      "metadata": {
        "id": "aC3Uq6nHWwNx",
        "colab_type": "text"
      },
      "source": [
        "Nào hãy xem sử dụng tính năng caching đem lại hiệu quả thế nào"
      ]
    },
    {
      "cell_type": "code",
      "metadata": {
        "id": "-fXPGcRwWYDN",
        "colab_type": "code",
        "colab": {
          "base_uri": "https://localhost:8080/",
          "height": 35
        },
        "outputId": "4302937d-7480-4b4d-d740-7327a2502997"
      },
      "source": [
        "memoized_fibonacci = memoize(fibonacci)\n",
        "timeit.timeit('memoized_fibonacci(35)', globals=globals(), number=1)"
      ],
      "execution_count": 8,
      "outputs": [
        {
          "output_type": "execute_result",
          "data": {
            "text/plain": [
              "5.979804820999789"
            ]
          },
          "metadata": {
            "tags": []
          },
          "execution_count": 8
        }
      ]
    },
    {
      "cell_type": "markdown",
      "metadata": {
        "id": "kJll028hXahV",
        "colab_type": "text"
      },
      "source": [
        "Ta tiết kiệm được một chút thời gian khi sử dụng decorator ghi nhớ."
      ]
    },
    {
      "cell_type": "markdown",
      "metadata": {
        "id": "nwvMlJrvXzbF",
        "colab_type": "text"
      },
      "source": [
        "Tuy nhiên đó mới chỉ là lần chạy đầu tiên với một cache lạnh (cold) - là ta cache đó trống rỗng lúc đầu và không giúp ta cải thiện tốc độ gọi hàm gì nhiều. Nhưng hãy nhìn vào lần chạy thứ 2 hai này. "
      ]
    },
    {
      "cell_type": "code",
      "metadata": {
        "id": "ZXiT9IeQXIFA",
        "colab_type": "code",
        "colab": {
          "base_uri": "https://localhost:8080/",
          "height": 35
        },
        "outputId": "8fbddc7b-f85b-4e09-acca-3b6554185837"
      },
      "source": [
        "timeit.timeit('memoized_fibonacci(35)', globals=globals(), number=1)"
      ],
      "execution_count": 9,
      "outputs": [
        {
          "output_type": "execute_result",
          "data": {
            "text/plain": [
              "2.9860000267944997e-06"
            ]
          },
          "metadata": {
            "tags": []
          },
          "execution_count": 9
        }
      ]
    },
    {
      "cell_type": "markdown",
      "metadata": {
        "id": "bUFRfiIvYVD7",
        "colab_type": "text"
      },
      "source": [
        "Chú ý vào chuỗi kí  tự ```e-06``` ở cuối, ta chỉ mất khoangr 2 micro giây để hoàn thành hàm ```memoized_fibonacci``` ở lần chạy thứ 2. Một sự tăng đáng kể.\n",
        "\n",
        "Thay vì tính toán số Fibonacci thứ 35 ta chỉ cần lấy ra kết quả đã được ghi lại và trả nó về ngay lập tức, đó là lý do tại sao kết quả của ta nhanh hơn rất nhiều."
      ]
    },
    {
      "cell_type": "markdown",
      "metadata": {
        "id": "5KXuMADLZLCW",
        "colab_type": "text"
      },
      "source": [
        "## Mổ xẻ Cache \n",
        "\n",
        "Để hiểu sâu hơn cách kĩ thuật ghi nhớ hoạt động, tôi muốn cho bạn xem nội dụng của cache được sử dụng trong ví dụ trước.\n",
        "\n",
        "Để xem nội dung của cache bên trong hàm ```memoized_fibonacci``` ta sử dụng thuộc tính ```__closure``` của nó. "
      ]
    },
    {
      "cell_type": "code",
      "metadata": {
        "id": "tVrX9YYiXyKy",
        "colab_type": "code",
        "colab": {
          "base_uri": "https://localhost:8080/",
          "height": 35
        },
        "outputId": "e1f07fd4-c355-4539-ef6e-73083a46b958"
      },
      "source": [
        "memoized_fibonacci.__closure__[0].cell_contents"
      ],
      "execution_count": 11,
      "outputs": [
        {
          "output_type": "execute_result",
          "data": {
            "text/plain": [
              "{(35,): 9227465}"
            ]
          },
          "metadata": {
            "tags": []
          },
          "execution_count": 11
        }
      ]
    },
    {
      "cell_type": "markdown",
      "metadata": {
        "id": "osaJVkveZ0AH",
        "colab_type": "text"
      },
      "source": [
        "Từ điển cache là biến cục bộ đầu tiên và được lưu trong cell số 0. Tôi không khuyến khích bạn sử dụng kĩ thuật này trong code chạy sản phẩm nhưng đây là một mẹo để debugging.\n",
        "\n",
        "Như bạn có thể thấy, từ điển cache ánh xạ các tham số là các tuples và kết quả của hàm. Ví dụ ở đây ta thấy kết quả cho số fibonacci thứ 35 là 9227465."
      ]
    },
    {
      "cell_type": "code",
      "metadata": {
        "id": "d-nXqzlOZhTy",
        "colab_type": "code",
        "colab": {
          "base_uri": "https://localhost:8080/",
          "height": 35
        },
        "outputId": "1bd0dc7a-2dbc-4e62-86b5-709b49f0076e"
      },
      "source": [
        "fibonacci(35)"
      ],
      "execution_count": 12,
      "outputs": [
        {
          "output_type": "execute_result",
          "data": {
            "text/plain": [
              "9227465"
            ]
          },
          "metadata": {
            "tags": []
          },
          "execution_count": 12
        }
      ]
    },
    {
      "cell_type": "markdown",
      "metadata": {
        "id": "ltoOE1WIah2g",
        "colab_type": "text"
      },
      "source": [
        "Ta cùng làm một thực nghiệm nhỏ để biểu diễn cách hoạt động của cache. Tôi sẽ gọi ```memoized_fibonacci``` một vài lần để lấp giá trị vào cache và ta cùng mổ xẻ kết quả của nó một lần nữa"
      ]
    },
    {
      "cell_type": "code",
      "metadata": {
        "id": "n8NFBBe1afes",
        "colab_type": "code",
        "colab": {
          "base_uri": "https://localhost:8080/",
          "height": 35
        },
        "outputId": "0ff4d31d-b09e-4be8-9243-47b478e44656"
      },
      "source": [
        "memoized_fibonacci(1)\n"
      ],
      "execution_count": 13,
      "outputs": [
        {
          "output_type": "execute_result",
          "data": {
            "text/plain": [
              "1"
            ]
          },
          "metadata": {
            "tags": []
          },
          "execution_count": 13
        }
      ]
    },
    {
      "cell_type": "code",
      "metadata": {
        "id": "GWtNPm7Ga4rO",
        "colab_type": "code",
        "colab": {
          "base_uri": "https://localhost:8080/",
          "height": 35
        },
        "outputId": "be2c9d94-2d11-4f43-c7e4-71bfee475218"
      },
      "source": [
        "memoized_fibonacci(2)"
      ],
      "execution_count": 14,
      "outputs": [
        {
          "output_type": "execute_result",
          "data": {
            "text/plain": [
              "1"
            ]
          },
          "metadata": {
            "tags": []
          },
          "execution_count": 14
        }
      ]
    },
    {
      "cell_type": "code",
      "metadata": {
        "id": "7FB4x8Xta5Rw",
        "colab_type": "code",
        "colab": {
          "base_uri": "https://localhost:8080/",
          "height": 35
        },
        "outputId": "5925782e-1290-4c37-a0bf-04952bc4b79d"
      },
      "source": [
        "memoized_fibonacci(3)"
      ],
      "execution_count": 15,
      "outputs": [
        {
          "output_type": "execute_result",
          "data": {
            "text/plain": [
              "2"
            ]
          },
          "metadata": {
            "tags": []
          },
          "execution_count": 15
        }
      ]
    },
    {
      "cell_type": "code",
      "metadata": {
        "id": "1xKc8tfma6wE",
        "colab_type": "code",
        "colab": {
          "base_uri": "https://localhost:8080/",
          "height": 35
        },
        "outputId": "f2d3c9e9-b08a-4799-f619-067457ee1d3e"
      },
      "source": [
        "memoized_fibonacci(4)"
      ],
      "execution_count": 16,
      "outputs": [
        {
          "output_type": "execute_result",
          "data": {
            "text/plain": [
              "3"
            ]
          },
          "metadata": {
            "tags": []
          },
          "execution_count": 16
        }
      ]
    },
    {
      "cell_type": "code",
      "metadata": {
        "id": "2UpeONlMa8J-",
        "colab_type": "code",
        "colab": {
          "base_uri": "https://localhost:8080/",
          "height": 35
        },
        "outputId": "60b719fc-f750-4883-ac30-03aad0067899"
      },
      "source": [
        "memoized_fibonacci(5)"
      ],
      "execution_count": 17,
      "outputs": [
        {
          "output_type": "execute_result",
          "data": {
            "text/plain": [
              "5"
            ]
          },
          "metadata": {
            "tags": []
          },
          "execution_count": 17
        }
      ]
    },
    {
      "cell_type": "code",
      "metadata": {
        "id": "XRKVE6ana-cC",
        "colab_type": "code",
        "colab": {
          "base_uri": "https://localhost:8080/",
          "height": 35
        },
        "outputId": "a07c673a-fe50-42a9-e4e2-161a2fbde49e"
      },
      "source": [
        "memoized_fibonacci.__closure__[0].cell_contents"
      ],
      "execution_count": 18,
      "outputs": [
        {
          "output_type": "execute_result",
          "data": {
            "text/plain": [
              "{(1,): 1, (2,): 1, (3,): 2, (4,): 3, (5,): 5, (35,): 9227465}"
            ]
          },
          "metadata": {
            "tags": []
          },
          "execution_count": 18
        }
      ]
    },
    {
      "cell_type": "markdown",
      "metadata": {
        "id": "BTMeY9J-bB-R",
        "colab_type": "text"
      },
      "source": [
        "Như bạn có thể thấy, từ điển cache hiện tại chứa kết quả cho một vài inputs khác nhau cho hàm ```memoized_fibonacci```. Nó sẽ giúp ta lấy ra kết quả nhanh hơn từ cache thay vì tính toán lại chúng từ đầu."
      ]
    },
    {
      "cell_type": "markdown",
      "metadata": {
        "id": "ptbh2RmhbVhP",
        "colab_type": "text"
      },
      "source": [
        "**Cảnh báo**: trong ví dụ này kích thước cache của ta không được giới hạn, nghĩa là cache có thể phát triển tự nhiên như nó muốn. Đây không phải là một cách làm tốt bởi vì có thể dẫn tới các lỗi về hết bộ nhớ trong chương trình của bạn.\n",
        "\n",
        "Với bất cứ kiểu ghi nhớ nào, ta cần đặt giới hạn lượng dữ liệu nó có thể giữ trong cache tại cùng một thời điểm. Ta có thể làm việc đó thông qua việc thiết lập các giới hạn cứng về kích thước cache hay định nghĩa một chính sách hết hạn để trục xuất các phần tử khỏi cache tại một số thời điểm.\n",
        "\n",
        "Nhớ rằng hàm ```memoize``` ta viết ở trên chỉ nhằm mục đích giới thiệu kĩ thuật ghi nhớ. Trong phần sau bạn sẽ thấy được cách triển khai trong sản phẩm."
      ]
    },
    {
      "cell_type": "markdown",
      "metadata": {
        "id": "gUowZYgXcqOD",
        "colab_type": "text"
      },
      "source": [
        "## Sử dụng ```functools.lru_cache``` hỗ trợ cho việc ghi nhớ\n",
        "\n",
        "Bạn đã thấy được cách triển khai một hàm ghi nhớ. Trong phần này tôi sẽ chỉ cho bạn một cách tiện hơn để đạt được kết quả giống như vậy sử dụng ```functools.lru_cache```.\n",
        "\n",
        "Decorator có tên ```functools.lru_cache``` là một triển khai ghi nhớ lấy ra từ thư viện chuẩn. Một khi bạn nhận ra thời điểm bạn sử dụng ```lru_cache```, bạn có thể tăng tốc chương chình của mình với chỉ vài dòng code.\n",
        "\n",
        "Hãy xem lại ví dụ về số Fibonacci ta đã làm trước đó. Nhưng bây giờ ta sẽ sử dụng decorator ```functools.lru_cache```:"
      ]
    },
    {
      "cell_type": "code",
      "metadata": {
        "id": "77p7JA7wbAHQ",
        "colab_type": "code",
        "colab": {}
      },
      "source": [
        "import functools\n",
        "@functools.lru_cache(maxsize=128)\n",
        "def fibonacci(n):\n",
        "    if n == 0:\n",
        "        return 0\n",
        "    elif n == 1:\n",
        "        return 1\n",
        "    return fibonacci(n - 1) + fibonacci(n - 2)"
      ],
      "execution_count": 0,
      "outputs": []
    },
    {
      "cell_type": "markdown",
      "metadata": {
        "id": "bSzLLLINd3a-",
        "colab_type": "text"
      },
      "source": [
        "Chú ý rằng tham số ```maxsize``` là để giới hạn số lượng các phần tử được lưu vào cache tại cùng một thời điểm.\n",
        "\n",
        "Mọt lần nữa tôi sử dụng module ```timeit``` để chạy các benchmark đơn giản vì vậy ta có thể thấy được sự cải tiến"
      ]
    },
    {
      "cell_type": "code",
      "metadata": {
        "id": "JabTY7TMd2gx",
        "colab_type": "code",
        "colab": {
          "base_uri": "https://localhost:8080/",
          "height": 35
        },
        "outputId": "3faf2761-d3e5-489f-c574-6dec3a040d05"
      },
      "source": [
        "timeit.timeit('fibonacci(35)', globals=globals(), number=1)"
      ],
      "execution_count": 20,
      "outputs": [
        {
          "output_type": "execute_result",
          "data": {
            "text/plain": [
              "3.2387999908678466e-05"
            ]
          },
          "metadata": {
            "tags": []
          },
          "execution_count": 20
        }
      ]
    },
    {
      "cell_type": "code",
      "metadata": {
        "id": "np4ODgnAeWz2",
        "colab_type": "code",
        "colab": {
          "base_uri": "https://localhost:8080/",
          "height": 35
        },
        "outputId": "1fa5806d-c039-49b1-f92a-fb2d7c07955e"
      },
      "source": [
        "timeit.timeit('fibonacci(35)', globals=globals(), number=1)"
      ],
      "execution_count": 21,
      "outputs": [
        {
          "output_type": "execute_result",
          "data": {
            "text/plain": [
              "3.37999972543912e-06"
            ]
          },
          "metadata": {
            "tags": []
          },
          "execution_count": 21
        }
      ]
    },
    {
      "cell_type": "markdown",
      "metadata": {
        "id": "9OA83QXKecGS",
        "colab_type": "text"
      },
      "source": [
        "Bạn có thể thắc mắc tại sao ngay tại lần đầu mà hiệu năng đã cao như vậy (thời gian thực thi thấp). Cache không bị lạnh ngay ở lần đầu hay sau?\n",
        "\n",
        "Sự khác biệt ở đây là ở chỗ ta áp dụng decorator ```@lru_cache``` tại thời điểm hàm này được định nghĩa. Có nghĩa là các lời gọi đệ qui tới hàm ```fibonacci()``` cũng được truy vấn trong cache tại thời điểm.\n",
        "\n",
        "Qua việc decorate hàm ```fibonacci()``` với decorator ```@lru_cache``` tôi đã chuyển lời giải trước đó sang lời giải ứng dụng lập trình động (dynamic programming), nơi mỗi vấn đề con được giải chỉ một lần thông qua việc lưu các lời giải của các vấn đề con và truy vấn chúng từ cache trong lần tiếp theo."
      ]
    },
    {
      "cell_type": "markdown",
      "metadata": {
        "id": "-_PXOb00fgBj",
        "colab_type": "text"
      },
      "source": [
        "## Tại sao bạn nên lựa chọn ```functools.lru_cache````\n",
        "\n",
        "Nói chung, sử dụng ```functools.lru_cache``` toàn diện hơn rất nhiều so với hàm ghi nhớ tính thế (ad hoc memoize function)\n",
        "\n",
        "Ví dụ, ```functools.lru_cache```` cung cấp một tính năng hữu dụng cho phép bạn lấy ra các thống kê về ghi nhớ với phương thức  ```cache_info```:"
      ]
    },
    {
      "cell_type": "code",
      "metadata": {
        "id": "i6ZJmYD6eZF3",
        "colab_type": "code",
        "colab": {
          "base_uri": "https://localhost:8080/",
          "height": 35
        },
        "outputId": "74e475dd-8d0c-45c3-9b59-6c75682bc84d"
      },
      "source": [
        "fibonacci.cache_info()"
      ],
      "execution_count": 22,
      "outputs": [
        {
          "output_type": "execute_result",
          "data": {
            "text/plain": [
              "CacheInfo(hits=34, misses=36, maxsize=128, currsize=36)"
            ]
          },
          "metadata": {
            "tags": []
          },
          "execution_count": 22
        }
      ]
    },
    {
      "cell_type": "markdown",
      "metadata": {
        "id": "Kwk9ELeAgM7m",
        "colab_type": "text"
      },
      "source": [
        "Như bạn có thể thấy trên, ```lru_cache()``` nhớ các lời gọi đệ quy tới ```fibonacci()```, cache trong trường hợp này trả về 34 kết quả được ghi nhớ, đó là lý do tại sao chương trình của ta nhanh hơn."
      ]
    },
    {
      "cell_type": "markdown",
      "metadata": {
        "id": "yZKLgbxegkYv",
        "colab_type": "text"
      },
      "source": [
        "```functools.lru_cache``` cho phép bạn giới hạn số lượng các kết quả được ghi nhớ thông qua tham số ```maxsize```.  Nếu bạn thiết lập ```maxsize=None``` cache sẽ trở nên không có giới hạn đó là điều tôi thương không khuyến khích."
      ]
    },
    {
      "cell_type": "markdown",
      "metadata": {
        "id": "MOJ0sVKZhCm9",
        "colab_type": "text"
      },
      "source": [
        "Có một biến kiểu boolean tên là ```typed```, khi bạn cho nó giá trị True nó sẽ tách bị các tham số hàm dựa trên kiểu của tham số. Ví dụ, ```fibonacci(35)``` sẽ khác với ```fibonacci(35.0)```."
      ]
    },
    {
      "cell_type": "markdown",
      "metadata": {
        "id": "0Sm-K-62hgpl",
        "colab_type": "text"
      },
      "source": [
        "Một tính năng hữu dụng khác là khả năng thiết lập lại (reset) cache tại bất cứ thời điểm nào với phương thức ```cache_clear```"
      ]
    },
    {
      "cell_type": "code",
      "metadata": {
        "id": "LEVoueCxgH1z",
        "colab_type": "code",
        "colab": {}
      },
      "source": [
        "fibonacci.cache_clear()"
      ],
      "execution_count": 0,
      "outputs": []
    },
    {
      "cell_type": "code",
      "metadata": {
        "id": "_kEIflZ4hvmt",
        "colab_type": "code",
        "colab": {
          "base_uri": "https://localhost:8080/",
          "height": 35
        },
        "outputId": "3f84c04e-acdc-42b8-f955-a0e979400dd8"
      },
      "source": [
        "fibonacci.cache_info()"
      ],
      "execution_count": 24,
      "outputs": [
        {
          "output_type": "execute_result",
          "data": {
            "text/plain": [
              "CacheInfo(hits=0, misses=0, maxsize=128, currsize=0)"
            ]
          },
          "metadata": {
            "tags": []
          },
          "execution_count": 24
        }
      ]
    },
    {
      "cell_type": "markdown",
      "metadata": {
        "id": "aqHUOugqh1VS",
        "colab_type": "text"
      },
      "source": [
        "Tống kết lại một điều là bạn nên sử dụng ```lru_cache()``` vì nó có sẵn, toàn diện và đã được kiểm tra tốt hơn so với hàm nhớ của bạn."
      ]
    },
    {
      "cell_type": "markdown",
      "metadata": {
        "id": "tNJklh6LiGtA",
        "colab_type": "text"
      },
      "source": [
        "## Những điều cần thận trọng với ghi nhớ - Cái cần được ghi nhớ\n",
        "\n",
        "Lý tưởng nhất là khi bạn muốn nhớ các hàm xác định (deterministic). Ví dụ:"
      ]
    },
    {
      "cell_type": "code",
      "metadata": {
        "id": "0C5G_S-8hxkp",
        "colab_type": "code",
        "colab": {}
      },
      "source": [
        "def deterministic_adder(x, y):\n",
        "  return x + y"
      ],
      "execution_count": 0,
      "outputs": []
    },
    {
      "cell_type": "markdown",
      "metadata": {
        "id": "4d7IiNA_ibyx",
        "colab_type": "text"
      },
      "source": [
        "Ở đây hàm ```deterministic_adder()``` là một hàm xác định bởi vì nó sẽ luôn luôn trở về kết quả giống nhau với các cặp tham số giống nhau. Ví dụ, nếu bạn gửi vào nó hai số 2 và 3, nó sẽ luôn trả về số 5.\n"
      ]
    },
    {
      "cell_type": "markdown",
      "metadata": {
        "id": "tp1HFE57ivL3",
        "colab_type": "text"
      },
      "source": [
        "So sánh với một hàm không xác định (nondeterministic)"
      ]
    },
    {
      "cell_type": "code",
      "metadata": {
        "id": "0jUAw2bQia1h",
        "colab_type": "code",
        "colab": {}
      },
      "source": [
        "from datetime import datetime\n",
        "\n",
        "def nondeterministic_adder(x, y):\n",
        "  # Check to see if today is Monday \n",
        "  if datetime.now().weekday() == 0:\n",
        "    return x + y + x\n",
        "  return x + y"
      ],
      "execution_count": 0,
      "outputs": []
    },
    {
      "cell_type": "markdown",
      "metadata": {
        "id": "SFfhYREXjSGc",
        "colab_type": "text"
      },
      "source": [
        "Hàm trên là hàm không xác định bởi vì kết quả của nó cho một input xác định sẽ phụ thuộc vào ngày trong tuần: Nếu bạn chạy hàm này vào ngày thứ hai, cahce sẽ trả về một dữ liệu khác với các ngày khác. \n",
        "\n",
        "Nói chung tôi thấy rằng bất cứ hàm nào cập nhật một record hay trả về thông tin thay đổi thương xuyên thì không nên để nhớ. "
      ]
    },
    {
      "cell_type": "markdown",
      "metadata": {
        "id": "4scBpXfNkEce",
        "colab_type": "text"
      },
      "source": [
        "## Tổng kết lại\n",
        "Trong bài viết này bạn biết được cách ghi nhớ giúp bạn tối ưu một hàm thông qua việc ghi nhớ kết quả của hàm dựa trên các tham số cung cấp cho nó.\n",
        "\n",
        "Mỗi khi bạn nhớ một nhàm, nó sẽ chỉ tính toán chỉ một lần kết quả của nó cho một tập các tham số bạn truyền vào. Các lời gọi sau với cùng một tập tham số kết quả sẽ được trả về từ cache.\n",
        "\n",
        "Bạn đã thấy cách viết một decorator của riêng bạn, và tại sao ta nên sử dụng ```lru_cache()```.\n",
        "\n",
        "\n",
        "*   Ghi nhớ là một kĩ thuật tối ưu hóa phần mềm, nó lưu và trả về kết quả của một lời gọi hàm dựa trên các tham số của nó.\n",
        "*   Nếu chương trình của bạn thoả mãn các điều kiện đó, kĩ thuật nhớ có thể cải tiến chương trình của bạn\n",
        "* Bạn có import một hàm ghi nhớ toàn diện, ```lru_cache()``` từ thư viện chuẩn Python ```functools```\n",
        "\n"
      ]
    },
    {
      "cell_type": "code",
      "metadata": {
        "id": "n0nlzahyjRQm",
        "colab_type": "code",
        "colab": {}
      },
      "source": [
        ""
      ],
      "execution_count": 0,
      "outputs": []
    }
  ]
}