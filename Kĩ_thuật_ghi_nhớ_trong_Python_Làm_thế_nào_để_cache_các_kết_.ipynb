{
  "nbformat": 4,
  "nbformat_minor": 0,
  "metadata": {
    "colab": {
      "name": "Kĩ thuật ghi nhớ trong Python: Làm thế nào để cache các kết .ipynb",
      "version": "0.3.2",
      "provenance": [],
      "include_colab_link": true
    },
    "kernelspec": {
      "name": "python3",
      "display_name": "Python 3"
    }
  },
  "cells": [
    {
      "cell_type": "markdown",
      "metadata": {
        "id": "view-in-github",
        "colab_type": "text"
      },
      "source": [
        "<a href=\"https://colab.research.google.com/github/vuduclyunitn/learning_python/blob/master/K%C4%A9_thu%E1%BA%ADt_ghi_nh%E1%BB%9B_trong_Python_L%C3%A0m_th%E1%BA%BF_n%C3%A0o_%C4%91%E1%BB%83_cache_c%C3%A1c_k%E1%BA%BFt_.ipynb\" target=\"_parent\"><img src=\"https://colab.research.google.com/assets/colab-badge.svg\" alt=\"Open In Colab\"/></a>"
      ]
    },
    {
      "cell_type": "code",
      "metadata": {
        "id": "FOmZsrAkNdhT",
        "colab_type": "code",
        "colab": {}
      },
      "source": [
        ""
      ],
      "execution_count": 0,
      "outputs": []
    },
    {
      "cell_type": "markdown",
      "metadata": {
        "id": "9J1OTxAkdn1o",
        "colab_type": "text"
      },
      "source": [
        "# Dic"
      ]
    }
  ]
}