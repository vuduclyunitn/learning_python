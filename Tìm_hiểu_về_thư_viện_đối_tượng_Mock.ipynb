{
  "nbformat": 4,
  "nbformat_minor": 0,
  "metadata": {
    "colab": {
      "name": "Tìm hiểu về thư viện đối tượng Mock.ipynb",
      "version": "0.3.2",
      "provenance": [],
      "include_colab_link": true
    },
    "kernelspec": {
      "name": "python3",
      "display_name": "Python 3"
    }
  },
  "cells": [
    {
      "cell_type": "markdown",
      "metadata": {
        "id": "view-in-github",
        "colab_type": "text"
      },
      "source": [
        "<a href=\"https://colab.research.google.com/github/vuduclyunitn/learning_python/blob/master/T%C3%ACm_hi%E1%BB%83u_v%E1%BB%81_th%C6%B0_vi%E1%BB%87n_%C4%91%E1%BB%91i_t%C6%B0%E1%BB%A3ng_Mock.ipynb\" target=\"_parent\"><img src=\"https://colab.research.google.com/assets/colab-badge.svg\" alt=\"Open In Colab\"/></a>"
      ]
    },
    {
      "cell_type": "code",
      "metadata": {
        "id": "gSdHbPI-aDjF",
        "colab_type": "code",
        "colab": {}
      },
      "source": [
        ""
      ],
      "execution_count": 0,
      "outputs": []
    },
    {
      "cell_type": "markdown",
      "metadata": {
        "id": "T2lcFSOMffFu",
        "colab_type": "text"
      },
      "source": [
        "Dịch và bổ sung từ: https://realpython.com/python-mock-library/"
      ]
    },
    {
      "cell_type": "markdown",
      "metadata": {
        "id": "RA-N2OJUe8aD",
        "colab_type": "text"
      },
      "source": [
        "Khi bạn viết các đoạn mã để kiểm tra, thẩm định xem logic của chương trình của mình có đúng, đáng tin, hay hiệu quả hay không, chất lượng của các đoạn mã kiểm tra của bạn phụ thuộc vào cách chúng thực hiện các tiêu chí trên. Các chướng ngại như logic quá phức tạp và các phụ thuộc không thể dự đoán trước được làm cho việc viết các mã kiểm tra tốt trở nên khó khăn.\n",
        "\n",
        "Những điều bạn sẽ đạt được sau khi hoàn thành bài hướng dẫn này:\n",
        "\n",
        "\n",
        "*   Tạo ra các đối tượng ```mock``` trong Python sử dụng ```Mock```\n",
        "*   Khẳng định được bạn đang sử dụng các đối tượng như bạn mong muốn.\n",
        "*   Kiểm tra dữ liệu được sử dụng được lưu trong các ```mocks```\n",
        "*   Cấu hình các đặc tính của các đối tượng mock.\n",
        "*   Tránh các vấn đề tồn tại khi thực hiện mock trong Python\n",
        "\n",
        "Bạn sẽ thấy được mocking là gì và cách nó cải tiến các mã kiểm tra của bạn.\n",
        "\n"
      ]
    },
    {
      "cell_type": "markdown",
      "metadata": {
        "id": "gEsaCWxw9G62",
        "colab_type": "text"
      },
      "source": [
        "## Mocking là gì\n",
        "\n",
        "Một đối tượng mock sẽ thay thế và bắt chước một đối tượng thực bên trong một môi trường kiểm tra. Đối tượng mock là một công cụ đa năng và mạnh mẽ cho việc cải thiện chất lượng của các mã kiểm tra.\n",
        "\n"
      ]
    },
    {
      "cell_type": "markdown",
      "metadata": {
        "id": "TeF_PiOL9teA",
        "colab_type": "text"
      },
      "source": [
        "Một lý do ta nên sử dụng các đối tượng mock là ta có thể điều khiển hành vi của code trong quá trình kiểm tra.\n",
        "\n",
        "Ví dụ, nếu đoạn mã của bạn tạo ra các yêu cầu HTTP tới các dịch vụ bên ngoài, khi đó các mã kiểm tra thực thi đúng như dự đoán chỉ khi các dịch vụ này cư xử như bạn mong đợi. Thỉnh thoảng, một thay đổi tạm thời trong hành vi của các dịch vụ bên ngoài có thể làm cho bộ mã kiểm tra của bạn bị thất bại gián đoạn.\n",
        "\n",
        "Bởi vì lý do đó, cách tốt hơn là bạn kiểm tra code của bạn trong một môi trường được điều khiển. Thay thế yêu cầu thực sự với một đối tượng mock cho phép bạn mô phỏng các sự kiện dịch vụ bên ngoài bị ngắt và các các hồi đáp thành công theo một cách có thể dự đoán được.\n",
        "\n",
        "Thỉnh thoảng, sẽ khó khăn khi kiểm tra một số vùng trong hệ thống code của bạn. Các vùng này bao gồm các khối ```except``` và các câu lệnh ```if``` khó được thoả mãn. Sử dụng các đối tượng mock có thể giúp bạn điều khiển đường thực thi của code của bạn để đạt tới các vùng này và cải thiện diện bao quát code. \n",
        "\n",
        "Một lý do khác khuyến khích sử dụng các đối tượng mock đó là nó giúp ta hiểu hơn cách ta đang sử dụng các đối tác khác trong code của mình. Một đối tượng mock chứa dữ liệu về việc sử dụng của nó, ví dụ:\n",
        "\n",
        "* Khi bạn gọi một phương thức\n",
        "* Cách bạn gọi một phương thức\n",
        "* Bạn gọi một phương thức thường xuyên như thế nào\n",
        "\n",
        "Hiểu đối tượng mock hoạt động thế nào là bước đầu tiên trong việc học cách sử dụng nó.\n",
        "\n",
        "Bây giờ ta hãy xem cách sử dụng các đối tượng mock"
      ]
    },
    {
      "cell_type": "markdown",
      "metadata": {
        "id": "eml_0D73AK0b",
        "colab_type": "text"
      },
      "source": [
        "## Thự viện Mock trong Python\n",
        "\n",
        "Trong Python, thư viện ```unitest.mock``` cung cấp cho ta một cách dễ dàng để sử dụng mocks trong mã kiểm tra của bạn\n",
        "\n",
        "**Chú ý**: Thư viện chuẩn có sẵn ```unittest.mock``` trong các phiên bản 3.3 và các phiên bản sau. Nếu bạn đang sử dụng phiên bản Python cũ, bạn sẽ cần cài đặt thư viện mock, ví dụ bạn có thể cài đặt nó từ PyPI:\n",
        "\n",
        "```pip install mock```"
      ]
    },
    {
      "cell_type": "markdown",
      "metadata": {
        "id": "HrRGaim0AzbQ",
        "colab_type": "text"
      },
      "source": [
        "```unittest.mock``` cung cấp một lớp gọi là ```Mock```, bạn sẽ sử dụng lớp này để bắt chước các đối tượng thực trong hệ thống code của bạn. ```Mock``` cung cấp các dữ liệu có ích và mềm dẻo. Với các tính năng này, bạn sẽ đáp ứng được các yêu cầu mocking trong các mã kiểm tra của bạn\n",
        "\n",
        "Thư viện này cũng cung cấp một hàm, gọi là ```patch()```, hàm này they thế các đối tượng thực sự trong code của bạn với các hiện thực ```Mock```. Bạn có thể sử dụng ```patch()``` như là một ```decorator``` hoặc trong một quản lý ngữ cảnh (context manager), điều này cho phép bạn điều khiển phạm vi mà đối tượng sẽ được mock. Một khi phạm vi được thiết kế tồn tại, ```patch()``` sẽ dọn dẹp code của bạn thông qua việc thay thế các đối tượng bị mock với các thành phần ban đầu.\n",
        "\n",
        "Cuối cùng ```unittest.mock``` cung cấp các giải pháp cho một vài vấn đề tồn tại khi mock các đối tượng.\n",
        "\n",
        "Bây giờ bạn đã hiểu hơn về mocking là gì và thư viện bạn sẽ sử dụng để làm nó. Hãy đi sâu vào nso và khám phá các tính năng và các đặc tính mà ```unittest.mock``` cung cấp."
      ]
    },
    {
      "cell_type": "markdown",
      "metadata": {
        "id": "aaXRZ5O7CegT",
        "colab_type": "text"
      },
      "source": [
        "## Đối tượng Mock\n",
        "\n",
        "```unittest.mock``` cung cấp một lớp cơ sở cho việc mock các đối tượng, lớp này được gọi là ```Mock```. Các trường hợp ứng dụng ```Mock``` rất nhiều bởi vì ```Mock``` rất là mềm dẻo. \n",
        "\n",
        "Hãy bắt đầu bằng việc khởi động một hiện thực ```Mock``` mới"
      ]
    },
    {
      "cell_type": "code",
      "metadata": {
        "id": "glIgg5oZ9GCJ",
        "colab_type": "code",
        "colab": {}
      },
      "source": [
        "from unittest.mock import Mock"
      ],
      "execution_count": 0,
      "outputs": []
    },
    {
      "cell_type": "code",
      "metadata": {
        "id": "PwVezlKuDOQW",
        "colab_type": "code",
        "colab": {}
      },
      "source": [
        "# Khởi tạo một đối tượng mock\n",
        "mock = Mock()"
      ],
      "execution_count": 0,
      "outputs": []
    },
    {
      "cell_type": "code",
      "metadata": {
        "id": "8vQhmZupDTAD",
        "colab_type": "code",
        "colab": {
          "base_uri": "https://localhost:8080/",
          "height": 34
        },
        "outputId": "01fe8d32-0e6f-4fb8-aff6-f04e874cdd15"
      },
      "source": [
        "# Mỗi đối tượng mock có một ID\n",
        "mock"
      ],
      "execution_count": 5,
      "outputs": [
        {
          "output_type": "execute_result",
          "data": {
            "text/plain": [
              "<Mock id='139698179792736'>"
            ]
          },
          "metadata": {
            "tags": []
          },
          "execution_count": 5
        }
      ]
    },
    {
      "cell_type": "markdown",
      "metadata": {
        "id": "w05zPQz0DY0L",
        "colab_type": "text"
      },
      "source": [
        "Sau khi khởi tạo được đối tượng mock, bạn có thể thay thế một đối tượng trong code của bạn với ```Mock``` mới này. Bạn có thể thực hiện điều này thông qua việc truyền vào một tham số cho một hàm hoặc định nghĩa lại một đối tượng khác."
      ]
    },
    {
      "cell_type": "code",
      "metadata": {
        "id": "ay7tPe5uDTg3",
        "colab_type": "code",
        "colab": {}
      },
      "source": [
        "# Truyền mock vào như là một tham số cho hàm do_something()\n",
        "do_something(mock)\n",
        "\n",
        "# Gán đối tượng mock cho một biến khác\n",
        "json = mock"
      ],
      "execution_count": 0,
      "outputs": []
    },
    {
      "cell_type": "markdown",
      "metadata": {
        "id": "A7nJoWqGD1Z0",
        "colab_type": "text"
      },
      "source": [
        "Khi bạn thay thế một đối tượng trong code của bạn, ```Mock``` phải trông như đối tượng thực sự nó đang thay thế. Nếu không, code của bạn sẽ không thể sử dụng ```Mock``` thay cho đối tượng ban đầu.\n",
        "\n",
        "Ví dụ, nếu bạn đang mock thư viện ```json``` và chương trình của bạn gọi hàm ```dumps()```, khi đó đối tượng mock sẽ chứa hàm ```dumps()```.\n",
        "\n",
        "Tiếp theo ta hãy xem cách ```Mock``` giải quyết  thử thách này"
      ]
    },
    {
      "cell_type": "markdown",
      "metadata": {
        "id": "PsyfvtVyEYO8",
        "colab_type": "text"
      },
      "source": [
        "## Các thuộc tính lười biếng và các phương thức lười biếng\n",
        "\n",
        "Một ```Mock``` phải mô phỏng bất cứ đối tượng nào mà nó thay thế. Để làm được điều này, nó tạo ra các thuộc tính của nó khi bạn truy cập"
      ]
    },
    {
      "cell_type": "code",
      "metadata": {
        "id": "-A6noM1vE97g",
        "colab_type": "code",
        "colab": {}
      },
      "source": [
        "def do_something(mock):\n",
        "  print(\"Hello world\")"
      ],
      "execution_count": 0,
      "outputs": []
    },
    {
      "cell_type": "code",
      "metadata": {
        "id": "V_sW_eWGFE2n",
        "colab_type": "code",
        "colab": {
          "base_uri": "https://localhost:8080/",
          "height": 34
        },
        "outputId": "e324ed15-96e8-40f0-b2c7-597859a048df"
      },
      "source": [
        "mock = Mock()\n",
        "#do_something(mock)\n",
        "mock.do_something()"
      ],
      "execution_count": 18,
      "outputs": [
        {
          "output_type": "execute_result",
          "data": {
            "text/plain": [
              "<Mock name='mock.do_something()' id='139698169451128'>"
            ]
          },
          "metadata": {
            "tags": []
          },
          "execution_count": 18
        }
      ]
    },
    {
      "cell_type": "markdown",
      "metadata": {
        "id": "VYHXF6GQFebt",
        "colab_type": "text"
      },
      "source": [
        "Ở ví dụ trên bạn có thể thấy ta mock một hàm tên là ```do_something()``` sử dụng đối tượng mock"
      ]
    },
    {
      "cell_type": "code",
      "metadata": {
        "id": "zNQuRa1kEXwT",
        "colab_type": "code",
        "colab": {}
      },
      "source": [
        "import json"
      ],
      "execution_count": 0,
      "outputs": []
    },
    {
      "cell_type": "code",
      "metadata": {
        "id": "ZJeD7DkuEsfs",
        "colab_type": "code",
        "colab": {}
      },
      "source": [
        "json = Mock()"
      ],
      "execution_count": 0,
      "outputs": []
    },
    {
      "cell_type": "code",
      "metadata": {
        "id": "xQI_EyMEEtbL",
        "colab_type": "code",
        "colab": {
          "base_uri": "https://localhost:8080/",
          "height": 34
        },
        "outputId": "0cd2ae87-f87c-48f2-f94f-543d627d6fb8"
      },
      "source": [
        "json.dumps()"
      ],
      "execution_count": 6,
      "outputs": [
        {
          "output_type": "execute_result",
          "data": {
            "text/plain": [
              "<Mock name='mock.dumps()' id='139932083773792'>"
            ]
          },
          "metadata": {
            "tags": []
          },
          "execution_count": 6
        }
      ]
    },
    {
      "cell_type": "markdown",
      "metadata": {
        "id": "sHFtTC81FuQk",
        "colab_type": "text"
      },
      "source": [
        "Hay là bạn có thể mock một thư viện tên là ```json``` và bạn gọi phương thức ```dumps()```, đối tượng mock sẽ tạo một phương thức để cho giao tiếp của nó có thể khớp với với giao tiếp của thư viện"
      ]
    },
    {
      "cell_type": "markdown",
      "metadata": {
        "id": "TqsUzrlfF8ij",
        "colab_type": "text"
      },
      "source": [
        "Chú ý tới hai đặc tính chính của phiên bản mock của ```dumps()```:\n",
        "\n",
        "\n",
        "1.   Không giống như hàm ```dumps()``` thực sự, phương thức bị mock này không yêu cầu các tham số truyền vào. Thực tế là nó sẽ chấp nhận bất cứ tham số nào bạn truyền cho nó.\n",
        "2.   Giá trị trả về cũng là một ```Mock```. Khả năng của ```Mock``` để định nghĩa các mocks khác một cách đệ quy cho phép ta sử dụng các mocks trong các trường hợp phức tạp.\n",
        "\n"
      ]
    },
    {
      "cell_type": "code",
      "metadata": {
        "id": "b0foeO0WEvsT",
        "colab_type": "code",
        "colab": {}
      },
      "source": [
        "json = Mock()"
      ],
      "execution_count": 0,
      "outputs": []
    },
    {
      "cell_type": "code",
      "metadata": {
        "id": "NHW_rp7R71aP",
        "colab_type": "code",
        "colab": {
          "base_uri": "https://localhost:8080/",
          "height": 34
        },
        "outputId": "29d60e5a-da48-451d-bfde-2ea05364cbce"
      },
      "source": [
        "json.loads('{\"k\": \"v\"}').get('k')"
      ],
      "execution_count": 8,
      "outputs": [
        {
          "output_type": "execute_result",
          "data": {
            "text/plain": [
              "<Mock name='mock.loads().get()' id='139932083805880'>"
            ]
          },
          "metadata": {
            "tags": []
          },
          "execution_count": 8
        }
      ]
    },
    {
      "cell_type": "markdown",
      "metadata": {
        "id": "kV_LH09779sx",
        "colab_type": "text"
      },
      "source": [
        "Ở ví dụ trên khi gọi phương thức ```loads()``` bị mock, giá trị trả về của nó cũng là một ```Mock```, bạn có thể sử dụng các mocks của bạn theo nhiều cách khác nhau"
      ]
    },
    {
      "cell_type": "markdown",
      "metadata": {
        "id": "LIjZG0LR8LWm",
        "colab_type": "text"
      },
      "source": [
        "Mocks được sử dụng rất mềm dẻo, và cung cấp cho ta nhiều thông tin. Tiếp theo, bạn sẽ học cách sử dụng mocks để hiểu code của bạn tốt hơn."
      ]
    },
    {
      "cell_type": "markdown",
      "metadata": {
        "id": "Yh0GXEsH8s9j",
        "colab_type": "text"
      },
      "source": [
        "## Phép khẳng định và kiểm tra\n",
        "\n",
        "Các hiện thực Mock lưu dữ liệu về cách bạn sử dụng chúng. Ví dụ, bạn có thể nhìn thấy được rằng bạn có gọi một phương thức hay không, nếu có thì cách bạn gọi phương thức đó thế nào, và tương tự. Có hai cách sử dụng thông tin này.\n",
        "\n",
        "Cách đầu tiên, bạn có thể đưa ra khẳng định rằng chương trình của bạn sử dụng một đối tượng có như mong đợi hay không"
      ]
    },
    {
      "cell_type": "code",
      "metadata": {
        "id": "9Y9BryI7764T",
        "colab_type": "code",
        "colab": {}
      },
      "source": [
        "from unittest.mock import Mock"
      ],
      "execution_count": 0,
      "outputs": []
    },
    {
      "cell_type": "code",
      "metadata": {
        "id": "egG7bcI99PVM",
        "colab_type": "code",
        "colab": {}
      },
      "source": [
        "# Tạo một đối tượng mock\n",
        "json = Mock()"
      ],
      "execution_count": 0,
      "outputs": []
    },
    {
      "cell_type": "code",
      "metadata": {
        "id": "fDQGnzrN9T8Q",
        "colab_type": "code",
        "colab": {
          "base_uri": "https://localhost:8080/",
          "height": 34
        },
        "outputId": "53cf4435-88db-4d7f-f5ac-17727c37b545"
      },
      "source": [
        "# mock phương thức loads\n",
        "json.loads('{\"key\": \"value\"}')"
      ],
      "execution_count": 11,
      "outputs": [
        {
          "output_type": "execute_result",
          "data": {
            "text/plain": [
              "<Mock name='mock.loads()' id='139932083854752'>"
            ]
          },
          "metadata": {
            "tags": []
          },
          "execution_count": 11
        }
      ]
    },
    {
      "cell_type": "code",
      "metadata": {
        "id": "cpejCU_b9kKy",
        "colab_type": "code",
        "colab": {}
      },
      "source": [
        "# Bạn biết rằng bạn đã gọi loads() vì vậy bạn có thể\n",
        "# tạo ra các khẳng định để kiểm tra mong đợi của mình\n",
        "json.loads.assert_called()"
      ],
      "execution_count": 0,
      "outputs": []
    },
    {
      "cell_type": "code",
      "metadata": {
        "id": "7SwxjcBN94Ma",
        "colab_type": "code",
        "colab": {}
      },
      "source": [
        "json.loads.assert_called_once()"
      ],
      "execution_count": 0,
      "outputs": []
    },
    {
      "cell_type": "code",
      "metadata": {
        "id": "JcVVGYlx-G-1",
        "colab_type": "code",
        "colab": {}
      },
      "source": [
        "json.loads.assert_called_with('{\"key\": \"value\"}')"
      ],
      "execution_count": 0,
      "outputs": []
    },
    {
      "cell_type": "code",
      "metadata": {
        "id": "wpfeALbr-MtM",
        "colab_type": "code",
        "colab": {}
      },
      "source": [
        "json.loads.assert_called_once_with('{\"key\": \"value\"}')"
      ],
      "execution_count": 0,
      "outputs": []
    },
    {
      "cell_type": "code",
      "metadata": {
        "id": "NM85D9u5-VXC",
        "colab_type": "code",
        "colab": {
          "base_uri": "https://localhost:8080/",
          "height": 34
        },
        "outputId": "7daa79f9-50c3-42b9-9bda-e3f4eb713f9d"
      },
      "source": [
        "json.loads('{\"key\": \"value\"}')"
      ],
      "execution_count": 16,
      "outputs": [
        {
          "output_type": "execute_result",
          "data": {
            "text/plain": [
              "<Mock name='mock.loads()' id='139932083854752'>"
            ]
          },
          "metadata": {
            "tags": []
          },
          "execution_count": 16
        }
      ]
    },
    {
      "cell_type": "code",
      "metadata": {
        "id": "O5Zqyzbm-ZOj",
        "colab_type": "code",
        "colab": {
          "base_uri": "https://localhost:8080/",
          "height": 300
        },
        "outputId": "39fbbbf7-1769-47e7-f6d0-7e7cd14b7184"
      },
      "source": [
        "# Nếu một khẳng định thất bại, mock sẽ khởi lên một ngoại lệ AssertionError\n",
        "# Mock này đảm bảo rằng bạn gọi phương thức chỉ đúng một lần, \n",
        "# nếu gọi từ hai lần trở lên nó sẽ sinh ra ngoại lệ.\n",
        "json.loads.assert_called_once()"
      ],
      "execution_count": 18,
      "outputs": [
        {
          "output_type": "error",
          "ename": "AssertionError",
          "evalue": "ignored",
          "traceback": [
            "\u001b[0;31m---------------------------------------------------------------------------\u001b[0m",
            "\u001b[0;31mAssertionError\u001b[0m                            Traceback (most recent call last)",
            "\u001b[0;32m<ipython-input-18-49075abb995e>\u001b[0m in \u001b[0;36m<module>\u001b[0;34m()\u001b[0m\n\u001b[0;32m----> 1\u001b[0;31m \u001b[0mjson\u001b[0m\u001b[0;34m.\u001b[0m\u001b[0mloads\u001b[0m\u001b[0;34m.\u001b[0m\u001b[0massert_called_once\u001b[0m\u001b[0;34m(\u001b[0m\u001b[0;34m)\u001b[0m\u001b[0;34m\u001b[0m\u001b[0;34m\u001b[0m\u001b[0m\n\u001b[0m",
            "\u001b[0;32m/usr/lib/python3.6/unittest/mock.py\u001b[0m in \u001b[0;36massert_called_once\u001b[0;34m(_mock_self)\u001b[0m\n\u001b[1;32m    793\u001b[0m             msg = (\"Expected '%s' to have been called once. Called %s times.\" %\n\u001b[1;32m    794\u001b[0m                    (self._mock_name or 'mock', self.call_count))\n\u001b[0;32m--> 795\u001b[0;31m             \u001b[0;32mraise\u001b[0m \u001b[0mAssertionError\u001b[0m\u001b[0;34m(\u001b[0m\u001b[0mmsg\u001b[0m\u001b[0;34m)\u001b[0m\u001b[0;34m\u001b[0m\u001b[0;34m\u001b[0m\u001b[0m\n\u001b[0m\u001b[1;32m    796\u001b[0m \u001b[0;34m\u001b[0m\u001b[0m\n\u001b[1;32m    797\u001b[0m     \u001b[0;32mdef\u001b[0m \u001b[0massert_called_with\u001b[0m\u001b[0;34m(\u001b[0m\u001b[0m_mock_self\u001b[0m\u001b[0;34m,\u001b[0m \u001b[0;34m*\u001b[0m\u001b[0margs\u001b[0m\u001b[0;34m,\u001b[0m \u001b[0;34m**\u001b[0m\u001b[0mkwargs\u001b[0m\u001b[0;34m)\u001b[0m\u001b[0;34m:\u001b[0m\u001b[0;34m\u001b[0m\u001b[0;34m\u001b[0m\u001b[0m\n",
            "\u001b[0;31mAssertionError\u001b[0m: Expected 'loads' to have been called once. Called 2 times."
          ]
        }
      ]
    },
    {
      "cell_type": "code",
      "metadata": {
        "id": "jx-kL6_2-ky0",
        "colab_type": "code",
        "colab": {
          "base_uri": "https://localhost:8080/",
          "height": 300
        },
        "outputId": "70ac989a-c6cb-4583-c0e5-b56814c713f9"
      },
      "source": [
        "json.loads.assert_called_once_with('{\"key\": \"value\"}')"
      ],
      "execution_count": 19,
      "outputs": [
        {
          "output_type": "error",
          "ename": "AssertionError",
          "evalue": "ignored",
          "traceback": [
            "\u001b[0;31m---------------------------------------------------------------------------\u001b[0m",
            "\u001b[0;31mAssertionError\u001b[0m                            Traceback (most recent call last)",
            "\u001b[0;32m<ipython-input-19-b48900ae0c07>\u001b[0m in \u001b[0;36m<module>\u001b[0;34m()\u001b[0m\n\u001b[0;32m----> 1\u001b[0;31m \u001b[0mjson\u001b[0m\u001b[0;34m.\u001b[0m\u001b[0mloads\u001b[0m\u001b[0;34m.\u001b[0m\u001b[0massert_called_once_with\u001b[0m\u001b[0;34m(\u001b[0m\u001b[0;34m'{\"key\": \"value\"}'\u001b[0m\u001b[0;34m)\u001b[0m\u001b[0;34m\u001b[0m\u001b[0;34m\u001b[0m\u001b[0m\n\u001b[0m",
            "\u001b[0;32m/usr/lib/python3.6/unittest/mock.py\u001b[0m in \u001b[0;36massert_called_once_with\u001b[0;34m(_mock_self, *args, **kwargs)\u001b[0m\n\u001b[1;32m    822\u001b[0m             msg = (\"Expected '%s' to be called once. Called %s times.\" %\n\u001b[1;32m    823\u001b[0m                    (self._mock_name or 'mock', self.call_count))\n\u001b[0;32m--> 824\u001b[0;31m             \u001b[0;32mraise\u001b[0m \u001b[0mAssertionError\u001b[0m\u001b[0;34m(\u001b[0m\u001b[0mmsg\u001b[0m\u001b[0;34m)\u001b[0m\u001b[0;34m\u001b[0m\u001b[0;34m\u001b[0m\u001b[0m\n\u001b[0m\u001b[1;32m    825\u001b[0m         \u001b[0;32mreturn\u001b[0m \u001b[0mself\u001b[0m\u001b[0;34m.\u001b[0m\u001b[0massert_called_with\u001b[0m\u001b[0;34m(\u001b[0m\u001b[0;34m*\u001b[0m\u001b[0margs\u001b[0m\u001b[0;34m,\u001b[0m \u001b[0;34m**\u001b[0m\u001b[0mkwargs\u001b[0m\u001b[0;34m)\u001b[0m\u001b[0;34m\u001b[0m\u001b[0;34m\u001b[0m\u001b[0m\n\u001b[1;32m    826\u001b[0m \u001b[0;34m\u001b[0m\u001b[0m\n",
            "\u001b[0;31mAssertionError\u001b[0m: Expected 'loads' to be called once. Called 2 times."
          ]
        }
      ]
    },
    {
      "cell_type": "code",
      "metadata": {
        "id": "3_qJqUhP_JaE",
        "colab_type": "code",
        "colab": {
          "base_uri": "https://localhost:8080/",
          "height": 300
        },
        "outputId": "c33d24ac-6f69-4dcf-e94e-1541bfb98ad8"
      },
      "source": [
        "json.loads.assert_not_called()"
      ],
      "execution_count": 20,
      "outputs": [
        {
          "output_type": "error",
          "ename": "AssertionError",
          "evalue": "ignored",
          "traceback": [
            "\u001b[0;31m---------------------------------------------------------------------------\u001b[0m",
            "\u001b[0;31mAssertionError\u001b[0m                            Traceback (most recent call last)",
            "\u001b[0;32m<ipython-input-20-51fb1d651fcf>\u001b[0m in \u001b[0;36m<module>\u001b[0;34m()\u001b[0m\n\u001b[0;32m----> 1\u001b[0;31m \u001b[0mjson\u001b[0m\u001b[0;34m.\u001b[0m\u001b[0mloads\u001b[0m\u001b[0;34m.\u001b[0m\u001b[0massert_not_called\u001b[0m\u001b[0;34m(\u001b[0m\u001b[0;34m)\u001b[0m\u001b[0;34m\u001b[0m\u001b[0;34m\u001b[0m\u001b[0m\n\u001b[0m",
            "\u001b[0;32m/usr/lib/python3.6/unittest/mock.py\u001b[0m in \u001b[0;36massert_not_called\u001b[0;34m(_mock_self)\u001b[0m\n\u001b[1;32m    775\u001b[0m             msg = (\"Expected '%s' to not have been called. Called %s times.\" %\n\u001b[1;32m    776\u001b[0m                    (self._mock_name or 'mock', self.call_count))\n\u001b[0;32m--> 777\u001b[0;31m             \u001b[0;32mraise\u001b[0m \u001b[0mAssertionError\u001b[0m\u001b[0;34m(\u001b[0m\u001b[0mmsg\u001b[0m\u001b[0;34m)\u001b[0m\u001b[0;34m\u001b[0m\u001b[0;34m\u001b[0m\u001b[0m\n\u001b[0m\u001b[1;32m    778\u001b[0m \u001b[0;34m\u001b[0m\u001b[0m\n\u001b[1;32m    779\u001b[0m     \u001b[0;32mdef\u001b[0m \u001b[0massert_called\u001b[0m\u001b[0;34m(\u001b[0m\u001b[0m_mock_self\u001b[0m\u001b[0;34m)\u001b[0m\u001b[0;34m:\u001b[0m\u001b[0;34m\u001b[0m\u001b[0;34m\u001b[0m\u001b[0m\n",
            "\u001b[0;31mAssertionError\u001b[0m: Expected 'loads' to not have been called. Called 2 times."
          ]
        }
      ]
    },
    {
      "cell_type": "code",
      "metadata": {
        "id": "s7QMNk8Z_Oed",
        "colab_type": "code",
        "colab": {}
      },
      "source": [
        "# Mock này đảm bảo rằng bạn gọi phương thức được mock\n",
        "json.loads.assert_called()"
      ],
      "execution_count": 0,
      "outputs": []
    },
    {
      "cell_type": "markdown",
      "metadata": {
        "id": "z4RvrtGcDFOX",
        "colab_type": "text"
      },
      "source": [
        "Cả hai hàm khẳng định này có các biến thể cho phép bạn kiểm tra các tham số truyền vào phương thức bị mock. "
      ]
    },
    {
      "cell_type": "code",
      "metadata": {
        "id": "91bVrFfuDEtR",
        "colab_type": "code",
        "colab": {
          "base_uri": "https://localhost:8080/",
          "height": 300
        },
        "outputId": "05c30ddc-696f-4fe0-a09f-acba774d9fdb"
      },
      "source": [
        "# Khẳng định hàm loads bị mock chỉ được gọi một lần với\n",
        "# tham số {\"key\": \"value\"}\n",
        "json.loads.assert_called_once_with('{\"key\": \"value\"}')"
      ],
      "execution_count": 25,
      "outputs": [
        {
          "output_type": "error",
          "ename": "AssertionError",
          "evalue": "ignored",
          "traceback": [
            "\u001b[0;31m---------------------------------------------------------------------------\u001b[0m",
            "\u001b[0;31mAssertionError\u001b[0m                            Traceback (most recent call last)",
            "\u001b[0;32m<ipython-input-25-b48900ae0c07>\u001b[0m in \u001b[0;36m<module>\u001b[0;34m()\u001b[0m\n\u001b[0;32m----> 1\u001b[0;31m \u001b[0mjson\u001b[0m\u001b[0;34m.\u001b[0m\u001b[0mloads\u001b[0m\u001b[0;34m.\u001b[0m\u001b[0massert_called_once_with\u001b[0m\u001b[0;34m(\u001b[0m\u001b[0;34m'{\"key\": \"value\"}'\u001b[0m\u001b[0;34m)\u001b[0m\u001b[0;34m\u001b[0m\u001b[0;34m\u001b[0m\u001b[0m\n\u001b[0m",
            "\u001b[0;32m/usr/lib/python3.6/unittest/mock.py\u001b[0m in \u001b[0;36massert_called_once_with\u001b[0;34m(_mock_self, *args, **kwargs)\u001b[0m\n\u001b[1;32m    822\u001b[0m             msg = (\"Expected '%s' to be called once. Called %s times.\" %\n\u001b[1;32m    823\u001b[0m                    (self._mock_name or 'mock', self.call_count))\n\u001b[0;32m--> 824\u001b[0;31m             \u001b[0;32mraise\u001b[0m \u001b[0mAssertionError\u001b[0m\u001b[0;34m(\u001b[0m\u001b[0mmsg\u001b[0m\u001b[0;34m)\u001b[0m\u001b[0;34m\u001b[0m\u001b[0;34m\u001b[0m\u001b[0m\n\u001b[0m\u001b[1;32m    825\u001b[0m         \u001b[0;32mreturn\u001b[0m \u001b[0mself\u001b[0m\u001b[0;34m.\u001b[0m\u001b[0massert_called_with\u001b[0m\u001b[0;34m(\u001b[0m\u001b[0;34m*\u001b[0m\u001b[0margs\u001b[0m\u001b[0;34m,\u001b[0m \u001b[0;34m**\u001b[0m\u001b[0mkwargs\u001b[0m\u001b[0;34m)\u001b[0m\u001b[0;34m\u001b[0m\u001b[0;34m\u001b[0m\u001b[0m\n\u001b[1;32m    826\u001b[0m \u001b[0;34m\u001b[0m\u001b[0m\n",
            "\u001b[0;31mAssertionError\u001b[0m: Expected 'loads' to be called once. Called 2 times."
          ]
        }
      ]
    },
    {
      "cell_type": "code",
      "metadata": {
        "id": "u8YXTMw7D39E",
        "colab_type": "code",
        "colab": {}
      },
      "source": [
        "# Khẳng định rằng bạn gọi loads \n",
        "# với tham số {\"key\": \"value\"}\n",
        "json.loads.assert_called_with('{\"key\": \"value\"}')"
      ],
      "execution_count": 0,
      "outputs": []
    },
    {
      "cell_type": "code",
      "metadata": {
        "id": "r6hC_qn9AV2Z",
        "colab_type": "code",
        "colab": {
          "base_uri": "https://localhost:8080/",
          "height": 317
        },
        "outputId": "c3ab36be-d757-4374-d672-8f7be8256da9"
      },
      "source": [
        "# Ví dụ dưới đây gây ra ngoại lệ vì ta chưa gọi phương thức loads\n",
        "# với tham số {\"key1\": \"value1\"} bao giờ\n",
        "json.loads.assert_called_with('{\"key1\": \"value1\"}')"
      ],
      "execution_count": 28,
      "outputs": [
        {
          "output_type": "error",
          "ename": "AssertionError",
          "evalue": "ignored",
          "traceback": [
            "\u001b[0;31m---------------------------------------------------------------------------\u001b[0m",
            "\u001b[0;31mAssertionError\u001b[0m                            Traceback (most recent call last)",
            "\u001b[0;32m<ipython-input-28-9349e9fc7a3c>\u001b[0m in \u001b[0;36m<module>\u001b[0;34m()\u001b[0m\n\u001b[0;32m----> 1\u001b[0;31m \u001b[0mjson\u001b[0m\u001b[0;34m.\u001b[0m\u001b[0mloads\u001b[0m\u001b[0;34m.\u001b[0m\u001b[0massert_called_with\u001b[0m\u001b[0;34m(\u001b[0m\u001b[0;34m'{\"key1\": \"value1\"}'\u001b[0m\u001b[0;34m)\u001b[0m\u001b[0;34m\u001b[0m\u001b[0;34m\u001b[0m\u001b[0m\n\u001b[0m",
            "\u001b[0;32m/usr/lib/python3.6/unittest/mock.py\u001b[0m in \u001b[0;36massert_called_with\u001b[0;34m(_mock_self, *args, **kwargs)\u001b[0m\n\u001b[1;32m    812\u001b[0m         \u001b[0;32mif\u001b[0m \u001b[0mexpected\u001b[0m \u001b[0;34m!=\u001b[0m \u001b[0mactual\u001b[0m\u001b[0;34m:\u001b[0m\u001b[0;34m\u001b[0m\u001b[0;34m\u001b[0m\u001b[0m\n\u001b[1;32m    813\u001b[0m             \u001b[0mcause\u001b[0m \u001b[0;34m=\u001b[0m \u001b[0mexpected\u001b[0m \u001b[0;32mif\u001b[0m \u001b[0misinstance\u001b[0m\u001b[0;34m(\u001b[0m\u001b[0mexpected\u001b[0m\u001b[0;34m,\u001b[0m \u001b[0mException\u001b[0m\u001b[0;34m)\u001b[0m \u001b[0;32melse\u001b[0m \u001b[0;32mNone\u001b[0m\u001b[0;34m\u001b[0m\u001b[0;34m\u001b[0m\u001b[0m\n\u001b[0;32m--> 814\u001b[0;31m             \u001b[0;32mraise\u001b[0m \u001b[0mAssertionError\u001b[0m\u001b[0;34m(\u001b[0m\u001b[0m_error_message\u001b[0m\u001b[0;34m(\u001b[0m\u001b[0;34m)\u001b[0m\u001b[0;34m)\u001b[0m \u001b[0;32mfrom\u001b[0m \u001b[0mcause\u001b[0m\u001b[0;34m\u001b[0m\u001b[0;34m\u001b[0m\u001b[0m\n\u001b[0m\u001b[1;32m    815\u001b[0m \u001b[0;34m\u001b[0m\u001b[0m\n\u001b[1;32m    816\u001b[0m \u001b[0;34m\u001b[0m\u001b[0m\n",
            "\u001b[0;31mAssertionError\u001b[0m: Expected call: loads('{\"key1\": \"value1\"}')\nActual call: loads('{\"key\": \"value\"}')"
          ]
        }
      ]
    },
    {
      "cell_type": "markdown",
      "metadata": {
        "id": "-bNS-9MZFETp",
        "colab_type": "text"
      },
      "source": [
        "Để các khẳng định này không tạo ra các lỗi, bạn phải gọi phương thức bị mock với cùng các tham số bạn truyền vào phương thức thực sự:"
      ]
    },
    {
      "cell_type": "code",
      "metadata": {
        "id": "SzZndV-2Eb2r",
        "colab_type": "code",
        "colab": {}
      },
      "source": [
        "json1 = Mock()\n"
      ],
      "execution_count": 0,
      "outputs": []
    },
    {
      "cell_type": "code",
      "metadata": {
        "id": "Ko32FNAvGhKO",
        "colab_type": "code",
        "colab": {
          "base_uri": "https://localhost:8080/",
          "height": 34
        },
        "outputId": "a205c0a0-a3d2-4097-d6e6-429f35771572"
      },
      "source": [
        "json1.loads(s='{\"key\": \"value\"}')"
      ],
      "execution_count": 30,
      "outputs": [
        {
          "output_type": "execute_result",
          "data": {
            "text/plain": [
              "<Mock name='mock.loads()' id='139932083187048'>"
            ]
          },
          "metadata": {
            "tags": []
          },
          "execution_count": 30
        }
      ]
    },
    {
      "cell_type": "code",
      "metadata": {
        "id": "F-_qliZ1Gh1L",
        "colab_type": "code",
        "colab": {
          "base_uri": "https://localhost:8080/",
          "height": 317
        },
        "outputId": "145813a1-dfce-4794-f01c-569053354ba4"
      },
      "source": [
        "# Lời gọi này tạo ra một ngoại lệ ```AssertionError``` \n",
        "# bởi vì nó mong đợi bạn gọi ```loads()``` với một tham số \n",
        "# kiểu từ điển nhưng bạn lại gọi với một tham số kiểu vị trí\n",
        "json1.loads.assert_called_with('{\"key\":\"value\"}')"
      ],
      "execution_count": 32,
      "outputs": [
        {
          "output_type": "error",
          "ename": "AssertionError",
          "evalue": "ignored",
          "traceback": [
            "\u001b[0;31m---------------------------------------------------------------------------\u001b[0m",
            "\u001b[0;31mAssertionError\u001b[0m                            Traceback (most recent call last)",
            "\u001b[0;32m<ipython-input-32-745ade0cc144>\u001b[0m in \u001b[0;36m<module>\u001b[0;34m()\u001b[0m\n\u001b[0;32m----> 1\u001b[0;31m \u001b[0mjson1\u001b[0m\u001b[0;34m.\u001b[0m\u001b[0mloads\u001b[0m\u001b[0;34m.\u001b[0m\u001b[0massert_called_with\u001b[0m\u001b[0;34m(\u001b[0m\u001b[0;34m'{\"key\":\"value\"}'\u001b[0m\u001b[0;34m)\u001b[0m\u001b[0;34m\u001b[0m\u001b[0;34m\u001b[0m\u001b[0m\n\u001b[0m",
            "\u001b[0;32m/usr/lib/python3.6/unittest/mock.py\u001b[0m in \u001b[0;36massert_called_with\u001b[0;34m(_mock_self, *args, **kwargs)\u001b[0m\n\u001b[1;32m    812\u001b[0m         \u001b[0;32mif\u001b[0m \u001b[0mexpected\u001b[0m \u001b[0;34m!=\u001b[0m \u001b[0mactual\u001b[0m\u001b[0;34m:\u001b[0m\u001b[0;34m\u001b[0m\u001b[0;34m\u001b[0m\u001b[0m\n\u001b[1;32m    813\u001b[0m             \u001b[0mcause\u001b[0m \u001b[0;34m=\u001b[0m \u001b[0mexpected\u001b[0m \u001b[0;32mif\u001b[0m \u001b[0misinstance\u001b[0m\u001b[0;34m(\u001b[0m\u001b[0mexpected\u001b[0m\u001b[0;34m,\u001b[0m \u001b[0mException\u001b[0m\u001b[0;34m)\u001b[0m \u001b[0;32melse\u001b[0m \u001b[0;32mNone\u001b[0m\u001b[0;34m\u001b[0m\u001b[0;34m\u001b[0m\u001b[0m\n\u001b[0;32m--> 814\u001b[0;31m             \u001b[0;32mraise\u001b[0m \u001b[0mAssertionError\u001b[0m\u001b[0;34m(\u001b[0m\u001b[0m_error_message\u001b[0m\u001b[0;34m(\u001b[0m\u001b[0;34m)\u001b[0m\u001b[0;34m)\u001b[0m \u001b[0;32mfrom\u001b[0m \u001b[0mcause\u001b[0m\u001b[0;34m\u001b[0m\u001b[0;34m\u001b[0m\u001b[0m\n\u001b[0m\u001b[1;32m    815\u001b[0m \u001b[0;34m\u001b[0m\u001b[0m\n\u001b[1;32m    816\u001b[0m \u001b[0;34m\u001b[0m\u001b[0m\n",
            "\u001b[0;31mAssertionError\u001b[0m: Expected call: loads('{\"key\":\"value\"}')\nActual call: loads(s='{\"key\": \"value\"}')"
          ]
        }
      ]
    },
    {
      "cell_type": "code",
      "metadata": {
        "id": "5HAIyPvNGm0q",
        "colab_type": "code",
        "colab": {}
      },
      "source": [
        "# Nếu bạn gọi với tham số kiểu từ điển thì bạn\n",
        "# sẽ làm cho việc kiểm định này thành công\n",
        "json1.loads.assert_called_with(s='{\"key\": \"value\"}')"
      ],
      "execution_count": 0,
      "outputs": []
    },
    {
      "cell_type": "markdown",
      "metadata": {
        "id": "H-O7l7YfIkhM",
        "colab_type": "text"
      },
      "source": [
        "Thứ hai, bạn có thể xem được các thuộc tính đặc biệt để hiểu cách ứng dụng của bạn sử dụng một đối tượng"
      ]
    },
    {
      "cell_type": "code",
      "metadata": {
        "id": "rGaAQkn-HZz3",
        "colab_type": "code",
        "colab": {}
      },
      "source": [
        "from unittest.mock import Mock"
      ],
      "execution_count": 0,
      "outputs": []
    },
    {
      "cell_type": "code",
      "metadata": {
        "id": "jSFWQXG4mzSW",
        "colab_type": "code",
        "colab": {}
      },
      "source": [
        "# Tạo một đối tượng mock\n",
        "json = Mock()"
      ],
      "execution_count": 0,
      "outputs": []
    },
    {
      "cell_type": "code",
      "metadata": {
        "id": "xKSiiN5hnLg3",
        "colab_type": "code",
        "colab": {
          "base_uri": "https://localhost:8080/",
          "height": 34
        },
        "outputId": "f8da75c8-d28b-40fc-fbe5-a2ced9cebcba"
      },
      "source": [
        "json.loads('{\"key\": \"value\"}')"
      ],
      "execution_count": 3,
      "outputs": [
        {
          "output_type": "execute_result",
          "data": {
            "text/plain": [
              "<Mock name='mock.loads()' id='140039584290408'>"
            ]
          },
          "metadata": {
            "tags": []
          },
          "execution_count": 3
        }
      ]
    },
    {
      "cell_type": "code",
      "metadata": {
        "id": "6tkz4RD8nQHs",
        "colab_type": "code",
        "colab": {
          "base_uri": "https://localhost:8080/",
          "height": 34
        },
        "outputId": "0182a942-0806-450b-9479-ab4bc02f11ec"
      },
      "source": [
        "# Số lượng lần bạn gọi loads():\n",
        "json.loads.call_count"
      ],
      "execution_count": 5,
      "outputs": [
        {
          "output_type": "execute_result",
          "data": {
            "text/plain": [
              "1"
            ]
          },
          "metadata": {
            "tags": []
          },
          "execution_count": 5
        }
      ]
    },
    {
      "cell_type": "code",
      "metadata": {
        "id": "-uqwO2wsnUx_",
        "colab_type": "code",
        "colab": {
          "base_uri": "https://localhost:8080/",
          "height": 34
        },
        "outputId": "8ea3cd5e-e338-468e-9998-e25b92ba68c3"
      },
      "source": [
        "# Lời gọi loads() cuối\n",
        "json.loads.call_args"
      ],
      "execution_count": 6,
      "outputs": [
        {
          "output_type": "execute_result",
          "data": {
            "text/plain": [
              "call('{\"key\": \"value\"}')"
            ]
          },
          "metadata": {
            "tags": []
          },
          "execution_count": 6
        }
      ]
    },
    {
      "cell_type": "code",
      "metadata": {
        "id": "w5YzFHCMn3CL",
        "colab_type": "code",
        "colab": {
          "base_uri": "https://localhost:8080/",
          "height": 34
        },
        "outputId": "b058f509-53d7-4ba6-d901-cd8a421b7c78"
      },
      "source": [
        "# Danh sách các lời gọi loads()\n",
        "json.loads.call_args"
      ],
      "execution_count": 7,
      "outputs": [
        {
          "output_type": "execute_result",
          "data": {
            "text/plain": [
              "call('{\"key\": \"value\"}')"
            ]
          },
          "metadata": {
            "tags": []
          },
          "execution_count": 7
        }
      ]
    },
    {
      "cell_type": "code",
      "metadata": {
        "id": "hJ6ce8naoBox",
        "colab_type": "code",
        "colab": {
          "base_uri": "https://localhost:8080/",
          "height": 34
        },
        "outputId": "65fbe405-c698-4631-cdb9-5c760c30b495"
      },
      "source": [
        "# Danh sách các lời gọi tới các phương thức của json (đệ quy)\n",
        "json.method_calls"
      ],
      "execution_count": 8,
      "outputs": [
        {
          "output_type": "execute_result",
          "data": {
            "text/plain": [
              "[call.loads('{\"key\": \"value\"}')]"
            ]
          },
          "metadata": {
            "tags": []
          },
          "execution_count": 8
        }
      ]
    },
    {
      "cell_type": "markdown",
      "metadata": {
        "id": "IIX3tYl-pDDO",
        "colab_type": "text"
      },
      "source": [
        "Bạn có thể viết các mã kiểm tra sử dụng các thuộc tính này để đảm bảo rằng các đối tượng của các bạn cư xử như mong đợi.\n",
        "\n",
        "Bây giờ bạn có thể tạo các mocks và kiểm tra dữ liệu sử dụng của chúng. Tiếp theo, bạn sẽ học cách tuỳ chỉnh các phương thức bị mock như vậy chúng sẽ trở nên hữu dụng trong môi trường kiểm tra của bạn."
      ]
    },
    {
      "cell_type": "markdown",
      "metadata": {
        "id": "uXAcxtyUpZh2",
        "colab_type": "text"
      },
      "source": [
        "## Quản lý giá trị trả về của một ```Mock```\n",
        "\n",
        "Một lý do để sử dụng mocks là để điều khiển hành vi của code trong quá trình kiểm tra. Một cách để làm điều này đó là chỉnh định gía trị trả về của một hàm. Hãy sử dụng một ví dụ để xem cách nó làm việc thế nào. \n",
        "\n",
        "Đầu tiên, tạo một file tên là ```my_calendar.py```. Thêm vào file đó một hàm tên là ```is_weekday()```, hàm này sử dụng thư viện ```datatime``` của Python để xác định ngày hôm nay có phải là ngày trong tuần hay không. Cuối cùng, viết một mã kiểm tra đeer khẳng định rằng hàm này hoạt động như mong đợi"
      ]
    },
    {
      "cell_type": "code",
      "metadata": {
        "id": "kWvLzvXvoLI8",
        "colab_type": "code",
        "colab": {}
      },
      "source": [
        ""
      ],
      "execution_count": 0,
      "outputs": []
    },
    {
      "cell_type": "code",
      "metadata": {
        "id": "lxMCYb-w6NfU",
        "colab_type": "code",
        "colab": {
          "base_uri": "https://localhost:8080/",
          "height": 216
        },
        "outputId": "2450d5bf-c1ab-4c8b-a7df-3ab4b9fa80d4"
      },
      "source": [
        "from datetime import datetime\n",
        "\n",
        "def is_weekday():\n",
        "  today = datetime.today()\n",
        "  return (0 <= today.weekday() < 5)\n",
        "\n",
        "assert is_weekday()"
      ],
      "execution_count": 9,
      "outputs": [
        {
          "output_type": "error",
          "ename": "AssertionError",
          "evalue": "ignored",
          "traceback": [
            "\u001b[0;31m---------------------------------------------------------------------------\u001b[0m",
            "\u001b[0;31mAssertionError\u001b[0m                            Traceback (most recent call last)",
            "\u001b[0;32m<ipython-input-9-a8ab0866e589>\u001b[0m in \u001b[0;36m<module>\u001b[0;34m()\u001b[0m\n\u001b[1;32m      5\u001b[0m   \u001b[0;32mreturn\u001b[0m \u001b[0;34m(\u001b[0m\u001b[0;36m0\u001b[0m \u001b[0;34m<=\u001b[0m \u001b[0mtoday\u001b[0m\u001b[0;34m.\u001b[0m\u001b[0mweekday\u001b[0m\u001b[0;34m(\u001b[0m\u001b[0;34m)\u001b[0m \u001b[0;34m<\u001b[0m \u001b[0;36m5\u001b[0m\u001b[0;34m)\u001b[0m\u001b[0;34m\u001b[0m\u001b[0;34m\u001b[0m\u001b[0m\n\u001b[1;32m      6\u001b[0m \u001b[0;34m\u001b[0m\u001b[0m\n\u001b[0;32m----> 7\u001b[0;31m \u001b[0;32massert\u001b[0m \u001b[0mis_weekday\u001b[0m\u001b[0;34m(\u001b[0m\u001b[0;34m)\u001b[0m\u001b[0;34m\u001b[0m\u001b[0;34m\u001b[0m\u001b[0m\n\u001b[0m",
            "\u001b[0;31mAssertionError\u001b[0m: "
          ]
        }
      ]
    },
    {
      "cell_type": "markdown",
      "metadata": {
        "id": "7uBqd6PH60k5",
        "colab_type": "text"
      },
      "source": [
        "Bởi vì bạn đang kiểm tra ngày hôm nay có phải là ngày bình thường trong tuần hay không, kết quả sẽ phụ thuộc vào ngày bạn chạy mã kiểm tra\n",
        "\n",
        "Nếu đoạn mã phía trên không đưa ra một kết quả nào, nghĩa là việc kiểm định thành công. Không may mắn thay, nếu đoạn mã bạn chạy vào ngày cuối tuần thì bạn sẽ gặp lỗi ```AssertionError```:"
      ]
    },
    {
      "cell_type": "markdown",
      "metadata": {
        "id": "52XQbBUv7Q7K",
        "colab_type": "text"
      },
      "source": [
        "Khi bạn viết các mã kiểm tra, việc đảm bảo các kết quả có thể dự đoán được là hết sức quan trọng. Bạn có thể sử dụng ```Mock``` để loại bỏ những thứ không chắc chắn trong code của bạn trong quá trình kiểm tra. Trong trường hợp này, bạn có thể mock thư viện ```datetime``` và thiết lập giá trị trả về của hàm ```.today()``` tới ngày bạn lựa chọn"
      ]
    },
    {
      "cell_type": "code",
      "metadata": {
        "id": "5NGPKiFE6w2X",
        "colab_type": "code",
        "colab": {}
      },
      "source": [
        "import datetime \n",
        "from unittest.mock import Mock\n",
        "\n",
        "# Lưu một vài ngày tháng để kiểm tra\n",
        "tuesday = datetime.datetime(year=2019, month=1, day=1)\n",
        "saturday = datetime.datetime(year=2019, month=1, day=5)\n",
        "\n",
        "# Mock thư viện datetime để điều khiển giá trị ngày hôm nay\n",
        "datetime = Mock()\n",
        "\n",
        "def is_weekday():\n",
        "  today = datetime.datetime.today()\n",
        "  # Thư viện datetime xem ngày thứ hai là 0 và chủ nhật là 6\n",
        "  return (0 <= today.weekday() < 5)\n",
        "\n",
        "# Mock hàm .today() để trả về ngày thứ ba\n",
        "datetime.datetime.today.return_value = tuesday\n",
        "\n",
        "# Kiểm tra xem thứ ba có là ngày bình thường trong tuần hay không\n",
        "assert is_weekday()\n",
        "\n",
        "# Mock hàm .today() để trả về ngày thứ bảy\n",
        "datetime.datetime.today.return_value = saturday\n",
        "\n",
        "# Kiểm tra xem thứ bảy không phải là ngày trong tuần, mà là ngày cuối tuần\n",
        "assert not is_weekday()"
      ],
      "execution_count": 0,
      "outputs": []
    },
    {
      "cell_type": "markdown",
      "metadata": {
        "id": "WdObRgzr9EgW",
        "colab_type": "text"
      },
      "source": [
        "Trong ví dụ trên, ```.today()``` là một phương thức bị mock. Bạn loại bỏ đi sự không thống nhất thông qua việc gán một ngày cụ thể cho giá trị trả về ```.return_value``` của mock. Theo cách này, khi bạn gọi ```.today()```, nó trả về giá trị ```datetime``` bạn chỉ định. \n",
        "\n",
        "Trong mã kiểm tra đầu tiên, bạn đảm bảo rằng ngày thứ ba là một ngày bình thường trong tuần. Trong mã kiểm tra thứ hai bạn xác minh rằng ngày thứ bảy không phải là một ngày trong tuần. Bây giờ thì bất kể bạn chạy đoạn mã vào ngày nào bạn đều có kết quả như mong muốn vì bạn đã mock thư viện ```datetime``` và có thể điều khiển hành vi của đối tượng."
      ]
    },
    {
      "cell_type": "code",
      "metadata": {
        "id": "osH0fQh889FZ",
        "colab_type": "code",
        "colab": {}
      },
      "source": [
        ""
      ],
      "execution_count": 0,
      "outputs": []
    }
  ]
}