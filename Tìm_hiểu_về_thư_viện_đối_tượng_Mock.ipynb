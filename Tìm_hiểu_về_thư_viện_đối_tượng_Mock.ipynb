{
  "nbformat": 4,
  "nbformat_minor": 0,
  "metadata": {
    "colab": {
      "name": "Tìm hiểu về thư viện đối tượng Mock.ipynb",
      "version": "0.3.2",
      "provenance": [],
      "include_colab_link": true
    },
    "kernelspec": {
      "name": "python3",
      "display_name": "Python 3"
    }
  },
  "cells": [
    {
      "cell_type": "markdown",
      "metadata": {
        "id": "view-in-github",
        "colab_type": "text"
      },
      "source": [
        "<a href=\"https://colab.research.google.com/github/vuduclyunitn/learning_python/blob/master/T%C3%ACm_hi%E1%BB%83u_v%E1%BB%81_th%C6%B0_vi%E1%BB%87n_%C4%91%E1%BB%91i_t%C6%B0%E1%BB%A3ng_Mock.ipynb\" target=\"_parent\"><img src=\"https://colab.research.google.com/assets/colab-badge.svg\" alt=\"Open In Colab\"/></a>"
      ]
    },
    {
      "cell_type": "code",
      "metadata": {
        "id": "gSdHbPI-aDjF",
        "colab_type": "code",
        "colab": {}
      },
      "source": [
        ""
      ],
      "execution_count": 0,
      "outputs": []
    },
    {
      "cell_type": "markdown",
      "metadata": {
        "id": "T2lcFSOMffFu",
        "colab_type": "text"
      },
      "source": [
        "Dịch và bổ sung từ: https://realpython.com/python-mock-library/"
      ]
    },
    {
      "cell_type": "markdown",
      "metadata": {
        "id": "RA-N2OJUe8aD",
        "colab_type": "text"
      },
      "source": [
        "Khi bạn viết các đoạn mã để kiểm tra, thẩm định xem logic của chương trình của mình có đúng, đáng tin, hay hiệu quả hay không, chất lượng của các đoạn mã kiểm tra của bạn phụ thuộc vào cách chúng thực hiện các tiêu chí trên. Các chướng ngại như logic quá phức tạp và các phụ thuộc không thể dự đoán trước được làm cho việc viết các mã kiểm tra tốt trở nên khó khăn.\n",
        "\n",
        "Những điều bạn sẽ đạt được sau khi hoàn thành bài hướng dẫn này:\n",
        "\n",
        "\n",
        "*   Tạo ra các đối tượng ```mock``` trong Python sử dụng ```Mock```\n",
        "*   Khẳng định được bạn đang sử dụng các đối tượng như bạn mong muốn.\n",
        "*   Kiểm tra dữ liệu được sử dụng được lưu trong các ```mocks```\n",
        "*   Cấu hình các đặc tính của các đối tượng mock.\n",
        "*   Tránh các vấn đề tồn tại khi thực hiện mock trong Python\n",
        "\n",
        "Bạn sẽ thấy được mocking là gì và cách nó cải tiến các mã kiểm tra của bạn.\n",
        "\n"
      ]
    },
    {
      "cell_type": "markdown",
      "metadata": {
        "id": "gEsaCWxw9G62",
        "colab_type": "text"
      },
      "source": [
        "## Mocking là gì\n",
        "\n",
        "Một đối tượng mock sẽ thay thế và bắt chước một đối tượng thực bên trong một môi trường kiểm tra. Đối tượng mock là một công cụ đa năng và mạnh mẽ cho việc cải thiện chất lượng của các mã kiểm tra.\n",
        "\n"
      ]
    },
    {
      "cell_type": "markdown",
      "metadata": {
        "id": "TeF_PiOL9teA",
        "colab_type": "text"
      },
      "source": [
        "Một lý do ta nên sử dụng các đối tượng mock là ta có thể điều khiển hành vi của code trong quá trình kiểm tra.\n",
        "\n",
        "Ví dụ, nếu đoạn mã của bạn tạo ra các yêu cầu HTTP tới các dịch vụ bên ngoài, khi đó các mã kiểm tra thực thi đúng như dự đoán chỉ khi các dịch vụ này cư xử như bạn mong đợi. Thỉnh thoảng, một thay đổi tạm thời trong hành vi của các dịch vụ bên ngoài có thể làm cho bộ mã kiểm tra của bạn bị thất bại gián đoạn.\n",
        "\n",
        "Bởi vì lý do đó, cách tốt hơn là bạn kiểm tra code của bạn trong một môi trường được điều khiển. Thay thế yêu cầu thực sự với một đối tượng mock cho phép bạn mô phỏng các sự kiện dịch vụ bên ngoài bị ngắt và các các hồi đáp thành công theo một cách có thể dự đoán được.\n",
        "\n",
        "Thỉnh thoảng, sẽ khó khăn khi kiểm tra một số vùng trong hệ thống code của bạn. Các vùng này bao gồm các khối ```except``` và các câu lệnh ```if``` khó được thoả mãn. Sử dụng các đối tượng mock có thể giúp bạn điều khiển đường thực thi của code của bạn để đạt tới các vùng này và cải thiện diện bao quát code. \n",
        "\n",
        "Một lý do khác khuyến khích sử dụng các đối tượng mock đó là nó giúp ta hiểu hơn cách ta đang sử dụng các đối tác khác trong code của mình. Một đối tượng mock chứa dữ liệu về việc sử dụng của nó, ví dụ:\n",
        "\n",
        "* Khi bạn gọi một phương thức\n",
        "* Cách bạn gọi một phương thức\n",
        "* Bạn gọi một phương thức thường xuyên như thế nào\n",
        "\n",
        "Hiểu đối tượng mock hoạt động thế nào là bước đầu tiên trong việc học cách sử dụng nó.\n",
        "\n",
        "Bây giờ ta hãy xem cách sử dụng các đối tượng mock"
      ]
    },
    {
      "cell_type": "markdown",
      "metadata": {
        "id": "eml_0D73AK0b",
        "colab_type": "text"
      },
      "source": [
        "## Thự viện Mock trong Python\n",
        "\n",
        "Trong Python, thư viện ```unitest.mock``` cung cấp cho ta một cách dễ dàng để sử dụng mocks trong mã kiểm tra của bạn\n",
        "\n",
        "**Chú ý**: Thư viện chuẩn có sẵn ```unittest.mock``` trong các phiên bản 3.3 và các phiên bản sau. Nếu bạn đang sử dụng phiên bản Python cũ, bạn sẽ cần cài đặt thư viện mock, ví dụ bạn có thể cài đặt nó từ PyPI:\n",
        "\n",
        "```pip install mock```"
      ]
    },
    {
      "cell_type": "markdown",
      "metadata": {
        "id": "HrRGaim0AzbQ",
        "colab_type": "text"
      },
      "source": [
        "```unittest.mock``` cung cấp một lớp gọi là ```Mock```, bạn sẽ sử dụng lớp này để bắt chước các đối tượng thực trong hệ thống code của bạn. ```Mock``` cung cấp các dữ liệu có ích và mềm dẻo. Với các tính năng này, bạn sẽ đáp ứng được các yêu cầu mocking trong các mã kiểm tra của bạn\n",
        "\n",
        "Thư viện này cũng cung cấp một hàm, gọi là ```patch()```, hàm này they thế các đối tượng thực sự trong code của bạn với các hiện thực ```Mock```. Bạn có thể sử dụng ```patch()``` như là một ```decorator``` hoặc trong một quản lý ngữ cảnh (context manager), điều này cho phép bạn điều khiển phạm vi mà đối tượng sẽ được mock. Một khi phạm vi được thiết kế tồn tại, ```patch()``` sẽ dọn dẹp code của bạn thông qua việc thay thế các đối tượng bị mock với các thành phần ban đầu.\n",
        "\n",
        "Cuối cùng ```unittest.mock``` cung cấp các giải pháp cho một vài vấn đề tồn tại khi mock các đối tượng.\n",
        "\n",
        "Bây giờ bạn đã hiểu hơn về mocking là gì và thư viện bạn sẽ sử dụng để làm nó. Hãy đi sâu vào nso và khám phá các tính năng và các đặc tính mà ```unittest.mock``` cung cấp."
      ]
    },
    {
      "cell_type": "markdown",
      "metadata": {
        "id": "aaXRZ5O7CegT",
        "colab_type": "text"
      },
      "source": [
        "## Đối tượng Mock\n",
        "\n",
        "```unittest.mock``` cung cấp một lớp cơ sở cho việc mock các đối tượng, lớp này được gọi là ```Mock```. Các trường hợp ứng dụng ```Mock``` rất nhiều bởi vì ```Mock``` rất là mềm dẻo. \n",
        "\n",
        "Hãy bắt đầu bằng việc khởi động một hiện thực ```Mock``` mới"
      ]
    },
    {
      "cell_type": "code",
      "metadata": {
        "id": "glIgg5oZ9GCJ",
        "colab_type": "code",
        "colab": {}
      },
      "source": [
        "from unittest.mock import Mock"
      ],
      "execution_count": 0,
      "outputs": []
    },
    {
      "cell_type": "code",
      "metadata": {
        "id": "PwVezlKuDOQW",
        "colab_type": "code",
        "colab": {}
      },
      "source": [
        "# Khởi tạo một đối tượng mock\n",
        "mock = Mock()"
      ],
      "execution_count": 0,
      "outputs": []
    },
    {
      "cell_type": "code",
      "metadata": {
        "id": "8vQhmZupDTAD",
        "colab_type": "code",
        "colab": {
          "base_uri": "https://localhost:8080/",
          "height": 34
        },
        "outputId": "01fe8d32-0e6f-4fb8-aff6-f04e874cdd15"
      },
      "source": [
        "# Mỗi đối tượng mock có một ID\n",
        "mock"
      ],
      "execution_count": 5,
      "outputs": [
        {
          "output_type": "execute_result",
          "data": {
            "text/plain": [
              "<Mock id='139698179792736'>"
            ]
          },
          "metadata": {
            "tags": []
          },
          "execution_count": 5
        }
      ]
    },
    {
      "cell_type": "markdown",
      "metadata": {
        "id": "w05zPQz0DY0L",
        "colab_type": "text"
      },
      "source": [
        "Sau khi khởi tạo được đối tượng mock, bạn có thể thay thế một đối tượng trong code của bạn với ```Mock``` mới này. Bạn có thể thực hiện điều này thông qua việc truyền vào một tham số cho một hàm hoặc định nghĩa lại một đối tượng khác."
      ]
    },
    {
      "cell_type": "code",
      "metadata": {
        "id": "ay7tPe5uDTg3",
        "colab_type": "code",
        "colab": {}
      },
      "source": [
        "# Truyền mock vào như là một tham số cho hàm do_something()\n",
        "do_something(mock)\n",
        "\n",
        "# Gán đối tượng mock cho một biến khác\n",
        "json = mock"
      ],
      "execution_count": 0,
      "outputs": []
    },
    {
      "cell_type": "markdown",
      "metadata": {
        "id": "A7nJoWqGD1Z0",
        "colab_type": "text"
      },
      "source": [
        "Khi bạn thay thế một đối tượng trong code của bạn, ```Mock``` phải trông như đối tượng thực sự nó đang thay thế. Nếu không, code của bạn sẽ không thể sử dụng ```Mock``` thay cho đối tượng ban đầu.\n",
        "\n",
        "Ví dụ, nếu bạn đang mock thư viện ```json``` và chương trình của bạn gọi hàm ```dumps()```, khi đó đối tượng mock sẽ chứa hàm ```dumps()```.\n",
        "\n",
        "Tiếp theo ta hãy xem cách ```Mock``` giải quyết  thử thách này"
      ]
    },
    {
      "cell_type": "markdown",
      "metadata": {
        "id": "PsyfvtVyEYO8",
        "colab_type": "text"
      },
      "source": [
        "## Các thuộc tính lười biếng và các phương thức lười biếng\n",
        "\n",
        "Một ```Mock``` phải mô phỏng bất cứ đối tượng nào mà nó thay thế. Để làm được điều này, nó tạo ra các thuộc tính của nó khi bạn truy cập"
      ]
    },
    {
      "cell_type": "code",
      "metadata": {
        "id": "-A6noM1vE97g",
        "colab_type": "code",
        "colab": {}
      },
      "source": [
        "def do_something(mock):\n",
        "  print(\"Hello world\")"
      ],
      "execution_count": 0,
      "outputs": []
    },
    {
      "cell_type": "code",
      "metadata": {
        "id": "V_sW_eWGFE2n",
        "colab_type": "code",
        "colab": {
          "base_uri": "https://localhost:8080/",
          "height": 34
        },
        "outputId": "e324ed15-96e8-40f0-b2c7-597859a048df"
      },
      "source": [
        "mock = Mock()\n",
        "#do_something(mock)\n",
        "mock.do_something()"
      ],
      "execution_count": 18,
      "outputs": [
        {
          "output_type": "execute_result",
          "data": {
            "text/plain": [
              "<Mock name='mock.do_something()' id='139698169451128'>"
            ]
          },
          "metadata": {
            "tags": []
          },
          "execution_count": 18
        }
      ]
    },
    {
      "cell_type": "markdown",
      "metadata": {
        "id": "VYHXF6GQFebt",
        "colab_type": "text"
      },
      "source": [
        "Ở ví dụ trên bạn có thể thấy ta mock một hàm tên là ```do_something()``` sử dụng đối tượng mock"
      ]
    },
    {
      "cell_type": "code",
      "metadata": {
        "id": "zNQuRa1kEXwT",
        "colab_type": "code",
        "colab": {}
      },
      "source": [
        "import json"
      ],
      "execution_count": 0,
      "outputs": []
    },
    {
      "cell_type": "code",
      "metadata": {
        "id": "ZJeD7DkuEsfs",
        "colab_type": "code",
        "colab": {}
      },
      "source": [
        "json = Mock()"
      ],
      "execution_count": 0,
      "outputs": []
    },
    {
      "cell_type": "code",
      "metadata": {
        "id": "xQI_EyMEEtbL",
        "colab_type": "code",
        "colab": {
          "base_uri": "https://localhost:8080/",
          "height": 34
        },
        "outputId": "4fec3810-0bff-4bbf-9a7d-22fae9665a1f"
      },
      "source": [
        "json.dumps()"
      ],
      "execution_count": 21,
      "outputs": [
        {
          "output_type": "execute_result",
          "data": {
            "text/plain": [
              "<Mock name='mock.dumps()' id='139698169451632'>"
            ]
          },
          "metadata": {
            "tags": []
          },
          "execution_count": 21
        }
      ]
    },
    {
      "cell_type": "markdown",
      "metadata": {
        "id": "sHFtTC81FuQk",
        "colab_type": "text"
      },
      "source": [
        "Hay là bạn có thể mock một thư viện tên là ```json``` và bạn gọi phương thức ```dumps()```, đối tượng mock sẽ tạo một phương thức để cho giao tiếp của nó có thể khớp với với giao tiếp của thư viện"
      ]
    },
    {
      "cell_type": "markdown",
      "metadata": {
        "id": "TqsUzrlfF8ij",
        "colab_type": "text"
      },
      "source": [
        ""
      ]
    },
    {
      "cell_type": "code",
      "metadata": {
        "id": "b0foeO0WEvsT",
        "colab_type": "code",
        "colab": {}
      },
      "source": [
        ""
      ],
      "execution_count": 0,
      "outputs": []
    }
  ]
}