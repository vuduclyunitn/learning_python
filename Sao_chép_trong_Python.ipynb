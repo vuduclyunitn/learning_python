{
  "nbformat": 4,
  "nbformat_minor": 0,
  "metadata": {
    "colab": {
      "name": "Sao chép trong Python.ipynb",
      "version": "0.3.2",
      "provenance": [],
      "include_colab_link": true
    },
    "kernelspec": {
      "name": "python3",
      "display_name": "Python 3"
    }
  },
  "cells": [
    {
      "cell_type": "markdown",
      "metadata": {
        "id": "view-in-github",
        "colab_type": "text"
      },
      "source": [
        "<a href=\"https://colab.research.google.com/github/vuduclyunitn/learning_python/blob/master/Sao_ch%C3%A9p_trong_Python.ipynb\" target=\"_parent\"><img src=\"https://colab.research.google.com/assets/colab-badge.svg\" alt=\"Open In Colab\"/></a>"
      ]
    },
    {
      "cell_type": "code",
      "metadata": {
        "id": "-bJOKGe-oEp1",
        "colab_type": "code",
        "colab": {}
      },
      "source": [
        ""
      ],
      "execution_count": 0,
      "outputs": []
    },
    {
      "cell_type": "markdown",
      "metadata": {
        "id": "wq5gwTXfoHfI",
        "colab_type": "text"
      },
      "source": [
        "# Dịch và bổ sung từ: https://www.geeksforgeeks.org/copy-python-deep-copy-shallow-copy/\n",
        "\n",
        "Trong Python, các phép gán không sao chép các đối tượng, chúng tạo ra các kết dính (bindings) giữa một đối tượng đích và một đối tượng. Khi bạn sử dụng phép $=$ , người dùng sẽ nghĩ rằng bạn tạo ra một đối tượng mới; nhưng thực ra nó không phải như vậy. Nó chỉ tạo ra một biến mới và chia sẻ tham chiếu tới đối tượng ban đầu. Thỉnh thoảng một người dùng muốn làm việc với các đối tượng mutable, để làm điều đó anh ta muốn tìm một cách tạo ra các \"bản sao thực sự\" hoặc \"các nhân bản\" của các đối tượng này. Hoặc, thỉnh thoảng một người dùng muốn sao chép mà không muốn tự động thay đổi giá trị ban đầu cùng một lúc, để làm điều đó ta tạo ra các bản sao của các đối tượng.\n",
        "\n",
        "Một bản sao thỉnh thoảng được cần tới khi một người muốn thay đổi một bản sao mà không phải thay đổi biến khác. Trong Python, có hai cách để tạo ra các bản sau:\n",
        "* Sao chép sâu\n",
        "* Sao chép nông\n",
        "\n",
        "Để tạo ra các bản sao này, chúng ta sử dụng module copy. Chúng ta sử dụng module copy cho việc sao chép nông và sâu. Ví dụ\n"
      ]
    },
    {
      "cell_type": "markdown",
      "metadata": {
        "id": "il2ZmI5Epbq3",
        "colab_type": "text"
      },
      "source": [
        ""
      ]
    },
    {
      "cell_type": "code",
      "metadata": {
        "id": "OyuFtnzpp5d5",
        "colab_type": "code",
        "colab": {}
      },
      "source": [
        "# Import module copy\n",
        "import copy\n",
        "\n",
        "# Khởi tạo danh sách li1\n",
        "li1 = [1, 2, [3, 5], 4]\n"
      ],
      "execution_count": 0,
      "outputs": []
    },
    {
      "cell_type": "code",
      "metadata": {
        "id": "L8bGvyElqDYb",
        "colab_type": "code",
        "colab": {}
      },
      "source": [
        "# Sử dụng copy cho việc sao chép nông\n",
        "li2 = copy.copy(li1)"
      ],
      "execution_count": 0,
      "outputs": []
    },
    {
      "cell_type": "code",
      "metadata": {
        "id": "CZ8oYD7UqJHV",
        "colab_type": "code",
        "colab": {}
      },
      "source": [
        "li2.append(3)"
      ],
      "execution_count": 0,
      "outputs": []
    },
    {
      "cell_type": "code",
      "metadata": {
        "id": "hI84neWgqNR0",
        "colab_type": "code",
        "colab": {
          "base_uri": "https://localhost:8080/",
          "height": 34
        },
        "outputId": "3663de34-6c80-4661-bc4e-da11ca3b13c4"
      },
      "source": [
        "li2"
      ],
      "execution_count": 5,
      "outputs": [
        {
          "output_type": "execute_result",
          "data": {
            "text/plain": [
              "[1, 2, [3, 5], 4, 3]"
            ]
          },
          "metadata": {
            "tags": []
          },
          "execution_count": 5
        }
      ]
    },
    {
      "cell_type": "code",
      "metadata": {
        "id": "7QgCplj-qNzt",
        "colab_type": "code",
        "colab": {
          "base_uri": "https://localhost:8080/",
          "height": 34
        },
        "outputId": "524ce0cb-bbee-45c0-cfe9-15e87155a07c"
      },
      "source": [
        "li1"
      ],
      "execution_count": 6,
      "outputs": [
        {
          "output_type": "execute_result",
          "data": {
            "text/plain": [
              "[1, 2, [3, 5], 4]"
            ]
          },
          "metadata": {
            "tags": []
          },
          "execution_count": 6
        }
      ]
    },
    {
      "cell_type": "code",
      "metadata": {
        "id": "4lg5LUcBqQSB",
        "colab_type": "code",
        "colab": {}
      },
      "source": [
        "# Sử dụng deepcopy cho việc sao chép sâu\n",
        "li3 = copy.deepcopy(li1)"
      ],
      "execution_count": 0,
      "outputs": []
    },
    {
      "cell_type": "code",
      "metadata": {
        "id": "uKfE09ZWqYe7",
        "colab_type": "code",
        "colab": {}
      },
      "source": [
        "li3.append(5)"
      ],
      "execution_count": 0,
      "outputs": []
    },
    {
      "cell_type": "code",
      "metadata": {
        "id": "GX7bFXUUqaYm",
        "colab_type": "code",
        "colab": {
          "base_uri": "https://localhost:8080/",
          "height": 34
        },
        "outputId": "17655527-fa0a-4df8-e888-1830aecca001"
      },
      "source": [
        "li3"
      ],
      "execution_count": 9,
      "outputs": [
        {
          "output_type": "execute_result",
          "data": {
            "text/plain": [
              "[1, 2, [3, 5], 4, 5]"
            ]
          },
          "metadata": {
            "tags": []
          },
          "execution_count": 9
        }
      ]
    },
    {
      "cell_type": "code",
      "metadata": {
        "id": "dxC8ny9Jqa_X",
        "colab_type": "code",
        "colab": {
          "base_uri": "https://localhost:8080/",
          "height": 34
        },
        "outputId": "2077b0b3-b588-4f85-84d2-fe92e5216dd9"
      },
      "source": [
        "li1"
      ],
      "execution_count": 10,
      "outputs": [
        {
          "output_type": "execute_result",
          "data": {
            "text/plain": [
              "[1, 2, [3, 5], 4]"
            ]
          },
          "metadata": {
            "tags": []
          },
          "execution_count": 10
        }
      ]
    },
    {
      "cell_type": "code",
      "metadata": {
        "id": "of6_VFncqb51",
        "colab_type": "code",
        "colab": {}
      },
      "source": [
        "# Tạo bản sao bằng phép gán\n",
        "li4 = li1"
      ],
      "execution_count": 0,
      "outputs": []
    },
    {
      "cell_type": "code",
      "metadata": {
        "id": "hsiojTsiql2T",
        "colab_type": "code",
        "colab": {}
      },
      "source": [
        "li4.append(6)"
      ],
      "execution_count": 0,
      "outputs": []
    },
    {
      "cell_type": "code",
      "metadata": {
        "id": "izZBXGp0qovM",
        "colab_type": "code",
        "colab": {
          "base_uri": "https://localhost:8080/",
          "height": 34
        },
        "outputId": "fa7b5f6c-e5a9-4662-fd26-00fd8c49011c"
      },
      "source": [
        "li4"
      ],
      "execution_count": 13,
      "outputs": [
        {
          "output_type": "execute_result",
          "data": {
            "text/plain": [
              "[1, 2, [3, 5], 4, 6]"
            ]
          },
          "metadata": {
            "tags": []
          },
          "execution_count": 13
        }
      ]
    },
    {
      "cell_type": "code",
      "metadata": {
        "id": "FFuD6uZEqpSU",
        "colab_type": "code",
        "colab": {
          "base_uri": "https://localhost:8080/",
          "height": 34
        },
        "outputId": "ec56d681-b1a7-4baf-d89f-4d4beaf44e23"
      },
      "source": [
        "li1"
      ],
      "execution_count": 14,
      "outputs": [
        {
          "output_type": "execute_result",
          "data": {
            "text/plain": [
              "[1, 2, [3, 5], 4, 6]"
            ]
          },
          "metadata": {
            "tags": []
          },
          "execution_count": 14
        }
      ]
    },
    {
      "cell_type": "code",
      "metadata": {
        "id": "tClAXUV2qqIq",
        "colab_type": "code",
        "colab": {}
      },
      "source": [
        ""
      ],
      "execution_count": 0,
      "outputs": []
    },
    {
      "cell_type": "markdown",
      "metadata": {
        "id": "W6_1PyGpqr7Q",
        "colab_type": "text"
      },
      "source": [
        "Trong đoạn code phía trên, \n",
        "\n",
        "```copy()``` trả về một bản sao chép nông của danh sách và ```deepcopy()``` trả về một bản sao chép sâu của một danh sách\n",
        "\n"
      ]
    },
    {
      "cell_type": "markdown",
      "metadata": {
        "id": "7ys4EsOJq9Wg",
        "colab_type": "text"
      },
      "source": [
        "Sao chép sâu là một quá trình sao chép mang tính đệ quy. Có nghĩa là đầu tiên ta xây dựng một đối tượng thu thập mới và sau đó lấp vào đối tượng này các bản sao của các đối tượng con của đối tượng ban đầu một cách đệ quy. Trong trường hợp sao chép sâu, một bản sao của một đối tượng được sao chép vào một đối tượng khác. Có nghĩa là **bất cứ thay đổi** nào tới một bản sao **không được áp dụng** cho đối tượng ban đầu. Trong Python, ta dùng hàm **deepcopy()** để làm điều này."
      ]
    },
    {
      "cell_type": "code",
      "metadata": {
        "id": "g6p1HP2Fq8vV",
        "colab_type": "code",
        "colab": {}
      },
      "source": [
        "import copy"
      ],
      "execution_count": 0,
      "outputs": []
    },
    {
      "cell_type": "code",
      "metadata": {
        "id": "TDsVVSCRrpaT",
        "colab_type": "code",
        "colab": {}
      },
      "source": [
        "# Khởi tạo danh sách 1\n",
        "li1 = [1, 2, [3, 5], 4]"
      ],
      "execution_count": 0,
      "outputs": []
    },
    {
      "cell_type": "code",
      "metadata": {
        "id": "Kb3wDZnzruef",
        "colab_type": "code",
        "colab": {}
      },
      "source": [
        "# Sử dụng deepcopy để sao chép sâu\n",
        "li2 = copy.deepcopy(li1)"
      ],
      "execution_count": 0,
      "outputs": []
    },
    {
      "cell_type": "code",
      "metadata": {
        "id": "ILFbjaeJryjn",
        "colab_type": "code",
        "colab": {
          "base_uri": "https://localhost:8080/",
          "height": 50
        },
        "outputId": "bae75aab-e82c-40b3-887e-50577d1cbaff"
      },
      "source": [
        "# Các phần tử ban đầu của danh sách\n",
        "print(\"Các phần tử ban đầu trước khi sao chép sâu\")\n",
        "for i in range(0, len(li1)):\n",
        "    print(li1[i], end=\" \")\n",
        "               \n",
        "print(\"\\r\")"
      ],
      "execution_count": 19,
      "outputs": [
        {
          "output_type": "stream",
          "text": [
            "Các phần tử ban đầu trước khi sao chép sâu\n",
            "1 2 [3, 5] 4 \r\n"
          ],
          "name": "stdout"
        }
      ]
    },
    {
      "cell_type": "code",
      "metadata": {
        "id": "5acp0worsCVo",
        "colab_type": "code",
        "colab": {}
      },
      "source": [
        "# Thay đổi một phần tử vào l2\n",
        "li2[2][0] = 7"
      ],
      "execution_count": 0,
      "outputs": []
    },
    {
      "cell_type": "code",
      "metadata": {
        "id": "wzlslZytsWLt",
        "colab_type": "code",
        "colab": {
          "base_uri": "https://localhost:8080/",
          "height": 50
        },
        "outputId": "8b034b22-51e2-44e2-8ba7-84057715c543"
      },
      "source": [
        "print(\"Danh sách các phần tử của li2\")\n",
        "for i in range(0, len(li1)):\n",
        "  print(li2[i], end=\" \")\n",
        "\n",
        "print(\"\\r\")"
      ],
      "execution_count": 21,
      "outputs": [
        {
          "output_type": "stream",
          "text": [
            "Danh sách các phần tử của li2\n",
            "1 2 [7, 5] 4 \r\n"
          ],
          "name": "stdout"
        }
      ]
    },
    {
      "cell_type": "code",
      "metadata": {
        "id": "GG5KI1SCsoOz",
        "colab_type": "code",
        "colab": {
          "base_uri": "https://localhost:8080/",
          "height": 50
        },
        "outputId": "a1f87218-518d-439c-e9b3-74484bfc3cb6"
      },
      "source": [
        "# Thay đổi không được áp dụng vào danh sách ban đầu\n",
        "print(\"Các phần tử ban đầu sau khi sao chép sâu\")\n",
        "for i in range(0, len(li1)):\n",
        "  print(li1[i], end=\" \")"
      ],
      "execution_count": 22,
      "outputs": [
        {
          "output_type": "stream",
          "text": [
            "Các phần tử ban đầu sau khi sao chép sâu\n",
            "1 2 [3, 5] 4 "
          ],
          "name": "stdout"
        }
      ]
    },
    {
      "cell_type": "markdown",
      "metadata": {
        "id": "3szxD6SYs35P",
        "colab_type": "text"
      },
      "source": [
        "Trong ví dụ trên ta thấy rằng, thay đổi tạo ra trong danh sách bản sao không được áp dụng cho danh sách ban đầu."
      ]
    },
    {
      "cell_type": "markdown",
      "metadata": {
        "id": "i4ywtJSStA_1",
        "colab_type": "text"
      },
      "source": [
        "Sao chép nông nghĩa là xây dựng một đối tượng thu thập mới và lấp đầy đối tượng này với các tham chiếu tới cá đối tượng con được tìm thấy trong đối tượng ban đầu. Quá trình sao chép không có tính đệ quy và do đó không tạo ra các bản sao của chính các đối tượng con. Trong trường hợp của sao chép nông, **bất cứ thay đổi** nào tới bản sao của một đối tượng **không được áp dụng** tới đối tượng ban đầu"
      ]
    },
    {
      "cell_type": "code",
      "metadata": {
        "id": "0KKW5DIGs1zV",
        "colab_type": "code",
        "colab": {}
      },
      "source": [
        "import copy"
      ],
      "execution_count": 0,
      "outputs": []
    },
    {
      "cell_type": "code",
      "metadata": {
        "id": "UHLSbbEDuPhB",
        "colab_type": "code",
        "colab": {}
      },
      "source": [
        "# Khởi tạo danh sách 1\n",
        "li1 = [1, 2, [3,5], 4] \n"
      ],
      "execution_count": 0,
      "outputs": []
    },
    {
      "cell_type": "code",
      "metadata": {
        "id": "3dLddJDHuSXd",
        "colab_type": "code",
        "colab": {}
      },
      "source": [
        "# Tạo một bản copy nông\n",
        "li2 = copy.copy(li1)"
      ],
      "execution_count": 0,
      "outputs": []
    },
    {
      "cell_type": "code",
      "metadata": {
        "id": "yJJjJhKPuWC7",
        "colab_type": "code",
        "colab": {
          "base_uri": "https://localhost:8080/",
          "height": 50
        },
        "outputId": "8c4b9498-363f-45d0-b886-aaf26696c5aa"
      },
      "source": [
        "# Các phần tử ban đầu của danh sách\n",
        "print(\"Các phần tử ban đầu trước khi sao chép sâu\")\n",
        "for i in range(0, len(li1)):\n",
        "    print(li1[i], end=\" \")\n",
        "               \n",
        "print(\"\\r\")"
      ],
      "execution_count": 26,
      "outputs": [
        {
          "output_type": "stream",
          "text": [
            "Các phần tử ban đầu trước khi sao chép sâu\n",
            "1 2 [3, 5] 4 \r\n"
          ],
          "name": "stdout"
        }
      ]
    },
    {
      "cell_type": "code",
      "metadata": {
        "id": "0ORW6t2TuaPP",
        "colab_type": "code",
        "colab": {}
      },
      "source": [
        "# Thay đổi một phần tử vào l2\n",
        "li2[2][0] = 7"
      ],
      "execution_count": 0,
      "outputs": []
    },
    {
      "cell_type": "code",
      "metadata": {
        "id": "_nslIAYhucmR",
        "colab_type": "code",
        "colab": {
          "base_uri": "https://localhost:8080/",
          "height": 50
        },
        "outputId": "353439bf-09cb-4d59-a6fe-1e417ea38e1c"
      },
      "source": [
        "# Thay đổi không được áp dụng vào danh sách ban đầu\n",
        "print(\"Các phần tử ban đầu sau khi sao chép sâu\")\n",
        "for i in range(0, len(li1)):\n",
        "  print(li1[i], end=\" \")"
      ],
      "execution_count": 28,
      "outputs": [
        {
          "output_type": "stream",
          "text": [
            "Các phần tử ban đầu sau khi sao chép sâu\n",
            "1 2 [7, 5] 4 "
          ],
          "name": "stdout"
        }
      ]
    },
    {
      "cell_type": "markdown",
      "metadata": {
        "id": "hFzWqsVYugD-",
        "colab_type": "text"
      },
      "source": [
        "Trong ví dụ trên, thay đổi tạo ra với danh sách bản sao không làm thay đổi danh sách ban đầu"
      ]
    },
    {
      "cell_type": "markdown",
      "metadata": {
        "id": "63Qw-vlYu_2I",
        "colab_type": "text"
      },
      "source": [
        "### Các điểm quan trọng\n",
        "Điểm khác biệt giữa sao chép nông và sâu là đối với các đối tượng phức hợp (các đối tượng chứa các đối tượng khác, như là danh sách và các hiện thực lớp)\n",
        "\n",
        "\n",
        "*  Sao chép nông xây dựng một đối tượng phức hợp mới và sau đó chèn vào các tham chiếu được tìm thấy trong đối tượng ban đầu\n",
        "*   Sao chép sâu xây dựng một đối tượng phức hợp mới và sau đó, một cách đệ quy, chèn các bản sao tìm thấy trong đối tượng ban đầu.\n",
        "\n"
      ]
    },
    {
      "cell_type": "code",
      "metadata": {
        "id": "9zeq_ACFuezc",
        "colab_type": "code",
        "colab": {}
      },
      "source": [
        ""
      ],
      "execution_count": 0,
      "outputs": []
    }
  ]
}