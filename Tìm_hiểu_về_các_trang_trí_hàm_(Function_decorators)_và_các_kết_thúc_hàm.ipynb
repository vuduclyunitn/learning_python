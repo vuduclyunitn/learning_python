{
  "nbformat": 4,
  "nbformat_minor": 0,
  "metadata": {
    "colab": {
      "name": "Tìm hiểu về các trang trí hàm (Function decorators) và các kết thúc hàm.ipynb",
      "version": "0.3.2",
      "provenance": [],
      "include_colab_link": true
    },
    "kernelspec": {
      "name": "python3",
      "display_name": "Python 3"
    }
  },
  "cells": [
    {
      "cell_type": "markdown",
      "metadata": {
        "id": "view-in-github",
        "colab_type": "text"
      },
      "source": [
        "<a href=\"https://colab.research.google.com/github/vuduclyunitn/learning_python/blob/master/T%C3%ACm_hi%E1%BB%83u_v%E1%BB%81_c%C3%A1c_trang_tr%C3%AD_h%C3%A0m_(Function_decorators)_v%C3%A0_c%C3%A1c_k%E1%BA%BFt_th%C3%BAc_h%C3%A0m.ipynb\" target=\"_parent\"><img src=\"https://colab.research.google.com/assets/colab-badge.svg\" alt=\"Open In Colab\"/></a>"
      ]
    },
    {
      "cell_type": "markdown",
      "metadata": {
        "id": "cHCJzuyeM4Ko",
        "colab_type": "text"
      },
      "source": [
        "Các trang trí hàm cho phép ta đánh dấu các hàm trong mã nguồn để nâng cao khả năng của chúng. Đây là một công cụ mạnh mẽ, nhưng để giỏi về nó yêu cầu ta phải hiểu về các kết thúc (closures).\n",
        "\n",
        "Một trong số các từ khoá được để dành mới nhất trong Python là ```nonlocal```, từ khoá được giới thiệu trong Python 3.0. Nếu bạn muốn triển khai các decorators của riêng mình, bạn phải biết các closures bên trong, khi đó bạn cần tới ```nonlocal```.\n",
        "\n",
        "Closures còn rất quan trọng trong việc lập trình bất đồng bộ với các hàm gọi lại (callbacks).\n",
        "\n",
        "\n",
        "Sau khi thực hiện bài hướng dẫn này, ta sẽ hiểu được:\n",
        "\n",
        "\n",
        "*  Cách Python đánh giá cú pháp decorator\n",
        "*   Cách Python quyết định xem biến nào là cục bộ\n",
        "*   Tại sao ta cần tới closures và cách chúng hoạt động\n",
        "*  ```nonlocal``` được dùng để giải quyết vấn đề gì.\n",
        "\n",
        "Sau khi trả lời các câu hỏi trên ta có được một hiểu biết nhất định để giải quyết các vấn đề sau:\n",
        "\n",
        "\n",
        "*   Triển khai một decorator của riêng mình\n",
        "*   Tìm hiểu các decorators trong thư viện chuẩn\n",
        "*  Triển khai một decorator có tham sốsố\n",
        "\n",
        "Chúng ta bắt đầu với các khái niệm căn bản về decoratorsors\n",
        "\n",
        "\n",
        "\n"
      ]
    },
    {
      "cell_type": "markdown",
      "metadata": {
        "id": "4IrNghZRQEKT",
        "colab_type": "text"
      },
      "source": [
        "## Decorator 101\n",
        "\n",
        "Một decorator là một thứ có thể gọi (callable), chúng nhận vào một hàm khác (một hàm được trang trí (decoratored function)) và trả về hàm đó hay thay thế nó bằng một hàm khác hoặc một đối tượng có thể gọi khác. \n",
        "\n",
        "Nói cách khác, dòng code dưới đây"
      ]
    },
    {
      "cell_type": "code",
      "metadata": {
        "id": "StgkehvrQDoJ",
        "colab_type": "code",
        "colab": {}
      },
      "source": [
        "@decorate\n",
        "def target():\n",
        "  print('running target()')"
      ],
      "execution_count": 0,
      "outputs": []
    },
    {
      "cell_type": "markdown",
      "metadata": {
        "id": "2BDm8WB6Qp7k",
        "colab_type": "text"
      },
      "source": [
        "Tương tự với các đoạn mã sau"
      ]
    },
    {
      "cell_type": "code",
      "metadata": {
        "id": "diy5U7L9QnlB",
        "colab_type": "code",
        "colab": {}
      },
      "source": [
        "def target():\n",
        "  print('running target()')\n",
        "  \n",
        "target = decorate(target)"
      ],
      "execution_count": 0,
      "outputs": []
    },
    {
      "cell_type": "markdown",
      "metadata": {
        "id": "RJGAU9EPQ6tG",
        "colab_type": "text"
      },
      "source": [
        "Kết quả của 2 đoạn mã trên là giống nhau; biến ```target``` không nhất thiết phải là hàm ```target``` ban đầu, nó có thể là bất cứ hàm nào được trả về bởi hàm ```decorate```.\n",
        "\n",
        "Để chứng minh cái ta nói nãy giờ, thực hiện đoạn code sau"
      ]
    },
    {
      "cell_type": "code",
      "metadata": {
        "id": "3yXhxa_vRimq",
        "colab_type": "code",
        "colab": {}
      },
      "source": [
        "# Một decorator thường thay thế một hàm với một hàm khác\n",
        "def deco(func):\n",
        "  def inner():\n",
        "    print('running inner()')\n",
        "  return inner # decorator trả về một hàm bên trong nó"
      ],
      "execution_count": 0,
      "outputs": []
    },
    {
      "cell_type": "code",
      "metadata": {
        "id": "TMhhea5AR1Tb",
        "colab_type": "code",
        "colab": {}
      },
      "source": [
        "@deco\n",
        "def target(): #hàm ```target``` là hàm được trang trí bởi ```deco```\n",
        "  print('running target()')\n",
        "  "
      ],
      "execution_count": 0,
      "outputs": []
    },
    {
      "cell_type": "code",
      "metadata": {
        "id": "embknFitSQtX",
        "colab_type": "code",
        "colab": {
          "base_uri": "https://localhost:8080/",
          "height": 34
        },
        "outputId": "91d8dc99-e3f8-493c-9633-78511ca274f2"
      },
      "source": [
        "# Gọi hàm được trang trí target sẽ trả về hàm inner, chứ không phải là hàm target ban đầu nữa\n",
        "target()"
      ],
      "execution_count": 4,
      "outputs": [
        {
          "output_type": "stream",
          "text": [
            "running inner()\n"
          ],
          "name": "stdout"
        }
      ]
    },
    {
      "cell_type": "markdown",
      "metadata": {
        "id": "YOvrt0UGSeyM",
        "colab_type": "text"
      },
      "source": [
        "Bạn thấy ở trên khi ta gọi hàm ```target```, ta nhận được dòng \"running inner\", chứng tỏ rằng hàm được chạy thực chất là hàm ```inner```."
      ]
    },
    {
      "cell_type": "code",
      "metadata": {
        "id": "56Sf71TmSdz-",
        "colab_type": "code",
        "colab": {
          "base_uri": "https://localhost:8080/",
          "height": 34
        },
        "outputId": "06b12f27-4975-4f62-ccbb-9a25e8bb9aed"
      },
      "source": [
        "target"
      ],
      "execution_count": 5,
      "outputs": [
        {
          "output_type": "execute_result",
          "data": {
            "text/plain": [
              "<function __main__.deco.<locals>.inner>"
            ]
          },
          "metadata": {
            "tags": []
          },
          "execution_count": 5
        }
      ]
    },
    {
      "cell_type": "markdown",
      "metadata": {
        "id": "4_P_qjPlSt2o",
        "colab_type": "text"
      },
      "source": [
        "Biến target thực sự là một tham chiếu tới hàm ```inner```"
      ]
    },
    {
      "cell_type": "markdown",
      "metadata": {
        "id": "QM0vulfVTn40",
        "colab_type": "text"
      },
      "source": [
        "Bạn có thể gọi một decorator như bất cứ callable nào, truyền cho nó một hàm khác. Điều này thỉnh thoảng hữu dụng khi ta thực hiện *metaprogramming* - thay đổi cư xử của chương trình tại thời điểm chạy.\n",
        "\n",
        "Tổng kết lại: Decorator có tính năng thay thế một hàm được trang trí với một hàm khác. Điều quan trọng thứ hai đó là chúng được thực thi ngay sau khi module được nạp. Tôi sẽ giải thích điều đó ngay sau đây."
      ]
    },
    {
      "cell_type": "markdown",
      "metadata": {
        "id": "8oQqxbedU_BK",
        "colab_type": "text"
      },
      "source": [
        "## Khi nào thì Python thực thi các decorators.\n",
        "\n",
        "Một đặc tính của các decorators là chúng chạy ngay sau khi hàm được trang trí được định nghĩa. Xem xét ví dụ sau:\n"
      ]
    },
    {
      "cell_type": "code",
      "metadata": {
        "id": "5lIHgon5Ssqv",
        "colab_type": "code",
        "colab": {
          "base_uri": "https://localhost:8080/",
          "height": 50
        },
        "outputId": "2593e421-1ef7-48aa-a8b4-2af47159f988"
      },
      "source": [
        "registry = [] # registry sẽ giữ các tham chiếu tới các hàm được trang trí bởi register\n",
        "\n",
        "def register(func): # register nhận một hàm như là tham số\n",
        "  print('running register (%s)' % func) # hiển thị tên hàm được trang trí\n",
        "  registry.append(func) # cho tham chiếu tới hàm vào registry\n",
        "  return func # trả về hàm y hệt như hàm nhận được\n",
        "\n",
        "# f1 và f2 được trang trí bởi register\n",
        "@register\n",
        "def f1():\n",
        "  print('running f1()')\n",
        "  \n",
        "@register\n",
        "def f2():\n",
        "  print('running f2()')\n",
        "  \n",
        "# f3 không được trang trí bởi register\n",
        "def f3():\n",
        "  print('running f3()')"
      ],
      "execution_count": 7,
      "outputs": [
        {
          "output_type": "stream",
          "text": [
            "running register (<function f1 at 0x7fbf7fc07f28>)\n",
            "running register (<function f2 at 0x7fbf7fc07620>)\n"
          ],
          "name": "stdout"
        }
      ]
    },
    {
      "cell_type": "markdown",
      "metadata": {
        "id": "A8vuKpP8Y45l",
        "colab_type": "text"
      },
      "source": [
        "Ta có thể thấy ngay khi định nghĩa hàm thì các decorators đã chạy."
      ]
    },
    {
      "cell_type": "code",
      "metadata": {
        "id": "lSZ0wNx_Xc8N",
        "colab_type": "code",
        "colab": {
          "base_uri": "https://localhost:8080/",
          "height": 101
        },
        "outputId": "f16504c3-8065-44d7-8cf9-b623c3ce1b9d"
      },
      "source": [
        "print('running main()')\n",
        "print('registry -> ', registry)\n",
        "f1()\n",
        "f2()\n",
        "f3()\n"
      ],
      "execution_count": 8,
      "outputs": [
        {
          "output_type": "stream",
          "text": [
            "running main()\n",
            "registry ->  [<function f1 at 0x7fbf7fc07f28>, <function f2 at 0x7fbf7fc07620>]\n",
            "running f1()\n",
            "running f2()\n",
            "running f3()\n"
          ],
          "name": "stdout"
        }
      ]
    },
    {
      "cell_type": "code",
      "metadata": {
        "id": "Xb1-zxFbZFbL",
        "colab_type": "code",
        "colab": {}
      },
      "source": [
        ""
      ],
      "execution_count": 0,
      "outputs": []
    }
  ]
}