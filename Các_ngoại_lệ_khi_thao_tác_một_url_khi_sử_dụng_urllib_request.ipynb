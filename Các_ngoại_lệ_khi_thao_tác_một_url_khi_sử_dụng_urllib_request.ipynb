{
  "nbformat": 4,
  "nbformat_minor": 0,
  "metadata": {
    "colab": {
      "name": "Các ngoại lệ khi thao tác một url khi sử dụng urllib.request.ipynb",
      "version": "0.3.2",
      "provenance": [],
      "collapsed_sections": [],
      "include_colab_link": true
    },
    "kernelspec": {
      "name": "python3",
      "display_name": "Python 3"
    }
  },
  "cells": [
    {
      "cell_type": "markdown",
      "metadata": {
        "id": "view-in-github",
        "colab_type": "text"
      },
      "source": [
        "<a href=\"https://colab.research.google.com/github/vuduclyunitn/learning_python/blob/master/C%C3%A1c_ngo%E1%BA%A1i_l%E1%BB%87_khi_thao_t%C3%A1c_m%E1%BB%99t_url_khi_s%E1%BB%AD_d%E1%BB%A5ng_urllib_request.ipynb\" target=\"_parent\"><img src=\"https://colab.research.google.com/assets/colab-badge.svg\" alt=\"Open In Colab\"/></a>"
      ]
    },
    {
      "cell_type": "markdown",
      "metadata": {
        "id": "5PHtPG-Q1MwC",
        "colab_type": "text"
      },
      "source": [
        "# Dịch và bổ sung từ: https://docs.python.org/3/library/urllib.error.html"
      ]
    },
    {
      "cell_type": "markdown",
      "metadata": {
        "id": "qavMnLcHpoJQ",
        "colab_type": "text"
      },
      "source": [
        "  ```urllib.error``` là một module định nghĩa các lớp ngoại lệ cho các ngoại lệ xuất phát từ module ```urllib.request```. Lớp ngoại lệ cơ sở là ```URLError```.  Các ngoại lệ dưới đây được sinh ra bởi ```urllib.error``` trong các tình huống phù hợp tương ứng.\n"
      ]
    },
    {
      "cell_type": "markdown",
      "metadata": {
        "id": "BSiEo-7lrDGC",
        "colab_type": "text"
      },
      "source": [
        "### 1. Ngoại lệ ```urllib.error.URLERROR```\n",
        "Các đoạn mã xử lý sinh ra ngoại lệ này (hoặc các ngoại lệ được dẫn xuất) khi chúng gặp một vấn đề. Lớp này là một lớp con của ```OSError```\n",
        "\n",
        "**reason**: tên của thuộc tính chỉ  nguyên nhân của ngoại lệ, nó có thể là một chuỗi thông báo hoặc là một hiện diện (instance) của một lớp ngoại lệ khác"
      ]
    },
    {
      "cell_type": "code",
      "metadata": {
        "id": "pNgfcz3QrCYo",
        "colab_type": "code",
        "colab": {}
      },
      "source": [
        "from urllib.request import urlopen\n",
        "from urllib.error import URLError\n",
        "\n",
        "try:\n",
        "  url = urlopen(\"https://www.google.com/\")\n",
        "except URLError as e:\n",
        "  print(f\"Reason: {e.reason}\")"
      ],
      "execution_count": 0,
      "outputs": []
    },
    {
      "cell_type": "markdown",
      "metadata": {
        "id": "fIut9NLVuau7",
        "colab_type": "text"
      },
      "source": [
        "###2. Ngoại lệ  ```urllib.error.HTTPError``` \n",
        "Là một ngoại lệ con của ```URLERROR``` , ngoại lệ ```HTTPError``` có thể có chức năng như là một giá trị trả về giống như file không có ngoại lệ. Điều này hữu ích khi ta thao tác với các lỗi trả về HTTP lạ, ví dụ như các yêu cầu cho xác thực. \n",
        "\n",
        "**code**: mã trả về hiển thị trạng thái của kết nối HTTP. Giá trị trả về này tương ứng với các giá trị trong từ điển các mã [http.server.BaseHTTPRequestHandler.responses](https://docs.python.org/3/library/http.server.html#http.server.BaseHTTPRequestHandler.responses)\n",
        "\n",
        "**reason**: đây thường là một chuỗi văn bản mô tả lý do lỗi xảy ra.\n",
        "\n",
        "**headers**: Các headers của yêu cầu giao tiếp HTTP gây ra lỗi\n"
      ]
    },
    {
      "cell_type": "code",
      "metadata": {
        "id": "yuF9QauRq256",
        "colab_type": "code",
        "colab": {}
      },
      "source": [
        "from urllib.request import urlopen\n",
        "from urllib.error import HTTPError\n",
        "\n",
        "try:\n",
        "  url = urlopen(\"https://www.google.com/\")\n",
        "except HTTPError as e:\n",
        "  print(f\"Code: {e.code}\")\n",
        "  print(f\"Reason: {e.reason}\")\n",
        "  print(f\"Headers: {e.headers}\")"
      ],
      "execution_count": 0,
      "outputs": []
    },
    {
      "cell_type": "markdown",
      "metadata": {
        "id": "r0k2w1gfycdp",
        "colab_type": "text"
      },
      "source": [
        "### 3. Ngoại lệ ```urllib.error.ContentTooShortError(msg, content)```\n",
        "Ngoại lệ này được sinh ra khi hàm ```urlretrieve()``` phát hiện thấy lượng dữ liệu được tải về nhỏ hơn mong đợi (được xác định bởi trường *Content-Length* ). Thuộc tính ```content``` lưu dữ liệu tải về (đã được cắt ngắn)\n"
      ]
    },
    {
      "cell_type": "code",
      "metadata": {
        "id": "7KuBMc3_zl0G",
        "colab_type": "code",
        "colab": {}
      },
      "source": [
        "from urllib.request import urlopen\n",
        "from urllib.error import ContentTooShortError\n",
        "\n",
        "try:\n",
        "  url = urlopen(\"https://www.google.com/\")\n",
        "except ContentTooShortError as e:\n",
        "  print(f\"Error: {e}\")"
      ],
      "execution_count": 0,
      "outputs": []
    }
  ]
}