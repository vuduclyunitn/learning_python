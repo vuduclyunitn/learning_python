{
  "nbformat": 4,
  "nbformat_minor": 0,
  "metadata": {
    "colab": {
      "name": "Tìm hiểu về Redis Queue (RQ).ipynb",
      "version": "0.3.2",
      "provenance": [],
      "include_colab_link": true
    },
    "kernelspec": {
      "name": "python3",
      "display_name": "Python 3"
    }
  },
  "cells": [
    {
      "cell_type": "markdown",
      "metadata": {
        "id": "view-in-github",
        "colab_type": "text"
      },
      "source": [
        "<a href=\"https://colab.research.google.com/github/vuduclyunitn/learning_python/blob/master/T%C3%ACm_hi%E1%BB%83u_v%E1%BB%81_Redis_Queue_(RQ).ipynb\" target=\"_parent\"><img src=\"https://colab.research.google.com/assets/colab-badge.svg\" alt=\"Open In Colab\"/></a>"
      ]
    },
    {
      "cell_type": "markdown",
      "metadata": {
        "id": "HFMKVxFrXmne",
        "colab_type": "text"
      },
      "source": [
        "# Dịch và bổ sung từ https://python-rq.org/"
      ]
    },
    {
      "cell_type": "markdown",
      "metadata": {
        "id": "O_z4j4wb1QN6",
        "colab_type": "text"
      },
      "source": [
        "Redis Queue là một thư viện đơn giản viết bằng Python nhằm sắp hàng (queueing) các công việc (jobs) và xử lý ngầm chúng với các người làm (workers). Phía sau RQ là Redis, thư viện này được thiết kế để  tạo ra một rào chắn thấp dễ dàng cho việc đi vào. Nó có thể được tích hợp với ngăn xếp web dễ dangf.\n",
        "\n",
        "RQ yêu cầu Redis phiên bản lớn hơn hoặc bằng 3.0.0"
      ]
    },
    {
      "cell_type": "markdown",
      "metadata": {
        "id": "uBTlaI6QXuqQ",
        "colab_type": "text"
      },
      "source": [
        "## Bắt đầu\n",
        "Đầu tiên bạn cần chạy một máy chủ Redis, hoặc bạn có thể sử dụng một máy chủ có sẵn. Để đặt các công việc vào hàng đợi (queues), bạn chỉ cần định nghĩa các hàm."
      ]
    },
    {
      "cell_type": "code",
      "metadata": {
        "id": "Df8bYb0kXuEg",
        "colab_type": "code",
        "colab": {}
      },
      "source": [
        "# Cài đặt redis\n",
        "!pip install rq"
      ],
      "execution_count": 0,
      "outputs": []
    },
    {
      "cell_type": "code",
      "metadata": {
        "id": "s7K8tSsUYNt8",
        "colab_type": "code",
        "colab": {}
      },
      "source": [
        ""
      ],
      "execution_count": 0,
      "outputs": []
    },
    {
      "cell_type": "markdown",
      "metadata": {
        "id": "up3fzN9DGHoa",
        "colab_type": "text"
      },
      "source": [
        "## Jobs\n",
        "\n",
        "Một công việc (job) là một đối tượng trong Python, biểu diễn một hàm được gọi bất động bộ trong một tiến trình người làm, tiến trình chạy ngầm. Bất cứ hàm nào cũng có thể được gọi bất đồng bộ bằng cách đưa một tham chiếu tới hàm và các tham số của nó vào hàng đợi. Đó được gọi là *enqueueing*"
      ]
    },
    {
      "cell_type": "markdown",
      "metadata": {
        "id": "aZN2gpteG1u_",
        "colab_type": "text"
      },
      "source": [
        "## Đưa các công công việc vào hàng đợi\n",
        "\n",
        "Để đưa các công việc vào các hàng đợi, trước tiên ta cần khai báo một hàm, ví dụ hàm dưới đây:\n"
      ]
    },
    {
      "cell_type": "code",
      "metadata": {
        "id": "wNRCpAHBHGzw",
        "colab_type": "code",
        "colab": {}
      },
      "source": [
        "import requests\n",
        "\n",
        "def count_words_at_url(url):\n",
        "  resp = requests.get(url)\n",
        "  return len(resp.text.split())"
      ],
      "execution_count": 0,
      "outputs": []
    },
    {
      "cell_type": "markdown",
      "metadata": {
        "id": "b9IXx6CrMwTM",
        "colab_type": "text"
      },
      "source": [
        "Bạn có thể thấy rằng hàm trên không có gì đặc biệt cả! Bất cứ hàm nào cũng có thể được cho vào một hàng đợi RQ."
      ]
    },
    {
      "cell_type": "markdown",
      "metadata": {
        "id": "YrNuK49iNETD",
        "colab_type": "text"
      },
      "source": [
        "Để thực hiện hàm này ở chế đồ ngầm, bạn thực hiện"
      ]
    },
    {
      "cell_type": "code",
      "metadata": {
        "id": "p40NlyhjNDnP",
        "colab_type": "code",
        "colab": {}
      },
      "source": [
        "from rq import Queue\n",
        "from redis import Redis\n",
        "from somewhere import count_words_at_url\n",
        "import time\n",
        "\n",
        "# Nói cho RQ biết bạn sử dụng kết Redis nào\n",
        "redis_conn = Redis()\n",
        "\n",
        "# Không có tham số nào truyền vào redis_conn nghĩa là sử dụng hàng đợi mặc định\n",
        "q = Queue(connection=redis_conn)\n",
        "\n",
        "# Trì hoãn thực thi hàm count_words_at_url('http://nvie.com')\n",
        "job = q.enqueue(count_words_at_url, 'http://nvie.com')\n",
        "print(job.result)  # Kết quả là None\n",
        "\n",
        "# Bây giờ ta cần chờ cho đến khi công việc được hoàn thành\n",
        "time.sleep(2)\n",
        "print(job.result)\n"
      ],
      "execution_count": 0,
      "outputs": []
    },
    {
      "cell_type": "code",
      "metadata": {
        "id": "36OSiSkgRZIC",
        "colab_type": "code",
        "colab": {}
      },
      "source": [
        ""
      ],
      "execution_count": 0,
      "outputs": []
    }
  ]
}