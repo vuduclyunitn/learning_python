{
  "nbformat": 4,
  "nbformat_minor": 0,
  "metadata": {
    "colab": {
      "name": "Tìm hiểu về Redis Queue (RQ).ipynb",
      "version": "0.3.2",
      "provenance": [],
      "include_colab_link": true
    },
    "kernelspec": {
      "name": "python3",
      "display_name": "Python 3"
    }
  },
  "cells": [
    {
      "cell_type": "markdown",
      "metadata": {
        "id": "view-in-github",
        "colab_type": "text"
      },
      "source": [
        "<a href=\"https://colab.research.google.com/github/vuduclyunitn/learning_python/blob/master/T%C3%ACm_hi%E1%BB%83u_v%E1%BB%81_Redis_Queue_(RQ).ipynb\" target=\"_parent\"><img src=\"https://colab.research.google.com/assets/colab-badge.svg\" alt=\"Open In Colab\"/></a>"
      ]
    },
    {
      "cell_type": "markdown",
      "metadata": {
        "id": "O_z4j4wb1QN6",
        "colab_type": "text"
      },
      "source": [
        "Redis Queue là một thư viện đơn giản viết bằng Python nhằm sắp hàng (queueing) các công việc (jobs) và xử lý ngầm chúng với các người làm (workers). Phía sau RQ là Redis, thư viện này được thiết kế để  tạo ra một rào chắn thấp dễ dàng cho việc đi vào. Nó có thể được tích hợp với ngăn xếp web dễ dangf.\n",
        "\n",
        "RQ yêu cầu Redis phiên bản lớn hơn hoặc bằng 3.0.0"
      ]
    }
  ]
}